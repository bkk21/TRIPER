{
 "cells": [
  {
   "cell_type": "code",
   "execution_count": 1,
   "metadata": {},
   "outputs": [],
   "source": [
    "import json\n",
    "import time\n",
    "from time import sleep\n",
    "import csv\n",
    "from selenium import webdriver\n",
    "from selenium.webdriver.common.by import By\n",
    "from selenium.webdriver.common.keys import Keys\n",
    "from selenium.webdriver.support import expected_conditions as EC\n",
    "from selenium.webdriver.support.ui import WebDriverWait\n",
    "from pandas import *"
   ]
  },
  {
   "cell_type": "code",
   "execution_count": 78,
   "metadata": {},
   "outputs": [],
   "source": [
    "#가게 이름, 가게 유형, 주소, 대표 메뉴 1개, 메뉴 설명, 리뷰 5개\n",
    "def search_food(key):\n",
    "    try:\n",
    "        \n",
    "        food_list = []\n",
    "        \n",
    "        url = 'https://map.naver.com/v5/search'\n",
    "        driver = webdriver.Chrome()  # 드라이버 경로\n",
    "        # driver = webdriver.Chrome('./chromedriver',chrome_options=options) # 크롬창 숨기기\n",
    "        driver.get(url)\n",
    "        key_word = key  # 검색어\n",
    "\n",
    "        # css 찾을때 까지 10초대기\n",
    "        def time_wait(num, code):\n",
    "            try:\n",
    "                wait = WebDriverWait(driver, num).until(\n",
    "                    EC.presence_of_element_located((By.CSS_SELECTOR, code)))\n",
    "            except:\n",
    "                print(code, '태그를 찾지 못하였습니다.')\n",
    "                driver.quit()\n",
    "            return wait\n",
    "\n",
    "        # frame 변경 메소드\n",
    "        def switch_frame(frame):\n",
    "            driver.switch_to.default_content()  # frame 초기화\"\n",
    "            driver.switch_to.frame(frame)  # frame 변경\n",
    "\n",
    "        # 페이지 다운\n",
    "        def page_down(num):\n",
    "            body = driver.find_element(By.CSS_SELECTOR, 'body')\n",
    "            body.click()\n",
    "            for i in range(num):\n",
    "                body.send_keys(Keys.PAGE_DOWN)\n",
    "\n",
    "        # css를 찾을때 까지 10초 대기\n",
    "        time_wait(10, 'div.input_box > input.input_search')\n",
    "\n",
    "        # (1) 검색창 찾기\n",
    "        search = driver.find_element(By.CSS_SELECTOR, 'div.input_box > input.input_search')\n",
    "        search.send_keys(key_word)  # 검색어 입력\n",
    "        search.send_keys(Keys.ENTER)  # 엔터버튼 누르기\n",
    "\n",
    "        sleep(5)\n",
    "        \n",
    "        url_str = driver.current_url\n",
    "        if url_str.find(\"isCorrectAnswer\") == -1:\n",
    "            print(url_str)\n",
    "            print(\"결과 여러 개 존재(지점 또는 근접 지역)\")\n",
    "            \n",
    "            search = driver.find_elements(By.ID, \"searchIframe\")\n",
    "            # frame 변경\n",
    "            switch_frame('searchIframe')\n",
    "            sleep(2)\n",
    "        \n",
    "            #검색 결과 없음\n",
    "            place_none = driver.find_elements(By.CSS_SELECTOR, '.FYvSc')\n",
    "            \n",
    "            for i in range(len(place_none)):\n",
    "                if place_none[i].text == \"조건에 맞는 업체가 없습니다.\":\n",
    "                    tmp = DataFrame({'가게명': \"-\", '가게 유형' :\"-\", '가게 주소': \"-\",\n",
    "                            '메뉴 이름':\"-\", '메뉴 설명' : \"-\", \"리뷰1\": \"-\", \"리뷰2\": \"-\", \"리뷰3\": \"-\", \"리뷰4\": \"-\",\"리뷰5\": \"-\"}, index = [0])\n",
    "                    print(\"가게 없음\")\n",
    "                    return tmp\n",
    "            \n",
    "            tmp_shop = driver.find_elements(By.CSS_SELECTOR, '.YwYLL')\n",
    "            if tmp_shop == []:\n",
    "                tmp_shop = driver.find_elements(By.CSS_SELECTOR, '.place_bluelink')\n",
    "            tmp_shop[0].click()\n",
    "            \n",
    "            sleep(5)\n",
    "        \n",
    "        else:\n",
    "            print(url_str)\n",
    "            print(\"결과 한 개\")\n",
    "            \n",
    "        \n",
    "        try:\n",
    "        \n",
    "            # (2) frame 변경\n",
    "            switch_frame('entryIframe')\n",
    "            #page_down(40)\n",
    "            sleep(2)\n",
    "\n",
    "            # 시작시간\n",
    "            start = time.time()\n",
    "            print('\\n[크롤링 시작...]')\n",
    "            \n",
    "        except:\n",
    "            tmp = DataFrame({'가게명': \"-\", '가게 유형' :\"-\", '가게 주소': \"-\",\n",
    "                        '메뉴 이름':\"-\", '메뉴 설명' : \"-\", \"리뷰1\": \"-\", \"리뷰2\": \"-\", \"리뷰3\": \"-\", \"리뷰4\": \"-\",\"리뷰5\": \"-\"}, index = [0])\n",
    "            print(\"오류 예외 처리\")\n",
    "            return tmp\n",
    "        \n",
    "        shop_name = []\n",
    "        shop_type = []\n",
    "        shop_address = []\n",
    "        menu_name = []\n",
    "        menu_story = []\n",
    "        review_1 = []\n",
    "        review_2 = []\n",
    "        review_3 = []\n",
    "        review_4 = []\n",
    "        review_5 = []\n",
    "        \n",
    "\n",
    "        #가게 이름\n",
    "        names = driver.find_elements(By.CSS_SELECTOR, '.GHAhO')  # (3) 장소명\n",
    "        shop_name.append(names[0].text)\n",
    "        print(names[0].text)\n",
    "        \n",
    "        #가게 타입\n",
    "        types = driver.find_elements(By.CSS_SELECTOR, '.lnJFt')  # (4) 장소 유형\n",
    "        shop_type.append(types[0].text)\n",
    "        print(types[0].text)\n",
    "        \n",
    "        #가게 주소\n",
    "        address = driver.find_elements(By.CSS_SELECTOR, '.LDgIH') # (5) 주소\n",
    "        shop_address.append(address[0].text)\n",
    "        print(address[0].text)\n",
    "        \n",
    "        #버튼 정의\n",
    "        home_list = driver.find_elements(By.CSS_SELECTOR, \".veBoZ\") # (6) 리뷰\n",
    "        \n",
    "        #잠시 대기\n",
    "        sleep(3)\n",
    "        \n",
    "        #배달 포장 여부\n",
    "        order = driver.find_elements(By.XPATH, '/html/body/div[3]/div/div/div/div[2]/div[4]/div')\n",
    "        order2 = driver.find_elements(By.XPATH, '//*[@id=\"app-root\"]/div/div/div/div[2]/div[4]/div/span/a')\n",
    "        \n",
    "        #print(order2)\n",
    "        #print(order[0].text)\n",
    "        if order[0].text == \"주문준비중\" or order[0].text == \"주문\\n배달\" or order[0].text == \"예약\\n주문준비중\" or order[0].text == \"예약\\n주문\":\n",
    "            order_result = 1 #배달 포장 가능\n",
    "            print(\"주문 유형 1\")\n",
    "            \n",
    "        elif (len(order2) != 0) and (order2[0].text == \"주문\"):\n",
    "            order_result = 1 #배달 포장 가능\n",
    "            print(\"주문 유형 2\")\n",
    "            \n",
    "        else:\n",
    "            order_result = 0 #배달 포장 불가능\n",
    "            print(\"주문 유형 3\")\n",
    "        \n",
    "        #메뉴 버튼 클릭\n",
    "        for k in range(len(home_list)):\n",
    "            if home_list[k].text == \"메뉴\":\n",
    "                #print(home_list[k].text)\n",
    "                home_list[k].click()\n",
    "                sleep(3)\n",
    "                break\n",
    "            else:\n",
    "                continue\n",
    "        \n",
    "        #배달 불가\n",
    "        if order_result == 0:\n",
    "            #상위 메뉴 1개 이름\n",
    "            #print(menu_name)\n",
    "            \n",
    "            menu_btn_1 = driver.find_elements(By.CSS_SELECTOR, \".lPzHi\") # (6-1) 메뉴\n",
    "            \n",
    "            if menu_btn_1 == []:\n",
    "                menu_name.append(\"\")\n",
    "                print(\"대표 메뉴 없음\")\n",
    "            else: \n",
    "                menu_name.append(menu_btn_1[0].text)\n",
    "                print(menu_btn_1[0].text)\n",
    "\n",
    "            #메뉴 설명\n",
    "            menu_btn_2 = driver.find_elements(By.CSS_SELECTOR, \".kPogF\") # (6-2) 메뉴 설명\n",
    "            if menu_btn_2 == []:\n",
    "                menu_story.append(\"\")\n",
    "                print(\"메뉴 설명 없음\")\n",
    "                \n",
    "            else:\n",
    "                menu_story.append(menu_btn_2[0].text)\n",
    "                print(menu_btn_2[0].text)\n",
    "            \n",
    "            sleep(3)\n",
    "            \n",
    "            \n",
    "            try:\n",
    "                #리뷰 버튼 클릭\n",
    "                #메뉴 버튼 클릭\n",
    "                for k in range(len(home_list)):\n",
    "                    if home_list[k].text == \"리뷰\":\n",
    "                        home_list[k].click()\n",
    "                        sleep(3)\n",
    "                        break\n",
    "                    else:\n",
    "                        continue\n",
    "            except:\n",
    "                tmp = DataFrame({'가게명': \"-\", '가게 유형' :\"-\", '가게 주소': \"-\",\n",
    "                        '메뉴 이름':\"-\", '메뉴 설명' : \"-\", \"리뷰1\": \"-\", \"리뷰2\": \"-\", \"리뷰3\": \"-\", \"리뷰4\": \"-\",\"리뷰5\": \"-\"}, index = [0])\n",
    "                print(\"오류 예외 처리\")\n",
    "                return tmp\n",
    "                \n",
    "            \n",
    "        #배달 가능\n",
    "        else:\n",
    "            sleep(3)\n",
    "            #상위 메뉴 1개 이름\n",
    "            #box = driver.find_elements(By.CSS_SELECTOR, \".info_detail\")\n",
    "            \n",
    "            menu_btn_1 = driver.find_elements(By.CSS_SELECTOR, \".tit\") # (6-1) 메뉴\n",
    "            #print(menu_btn_1)\n",
    "            menu_name.append(menu_btn_1[0].text)\n",
    "            print(menu_btn_1[0].text)\n",
    "            \n",
    "            #메뉴 설명\n",
    "            menu_btn_2 = driver.find_elements(By.CSS_SELECTOR, \".detail_txt\") # (6-2) 메뉴 설명\n",
    "            if menu_btn_2 == []:\n",
    "                menu_story.append(\"\")\n",
    "                print(\"메뉴 설명 없음\")\n",
    "                \n",
    "            else:\n",
    "                menu_story.append(menu_btn_2[0].text)\n",
    "                print(menu_btn_2[0].text)\n",
    "            \n",
    "            sleep(3)\n",
    "            \n",
    "            \n",
    "            try:\n",
    "                #리뷰 버튼 클릭\n",
    "                #메뉴 버튼 클릭\n",
    "                home_review_list = driver.find_elements(By.CSS_SELECTOR, '.txt')\n",
    "                for k in range(len(home_review_list)):\n",
    "                    if home_review_list[k].text == \"리뷰\":\n",
    "                        home_review_list[k].click()\n",
    "                        sleep(3)\n",
    "                        break\n",
    "                    else:\n",
    "                        continue\n",
    "            except:\n",
    "                tmp = DataFrame({'가게명': \"-\", '가게 유형' :\"-\", '가게 주소': \"-\",\n",
    "                        '메뉴 이름':\"-\", '메뉴 설명' : \"-\", \"리뷰1\": \"-\", \"리뷰2\": \"-\", \"리뷰3\": \"-\", \"리뷰4\": \"-\",\"리뷰5\": \"-\"}, index = [0])\n",
    "                print(\"오류 예외 처리\")\n",
    "                return tmp\n",
    "            \n",
    "        #리뷰 찾기\n",
    "        review_btn = driver.find_elements(By.CSS_SELECTOR, \".t3JSf\") # (7) 리뷰\n",
    "        \n",
    "        #이런 점이 좋았어요\n",
    "        review_love = driver.find_elements(By.CSS_SELECTOR, \".place_section_header_title\")\n",
    "\n",
    "\n",
    "        \n",
    "        review_love_yes = 0\n",
    "        for i in range(len(review_love)):\n",
    "            if review_love[i].text == \"이런 점이 좋았어요\\n안내\":\n",
    "                review_love_yes = 1\n",
    "                print(\"리뷰 존재\")\n",
    "                break\n",
    "            else:\n",
    "                continue\n",
    "                \n",
    "        \n",
    "        if review_love_yes == 0:\n",
    "            tmp = DataFrame({'가게명': \"-\", '가게 유형' :\"-\", '가게 주소': \"-\",\n",
    "                        '메뉴 이름':\"-\", '메뉴 설명' : \"-\", \"리뷰1\": \"-\", \"리뷰2\": \"-\", \"리뷰3\": \"-\", \"리뷰4\": \"-\",\"리뷰5\": \"-\"}, index = [0])\n",
    "        \n",
    "        else:\n",
    "            \n",
    "            num_10_none = driver.find_elements(By.CSS_SELECTOR, \".zXXsw\")\n",
    "            \n",
    "            if num_10_none != []:\n",
    "                if num_10_none[0].text == \"10명 이상 참여하면\\n방문 키워드 통계가 공개됩니다!\":\n",
    "                    print(\"리뷰 10명 이하 참여\")\n",
    "                    tmp = DataFrame({'가게명': \"-\", '가게 유형' :\"-\", '가게 주소': \"-\",\n",
    "                            '메뉴 이름':\"-\", '메뉴 설명' : \"-\", \"리뷰1\": \"-\", \"리뷰2\": \"-\", \"리뷰3\": \"-\", \"리뷰4\": \"-\",\"리뷰5\": \"-\"}, index = [0])\n",
    "                \n",
    "            #리뷰 10명 이하 참여\n",
    "            #if num_10_none[0].text == \"10명 이상 참여하면\\n방문 키워드 통계가 공개됩니다!\":\n",
    "            #    tmp = DataFrame({'가게명': \"-\", '가게 유형' :\"-\", '가게 주소': \"-\",\n",
    "            #            '메뉴 이름':\"-\", '메뉴 설명' : \"-\", \"리뷰1\": \"-\", \"리뷰2\": \"-\", \"리뷰3\": \"-\", \"리뷰4\": \"-\",\"리뷰5\": \"-\"}, index = [0])\n",
    "            \n",
    "            #리뷰 10명 이상 참여\n",
    "            else:\n",
    "                #리뷰 1\n",
    "                real_review = review_btn[0].text.split('\"')\n",
    "                review_1.append(real_review[1])\n",
    "                print(real_review[1])\n",
    "                #리뷰 2\n",
    "                real_review = review_btn[1].text.split('\"')\n",
    "                review_2.append(real_review[1])\n",
    "                print(real_review[1])\n",
    "                #리뷰 3\n",
    "                real_review = review_btn[2].text.split('\"')\n",
    "                review_3.append(real_review[1])\n",
    "                print(real_review[1])\n",
    "                #리뷰 4\n",
    "                real_review = review_btn[3].text.split('\"')\n",
    "                review_4.append(real_review[1])\n",
    "                print(real_review[1])\n",
    "                #리뷰 5\n",
    "                real_review = review_btn[4].text.split('\"')\n",
    "                review_5.append(real_review[1])\n",
    "                print(real_review[1])\n",
    "            \n",
    "                tmp = DataFrame({'가게명': shop_name, '가게 유형' :shop_type, '가게 주소': shop_address,\n",
    "                                '메뉴 이름':menu_name, '메뉴 설명' : menu_story, \"리뷰1\": review_1, \"리뷰2\": review_2, \"리뷰3\": review_3, \"리뷰4\": review_4,\"리뷰5\": review_5})\n",
    "\n",
    "        print(f'{shop_name} ...완료')\n",
    "\n",
    "        sleep(1)\n",
    "\n",
    "        print('[데이터 수집 완료]\\n소요 시간 :', time.time() - start, \"\\n\")\n",
    "        driver.quit()  # 작업이 끝나면 창을 닫는다.\n",
    "        \n",
    "        return tmp\n",
    "    \n",
    "    except:\n",
    "        tmp = DataFrame({'가게명': \"-\", '가게 유형' :\"-\", '가게 주소': \"-\",\n",
    "                        '메뉴 이름':\"-\", '메뉴 설명' : \"-\", \"리뷰1\": \"-\", \"리뷰2\": \"-\", \"리뷰3\": \"-\", \"리뷰4\": \"-\",\"리뷰5\": \"-\"}, index = [0])\n",
    "        print(\"오류 예외 처리\")\n",
    "        return tmp"
   ]
  },
  {
   "cell_type": "code",
   "execution_count": 79,
   "metadata": {},
   "outputs": [
    {
     "name": "stdout",
     "output_type": "stream",
     "text": [
      "0번째 가게\n"
     ]
    },
    {
     "name": "stderr",
     "output_type": "stream",
     "text": [
      "The chromedriver version (128.0.6613.137) detected in PATH at c:\\Users\\kk21\\Desktop\\TRIPER\\chromedriver.exe might not be compatible with the detected chrome version (129.0.6668.101); currently, chromedriver 129.0.6668.100 is recommended for chrome 129.*, so it is advised to delete the driver in PATH and retry\n"
     ]
    },
    {
     "name": "stdout",
     "output_type": "stream",
     "text": [
      "https://map.naver.com/p/search/%EA%B0%95%EC%84%9C%EA%B5%AC%20%EC%B6%98%20%EB%A7%88%EA%B3%A1%EC%A0%90/place/1785581002?c=15.00,0,0,0,dh&isCorrectAnswer=true\n",
      "결과 한 개\n",
      "\n",
      "[크롤링 시작...]\n",
      "춘 마곡점\n",
      "이자카야\n",
      "서울 강서구 마곡중앙6로 70 2층 210호, 211호\n",
      "주문 유형 3\n",
      "모둠 사시미\n",
      "10종류 이상의 구성으로 32피스 이상 제공\n",
      "리뷰 존재\n",
      "음식이 맛있어요\n",
      "기본 안주가 좋아요\n",
      "인테리어가 멋져요\n",
      "친절해요\n",
      "특별한 메뉴가 있어요\n",
      "['춘 마곡점'] ...완료\n",
      "[데이터 수집 완료]\n",
      "소요 시간 : 13.477749586105347 \n",
      "\n",
      "1번째 가게\n"
     ]
    },
    {
     "name": "stderr",
     "output_type": "stream",
     "text": [
      "The chromedriver version (128.0.6613.137) detected in PATH at c:\\Users\\kk21\\Desktop\\TRIPER\\chromedriver.exe might not be compatible with the detected chrome version (129.0.6668.101); currently, chromedriver 129.0.6668.100 is recommended for chrome 129.*, so it is advised to delete the driver in PATH and retry\n"
     ]
    },
    {
     "name": "stdout",
     "output_type": "stream",
     "text": [
      "https://map.naver.com/p/search/%EA%B0%95%EC%84%9C%EA%B5%AC%20%EB%8B%A4%EC%98%A8%EB%8B%A4%20%EA%B9%80%EB%B0%A5%EA%B5%AD%EC%88%98/place/1747067359?c=15.00,0,0,0,dh&isCorrectAnswer=true\n",
      "결과 한 개\n",
      "\n",
      "[크롤링 시작...]\n",
      "다온다 김밥국수\n",
      "종합분식\n",
      "서울 강서구 강서로47길 40 1층\n",
      "주문 유형 3\n",
      "잔치국수\n",
      "직접 오래 우린 멸치 육수에, 당일 볶은 신선한 야채 고명을 얹어 맛있게 만들었습니다\n",
      "리뷰 존재\n",
      "음식이 맛있어요\n",
      "재료가 신선해요\n",
      "친절해요\n",
      "가성비가 좋아요\n",
      "혼밥하기 좋아요\n",
      "['다온다 김밥국수'] ...완료\n",
      "[데이터 수집 완료]\n",
      "소요 시간 : 13.413336277008057 \n",
      "\n",
      "2번째 가게\n"
     ]
    },
    {
     "name": "stderr",
     "output_type": "stream",
     "text": [
      "The chromedriver version (128.0.6613.137) detected in PATH at c:\\Users\\kk21\\Desktop\\TRIPER\\chromedriver.exe might not be compatible with the detected chrome version (129.0.6668.101); currently, chromedriver 129.0.6668.100 is recommended for chrome 129.*, so it is advised to delete the driver in PATH and retry\n"
     ]
    },
    {
     "name": "stdout",
     "output_type": "stream",
     "text": [
      "https://map.naver.com/p/search/%EA%B0%95%EC%84%9C%EA%B5%AC%20%EC%98%A4%EC%9C%A0%EB%AF%B8%EB%8B%B9%20%EB%A7%88%EA%B3%A1%EC%A0%90?c=15.00,0,0,0,dh\n",
      "결과 여러 개 존재(지점 또는 근접 지역)\n",
      "\n",
      "[크롤링 시작...]\n",
      "오유미당 마곡점\n",
      "돈가스\n",
      "서울 강서구 마곡중앙6로 66 퀸즈파크텐 1층 B동 120호 오유미당 마곡점\n",
      "주문 유형 3\n",
      "특등심돈카츠\n",
      "살코기의 담백함보다 고소한 지방을 좋아하신다면 원픽\n",
      "리뷰 존재\n",
      "음식이 맛있어요\n",
      "매장이 청결해요\n",
      "친절해요\n",
      "특별한 메뉴가 있어요\n",
      "재료가 신선해요\n",
      "['오유미당 마곡점'] ...완료\n",
      "[데이터 수집 완료]\n",
      "소요 시간 : 13.42097544670105 \n",
      "\n",
      "3번째 가게\n"
     ]
    },
    {
     "name": "stderr",
     "output_type": "stream",
     "text": [
      "The chromedriver version (128.0.6613.137) detected in PATH at c:\\Users\\kk21\\Desktop\\TRIPER\\chromedriver.exe might not be compatible with the detected chrome version (129.0.6668.101); currently, chromedriver 129.0.6668.100 is recommended for chrome 129.*, so it is advised to delete the driver in PATH and retry\n"
     ]
    },
    {
     "name": "stdout",
     "output_type": "stream",
     "text": [
      "https://map.naver.com/p/search/%EA%B0%95%EC%84%9C%EA%B5%AC%20%EC%95%BC%ED%82%A4%EB%8B%88%EC%BF%A0%20%EC%A7%84%EB%B2%94%20%EB%B3%B8%EC%A0%90/place/1923336366?c=15.00,0,0,0,dh&isCorrectAnswer=true\n",
      "결과 한 개\n",
      "\n",
      "[크롤링 시작...]\n",
      "야키니쿠 진범 마곡발산본점\n",
      "육류,고기요리\n",
      "서울 강서구 마곡중앙8로 90 114호\n",
      "주문 유형 3\n",
      "정직한 소고기 범스페셜 세트\n",
      "[300g]-한우A++와 동급인 미국최상위 프라임등급 소고기3부위,제주흑돼지2부위 특별조합\n",
      "리뷰 존재\n",
      "음식이 맛있어요\n",
      "고기 질이 좋아요\n",
      "친절해요\n",
      "인테리어가 멋져요\n",
      "특별한 메뉴가 있어요\n",
      "['야키니쿠 진범 마곡발산본점'] ...완료\n",
      "[데이터 수집 완료]\n",
      "소요 시간 : 13.499037265777588 \n",
      "\n",
      "4번째 가게\n"
     ]
    },
    {
     "name": "stderr",
     "output_type": "stream",
     "text": [
      "The chromedriver version (128.0.6613.137) detected in PATH at c:\\Users\\kk21\\Desktop\\TRIPER\\chromedriver.exe might not be compatible with the detected chrome version (129.0.6668.101); currently, chromedriver 129.0.6668.100 is recommended for chrome 129.*, so it is advised to delete the driver in PATH and retry\n"
     ]
    },
    {
     "name": "stdout",
     "output_type": "stream",
     "text": [
      "https://map.naver.com/p/search/%EA%B0%95%EC%84%9C%EA%B5%AC%20%EC%9A%B0%EC%95%84%ED%95%98%EA%B3%84?c=15.00,0,0,0,dh\n",
      "결과 여러 개 존재(지점 또는 근접 지역)\n",
      "가게 없음\n",
      "5번째 가게\n"
     ]
    },
    {
     "name": "stderr",
     "output_type": "stream",
     "text": [
      "The chromedriver version (128.0.6613.137) detected in PATH at c:\\Users\\kk21\\Desktop\\TRIPER\\chromedriver.exe might not be compatible with the detected chrome version (129.0.6668.101); currently, chromedriver 129.0.6668.100 is recommended for chrome 129.*, so it is advised to delete the driver in PATH and retry\n"
     ]
    },
    {
     "name": "stdout",
     "output_type": "stream",
     "text": [
      "https://map.naver.com/p/search/%EA%B0%95%EC%84%9C%EA%B5%AC%20%EC%B2%AD%EB%B6%81%EA%B2%BD%EC%98%A4%EB%A6%AC/place/1003684124?c=15.00,0,0,0,dh&isCorrectAnswer=true\n",
      "결과 한 개\n",
      "\n",
      "[크롤링 시작...]\n",
      "청북경오리\n",
      "중식당\n",
      "서울 강서구 마곡동로4길 15 엠펠리체 3층\n",
      "주문 유형 3\n",
      "북경오리 한마리\n",
      "쉐프가 직접 테이블 앞에서 서비스 해주는 정통 북경오리 구이\n",
      "리뷰 존재\n",
      "음식이 맛있어요\n",
      "특별한 메뉴가 있어요\n",
      "단체모임 하기 좋아요\n",
      "양이 많아요\n",
      "매장이 넓어요\n",
      "['청북경오리'] ...완료\n",
      "[데이터 수집 완료]\n",
      "소요 시간 : 13.426145553588867 \n",
      "\n",
      "6번째 가게\n"
     ]
    },
    {
     "name": "stderr",
     "output_type": "stream",
     "text": [
      "The chromedriver version (128.0.6613.137) detected in PATH at c:\\Users\\kk21\\Desktop\\TRIPER\\chromedriver.exe might not be compatible with the detected chrome version (129.0.6668.101); currently, chromedriver 129.0.6668.100 is recommended for chrome 129.*, so it is advised to delete the driver in PATH and retry\n"
     ]
    },
    {
     "name": "stdout",
     "output_type": "stream",
     "text": [
      "https://map.naver.com/p/search/%EA%B0%95%EC%84%9C%EA%B5%AC%20%EC%8B%A0%EC%84%B8%EB%8C%80%EB%A7%A5%EC%A3%BC%20%EB%A7%88%EA%B3%A1%EB%82%98%EB%A3%A8%EC%A0%90/place/1232307155?c=15.00,0,0,0,dh&isCorrectAnswer=true\n",
      "결과 한 개\n",
      "\n",
      "[크롤링 시작...]\n",
      "신세대맥주 마곡나루점\n",
      "맥주,호프\n",
      "서울 강서구 마곡중앙로 161-8 1층 제씨-112호 신세대맥주\n",
      "주문 유형 3\n",
      "신세대맥주\n",
      "🍺청량감 100% 냉각기를 거치지않고 깨끗한 맛~ 일품 생맥주!🍻\n",
      "리뷰 존재\n",
      "음식이 맛있어요\n",
      "기본 안주가 좋아요\n",
      "친절해요\n",
      "가성비가 좋아요\n",
      "술이 다양해요\n",
      "['신세대맥주 마곡나루점'] ...완료\n",
      "[데이터 수집 완료]\n",
      "소요 시간 : 13.47955322265625 \n",
      "\n",
      "7번째 가게\n"
     ]
    },
    {
     "name": "stderr",
     "output_type": "stream",
     "text": [
      "The chromedriver version (128.0.6613.137) detected in PATH at c:\\Users\\kk21\\Desktop\\TRIPER\\chromedriver.exe might not be compatible with the detected chrome version (129.0.6668.101); currently, chromedriver 129.0.6668.100 is recommended for chrome 129.*, so it is advised to delete the driver in PATH and retry\n"
     ]
    },
    {
     "name": "stdout",
     "output_type": "stream",
     "text": [
      "https://map.naver.com/p/search/%EA%B0%95%EC%84%9C%EA%B5%AC%20%EA%B0%90%EC%84%B19091%EB%8F%BC%EC%A7%80/place/1027311242?c=15.00,0,0,0,dh&isCorrectAnswer=true\n",
      "결과 한 개\n",
      "\n",
      "[크롤링 시작...]\n",
      "감성9091\n",
      "돼지고기구이\n",
      "서울 강서구 공항대로 345 2층 감성9091돼지\n",
      "주문 유형 3\n",
      "삼겹살\n",
      "국내산 프리미엄 삼겹살\n",
      "리뷰 존재\n",
      "음식이 맛있어요\n",
      "매장이 넓어요\n",
      "친절해요\n",
      "고기 질이 좋아요\n",
      "단체모임 하기 좋아요\n",
      "['감성9091'] ...완료\n",
      "[데이터 수집 완료]\n",
      "소요 시간 : 13.413318395614624 \n",
      "\n",
      "8번째 가게\n"
     ]
    },
    {
     "name": "stderr",
     "output_type": "stream",
     "text": [
      "The chromedriver version (128.0.6613.137) detected in PATH at c:\\Users\\kk21\\Desktop\\TRIPER\\chromedriver.exe might not be compatible with the detected chrome version (129.0.6668.101); currently, chromedriver 129.0.6668.100 is recommended for chrome 129.*, so it is advised to delete the driver in PATH and retry\n"
     ]
    },
    {
     "name": "stdout",
     "output_type": "stream",
     "text": [
      "https://map.naver.com/p/search/%EA%B0%95%EC%84%9C%EA%B5%AC%20%EC%98%A5%EC%86%8C%EB%B0%98%20%EB%A7%88%EA%B3%A1%EB%B3%B8%EC%A0%90?c=15.00,0,0,0,dh\n",
      "결과 여러 개 존재(지점 또는 근접 지역)\n",
      "\n",
      "[크롤링 시작...]\n",
      "옥소반 마곡본점\n",
      "샤브샤브\n",
      "서울 강서구 마곡중앙6로 45 1층 123,124호\n",
      "주문 유형 3\n",
      "런치A세트-샤브샤브(미국산전각)\n",
      "쇠고기(미국산 전각80g)샐러드,신선한야채,단호박,두부,떡,소스3종,칼국수or죽(택1)\n",
      "리뷰 존재\n",
      "음식이 맛있어요\n",
      "재료가 신선해요\n",
      "친절해요\n",
      "인테리어가 멋져요\n",
      "매장이 청결해요\n",
      "['옥소반 마곡본점'] ...완료\n",
      "[데이터 수집 완료]\n",
      "소요 시간 : 13.429945945739746 \n",
      "\n",
      "9번째 가게\n"
     ]
    },
    {
     "name": "stderr",
     "output_type": "stream",
     "text": [
      "The chromedriver version (128.0.6613.137) detected in PATH at c:\\Users\\kk21\\Desktop\\TRIPER\\chromedriver.exe might not be compatible with the detected chrome version (129.0.6668.101); currently, chromedriver 129.0.6668.100 is recommended for chrome 129.*, so it is advised to delete the driver in PATH and retry\n"
     ]
    },
    {
     "name": "stdout",
     "output_type": "stream",
     "text": [
      "https://map.naver.com/p/search/%EA%B0%95%EC%84%9C%EA%B5%AC%20%EC%9D%B4%EA%B0%80%EB%84%A4%20%EC%96%91%EA%B0%88%EB%B9%84%20%EC%96%91%EA%BC%AC%EC%B9%98%20%EB%A7%88%EA%B3%A1%EB%82%98%EB%A3%A8%EC%A0%90/place/1422550293?c=15.00,0,0,0,dh&isCorrectAnswer=true\n",
      "결과 한 개\n",
      "\n",
      "[크롤링 시작...]\n",
      "이가네 양갈비 양꼬치 마곡나루점\n",
      "양꼬치\n",
      "서울 강서구 마곡중앙로 161-8 두산더랜드파크b동제1층 110호\n",
      "주문 유형 3\n",
      "양갈비\n",
      "메인요리\n",
      "리뷰 존재\n",
      "음식이 맛있어요\n",
      "고기 질이 좋아요\n",
      "친절해요\n",
      "매장이 청결해요\n",
      "가성비가 좋아요\n",
      "['이가네 양갈비 양꼬치 마곡나루점'] ...완료\n",
      "[데이터 수집 완료]\n",
      "소요 시간 : 13.400138139724731 \n",
      "\n",
      "10번째 가게\n"
     ]
    },
    {
     "name": "stderr",
     "output_type": "stream",
     "text": [
      "The chromedriver version (128.0.6613.137) detected in PATH at c:\\Users\\kk21\\Desktop\\TRIPER\\chromedriver.exe might not be compatible with the detected chrome version (129.0.6668.101); currently, chromedriver 129.0.6668.100 is recommended for chrome 129.*, so it is advised to delete the driver in PATH and retry\n"
     ]
    },
    {
     "name": "stdout",
     "output_type": "stream",
     "text": [
      "https://map.naver.com/p/search/%EA%B0%95%EC%84%9C%EA%B5%AC%20%ED%99%8D%EB%B0%95%EC%8B%9D%EB%8B%B9/place/1342435272?c=15.00,0,0,0,dh&isCorrectAnswer=true\n",
      "결과 한 개\n",
      "\n",
      "[크롤링 시작...]\n",
      "홍박식당 발산마곡본점\n",
      "육류,고기요리\n",
      "서울 강서구 공항대로 219 홍박식당\n",
      "주문 유형 3\n",
      "미나리삼겹살\n",
      "좋은 원육으로 웻에이징과 드라이에이징 교차숙성을 통해 고기에 맛을 최대치로 끌어올린 선별삼겹살\n",
      "리뷰 존재\n",
      "음식이 맛있어요\n",
      "친절해요\n",
      "인테리어가 멋져요\n",
      "고기 질이 좋아요\n",
      "가성비가 좋아요\n",
      "['홍박식당 발산마곡본점'] ...완료\n",
      "[데이터 수집 완료]\n",
      "소요 시간 : 13.451584100723267 \n",
      "\n",
      "11번째 가게\n"
     ]
    },
    {
     "name": "stderr",
     "output_type": "stream",
     "text": [
      "The chromedriver version (128.0.6613.137) detected in PATH at c:\\Users\\kk21\\Desktop\\TRIPER\\chromedriver.exe might not be compatible with the detected chrome version (129.0.6668.101); currently, chromedriver 129.0.6668.100 is recommended for chrome 129.*, so it is advised to delete the driver in PATH and retry\n"
     ]
    },
    {
     "name": "stdout",
     "output_type": "stream",
     "text": [
      "https://map.naver.com/p/search/%EA%B0%95%EC%84%9C%EA%B5%AC%20%EC%82%B0%EC%B2%AD%EC%88%AF%EB%B6%88%EA%B0%80%EB%93%A0%20%EB%A7%88%EA%B3%A1?c=15.00,0,0,0,dh\n",
      "결과 여러 개 존재(지점 또는 근접 지역)\n",
      "\n",
      "[크롤링 시작...]\n",
      "산청숯불가든 마곡\n",
      "육류,고기요리\n",
      "서울 강서구 마곡중앙8로 85 1층 102~108호\n",
      "주문 유형 3\n",
      "재래식 소금구이 (한판 / 500g)\n",
      "메뉴 설명 없음\n",
      "리뷰 존재\n",
      "음식이 맛있어요\n",
      "고기 질이 좋아요\n",
      "친절해요\n",
      "매장이 넓어요\n",
      "직접 잘 구워줘요\n",
      "['산청숯불가든 마곡'] ...완료\n",
      "[데이터 수집 완료]\n",
      "소요 시간 : 13.415235042572021 \n",
      "\n",
      "12번째 가게\n"
     ]
    },
    {
     "name": "stderr",
     "output_type": "stream",
     "text": [
      "The chromedriver version (128.0.6613.137) detected in PATH at c:\\Users\\kk21\\Desktop\\TRIPER\\chromedriver.exe might not be compatible with the detected chrome version (129.0.6668.101); currently, chromedriver 129.0.6668.100 is recommended for chrome 129.*, so it is advised to delete the driver in PATH and retry\n"
     ]
    },
    {
     "name": "stdout",
     "output_type": "stream",
     "text": [
      "https://map.naver.com/p/search/%EA%B0%95%EC%84%9C%EA%B5%AC%20%EC%A0%9C%EC%A4%8F%EA%B0%84%20%EA%B9%8C%EC%B9%98%EC%82%B0%EC%A0%90?c=15.00,0,0,0,dh\n",
      "결과 여러 개 존재(지점 또는 근접 지역)\n",
      "\n",
      "[크롤링 시작...]\n",
      "제줏간 까치산점\n",
      "돼지고기구이\n",
      "서울 강서구 강서로5나길 32 1층\n",
      "주문 유형 3\n",
      "제줏간 2인 ~ 3인 세트\n",
      "제줏간 특삼겹 200g + 제줏간 생갈비살 200g + 제줏간 꽃목살 150g\n",
      "리뷰 존재\n",
      "음식이 맛있어요\n",
      "고기 질이 좋아요\n",
      "인테리어가 멋져요\n",
      "친절해요\n",
      "매장이 넓어요\n",
      "['제줏간 까치산점'] ...완료\n",
      "[데이터 수집 완료]\n",
      "소요 시간 : 13.414684057235718 \n",
      "\n",
      "13번째 가게\n"
     ]
    },
    {
     "name": "stderr",
     "output_type": "stream",
     "text": [
      "The chromedriver version (128.0.6613.137) detected in PATH at c:\\Users\\kk21\\Desktop\\TRIPER\\chromedriver.exe might not be compatible with the detected chrome version (129.0.6668.101); currently, chromedriver 129.0.6668.100 is recommended for chrome 129.*, so it is advised to delete the driver in PATH and retry\n"
     ]
    },
    {
     "name": "stdout",
     "output_type": "stream",
     "text": [
      "https://map.naver.com/p/search/%EA%B0%95%EC%84%9C%EA%B5%AC%20%EC%B6%94%EB%8F%88%EA%B0%80%20%EB%B0%9C%EC%82%B0%EB%B3%B8%EC%A0%90/place/1680634748?c=15.00,0,0,0,dh&isCorrectAnswer=true\n",
      "결과 한 개\n",
      "\n",
      "[크롤링 시작...]\n",
      "추돈가 발산본점\n",
      "돼지고기구이\n",
      "서울 강서구 강서로54길 11 1층 추돈가 발산본점\n",
      "주문 유형 3\n",
      "숙성 제주흑돼지 오겹살 목살 600g\n",
      "제주 흑돼지 쫀득하게 고소한 오겹살과 육즙과 육향의 풍미가 가득한 목살\n",
      "리뷰 존재\n",
      "음식이 맛있어요\n",
      "고기 질이 좋아요\n",
      "재료가 신선해요\n",
      "친절해요\n",
      "매장이 넓어요\n",
      "['추돈가 발산본점'] ...완료\n",
      "[데이터 수집 완료]\n",
      "소요 시간 : 13.421745300292969 \n",
      "\n",
      "14번째 가게\n"
     ]
    },
    {
     "name": "stderr",
     "output_type": "stream",
     "text": [
      "The chromedriver version (128.0.6613.137) detected in PATH at c:\\Users\\kk21\\Desktop\\TRIPER\\chromedriver.exe might not be compatible with the detected chrome version (129.0.6668.101); currently, chromedriver 129.0.6668.100 is recommended for chrome 129.*, so it is advised to delete the driver in PATH and retry\n"
     ]
    },
    {
     "name": "stdout",
     "output_type": "stream",
     "text": [
      "https://map.naver.com/p/search/%EA%B0%95%EC%84%9C%EA%B5%AC%20%EB%AA%A8%EB%A1%9C%EB%AF%B8%20%EA%B0%95%EC%84%9C%EA%B5%AC%EC%B2%AD%EC%A0%90/place/1140573394?c=15.00,0,0,0,dh&isCorrectAnswer=true\n",
      "결과 한 개\n",
      "\n",
      "[크롤링 시작...]\n",
      "모로미 강서구청점\n",
      "이자카야\n",
      "서울 강서구 화곡로58길 22-3 2층\n",
      "주문 유형 3\n",
      "제철 모둠사시미(1인 ( 제철사시미 ))\n",
      "오늘의 제철 생선 4~5종 입니다. 좋아하시는 생선은 단품 주문 또는 스페셜 사시미로 주문 부탁드립니다\n",
      "리뷰 존재\n",
      "음식이 맛있어요\n",
      "대화하기 좋아요\n",
      "재료가 신선해요\n",
      "친절해요\n",
      "술이 다양해요\n",
      "['모로미 강서구청점'] ...완료\n",
      "[데이터 수집 완료]\n",
      "소요 시간 : 13.446082830429077 \n",
      "\n",
      "15번째 가게\n"
     ]
    },
    {
     "name": "stderr",
     "output_type": "stream",
     "text": [
      "The chromedriver version (128.0.6613.137) detected in PATH at c:\\Users\\kk21\\Desktop\\TRIPER\\chromedriver.exe might not be compatible with the detected chrome version (129.0.6668.101); currently, chromedriver 129.0.6668.100 is recommended for chrome 129.*, so it is advised to delete the driver in PATH and retry\n"
     ]
    },
    {
     "name": "stdout",
     "output_type": "stream",
     "text": [
      "https://map.naver.com/p/search/%EA%B0%95%EC%84%9C%EA%B5%AC%20%EB%8B%A8%ED%92%8D?c=13.00,0,0,0,dh\n",
      "결과 여러 개 존재(지점 또는 근접 지역)\n",
      "\n",
      "[크롤링 시작...]\n",
      "난지천공원\n",
      "도시,테마공원\n",
      "서울 마포구 월드컵로 365\n",
      "주문 유형 3\n",
      "대표 메뉴 없음\n",
      "메뉴 설명 없음\n",
      "리뷰 존재\n",
      "산책로가 잘 되어있어요\n",
      "주차하기 편해요\n",
      "뷰가 좋아요\n",
      "관리가 잘 되어있어요\n",
      "사진이 잘 나와요\n",
      "['난지천공원'] ...완료\n",
      "[데이터 수집 완료]\n",
      "소요 시간 : 10.298474788665771 \n",
      "\n",
      "16번째 가게\n"
     ]
    },
    {
     "name": "stderr",
     "output_type": "stream",
     "text": [
      "The chromedriver version (128.0.6613.137) detected in PATH at c:\\Users\\kk21\\Desktop\\TRIPER\\chromedriver.exe might not be compatible with the detected chrome version (129.0.6668.101); currently, chromedriver 129.0.6668.100 is recommended for chrome 129.*, so it is advised to delete the driver in PATH and retry\n"
     ]
    },
    {
     "name": "stdout",
     "output_type": "stream",
     "text": [
      "https://map.naver.com/p/search/%EA%B0%95%EC%84%9C%EA%B5%AC%20%EA%BE%B8%EC%9D%B4%EA%BE%B8%EC%9D%B4%20%EB%8F%BC%EC%A7%80%EC%B4%8C%20%EC%AD%88%EA%BE%B8%EB%AF%B8%20%EB%B3%B8%EC%A0%90/place/13458726?c=15.00,0,0,0,dh&isCorrectAnswer=true\n",
      "결과 한 개\n",
      "\n",
      "[크롤링 시작...]\n",
      "꾸이꾸이 돼지촌 쭈꾸미 본점\n",
      "주꾸미요리\n",
      "서울 강서구 초원로 77\n",
      "주문 유형 3\n",
      "부추꾸미\n",
      "국내산 쭈꾸미와 부추의 맛남! 신선하고 부드러운 쭈꾸미\n",
      "리뷰 존재\n",
      "음식이 맛있어요\n",
      "재료가 신선해요\n",
      "특별한 메뉴가 있어요\n",
      "친절해요\n",
      "양이 많아요\n",
      "['꾸이꾸이 돼지촌 쭈꾸미 본점'] ...완료\n",
      "[데이터 수집 완료]\n",
      "소요 시간 : 13.433943510055542 \n",
      "\n",
      "17번째 가게\n"
     ]
    },
    {
     "name": "stderr",
     "output_type": "stream",
     "text": [
      "The chromedriver version (128.0.6613.137) detected in PATH at c:\\Users\\kk21\\Desktop\\TRIPER\\chromedriver.exe might not be compatible with the detected chrome version (129.0.6668.101); currently, chromedriver 129.0.6668.100 is recommended for chrome 129.*, so it is advised to delete the driver in PATH and retry\n"
     ]
    },
    {
     "name": "stdout",
     "output_type": "stream",
     "text": [
      "https://map.naver.com/p/search/%EA%B0%95%EC%84%9C%EA%B5%AC%20%EA%B9%80%EC%B9%98%EC%98%A5?c=13.00,0,0,0,dh\n",
      "결과 여러 개 존재(지점 또는 근접 지역)\n",
      "\n",
      "[크롤링 시작...]\n",
      "김치옥 본사\n",
      "육류,고기요리\n",
      "서울 강서구 마곡중앙6로 63 401호\n",
      "주문 유형 3\n",
      "스페셜 모둠 큰접시 700g\n",
      "숙성 국내산 한돈을 10년 전 가격으로! 김치옥 스페셜 (100g / 6,875원)\n",
      "['김치옥 본사'] ...완료\n",
      "[데이터 수집 완료]\n",
      "소요 시간 : 10.310239791870117 \n",
      "\n",
      "18번째 가게\n"
     ]
    },
    {
     "name": "stderr",
     "output_type": "stream",
     "text": [
      "The chromedriver version (128.0.6613.137) detected in PATH at c:\\Users\\kk21\\Desktop\\TRIPER\\chromedriver.exe might not be compatible with the detected chrome version (129.0.6668.101); currently, chromedriver 129.0.6668.100 is recommended for chrome 129.*, so it is advised to delete the driver in PATH and retry\n"
     ]
    },
    {
     "name": "stdout",
     "output_type": "stream",
     "text": [
      "https://map.naver.com/p/search/%EA%B0%95%EC%84%9C%EA%B5%AC%20%EC%B2%AD%EB%A1%9D%EB%AF%B8%EB%82%98%EB%A6%AC%EC%8B%9D%EB%8B%B9%20%EB%A7%88%EA%B3%A1%EC%A0%90/place/1402683747?c=15.00,0,0,0,dh&isCorrectAnswer=true\n",
      "결과 한 개\n",
      "\n",
      "[크롤링 시작...]\n",
      "청록미나리식당 마곡점\n",
      "한식\n",
      "서울 강서구 마곡동로 55 2층 202호\n",
      "주문 유형 3\n",
      "미나리 샤브샤브(맑은/얼큰)\n",
      "*반반육수 (1인) 미나리와 각종 건강한 야채부터 소고기, 칼국수, 볶음밥까지 즐겨보세요\n",
      "리뷰 존재\n",
      "음식이 맛있어요\n",
      "재료가 신선해요\n",
      "매장이 넓어요\n",
      "양이 많아요\n",
      "친절해요\n",
      "['청록미나리식당 마곡점'] ...완료\n",
      "[데이터 수집 완료]\n",
      "소요 시간 : 13.418373584747314 \n",
      "\n",
      "19번째 가게\n"
     ]
    },
    {
     "name": "stderr",
     "output_type": "stream",
     "text": [
      "The chromedriver version (128.0.6613.137) detected in PATH at c:\\Users\\kk21\\Desktop\\TRIPER\\chromedriver.exe might not be compatible with the detected chrome version (129.0.6668.101); currently, chromedriver 129.0.6668.100 is recommended for chrome 129.*, so it is advised to delete the driver in PATH and retry\n"
     ]
    },
    {
     "name": "stdout",
     "output_type": "stream",
     "text": [
      "https://map.naver.com/p/search/%EA%B0%95%EC%84%9C%EA%B5%AC%20%EB%8B%A8%ED%86%A0%EB%A6%AC?c=12.00,0,0,0,dh\n",
      "결과 여러 개 존재(지점 또는 근접 지역)\n",
      "\n",
      "[크롤링 시작...]\n",
      "단토리\n",
      "요리주점\n",
      "서울 강서구 공항대로 247 1층 , 단토리\n",
      "주문 유형 3\n",
      "토리껍질꼬치\n",
      "최소 주문 수량 5개\n",
      "리뷰 존재\n",
      "음식이 맛있어요\n",
      "가성비가 좋아요\n",
      "기본 안주가 좋아요\n",
      "술이 다양해요\n",
      "친절해요\n",
      "['단토리'] ...완료\n",
      "[데이터 수집 완료]\n",
      "소요 시간 : 13.466670274734497 \n",
      "\n",
      "20번째 가게\n"
     ]
    },
    {
     "name": "stderr",
     "output_type": "stream",
     "text": [
      "The chromedriver version (128.0.6613.137) detected in PATH at c:\\Users\\kk21\\Desktop\\TRIPER\\chromedriver.exe might not be compatible with the detected chrome version (129.0.6668.101); currently, chromedriver 129.0.6668.100 is recommended for chrome 129.*, so it is advised to delete the driver in PATH and retry\n"
     ]
    },
    {
     "name": "stdout",
     "output_type": "stream",
     "text": [
      "https://map.naver.com/p/search/%EA%B0%95%EC%84%9C%EA%B5%AC%20%EC%A1%B0%EC%97%B0%ED%83%84?c=15.00,0,0,0,dh\n",
      "결과 여러 개 존재(지점 또는 근접 지역)\n",
      "\n",
      "[크롤링 시작...]\n",
      "조연탄\n",
      "한식\n",
      "서울 강서구 곰달래로60길 29 조연탄\n",
      "주문 유형 3\n",
      "제주먹고기\n",
      "두툼한 두께와 풍부한 육즙 조연탄 대표메뉴 제주먹고기\n",
      "리뷰 존재\n",
      "음식이 맛있어요\n",
      "재료가 신선해요\n",
      "특별한 메뉴가 있어요\n",
      "친절해요\n",
      "양이 많아요\n",
      "['조연탄'] ...완료\n",
      "[데이터 수집 완료]\n",
      "소요 시간 : 13.405203580856323 \n",
      "\n",
      "21번째 가게\n"
     ]
    },
    {
     "name": "stderr",
     "output_type": "stream",
     "text": [
      "The chromedriver version (128.0.6613.137) detected in PATH at c:\\Users\\kk21\\Desktop\\TRIPER\\chromedriver.exe might not be compatible with the detected chrome version (129.0.6668.101); currently, chromedriver 129.0.6668.100 is recommended for chrome 129.*, so it is advised to delete the driver in PATH and retry\n"
     ]
    },
    {
     "name": "stdout",
     "output_type": "stream",
     "text": [
      "https://map.naver.com/p/search/%EA%B0%95%EC%84%9C%EA%B5%AC%20%EC%B4%88%EC%9D%B4%EB%8B%A4%EC%9D%B4%EB%8B%9D%20%EB%A7%88%EA%B3%A1%EC%A0%90?c=15.00,0,0,0,dh\n",
      "결과 여러 개 존재(지점 또는 근접 지역)\n",
      "\n",
      "[크롤링 시작...]\n",
      "초이다이닝 마곡점\n",
      "일식당\n",
      "서울 강서구 마곡동로 62 2층 208호\n",
      "주문 유형 3\n",
      "연어후토마키\n",
      "숙성연어를 듬뿍 넣은 일본식 대왕김밥\n",
      "리뷰 존재\n",
      "음식이 맛있어요\n",
      "매장이 넓어요\n",
      "친절해요\n",
      "특별한 메뉴가 있어요\n",
      "인테리어가 멋져요\n",
      "['초이다이닝 마곡점'] ...완료\n",
      "[데이터 수집 완료]\n",
      "소요 시간 : 13.437741994857788 \n",
      "\n",
      "22번째 가게\n"
     ]
    },
    {
     "name": "stderr",
     "output_type": "stream",
     "text": [
      "The chromedriver version (128.0.6613.137) detected in PATH at c:\\Users\\kk21\\Desktop\\TRIPER\\chromedriver.exe might not be compatible with the detected chrome version (129.0.6668.101); currently, chromedriver 129.0.6668.100 is recommended for chrome 129.*, so it is advised to delete the driver in PATH and retry\n"
     ]
    },
    {
     "name": "stdout",
     "output_type": "stream",
     "text": [
      "https://map.naver.com/p/search/%EA%B0%95%EC%84%9C%EA%B5%AC%20%EA%B4%91%EC%84%A0%EC%A7%91%20%EB%B0%9C%EC%82%B0%EC%97%AD%20%EC%A7%81%EC%98%81%EC%A0%90/place/1114394964?c=15.00,0,0,0,dh&isCorrectAnswer=true\n",
      "결과 한 개\n",
      "\n",
      "[크롤링 시작...]\n",
      "광선집 발산역 직영점\n",
      "육류,고기요리\n",
      "서울 강서구 강서로 415 1층 101호\n",
      "주문 유형 3\n",
      "숯불 꼬들살 100g\n",
      "돼지 한 마리에서 300g만 나오는 희귀 부위\n",
      "리뷰 존재\n",
      "음식이 맛있어요\n",
      "인테리어가 멋져요\n",
      "친절해요\n",
      "고기 질이 좋아요\n",
      "특별한 메뉴가 있어요\n",
      "['광선집 발산역 직영점'] ...완료\n",
      "[데이터 수집 완료]\n",
      "소요 시간 : 13.445069313049316 \n",
      "\n",
      "23번째 가게\n"
     ]
    },
    {
     "name": "stderr",
     "output_type": "stream",
     "text": [
      "The chromedriver version (128.0.6613.137) detected in PATH at c:\\Users\\kk21\\Desktop\\TRIPER\\chromedriver.exe might not be compatible with the detected chrome version (129.0.6668.101); currently, chromedriver 129.0.6668.100 is recommended for chrome 129.*, so it is advised to delete the driver in PATH and retry\n"
     ]
    },
    {
     "name": "stdout",
     "output_type": "stream",
     "text": [
      "https://map.naver.com/p/search/%EA%B0%95%EC%84%9C%EA%B5%AC%20%EC%B4%88%EB%B0%98%EC%8B%9D%EB%8B%B9%20%EB%B0%9C%EC%82%B0%EC%A0%90/place/1435510437?c=15.00,0,0,0,dh&isCorrectAnswer=true\n",
      "결과 한 개\n",
      "\n",
      "[크롤링 시작...]\n",
      "초반식당 발산점\n",
      "육류,고기요리\n",
      "서울 강서구 강서로54길 109 1층\n",
      "주문 유형 3\n",
      "숙성삼겹살(180g,최고등급1+)\n",
      "360시간 숙성한 프리미엄 최고등급 한돈\n",
      "리뷰 존재\n",
      "음식이 맛있어요\n",
      "고기 질이 좋아요\n",
      "친절해요\n",
      "직접 잘 구워줘요\n",
      "메뉴 구성이 알차요\n",
      "['초반식당 발산점'] ...완료\n",
      "[데이터 수집 완료]\n",
      "소요 시간 : 13.436988115310669 \n",
      "\n",
      "24번째 가게\n"
     ]
    },
    {
     "name": "stderr",
     "output_type": "stream",
     "text": [
      "The chromedriver version (128.0.6613.137) detected in PATH at c:\\Users\\kk21\\Desktop\\TRIPER\\chromedriver.exe might not be compatible with the detected chrome version (129.0.6668.101); currently, chromedriver 129.0.6668.100 is recommended for chrome 129.*, so it is advised to delete the driver in PATH and retry\n"
     ]
    },
    {
     "name": "stdout",
     "output_type": "stream",
     "text": [
      "https://map.naver.com/p/search/%EA%B0%95%EC%84%9C%EA%B5%AC%20%EC%84%B8%EC%BB%A8%EB%94%94%ED%8F%AC%EB%A0%88%EC%8A%A4%ED%8A%B8%20%EB%B0%9C%EC%82%B0%EC%A0%90?c=15.00,0,0,0,dh\n",
      "결과 여러 개 존재(지점 또는 근접 지역)\n",
      "\n",
      "[크롤링 시작...]\n",
      "세컨디포레스트 발산점\n",
      "스파게티,파스타전문\n",
      "서울 강서구 강서로 395 2층 205호 세컨디포레스트 발산점\n",
      "주문 유형 3\n",
      "RISOTTO\n",
      "메뉴별 가격 메뉴판 이미지 참조\n",
      "리뷰 존재\n",
      "음식이 맛있어요\n",
      "친절해요\n",
      "재료가 신선해요\n",
      "매장이 청결해요\n",
      "특별한 메뉴가 있어요\n",
      "['세컨디포레스트 발산점'] ...완료\n",
      "[데이터 수집 완료]\n",
      "소요 시간 : 13.409025430679321 \n",
      "\n",
      "25번째 가게\n"
     ]
    },
    {
     "name": "stderr",
     "output_type": "stream",
     "text": [
      "The chromedriver version (128.0.6613.137) detected in PATH at c:\\Users\\kk21\\Desktop\\TRIPER\\chromedriver.exe might not be compatible with the detected chrome version (129.0.6668.101); currently, chromedriver 129.0.6668.100 is recommended for chrome 129.*, so it is advised to delete the driver in PATH and retry\n"
     ]
    },
    {
     "name": "stdout",
     "output_type": "stream",
     "text": [
      "https://map.naver.com/p/search/%EA%B0%95%EC%84%9C%EA%B5%AC%20%EB%B0%A9%ED%99%94%EB%8F%99%EC%AD%88%EA%BE%B8%EB%AF%B8%EB%A7%88%EC%9D%841997/place/12824824?c=15.00,0,0,0,dh&isCorrectAnswer=true\n",
      "결과 한 개\n",
      "\n",
      "[크롤링 시작...]\n",
      "방화동쭈꾸미마을1997\n",
      "주꾸미요리\n",
      "서울 강서구 금낭화로15길 12\n",
      "주문 유형 3\n",
      "통주꾸미(생쭈꾸미구이)\n",
      "매일 산지에서 들어오는 생쭈꾸미를 숯불에 굽는 소금 구이. 10~5월초 까지만 가능\n",
      "리뷰 존재\n",
      "음식이 맛있어요\n",
      "재료가 신선해요\n",
      "친절해요\n",
      "특별한 메뉴가 있어요\n",
      "양이 많아요\n",
      "['방화동쭈꾸미마을1997'] ...완료\n",
      "[데이터 수집 완료]\n",
      "소요 시간 : 13.424399852752686 \n",
      "\n",
      "26번째 가게\n"
     ]
    },
    {
     "name": "stderr",
     "output_type": "stream",
     "text": [
      "The chromedriver version (128.0.6613.137) detected in PATH at c:\\Users\\kk21\\Desktop\\TRIPER\\chromedriver.exe might not be compatible with the detected chrome version (129.0.6668.101); currently, chromedriver 129.0.6668.100 is recommended for chrome 129.*, so it is advised to delete the driver in PATH and retry\n"
     ]
    },
    {
     "name": "stdout",
     "output_type": "stream",
     "text": [
      "https://map.naver.com/p/search/%EA%B0%95%EC%84%9C%EA%B5%AC%20%EB%B2%A0%EC%9D%B4%EC%BB%A4%EB%A6%AC%20%EB%A3%AC/place/1018513593?c=15.00,0,0,0,dh&isCorrectAnswer=true\n",
      "결과 한 개\n",
      "\n",
      "[크롤링 시작...]\n",
      "베이커리 룬\n",
      "베이커리\n",
      "서울 강서구 공항대로 261 발산파크프라자10\n",
      "주문 유형 3\n",
      "크루아상\n",
      "바삭한 크루아상\n",
      "리뷰 존재\n",
      "빵이 맛있어요\n",
      "특별한 메뉴가 있어요\n",
      "친절해요\n",
      "가성비가 좋아요\n",
      "매장이 청결해요\n",
      "['베이커리 룬'] ...완료\n",
      "[데이터 수집 완료]\n",
      "소요 시간 : 13.39969778060913 \n",
      "\n",
      "27번째 가게\n"
     ]
    },
    {
     "name": "stderr",
     "output_type": "stream",
     "text": [
      "The chromedriver version (128.0.6613.137) detected in PATH at c:\\Users\\kk21\\Desktop\\TRIPER\\chromedriver.exe might not be compatible with the detected chrome version (129.0.6668.101); currently, chromedriver 129.0.6668.100 is recommended for chrome 129.*, so it is advised to delete the driver in PATH and retry\n"
     ]
    },
    {
     "name": "stdout",
     "output_type": "stream",
     "text": [
      "https://map.naver.com/p/search/%EA%B0%95%EC%84%9C%EA%B5%AC%20%EC%86%8C%EC%95%A4%EB%8F%BC%EC%A7%80%20%EB%A7%88%EA%B3%A1%EB%82%98%EB%A3%A8%EC%A0%90/place/1630246598?c=15.00,0,0,0,dh&isCorrectAnswer=true\n",
      "결과 한 개\n",
      "\n",
      "[크롤링 시작...]\n",
      "소앤돼지 마곡나루점\n",
      "육류,고기요리\n",
      "서울 강서구 마곡중앙5로 6 보타닉프르지오 지하1층 126호\n",
      "주문 유형 3\n",
      "소앤돼지세트\n",
      "180g+180g\n",
      "리뷰 존재\n",
      "음식이 맛있어요\n",
      "고기 질이 좋아요\n",
      "친절해요\n",
      "단체모임 하기 좋아요\n",
      "특별한 메뉴가 있어요\n",
      "['소앤돼지 마곡나루점'] ...완료\n",
      "[데이터 수집 완료]\n",
      "소요 시간 : 13.428861379623413 \n",
      "\n",
      "28번째 가게\n"
     ]
    },
    {
     "name": "stderr",
     "output_type": "stream",
     "text": [
      "The chromedriver version (128.0.6613.137) detected in PATH at c:\\Users\\kk21\\Desktop\\TRIPER\\chromedriver.exe might not be compatible with the detected chrome version (129.0.6668.101); currently, chromedriver 129.0.6668.100 is recommended for chrome 129.*, so it is advised to delete the driver in PATH and retry\n"
     ]
    },
    {
     "name": "stdout",
     "output_type": "stream",
     "text": [
      "https://map.naver.com/p/search/%EA%B0%95%EC%84%9C%EA%B5%AC%20%EB%AF%B8%EB%8F%84%EC%9D%B8%20%EB%A7%88%EA%B3%A1/place/1305531278?c=15.00,0,0,0,dh&isCorrectAnswer=true\n",
      "결과 한 개\n",
      "\n",
      "[크롤링 시작...]\n",
      "미도인 마곡\n",
      "양식\n",
      "서울 강서구 마곡동로3길 6 1층 110, 111호\n",
      "주문 유형 3\n",
      "(런치타임 )한정400 스테이크덮밥\n",
      "400g이나 한그릇에 담아 미도인을 일찍 찾아주신 일곱 분에게 정성껏 만들어 보답하겠습니다\n",
      "리뷰 존재\n",
      "음식이 맛있어요\n",
      "친절해요\n",
      "인테리어가 멋져요\n",
      "특별한 메뉴가 있어요\n",
      "매장이 청결해요\n",
      "['미도인 마곡'] ...완료\n",
      "[데이터 수집 완료]\n",
      "소요 시간 : 13.434228420257568 \n",
      "\n",
      "29번째 가게\n"
     ]
    },
    {
     "name": "stderr",
     "output_type": "stream",
     "text": [
      "The chromedriver version (128.0.6613.137) detected in PATH at c:\\Users\\kk21\\Desktop\\TRIPER\\chromedriver.exe might not be compatible with the detected chrome version (129.0.6668.101); currently, chromedriver 129.0.6668.100 is recommended for chrome 129.*, so it is advised to delete the driver in PATH and retry\n"
     ]
    },
    {
     "name": "stdout",
     "output_type": "stream",
     "text": [
      "https://map.naver.com/p/search/%EA%B0%95%EC%84%9C%EA%B5%AC%20%EC%8B%A0%EB%A8%B8%EC%9D%B4%EC%8C%80%EA%B5%AD%EC%88%98%20%ED%99%94%EA%B3%A1%EC%A0%90/place/1164734607?c=15.00,0,0,0,dh&isCorrectAnswer=true\n",
      "결과 한 개\n",
      "\n",
      "[크롤링 시작...]\n",
      "신머이쌀국수 화곡점\n",
      "베트남음식\n",
      "서울 강서구 강서로12길 8-11 1층 신머이쌀국수 화곡점\n",
      "주문 유형 3\n",
      "닭반마리 쌀국수\n",
      "훈제치킨/훈제오리/돼지바베큐/소떡갈비 반미 샌드위치\n",
      "리뷰 존재\n",
      "음식이 맛있어요\n",
      "양이 많아요\n",
      "친절해요\n",
      "가성비가 좋아요\n",
      "혼밥하기 좋아요\n",
      "['신머이쌀국수 화곡점'] ...완료\n",
      "[데이터 수집 완료]\n",
      "소요 시간 : 13.417505741119385 \n",
      "\n",
      "30번째 가게\n"
     ]
    },
    {
     "name": "stderr",
     "output_type": "stream",
     "text": [
      "The chromedriver version (128.0.6613.137) detected in PATH at c:\\Users\\kk21\\Desktop\\TRIPER\\chromedriver.exe might not be compatible with the detected chrome version (129.0.6668.101); currently, chromedriver 129.0.6668.100 is recommended for chrome 129.*, so it is advised to delete the driver in PATH and retry\n"
     ]
    },
    {
     "name": "stdout",
     "output_type": "stream",
     "text": [
      "https://map.naver.com/p/search/%EA%B0%95%EC%84%9C%EA%B5%AC%20%ED%83%80%EC%9D%B4%EB%B0%98%EC%A9%9C%20%EB%A7%88%EA%B3%A1%EC%A0%90/place/1861658753?c=15.00,0,0,0,dh&isCorrectAnswer=true\n",
      "결과 한 개\n",
      "\n",
      "[크롤링 시작...]\n",
      "타이반쩜 마곡점\n",
      "태국음식\n",
      "서울 강서구 공항대로 212 문영 퀸즈파크11 1층 132호\n",
      "주문 유형 3\n",
      "((CNN 선정한 맛있는 음식 5위)) 팟타이\n",
      "팟타이 + 땅콩가루 + 레몬 즙 [골 고루 잘 섞어서드세요] + 각 단무지1\n",
      "리뷰 존재\n",
      "음식이 맛있어요\n",
      "양이 많아요\n",
      "친절해요\n",
      "재료가 신선해요\n",
      "가성비가 좋아요\n",
      "['타이반쩜 마곡점'] ...완료\n",
      "[데이터 수집 완료]\n",
      "소요 시간 : 13.485472440719604 \n",
      "\n",
      "31번째 가게\n"
     ]
    },
    {
     "name": "stderr",
     "output_type": "stream",
     "text": [
      "The chromedriver version (128.0.6613.137) detected in PATH at c:\\Users\\kk21\\Desktop\\TRIPER\\chromedriver.exe might not be compatible with the detected chrome version (129.0.6668.101); currently, chromedriver 129.0.6668.100 is recommended for chrome 129.*, so it is advised to delete the driver in PATH and retry\n"
     ]
    },
    {
     "name": "stdout",
     "output_type": "stream",
     "text": [
      "https://map.naver.com/p/search/%EA%B0%95%EC%84%9C%EA%B5%AC%20%ED%97%A4%EB%A6%AC%EC%8A%A4%ED%97%A4%EC%9D%B4%EC%8A%A4/place/1405015740?isCorrectAnswer=true&c=15.00,0,0,0,dh\n",
      "결과 한 개\n",
      "\n",
      "[크롤링 시작...]\n",
      "헤리스헤이스\n",
      "카페\n",
      "서울 강서구 마곡동로3길 26 103호\n",
      "주문 유형 3\n",
      "CAFE LATTE\n",
      "메뉴 설명 없음\n",
      "리뷰 존재\n",
      "커피가 맛있어요\n",
      "친절해요\n",
      "음료가 맛있어요\n",
      "디저트가 맛있어요\n",
      "특별한 메뉴가 있어요\n",
      "['헤리스헤이스'] ...완료\n",
      "[데이터 수집 완료]\n",
      "소요 시간 : 13.392059803009033 \n",
      "\n",
      "32번째 가게\n"
     ]
    },
    {
     "name": "stderr",
     "output_type": "stream",
     "text": [
      "The chromedriver version (128.0.6613.137) detected in PATH at c:\\Users\\kk21\\Desktop\\TRIPER\\chromedriver.exe might not be compatible with the detected chrome version (129.0.6668.101); currently, chromedriver 129.0.6668.100 is recommended for chrome 129.*, so it is advised to delete the driver in PATH and retry\n"
     ]
    },
    {
     "name": "stdout",
     "output_type": "stream",
     "text": [
      "https://map.naver.com/p/search/%EA%B0%95%EC%84%9C%EA%B5%AC%20%EB%8F%99%EB%91%90%EC%B2%9C%EC%86%A5%EB%9A%9C%EA%BB%91%20%EC%82%BC%EA%B2%B9%EC%82%B4%20%EB%A7%88%EA%B3%A1%EC%A0%90?c=15.00,0,0,0,dh\n",
      "결과 여러 개 존재(지점 또는 근접 지역)\n",
      "\n",
      "[크롤링 시작...]\n",
      "동두천솥뚜껑 삼겹살 마곡점\n",
      "돼지고기구이\n",
      "서울 강서구 마곡중앙6로 66 1층 108, 109호\n",
      "주문 유형 3\n",
      "미나리숙성生통삼겹/통목살(600g)\n",
      "미나리 향 가득입힌 生삼겹과 生목살을 솥뚜껑에 마이야르 구이로 즐기기\n",
      "리뷰 존재\n",
      "음식이 맛있어요\n",
      "가성비가 좋아요\n",
      "친절해요\n",
      "고기 질이 좋아요\n",
      "양이 많아요\n",
      "['동두천솥뚜껑 삼겹살 마곡점'] ...완료\n",
      "[데이터 수집 완료]\n",
      "소요 시간 : 13.452728748321533 \n",
      "\n",
      "33번째 가게\n"
     ]
    },
    {
     "name": "stderr",
     "output_type": "stream",
     "text": [
      "The chromedriver version (128.0.6613.137) detected in PATH at c:\\Users\\kk21\\Desktop\\TRIPER\\chromedriver.exe might not be compatible with the detected chrome version (129.0.6668.101); currently, chromedriver 129.0.6668.100 is recommended for chrome 129.*, so it is advised to delete the driver in PATH and retry\n"
     ]
    },
    {
     "name": "stdout",
     "output_type": "stream",
     "text": [
      "https://map.naver.com/p/search/%EA%B0%95%EC%84%9C%EA%B5%AC%20%EC%9A%B0%EC%95%84%ED%95%9C%EC%95%84%EA%B5%AC%EC%B0%9C%20%EB%A7%88%EA%B3%A1%EB%B3%B8%EC%A0%90/place/1685539763?c=15.00,0,0,0,dh&isCorrectAnswer=true\n",
      "결과 한 개\n",
      "\n",
      "[크롤링 시작...]\n",
      "우아한아구찜 마곡본점\n",
      "아귀찜,해물찜\n",
      "서울 강서구 강서로 391 문영비즈웍스 2층 202호\n",
      "주문 유형 1\n",
      "소대창곤이구이 아구찜대표\n",
      "소대창,곤이,아구대창 구이를 토핑으로 올린 우아한 아구찜의 시그니처 아구찜\n",
      "리뷰 존재\n",
      "음식이 맛있어요\n",
      "재료가 신선해요\n",
      "친절해요\n",
      "매장이 청결해요\n",
      "양이 많아요\n",
      "['우아한아구찜 마곡본점'] ...완료\n",
      "[데이터 수집 완료]\n",
      "소요 시간 : 18.492539405822754 \n",
      "\n",
      "34번째 가게\n"
     ]
    },
    {
     "name": "stderr",
     "output_type": "stream",
     "text": [
      "The chromedriver version (128.0.6613.137) detected in PATH at c:\\Users\\kk21\\Desktop\\TRIPER\\chromedriver.exe might not be compatible with the detected chrome version (129.0.6668.101); currently, chromedriver 129.0.6668.100 is recommended for chrome 129.*, so it is advised to delete the driver in PATH and retry\n"
     ]
    },
    {
     "name": "stdout",
     "output_type": "stream",
     "text": [
      "https://map.naver.com/p/search/%EA%B0%95%EC%84%9C%EA%B5%AC%20%EC%B9%B4%EC%98%A4%EB%B0%98%ED%83%80%EC%9D%B4/place/1470334786?c=15.00,0,0,0,dh&isCorrectAnswer=true\n",
      "결과 한 개\n",
      "\n",
      "[크롤링 시작...]\n",
      "카오반타이\n",
      "태국음식\n",
      "서울 강서구 마곡중앙6로 21 2층 217호\n",
      "주문 유형 3\n",
      "카오반스폐셜쌀국수\n",
      "수비드 된 통닭다리치킨+차돌+양지 고기가 듬뿍들어간 카오반 시그니쳐 대표 메뉴\n",
      "리뷰 존재\n",
      "음식이 맛있어요\n",
      "인테리어가 멋져요\n",
      "친절해요\n",
      "현지 맛에 가까워요\n",
      "매장이 청결해요\n",
      "['카오반타이'] ...완료\n",
      "[데이터 수집 완료]\n",
      "소요 시간 : 13.420836687088013 \n",
      "\n",
      "35번째 가게\n"
     ]
    },
    {
     "name": "stderr",
     "output_type": "stream",
     "text": [
      "The chromedriver version (128.0.6613.137) detected in PATH at c:\\Users\\kk21\\Desktop\\TRIPER\\chromedriver.exe might not be compatible with the detected chrome version (129.0.6668.101); currently, chromedriver 129.0.6668.100 is recommended for chrome 129.*, so it is advised to delete the driver in PATH and retry\n"
     ]
    },
    {
     "name": "stdout",
     "output_type": "stream",
     "text": [
      "https://map.naver.com/p/search/%EA%B0%95%EC%84%9C%EA%B5%AC%20%EB%B4%84%EB%8B%B4%EC%95%84?c=15.00,0,0,0,dh\n",
      "결과 여러 개 존재(지점 또는 근접 지역)\n",
      "\n",
      "[크롤링 시작...]\n",
      "봄담아 마곡점\n",
      "샤브샤브\n",
      "서울 강서구 마곡중앙로 59-17 118~122호 1층\n",
      "주문 유형 3\n",
      "평일 LUNCH 대인\n",
      "14세 이상 (11:00-16:00)\n",
      "리뷰 존재\n",
      "음식이 맛있어요\n",
      "재료가 신선해요\n",
      "가성비가 좋아요\n",
      "양이 많아요\n",
      "매장이 넓어요\n",
      "['봄담아 마곡점'] ...완료\n",
      "[데이터 수집 완료]\n",
      "소요 시간 : 13.404469966888428 \n",
      "\n",
      "36번째 가게\n"
     ]
    },
    {
     "name": "stderr",
     "output_type": "stream",
     "text": [
      "The chromedriver version (128.0.6613.137) detected in PATH at c:\\Users\\kk21\\Desktop\\TRIPER\\chromedriver.exe might not be compatible with the detected chrome version (129.0.6668.101); currently, chromedriver 129.0.6668.100 is recommended for chrome 129.*, so it is advised to delete the driver in PATH and retry\n"
     ]
    },
    {
     "name": "stdout",
     "output_type": "stream",
     "text": [
      "https://map.naver.com/p/search/%EA%B0%95%EC%84%9C%EA%B5%AC%20%EC%86%A5%EA%B3%A0%EC%A7%91%20%EB%93%B1%EC%B4%8C%EC%97%AD%EC%A0%90?c=15.00,0,0,0,dh\n",
      "결과 여러 개 존재(지점 또는 근접 지역)\n",
      "\n",
      "[크롤링 시작...]\n",
      "솥고집 등촌역점\n",
      "육류,고기요리\n",
      "서울 강서구 공항대로 509 1층 110, 111, 112호\n",
      "주문 유형 3\n",
      "야채전골n삼겹구이\n",
      "특화된 불판에 구운 삼겹살과 각종 야채, 국물을 함께 먹는 삼겹구이\n",
      "리뷰 존재\n",
      "음식이 맛있어요\n",
      "고기 질이 좋아요\n",
      "매장이 넓어요\n",
      "친절해요\n",
      "양이 많아요\n",
      "['솥고집 등촌역점'] ...완료\n",
      "[데이터 수집 완료]\n",
      "소요 시간 : 13.402915954589844 \n",
      "\n",
      "37번째 가게\n"
     ]
    },
    {
     "name": "stderr",
     "output_type": "stream",
     "text": [
      "The chromedriver version (128.0.6613.137) detected in PATH at c:\\Users\\kk21\\Desktop\\TRIPER\\chromedriver.exe might not be compatible with the detected chrome version (129.0.6668.101); currently, chromedriver 129.0.6668.100 is recommended for chrome 129.*, so it is advised to delete the driver in PATH and retry\n"
     ]
    },
    {
     "name": "stdout",
     "output_type": "stream",
     "text": [
      "https://map.naver.com/p/search/%EA%B0%95%EC%84%9C%EA%B5%AC%20%EC%B9%B4%EB%A9%94%EC%95%BC%EB%9D%BC%EB%A9%98/place/1466367030?c=15.00,0,0,0,dh&isCorrectAnswer=true\n",
      "결과 한 개\n",
      "\n",
      "[크롤링 시작...]\n",
      "카메야라멘\n",
      "일본식라면\n",
      "서울 강서구 강서로 489-4 2층\n",
      "주문 유형 3\n",
      "돈코츠라멘\n",
      "진하고 풍미가 깊은 카메야 추천라멘.\n",
      "리뷰 존재\n",
      "음식이 맛있어요\n",
      "가성비가 좋아요\n",
      "매장이 넓어요\n",
      "혼밥하기 좋아요\n",
      "친절해요\n",
      "['카메야라멘'] ...완료\n",
      "[데이터 수집 완료]\n",
      "소요 시간 : 13.406803369522095 \n",
      "\n",
      "38번째 가게\n"
     ]
    },
    {
     "name": "stderr",
     "output_type": "stream",
     "text": [
      "The chromedriver version (128.0.6613.137) detected in PATH at c:\\Users\\kk21\\Desktop\\TRIPER\\chromedriver.exe might not be compatible with the detected chrome version (129.0.6668.101); currently, chromedriver 129.0.6668.100 is recommended for chrome 129.*, so it is advised to delete the driver in PATH and retry\n"
     ]
    },
    {
     "name": "stdout",
     "output_type": "stream",
     "text": [
      "https://map.naver.com/p/search/%EA%B0%95%EC%84%9C%EA%B5%AC%20%EC%9C%A0%EB%AF%B8%EC%B9%B4%EC%B8%A0%20%EB%A7%88%EA%B3%A1%EC%A0%90?c=15.00,0,0,0,dh\n",
      "결과 여러 개 존재(지점 또는 근접 지역)\n",
      "\n",
      "[크롤링 시작...]\n",
      "유미카츠 마곡점\n",
      "돈가스\n",
      "서울 강서구 공항대로 200 1층 117, 118호 유미카츠 마곡점\n",
      "주문 유형 3\n",
      "유미카츠\n",
      "제주흑돼지 등심카츠\n",
      "리뷰 존재\n",
      "음식이 맛있어요\n",
      "매장이 넓어요\n",
      "매장이 청결해요\n",
      "친절해요\n",
      "재료가 신선해요\n",
      "['유미카츠 마곡점'] ...완료\n",
      "[데이터 수집 완료]\n",
      "소요 시간 : 13.398486137390137 \n",
      "\n",
      "39번째 가게\n"
     ]
    },
    {
     "name": "stderr",
     "output_type": "stream",
     "text": [
      "The chromedriver version (128.0.6613.137) detected in PATH at c:\\Users\\kk21\\Desktop\\TRIPER\\chromedriver.exe might not be compatible with the detected chrome version (129.0.6668.101); currently, chromedriver 129.0.6668.100 is recommended for chrome 129.*, so it is advised to delete the driver in PATH and retry\n"
     ]
    },
    {
     "name": "stdout",
     "output_type": "stream",
     "text": [
      "https://map.naver.com/p/search/%EA%B0%95%EC%84%9C%EA%B5%AC%20%EC%9D%B4%EA%B0%80%EB%84%A4%EC%96%91%EA%B0%88%EB%B9%84%EC%96%91%EA%BC%AC%EC%B9%98%20%EB%A7%88%EA%B3%A1%EC%A0%90/place/1078850769?c=15.00,0,0,0,dh&isCorrectAnswer=true\n",
      "결과 한 개\n",
      "\n",
      "[크롤링 시작...]\n",
      "이가네양갈비양꼬치 마곡점\n",
      "양꼬치\n",
      "서울 강서구 마곡동로 62 사이언스타워 209호,210호\n",
      "주문 유형 3\n",
      "양왕갈비(230g)\n",
      "메뉴 설명 없음\n",
      "리뷰 존재\n",
      "음식이 맛있어요\n",
      "친절해요\n",
      "매장이 넓어요\n",
      "고기 질이 좋아요\n",
      "특별한 메뉴가 있어요\n",
      "['이가네양갈비양꼬치 마곡점'] ...완료\n",
      "[데이터 수집 완료]\n",
      "소요 시간 : 13.416130065917969 \n",
      "\n",
      "40번째 가게\n"
     ]
    },
    {
     "name": "stderr",
     "output_type": "stream",
     "text": [
      "The chromedriver version (128.0.6613.137) detected in PATH at c:\\Users\\kk21\\Desktop\\TRIPER\\chromedriver.exe might not be compatible with the detected chrome version (129.0.6668.101); currently, chromedriver 129.0.6668.100 is recommended for chrome 129.*, so it is advised to delete the driver in PATH and retry\n"
     ]
    },
    {
     "name": "stdout",
     "output_type": "stream",
     "text": [
      "https://map.naver.com/p/search/%EA%B0%95%EC%84%9C%EA%B5%AC%20%ED%95%9C%EC%82%AC%EB%B0%9C%ED%8F%AC%EC%B0%A8%20%EB%A7%88%EA%B3%A1%EC%A0%90?c=15.00,0,0,0,dh\n",
      "결과 여러 개 존재(지점 또는 근접 지역)\n",
      "가게 없음\n",
      "41번째 가게\n"
     ]
    },
    {
     "name": "stderr",
     "output_type": "stream",
     "text": [
      "The chromedriver version (128.0.6613.137) detected in PATH at c:\\Users\\kk21\\Desktop\\TRIPER\\chromedriver.exe might not be compatible with the detected chrome version (129.0.6668.101); currently, chromedriver 129.0.6668.100 is recommended for chrome 129.*, so it is advised to delete the driver in PATH and retry\n"
     ]
    },
    {
     "name": "stdout",
     "output_type": "stream",
     "text": [
      "https://map.naver.com/p/search/%EA%B0%95%EC%84%9C%EA%B5%AC%20%EC%9B%90%EC%A1%B0%EB%B6%80%EC%95%88%EC%A7%91%20%EB%B0%9C%EC%82%B0%EC%97%AD%EC%A0%90?c=15.00,0,0,0,dh\n",
      "결과 여러 개 존재(지점 또는 근접 지역)\n",
      "\n",
      "[크롤링 시작...]\n",
      "원조부안집 발산역점\n",
      "돼지고기구이\n",
      "서울 강서구 강서로 360 1층 110~112호\n",
      "주문 유형 3\n",
      "[세트메뉴] 원조한판\n",
      "🏆\"가성비 최강 세트 메뉴\" 📌원조한판! 인기메뉴를 종류별로 즐겨보자!\n",
      "리뷰 존재\n",
      "음식이 맛있어요\n",
      "고기 질이 좋아요\n",
      "친절해요\n",
      "직접 잘 구워줘요\n",
      "매장이 넓어요\n",
      "['원조부안집 발산역점'] ...완료\n",
      "[데이터 수집 완료]\n",
      "소요 시간 : 13.435477495193481 \n",
      "\n",
      "42번째 가게\n"
     ]
    },
    {
     "name": "stderr",
     "output_type": "stream",
     "text": [
      "The chromedriver version (128.0.6613.137) detected in PATH at c:\\Users\\kk21\\Desktop\\TRIPER\\chromedriver.exe might not be compatible with the detected chrome version (129.0.6668.101); currently, chromedriver 129.0.6668.100 is recommended for chrome 129.*, so it is advised to delete the driver in PATH and retry\n"
     ]
    },
    {
     "name": "stdout",
     "output_type": "stream",
     "text": [
      "https://map.naver.com/p/search/%EA%B0%95%EC%84%9C%EA%B5%AC%20%ED%8C%8C%EC%8A%A4%ED%83%80%EC%9D%B8%EC%B9%B4%ED%8E%98/place/1485209077?c=15.00,0,0,0,dh&isCorrectAnswer=true\n",
      "결과 한 개\n",
      "\n",
      "[크롤링 시작...]\n",
      "파스타인카페\n",
      "스파게티,파스타전문\n",
      "서울 강서구 마곡중앙2로 15 테크노타워2 201호\n",
      "주문 유형 3\n",
      "매콤한 봉골레 파스타(배민 매출1위)\n",
      "조개가 맛있고, 마늘과 조개의 향이 베인 면이 맛있고 국물이 매콤하고 맛있는 매콤한 오일파스타. 정성을 담아 요리합니다.\n",
      "리뷰 존재\n",
      "음식이 맛있어요\n",
      "인테리어가 멋져요\n",
      "친절해요\n",
      "재료가 신선해요\n",
      "가성비가 좋아요\n",
      "['파스타인카페'] ...완료\n",
      "[데이터 수집 완료]\n",
      "소요 시간 : 13.431125402450562 \n",
      "\n",
      "43번째 가게\n"
     ]
    },
    {
     "name": "stderr",
     "output_type": "stream",
     "text": [
      "The chromedriver version (128.0.6613.137) detected in PATH at c:\\Users\\kk21\\Desktop\\TRIPER\\chromedriver.exe might not be compatible with the detected chrome version (129.0.6668.101); currently, chromedriver 129.0.6668.100 is recommended for chrome 129.*, so it is advised to delete the driver in PATH and retry\n"
     ]
    },
    {
     "name": "stdout",
     "output_type": "stream",
     "text": [
      "https://map.naver.com/p/search/%EA%B0%95%EC%84%9C%EA%B5%AC%20%EC%9A%94%EC%87%BC%EC%BF%A0%20%EB%A1%AF%EB%8D%B0%EB%B0%B1%ED%99%94%EC%A0%90%20%EA%B9%80%ED%8F%AC%EA%B3%B5%ED%95%AD%EC%A0%90/place/1849612498?isCorrectAnswer=true&c=15.00,0,0,0,dh\n",
      "결과 한 개\n",
      "\n",
      "[크롤링 시작...]\n",
      "요쇼쿠 롯데백화점 김포공항점\n",
      "돈가스\n",
      "서울 강서구 하늘길 38 B2층\n",
      "주문 유형 3\n",
      "큐브부타동\n",
      "깍둑썰은 목살과 타래소스로 볶은 돼지고기 덮밥\n",
      "리뷰 존재\n",
      "음식이 맛있어요\n",
      "특별한 메뉴가 있어요\n",
      "양이 많아요\n",
      "가성비가 좋아요\n",
      "혼밥하기 좋아요\n",
      "['요쇼쿠 롯데백화점 김포공항점'] ...완료\n",
      "[데이터 수집 완료]\n",
      "소요 시간 : 13.400747060775757 \n",
      "\n",
      "44번째 가게\n"
     ]
    },
    {
     "name": "stderr",
     "output_type": "stream",
     "text": [
      "The chromedriver version (128.0.6613.137) detected in PATH at c:\\Users\\kk21\\Desktop\\TRIPER\\chromedriver.exe might not be compatible with the detected chrome version (129.0.6668.101); currently, chromedriver 129.0.6668.100 is recommended for chrome 129.*, so it is advised to delete the driver in PATH and retry\n"
     ]
    },
    {
     "name": "stdout",
     "output_type": "stream",
     "text": [
      "https://map.naver.com/p/search/%EA%B0%95%EC%84%9C%EA%B5%AC%20%EB%A7%88%EA%B3%A1%EA%B4%80/place/1300945099?c=15.00,0,0,0,dh&isCorrectAnswer=true\n",
      "결과 한 개\n",
      "\n",
      "[크롤링 시작...]\n",
      "마곡관\n",
      "요리주점\n",
      "서울 강서구 마곡중앙로 161-8 두산더랜드파크 D동 103호\n",
      "주문 유형 3\n",
      "한우 대창나베\n",
      "1시간 이상 푹 끓인 크림소스에 청양고춧가루가 들어간 매콤한 크림파스타\n",
      "리뷰 존재\n",
      "음식이 맛있어요\n",
      "친절해요\n",
      "술이 다양해요\n",
      "특별한 메뉴가 있어요\n",
      "기본 안주가 좋아요\n",
      "['마곡관'] ...완료\n",
      "[데이터 수집 완료]\n",
      "소요 시간 : 13.437496900558472 \n",
      "\n",
      "45번째 가게\n"
     ]
    },
    {
     "name": "stderr",
     "output_type": "stream",
     "text": [
      "The chromedriver version (128.0.6613.137) detected in PATH at c:\\Users\\kk21\\Desktop\\TRIPER\\chromedriver.exe might not be compatible with the detected chrome version (129.0.6668.101); currently, chromedriver 129.0.6668.100 is recommended for chrome 129.*, so it is advised to delete the driver in PATH and retry\n"
     ]
    },
    {
     "name": "stdout",
     "output_type": "stream",
     "text": [
      "https://map.naver.com/p/search/%EA%B0%95%EC%84%9C%EA%B5%AC%20BLCTD%20%EB%A7%88%EA%B3%A1/place/1039656330?c=15.00,0,0,0,dh&isCorrectAnswer=true\n",
      "결과 한 개\n",
      "\n",
      "[크롤링 시작...]\n",
      "BLCTD 마곡\n",
      "카페,디저트\n",
      "서울 강서구 마곡중앙6로 65 1층 109호\n",
      "주문 유형 3\n",
      "마곡동 커피\n",
      "버터스카치소스로 만든 크림이 들어간 BLCTD의 시그니처 커피.\n",
      "리뷰 존재\n",
      "디저트가 맛있어요\n",
      "커피가 맛있어요\n",
      "음료가 맛있어요\n",
      "특별한 메뉴가 있어요\n",
      "인테리어가 멋져요\n",
      "['BLCTD 마곡'] ...완료\n",
      "[데이터 수집 완료]\n",
      "소요 시간 : 13.460822582244873 \n",
      "\n",
      "46번째 가게\n"
     ]
    },
    {
     "name": "stderr",
     "output_type": "stream",
     "text": [
      "The chromedriver version (128.0.6613.137) detected in PATH at c:\\Users\\kk21\\Desktop\\TRIPER\\chromedriver.exe might not be compatible with the detected chrome version (129.0.6668.101); currently, chromedriver 129.0.6668.100 is recommended for chrome 129.*, so it is advised to delete the driver in PATH and retry\n"
     ]
    },
    {
     "name": "stdout",
     "output_type": "stream",
     "text": [
      "https://map.naver.com/p/search/%EA%B0%95%EC%84%9C%EA%B5%AC%20%EC%82%AC%EC%9A%B4%EB%93%9C%EB%9E%A9%20%EB%A7%88%EA%B3%A1%EB%82%98%EB%A3%A8%EC%A0%90/place/1430210467?c=15.00,0,0,0,dh&isCorrectAnswer=true\n",
      "결과 한 개\n",
      "\n",
      "[크롤링 시작...]\n",
      "사운드랩 마곡나루점\n",
      "맥주,호프\n",
      "서울 강서구 마곡중앙로 161-17 보타닉파크타워 1 2층 201호\n",
      "주문 유형 3\n",
      "생 맥주\n",
      "버드와이저, 기네스, 블랑, IPA, 코젤다크 생맥주 + 병맥주\n",
      "리뷰 존재\n",
      "술이 다양해요\n",
      "친절해요\n",
      "기본 안주가 좋아요\n",
      "음악이 좋아요\n",
      "음식이 맛있어요\n",
      "['사운드랩 마곡나루점'] ...완료\n",
      "[데이터 수집 완료]\n",
      "소요 시간 : 13.431338548660278 \n",
      "\n",
      "47번째 가게\n"
     ]
    },
    {
     "name": "stderr",
     "output_type": "stream",
     "text": [
      "The chromedriver version (128.0.6613.137) detected in PATH at c:\\Users\\kk21\\Desktop\\TRIPER\\chromedriver.exe might not be compatible with the detected chrome version (129.0.6668.101); currently, chromedriver 129.0.6668.100 is recommended for chrome 129.*, so it is advised to delete the driver in PATH and retry\n"
     ]
    },
    {
     "name": "stdout",
     "output_type": "stream",
     "text": [
      "https://map.naver.com/p/search/%EA%B0%95%EC%84%9C%EA%B5%AC%20%EA%B4%91%EC%A3%BC%EB%98%91%EC%88%9C%EC%9D%B4%EC%95%84%EA%B5%AC%EC%B0%9C/place/18405940?c=15.00,0,0,0,dh&isCorrectAnswer=true\n",
      "결과 한 개\n",
      "\n",
      "[크롤링 시작...]\n",
      "광주똑순이아구찜\n",
      "아귀찜,해물찜\n",
      "서울 강서구 강서로 375-8 1층\n",
      "주문 유형 3\n",
      "아구찜 1인(포장 전용)\n",
      "기본에 충실한 맛깊은 아구찜\n",
      "리뷰 존재\n",
      "음식이 맛있어요\n",
      "재료가 신선해요\n",
      "양이 많아요\n",
      "친절해요\n",
      "매장이 넓어요\n",
      "['광주똑순이아구찜'] ...완료\n",
      "[데이터 수집 완료]\n",
      "소요 시간 : 13.44360876083374 \n",
      "\n",
      "48번째 가게\n"
     ]
    },
    {
     "name": "stderr",
     "output_type": "stream",
     "text": [
      "The chromedriver version (128.0.6613.137) detected in PATH at c:\\Users\\kk21\\Desktop\\TRIPER\\chromedriver.exe might not be compatible with the detected chrome version (129.0.6668.101); currently, chromedriver 129.0.6668.100 is recommended for chrome 129.*, so it is advised to delete the driver in PATH and retry\n"
     ]
    },
    {
     "name": "stdout",
     "output_type": "stream",
     "text": [
      "https://map.naver.com/p/search/%EA%B0%95%EC%84%9C%EA%B5%AC%20%ED%99%94%EA%B3%A1%EB%AF%B8%EB%8B%B4%EB%B6%84%EC%8B%9D%20%EA%B9%8C%EC%B9%98%EC%82%B0%EB%B3%B8%EC%A0%90/place/37326984?c=15.00,0,0,0,dh&isCorrectAnswer=true\n",
      "결과 한 개\n",
      "\n",
      "[크롤링 시작...]\n",
      "화곡미담분식 까치산본점\n",
      "종합분식\n",
      "서울 강서구 강서로7길 15 화곡미담분식\n",
      "주문 유형 3\n",
      "서울 떡볶이\n",
      "5가지 야채로 만든 수제 특제소스로 맵지 않으면서도 감칠맛나는 서울 대표 떡볶이\n",
      "리뷰 존재\n",
      "음식이 맛있어요\n",
      "친절해요\n",
      "가성비가 좋아요\n",
      "양이 많아요\n",
      "혼밥하기 좋아요\n",
      "['화곡미담분식 까치산본점'] ...완료\n",
      "[데이터 수집 완료]\n",
      "소요 시간 : 13.380224227905273 \n",
      "\n",
      "49번째 가게\n"
     ]
    },
    {
     "name": "stderr",
     "output_type": "stream",
     "text": [
      "The chromedriver version (128.0.6613.137) detected in PATH at c:\\Users\\kk21\\Desktop\\TRIPER\\chromedriver.exe might not be compatible with the detected chrome version (129.0.6668.101); currently, chromedriver 129.0.6668.100 is recommended for chrome 129.*, so it is advised to delete the driver in PATH and retry\n"
     ]
    },
    {
     "name": "stdout",
     "output_type": "stream",
     "text": [
      "https://map.naver.com/p/search/%EA%B0%95%EC%84%9C%EA%B5%AC%20%EC%97%90%EB%A8%B8%EC%9D%B4%20%EB%A7%88%EA%B3%A1%EB%82%98%EB%A3%A8%EC%A0%90?c=15.00,0,0,0,dh\n",
      "결과 여러 개 존재(지점 또는 근접 지역)\n",
      "\n",
      "[크롤링 시작...]\n",
      "에머이 마곡나루점\n",
      "베트남음식\n",
      "서울 강서구 마곡서로 152 두산더랜드타워 B동 1층 108-109호\n",
      "주문 유형 3\n",
      "48시간 진한 생면 양지 쌀국수\n",
      "하노이 스타일의 진한 육수와 특허 받은 생면으로 만든 베트남 전통 쌀국수\n",
      "리뷰 존재\n",
      "음식이 맛있어요\n",
      "재료가 신선해요\n",
      "친절해요\n",
      "매장이 넓어요\n",
      "현지 맛에 가까워요\n",
      "['에머이 마곡나루점'] ...완료\n",
      "[데이터 수집 완료]\n",
      "소요 시간 : 13.427322149276733 \n",
      "\n",
      "50번째 가게\n"
     ]
    },
    {
     "name": "stderr",
     "output_type": "stream",
     "text": [
      "The chromedriver version (128.0.6613.137) detected in PATH at c:\\Users\\kk21\\Desktop\\TRIPER\\chromedriver.exe might not be compatible with the detected chrome version (129.0.6668.101); currently, chromedriver 129.0.6668.100 is recommended for chrome 129.*, so it is advised to delete the driver in PATH and retry\n"
     ]
    },
    {
     "name": "stdout",
     "output_type": "stream",
     "text": [
      "https://map.naver.com/p/search/%EA%B0%95%EC%84%9C%EA%B5%AC%20%EC%9C%A4%EC%B9%B4%EC%B8%A0%20%EB%B3%B8%EC%A0%90/place/36321527?c=15.00,0,0,0,dh&isCorrectAnswer=true\n",
      "결과 한 개\n",
      "\n",
      "[크롤링 시작...]\n",
      "윤카츠 본점\n",
      "돈가스\n",
      "서울 강서구 화곡로 416 더스카이밸리5차 지식산업센터 2층 215호 윤카츠\n",
      "주문 유형 3\n",
      "특상등심카츠\n",
      "돼지 한마리당 4인분만 나오는 카츠. 가브리살의 육향과 지방의 고소함을 느껴보세요\n",
      "리뷰 존재\n",
      "음식이 맛있어요\n",
      "재료가 신선해요\n",
      "친절해요\n",
      "매장이 청결해요\n",
      "혼밥하기 좋아요\n",
      "['윤카츠 본점'] ...완료\n",
      "[데이터 수집 완료]\n",
      "소요 시간 : 13.450250387191772 \n",
      "\n",
      "51번째 가게\n"
     ]
    },
    {
     "name": "stderr",
     "output_type": "stream",
     "text": [
      "The chromedriver version (128.0.6613.137) detected in PATH at c:\\Users\\kk21\\Desktop\\TRIPER\\chromedriver.exe might not be compatible with the detected chrome version (129.0.6668.101); currently, chromedriver 129.0.6668.100 is recommended for chrome 129.*, so it is advised to delete the driver in PATH and retry\n"
     ]
    },
    {
     "name": "stdout",
     "output_type": "stream",
     "text": [
      "https://map.naver.com/p/search/%EA%B0%95%EC%84%9C%EA%B5%AC%20%EB%AC%B4%EB%AC%B4%EB%AC%B4/place/1516438319?c=15.00,0,0,0,dh&isCorrectAnswer=true\n",
      "결과 한 개\n",
      "\n",
      "[크롤링 시작...]\n",
      "무무무\n",
      "카페,디저트\n",
      "서울 강서구 강서로47길 60 1층 카페 무무무\n",
      "주문 유형 3\n",
      "크림모카상\n",
      "무무무 모카상에 특제 마스카포네치즈크림이 들어간 디저트!!\n",
      "리뷰 존재\n",
      "커피가 맛있어요\n",
      "인테리어가 멋져요\n",
      "디저트가 맛있어요\n",
      "음료가 맛있어요\n",
      "친절해요\n",
      "['무무무'] ...완료\n",
      "[데이터 수집 완료]\n",
      "소요 시간 : 13.413683891296387 \n",
      "\n",
      "52번째 가게\n"
     ]
    },
    {
     "name": "stderr",
     "output_type": "stream",
     "text": [
      "The chromedriver version (128.0.6613.137) detected in PATH at c:\\Users\\kk21\\Desktop\\TRIPER\\chromedriver.exe might not be compatible with the detected chrome version (129.0.6668.101); currently, chromedriver 129.0.6668.100 is recommended for chrome 129.*, so it is advised to delete the driver in PATH and retry\n"
     ]
    },
    {
     "name": "stdout",
     "output_type": "stream",
     "text": [
      "https://map.naver.com/p/search/%EA%B0%95%EC%84%9C%EA%B5%AC%20%EB%A7%88%EA%B3%A1%EB%8F%99%ED%95%9C%EC%9A%B0%EC%86%8C%EB%A8%B8%EB%A6%AC%EA%B5%AD%EB%B0%A5/place/1439134557?c=15.00,0,0,0,dh&isCorrectAnswer=true\n",
      "결과 한 개\n",
      "\n",
      "[크롤링 시작...]\n",
      "마곡동한우소머리국밥\n",
      "국밥\n",
      "서울 강서구 마곡중앙4로 22 파인스퀘어B동 109호 마곡동한우소머리국밥\n",
      "주문 유형 3\n",
      "한우소머리국밥\n",
      "메뉴 설명 없음\n",
      "리뷰 존재\n",
      "음식이 맛있어요\n",
      "재료가 신선해요\n",
      "친절해요\n",
      "양이 많아요\n",
      "매장이 청결해요\n",
      "['마곡동한우소머리국밥'] ...완료\n",
      "[데이터 수집 완료]\n",
      "소요 시간 : 13.399698972702026 \n",
      "\n",
      "53번째 가게\n"
     ]
    },
    {
     "name": "stderr",
     "output_type": "stream",
     "text": [
      "The chromedriver version (128.0.6613.137) detected in PATH at c:\\Users\\kk21\\Desktop\\TRIPER\\chromedriver.exe might not be compatible with the detected chrome version (129.0.6668.101); currently, chromedriver 129.0.6668.100 is recommended for chrome 129.*, so it is advised to delete the driver in PATH and retry\n"
     ]
    },
    {
     "name": "stdout",
     "output_type": "stream",
     "text": [
      "https://map.naver.com/p/search/%EA%B0%95%EC%84%9C%EA%B5%AC%20%EB%B0%9C%EC%82%B0%ED%95%9C%EC%9A%B0%EC%A7%84%EA%B3%B1%EC%B0%BD/place/1597203693?c=15.00,0,0,0,dh&isCorrectAnswer=true\n",
      "결과 한 개\n",
      "\n",
      "[크롤링 시작...]\n",
      "발산한우진곱창\n",
      "곱창,막창,양\n",
      "서울 강서구 강서로 395 발산한우진곱창\n",
      "주문 유형 3\n",
      "곱해장국\n",
      "점심메뉴\n",
      "리뷰 존재\n",
      "음식이 맛있어요\n",
      "고기 질이 좋아요\n",
      "친절해요\n",
      "재료가 신선해요\n",
      "특별한 메뉴가 있어요\n",
      "['발산한우진곱창'] ...완료\n",
      "[데이터 수집 완료]\n",
      "소요 시간 : 13.475670337677002 \n",
      "\n",
      "54번째 가게\n"
     ]
    },
    {
     "name": "stderr",
     "output_type": "stream",
     "text": [
      "The chromedriver version (128.0.6613.137) detected in PATH at c:\\Users\\kk21\\Desktop\\TRIPER\\chromedriver.exe might not be compatible with the detected chrome version (129.0.6668.101); currently, chromedriver 129.0.6668.100 is recommended for chrome 129.*, so it is advised to delete the driver in PATH and retry\n"
     ]
    },
    {
     "name": "stdout",
     "output_type": "stream",
     "text": [
      "https://map.naver.com/p/search/%EA%B0%95%EC%84%9C%EA%B5%AC%20%EB%B3%B8%EB%8C%80%EA%B0%80%20%EB%B0%9C%EC%82%B0%EC%A0%90?c=15.00,0,0,0,dh\n",
      "결과 여러 개 존재(지점 또는 근접 지역)\n",
      "가게 없음\n",
      "55번째 가게\n"
     ]
    },
    {
     "name": "stderr",
     "output_type": "stream",
     "text": [
      "The chromedriver version (128.0.6613.137) detected in PATH at c:\\Users\\kk21\\Desktop\\TRIPER\\chromedriver.exe might not be compatible with the detected chrome version (129.0.6668.101); currently, chromedriver 129.0.6668.100 is recommended for chrome 129.*, so it is advised to delete the driver in PATH and retry\n"
     ]
    },
    {
     "name": "stdout",
     "output_type": "stream",
     "text": [
      "https://map.naver.com/p/search/%EA%B0%95%EC%84%9C%EA%B5%AC%20%ED%82%A4%EB%88%84%EC%B9%B4%EB%88%84/place/1756519625?c=15.00,0,0,0,dh&isCorrectAnswer=true\n",
      "결과 한 개\n",
      "\n",
      "[크롤링 시작...]\n",
      "키누카누\n",
      "일식,초밥뷔페\n",
      "서울 강서구 공항대로 247 퀸즈파크나인 b103, b104호\n",
      "주문 유형 3\n",
      "평일 런치 [11:30-17:00]\n",
      "입장시 시간체크, 만석기준 식사시간 1시간 30분, 17시 이전 퇴점 기준 런치 적용\n",
      "리뷰 존재\n",
      "음식이 맛있어요\n",
      "매장이 넓어요\n",
      "메뉴 구성이 알차요\n",
      "가성비가 좋아요\n",
      "재료가 신선해요\n",
      "['키누카누'] ...완료\n",
      "[데이터 수집 완료]\n",
      "소요 시간 : 13.410560846328735 \n",
      "\n",
      "56번째 가게\n"
     ]
    },
    {
     "name": "stderr",
     "output_type": "stream",
     "text": [
      "The chromedriver version (128.0.6613.137) detected in PATH at c:\\Users\\kk21\\Desktop\\TRIPER\\chromedriver.exe might not be compatible with the detected chrome version (129.0.6668.101); currently, chromedriver 129.0.6668.100 is recommended for chrome 129.*, so it is advised to delete the driver in PATH and retry\n"
     ]
    },
    {
     "name": "stdout",
     "output_type": "stream",
     "text": [
      "https://map.naver.com/p/search/%EA%B0%95%EC%84%9C%EA%B5%AC%20%EC%86%90%EC%98%A4%EA%B3%B5%20%EC%AA%BD%EA%B0%88%EB%B9%84%20%EB%A7%88%EA%B3%A1%EC%A0%90/place/1476841764?isCorrectAnswer=true&c=15.00,0,0,0,dh\n",
      "결과 한 개\n",
      "\n",
      "[크롤링 시작...]\n",
      "손오공 쪽갈비 마곡점\n",
      "돼지고기구이\n",
      "서울 강서구 마곡중앙8로 90 마곡아이파크1층 손오공쪽갈비 마곡점\n",
      "주문 유형 3\n",
      "여의봉 왕갈비(300g+)\n",
      "소갈비부위중 킹 6,7,8번 프리미엄 갈빗대를 뼈째 구운 왕갈비\n",
      "리뷰 존재\n",
      "음식이 맛있어요\n",
      "친절해요\n",
      "매장이 청결해요\n",
      "특별한 메뉴가 있어요\n",
      "인테리어가 멋져요\n",
      "['손오공 쪽갈비 마곡점'] ...완료\n",
      "[데이터 수집 완료]\n",
      "소요 시간 : 13.509552478790283 \n",
      "\n",
      "57번째 가게\n"
     ]
    },
    {
     "name": "stderr",
     "output_type": "stream",
     "text": [
      "The chromedriver version (128.0.6613.137) detected in PATH at c:\\Users\\kk21\\Desktop\\TRIPER\\chromedriver.exe might not be compatible with the detected chrome version (129.0.6668.101); currently, chromedriver 129.0.6668.100 is recommended for chrome 129.*, so it is advised to delete the driver in PATH and retry\n"
     ]
    },
    {
     "name": "stdout",
     "output_type": "stream",
     "text": [
      "https://map.naver.com/p/search/%EA%B0%95%EC%84%9C%EA%B5%AC%20%EC%8B%A0%EA%B9%80%EC%B9%98%EC%83%9D%EB%8F%84%EC%95%BC%EC%A7%80/place/1583787993?c=15.00,0,0,0,dh&isCorrectAnswer=true\n",
      "결과 한 개\n",
      "\n",
      "[크롤링 시작...]\n",
      "신김치생도야지 마곡본점\n",
      "육류,고기요리\n",
      "서울 강서구 공항대로 247 C동126호\n",
      "주문 유형 3\n",
      "생 삼겹살\n",
      "국내산 1+\n",
      "리뷰 존재\n",
      "음식이 맛있어요\n",
      "친절해요\n",
      "고기 질이 좋아요\n",
      "재료가 신선해요\n",
      "매장이 청결해요\n",
      "['신김치생도야지 마곡본점'] ...완료\n",
      "[데이터 수집 완료]\n",
      "소요 시간 : 13.41135835647583 \n",
      "\n",
      "58번째 가게\n"
     ]
    },
    {
     "name": "stderr",
     "output_type": "stream",
     "text": [
      "The chromedriver version (128.0.6613.137) detected in PATH at c:\\Users\\kk21\\Desktop\\TRIPER\\chromedriver.exe might not be compatible with the detected chrome version (129.0.6668.101); currently, chromedriver 129.0.6668.100 is recommended for chrome 129.*, so it is advised to delete the driver in PATH and retry\n"
     ]
    },
    {
     "name": "stdout",
     "output_type": "stream",
     "text": [
      "https://map.naver.com/p/search/%EA%B0%95%EC%84%9C%EA%B5%AC%20%EA%B3%A0%EC%96%91%EC%9D%B4%EB%98%A5?c=15.00,0,0,0,dh\n",
      "결과 여러 개 존재(지점 또는 근접 지역)\n",
      "\n",
      "[크롤링 시작...]\n",
      "고양이똥\n",
      "브런치\n",
      "서울 강서구 공항대로59가길 13\n",
      "주문 유형 3\n",
      "퀴노아치킨샐러드\n",
      "고양이똥 시그니쳐 생아보카도와 코코넛밀크의 담백한 쉐이크!\n",
      "리뷰 존재\n",
      "음식이 맛있어요\n",
      "인테리어가 멋져요\n",
      "재료가 신선해요\n",
      "친절해요\n",
      "특별한 메뉴가 있어요\n",
      "['고양이똥'] ...완료\n",
      "[데이터 수집 완료]\n",
      "소요 시간 : 13.43203616142273 \n",
      "\n",
      "59번째 가게\n"
     ]
    },
    {
     "name": "stderr",
     "output_type": "stream",
     "text": [
      "The chromedriver version (128.0.6613.137) detected in PATH at c:\\Users\\kk21\\Desktop\\TRIPER\\chromedriver.exe might not be compatible with the detected chrome version (129.0.6668.101); currently, chromedriver 129.0.6668.100 is recommended for chrome 129.*, so it is advised to delete the driver in PATH and retry\n"
     ]
    },
    {
     "name": "stdout",
     "output_type": "stream",
     "text": [
      "https://map.naver.com/p/search/%EA%B0%95%EC%84%9C%EA%B5%AC%20%EB%8C%80%EB%B3%B4%EC%B9%BC%EA%B5%AD%EC%88%98%20%EB%B3%B8%EC%A0%90/place/1446545627?c=15.00,0,0,0,dh&isCorrectAnswer=true\n",
      "결과 한 개\n",
      "\n",
      "[크롤링 시작...]\n",
      "대보칼국수 본점\n",
      "칼국수,만두\n",
      "서울 강서구 마곡중앙5로 6 보타닉푸르지오시티 서관 211호\n",
      "주문 유형 2\n",
      "원조칼국수대표\n",
      "\n",
      "리뷰 존재\n",
      "음식이 맛있어요\n",
      "양이 많아요\n",
      "가성비가 좋아요\n",
      "재료가 신선해요\n",
      "친절해요\n",
      "['대보칼국수 본점'] ...완료\n",
      "[데이터 수집 완료]\n",
      "소요 시간 : 20.27254629135132 \n",
      "\n",
      "60번째 가게\n"
     ]
    },
    {
     "name": "stderr",
     "output_type": "stream",
     "text": [
      "The chromedriver version (128.0.6613.137) detected in PATH at c:\\Users\\kk21\\Desktop\\TRIPER\\chromedriver.exe might not be compatible with the detected chrome version (129.0.6668.101); currently, chromedriver 129.0.6668.100 is recommended for chrome 129.*, so it is advised to delete the driver in PATH and retry\n"
     ]
    },
    {
     "name": "stdout",
     "output_type": "stream",
     "text": [
      "https://map.naver.com/p/search/%EA%B0%95%EC%84%9C%EA%B5%AC%20%ED%94%BC%EC%BD%94%EB%A6%AC%EC%BD%94%20%EB%A1%AF%EB%8D%B0%EB%AA%B0%20%EA%B9%80%ED%8F%AC%EA%B3%B5%ED%95%AD%EC%A0%90/place/1467919063?c=15.00,0,0,0,dh&isCorrectAnswer=true\n",
      "결과 한 개\n",
      "\n",
      "[크롤링 시작...]\n",
      "피코리코 롯데몰 김포공항점\n",
      "카페,디저트\n",
      "서울 강서구 하늘길 77 롯데몰 김포공항점 GF층\n",
      "주문 유형 3\n",
      "아메리카노\n",
      "스페셜티 시그니쳐 아메리카노\n",
      "리뷰 존재\n",
      "커피가 맛있어요\n",
      "음료가 맛있어요\n",
      "디저트가 맛있어요\n",
      "인테리어가 멋져요\n",
      "친절해요\n",
      "['피코리코 롯데몰 김포공항점'] ...완료\n",
      "[데이터 수집 완료]\n",
      "소요 시간 : 13.381528377532959 \n",
      "\n",
      "61번째 가게\n"
     ]
    },
    {
     "name": "stderr",
     "output_type": "stream",
     "text": [
      "The chromedriver version (128.0.6613.137) detected in PATH at c:\\Users\\kk21\\Desktop\\TRIPER\\chromedriver.exe might not be compatible with the detected chrome version (129.0.6668.101); currently, chromedriver 129.0.6668.100 is recommended for chrome 129.*, so it is advised to delete the driver in PATH and retry\n"
     ]
    },
    {
     "name": "stdout",
     "output_type": "stream",
     "text": [
      "https://map.naver.com/p/search/%EA%B0%95%EC%84%9C%EA%B5%AC%20%EC%B6%94%EC%B2%9C%ED%95%B4%EA%BC%AC%EB%A7%89%EC%A7%AC%EB%BD%95/place/1328349526?c=15.00,0,0,0,dh&isCorrectAnswer=true\n",
      "결과 한 개\n",
      "\n",
      "[크롤링 시작...]\n",
      "추천해꼬막짬뽕\n",
      "중식당\n",
      "서울 강서구 강서로 158 1층\n",
      "주문 유형 3\n",
      "통오징어꼬막짬뽕\n",
      "압도적인 비주얼과 더욱 풍성해진 꼬막짬뽕으로 업그레이드~~ 탱글한 통오징어와 싱싱한 꼬막이 한가득~~\n",
      "리뷰 존재\n",
      "음식이 맛있어요\n",
      "양이 많아요\n",
      "재료가 신선해요\n",
      "친절해요\n",
      "특별한 메뉴가 있어요\n",
      "['추천해꼬막짬뽕'] ...완료\n",
      "[데이터 수집 완료]\n",
      "소요 시간 : 13.385498046875 \n",
      "\n",
      "62번째 가게\n"
     ]
    },
    {
     "name": "stderr",
     "output_type": "stream",
     "text": [
      "The chromedriver version (128.0.6613.137) detected in PATH at c:\\Users\\kk21\\Desktop\\TRIPER\\chromedriver.exe might not be compatible with the detected chrome version (129.0.6668.101); currently, chromedriver 129.0.6668.100 is recommended for chrome 129.*, so it is advised to delete the driver in PATH and retry\n"
     ]
    },
    {
     "name": "stdout",
     "output_type": "stream",
     "text": [
      "https://map.naver.com/p/search/%EA%B0%95%EC%84%9C%EA%B5%AC%20%EA%B9%8C%EC%B9%98%EA%B5%AC%EA%B3%B5%ED%83%84/place/1030730309?c=15.00,0,0,0,dh&isCorrectAnswer=true\n",
      "결과 한 개\n",
      "\n",
      "[크롤링 시작...]\n",
      "까치구공탄\n",
      "돼지고기구이\n",
      "서울 강서구 곰달래로24길 8 1층 까치구공탄\n",
      "주문 유형 3\n",
      "이베리코꽃목살\n",
      "세계 4대 진미 스페인산 흑돼지 100%순종이베리코\n",
      "리뷰 존재\n",
      "음식이 맛있어요\n",
      "친절해요\n",
      "고기 질이 좋아요\n",
      "인테리어가 멋져요\n",
      "가성비가 좋아요\n",
      "['까치구공탄'] ...완료\n",
      "[데이터 수집 완료]\n",
      "소요 시간 : 13.43550157546997 \n",
      "\n",
      "63번째 가게\n"
     ]
    },
    {
     "name": "stderr",
     "output_type": "stream",
     "text": [
      "The chromedriver version (128.0.6613.137) detected in PATH at c:\\Users\\kk21\\Desktop\\TRIPER\\chromedriver.exe might not be compatible with the detected chrome version (129.0.6668.101); currently, chromedriver 129.0.6668.100 is recommended for chrome 129.*, so it is advised to delete the driver in PATH and retry\n"
     ]
    },
    {
     "name": "stdout",
     "output_type": "stream",
     "text": [
      "https://map.naver.com/p/search/%EA%B0%95%EC%84%9C%EA%B5%AC%20%ED%98%B8%ED%98%B8%EB%B0%A9/place/1339273036?c=15.00,0,0,0,dh&isCorrectAnswer=true\n",
      "결과 한 개\n",
      "\n",
      "[크롤링 시작...]\n",
      "호호방\n",
      "이자카야\n",
      "서울 강서구 마곡중앙로 161-1 마곡나루 캐슬파크 1층 115호\n",
      "주문 유형 3\n",
      "오늘의 모듬 사시미\n",
      "그날그날 공수해온 재료로 구성하는 모듬 사시미 플레이트\n",
      "리뷰 존재\n",
      "음식이 맛있어요\n",
      "친절해요\n",
      "기본 안주가 좋아요\n",
      "특별한 메뉴가 있어요\n",
      "인테리어가 멋져요\n",
      "['호호방'] ...완료\n",
      "[데이터 수집 완료]\n",
      "소요 시간 : 13.38521695137024 \n",
      "\n",
      "64번째 가게\n"
     ]
    },
    {
     "name": "stderr",
     "output_type": "stream",
     "text": [
      "The chromedriver version (128.0.6613.137) detected in PATH at c:\\Users\\kk21\\Desktop\\TRIPER\\chromedriver.exe might not be compatible with the detected chrome version (129.0.6668.101); currently, chromedriver 129.0.6668.100 is recommended for chrome 129.*, so it is advised to delete the driver in PATH and retry\n"
     ]
    },
    {
     "name": "stdout",
     "output_type": "stream",
     "text": [
      "https://map.naver.com/p/search/%EA%B0%95%EC%84%9C%EA%B5%AC%20%EA%B8%88%EA%B3%A0%EA%B9%83%EC%A7%91%20%EB%A7%88%EA%B3%A1%EB%B3%B8%EC%A0%90/place/1988367250?c=15.00,0,0,0,dh&isCorrectAnswer=true\n",
      "결과 한 개\n",
      "\n",
      "[크롤링 시작...]\n",
      "금고깃집 마곡본점\n",
      "육류,고기요리\n",
      "서울 강서구 마곡동로 61 109호,203-205호\n",
      "주문 유형 3\n",
      "금돼지 삼겹살\n",
      "국내 오직 0.3%만 생산되는 차별화된 YBD품종의 최상급 돈육\n",
      "리뷰 존재\n",
      "음식이 맛있어요\n",
      "고기 질이 좋아요\n",
      "친절해요\n",
      "직접 잘 구워줘요\n",
      "매장이 넓어요\n",
      "['금고깃집 마곡본점'] ...완료\n",
      "[데이터 수집 완료]\n",
      "소요 시간 : 13.447062969207764 \n",
      "\n",
      "65번째 가게\n"
     ]
    },
    {
     "name": "stderr",
     "output_type": "stream",
     "text": [
      "The chromedriver version (128.0.6613.137) detected in PATH at c:\\Users\\kk21\\Desktop\\TRIPER\\chromedriver.exe might not be compatible with the detected chrome version (129.0.6668.101); currently, chromedriver 129.0.6668.100 is recommended for chrome 129.*, so it is advised to delete the driver in PATH and retry\n"
     ]
    },
    {
     "name": "stdout",
     "output_type": "stream",
     "text": [
      "https://map.naver.com/p/search/%EA%B0%95%EC%84%9C%EA%B5%AC%20%EC%9E%90%EC%9D%B4%EC%98%A8%20%EB%93%B1%EC%B4%8C%EC%A0%90/place/1313844608?c=15.00,0,0,0,dh&isCorrectAnswer=true\n",
      "결과 한 개\n",
      "\n",
      "[크롤링 시작...]\n",
      "자이온 등촌점\n",
      "햄버거\n",
      "서울 강서구 공항대로61길 10-11\n",
      "주문 유형 3\n",
      "버거타코\n",
      "또띠야+소고기패티+치즈+양상추+토마토살사\n",
      "리뷰 존재\n",
      "음식이 맛있어요\n",
      "인테리어가 멋져요\n",
      "재료가 신선해요\n",
      "친절해요\n",
      "매장이 청결해요\n",
      "['자이온 등촌점'] ...완료\n",
      "[데이터 수집 완료]\n",
      "소요 시간 : 13.430432796478271 \n",
      "\n",
      "66번째 가게\n"
     ]
    },
    {
     "name": "stderr",
     "output_type": "stream",
     "text": [
      "The chromedriver version (128.0.6613.137) detected in PATH at c:\\Users\\kk21\\Desktop\\TRIPER\\chromedriver.exe might not be compatible with the detected chrome version (129.0.6668.101); currently, chromedriver 129.0.6668.100 is recommended for chrome 129.*, so it is advised to delete the driver in PATH and retry\n"
     ]
    },
    {
     "name": "stdout",
     "output_type": "stream",
     "text": [
      "https://map.naver.com/p/search/%EA%B0%95%EC%84%9C%EA%B5%AC%20%EB%A7%88%EC%8B%A4%ED%95%9C%EC%A0%95%EC%8B%9D%20%EB%B0%9C%EC%82%B0%EC%A0%90/place/33928444?c=15.00,0,0,0,dh&isCorrectAnswer=true\n",
      "결과 한 개\n",
      "\n",
      "[크롤링 시작...]\n",
      "마실한정식 발산점\n",
      "한정식\n",
      "서울 강서구 공항대로 290 201호\n",
      "주문 유형 3\n",
      "평일 점심특선\n",
      "10가지 제철요리 + 약선보쌈 + 바지락된장전골 + 대통밥\n",
      "리뷰 존재\n",
      "음식이 맛있어요\n",
      "가성비가 좋아요\n",
      "단체모임 하기 좋아요\n",
      "재료가 신선해요\n",
      "친절해요\n",
      "['마실한정식 발산점'] ...완료\n",
      "[데이터 수집 완료]\n",
      "소요 시간 : 13.431308269500732 \n",
      "\n",
      "67번째 가게\n"
     ]
    },
    {
     "name": "stderr",
     "output_type": "stream",
     "text": [
      "The chromedriver version (128.0.6613.137) detected in PATH at c:\\Users\\kk21\\Desktop\\TRIPER\\chromedriver.exe might not be compatible with the detected chrome version (129.0.6668.101); currently, chromedriver 129.0.6668.100 is recommended for chrome 129.*, so it is advised to delete the driver in PATH and retry\n"
     ]
    },
    {
     "name": "stdout",
     "output_type": "stream",
     "text": [
      "https://map.naver.com/p/search/%EA%B0%95%EC%84%9C%EA%B5%AC%20%EB%B0%94%EC%BD%94?c=13.00,0,0,0,dh\n",
      "결과 여러 개 존재(지점 또는 근접 지역)\n",
      "\n",
      "[크롤링 시작...]\n",
      "바코\n",
      "스파게티,파스타전문\n",
      "서울 강서구 마곡동로10길 23 대방디엠시티 2차 106호\n",
      "주문 유형 3\n",
      "관자요리\n",
      "달고기(흰살생선)스테이크가 올라가 오일파스타\n",
      "리뷰 존재\n",
      "음식이 맛있어요\n",
      "특별한 메뉴가 있어요\n",
      "친절해요\n",
      "재료가 신선해요\n",
      "인테리어가 멋져요\n",
      "['바코'] ...완료\n",
      "[데이터 수집 완료]\n",
      "소요 시간 : 13.390776872634888 \n",
      "\n",
      "68번째 가게\n"
     ]
    },
    {
     "name": "stderr",
     "output_type": "stream",
     "text": [
      "The chromedriver version (128.0.6613.137) detected in PATH at c:\\Users\\kk21\\Desktop\\TRIPER\\chromedriver.exe might not be compatible with the detected chrome version (129.0.6668.101); currently, chromedriver 129.0.6668.100 is recommended for chrome 129.*, so it is advised to delete the driver in PATH and retry\n"
     ]
    },
    {
     "name": "stdout",
     "output_type": "stream",
     "text": [
      "https://map.naver.com/p/search/%EA%B0%95%EC%84%9C%EA%B5%AC%20%ED%95%B4%EB%A1%80%EC%BB%A4%ED%94%BC%20%EB%A7%88%EA%B3%A1%EB%82%98%EB%A3%A8%EC%97%AD%EC%A0%90/place/1311776578?c=15.00,0,0,0,dh&isCorrectAnswer=true\n",
      "결과 한 개\n",
      "\n",
      "[크롤링 시작...]\n",
      "해례커피 마곡나루역점\n",
      "카페,디저트\n",
      "서울 강서구 마곡중앙로 161-1 캐슬파크 217호\n",
      "주문 유형 3\n",
      "고메 찰붕어빵 3마리\n",
      "나의 인생 붕어빵 (팥,쑥팥,슈크림)\n",
      "리뷰 존재\n",
      "커피가 맛있어요\n",
      "인테리어가 멋져요\n",
      "친절해요\n",
      "디저트가 맛있어요\n",
      "사진이 잘 나와요\n",
      "['해례커피 마곡나루역점'] ...완료\n",
      "[데이터 수집 완료]\n",
      "소요 시간 : 13.424651145935059 \n",
      "\n",
      "69번째 가게\n"
     ]
    },
    {
     "name": "stderr",
     "output_type": "stream",
     "text": [
      "The chromedriver version (128.0.6613.137) detected in PATH at c:\\Users\\kk21\\Desktop\\TRIPER\\chromedriver.exe might not be compatible with the detected chrome version (129.0.6668.101); currently, chromedriver 129.0.6668.100 is recommended for chrome 129.*, so it is advised to delete the driver in PATH and retry\n"
     ]
    },
    {
     "name": "stdout",
     "output_type": "stream",
     "text": [
      "https://map.naver.com/p/search/%EA%B0%95%EC%84%9C%EA%B5%AC%20%EB%84%9B%EC%B8%A0%EB%B9%84%EC%96%B4%20%EB%B0%9C%EC%82%B0%EC%A0%90/place/1754574109?c=15.00,0,0,0,dh&isCorrectAnswer=true\n",
      "결과 한 개\n",
      "\n",
      "[크롤링 시작...]\n",
      "넛츠비어 발산점\n",
      "맥주,호프\n",
      "서울 강서구 공항대로 247 A동 1층 109, 110호\n",
      "주문 유형 3\n",
      "생맥주 무한리필\n",
      "生넛츠비어 1잔 4,900원\n",
      "리뷰 존재\n",
      "음식이 맛있어요\n",
      "기본 안주가 좋아요\n",
      "인테리어가 멋져요\n",
      "가성비가 좋아요\n",
      "특별한 메뉴가 있어요\n",
      "['넛츠비어 발산점'] ...완료\n",
      "[데이터 수집 완료]\n",
      "소요 시간 : 13.446794986724854 \n",
      "\n",
      "./out_food_review/out_15_food.csv완료\n",
      "0번째 가게\n"
     ]
    },
    {
     "name": "stderr",
     "output_type": "stream",
     "text": [
      "The chromedriver version (128.0.6613.137) detected in PATH at c:\\Users\\kk21\\Desktop\\TRIPER\\chromedriver.exe might not be compatible with the detected chrome version (129.0.6668.101); currently, chromedriver 129.0.6668.100 is recommended for chrome 129.*, so it is advised to delete the driver in PATH and retry\n"
     ]
    },
    {
     "name": "stdout",
     "output_type": "stream",
     "text": [
      "https://map.naver.com/p/search/%EA%B5%AC%EB%A1%9C%EA%B5%AC%20%EB%AC%B8%EC%96%B4%EB%B6%80%EC%9D%B8%EC%82%BC%EA%B5%90%EB%B9%84/place/37402852?c=13.00,0,0,0,dh&isCorrectAnswer=true\n",
      "결과 한 개\n",
      "\n",
      "[크롤링 시작...]\n",
      "문어부인삼교비\n",
      "문어부인삼교비\n",
      "서울 구로구 경인로 661 신도림1차푸르지오아파트 상가 2층 228호\n",
      "주문 유형 3\n",
      "문.삼(커플세트)\n",
      "삼겹살+문어버터철판구이+차돌된장찌개(국밥) 세트메뉴입니다.\n",
      "리뷰 존재\n",
      "음식이 맛있어요\n",
      "친절해요\n",
      "가성비가 좋아요\n",
      "특별한 메뉴가 있어요\n",
      "양이 많아요\n",
      "['문어부인삼교비'] ...완료\n",
      "[데이터 수집 완료]\n",
      "소요 시간 : 13.424982786178589 \n",
      "\n",
      "1번째 가게\n"
     ]
    },
    {
     "name": "stderr",
     "output_type": "stream",
     "text": [
      "The chromedriver version (128.0.6613.137) detected in PATH at c:\\Users\\kk21\\Desktop\\TRIPER\\chromedriver.exe might not be compatible with the detected chrome version (129.0.6668.101); currently, chromedriver 129.0.6668.100 is recommended for chrome 129.*, so it is advised to delete the driver in PATH and retry\n"
     ]
    },
    {
     "name": "stdout",
     "output_type": "stream",
     "text": [
      "https://map.naver.com/p/search/%EA%B5%AC%EB%A1%9C%EA%B5%AC%20%ED%97%AC%EB%A1%9C%EC%9A%B0%EB%B2%A0%EC%9D%B4%EA%B8%80%20%EA%B5%AC%EB%A1%9C%EC%A0%90/place/36438529?c=15.00,0,0,0,dh&isCorrectAnswer=true\n",
      "결과 한 개\n",
      "\n",
      "[크롤링 시작...]\n",
      "헬로우베이글 구로점\n",
      "베이글\n",
      "서울 구로구 구로중앙로 207 149호\n",
      "주문 유형 3\n",
      "햄치즈에그 베이글 샌드위치\n",
      "퐁신퐁신한 계란과 치즈 햄\n",
      "리뷰 존재\n",
      "빵이 맛있어요\n",
      "커피가 맛있어요\n",
      "특별한 메뉴가 있어요\n",
      "친절해요\n",
      "음료가 맛있어요\n",
      "['헬로우베이글 구로점'] ...완료\n",
      "[데이터 수집 완료]\n",
      "소요 시간 : 13.426001071929932 \n",
      "\n",
      "2번째 가게\n"
     ]
    },
    {
     "name": "stderr",
     "output_type": "stream",
     "text": [
      "The chromedriver version (128.0.6613.137) detected in PATH at c:\\Users\\kk21\\Desktop\\TRIPER\\chromedriver.exe might not be compatible with the detected chrome version (129.0.6668.101); currently, chromedriver 129.0.6668.100 is recommended for chrome 129.*, so it is advised to delete the driver in PATH and retry\n"
     ]
    },
    {
     "name": "stdout",
     "output_type": "stream",
     "text": [
      "https://map.naver.com/p/search/%EA%B5%AC%EB%A1%9C%EA%B5%AC%20%EB%9D%BC%EB%8F%84%EB%A7%A8%EC%85%98/place/1984337339?c=15.00,0,0,0,dh&isCorrectAnswer=true\n",
      "결과 한 개\n",
      "\n",
      "[크롤링 시작...]\n",
      "라도맨션\n",
      "돼지고기구이\n",
      "서울 구로구 공원로6다길 20\n",
      "주문 유형 3\n",
      "칼삼겹살\n",
      "프리미엄 원육에 수제 칼집을 더한 단일메뉴!\n",
      "리뷰 존재\n",
      "음식이 맛있어요\n",
      "친절해요\n",
      "고기 질이 좋아요\n",
      "매장이 청결해요\n",
      "가성비가 좋아요\n",
      "['라도맨션'] ...완료\n",
      "[데이터 수집 완료]\n",
      "소요 시간 : 13.391774892807007 \n",
      "\n",
      "3번째 가게\n"
     ]
    },
    {
     "name": "stderr",
     "output_type": "stream",
     "text": [
      "The chromedriver version (128.0.6613.137) detected in PATH at c:\\Users\\kk21\\Desktop\\TRIPER\\chromedriver.exe might not be compatible with the detected chrome version (129.0.6668.101); currently, chromedriver 129.0.6668.100 is recommended for chrome 129.*, so it is advised to delete the driver in PATH and retry\n"
     ]
    },
    {
     "name": "stdout",
     "output_type": "stream",
     "text": [
      "https://map.naver.com/p/search/%EA%B5%AC%EB%A1%9C%EA%B5%AC%20%EB%9D%BC%EB%AC%B4%EC%A7%84%20%EC%8B%A0%EB%8F%84%EB%A6%BC%EC%97%AD%EC%A0%90?c=15.00,0,0,0,dh\n",
      "결과 여러 개 존재(지점 또는 근접 지역)\n",
      "\n",
      "[크롤링 시작...]\n",
      "라무진 신도림역점\n",
      "양갈비\n",
      "서울 구로구 경인로67길 23 119호\n",
      "주문 유형 3\n",
      "징기스칸 프렌치랙\n",
      "메뉴 설명 없음\n",
      "리뷰 존재\n",
      "음식이 맛있어요\n",
      "친절해요\n",
      "고기 질이 좋아요\n",
      "직접 잘 구워줘요\n",
      "재료가 신선해요\n",
      "['라무진 신도림역점'] ...완료\n",
      "[데이터 수집 완료]\n",
      "소요 시간 : 13.404258489608765 \n",
      "\n",
      "4번째 가게\n"
     ]
    },
    {
     "name": "stderr",
     "output_type": "stream",
     "text": [
      "The chromedriver version (128.0.6613.137) detected in PATH at c:\\Users\\kk21\\Desktop\\TRIPER\\chromedriver.exe might not be compatible with the detected chrome version (129.0.6668.101); currently, chromedriver 129.0.6668.100 is recommended for chrome 129.*, so it is advised to delete the driver in PATH and retry\n"
     ]
    },
    {
     "name": "stdout",
     "output_type": "stream",
     "text": [
      "https://map.naver.com/p/search/%EA%B5%AC%EB%A1%9C%EA%B5%AC%20%ED%95%98%EB%82%98%EB%A7%88%ED%86%A0%20%EC%8B%A0%EB%8F%84%EB%A6%BC%EB%B3%B8%EC%A0%90/place/1892471085?c=15.00,0,0,0,dh&isCorrectAnswer=true\n",
      "결과 한 개\n",
      "\n",
      "[크롤링 시작...]\n",
      "하나마토 신도림본점\n",
      "요리주점\n",
      "서울 구로구 신도림로11라길 31 1층\n",
      "주문 유형 3\n",
      "야끼토리5종+오뎅5종 세트\n",
      "<야끼토리5종+오뎅5종 세트>를 시키시면 2,000원 할인 적용됩니다.\n",
      "리뷰 존재\n",
      "음식이 맛있어요\n",
      "인테리어가 멋져요\n",
      "가성비가 좋아요\n",
      "술이 다양해요\n",
      "친절해요\n",
      "['하나마토 신도림본점'] ...완료\n",
      "[데이터 수집 완료]\n",
      "소요 시간 : 13.406426668167114 \n",
      "\n",
      "5번째 가게\n"
     ]
    },
    {
     "name": "stderr",
     "output_type": "stream",
     "text": [
      "The chromedriver version (128.0.6613.137) detected in PATH at c:\\Users\\kk21\\Desktop\\TRIPER\\chromedriver.exe might not be compatible with the detected chrome version (129.0.6668.101); currently, chromedriver 129.0.6668.100 is recommended for chrome 129.*, so it is advised to delete the driver in PATH and retry\n"
     ]
    },
    {
     "name": "stdout",
     "output_type": "stream",
     "text": [
      "https://map.naver.com/p/search/%EA%B5%AC%EB%A1%9C%EA%B5%AC%20%EC%9A%B0%EC%9B%94%EC%86%8C%EA%B3%B1%EC%B0%BD%20%EC%8B%A0%EB%8F%84%EB%A6%BC%EB%B3%B8%EC%A0%90/place/1265919731?c=15.00,0,0,0,dh&isCorrectAnswer=true\n",
      "결과 한 개\n",
      "\n",
      "[크롤링 시작...]\n",
      "우월소곱창 신도림본점\n",
      "곱창,막창,양\n",
      "서울 구로구 경인로 631 1층\n",
      "주문 유형 3\n",
      "🏆수제한우마늘곱창(한정판매)\n",
      "2023년 기준 누적판매개수 10만개 돌파 / 우월소곱창 대표메뉴\n",
      "리뷰 존재\n",
      "음식이 맛있어요\n",
      "친절해요\n",
      "매장이 청결해요\n",
      "특별한 메뉴가 있어요\n",
      "재료가 신선해요\n",
      "['우월소곱창 신도림본점'] ...완료\n",
      "[데이터 수집 완료]\n",
      "소요 시간 : 13.42087697982788 \n",
      "\n",
      "6번째 가게\n"
     ]
    },
    {
     "name": "stderr",
     "output_type": "stream",
     "text": [
      "The chromedriver version (128.0.6613.137) detected in PATH at c:\\Users\\kk21\\Desktop\\TRIPER\\chromedriver.exe might not be compatible with the detected chrome version (129.0.6668.101); currently, chromedriver 129.0.6668.100 is recommended for chrome 129.*, so it is advised to delete the driver in PATH and retry\n"
     ]
    },
    {
     "name": "stdout",
     "output_type": "stream",
     "text": [
      "https://map.naver.com/p/search/%EA%B5%AC%EB%A1%9C%EA%B5%AC%20%EA%B2%BD%EC%96%91%EC%B9%B4%EC%B8%A0%20%EA%B5%AC%EB%A1%9C%EC%A0%90?c=15.00,0,0,0,dh\n",
      "결과 여러 개 존재(지점 또는 근접 지역)\n",
      "\n",
      "[크롤링 시작...]\n",
      "경양카츠 구로점\n",
      "돈가스\n",
      "서울 구로구 디지털로34길 43 코오롱싸이언스밸리1차 1층\n",
      "주문 유형 1\n",
      "안심카츠대표\n",
      "부드럽고 육즙이 많아 풍미가 좋은 부위인 안심살로 만든 카츠\n",
      "리뷰 존재\n",
      "음식이 맛있어요\n",
      "친절해요\n",
      "인테리어가 멋져요\n",
      "혼밥하기 좋아요\n",
      "매장이 청결해요\n",
      "['경양카츠 구로점'] ...완료\n",
      "[데이터 수집 완료]\n",
      "소요 시간 : 20.394721269607544 \n",
      "\n",
      "7번째 가게\n"
     ]
    },
    {
     "name": "stderr",
     "output_type": "stream",
     "text": [
      "The chromedriver version (128.0.6613.137) detected in PATH at c:\\Users\\kk21\\Desktop\\TRIPER\\chromedriver.exe might not be compatible with the detected chrome version (129.0.6668.101); currently, chromedriver 129.0.6668.100 is recommended for chrome 129.*, so it is advised to delete the driver in PATH and retry\n"
     ]
    },
    {
     "name": "stdout",
     "output_type": "stream",
     "text": [
      "https://map.naver.com/p/search/%EA%B5%AC%EB%A1%9C%EA%B5%AC%20%EB%B0%94%EC%98%A4%EB%B0%A5%20%EC%8B%A0%EB%8F%84%EB%A6%BC%EC%A0%90?c=15.00,0,0,0,dh\n",
      "결과 여러 개 존재(지점 또는 근접 지역)\n",
      "\n",
      "[크롤링 시작...]\n",
      "바오밥 신도림점\n",
      "맥주,호프\n",
      "서울 구로구 경인로 661 푸르지오 2층 246호\n",
      "주문 유형 3\n",
      "콰트로포르마지\n",
      "고르곤졸라, 모짜렐라, 크림치즈, 까망베르 4가지 깊고 진한 풍부한 치즈맛을 자랑하는 피자\n",
      "리뷰 존재\n",
      "음식이 맛있어요\n",
      "술이 다양해요\n",
      "대화하기 좋아요\n",
      "친절해요\n",
      "기본 안주가 좋아요\n",
      "['바오밥 신도림점'] ...완료\n",
      "[데이터 수집 완료]\n",
      "소요 시간 : 13.413709163665771 \n",
      "\n",
      "8번째 가게\n"
     ]
    },
    {
     "name": "stderr",
     "output_type": "stream",
     "text": [
      "The chromedriver version (128.0.6613.137) detected in PATH at c:\\Users\\kk21\\Desktop\\TRIPER\\chromedriver.exe might not be compatible with the detected chrome version (129.0.6668.101); currently, chromedriver 129.0.6668.100 is recommended for chrome 129.*, so it is advised to delete the driver in PATH and retry\n"
     ]
    },
    {
     "name": "stdout",
     "output_type": "stream",
     "text": [
      "https://map.naver.com/p/search/%EA%B5%AC%EB%A1%9C%EA%B5%AC%20%EA%B9%80%EB%8F%88%EC%9D%B4%20%EA%B5%AC%EB%A1%9C%EC%A0%90?c=15.00,0,0,0,dh\n",
      "결과 여러 개 존재(지점 또는 근접 지역)\n",
      "\n",
      "[크롤링 시작...]\n",
      "김돈이 구로점\n",
      "돼지고기구이\n",
      "서울 구로구 디지털로32다길 15 영우빌딩\n",
      "주문 유형 3\n",
      "흑돼지 근고기(600g)\n",
      "2~3인분/ 추가(200g) 19000원\n",
      "리뷰 존재\n",
      "음식이 맛있어요\n",
      "고기 질이 좋아요\n",
      "친절해요\n",
      "양이 많아요\n",
      "특별한 메뉴가 있어요\n",
      "['김돈이 구로점'] ...완료\n",
      "[데이터 수집 완료]\n",
      "소요 시간 : 13.463926553726196 \n",
      "\n",
      "9번째 가게\n"
     ]
    },
    {
     "name": "stderr",
     "output_type": "stream",
     "text": [
      "The chromedriver version (128.0.6613.137) detected in PATH at c:\\Users\\kk21\\Desktop\\TRIPER\\chromedriver.exe might not be compatible with the detected chrome version (129.0.6668.101); currently, chromedriver 129.0.6668.100 is recommended for chrome 129.*, so it is advised to delete the driver in PATH and retry\n"
     ]
    },
    {
     "name": "stdout",
     "output_type": "stream",
     "text": [
      "https://map.naver.com/p/search/%EA%B5%AC%EB%A1%9C%EA%B5%AC%20%EC%84%9C%EC%9A%B8%EB%B0%98%EB%8B%AC%EC%A7%91%20%EB%B3%84%EA%B4%80/place/1363987179?c=15.00,0,0,0,dh&isCorrectAnswer=true\n",
      "결과 한 개\n",
      "\n",
      "[크롤링 시작...]\n",
      "서울반달집 별관\n",
      "육류,고기요리\n",
      "서울 구로구 디지털로32길 97-9\n",
      "주문 유형 3\n",
      "고추장석쇠불고기 (한접시 400g)\n",
      "숯불에 직접구워 드립니다.\n",
      "리뷰 존재\n",
      "음식이 맛있어요\n",
      "친절해요\n",
      "가성비가 좋아요\n",
      "매장이 청결해요\n",
      "고기 질이 좋아요\n",
      "['서울반달집 별관'] ...완료\n",
      "[데이터 수집 완료]\n",
      "소요 시간 : 13.452439308166504 \n",
      "\n",
      "10번째 가게\n"
     ]
    },
    {
     "name": "stderr",
     "output_type": "stream",
     "text": [
      "The chromedriver version (128.0.6613.137) detected in PATH at c:\\Users\\kk21\\Desktop\\TRIPER\\chromedriver.exe might not be compatible with the detected chrome version (129.0.6668.101); currently, chromedriver 129.0.6668.100 is recommended for chrome 129.*, so it is advised to delete the driver in PATH and retry\n"
     ]
    },
    {
     "name": "stdout",
     "output_type": "stream",
     "text": [
      "https://map.naver.com/p/search/%EA%B5%AC%EB%A1%9C%EA%B5%AC%20%EB%AF%B8%EB%B0%A9%20%EC%8B%A0%EB%8F%84%EB%A6%BC%EC%A0%90/place/1101717545?c=15.00,0,0,0,dh&isCorrectAnswer=true\n",
      "결과 한 개\n",
      "\n",
      "[크롤링 시작...]\n",
      "미방 신도림점\n",
      "양갈비\n",
      "서울 구로구 경인로 661 신도림푸르지오1차 상가동 147호\n",
      "주문 유형 3\n",
      "프리미엄 프렌치랙\n",
      "메뉴 설명 없음\n",
      "리뷰 존재\n",
      "음식이 맛있어요\n",
      "친절해요\n",
      "고기 질이 좋아요\n",
      "직접 잘 구워줘요\n",
      "매장이 청결해요\n",
      "['미방 신도림점'] ...완료\n",
      "[데이터 수집 완료]\n",
      "소요 시간 : 13.442022323608398 \n",
      "\n",
      "11번째 가게\n"
     ]
    },
    {
     "name": "stderr",
     "output_type": "stream",
     "text": [
      "The chromedriver version (128.0.6613.137) detected in PATH at c:\\Users\\kk21\\Desktop\\TRIPER\\chromedriver.exe might not be compatible with the detected chrome version (129.0.6668.101); currently, chromedriver 129.0.6668.100 is recommended for chrome 129.*, so it is advised to delete the driver in PATH and retry\n"
     ]
    },
    {
     "name": "stdout",
     "output_type": "stream",
     "text": [
      "https://map.naver.com/p/search/%EA%B5%AC%EB%A1%9C%EA%B5%AC%20%EB%A7%9B%EC%B0%AC%EB%93%A4%EC%99%95%EC%86%8C%EA%B8%88%EA%B5%AC%EC%9D%B4%20%EA%B5%AC%EB%A1%9C%EC%A0%90?c=15.00,0,0,0,dh\n",
      "결과 여러 개 존재(지점 또는 근접 지역)\n",
      "\n",
      "[크롤링 시작...]\n",
      "맛찬들왕소금구이 구로점\n",
      "육류,고기요리\n",
      "서울 구로구 디지털로32나길 17-28\n",
      "주문 유형 3\n",
      "14일 숙성 삼겹살\n",
      "메뉴 설명 없음\n",
      "리뷰 존재\n",
      "음식이 맛있어요\n",
      "매장이 넓어요\n",
      "친절해요\n",
      "고기 질이 좋아요\n",
      "단체모임 하기 좋아요\n",
      "['맛찬들왕소금구이 구로점'] ...완료\n",
      "[데이터 수집 완료]\n",
      "소요 시간 : 13.403022289276123 \n",
      "\n",
      "12번째 가게\n"
     ]
    },
    {
     "name": "stderr",
     "output_type": "stream",
     "text": [
      "The chromedriver version (128.0.6613.137) detected in PATH at c:\\Users\\kk21\\Desktop\\TRIPER\\chromedriver.exe might not be compatible with the detected chrome version (129.0.6668.101); currently, chromedriver 129.0.6668.100 is recommended for chrome 129.*, so it is advised to delete the driver in PATH and retry\n"
     ]
    },
    {
     "name": "stdout",
     "output_type": "stream",
     "text": [
      "https://map.naver.com/p/search/%EA%B5%AC%EB%A1%9C%EA%B5%AC%20%EC%84%B8%EA%B4%91%EC%96%91%EB%8C%80%EC%B0%BD%20%EA%B5%AC%EB%A1%9C%EB%94%94%EC%A7%80%ED%84%B8%EC%A0%90?c=15.00,0,0,0,dh\n",
      "결과 여러 개 존재(지점 또는 근접 지역)\n",
      "\n",
      "[크롤링 시작...]\n",
      "세광양대창 구로디지털점\n",
      "곱창,막창,양\n",
      "서울 구로구 디지털로32나길 7 2층\n",
      "주문 유형 3\n",
      "모듬구이(소갈비살+대창+막창+특양)\n",
      "모를 땐 일단 다 줘보세요! 하지만 넷 다 맛있어서 고민이 이어지는 메뉴\n",
      "리뷰 존재\n",
      "음식이 맛있어요\n",
      "고기 질이 좋아요\n",
      "친절해요\n",
      "매장이 넓어요\n",
      "특별한 메뉴가 있어요\n",
      "['세광양대창 구로디지털점'] ...완료\n",
      "[데이터 수집 완료]\n",
      "소요 시간 : 13.455955028533936 \n",
      "\n",
      "13번째 가게\n"
     ]
    },
    {
     "name": "stderr",
     "output_type": "stream",
     "text": [
      "The chromedriver version (128.0.6613.137) detected in PATH at c:\\Users\\kk21\\Desktop\\TRIPER\\chromedriver.exe might not be compatible with the detected chrome version (129.0.6668.101); currently, chromedriver 129.0.6668.100 is recommended for chrome 129.*, so it is advised to delete the driver in PATH and retry\n"
     ]
    },
    {
     "name": "stdout",
     "output_type": "stream",
     "text": [
      "https://map.naver.com/p/search/%EA%B5%AC%EB%A1%9C%EA%B5%AC%20%EC%98%9B%EB%82%A0%ED%99%A9%EC%86%8C%EA%B3%B1%EC%B0%BD/place/1325843561?c=15.00,0,0,0,dh&isCorrectAnswer=true\n",
      "결과 한 개\n",
      "\n",
      "[크롤링 시작...]\n",
      "옛날황소곱창\n",
      "곱창,막창,양\n",
      "서울 구로구 디지털로32나길 16 1층 옛날황소곱창\n",
      "주문 유형 1\n",
      "모듬구이(250g)대표\n",
      "구디역에서 줄 서는 맛집을 만들어준 옛날황소곱창의 모든 메뉴를 드시고 싶으신분께 추천 드립니다!\n",
      "리뷰 존재\n",
      "음식이 맛있어요\n",
      "고기 질이 좋아요\n",
      "친절해요\n",
      "매장이 넓어요\n",
      "매장이 청결해요\n",
      "['옛날황소곱창'] ...완료\n",
      "[데이터 수집 완료]\n",
      "소요 시간 : 18.49540376663208 \n",
      "\n",
      "14번째 가게\n"
     ]
    },
    {
     "name": "stderr",
     "output_type": "stream",
     "text": [
      "The chromedriver version (128.0.6613.137) detected in PATH at c:\\Users\\kk21\\Desktop\\TRIPER\\chromedriver.exe might not be compatible with the detected chrome version (129.0.6668.101); currently, chromedriver 129.0.6668.100 is recommended for chrome 129.*, so it is advised to delete the driver in PATH and retry\n"
     ]
    },
    {
     "name": "stdout",
     "output_type": "stream",
     "text": [
      "https://map.naver.com/p/search/%EA%B5%AC%EB%A1%9C%EA%B5%AC%20%EA%B2%BD%EC%95%84%EC%8B%9D%EB%8B%B9%20%EA%B5%AC%EB%A1%9C%EB%94%94%EC%A7%80%ED%84%B8%EB%8B%A8%EC%A7%80%EC%97%AD%EC%A0%90?c=15.00,0,0,0,dh\n",
      "결과 여러 개 존재(지점 또는 근접 지역)\n",
      "가게 없음\n",
      "15번째 가게\n"
     ]
    },
    {
     "name": "stderr",
     "output_type": "stream",
     "text": [
      "The chromedriver version (128.0.6613.137) detected in PATH at c:\\Users\\kk21\\Desktop\\TRIPER\\chromedriver.exe might not be compatible with the detected chrome version (129.0.6668.101); currently, chromedriver 129.0.6668.100 is recommended for chrome 129.*, so it is advised to delete the driver in PATH and retry\n"
     ]
    },
    {
     "name": "stdout",
     "output_type": "stream",
     "text": [
      "https://map.naver.com/p/search/%EA%B5%AC%EB%A1%9C%EA%B5%AC%20%EC%8B%A0%EB%8F%84%EB%A6%BC%20%EC%9D%B4%EB%8F%84%EC%8B%9D%EB%8B%B9/place/75209465?c=15.00,0,0,0,dh&isCorrectAnswer=true\n",
      "결과 한 개\n",
      "\n",
      "[크롤링 시작...]\n",
      "신도림 이도식당\n",
      "닭갈비\n",
      "서울 구로구 경인로 661 신도림1차푸르지오 2층\n",
      "주문 유형 3\n",
      "눈꽃닭갈비\n",
      "시그니쳐메뉴 눈꽃닭갈비는 조리후 치즈를 뿌려 눈꽃처럼 보여집니다. 품질좋은치즈 쫄깃한육질\n",
      "리뷰 존재\n",
      "음식이 맛있어요\n",
      "친절해요\n",
      "양이 많아요\n",
      "매장이 넓어요\n",
      "가성비가 좋아요\n",
      "['신도림 이도식당'] ...완료\n",
      "[데이터 수집 완료]\n",
      "소요 시간 : 13.424060583114624 \n",
      "\n",
      "16번째 가게\n"
     ]
    },
    {
     "name": "stderr",
     "output_type": "stream",
     "text": [
      "The chromedriver version (128.0.6613.137) detected in PATH at c:\\Users\\kk21\\Desktop\\TRIPER\\chromedriver.exe might not be compatible with the detected chrome version (129.0.6668.101); currently, chromedriver 129.0.6668.100 is recommended for chrome 129.*, so it is advised to delete the driver in PATH and retry\n"
     ]
    },
    {
     "name": "stdout",
     "output_type": "stream",
     "text": [
      "https://map.naver.com/p/search/%EA%B5%AC%EB%A1%9C%EA%B5%AC%20%ED%96%A5%ED%86%A0%20%EB%AC%B4%EC%87%A0%EC%86%A5%EB%9A%9C%EA%BB%91%EA%B5%AC%EC%9D%B4/place/1283406236?c=15.00,0,0,0,dh&isCorrectAnswer=true\n",
      "결과 한 개\n",
      "\n",
      "[크롤링 시작...]\n",
      "향토 무쇠솥뚜껑구이\n",
      "육류,고기요리\n",
      "서울 구로구 공원로6나길 18 1층 향토\n",
      "주문 유형 3\n",
      "미박삼겹살\n",
      "고소한 풍미와 쫀득한 식감이 훌륭한 그 시절 우리가 먹던 대표 메뉴\n",
      "리뷰 존재\n",
      "음식이 맛있어요\n",
      "고기 질이 좋아요\n",
      "인테리어가 멋져요\n",
      "친절해요\n",
      "직접 잘 구워줘요\n",
      "['향토 무쇠솥뚜껑구이'] ...완료\n",
      "[데이터 수집 완료]\n",
      "소요 시간 : 13.439891338348389 \n",
      "\n",
      "17번째 가게\n"
     ]
    },
    {
     "name": "stderr",
     "output_type": "stream",
     "text": [
      "The chromedriver version (128.0.6613.137) detected in PATH at c:\\Users\\kk21\\Desktop\\TRIPER\\chromedriver.exe might not be compatible with the detected chrome version (129.0.6668.101); currently, chromedriver 129.0.6668.100 is recommended for chrome 129.*, so it is advised to delete the driver in PATH and retry\n"
     ]
    },
    {
     "name": "stdout",
     "output_type": "stream",
     "text": [
      "https://map.naver.com/p/search/%EA%B5%AC%EB%A1%9C%EA%B5%AC%20%EB%8F%84%EB%A6%BC%EC%8B%9D%EB%8B%B9%20%EA%B5%AC%EB%A1%9C%EB%B3%B8%EC%A0%90?c=15.00,0,0,0,dh\n",
      "결과 여러 개 존재(지점 또는 근접 지역)\n",
      "\n",
      "[크롤링 시작...]\n",
      "도림식당 신도림본점\n",
      "육류,고기요리\n",
      "서울 구로구 공원로8길 45 1층\n",
      "주문 유형 3\n",
      "도림 세트(500g)\n",
      "도림삼겹(180g)+도림목살(200g)+항정껍딱(120g) + 모둠야채 전매특허 메뉴\n",
      "리뷰 존재\n",
      "음식이 맛있어요\n",
      "고기 질이 좋아요\n",
      "친절해요\n",
      "재료가 신선해요\n",
      "가성비가 좋아요\n",
      "['도림식당 신도림본점'] ...완료\n",
      "[데이터 수집 완료]\n",
      "소요 시간 : 13.456586360931396 \n",
      "\n",
      "18번째 가게\n"
     ]
    },
    {
     "name": "stderr",
     "output_type": "stream",
     "text": [
      "The chromedriver version (128.0.6613.137) detected in PATH at c:\\Users\\kk21\\Desktop\\TRIPER\\chromedriver.exe might not be compatible with the detected chrome version (129.0.6668.101); currently, chromedriver 129.0.6668.100 is recommended for chrome 129.*, so it is advised to delete the driver in PATH and retry\n"
     ]
    },
    {
     "name": "stdout",
     "output_type": "stream",
     "text": [
      "https://map.naver.com/p/search/%EA%B5%AC%EB%A1%9C%EA%B5%AC%20%EC%9B%94%EB%9E%98%EC%88%9C%EA%B5%90%EC%9E%90%EA%B4%80/place/1673353120?c=15.00,0,0,0,dh&isCorrectAnswer=true\n",
      "결과 한 개\n",
      "\n",
      "[크롤링 시작...]\n",
      "월래순교자관\n",
      "중식당\n",
      "서울 구로구 디지털로19길 12\n",
      "주문 유형 3\n",
      "군만두\n",
      "육즙이있어서 매장에서 드시면 더맛있어요\n",
      "리뷰 존재\n",
      "음식이 맛있어요\n",
      "가성비가 좋아요\n",
      "특별한 메뉴가 있어요\n",
      "양이 많아요\n",
      "재료가 신선해요\n",
      "['월래순교자관'] ...완료\n",
      "[데이터 수집 완료]\n",
      "소요 시간 : 13.423445701599121 \n",
      "\n",
      "19번째 가게\n"
     ]
    },
    {
     "name": "stderr",
     "output_type": "stream",
     "text": [
      "The chromedriver version (128.0.6613.137) detected in PATH at c:\\Users\\kk21\\Desktop\\TRIPER\\chromedriver.exe might not be compatible with the detected chrome version (129.0.6668.101); currently, chromedriver 129.0.6668.100 is recommended for chrome 129.*, so it is advised to delete the driver in PATH and retry\n"
     ]
    },
    {
     "name": "stdout",
     "output_type": "stream",
     "text": [
      "https://map.naver.com/p/search/%EA%B5%AC%EB%A1%9C%EA%B5%AC%20%EB%B6%80%EB%8C%80%EC%B0%8C%EA%B0%9C%EB%8C%80%EC%82%AC%EA%B4%80%20%EA%B5%AC%EB%A1%9C%EB%94%94%EC%A7%80%ED%84%B8%EB%B3%B8%EC%A0%90/place/1004538341?c=15.00,0,0,0,dh&isCorrectAnswer=true\n",
      "결과 한 개\n",
      "\n",
      "[크롤링 시작...]\n",
      "부대찌개대사관 구로디지털본점\n",
      "찌개,전골\n",
      "서울 구로구 디지털로33길 12 1층 104호\n",
      "주문 유형 3\n",
      "대사관부대찌개(1인)\n",
      "2인부터 주문 가능합니다!\n",
      "리뷰 존재\n",
      "음식이 맛있어요\n",
      "양이 많아요\n",
      "매장이 넓어요\n",
      "재료가 신선해요\n",
      "친절해요\n",
      "['부대찌개대사관 구로디지털본점'] ...완료\n",
      "[데이터 수집 완료]\n",
      "소요 시간 : 13.457113027572632 \n",
      "\n",
      "20번째 가게\n"
     ]
    },
    {
     "name": "stderr",
     "output_type": "stream",
     "text": [
      "The chromedriver version (128.0.6613.137) detected in PATH at c:\\Users\\kk21\\Desktop\\TRIPER\\chromedriver.exe might not be compatible with the detected chrome version (129.0.6668.101); currently, chromedriver 129.0.6668.100 is recommended for chrome 129.*, so it is advised to delete the driver in PATH and retry\n"
     ]
    },
    {
     "name": "stdout",
     "output_type": "stream",
     "text": [
      "https://map.naver.com/p/search/%EA%B5%AC%EB%A1%9C%EA%B5%AC%20%EC%83%88%EB%B2%BD%EC%A7%91%20%EC%96%91%EA%B3%B1%EC%B0%BD/place/102198467?c=15.00,0,0,0,dh&isCorrectAnswer=true\n",
      "결과 한 개\n",
      "\n",
      "[크롤링 시작...]\n",
      "새벽집 양곱창\n",
      "곱창,막창,양\n",
      "서울 구로구 경인로 619-60 1층 (신도림동) 신도림맛집 새벽집양곱창\n",
      "주문 유형 3\n",
      "곱창\n",
      "메뉴 설명 없음\n",
      "리뷰 존재\n",
      "음식이 맛있어요\n",
      "친절해요\n",
      "재료가 신선해요\n",
      "특별한 메뉴가 있어요\n",
      "고기 질이 좋아요\n",
      "['새벽집 양곱창'] ...완료\n",
      "[데이터 수집 완료]\n",
      "소요 시간 : 13.391943454742432 \n",
      "\n",
      "21번째 가게\n"
     ]
    },
    {
     "name": "stderr",
     "output_type": "stream",
     "text": [
      "The chromedriver version (128.0.6613.137) detected in PATH at c:\\Users\\kk21\\Desktop\\TRIPER\\chromedriver.exe might not be compatible with the detected chrome version (129.0.6668.101); currently, chromedriver 129.0.6668.100 is recommended for chrome 129.*, so it is advised to delete the driver in PATH and retry\n"
     ]
    },
    {
     "name": "stdout",
     "output_type": "stream",
     "text": [
      "https://map.naver.com/p/search/%EA%B5%AC%EB%A1%9C%EA%B5%AC%20%EA%B3%A0%ED%92%88%EC%A7%91%20%EC%8B%A0%EB%8F%84%EB%A6%BC%EB%B3%B8%EC%A0%90/place/1301231743?c=15.00,0,0,0,dh&isCorrectAnswer=true\n",
      "결과 한 개\n",
      "\n",
      "[크롤링 시작...]\n",
      "고품집 신도림본점\n",
      "육류,고기요리\n",
      "서울 구로구 경인로63길 11 상가B동 1층 101, 102호\n",
      "주문 유형 3\n",
      "친환경 무항생제 오겹살\n",
      "삼겹살+고소한지방층+껍데기의 쫀득함이 살아있는 무항생제 오겹살\n",
      "리뷰 존재\n",
      "음식이 맛있어요\n",
      "고기 질이 좋아요\n",
      "친절해요\n",
      "매장이 넓어요\n",
      "양이 많아요\n",
      "['고품집 신도림본점'] ...완료\n",
      "[데이터 수집 완료]\n",
      "소요 시간 : 13.49671483039856 \n",
      "\n",
      "22번째 가게\n"
     ]
    },
    {
     "name": "stderr",
     "output_type": "stream",
     "text": [
      "The chromedriver version (128.0.6613.137) detected in PATH at c:\\Users\\kk21\\Desktop\\TRIPER\\chromedriver.exe might not be compatible with the detected chrome version (129.0.6668.101); currently, chromedriver 129.0.6668.100 is recommended for chrome 129.*, so it is advised to delete the driver in PATH and retry\n"
     ]
    },
    {
     "name": "stdout",
     "output_type": "stream",
     "text": [
      "https://map.naver.com/p/search/%EA%B5%AC%EB%A1%9C%EA%B5%AC%20%EC%86%8C%EB%AC%B8%EB%82%9C%EC%88%AF%EB%B6%88%EB%B0%94%EB%B2%A0%ED%81%90/place/32102607?c=15.00,0,0,0,dh&isCorrectAnswer=true\n",
      "결과 한 개\n",
      "\n",
      "[크롤링 시작...]\n",
      "소문난숯불바베큐\n",
      "치킨,닭강정\n",
      "서울 구로구 서해안로 2324\n",
      "주문 유형 3\n",
      "숯불소금바베큐+캔콜라\n",
      "메뉴 설명 없음\n",
      "리뷰 존재\n",
      "음식이 맛있어요\n",
      "친절해요\n",
      "가성비가 좋아요\n",
      "재료가 신선해요\n",
      "매장이 넓어요\n",
      "['소문난숯불바베큐'] ...완료\n",
      "[데이터 수집 완료]\n",
      "소요 시간 : 13.383446455001831 \n",
      "\n",
      "23번째 가게\n"
     ]
    },
    {
     "name": "stderr",
     "output_type": "stream",
     "text": [
      "The chromedriver version (128.0.6613.137) detected in PATH at c:\\Users\\kk21\\Desktop\\TRIPER\\chromedriver.exe might not be compatible with the detected chrome version (129.0.6668.101); currently, chromedriver 129.0.6668.100 is recommended for chrome 129.*, so it is advised to delete the driver in PATH and retry\n"
     ]
    },
    {
     "name": "stdout",
     "output_type": "stream",
     "text": [
      "https://map.naver.com/p/search/%EA%B5%AC%EB%A1%9C%EA%B5%AC%20%EB%8F%99%EA%B2%BD%EA%B7%9C%EB%8F%99%20%EC%8B%A0%EB%8F%84%EB%A6%BC%EC%A0%90?c=15.00,0,0,0,dh\n",
      "결과 여러 개 존재(지점 또는 근접 지역)\n",
      "\n",
      "[크롤링 시작...]\n",
      "동경규동 신도림점\n",
      "덮밥\n",
      "서울 구로구 새말로 102 신도림포스빌 상가 1층 127호 동경규동 신도림점\n",
      "주문 유형 1\n",
      "현지맛 그대로, 규동인기대표\n",
      "엄선된 우삼겹과 2년 연구 개발한 동경규동 '특제 타레소스로' 로 맛을 낸 일본의 대표 소울푸드를 한국에서!!\n",
      "리뷰 존재\n",
      "음식이 맛있어요\n",
      "혼밥하기 좋아요\n",
      "재료가 신선해요\n",
      "양이 많아요\n",
      "친절해요\n",
      "['동경규동 신도림점'] ...완료\n",
      "[데이터 수집 완료]\n",
      "소요 시간 : 19.286686658859253 \n",
      "\n",
      "24번째 가게\n"
     ]
    },
    {
     "name": "stderr",
     "output_type": "stream",
     "text": [
      "The chromedriver version (128.0.6613.137) detected in PATH at c:\\Users\\kk21\\Desktop\\TRIPER\\chromedriver.exe might not be compatible with the detected chrome version (129.0.6668.101); currently, chromedriver 129.0.6668.100 is recommended for chrome 129.*, so it is advised to delete the driver in PATH and retry\n"
     ]
    },
    {
     "name": "stdout",
     "output_type": "stream",
     "text": [
      "https://map.naver.com/p/search/%EA%B5%AC%EB%A1%9C%EA%B5%AC%20%EB%AA%A9%EA%B5%AC%EB%A9%8D%20%EA%B5%AC%EB%A1%9C%EB%94%94%EC%A7%80%ED%84%B8%EB%8B%A8%EC%A7%80%EC%A0%90?c=15.00,0,0,0,dh\n",
      "결과 여러 개 존재(지점 또는 근접 지역)\n",
      "\n",
      "[크롤링 시작...]\n",
      "목구멍 구로디지털단지점\n",
      "육류,고기요리\n",
      "서울 구로구 디지털로34길 55 코오롱싸이언스밸리2차 지하1층 B103-2호\n",
      "주문 유형 3\n",
      "미박삼겹살(150g)\n",
      "메뉴 설명 없음\n",
      "리뷰 존재\n",
      "음식이 맛있어요\n",
      "고기 질이 좋아요\n",
      "매장이 넓어요\n",
      "친절해요\n",
      "직접 잘 구워줘요\n",
      "['목구멍 구로디지털단지점'] ...완료\n",
      "[데이터 수집 완료]\n",
      "소요 시간 : 13.429354906082153 \n",
      "\n",
      "25번째 가게\n"
     ]
    },
    {
     "name": "stderr",
     "output_type": "stream",
     "text": [
      "The chromedriver version (128.0.6613.137) detected in PATH at c:\\Users\\kk21\\Desktop\\TRIPER\\chromedriver.exe might not be compatible with the detected chrome version (129.0.6668.101); currently, chromedriver 129.0.6668.100 is recommended for chrome 129.*, so it is advised to delete the driver in PATH and retry\n"
     ]
    },
    {
     "name": "stdout",
     "output_type": "stream",
     "text": [
      "https://map.naver.com/p/search/%EA%B5%AC%EB%A1%9C%EA%B5%AC%20%EC%95%84%EA%B1%B4%EA%B5%AC%EB%94%94%EC%97%AD%EC%A0%90/place/1708980645?c=15.00,0,0,0,dh&isCorrectAnswer=true\n",
      "결과 한 개\n",
      "\n",
      "[크롤링 시작...]\n",
      "아건구디역점\n",
      "인도음식\n",
      "서울 구로구 디지털로32길 97-15\n",
      "주문 유형 3\n",
      "1인 런치세트 (1인Lunch set\n",
      "메뉴 설명 없음\n",
      "리뷰 존재\n",
      "음식이 맛있어요\n",
      "친절해요\n",
      "인테리어가 멋져요\n",
      "양이 많아요\n",
      "현지 맛에 가까워요\n",
      "['아건구디역점'] ...완료\n",
      "[데이터 수집 완료]\n",
      "소요 시간 : 13.425318002700806 \n",
      "\n",
      "26번째 가게\n"
     ]
    },
    {
     "name": "stderr",
     "output_type": "stream",
     "text": [
      "The chromedriver version (128.0.6613.137) detected in PATH at c:\\Users\\kk21\\Desktop\\TRIPER\\chromedriver.exe might not be compatible with the detected chrome version (129.0.6668.101); currently, chromedriver 129.0.6668.100 is recommended for chrome 129.*, so it is advised to delete the driver in PATH and retry\n"
     ]
    },
    {
     "name": "stdout",
     "output_type": "stream",
     "text": [
      "https://map.naver.com/p/search/%EA%B5%AC%EB%A1%9C%EA%B5%AC%20%EC%A4%91%ED%99%94%EC%9A%94%EB%A6%AC%20%ED%95%A8%EC%A7%80%EB%B0%95/place/32101630?c=15.00,0,0,0,dh&isCorrectAnswer=true\n",
      "결과 한 개\n",
      "\n",
      "[크롤링 시작...]\n",
      "중화요리 함지박\n",
      "중식당\n",
      "서울 구로구 경인로 22\n",
      "주문 유형 3\n",
      "1위ㅡ등심탕수육 1인 세트\n",
      "10%할인 쿠ㅡ폰 제공\n",
      "리뷰 존재\n",
      "음식이 맛있어요\n",
      "양이 많아요\n",
      "친절해요\n",
      "가성비가 좋아요\n",
      "재료가 신선해요\n",
      "['중화요리 함지박'] ...완료\n",
      "[데이터 수집 완료]\n",
      "소요 시간 : 13.421620607376099 \n",
      "\n",
      "27번째 가게\n"
     ]
    },
    {
     "name": "stderr",
     "output_type": "stream",
     "text": [
      "The chromedriver version (128.0.6613.137) detected in PATH at c:\\Users\\kk21\\Desktop\\TRIPER\\chromedriver.exe might not be compatible with the detected chrome version (129.0.6668.101); currently, chromedriver 129.0.6668.100 is recommended for chrome 129.*, so it is advised to delete the driver in PATH and retry\n"
     ]
    },
    {
     "name": "stdout",
     "output_type": "stream",
     "text": [
      "https://map.naver.com/p/search/%EA%B5%AC%EB%A1%9C%EA%B5%AC%20%ED%99%94%EA%B3%A1%EC%98%81%EC%96%91%EC%A1%B1%EB%B0%9C%20%EC%8B%A0%EB%8F%84%EB%A6%BC%EC%A7%81%EC%98%81%EC%A0%90/place/1189247178?c=15.00,0,0,0,dh&isCorrectAnswer=true\n",
      "결과 한 개\n",
      "\n",
      "[크롤링 시작...]\n",
      "화곡영양족발 신도림직영점\n",
      "족발,보쌈\n",
      "서울 구로구 경인로63길 11 B동 1층 106호\n",
      "주문 유형 3\n",
      "영양족발(대)\n",
      "족발+불족 족발+보쌈 불족+보쌈 中 택1\n",
      "리뷰 존재\n",
      "음식이 맛있어요\n",
      "고기 질이 좋아요\n",
      "친절해요\n",
      "잡내가 적어요\n",
      "양이 많아요\n",
      "['화곡영양족발 신도림직영점'] ...완료\n",
      "[데이터 수집 완료]\n",
      "소요 시간 : 13.4377920627594 \n",
      "\n",
      "28번째 가게\n"
     ]
    },
    {
     "name": "stderr",
     "output_type": "stream",
     "text": [
      "The chromedriver version (128.0.6613.137) detected in PATH at c:\\Users\\kk21\\Desktop\\TRIPER\\chromedriver.exe might not be compatible with the detected chrome version (129.0.6668.101); currently, chromedriver 129.0.6668.100 is recommended for chrome 129.*, so it is advised to delete the driver in PATH and retry\n"
     ]
    },
    {
     "name": "stdout",
     "output_type": "stream",
     "text": [
      "https://map.naver.com/p/search/%EA%B5%AC%EB%A1%9C%EA%B5%AC%20%EC%98%88%EC%BB%A4%ED%94%BC/place/313487645?c=15.00,0,0,0,dh&isCorrectAnswer=true\n",
      "결과 한 개\n",
      "\n",
      "[크롤링 시작...]\n",
      "예커피\n",
      "카페,디저트\n",
      "서울 구로구 고척로21나길 63 1층 예커피\n",
      "주문 유형 3\n",
      "이스탄불의 태양\n",
      "새빨간무화과가 이스탄불의 강렬한 태양을 연상케 합니다. 부드러운 초코케이크 위에 올렸습니다\n",
      "리뷰 존재\n",
      "커피가 맛있어요\n",
      "친절해요\n",
      "디저트가 맛있어요\n",
      "인테리어가 멋져요\n",
      "특별한 메뉴가 있어요\n",
      "['예커피'] ...완료\n",
      "[데이터 수집 완료]\n",
      "소요 시간 : 13.409157276153564 \n",
      "\n",
      "29번째 가게\n"
     ]
    },
    {
     "name": "stderr",
     "output_type": "stream",
     "text": [
      "The chromedriver version (128.0.6613.137) detected in PATH at c:\\Users\\kk21\\Desktop\\TRIPER\\chromedriver.exe might not be compatible with the detected chrome version (129.0.6668.101); currently, chromedriver 129.0.6668.100 is recommended for chrome 129.*, so it is advised to delete the driver in PATH and retry\n"
     ]
    },
    {
     "name": "stdout",
     "output_type": "stream",
     "text": [
      "https://map.naver.com/p/search/%EA%B5%AC%EB%A1%9C%EA%B5%AC%20%EC%8B%A0%EB%8F%84%EB%A6%BC%EB%AC%B8%EA%B7%A0/place/1332831020?c=15.00,0,0,0,dh&isCorrectAnswer=true\n",
      "결과 한 개\n",
      "\n",
      "[크롤링 시작...]\n",
      "신도림문균\n",
      "이자카야\n",
      "서울 구로구 새말로18길 64 1층 110호\n",
      "주문 유형 3\n",
      "모듬사시미\n",
      "광어, 엔가와, 연어, 참돔, 육사시미, 타코와사비로 구성된 모듬사시미\n",
      "리뷰 존재\n",
      "음식이 맛있어요\n",
      "친절해요\n",
      "기본 안주가 좋아요\n",
      "인테리어가 멋져요\n",
      "대화하기 좋아요\n",
      "['신도림문균'] ...완료\n",
      "[데이터 수집 완료]\n",
      "소요 시간 : 13.43320608139038 \n",
      "\n",
      "30번째 가게\n"
     ]
    },
    {
     "name": "stderr",
     "output_type": "stream",
     "text": [
      "The chromedriver version (128.0.6613.137) detected in PATH at c:\\Users\\kk21\\Desktop\\TRIPER\\chromedriver.exe might not be compatible with the detected chrome version (129.0.6668.101); currently, chromedriver 129.0.6668.100 is recommended for chrome 129.*, so it is advised to delete the driver in PATH and retry\n"
     ]
    },
    {
     "name": "stdout",
     "output_type": "stream",
     "text": [
      "https://map.naver.com/p/search/%EA%B5%AC%EB%A1%9C%EA%B5%AC%20%EC%9A%B0%EC%A0%95%EC%88%98%EC%9C%A1%20%EA%B5%AC%EB%A1%9C%EB%94%94%EC%A7%80%ED%84%B8%EB%8B%A8%EC%A7%80%EC%97%AD%EB%B3%B8%EC%A0%90/place/1798744950?c=15.00,0,0,0,dh&isCorrectAnswer=true\n",
      "결과 한 개\n",
      "\n",
      "[크롤링 시작...]\n",
      "우정수육 구로디지털단지역본점\n",
      "육류,고기요리\n",
      "서울 구로구 디지털로32길 97-6 1층\n",
      "주문 유형 3\n",
      "고기칼국수\n",
      "소꼬리,아롱사태,스지와 각종 한약재를 넣고 우려낸 국물과 함께 드실 있는 우정수육 대표메뉴\n",
      "리뷰 존재\n",
      "음식이 맛있어요\n",
      "친절해요\n",
      "매장이 청결해요\n",
      "고기 질이 좋아요\n",
      "특별한 메뉴가 있어요\n",
      "['우정수육 구로디지털단지역본점'] ...완료\n",
      "[데이터 수집 완료]\n",
      "소요 시간 : 13.42124891281128 \n",
      "\n",
      "31번째 가게\n"
     ]
    },
    {
     "name": "stderr",
     "output_type": "stream",
     "text": [
      "The chromedriver version (128.0.6613.137) detected in PATH at c:\\Users\\kk21\\Desktop\\TRIPER\\chromedriver.exe might not be compatible with the detected chrome version (129.0.6668.101); currently, chromedriver 129.0.6668.100 is recommended for chrome 129.*, so it is advised to delete the driver in PATH and retry\n"
     ]
    },
    {
     "name": "stdout",
     "output_type": "stream",
     "text": [
      "https://map.naver.com/p/search/%EA%B5%AC%EB%A1%9C%EA%B5%AC%20%EC%9D%B4%EC%B6%98%EB%B3%B5%EC%B0%B8%EC%B9%98%20%EC%8B%A0%EB%8F%84%EB%A6%BC%EB%94%94%ED%81%90%EB%B8%8C%EC%8B%9C%ED%8B%B0%EC%A0%90?c=15.00,0,0,0,dh\n",
      "결과 여러 개 존재(지점 또는 근접 지역)\n",
      "\n",
      "[크롤링 시작...]\n",
      "이춘복참치 신도림디큐브시티점\n",
      "생선회\n",
      "서울 구로구 경인로 662 현대백화점 디큐브시티점 별관 3층\n",
      "주문 유형 3\n",
      "실장추천참치\n",
      "초밥 18pcs, 튀김 6pcs, 구이, 샐러드, 미니우동 2ea\n",
      "리뷰 존재\n",
      "음식이 맛있어요\n",
      "재료가 신선해요\n",
      "매장이 넓어요\n",
      "가성비가 좋아요\n",
      "친절해요\n",
      "['이춘복참치 신도림디큐브시티점'] ...완료\n",
      "[데이터 수집 완료]\n",
      "소요 시간 : 13.468215942382812 \n",
      "\n",
      "32번째 가게\n"
     ]
    },
    {
     "name": "stderr",
     "output_type": "stream",
     "text": [
      "The chromedriver version (128.0.6613.137) detected in PATH at c:\\Users\\kk21\\Desktop\\TRIPER\\chromedriver.exe might not be compatible with the detected chrome version (129.0.6668.101); currently, chromedriver 129.0.6668.100 is recommended for chrome 129.*, so it is advised to delete the driver in PATH and retry\n"
     ]
    },
    {
     "name": "stdout",
     "output_type": "stream",
     "text": [
      "https://map.naver.com/p/search/%EA%B5%AC%EB%A1%9C%EA%B5%AC%20%EB%82%99%EC%9B%90%EA%B0%88%EB%B9%84%EC%A7%91%20%EA%B5%AC%EB%A1%9C%EA%B5%AC%EC%B2%AD%EC%A0%90?c=15.00,0,0,0,dh\n",
      "결과 여러 개 존재(지점 또는 근접 지역)\n",
      "\n",
      "[크롤링 시작...]\n",
      "낙원갈비집 구로구청점\n",
      "육류,고기요리\n",
      "서울 구로구 가마산로 286 202호\n",
      "주문 유형 3\n",
      "점심특선2-3인세트(11시-2시)\n",
      "은이눈꽃양념구이460g+우삼겹샤브고기120g\n",
      "리뷰 존재\n",
      "음식이 맛있어요\n",
      "고기 질이 좋아요\n",
      "가성비가 좋아요\n",
      "양이 많아요\n",
      "친절해요\n",
      "['낙원갈비집 구로구청점'] ...완료\n",
      "[데이터 수집 완료]\n",
      "소요 시간 : 13.421199321746826 \n",
      "\n",
      "33번째 가게\n"
     ]
    },
    {
     "name": "stderr",
     "output_type": "stream",
     "text": [
      "The chromedriver version (128.0.6613.137) detected in PATH at c:\\Users\\kk21\\Desktop\\TRIPER\\chromedriver.exe might not be compatible with the detected chrome version (129.0.6668.101); currently, chromedriver 129.0.6668.100 is recommended for chrome 129.*, so it is advised to delete the driver in PATH and retry\n"
     ]
    },
    {
     "name": "stdout",
     "output_type": "stream",
     "text": [
      "https://map.naver.com/p/search/%EA%B5%AC%EB%A1%9C%EA%B5%AC%20%EA%B0%95%EC%B4%8C%EC%88%AF%EB%B6%88%EB%8B%AD%EA%B0%88%EB%B9%84%20%EB%B3%B8%EC%A0%90/place/33646760?c=15.00,0,0,0,dh&isCorrectAnswer=true\n",
      "결과 한 개\n",
      "\n",
      "[크롤링 시작...]\n",
      "강촌숯불닭갈비 본점\n",
      "닭갈비\n",
      "서울 구로구 공원로6나길 35-2\n",
      "주문 유형 3\n",
      "양념숯불닭갈비\n",
      "메뉴 설명 없음\n",
      "리뷰 존재\n",
      "음식이 맛있어요\n",
      "친절해요\n",
      "특별한 메뉴가 있어요\n",
      "고기 질이 좋아요\n",
      "직접 잘 구워줘요\n",
      "['강촌숯불닭갈비 본점'] ...완료\n",
      "[데이터 수집 완료]\n",
      "소요 시간 : 13.42789602279663 \n",
      "\n",
      "34번째 가게\n"
     ]
    },
    {
     "name": "stderr",
     "output_type": "stream",
     "text": [
      "The chromedriver version (128.0.6613.137) detected in PATH at c:\\Users\\kk21\\Desktop\\TRIPER\\chromedriver.exe might not be compatible with the detected chrome version (129.0.6668.101); currently, chromedriver 129.0.6668.100 is recommended for chrome 129.*, so it is advised to delete the driver in PATH and retry\n"
     ]
    },
    {
     "name": "stdout",
     "output_type": "stream",
     "text": [
      "https://map.naver.com/p/search/%EA%B5%AC%EB%A1%9C%EA%B5%AC%20%EB%B0%94%EB%A5%B4%EB%AF%B8%20%EC%8A%A4%EC%8B%9C%EC%83%A4%EB%B8%8C%20%ED%98%84%EB%8C%80%EB%B0%B1%ED%99%94%EC%A0%90%EB%94%94%ED%81%90%EB%B8%8C%EC%8B%9C%ED%8B%B0%EC%A0%90/place/31564548?c=15.00,0,0,0,dh&isCorrectAnswer=true\n",
      "결과 한 개\n",
      "\n",
      "[크롤링 시작...]\n",
      "바르미 스시샤브 현대백화점디큐브시티점\n",
      "샤브샤브\n",
      "서울 구로구 경인로 662 별관 3층\n",
      "주문 유형 3\n",
      "바르미스시샤브 평일점심\n",
      "메뉴 설명 없음\n",
      "리뷰 존재\n",
      "음식이 맛있어요\n",
      "재료가 신선해요\n",
      "매장이 넓어요\n",
      "가성비가 좋아요\n",
      "양이 많아요\n",
      "['바르미 스시샤브 현대백화점디큐브시티점'] ...완료\n",
      "[데이터 수집 완료]\n",
      "소요 시간 : 13.391997575759888 \n",
      "\n",
      "35번째 가게\n"
     ]
    },
    {
     "name": "stderr",
     "output_type": "stream",
     "text": [
      "The chromedriver version (128.0.6613.137) detected in PATH at c:\\Users\\kk21\\Desktop\\TRIPER\\chromedriver.exe might not be compatible with the detected chrome version (129.0.6668.101); currently, chromedriver 129.0.6668.100 is recommended for chrome 129.*, so it is advised to delete the driver in PATH and retry\n"
     ]
    },
    {
     "name": "stdout",
     "output_type": "stream",
     "text": [
      "https://map.naver.com/p/search/%EA%B5%AC%EB%A1%9C%EA%B5%AC%20%EB%B8%8C%EB%A0%88%EB%8C%84%EC%BD%94%20%EA%B3%A0%EC%B2%99%EC%A0%90?c=15.00,0,0,0,dh\n",
      "결과 여러 개 존재(지점 또는 근접 지역)\n",
      "가게 없음\n",
      "36번째 가게\n"
     ]
    },
    {
     "name": "stderr",
     "output_type": "stream",
     "text": [
      "The chromedriver version (128.0.6613.137) detected in PATH at c:\\Users\\kk21\\Desktop\\TRIPER\\chromedriver.exe might not be compatible with the detected chrome version (129.0.6668.101); currently, chromedriver 129.0.6668.100 is recommended for chrome 129.*, so it is advised to delete the driver in PATH and retry\n"
     ]
    },
    {
     "name": "stdout",
     "output_type": "stream",
     "text": [
      "https://map.naver.com/p/search/%EA%B5%AC%EB%A1%9C%EA%B5%AC%20%EB%A7%88%EB%87%A8%EB%96%A1%EB%B3%B6%EC%9D%B4%20NC%EC%8B%A0%EA%B5%AC%EB%A1%9C%EC%A0%90?c=15.00,0,0,0,dh\n",
      "결과 여러 개 존재(지점 또는 근접 지역)\n",
      "\n",
      "[크롤링 시작...]\n",
      "마뇨떡볶이 NC신구로점\n",
      "분식\n",
      "서울 구로구 구로중앙로 152 6F 마뇨떡볶이 NC신구로점\n",
      "주문 유형 3\n",
      "성인\n",
      "메뉴 설명 없음\n",
      "리뷰 존재\n",
      "음식이 맛있어요\n",
      "가성비가 좋아요\n",
      "양이 많아요\n",
      "매장이 넓어요\n",
      "친절해요\n",
      "['마뇨떡볶이 NC신구로점'] ...완료\n",
      "[데이터 수집 완료]\n",
      "소요 시간 : 13.380650758743286 \n",
      "\n",
      "37번째 가게\n"
     ]
    },
    {
     "name": "stderr",
     "output_type": "stream",
     "text": [
      "The chromedriver version (128.0.6613.137) detected in PATH at c:\\Users\\kk21\\Desktop\\TRIPER\\chromedriver.exe might not be compatible with the detected chrome version (129.0.6668.101); currently, chromedriver 129.0.6668.100 is recommended for chrome 129.*, so it is advised to delete the driver in PATH and retry\n"
     ]
    },
    {
     "name": "stdout",
     "output_type": "stream",
     "text": [
      "https://map.naver.com/p/search/%EA%B5%AC%EB%A1%9C%EA%B5%AC%20%EB%B0%B1%EC%86%8C%EC%A0%95%20%EB%8F%99%EC%96%91%EB%AF%B8%EB%9E%98%EB%8C%80%EC%A0%90?c=15.00,0,0,0,dh\n",
      "결과 여러 개 존재(지점 또는 근접 지역)\n",
      "\n",
      "[크롤링 시작...]\n",
      "백소정 동양미래대점\n",
      "일식당\n",
      "서울 구로구 경인로47길 26 2층, 백소정 동양미래대점\n",
      "주문 유형 3\n",
      "[[구성최고]] 마제소바 돈카츠\n",
      "마제소바+로스카츠(小)+다시마식초+돈카츠소스+밥+반찬2종\n",
      "리뷰 존재\n",
      "음식이 맛있어요\n",
      "매장이 넓어요\n",
      "친절해요\n",
      "재료가 신선해요\n",
      "매장이 청결해요\n",
      "['백소정 동양미래대점'] ...완료\n",
      "[데이터 수집 완료]\n",
      "소요 시간 : 13.39983606338501 \n",
      "\n",
      "38번째 가게\n"
     ]
    },
    {
     "name": "stderr",
     "output_type": "stream",
     "text": [
      "The chromedriver version (128.0.6613.137) detected in PATH at c:\\Users\\kk21\\Desktop\\TRIPER\\chromedriver.exe might not be compatible with the detected chrome version (129.0.6668.101); currently, chromedriver 129.0.6668.100 is recommended for chrome 129.*, so it is advised to delete the driver in PATH and retry\n"
     ]
    },
    {
     "name": "stdout",
     "output_type": "stream",
     "text": [
      "https://map.naver.com/p/search/%EA%B5%AC%EB%A1%9C%EA%B5%AC%20%EB%AC%B4%ED%95%9C%EC%9E%90%EA%B8%88%EC%84%B1/place/1217816166?c=15.00,0,0,0,dh&isCorrectAnswer=true\n",
      "결과 한 개\n",
      "\n",
      "[크롤링 시작...]\n",
      "무한자금성\n",
      "중식당\n",
      "서울 구로구 디지털로 273 지하1층\n",
      "주문 유형 3\n",
      "성인\n",
      "메뉴 설명 없음\n",
      "리뷰 존재\n",
      "음식이 맛있어요\n",
      "가성비가 좋아요\n",
      "양이 많아요\n",
      "친절해요\n",
      "혼밥하기 좋아요\n",
      "['무한자금성'] ...완료\n",
      "[데이터 수집 완료]\n",
      "소요 시간 : 13.403401851654053 \n",
      "\n",
      "39번째 가게\n"
     ]
    },
    {
     "name": "stderr",
     "output_type": "stream",
     "text": [
      "The chromedriver version (128.0.6613.137) detected in PATH at c:\\Users\\kk21\\Desktop\\TRIPER\\chromedriver.exe might not be compatible with the detected chrome version (129.0.6668.101); currently, chromedriver 129.0.6668.100 is recommended for chrome 129.*, so it is advised to delete the driver in PATH and retry\n"
     ]
    },
    {
     "name": "stdout",
     "output_type": "stream",
     "text": [
      "https://map.naver.com/p/search/%EA%B5%AC%EB%A1%9C%EA%B5%AC%20%EB%B9%88%EB%B8%8C%EB%9D%BC%EB%8D%94%EC%8A%A4%20%ED%98%84%EB%8C%80%EB%B0%B1%ED%99%94%EC%A0%90%20%EB%94%94%ED%81%90%EB%B8%8C%EC%8B%9C%ED%8B%B0?c=15.00,0,0,0,dh\n",
      "결과 여러 개 존재(지점 또는 근접 지역)\n",
      "\n",
      "[크롤링 시작...]\n",
      "빈브라더스 현대백화점 디큐브시티\n",
      "카페\n",
      "서울 구로구 경인로 662 현대백화점 별관 3층\n",
      "주문 유형 3\n",
      "드립커피\n",
      "원두에 따라 가격이 달라집니다.\n",
      "리뷰 존재\n",
      "커피가 맛있어요\n",
      "디저트가 맛있어요\n",
      "친절해요\n",
      "음료가 맛있어요\n",
      "매장이 청결해요\n",
      "['빈브라더스 현대백화점 디큐브시티'] ...완료\n",
      "[데이터 수집 완료]\n",
      "소요 시간 : 13.427474737167358 \n",
      "\n",
      "40번째 가게\n"
     ]
    },
    {
     "name": "stderr",
     "output_type": "stream",
     "text": [
      "The chromedriver version (128.0.6613.137) detected in PATH at c:\\Users\\kk21\\Desktop\\TRIPER\\chromedriver.exe might not be compatible with the detected chrome version (129.0.6668.101); currently, chromedriver 129.0.6668.100 is recommended for chrome 129.*, so it is advised to delete the driver in PATH and retry\n"
     ]
    },
    {
     "name": "stdout",
     "output_type": "stream",
     "text": [
      "https://map.naver.com/p/search/%EA%B5%AC%EB%A1%9C%EA%B5%AC%20%EB%82%AD%EB%A7%8C%EB%B6%80%EB%8C%80%EC%B0%8C%EA%B0%9C/place/33101938?c=15.00,0,0,0,dh&isCorrectAnswer=true\n",
      "결과 한 개\n",
      "\n",
      "[크롤링 시작...]\n",
      "낭만부대찌개\n",
      "찌개,전골\n",
      "서울 구로구 디지털로 288 B104호\n",
      "주문 유형 3\n",
      "낭만부대찌개\n",
      "구로디지털단지에 위치한 부대찌개,부대볶음 전문점입니다. 진한 사골육수와 마늘소스가 잘 어우러진 얼큰한 국물에 각종 고급 햄소시지가 첨가된 진하고 깊은맛의 부대찌개 입니다.\n",
      "리뷰 존재\n",
      "음식이 맛있어요\n",
      "양이 많아요\n",
      "가성비가 좋아요\n",
      "친절해요\n",
      "재료가 신선해요\n",
      "['낭만부대찌개'] ...완료\n",
      "[데이터 수집 완료]\n",
      "소요 시간 : 13.41490125656128 \n",
      "\n",
      "41번째 가게\n"
     ]
    },
    {
     "name": "stderr",
     "output_type": "stream",
     "text": [
      "The chromedriver version (128.0.6613.137) detected in PATH at c:\\Users\\kk21\\Desktop\\TRIPER\\chromedriver.exe might not be compatible with the detected chrome version (129.0.6668.101); currently, chromedriver 129.0.6668.100 is recommended for chrome 129.*, so it is advised to delete the driver in PATH and retry\n"
     ]
    },
    {
     "name": "stdout",
     "output_type": "stream",
     "text": [
      "https://map.naver.com/p/search/%EA%B5%AC%EB%A1%9C%EA%B5%AC%20%EC%BD%94%EC%A7%80%EB%A1%9C%EC%98%A4%EB%AA%A8%ED%85%8C%EB%82%98%EC%8B%9C%20%EA%B5%AC%EB%A1%9C%EB%94%94%EC%A7%80%ED%84%B8%EB%8B%A8%EC%A7%80%EC%A0%90/place/1701525188?c=15.00,0,0,0,dh&isCorrectAnswer=true\n",
      "결과 한 개\n",
      "\n",
      "[크롤링 시작...]\n",
      "코지로오모테나시 구로디지털단지점\n",
      "이자카야\n",
      "서울 구로구 디지털로32길 97-16 2층\n",
      "주문 유형 3\n",
      "모듬사시미(대)\n",
      "메뉴 설명 없음\n",
      "리뷰 존재\n",
      "음식이 맛있어요\n",
      "술이 다양해요\n",
      "친절해요\n",
      "인테리어가 멋져요\n",
      "기본 안주가 좋아요\n",
      "['코지로오모테나시 구로디지털단지점'] ...완료\n",
      "[데이터 수집 완료]\n",
      "소요 시간 : 13.417479991912842 \n",
      "\n",
      "42번째 가게\n"
     ]
    },
    {
     "name": "stderr",
     "output_type": "stream",
     "text": [
      "The chromedriver version (128.0.6613.137) detected in PATH at c:\\Users\\kk21\\Desktop\\TRIPER\\chromedriver.exe might not be compatible with the detected chrome version (129.0.6668.101); currently, chromedriver 129.0.6668.100 is recommended for chrome 129.*, so it is advised to delete the driver in PATH and retry\n"
     ]
    },
    {
     "name": "stdout",
     "output_type": "stream",
     "text": [
      "https://map.naver.com/p/search/%EA%B5%AC%EB%A1%9C%EA%B5%AC%20%ED%9B%84%EC%99%80%ED%9B%84%EC%99%80%20%ED%98%84%EB%8C%80%EB%B0%B1%ED%99%94%EC%A0%90%20%EB%94%94%ED%81%90%EB%B8%8C%EC%8B%9C%ED%8B%B0%EC%A0%90/place/1938596810?c=15.00,0,0,0,dh&isCorrectAnswer=true\n",
      "결과 한 개\n",
      "\n",
      "[크롤링 시작...]\n",
      "후와후와 현대백화점 디큐브시티점\n",
      "일식당\n",
      "서울 구로구 경인로 662 현대백화점 디큐브시티 5층\n",
      "주문 유형 3\n",
      "유즈콜라비냉소바 카츠세트\n",
      "상큼한 유자와 아삭한 콜라비가 어울러진 건강한 일본식 냉소바와 카츠의 조화\n",
      "리뷰 존재\n",
      "음식이 맛있어요\n",
      "매장이 넓어요\n",
      "친절해요\n",
      "매장이 청결해요\n",
      "특별한 메뉴가 있어요\n",
      "['후와후와 현대백화점 디큐브시티점'] ...완료\n",
      "[데이터 수집 완료]\n",
      "소요 시간 : 13.401458978652954 \n",
      "\n",
      "43번째 가게\n"
     ]
    },
    {
     "name": "stderr",
     "output_type": "stream",
     "text": [
      "The chromedriver version (128.0.6613.137) detected in PATH at c:\\Users\\kk21\\Desktop\\TRIPER\\chromedriver.exe might not be compatible with the detected chrome version (129.0.6668.101); currently, chromedriver 129.0.6668.100 is recommended for chrome 129.*, so it is advised to delete the driver in PATH and retry\n"
     ]
    },
    {
     "name": "stdout",
     "output_type": "stream",
     "text": [
      "https://map.naver.com/p/search/%EA%B5%AC%EB%A1%9C%EA%B5%AC%20%EC%9D%B4%EC%8A%A4%ED%8A%B8%EB%B0%94%EC%9D%B4%EA%B2%8C%EC%9D%B4%ED%8A%B8%20%EC%8B%A0%EB%8F%84%EB%A6%BC%EC%A0%90/place/39801390?c=15.00,0,0,0,dh&isCorrectAnswer=true\n",
      "결과 한 개\n",
      "\n",
      "[크롤링 시작...]\n",
      "이스트바이게이트 신도림점\n",
      "태국음식\n",
      "서울 구로구 경인로 662 디큐브시티\n",
      "주문 유형 3\n",
      "뿌팟봉커리\n",
      "바삭한 소프트크랩을 각종 야채와 커리소스로 곁들인 태국의 대표적인 요리\n",
      "리뷰 존재\n",
      "음식이 맛있어요\n",
      "친절해요\n",
      "매장이 넓어요\n",
      "매장이 청결해요\n",
      "재료가 신선해요\n",
      "['이스트바이게이트 신도림점'] ...완료\n",
      "[데이터 수집 완료]\n",
      "소요 시간 : 13.398671865463257 \n",
      "\n",
      "44번째 가게\n"
     ]
    },
    {
     "name": "stderr",
     "output_type": "stream",
     "text": [
      "The chromedriver version (128.0.6613.137) detected in PATH at c:\\Users\\kk21\\Desktop\\TRIPER\\chromedriver.exe might not be compatible with the detected chrome version (129.0.6668.101); currently, chromedriver 129.0.6668.100 is recommended for chrome 129.*, so it is advised to delete the driver in PATH and retry\n"
     ]
    },
    {
     "name": "stdout",
     "output_type": "stream",
     "text": [
      "https://map.naver.com/p/search/%EA%B5%AC%EB%A1%9C%EA%B5%AC%20%EC%9A%B0%EB%A6%AC%EB%93%A4%EC%88%AF%EB%B6%88%EA%B0%88%EB%B9%84/place/13584407?c=15.00,0,0,0,dh&isCorrectAnswer=true\n",
      "결과 한 개\n",
      "\n",
      "[크롤링 시작...]\n",
      "우리들숯불갈비\n",
      "육류,고기요리\n",
      "서울 구로구 새말로 102\n",
      "주문 유형 3\n",
      "한우곰탕\n",
      "점심메뉴\n",
      "리뷰 존재\n",
      "음식이 맛있어요\n",
      "고기 질이 좋아요\n",
      "매장이 넓어요\n",
      "단체모임 하기 좋아요\n",
      "친절해요\n",
      "['우리들숯불갈비'] ...완료\n",
      "[데이터 수집 완료]\n",
      "소요 시간 : 13.467621564865112 \n",
      "\n",
      "45번째 가게\n"
     ]
    },
    {
     "name": "stderr",
     "output_type": "stream",
     "text": [
      "The chromedriver version (128.0.6613.137) detected in PATH at c:\\Users\\kk21\\Desktop\\TRIPER\\chromedriver.exe might not be compatible with the detected chrome version (129.0.6668.101); currently, chromedriver 129.0.6668.100 is recommended for chrome 129.*, so it is advised to delete the driver in PATH and retry\n"
     ]
    },
    {
     "name": "stdout",
     "output_type": "stream",
     "text": [
      "https://map.naver.com/p/search/%EA%B5%AC%EB%A1%9C%EA%B5%AC%20%EC%98%A5%EC%8A%A4%EB%9D%BC%EC%9D%B4%EB%B8%8C%ED%8C%8C%EC%9D%B4%EC%96%B4%EA%B7%B8%EB%A6%B4/place/1301309487?c=15.00,0,0,0,dh&isCorrectAnswer=true\n",
      "결과 한 개\n",
      "\n",
      "[크롤링 시작...]\n",
      "옥스라이브파이어그릴\n",
      "소고기구이\n",
      "서울 구로구 개봉로20길 30 1층 옥스라이브파이어그릴\n",
      "주문 유형 3\n",
      "OX 디너메뉴 :시즌6 (5/24~)\n",
      "우드파이어 그릴을 사용한 소고기위주의 9코스\n",
      "리뷰 존재\n",
      "음식이 맛있어요\n",
      "인테리어가 멋져요\n",
      "특별한 날 가기 좋아요\n",
      "친절해요\n",
      "고기 질이 좋아요\n",
      "['옥스라이브파이어그릴'] ...완료\n",
      "[데이터 수집 완료]\n",
      "소요 시간 : 13.407552719116211 \n",
      "\n",
      "46번째 가게\n"
     ]
    },
    {
     "name": "stderr",
     "output_type": "stream",
     "text": [
      "The chromedriver version (128.0.6613.137) detected in PATH at c:\\Users\\kk21\\Desktop\\TRIPER\\chromedriver.exe might not be compatible with the detected chrome version (129.0.6668.101); currently, chromedriver 129.0.6668.100 is recommended for chrome 129.*, so it is advised to delete the driver in PATH and retry\n"
     ]
    },
    {
     "name": "stdout",
     "output_type": "stream",
     "text": [
      "https://map.naver.com/p/search/%EA%B5%AC%EB%A1%9C%EA%B5%AC%20%EB%94%94%EC%A0%80%ED%8A%B8%EC%83%B5%EC%8B%9C%EC%86%8C/place/1441471542?c=15.00,0,0,0,dh&isCorrectAnswer=true\n",
      "결과 한 개\n",
      "\n",
      "[크롤링 시작...]\n",
      "디저트샵시소\n",
      "케이크전문\n",
      "서울 구로구 천왕로 29 1층 101호\n",
      "주문 유형 3\n",
      "조각케이크\n",
      "동물성생크림 ,제철과일 , 매장에서 직접 구운 시트로 만드는 조각케이크(메뉴상시변경)\n",
      "리뷰 존재\n",
      "디저트가 맛있어요\n",
      "친절해요\n",
      "특별한 메뉴가 있어요\n",
      "선물하기 좋아요\n",
      "매장이 청결해요\n",
      "['디저트샵시소'] ...완료\n",
      "[데이터 수집 완료]\n",
      "소요 시간 : 13.398625373840332 \n",
      "\n",
      "47번째 가게\n"
     ]
    },
    {
     "name": "stderr",
     "output_type": "stream",
     "text": [
      "The chromedriver version (128.0.6613.137) detected in PATH at c:\\Users\\kk21\\Desktop\\TRIPER\\chromedriver.exe might not be compatible with the detected chrome version (129.0.6668.101); currently, chromedriver 129.0.6668.100 is recommended for chrome 129.*, so it is advised to delete the driver in PATH and retry\n"
     ]
    },
    {
     "name": "stdout",
     "output_type": "stream",
     "text": [
      "https://map.naver.com/p/search/%EA%B5%AC%EB%A1%9C%EA%B5%AC%20%EB%9D%BC%EA%B7%B8%EB%A6%B4%EB%A6%AC%EC%95%84%20%EC%8B%A0%EB%8F%84%EB%A6%BC%EB%94%94%ED%81%90%EB%B8%8C%EC%8B%9C%ED%8B%B0%EC%A0%90?c=15.00,0,0,0,dh\n",
      "결과 여러 개 존재(지점 또는 근접 지역)\n",
      "\n",
      "[크롤링 시작...]\n",
      "라그릴리아 신도림디큐브시티점\n",
      "이탈리아음식\n",
      "서울 구로구 경인로 662 디큐브시티 별관 2층\n",
      "주문 유형 3\n",
      "무화과 부라타 샐러드\n",
      "메뉴 설명 없음\n",
      "오류 예외 처리\n",
      "48번째 가게\n"
     ]
    },
    {
     "name": "stderr",
     "output_type": "stream",
     "text": [
      "The chromedriver version (128.0.6613.137) detected in PATH at c:\\Users\\kk21\\Desktop\\TRIPER\\chromedriver.exe might not be compatible with the detected chrome version (129.0.6668.101); currently, chromedriver 129.0.6668.100 is recommended for chrome 129.*, so it is advised to delete the driver in PATH and retry\n"
     ]
    },
    {
     "name": "stdout",
     "output_type": "stream",
     "text": [
      "https://map.naver.com/p/search/%EA%B5%AC%EB%A1%9C%EA%B5%AC%20%EA%B3%A0%EB%B0%94%EC%9A%B0?c=15.00,0,0,0,dh\n",
      "결과 여러 개 존재(지점 또는 근접 지역)\n",
      "\n",
      "[크롤링 시작...]\n",
      "고바우\n",
      "육류,고기요리\n",
      "서울 구로구 부일로1길 9\n",
      "주문 유형 3\n",
      "덩어리생고기\n",
      "메뉴 설명 없음\n",
      "리뷰 존재\n",
      "음식이 맛있어요\n",
      "가성비가 좋아요\n",
      "친절해요\n",
      "고기 질이 좋아요\n",
      "양이 많아요\n",
      "['고바우'] ...완료\n",
      "[데이터 수집 완료]\n",
      "소요 시간 : 13.410809516906738 \n",
      "\n",
      "49번째 가게\n"
     ]
    },
    {
     "name": "stderr",
     "output_type": "stream",
     "text": [
      "The chromedriver version (128.0.6613.137) detected in PATH at c:\\Users\\kk21\\Desktop\\TRIPER\\chromedriver.exe might not be compatible with the detected chrome version (129.0.6668.101); currently, chromedriver 129.0.6668.100 is recommended for chrome 129.*, so it is advised to delete the driver in PATH and retry\n"
     ]
    },
    {
     "name": "stdout",
     "output_type": "stream",
     "text": [
      "https://map.naver.com/p/search/%EA%B5%AC%EB%A1%9C%EA%B5%AC%20%EB%A9%98%EC%95%BC%EC%9D%B4%EC%B0%8C%EB%B0%A9%20%EA%B3%A0%EC%B2%99%EC%A0%90/place/1698414763?c=15.00,0,0,0,dh&isCorrectAnswer=true\n",
      "결과 한 개\n",
      "\n",
      "[크롤링 시작...]\n",
      "멘야이찌방 고척점\n",
      "일본식라면\n",
      "서울 구로구 경인로47길 60 1층\n",
      "주문 유형 3\n",
      "지로라멘\n",
      "흘러넘치는 푸짐한양으로 일본 현지 20대 남성들의 최고인기메뉴 입니다\n",
      "리뷰 존재\n",
      "음식이 맛있어요\n",
      "혼밥하기 좋아요\n",
      "양이 많아요\n",
      "친절해요\n",
      "재료가 신선해요\n",
      "['멘야이찌방 고척점'] ...완료\n",
      "[데이터 수집 완료]\n",
      "소요 시간 : 13.390607595443726 \n",
      "\n",
      "50번째 가게\n"
     ]
    },
    {
     "name": "stderr",
     "output_type": "stream",
     "text": [
      "The chromedriver version (128.0.6613.137) detected in PATH at c:\\Users\\kk21\\Desktop\\TRIPER\\chromedriver.exe might not be compatible with the detected chrome version (129.0.6668.101); currently, chromedriver 129.0.6668.100 is recommended for chrome 129.*, so it is advised to delete the driver in PATH and retry\n"
     ]
    },
    {
     "name": "stdout",
     "output_type": "stream",
     "text": [
      "https://map.naver.com/p/search/%EA%B5%AC%EB%A1%9C%EA%B5%AC%20%EB%9D%BC%EB%A7%88%EB%85%B8%ED%94%BC%EC%9E%90/place/37433126?c=15.00,0,0,0,dh&isCorrectAnswer=true\n",
      "결과 한 개\n",
      "\n",
      "[크롤링 시작...]\n",
      "라마노피자\n",
      "피자\n",
      "서울 구로구 디지털로34길 55 코오롱싸이언스밸리2차 지하1층 B119호\n",
      "주문 유형 3\n",
      "생 라임 모히또\n",
      "Lime Mojito(논알콜가능)\n",
      "리뷰 존재\n",
      "음식이 맛있어요\n",
      "친절해요\n",
      "재료가 신선해요\n",
      "특별한 메뉴가 있어요\n",
      "가성비가 좋아요\n",
      "['라마노피자'] ...완료\n",
      "[데이터 수집 완료]\n",
      "소요 시간 : 13.40455675125122 \n",
      "\n",
      "51번째 가게\n"
     ]
    },
    {
     "name": "stderr",
     "output_type": "stream",
     "text": [
      "The chromedriver version (128.0.6613.137) detected in PATH at c:\\Users\\kk21\\Desktop\\TRIPER\\chromedriver.exe might not be compatible with the detected chrome version (129.0.6668.101); currently, chromedriver 129.0.6668.100 is recommended for chrome 129.*, so it is advised to delete the driver in PATH and retry\n"
     ]
    },
    {
     "name": "stdout",
     "output_type": "stream",
     "text": [
      "https://map.naver.com/p/search/%EA%B5%AC%EB%A1%9C%EA%B5%AC%20%EC%98%A4%EC%82%AC%EC%B9%B4%EB%A1%9C/place/1734725123?c=15.00,0,0,0,dh&isCorrectAnswer=true\n",
      "결과 한 개\n",
      "\n",
      "[크롤링 시작...]\n",
      "오사카로\n",
      "이자카야\n",
      "서울 구로구 경인로67길 23 신도림푸르지오2차 2층 206호\n",
      "주문 유형 3\n",
      "랍스터 특선 사시미\n",
      "신선한 계절 사시미와 라이브 랍스터 사시미+ 랍스터 매운탕\n",
      "리뷰 존재\n",
      "음식이 맛있어요\n",
      "대화하기 좋아요\n",
      "인테리어가 멋져요\n",
      "친절해요\n",
      "술이 다양해요\n",
      "['오사카로'] ...완료\n",
      "[데이터 수집 완료]\n",
      "소요 시간 : 13.444498062133789 \n",
      "\n",
      "52번째 가게\n"
     ]
    },
    {
     "name": "stderr",
     "output_type": "stream",
     "text": [
      "The chromedriver version (128.0.6613.137) detected in PATH at c:\\Users\\kk21\\Desktop\\TRIPER\\chromedriver.exe might not be compatible with the detected chrome version (129.0.6668.101); currently, chromedriver 129.0.6668.100 is recommended for chrome 129.*, so it is advised to delete the driver in PATH and retry\n"
     ]
    },
    {
     "name": "stdout",
     "output_type": "stream",
     "text": [
      "https://map.naver.com/p/search/%EA%B5%AC%EB%A1%9C%EA%B5%AC%20%EB%8F%85%EA%B0%80%EB%A7%88%EC%88%AF%EB%B6%88%EC%B9%98%ED%82%A8%20%EA%B3%A0%EC%B2%99%EC%A0%90/place/1222511735?c=15.00,0,0,0,dh&isCorrectAnswer=true\n",
      "결과 한 개\n",
      "\n",
      "[크롤링 시작...]\n",
      "독가마숯불치킨 고척점\n",
      "치킨,닭강정\n",
      "서울 구로구 경서로 82-2 고척교회 앞\n",
      "주문 유형 2\n",
      "순살-반반구이인기\n",
      "\n",
      "리뷰 존재\n",
      "음식이 맛있어요\n",
      "친절해요\n",
      "가성비가 좋아요\n",
      "재료가 신선해요\n",
      "특별한 메뉴가 있어요\n",
      "['독가마숯불치킨 고척점'] ...완료\n",
      "[데이터 수집 완료]\n",
      "소요 시간 : 18.81837224960327 \n",
      "\n",
      "53번째 가게\n"
     ]
    },
    {
     "name": "stderr",
     "output_type": "stream",
     "text": [
      "The chromedriver version (128.0.6613.137) detected in PATH at c:\\Users\\kk21\\Desktop\\TRIPER\\chromedriver.exe might not be compatible with the detected chrome version (129.0.6668.101); currently, chromedriver 129.0.6668.100 is recommended for chrome 129.*, so it is advised to delete the driver in PATH and retry\n"
     ]
    },
    {
     "name": "stdout",
     "output_type": "stream",
     "text": [
      "https://map.naver.com/p/search/%EA%B5%AC%EB%A1%9C%EA%B5%AC%20%EC%98%9B%EB%82%A0%EB%A7%88%EC%B0%A8?c=15.00,0,0,0,dh\n",
      "결과 여러 개 존재(지점 또는 근접 지역)\n",
      "\n",
      "[크롤링 시작...]\n",
      "옛날마차\n",
      "생선회\n",
      "서울 구로구 디지털로32길 97-16\n",
      "주문 유형 3\n",
      "옛날마차스페셜\n",
      "옛날마차 스페셜세트에는 광어. 우럭. 연어. 세꼬시와 전복/세우/키조개/낙지/석화/멍개/돌멍개로 싱싱한 회와 해산물이 푸짐하게 구성되어 꽁치구이, 전, 기장멸치무침등 함께 제공\n",
      "리뷰 존재\n",
      "음식이 맛있어요\n",
      "재료가 신선해요\n",
      "가성비가 좋아요\n",
      "친절해요\n",
      "양이 많아요\n",
      "['옛날마차'] ...완료\n",
      "[데이터 수집 완료]\n",
      "소요 시간 : 13.427568912506104 \n",
      "\n",
      "54번째 가게\n"
     ]
    },
    {
     "name": "stderr",
     "output_type": "stream",
     "text": [
      "The chromedriver version (128.0.6613.137) detected in PATH at c:\\Users\\kk21\\Desktop\\TRIPER\\chromedriver.exe might not be compatible with the detected chrome version (129.0.6668.101); currently, chromedriver 129.0.6668.100 is recommended for chrome 129.*, so it is advised to delete the driver in PATH and retry\n"
     ]
    },
    {
     "name": "stdout",
     "output_type": "stream",
     "text": [
      "https://map.naver.com/p/search/%EA%B5%AC%EB%A1%9C%EA%B5%AC%20%EB%AA%85%EC%9D%B8%EA%B3%A0%EA%B8%B0%20%EB%B3%B8%EC%A0%90/place/1033926514?c=15.00,0,0,0,dh&isCorrectAnswer=true\n",
      "결과 한 개\n",
      "\n",
      "[크롤링 시작...]\n",
      "명인고기본점\n",
      "소고기구이\n",
      "서울 구로구 새말로9길 46 2층\n",
      "주문 유형 3\n",
      "한우갈비살(늑간)1인분(150g)\n",
      "발골실에서 직접 발골한 한우1+,1++ 등급 갈비살 바싹 구워먹으면 고소한맛이 배가됩니다.\n",
      "리뷰 존재\n",
      "음식이 맛있어요\n",
      "고기 질이 좋아요\n",
      "매장이 넓어요\n",
      "친절해요\n",
      "단체모임 하기 좋아요\n",
      "['명인고기본점'] ...완료\n",
      "[데이터 수집 완료]\n",
      "소요 시간 : 13.40416955947876 \n",
      "\n",
      "55번째 가게\n"
     ]
    },
    {
     "name": "stderr",
     "output_type": "stream",
     "text": [
      "The chromedriver version (128.0.6613.137) detected in PATH at c:\\Users\\kk21\\Desktop\\TRIPER\\chromedriver.exe might not be compatible with the detected chrome version (129.0.6668.101); currently, chromedriver 129.0.6668.100 is recommended for chrome 129.*, so it is advised to delete the driver in PATH and retry\n"
     ]
    },
    {
     "name": "stdout",
     "output_type": "stream",
     "text": [
      "https://map.naver.com/p/search/%EA%B5%AC%EB%A1%9C%EA%B5%AC%20%EC%83%9D%EB%A7%88%EC%B0%A8%20%EA%B5%AC%EB%A1%9C%EB%94%94%EC%A7%80%ED%84%B8%EB%8B%A8%EC%A7%80%EC%A0%90/place/1181594495?c=15.00,0,0,0,dh&isCorrectAnswer=true\n",
      "결과 한 개\n",
      "\n",
      "[크롤링 시작...]\n",
      "생마차 구로디지털단지점\n",
      "이자카야\n",
      "서울 구로구 디지털로32길 97-15\n",
      "주문 유형 3\n",
      "4층 테바나카 피라미드\n",
      "(오리지널/후추/양념)\n",
      "리뷰 존재\n",
      "음식이 맛있어요\n",
      "가성비가 좋아요\n",
      "술이 다양해요\n",
      "기본 안주가 좋아요\n",
      "특별한 메뉴가 있어요\n",
      "['생마차 구로디지털단지점'] ...완료\n",
      "[데이터 수집 완료]\n",
      "소요 시간 : 13.418233394622803 \n",
      "\n",
      "56번째 가게\n"
     ]
    },
    {
     "name": "stderr",
     "output_type": "stream",
     "text": [
      "The chromedriver version (128.0.6613.137) detected in PATH at c:\\Users\\kk21\\Desktop\\TRIPER\\chromedriver.exe might not be compatible with the detected chrome version (129.0.6668.101); currently, chromedriver 129.0.6668.100 is recommended for chrome 129.*, so it is advised to delete the driver in PATH and retry\n"
     ]
    },
    {
     "name": "stdout",
     "output_type": "stream",
     "text": [
      "https://map.naver.com/p/search/%EA%B5%AC%EB%A1%9C%EA%B5%AC%20%EC%98%A4%EB%B8%8C%EB%B2%A0%EC%9D%B4%ED%81%AC/place/1400337047?c=15.00,0,0,0,dh&isCorrectAnswer=true\n",
      "결과 한 개\n",
      "\n",
      "[크롤링 시작...]\n",
      "오브베이크\n",
      "베이커리\n",
      "서울 구로구 디지털로32가길 9 2층 오브베이크\n",
      "주문 유형 3\n",
      "스모어쿠키\n",
      "메뉴 설명 없음\n",
      "리뷰 존재\n",
      "빵이 맛있어요\n",
      "커피가 맛있어요\n",
      "친절해요\n",
      "인테리어가 멋져요\n",
      "특별한 메뉴가 있어요\n",
      "['오브베이크'] ...완료\n",
      "[데이터 수집 완료]\n",
      "소요 시간 : 13.398740291595459 \n",
      "\n",
      "57번째 가게\n"
     ]
    },
    {
     "name": "stderr",
     "output_type": "stream",
     "text": [
      "The chromedriver version (128.0.6613.137) detected in PATH at c:\\Users\\kk21\\Desktop\\TRIPER\\chromedriver.exe might not be compatible with the detected chrome version (129.0.6668.101); currently, chromedriver 129.0.6668.100 is recommended for chrome 129.*, so it is advised to delete the driver in PATH and retry\n"
     ]
    },
    {
     "name": "stdout",
     "output_type": "stream",
     "text": [
      "https://map.naver.com/p/search/%EA%B5%AC%EB%A1%9C%EA%B5%AC%20%EB%B0%94%EB%A5%B8%EC%88%AF%EB%B6%88%EA%B5%AC%EC%9D%B4/place/36886895?c=15.00,0,0,0,dh&isCorrectAnswer=true\n",
      "결과 한 개\n",
      "\n",
      "[크롤링 시작...]\n",
      "바른숯불구이\n",
      "육류,고기요리\n",
      "서울 구로구 부일로 953\n",
      "주문 유형 3\n",
      "대표 메뉴 없음\n",
      "메뉴 설명 없음\n",
      "오류 예외 처리\n",
      "58번째 가게\n"
     ]
    },
    {
     "name": "stderr",
     "output_type": "stream",
     "text": [
      "The chromedriver version (128.0.6613.137) detected in PATH at c:\\Users\\kk21\\Desktop\\TRIPER\\chromedriver.exe might not be compatible with the detected chrome version (129.0.6668.101); currently, chromedriver 129.0.6668.100 is recommended for chrome 129.*, so it is advised to delete the driver in PATH and retry\n"
     ]
    },
    {
     "name": "stdout",
     "output_type": "stream",
     "text": [
      "https://map.naver.com/p/search/%EA%B5%AC%EB%A1%9C%EA%B5%AC%20%ED%82%A4%EC%B9%9C%EB%B8%8C%EB%A1%9C%EB%A7%9D%EC%8A%A4/place/1549486645?c=15.00,0,0,0,dh&isCorrectAnswer=true\n",
      "결과 한 개\n",
      "\n",
      "[크롤링 시작...]\n",
      "키친브로망스\n",
      "피자\n",
      "서울 구로구 새말로16길 16 지하1층\n",
      "주문 유형 3\n",
      "키친브로망스 피자\n",
      "홈메이드 토마토소스, 바질,프레쉬모짜렐라, 리코타치즈, 프로슈토, 계란반숙토핑의 대표피자\n",
      "리뷰 존재\n",
      "음식이 맛있어요\n",
      "인테리어가 멋져요\n",
      "친절해요\n",
      "특별한 메뉴가 있어요\n",
      "특별한 날 가기 좋아요\n",
      "['키친브로망스'] ...완료\n",
      "[데이터 수집 완료]\n",
      "소요 시간 : 13.404102563858032 \n",
      "\n",
      "59번째 가게\n"
     ]
    },
    {
     "name": "stderr",
     "output_type": "stream",
     "text": [
      "The chromedriver version (128.0.6613.137) detected in PATH at c:\\Users\\kk21\\Desktop\\TRIPER\\chromedriver.exe might not be compatible with the detected chrome version (129.0.6668.101); currently, chromedriver 129.0.6668.100 is recommended for chrome 129.*, so it is advised to delete the driver in PATH and retry\n"
     ]
    },
    {
     "name": "stdout",
     "output_type": "stream",
     "text": [
      "https://map.naver.com/p/search/%EA%B5%AC%EB%A1%9C%EA%B5%AC%20%EB%AC%B8%EC%96%B4%EB%B6%80%EC%9D%B8%EC%82%BC%EA%B5%90%EB%B9%84/place/37402852?c=13.00,0,0,0,dh&isCorrectAnswer=true\n",
      "결과 한 개\n",
      "\n",
      "[크롤링 시작...]\n",
      "문어부인삼교비\n",
      "문어부인삼교비\n",
      "서울 구로구 경인로 661 신도림1차푸르지오아파트 상가 2층 228호\n",
      "주문 유형 3\n",
      "문.삼(커플세트)\n",
      "삼겹살+문어버터철판구이+차돌된장찌개(국밥) 세트메뉴입니다.\n",
      "리뷰 존재\n",
      "음식이 맛있어요\n",
      "친절해요\n",
      "가성비가 좋아요\n",
      "특별한 메뉴가 있어요\n",
      "양이 많아요\n",
      "['문어부인삼교비'] ...완료\n",
      "[데이터 수집 완료]\n",
      "소요 시간 : 13.428805112838745 \n",
      "\n",
      "60번째 가게\n"
     ]
    },
    {
     "name": "stderr",
     "output_type": "stream",
     "text": [
      "The chromedriver version (128.0.6613.137) detected in PATH at c:\\Users\\kk21\\Desktop\\TRIPER\\chromedriver.exe might not be compatible with the detected chrome version (129.0.6668.101); currently, chromedriver 129.0.6668.100 is recommended for chrome 129.*, so it is advised to delete the driver in PATH and retry\n"
     ]
    },
    {
     "name": "stdout",
     "output_type": "stream",
     "text": [
      "https://map.naver.com/p/search/%EA%B5%AC%EB%A1%9C%EA%B5%AC%20%ED%95%A0%EB%A8%B8%EB%8B%88%EC%B6%94%EC%96%B4%ED%83%95/place/21828305?c=15.00,0,0,0,dh&isCorrectAnswer=true\n",
      "결과 한 개\n",
      "\n",
      "[크롤링 시작...]\n",
      "할머니추어탕\n",
      "추어탕\n",
      "서울 구로구 개봉로19길 39 개봉동청송빌딩\n",
      "주문 유형 3\n",
      "통추어탕 포장\n",
      "메뉴 설명 없음\n",
      "리뷰 존재\n",
      "음식이 맛있어요\n",
      "재료가 신선해요\n",
      "친절해요\n",
      "매장이 넓어요\n",
      "양이 많아요\n",
      "['할머니추어탕'] ...완료\n",
      "[데이터 수집 완료]\n",
      "소요 시간 : 13.377508878707886 \n",
      "\n",
      "61번째 가게\n"
     ]
    },
    {
     "name": "stderr",
     "output_type": "stream",
     "text": [
      "The chromedriver version (128.0.6613.137) detected in PATH at c:\\Users\\kk21\\Desktop\\TRIPER\\chromedriver.exe might not be compatible with the detected chrome version (129.0.6668.101); currently, chromedriver 129.0.6668.100 is recommended for chrome 129.*, so it is advised to delete the driver in PATH and retry\n"
     ]
    },
    {
     "name": "stdout",
     "output_type": "stream",
     "text": [
      "https://map.naver.com/p/search/%EA%B5%AC%EB%A1%9C%EA%B5%AC%20%EB%A7%88%EC%9E%A5%EB%8F%99%EA%B3%A0%EA%B8%B0%EC%A7%91%20%EA%B3%A0%EC%B2%99%EC%A0%90/place/1258239766?c=15.00,0,0,0,dh&isCorrectAnswer=true\n",
      "결과 한 개\n",
      "\n",
      "[크롤링 시작...]\n",
      "마장동고기집 고척점\n",
      "소고기구이\n",
      "서울 구로구 중앙로 101 상가 1동 101호\n",
      "주문 유형 3\n",
      "큰소 양념갈비살\n",
      "살치살+갈비살+등심 + 양념소갈비 800g\n",
      "리뷰 존재\n",
      "음식이 맛있어요\n",
      "가성비가 좋아요\n",
      "고기 질이 좋아요\n",
      "양이 많아요\n",
      "매장이 넓어요\n",
      "['마장동고기집 고척점'] ...완료\n",
      "[데이터 수집 완료]\n",
      "소요 시간 : 13.430837631225586 \n",
      "\n",
      "62번째 가게\n"
     ]
    },
    {
     "name": "stderr",
     "output_type": "stream",
     "text": [
      "The chromedriver version (128.0.6613.137) detected in PATH at c:\\Users\\kk21\\Desktop\\TRIPER\\chromedriver.exe might not be compatible with the detected chrome version (129.0.6668.101); currently, chromedriver 129.0.6668.100 is recommended for chrome 129.*, so it is advised to delete the driver in PATH and retry\n"
     ]
    },
    {
     "name": "stdout",
     "output_type": "stream",
     "text": [
      "https://map.naver.com/p/search/%EA%B5%AC%EB%A1%9C%EA%B5%AC%20%EB%8F%8C%EB%B0%B0%EA%B8%B0%EC%A7%91%20%EA%B5%AC%EB%A1%9C%EB%94%94%EC%A7%80%ED%84%B8%EC%97%AD%EC%A0%90?c=15.00,0,0,0,dh\n",
      "결과 여러 개 존재(지점 또는 근접 지역)\n",
      "\n",
      "[크롤링 시작...]\n",
      "돌배기집 구로디지털역점\n",
      "소고기구이\n",
      "서울 구로구 디지털로32길 97-3\n",
      "주문 유형 3\n",
      "돌배기\n",
      "차돌박이는 꼬들꼬들한 식감에 고소한 맛을 자랑하는 중독성 있는 부위 입니다. 고소한 차돌기름에 숙주, 쪽파, 양파를 볶아도 먹고, 매콤한 양념에 찍어도 먹고, 새콤달콤한 차야소스를\n",
      "리뷰 존재\n",
      "음식이 맛있어요\n",
      "가성비가 좋아요\n",
      "친절해요\n",
      "매장이 넓어요\n",
      "고기 질이 좋아요\n",
      "['돌배기집 구로디지털역점'] ...완료\n",
      "[데이터 수집 완료]\n",
      "소요 시간 : 13.394223928451538 \n",
      "\n",
      "63번째 가게\n"
     ]
    },
    {
     "name": "stderr",
     "output_type": "stream",
     "text": [
      "The chromedriver version (128.0.6613.137) detected in PATH at c:\\Users\\kk21\\Desktop\\TRIPER\\chromedriver.exe might not be compatible with the detected chrome version (129.0.6668.101); currently, chromedriver 129.0.6668.100 is recommended for chrome 129.*, so it is advised to delete the driver in PATH and retry\n"
     ]
    },
    {
     "name": "stdout",
     "output_type": "stream",
     "text": [
      "https://map.naver.com/p/search/%EA%B5%AC%EB%A1%9C%EA%B5%AC%20%EB%B8%8C%EB%9F%B0%EC%B9%98%EB%B9%88%20%EC%8B%A0%EB%8F%84%EB%A6%BC%EC%A0%90?c=15.00,0,0,0,dh\n",
      "결과 여러 개 존재(지점 또는 근접 지역)\n",
      "\n",
      "[크롤링 시작...]\n",
      "브런치빈 신도림점\n",
      "브런치\n",
      "서울 구로구 경인로67길 23 신도림2차푸르지오 201동 3층 310호\n",
      "주문 유형 3\n",
      "스파이시쉬림프파스타\n",
      "통통한 새우와 매콤한 맛이 매력적인 크림 파스타\n",
      "리뷰 존재\n",
      "음식이 맛있어요\n",
      "가성비가 좋아요\n",
      "재료가 신선해요\n",
      "친절해요\n",
      "매장이 넓어요\n",
      "['브런치빈 신도림점'] ...완료\n",
      "[데이터 수집 완료]\n",
      "소요 시간 : 13.424458026885986 \n",
      "\n",
      "64번째 가게\n"
     ]
    },
    {
     "name": "stderr",
     "output_type": "stream",
     "text": [
      "The chromedriver version (128.0.6613.137) detected in PATH at c:\\Users\\kk21\\Desktop\\TRIPER\\chromedriver.exe might not be compatible with the detected chrome version (129.0.6668.101); currently, chromedriver 129.0.6668.100 is recommended for chrome 129.*, so it is advised to delete the driver in PATH and retry\n"
     ]
    },
    {
     "name": "stdout",
     "output_type": "stream",
     "text": [
      "https://map.naver.com/p/search/%EA%B5%AC%EB%A1%9C%EA%B5%AC%20%EA%B8%88%EC%84%B1%EA%B4%80%EB%82%98%EC%A3%BC%EA%B3%B0%ED%83%95%20%EA%B5%AC%EB%A1%9C%EC%A7%81%EC%98%81%EC%A0%90/place/1273089989?c=15.00,0,0,0,dh&isCorrectAnswer=true\n",
      "결과 한 개\n",
      "\n",
      "[크롤링 시작...]\n",
      "금성관나주곰탕 구로직영점\n",
      "곰탕,설렁탕\n",
      "서울 구로구 디지털로32길 92 1층 102호\n",
      "주문 유형 3\n",
      "한우나주곰탕\n",
      "신선한 한우와 채소, 신안산천일염으로 우려낸 맑고 깊은 육향의 토렴식 나주곰탕\n",
      "리뷰 존재\n",
      "음식이 맛있어요\n",
      "매장이 넓어요\n",
      "매장이 청결해요\n",
      "재료가 신선해요\n",
      "친절해요\n",
      "['금성관나주곰탕 구로직영점'] ...완료\n",
      "[데이터 수집 완료]\n",
      "소요 시간 : 13.431099653244019 \n",
      "\n",
      "65번째 가게\n"
     ]
    },
    {
     "name": "stderr",
     "output_type": "stream",
     "text": [
      "The chromedriver version (128.0.6613.137) detected in PATH at c:\\Users\\kk21\\Desktop\\TRIPER\\chromedriver.exe might not be compatible with the detected chrome version (129.0.6668.101); currently, chromedriver 129.0.6668.100 is recommended for chrome 129.*, so it is advised to delete the driver in PATH and retry\n"
     ]
    },
    {
     "name": "stdout",
     "output_type": "stream",
     "text": [
      "https://map.naver.com/p/search/%EA%B5%AC%EB%A1%9C%EA%B5%AC%20%EB%8C%80%EC%9E%A5%EA%B5%B0?c=15.00,0,0,0,dh\n",
      "결과 여러 개 존재(지점 또는 근접 지역)\n",
      "\n",
      "[크롤링 시작...]\n",
      "대장군\n",
      "돼지고기구이\n",
      "서울 구로구 새말로 102 신도림포스빌 지1층\n",
      "주문 유형 3\n",
      "갈매기살 600g한접시3인분양\n",
      "갈매기살,아구살,오소리감투,염통,유통,껍데기 6섯가지 부속모둠\n",
      "리뷰 존재\n",
      "음식이 맛있어요\n",
      "친절해요\n",
      "가성비가 좋아요\n",
      "양이 많아요\n",
      "특별한 메뉴가 있어요\n",
      "['대장군'] ...완료\n",
      "[데이터 수집 완료]\n",
      "소요 시간 : 13.446640968322754 \n",
      "\n",
      "66번째 가게\n"
     ]
    },
    {
     "name": "stderr",
     "output_type": "stream",
     "text": [
      "The chromedriver version (128.0.6613.137) detected in PATH at c:\\Users\\kk21\\Desktop\\TRIPER\\chromedriver.exe might not be compatible with the detected chrome version (129.0.6668.101); currently, chromedriver 129.0.6668.100 is recommended for chrome 129.*, so it is advised to delete the driver in PATH and retry\n"
     ]
    },
    {
     "name": "stdout",
     "output_type": "stream",
     "text": [
      "https://map.naver.com/p/search/%EA%B5%AC%EB%A1%9C%EA%B5%AC%20%EB%AA%A8%EB%8F%8C/place/1042144508?c=15.00,0,0,0,dh&isCorrectAnswer=true\n",
      "결과 한 개\n",
      "\n",
      "[크롤링 시작...]\n",
      "모돌 신도림본점\n",
      "돼지고기구이\n",
      "서울 구로구 경인로67길 23 신도림2차푸르지오 1층 118호\n",
      "주문 유형 3\n",
      "듀록 모듬 한 판\n",
      "목살 / 삼겹살 / 껍데기 모든 메뉴가 한 판에 담긴 모돌의 시그니쳐.\n",
      "리뷰 존재\n",
      "음식이 맛있어요\n",
      "친절해요\n",
      "특별한 메뉴가 있어요\n",
      "양이 많아요\n",
      "매장이 청결해요\n",
      "['모돌 신도림본점'] ...완료\n",
      "[데이터 수집 완료]\n",
      "소요 시간 : 13.43897271156311 \n",
      "\n",
      "67번째 가게\n"
     ]
    },
    {
     "name": "stderr",
     "output_type": "stream",
     "text": [
      "The chromedriver version (128.0.6613.137) detected in PATH at c:\\Users\\kk21\\Desktop\\TRIPER\\chromedriver.exe might not be compatible with the detected chrome version (129.0.6668.101); currently, chromedriver 129.0.6668.100 is recommended for chrome 129.*, so it is advised to delete the driver in PATH and retry\n"
     ]
    },
    {
     "name": "stdout",
     "output_type": "stream",
     "text": [
      "https://map.naver.com/p/search/%EA%B5%AC%EB%A1%9C%EA%B5%AC%20%EA%B9%80%EC%82%AC%EB%B6%80%20%EC%98%A4%EB%A5%98%EB%8F%99%EB%B3%B8%EC%A0%90/place/1166094576?c=15.00,0,0,0,dh&isCorrectAnswer=true\n",
      "결과 한 개\n",
      "\n",
      "[크롤링 시작...]\n",
      "김사부 오류동본점\n",
      "소고기구이\n",
      "서울 구로구 서해안로 2334 1층 김사부 본점\n",
      "주문 유형 3\n",
      "수제돼지갈비 1kg\n",
      "직접 손질한 국내산 냉장돼지갈비를 수제과일소스에 36시간이상 숙성시켜만든 100%순 돼지갈비\n",
      "리뷰 존재\n",
      "음식이 맛있어요\n",
      "친절해요\n",
      "가성비가 좋아요\n",
      "고기 질이 좋아요\n",
      "재료가 신선해요\n",
      "['김사부 오류동본점'] ...완료\n",
      "[데이터 수집 완료]\n",
      "소요 시간 : 13.43745732307434 \n",
      "\n",
      "68번째 가게\n"
     ]
    },
    {
     "name": "stderr",
     "output_type": "stream",
     "text": [
      "The chromedriver version (128.0.6613.137) detected in PATH at c:\\Users\\kk21\\Desktop\\TRIPER\\chromedriver.exe might not be compatible with the detected chrome version (129.0.6668.101); currently, chromedriver 129.0.6668.100 is recommended for chrome 129.*, so it is advised to delete the driver in PATH and retry\n"
     ]
    },
    {
     "name": "stdout",
     "output_type": "stream",
     "text": [
      "https://map.naver.com/p/search/%EA%B5%AC%EB%A1%9C%EA%B5%AC%20%EB%91%90%EC%A6%88%EC%BB%A4%ED%94%BC/place/1784014781?c=15.00,0,0,0,dh&isCorrectAnswer=true\n",
      "결과 한 개\n",
      "\n",
      "[크롤링 시작...]\n",
      "두즈커피\n",
      "카페,디저트\n",
      "서울 구로구 남부순환로107길 5 1층\n",
      "주문 유형 3\n",
      "[패스오더전용] 100원 아메리카노\n",
      "패스오더 앱 설치하면, 최소 주문 금액 없이 100원에 커피 주문+1,500원 쿠폰까지\n",
      "리뷰 존재\n",
      "커피가 맛있어요\n",
      "인테리어가 멋져요\n",
      "디저트가 맛있어요\n",
      "음료가 맛있어요\n",
      "친절해요\n",
      "['두즈커피'] ...완료\n",
      "[데이터 수집 완료]\n",
      "소요 시간 : 13.40894341468811 \n",
      "\n",
      "69번째 가게\n"
     ]
    },
    {
     "name": "stderr",
     "output_type": "stream",
     "text": [
      "The chromedriver version (128.0.6613.137) detected in PATH at c:\\Users\\kk21\\Desktop\\TRIPER\\chromedriver.exe might not be compatible with the detected chrome version (129.0.6668.101); currently, chromedriver 129.0.6668.100 is recommended for chrome 129.*, so it is advised to delete the driver in PATH and retry\n"
     ]
    },
    {
     "name": "stdout",
     "output_type": "stream",
     "text": [
      "https://map.naver.com/p/search/%EA%B5%AC%EB%A1%9C%EA%B5%AC%20%EB%A7%A4%EC%9A%B4%EC%A7%91?c=15.00,0,0,0,dh\n",
      "결과 여러 개 존재(지점 또는 근접 지역)\n",
      "\n",
      "[크롤링 시작...]\n",
      "매운집\n",
      "닭볶음탕\n",
      "서울 구로구 경인로67길 23 101동 104호\n",
      "주문 유형 3\n",
      "탱글탱글 대창가득 곱도리탕 2~3인\n",
      "메뉴 설명 없음\n",
      "리뷰 존재\n",
      "음식이 맛있어요\n",
      "친절해요\n",
      "양이 많아요\n",
      "매장이 청결해요\n",
      "특별한 메뉴가 있어요\n",
      "['매운집'] ...완료\n",
      "[데이터 수집 완료]\n",
      "소요 시간 : 13.408390760421753 \n",
      "\n",
      "70번째 가게\n"
     ]
    },
    {
     "name": "stderr",
     "output_type": "stream",
     "text": [
      "The chromedriver version (128.0.6613.137) detected in PATH at c:\\Users\\kk21\\Desktop\\TRIPER\\chromedriver.exe might not be compatible with the detected chrome version (129.0.6668.101); currently, chromedriver 129.0.6668.100 is recommended for chrome 129.*, so it is advised to delete the driver in PATH and retry\n"
     ]
    },
    {
     "name": "stdout",
     "output_type": "stream",
     "text": [
      "https://map.naver.com/p/search/%EA%B5%AC%EB%A1%9C%EA%B5%AC%20%EB%8F%84%EB%AF%B8%EB%9D%BC%20%EB%A7%88%EB%9D%BC%ED%83%95/place/1585933722?c=15.00,0,0,0,dh&isCorrectAnswer=true\n",
      "결과 한 개\n",
      "\n",
      "[크롤링 시작...]\n",
      "도미라 마라탕\n",
      "중식당\n",
      "서울 구로구 디지털로26길 111\n",
      "주문 유형 3\n",
      "셀프 가성비 마라탕(내맘대로 골라먹기)(1인분)\n",
      "가성비짱 마라탕은 모든 재료가 동일 금액이라서 그램수만 정해주시고 원하는 재료들을 클릭해주시면 OK 따로 요청사항이 있으시면 요청란에 메모 남겨주세요~\n",
      "리뷰 존재\n",
      "음식이 맛있어요\n",
      "재료가 신선해요\n",
      "매장이 넓어요\n",
      "친절해요\n",
      "양이 많아요\n",
      "['도미라 마라탕'] ...완료\n",
      "[데이터 수집 완료]\n",
      "소요 시간 : 13.415353059768677 \n",
      "\n",
      "71번째 가게\n"
     ]
    },
    {
     "name": "stderr",
     "output_type": "stream",
     "text": [
      "The chromedriver version (128.0.6613.137) detected in PATH at c:\\Users\\kk21\\Desktop\\TRIPER\\chromedriver.exe might not be compatible with the detected chrome version (129.0.6668.101); currently, chromedriver 129.0.6668.100 is recommended for chrome 129.*, so it is advised to delete the driver in PATH and retry\n"
     ]
    },
    {
     "name": "stdout",
     "output_type": "stream",
     "text": [
      "https://map.naver.com/p/search/%EA%B5%AC%EB%A1%9C%EA%B5%AC%20%EB%8B%A4%EC%B1%84%20%EA%B0%9C%EB%B4%89%EC%A0%90/place/33525339?c=15.00,0,0,0,dh&isCorrectAnswer=true\n",
      "결과 한 개\n",
      "\n",
      "[크롤링 시작...]\n",
      "다채 개봉점\n",
      "쌈밥\n",
      "서울 구로구 개봉로23길 38 동흥빌딩 1층\n",
      "주문 유형 3\n",
      "불고기쌈밥정식\n",
      "메뉴 설명 없음\n",
      "리뷰 존재\n",
      "음식이 맛있어요\n",
      "재료가 신선해요\n",
      "친절해요\n",
      "매장이 넓어요\n",
      "매장이 청결해요\n",
      "['다채 개봉점'] ...완료\n",
      "[데이터 수집 완료]\n",
      "소요 시간 : 13.427259683609009 \n",
      "\n",
      "72번째 가게\n"
     ]
    },
    {
     "name": "stderr",
     "output_type": "stream",
     "text": [
      "The chromedriver version (128.0.6613.137) detected in PATH at c:\\Users\\kk21\\Desktop\\TRIPER\\chromedriver.exe might not be compatible with the detected chrome version (129.0.6668.101); currently, chromedriver 129.0.6668.100 is recommended for chrome 129.*, so it is advised to delete the driver in PATH and retry\n"
     ]
    },
    {
     "name": "stdout",
     "output_type": "stream",
     "text": [
      "https://map.naver.com/p/search/%EA%B5%AC%EB%A1%9C%EA%B5%AC%20%EC%83%81%ED%95%98%EC%9D%B4%ED%8F%AC%EC%B0%A8/place/20518641?c=15.00,0,0,0,dh&isCorrectAnswer=true\n",
      "결과 한 개\n",
      "\n",
      "[크롤링 시작...]\n",
      "상하이포차\n",
      "요리주점\n",
      "서울 구로구 새말로 102 신도림포스빌 지하1층\n",
      "주문 유형 3\n",
      "마라팔보채\n",
      "상하이 대표메뉴와 마라의 조합은 말해뭐해~\n",
      "리뷰 존재\n",
      "음식이 맛있어요\n",
      "가성비가 좋아요\n",
      "친절해요\n",
      "특별한 메뉴가 있어요\n",
      "기본 안주가 좋아요\n",
      "['상하이포차'] ...완료\n",
      "[데이터 수집 완료]\n",
      "소요 시간 : 13.402180671691895 \n",
      "\n",
      "73번째 가게\n"
     ]
    },
    {
     "name": "stderr",
     "output_type": "stream",
     "text": [
      "The chromedriver version (128.0.6613.137) detected in PATH at c:\\Users\\kk21\\Desktop\\TRIPER\\chromedriver.exe might not be compatible with the detected chrome version (129.0.6668.101); currently, chromedriver 129.0.6668.100 is recommended for chrome 129.*, so it is advised to delete the driver in PATH and retry\n"
     ]
    },
    {
     "name": "stdout",
     "output_type": "stream",
     "text": [
      "https://map.naver.com/p/search/%EA%B5%AC%EB%A1%9C%EA%B5%AC%20%EC%83%A4%EC%98%A4%EB%B0%94%EC%98%A4%EC%9A%B0%EC%9C%A1%EB%A9%B4%20%EA%B5%AC%EB%A1%9C%EB%94%94%EC%A7%80%ED%84%B8%EB%8B%A8%EC%A7%80%EC%97%AD%EC%A0%90?c=15.00,0,0,0,dh\n",
      "결과 여러 개 존재(지점 또는 근접 지역)\n",
      "\n",
      "[크롤링 시작...]\n",
      "샤오바오우육면 구로디지털단지역점\n",
      "중식당\n",
      "서울 구로구 디지털로26길 123 지플러스타워 지하1층 110호\n",
      "주문 유형 3\n",
      "우육면\n",
      "소고기 볶음면의 업그레이드 버전\n",
      "리뷰 존재\n",
      "음식이 맛있어요\n",
      "재료가 신선해요\n",
      "특별한 메뉴가 있어요\n",
      "매장이 청결해요\n",
      "양이 많아요\n",
      "['샤오바오우육면 구로디지털단지역점'] ...완료\n",
      "[데이터 수집 완료]\n",
      "소요 시간 : 13.417794704437256 \n",
      "\n",
      "74번째 가게\n"
     ]
    },
    {
     "name": "stderr",
     "output_type": "stream",
     "text": [
      "The chromedriver version (128.0.6613.137) detected in PATH at c:\\Users\\kk21\\Desktop\\TRIPER\\chromedriver.exe might not be compatible with the detected chrome version (129.0.6668.101); currently, chromedriver 129.0.6668.100 is recommended for chrome 129.*, so it is advised to delete the driver in PATH and retry\n"
     ]
    },
    {
     "name": "stdout",
     "output_type": "stream",
     "text": [
      "https://map.naver.com/p/search/%EA%B5%AC%EB%A1%9C%EA%B5%AC%20%EB%B0%B1%EB%85%84%EB%B6%88%EA%B3%A0%EA%B8%B0%20%EA%B5%AC%EB%A1%9C%EB%94%94%EC%A7%80%ED%84%B8%EC%A0%90?c=15.00,0,0,0,dh\n",
      "결과 여러 개 존재(지점 또는 근접 지역)\n",
      "\n",
      "[크롤링 시작...]\n",
      "백년불고기 구로디지털점\n",
      "육류,고기요리\n",
      "서울 구로구 시흥대로163길 15\n",
      "주문 유형 3\n",
      "물갈비(1인)\n",
      "물갈비 맛집 원조의 맛 감칠맛나는 샤브샤브식 물갈비 ! 신선한 재료 푸짐한 양 식사로도 술안주로도 좋아요.\n",
      "리뷰 존재\n",
      "음식이 맛있어요\n",
      "양이 많아요\n",
      "친절해요\n",
      "매장이 넓어요\n",
      "단체모임 하기 좋아요\n",
      "['백년불고기 구로디지털점'] ...완료\n",
      "[데이터 수집 완료]\n",
      "소요 시간 : 13.416671514511108 \n",
      "\n",
      "75번째 가게\n"
     ]
    },
    {
     "name": "stderr",
     "output_type": "stream",
     "text": [
      "The chromedriver version (128.0.6613.137) detected in PATH at c:\\Users\\kk21\\Desktop\\TRIPER\\chromedriver.exe might not be compatible with the detected chrome version (129.0.6668.101); currently, chromedriver 129.0.6668.100 is recommended for chrome 129.*, so it is advised to delete the driver in PATH and retry\n"
     ]
    },
    {
     "name": "stdout",
     "output_type": "stream",
     "text": [
      "https://map.naver.com/p/search/%EA%B5%AC%EB%A1%9C%EA%B5%AC%20%EC%BB%B4%ED%8F%AC%20%EC%8B%A0%EB%8F%84%EB%A6%BC%EC%A0%90/place/1842837695?c=15.00,0,0,0,dh&isCorrectAnswer=true\n",
      "결과 한 개\n",
      "\n",
      "[크롤링 시작...]\n",
      "컴포 신도림점\n",
      "베트남음식\n",
      "서울 구로구 경인로67길 57 102호 컴포\n",
      "주문 유형 3\n",
      "월남쌈세트\n",
      "라이스페이퍼에 고기를 직접구워 16가지의 야채에 싸먹는 월남쌈입니다 인원수대로 주문하면 고기와 야채, 쌀국수까지 무한리필 됩니다^^ 쌀국수, 분짜, 볶음밥, 튀김류도 있습니다\n",
      "리뷰 존재\n",
      "음식이 맛있어요\n",
      "재료가 신선해요\n",
      "친절해요\n",
      "양이 많아요\n",
      "가성비가 좋아요\n",
      "['컴포 신도림점'] ...완료\n",
      "[데이터 수집 완료]\n",
      "소요 시간 : 13.430883169174194 \n",
      "\n",
      "76번째 가게\n"
     ]
    },
    {
     "name": "stderr",
     "output_type": "stream",
     "text": [
      "The chromedriver version (128.0.6613.137) detected in PATH at c:\\Users\\kk21\\Desktop\\TRIPER\\chromedriver.exe might not be compatible with the detected chrome version (129.0.6668.101); currently, chromedriver 129.0.6668.100 is recommended for chrome 129.*, so it is advised to delete the driver in PATH and retry\n"
     ]
    },
    {
     "name": "stdout",
     "output_type": "stream",
     "text": [
      "https://map.naver.com/p/search/%EA%B5%AC%EB%A1%9C%EA%B5%AC%20%EC%82%BC%EB%8D%95%ED%86%B5%EB%8B%AD%20%EC%8B%A0%EB%8F%84%EB%A6%BC%EC%A0%90/place/1654872270?c=15.00,0,0,0,dh&isCorrectAnswer=true\n",
      "결과 한 개\n",
      "\n",
      "[크롤링 시작...]\n",
      "삼덕통닭 신도림점\n",
      "치킨,닭강정\n",
      "서울 구로구 경인로67길 23 112, 113호\n",
      "주문 유형 3\n",
      "삼덕통닭 후라이드(뼈)\n",
      "메뉴 설명 없음\n",
      "리뷰 존재\n",
      "음식이 맛있어요\n",
      "양이 많아요\n",
      "친절해요\n",
      "재료가 신선해요\n",
      "특별한 메뉴가 있어요\n",
      "['삼덕통닭 신도림점'] ...완료\n",
      "[데이터 수집 완료]\n",
      "소요 시간 : 13.395578145980835 \n",
      "\n",
      "77번째 가게\n"
     ]
    },
    {
     "name": "stderr",
     "output_type": "stream",
     "text": [
      "The chromedriver version (128.0.6613.137) detected in PATH at c:\\Users\\kk21\\Desktop\\TRIPER\\chromedriver.exe might not be compatible with the detected chrome version (129.0.6668.101); currently, chromedriver 129.0.6668.100 is recommended for chrome 129.*, so it is advised to delete the driver in PATH and retry\n"
     ]
    },
    {
     "name": "stdout",
     "output_type": "stream",
     "text": [
      "https://map.naver.com/p/search/%EA%B5%AC%EB%A1%9C%EA%B5%AC%20%EA%B4%91%EB%AA%85%EC%88%98%EC%82%B0%20%EC%82%B0%EC%98%A4%EC%A7%95%EC%96%B4%20%ED%85%8C%ED%81%AC%EB%85%B8%EB%A7%88%ED%8A%B8%EC%A0%90/place/20819906?c=15.00,0,0,0,dh&isCorrectAnswer=true\n",
      "결과 한 개\n",
      "\n",
      "[크롤링 시작...]\n",
      "광명수산 신도림역점\n",
      "생선회\n",
      "서울 구로구 공원로6다길 8 1층\n",
      "주문 유형 3\n",
      "광어+연어\n",
      "메뉴 설명 없음\n",
      "리뷰 존재\n",
      "음식이 맛있어요\n",
      "재료가 신선해요\n",
      "가성비가 좋아요\n",
      "친절해요\n",
      "양이 많아요\n",
      "['광명수산 신도림역점'] ...완료\n",
      "[데이터 수집 완료]\n",
      "소요 시간 : 13.412555456161499 \n",
      "\n",
      "78번째 가게\n"
     ]
    },
    {
     "name": "stderr",
     "output_type": "stream",
     "text": [
      "The chromedriver version (128.0.6613.137) detected in PATH at c:\\Users\\kk21\\Desktop\\TRIPER\\chromedriver.exe might not be compatible with the detected chrome version (129.0.6668.101); currently, chromedriver 129.0.6668.100 is recommended for chrome 129.*, so it is advised to delete the driver in PATH and retry\n"
     ]
    },
    {
     "name": "stdout",
     "output_type": "stream",
     "text": [
      "https://map.naver.com/p/search/%EA%B5%AC%EB%A1%9C%EA%B5%AC%20%EB%A7%88%EC%9E%A5%EB%8F%99%EA%B9%80%EC%94%A8%20%EA%B5%AC%EB%A1%9C%EB%94%94%EC%A7%80%ED%84%B8%EC%A0%90?c=15.00,0,0,0,dh\n",
      "결과 여러 개 존재(지점 또는 근접 지역)\n",
      "\n",
      "[크롤링 시작...]\n",
      "마장동김씨 구로디지털점\n",
      "육류,고기요리\n",
      "서울 구로구 디지털로32나길 17-23 1층 103호\n",
      "주문 유형 3\n",
      "마장동 얼룩돼지 모둠 세트(★인기)\n",
      "통삼겹+눈꽃목살+껍데기+구이야채 알찬 2인 세트 구성으로 인기 TOP 메뉴!!\n",
      "리뷰 존재\n",
      "음식이 맛있어요\n",
      "고기 질이 좋아요\n",
      "친절해요\n",
      "매장이 넓어요\n",
      "직접 잘 구워줘요\n",
      "['마장동김씨 구로디지털점'] ...완료\n",
      "[데이터 수집 완료]\n",
      "소요 시간 : 13.44314432144165 \n",
      "\n",
      "79번째 가게\n"
     ]
    },
    {
     "name": "stderr",
     "output_type": "stream",
     "text": [
      "The chromedriver version (128.0.6613.137) detected in PATH at c:\\Users\\kk21\\Desktop\\TRIPER\\chromedriver.exe might not be compatible with the detected chrome version (129.0.6668.101); currently, chromedriver 129.0.6668.100 is recommended for chrome 129.*, so it is advised to delete the driver in PATH and retry\n"
     ]
    },
    {
     "name": "stdout",
     "output_type": "stream",
     "text": [
      "https://map.naver.com/p/search/%EA%B5%AC%EB%A1%9C%EA%B5%AC%20%EC%8A%A4%EC%8B%9C%EB%B9%84%EC%87%BC%EC%BF%A0/place/51136231?c=15.00,0,0,0,dh&isCorrectAnswer=true\n",
      "결과 한 개\n",
      "\n",
      "[크롤링 시작...]\n",
      "스시비쇼쿠\n",
      "초밥,롤\n",
      "서울 구로구 디지털로34길 55 코오롱싸이언스밸리2차 1층 110호\n",
      "주문 유형 3\n",
      "(런치)스시오마카세\n",
      "메뉴 설명 없음\n",
      "리뷰 존재\n",
      "음식이 맛있어요\n",
      "친절해요\n",
      "재료가 신선해요\n",
      "특별한 메뉴가 있어요\n",
      "특별한 날 가기 좋아요\n",
      "['스시비쇼쿠'] ...완료\n",
      "[데이터 수집 완료]\n",
      "소요 시간 : 13.419180393218994 \n",
      "\n",
      "80번째 가게\n"
     ]
    },
    {
     "name": "stderr",
     "output_type": "stream",
     "text": [
      "The chromedriver version (128.0.6613.137) detected in PATH at c:\\Users\\kk21\\Desktop\\TRIPER\\chromedriver.exe might not be compatible with the detected chrome version (129.0.6668.101); currently, chromedriver 129.0.6668.100 is recommended for chrome 129.*, so it is advised to delete the driver in PATH and retry\n"
     ]
    },
    {
     "name": "stdout",
     "output_type": "stream",
     "text": [
      "https://map.naver.com/p/search/%EA%B5%AC%EB%A1%9C%EA%B5%AC%20%EB%AF%B8%EC%86%8C%EC%9E%A5%EC%96%B4%20%EA%B5%AC%EB%A1%9C%EB%94%94%EC%A7%80%ED%84%B8%EB%8B%A8%EC%A7%80%EC%A0%90/place/1509507576?isCorrectAnswer=true&c=15.00,0,0,0,dh\n",
      "결과 한 개\n",
      "\n",
      "[크롤링 시작...]\n",
      "미소장어 구로디지털단지점\n",
      "장어,먹장어요리\n",
      "서울 구로구 디지털로32나길 17-8 2층\n",
      "주문 유형 3\n",
      "미소한상(장어,꽃살,등심,갈비살)\n",
      "미소한상(장어,꽃살,등심,갈비살) 700g입니다\n",
      "리뷰 존재\n",
      "음식이 맛있어요\n",
      "재료가 신선해요\n",
      "매장이 넓어요\n",
      "양이 많아요\n",
      "단체모임 하기 좋아요\n",
      "['미소장어 구로디지털단지점'] ...완료\n",
      "[데이터 수집 완료]\n",
      "소요 시간 : 13.432833909988403 \n",
      "\n",
      "81번째 가게\n"
     ]
    },
    {
     "name": "stderr",
     "output_type": "stream",
     "text": [
      "The chromedriver version (128.0.6613.137) detected in PATH at c:\\Users\\kk21\\Desktop\\TRIPER\\chromedriver.exe might not be compatible with the detected chrome version (129.0.6668.101); currently, chromedriver 129.0.6668.100 is recommended for chrome 129.*, so it is advised to delete the driver in PATH and retry\n"
     ]
    },
    {
     "name": "stdout",
     "output_type": "stream",
     "text": [
      "https://map.naver.com/p/search/%EA%B5%AC%EB%A1%9C%EA%B5%AC%20%EC%9D%98%EC%98%81%EC%9D%B4%EB%84%A4%20%EC%96%91%EA%B0%88%EB%B9%84/place/1003037429?c=15.00,0,0,0,dh&isCorrectAnswer=true\n",
      "결과 한 개\n",
      "\n",
      "[크롤링 시작...]\n",
      "의영이네 양갈비\n",
      "양갈비\n",
      "서울 구로구 디지털로32길 97-22 1층\n",
      "주문 유형 3\n",
      "의영이네 양갈비\n",
      "살코기와 지방이 적절하게 조화된 최고급의 신선한 양갈비입니다. 풍부한 육즙이 일품입니다.\n",
      "리뷰 존재\n",
      "음식이 맛있어요\n",
      "고기 질이 좋아요\n",
      "친절해요\n",
      "직접 잘 구워줘요\n",
      "인테리어가 멋져요\n",
      "['의영이네 양갈비'] ...완료\n",
      "[데이터 수집 완료]\n",
      "소요 시간 : 13.413098096847534 \n",
      "\n",
      "82번째 가게\n"
     ]
    },
    {
     "name": "stderr",
     "output_type": "stream",
     "text": [
      "The chromedriver version (128.0.6613.137) detected in PATH at c:\\Users\\kk21\\Desktop\\TRIPER\\chromedriver.exe might not be compatible with the detected chrome version (129.0.6668.101); currently, chromedriver 129.0.6668.100 is recommended for chrome 129.*, so it is advised to delete the driver in PATH and retry\n"
     ]
    },
    {
     "name": "stdout",
     "output_type": "stream",
     "text": [
      "https://map.naver.com/p/search/%EA%B5%AC%EB%A1%9C%EA%B5%AC%20%EB%8C%80%EC%9E%91%20%EA%B5%AC%EB%A1%9C%EB%94%94%EC%A7%80%ED%84%B8%EB%8B%A8%EC%A7%80%EC%A0%90/place/1423437838?c=15.00,0,0,0,dh&isCorrectAnswer=true\n",
      "결과 한 개\n",
      "\n",
      "[크롤링 시작...]\n",
      "대작 구로디지털단지점\n",
      "이자카야\n",
      "서울 구로구 디지털로32나길 17-26\n",
      "주문 유형 3\n",
      "세트 메뉴\n",
      "부드러운 채끝등심 스테이크와 소라와사비, 해초무침, 에비토타마네끼를 곁들어 먹는 세트 메뉴\n",
      "리뷰 존재\n",
      "음식이 맛있어요\n",
      "대화하기 좋아요\n",
      "술이 다양해요\n",
      "인테리어가 멋져요\n",
      "친절해요\n",
      "['대작 구로디지털단지점'] ...완료\n",
      "[데이터 수집 완료]\n",
      "소요 시간 : 13.437833070755005 \n",
      "\n",
      "83번째 가게\n"
     ]
    },
    {
     "name": "stderr",
     "output_type": "stream",
     "text": [
      "The chromedriver version (128.0.6613.137) detected in PATH at c:\\Users\\kk21\\Desktop\\TRIPER\\chromedriver.exe might not be compatible with the detected chrome version (129.0.6668.101); currently, chromedriver 129.0.6668.100 is recommended for chrome 129.*, so it is advised to delete the driver in PATH and retry\n"
     ]
    },
    {
     "name": "stdout",
     "output_type": "stream",
     "text": [
      "https://map.naver.com/p/search/%EA%B5%AC%EB%A1%9C%EA%B5%AC%20%EA%B8%88%EB%8F%88%EC%A7%91%20%EA%B5%AC%EB%A1%9C%EB%94%94%EC%A7%80%ED%84%B8%EC%A0%90/place/1855599739?c=15.00,0,0,0,dh&isCorrectAnswer=true\n",
      "결과 한 개\n",
      "\n",
      "[크롤링 시작...]\n",
      "금돈집 구로디지털점\n",
      "육류,고기요리\n",
      "서울 구로구 디지털로32나길 17-22 1층 금돈집\n",
      "주문 유형 3\n",
      "대표 메뉴 없음\n",
      "메뉴 설명 없음\n",
      "오류 예외 처리\n",
      "84번째 가게\n"
     ]
    },
    {
     "name": "stderr",
     "output_type": "stream",
     "text": [
      "The chromedriver version (128.0.6613.137) detected in PATH at c:\\Users\\kk21\\Desktop\\TRIPER\\chromedriver.exe might not be compatible with the detected chrome version (129.0.6668.101); currently, chromedriver 129.0.6668.100 is recommended for chrome 129.*, so it is advised to delete the driver in PATH and retry\n"
     ]
    },
    {
     "name": "stdout",
     "output_type": "stream",
     "text": [
      "https://map.naver.com/p/search/%EA%B5%AC%EB%A1%9C%EA%B5%AC%20%EC%98%A8%EB%8D%94%EB%B3%B4%EB%8D%94%20%ED%98%84%EB%8C%80%EB%94%94%ED%81%90%EB%B8%8C%EC%8B%9C%ED%8B%B0%EC%A0%90?c=15.00,0,0,0,dh\n",
      "결과 여러 개 존재(지점 또는 근접 지역)\n",
      "\n",
      "[크롤링 시작...]\n",
      "온더보더 현대디큐브시티점\n",
      "멕시코,남미음식\n",
      "서울 구로구 경인로 662 디큐브시티 별관 4층\n",
      "주문 유형 3\n",
      "스트릿 풀드포크 타코(2pc)\n",
      "부드러운 식감의 풀드포크와 특별한 레시피로 만든 피코데가요를 얹어 만든 타코\n",
      "리뷰 존재\n",
      "음식이 맛있어요\n",
      "친절해요\n",
      "매장이 넓어요\n",
      "특별한 메뉴가 있어요\n",
      "매장이 청결해요\n",
      "['온더보더 현대디큐브시티점'] ...완료\n",
      "[데이터 수집 완료]\n",
      "소요 시간 : 13.37896203994751 \n",
      "\n",
      "85번째 가게\n"
     ]
    },
    {
     "name": "stderr",
     "output_type": "stream",
     "text": [
      "The chromedriver version (128.0.6613.137) detected in PATH at c:\\Users\\kk21\\Desktop\\TRIPER\\chromedriver.exe might not be compatible with the detected chrome version (129.0.6668.101); currently, chromedriver 129.0.6668.100 is recommended for chrome 129.*, so it is advised to delete the driver in PATH and retry\n"
     ]
    },
    {
     "name": "stdout",
     "output_type": "stream",
     "text": [
      "https://map.naver.com/p/search/%EA%B5%AC%EB%A1%9C%EA%B5%AC%2082%EB%83%89%EC%82%BC?c=15.00,0,0,0,dh\n",
      "결과 여러 개 존재(지점 또는 근접 지역)\n",
      "\n",
      "[크롤링 시작...]\n",
      "82냉삼\n",
      "육류,고기요리\n",
      "서울 구로구 구로중앙로19나길 4 1층\n",
      "주문 유형 3\n",
      "82냉삼구이 1인상\n",
      "냉동삼겹구이250g+된장찌개+공기밥1+5칸반찬(쌈장,마늘,고추,쌈무,김치)\n",
      "리뷰 존재\n",
      "리뷰 10명 이하 참여\n",
      "['82냉삼'] ...완료\n",
      "[데이터 수집 완료]\n",
      "소요 시간 : 13.403741836547852 \n",
      "\n",
      "86번째 가게\n"
     ]
    },
    {
     "name": "stderr",
     "output_type": "stream",
     "text": [
      "The chromedriver version (128.0.6613.137) detected in PATH at c:\\Users\\kk21\\Desktop\\TRIPER\\chromedriver.exe might not be compatible with the detected chrome version (129.0.6668.101); currently, chromedriver 129.0.6668.100 is recommended for chrome 129.*, so it is advised to delete the driver in PATH and retry\n"
     ]
    },
    {
     "name": "stdout",
     "output_type": "stream",
     "text": [
      "https://map.naver.com/p/search/%EA%B5%AC%EB%A1%9C%EA%B5%AC%20%EA%B0%84%EC%9E%A5%EC%82%BC%EA%B2%B9%EC%82%B4%20%EB%8F%99%EB%B0%A9%EC%83%9D%EA%B3%A0%EA%B8%B0%20%EA%B5%AC%EB%A1%9C%EC%A0%90?c=15.00,0,0,0,dh\n",
      "결과 여러 개 존재(지점 또는 근접 지역)\n",
      "가게 없음\n",
      "87번째 가게\n"
     ]
    },
    {
     "name": "stderr",
     "output_type": "stream",
     "text": [
      "The chromedriver version (128.0.6613.137) detected in PATH at c:\\Users\\kk21\\Desktop\\TRIPER\\chromedriver.exe might not be compatible with the detected chrome version (129.0.6668.101); currently, chromedriver 129.0.6668.100 is recommended for chrome 129.*, so it is advised to delete the driver in PATH and retry\n"
     ]
    },
    {
     "name": "stdout",
     "output_type": "stream",
     "text": [
      "https://map.naver.com/p/search/%EA%B5%AC%EB%A1%9C%EA%B5%AC%20%EC%98%AC%EB%93%9C%ED%8E%98%EB%A6%AC%EB%8F%84%EB%84%9B%20%EC%95%84%EC%9D%B4%ED%8C%8C%ED%81%AC%EB%AA%B0%20%EA%B3%A0%EC%B2%99%EC%A0%90/place/1426998415?c=15.00,0,0,0,dh&isCorrectAnswer=true\n",
      "결과 한 개\n",
      "\n",
      "[크롤링 시작...]\n",
      "올드페리도넛 아이파크몰 고척점\n",
      "도넛\n",
      "서울 구로구 경인로43길 49 1층 B-101호 (고척동, 고척아이파크)\n",
      "주문 유형 3\n",
      "PB&J\n",
      "고소하면서 달달한 피넛버터 크림에 새콤한 맛의 라즈베리가 들어간 도넛\n",
      "리뷰 존재\n",
      "디저트가 맛있어요\n",
      "특별한 메뉴가 있어요\n",
      "친절해요\n",
      "매장이 청결해요\n",
      "커피가 맛있어요\n",
      "['올드페리도넛 아이파크몰 고척점'] ...완료\n",
      "[데이터 수집 완료]\n",
      "소요 시간 : 13.399514198303223 \n",
      "\n",
      "88번째 가게\n"
     ]
    },
    {
     "name": "stderr",
     "output_type": "stream",
     "text": [
      "The chromedriver version (128.0.6613.137) detected in PATH at c:\\Users\\kk21\\Desktop\\TRIPER\\chromedriver.exe might not be compatible with the detected chrome version (129.0.6668.101); currently, chromedriver 129.0.6668.100 is recommended for chrome 129.*, so it is advised to delete the driver in PATH and retry\n"
     ]
    },
    {
     "name": "stdout",
     "output_type": "stream",
     "text": [
      "https://map.naver.com/p/search/%EA%B5%AC%EB%A1%9C%EA%B5%AC%20%EB%A7%88%EC%B0%A8%EC%9D%B4%EC%A7%AC%EB%BD%95%20%EA%B0%9C%EB%B4%89%EC%97%AD%EC%A0%90?c=15.00,0,0,0,dh\n",
      "결과 여러 개 존재(지점 또는 근접 지역)\n",
      "\n",
      "[크롤링 시작...]\n",
      "마차이짬뽕 개봉역점\n",
      "중식당\n",
      "서울 구로구 개봉로23가길 10 1층 102호\n",
      "주문 유형 3\n",
      "고기짬뽕\n",
      "불맛을 입힌 소고기를 수북히 올린 마차이의 시그니쳐 짬뽕\n",
      "리뷰 존재\n",
      "음식이 맛있어요\n",
      "친절해요\n",
      "재료가 신선해요\n",
      "양이 많아요\n",
      "매장이 청결해요\n",
      "['마차이짬뽕 개봉역점'] ...완료\n",
      "[데이터 수집 완료]\n",
      "소요 시간 : 13.43159794807434 \n",
      "\n",
      "89번째 가게\n"
     ]
    },
    {
     "name": "stderr",
     "output_type": "stream",
     "text": [
      "The chromedriver version (128.0.6613.137) detected in PATH at c:\\Users\\kk21\\Desktop\\TRIPER\\chromedriver.exe might not be compatible with the detected chrome version (129.0.6668.101); currently, chromedriver 129.0.6668.100 is recommended for chrome 129.*, so it is advised to delete the driver in PATH and retry\n"
     ]
    },
    {
     "name": "stdout",
     "output_type": "stream",
     "text": [
      "https://map.naver.com/p/search/%EA%B5%AC%EB%A1%9C%EA%B5%AC%20%ED%8C%94%EA%B0%81%EB%8F%84%20%EA%B5%AC%EB%A1%9C%EB%94%94%EC%A7%80%ED%84%B8%EB%8B%A8%EC%A7%80%EC%97%AD%EC%A0%90?c=15.00,0,0,0,dh\n",
      "결과 여러 개 존재(지점 또는 근접 지역)\n",
      "\n",
      "[크롤링 시작...]\n",
      "팔각도 구로디지털단지역점\n",
      "닭갈비\n",
      "서울 구로구 디지털로32나길 7 1층 101호\n",
      "주문 유형 3\n",
      "숯불 닭갈비\n",
      "최고의 맛을 위해 전국 팔도를 돌아다니며 새롭게 정립한 세상에서 가장 촉촉한 숯불닭갈비\n",
      "리뷰 존재\n",
      "음식이 맛있어요\n",
      "고기 질이 좋아요\n",
      "친절해요\n",
      "특별한 메뉴가 있어요\n",
      "반찬이 잘 나와요\n",
      "['팔각도 구로디지털단지역점'] ...완료\n",
      "[데이터 수집 완료]\n",
      "소요 시간 : 13.430222272872925 \n",
      "\n",
      "./out_food_review/out_16_food.csv완료\n",
      "0번째 가게\n"
     ]
    },
    {
     "name": "stderr",
     "output_type": "stream",
     "text": [
      "The chromedriver version (128.0.6613.137) detected in PATH at c:\\Users\\kk21\\Desktop\\TRIPER\\chromedriver.exe might not be compatible with the detected chrome version (129.0.6668.101); currently, chromedriver 129.0.6668.100 is recommended for chrome 129.*, so it is advised to delete the driver in PATH and retry\n"
     ]
    },
    {
     "name": "stdout",
     "output_type": "stream",
     "text": [
      "https://map.naver.com/p/search/%EA%B8%88%EC%B2%9C%EA%B5%AC%20%EB%A0%88%EC%95%A0%EC%BC%80%EC%9D%B4%ED%81%AC/place/1002418511?c=15.00,0,0,0,dh&isCorrectAnswer=true\n",
      "결과 한 개\n",
      "\n",
      "[크롤링 시작...]\n",
      "레애케이크\n",
      "케이크전문\n",
      "서울 금천구 시흥대로73길 11 무지개상가 2층 205호\n",
      "주문 유형 3\n",
      "미니돔\n",
      "1호기준\n",
      "리뷰 존재\n",
      "선물하기 좋아요\n",
      "친절해요\n",
      "특별한 메뉴가 있어요\n",
      "디저트가 맛있어요\n",
      "사진이 잘 나와요\n",
      "['레애케이크'] ...완료\n",
      "[데이터 수집 완료]\n",
      "소요 시간 : 13.381547451019287 \n",
      "\n",
      "1번째 가게\n"
     ]
    },
    {
     "name": "stderr",
     "output_type": "stream",
     "text": [
      "The chromedriver version (128.0.6613.137) detected in PATH at c:\\Users\\kk21\\Desktop\\TRIPER\\chromedriver.exe might not be compatible with the detected chrome version (129.0.6668.101); currently, chromedriver 129.0.6668.100 is recommended for chrome 129.*, so it is advised to delete the driver in PATH and retry\n"
     ]
    },
    {
     "name": "stdout",
     "output_type": "stream",
     "text": [
      "https://map.naver.com/p/search/%EA%B8%88%EC%B2%9C%EA%B5%AC%20%EA%BF%88%EB%96%A1%EA%BF%88%EB%96%A1%20%EB%8F%85%EC%82%B0%EC%97%AD%EC%A0%90/place/1862649542?c=15.00,0,0,0,dh&isCorrectAnswer=true\n",
      "결과 한 개\n",
      "\n",
      "[크롤링 시작...]\n",
      "꿈떡꿈떡 독산역점\n",
      "떡볶이\n",
      "서울 금천구 가산디지털1로 16 1층 112-R호\n",
      "주문 유형 3\n",
      "꿈떡 로제떡볶이 1인분\n",
      "떡+어묵+양배추+계란+납작당면+치즈+음료1개 (음료는 2인분일때 제공)\n",
      "리뷰 존재\n",
      "음식이 맛있어요\n",
      "친절해요\n",
      "재료가 신선해요\n",
      "특별한 메뉴가 있어요\n",
      "매장이 청결해요\n",
      "['꿈떡꿈떡 독산역점'] ...완료\n",
      "[데이터 수집 완료]\n",
      "소요 시간 : 13.436644077301025 \n",
      "\n",
      "2번째 가게\n"
     ]
    },
    {
     "name": "stderr",
     "output_type": "stream",
     "text": [
      "The chromedriver version (128.0.6613.137) detected in PATH at c:\\Users\\kk21\\Desktop\\TRIPER\\chromedriver.exe might not be compatible with the detected chrome version (129.0.6668.101); currently, chromedriver 129.0.6668.100 is recommended for chrome 129.*, so it is advised to delete the driver in PATH and retry\n"
     ]
    },
    {
     "name": "stdout",
     "output_type": "stream",
     "text": [
      "https://map.naver.com/p/search/%EA%B8%88%EC%B2%9C%EA%B5%AC%20%EB%8F%99%EC%82%B0%EB%AF%B8/place/11856720?c=15.00,0,0,0,dh&isCorrectAnswer=true\n",
      "결과 한 개\n",
      "\n",
      "[크롤링 시작...]\n",
      "동산미\n",
      "돼지고기구이\n",
      "서울 금천구 가산디지털2로 138-1\n",
      "주문 유형 3\n",
      "갑오징어 토핑\n",
      "오직 동산미에서만 일년 내내 드실수있는 국내산 갑오징어. 삼겹살 기름과의 콜라보. 야들야들\n",
      "리뷰 존재\n",
      "음식이 맛있어요\n",
      "친절해요\n",
      "특별한 메뉴가 있어요\n",
      "가성비가 좋아요\n",
      "양이 많아요\n",
      "['동산미'] ...완료\n",
      "[데이터 수집 완료]\n",
      "소요 시간 : 13.410138607025146 \n",
      "\n",
      "3번째 가게\n"
     ]
    },
    {
     "name": "stderr",
     "output_type": "stream",
     "text": [
      "The chromedriver version (128.0.6613.137) detected in PATH at c:\\Users\\kk21\\Desktop\\TRIPER\\chromedriver.exe might not be compatible with the detected chrome version (129.0.6668.101); currently, chromedriver 129.0.6668.100 is recommended for chrome 129.*, so it is advised to delete the driver in PATH and retry\n"
     ]
    },
    {
     "name": "stdout",
     "output_type": "stream",
     "text": [
      "https://map.naver.com/p/search/%EA%B8%88%EC%B2%9C%EA%B5%AC%20%EC%A7%84%EC%98%81%EB%A9%B4%EC%98%A5/place/1944327442?c=15.00,0,0,0,dh&isCorrectAnswer=true\n",
      "결과 한 개\n",
      "\n",
      "[크롤링 시작...]\n",
      "진영면옥\n",
      "냉면\n",
      "서울 금천구 가산로 22-5\n",
      "주문 유형 3\n",
      "평양냉면\n",
      "메뉴 설명 없음\n",
      "리뷰 존재\n",
      "음식이 맛있어요\n",
      "재료가 신선해요\n",
      "친절해요\n",
      "매장이 청결해요\n",
      "특별한 메뉴가 있어요\n",
      "['진영면옥'] ...완료\n",
      "[데이터 수집 완료]\n",
      "소요 시간 : 13.41071367263794 \n",
      "\n",
      "4번째 가게\n"
     ]
    },
    {
     "name": "stderr",
     "output_type": "stream",
     "text": [
      "The chromedriver version (128.0.6613.137) detected in PATH at c:\\Users\\kk21\\Desktop\\TRIPER\\chromedriver.exe might not be compatible with the detected chrome version (129.0.6668.101); currently, chromedriver 129.0.6668.100 is recommended for chrome 129.*, so it is advised to delete the driver in PATH and retry\n"
     ]
    },
    {
     "name": "stdout",
     "output_type": "stream",
     "text": [
      "https://map.naver.com/p/search/%EA%B8%88%EC%B2%9C%EA%B5%AC%20%EB%AC%B8%EC%A0%95%EA%B3%B1%EC%B0%BD/place/846783898?c=15.00,0,0,0,dh&isCorrectAnswer=true\n",
      "결과 한 개\n",
      "\n",
      "[크롤링 시작...]\n",
      "문정곱창\n",
      "곱창,막창,양\n",
      "서울 금천구 디지털로12길 37 1층 103, 104호\n",
      "주문 유형 3\n",
      "모듬곱창\n",
      "메뉴 설명 없음\n",
      "리뷰 존재\n",
      "음식이 맛있어요\n",
      "양이 많아요\n",
      "친절해요\n",
      "고기 질이 좋아요\n",
      "재료가 신선해요\n",
      "['문정곱창'] ...완료\n",
      "[데이터 수집 완료]\n",
      "소요 시간 : 13.392721176147461 \n",
      "\n",
      "5번째 가게\n"
     ]
    },
    {
     "name": "stderr",
     "output_type": "stream",
     "text": [
      "The chromedriver version (128.0.6613.137) detected in PATH at c:\\Users\\kk21\\Desktop\\TRIPER\\chromedriver.exe might not be compatible with the detected chrome version (129.0.6668.101); currently, chromedriver 129.0.6668.100 is recommended for chrome 129.*, so it is advised to delete the driver in PATH and retry\n"
     ]
    },
    {
     "name": "stdout",
     "output_type": "stream",
     "text": [
      "https://map.naver.com/p/search/%EA%B8%88%EC%B2%9C%EA%B5%AC%20%EC%A4%91%ED%99%94%EC%9A%94%EB%A6%AC%20%EC%97%B0?c=15.00,0,0,0,dh\n",
      "결과 여러 개 존재(지점 또는 근접 지역)\n",
      "\n",
      "[크롤링 시작...]\n",
      "중화요리연 1호점\n",
      "중식당\n",
      "서울 금천구 가산디지털1로 225 1층 116호\n",
      "주문 유형 3\n",
      "유니짜장\n",
      "중화요리의 대명사\n",
      "리뷰 존재\n",
      "음식이 맛있어요\n",
      "매장이 넓어요\n",
      "인테리어가 멋져요\n",
      "단체모임 하기 좋아요\n",
      "친절해요\n",
      "['중화요리연 1호점'] ...완료\n",
      "[데이터 수집 완료]\n",
      "소요 시간 : 13.429136037826538 \n",
      "\n",
      "6번째 가게\n"
     ]
    },
    {
     "name": "stderr",
     "output_type": "stream",
     "text": [
      "The chromedriver version (128.0.6613.137) detected in PATH at c:\\Users\\kk21\\Desktop\\TRIPER\\chromedriver.exe might not be compatible with the detected chrome version (129.0.6668.101); currently, chromedriver 129.0.6668.100 is recommended for chrome 129.*, so it is advised to delete the driver in PATH and retry\n"
     ]
    },
    {
     "name": "stdout",
     "output_type": "stream",
     "text": [
      "https://map.naver.com/p/search/%EA%B8%88%EC%B2%9C%EA%B5%AC%20%EC%95%A0%EC%8A%90%EB%A6%AC%ED%80%B8%EC%A6%88%20%EA%B0%80%EC%82%B0%ED%8D%BC%EB%B8%94%EB%A6%AD%EC%A0%90?c=15.00,0,0,0,dh\n",
      "결과 여러 개 존재(지점 또는 근접 지역)\n",
      "\n",
      "[크롤링 시작...]\n",
      "애슐리퀸즈 가산퍼블릭점\n",
      "패밀리레스토랑\n",
      "서울 금천구 디지털로 178 A동 B1층\n",
      "주문 유형 3\n",
      "성인 평일런치\n",
      "메뉴 설명 없음\n",
      "리뷰 존재\n",
      "음식이 맛있어요\n",
      "매장이 넓어요\n",
      "재료가 신선해요\n",
      "가성비가 좋아요\n",
      "단체모임 하기 좋아요\n",
      "['애슐리퀸즈 가산퍼블릭점'] ...완료\n",
      "[데이터 수집 완료]\n",
      "소요 시간 : 13.414949893951416 \n",
      "\n",
      "7번째 가게\n"
     ]
    },
    {
     "name": "stderr",
     "output_type": "stream",
     "text": [
      "The chromedriver version (128.0.6613.137) detected in PATH at c:\\Users\\kk21\\Desktop\\TRIPER\\chromedriver.exe might not be compatible with the detected chrome version (129.0.6668.101); currently, chromedriver 129.0.6668.100 is recommended for chrome 129.*, so it is advised to delete the driver in PATH and retry\n"
     ]
    },
    {
     "name": "stdout",
     "output_type": "stream",
     "text": [
      "https://map.naver.com/p/search/%EA%B8%88%EC%B2%9C%EA%B5%AC%20%EC%9B%90%EB%8B%A4%EC%A0%95%20%EC%99%95%EC%86%8C%EA%B8%88%EA%B5%AC%EC%9D%B4/place/1023404219?c=15.00,0,0,0,dh&isCorrectAnswer=true\n",
      "결과 한 개\n",
      "\n",
      "[크롤링 시작...]\n",
      "원다정 왕소금구이\n",
      "돼지고기구이\n",
      "서울 금천구 시흥대로48길 1 1층\n",
      "주문 유형 3\n",
      "재래식 소금구이(500g)(2.5인)\n",
      "추가반접시 (250g) 19500\n",
      "리뷰 존재\n",
      "음식이 맛있어요\n",
      "고기 질이 좋아요\n",
      "친절해요\n",
      "양이 많아요\n",
      "재료가 신선해요\n",
      "['원다정 왕소금구이'] ...완료\n",
      "[데이터 수집 완료]\n",
      "소요 시간 : 13.444207906723022 \n",
      "\n",
      "8번째 가게\n"
     ]
    },
    {
     "name": "stderr",
     "output_type": "stream",
     "text": [
      "The chromedriver version (128.0.6613.137) detected in PATH at c:\\Users\\kk21\\Desktop\\TRIPER\\chromedriver.exe might not be compatible with the detected chrome version (129.0.6668.101); currently, chromedriver 129.0.6668.100 is recommended for chrome 129.*, so it is advised to delete the driver in PATH and retry\n"
     ]
    },
    {
     "name": "stdout",
     "output_type": "stream",
     "text": [
      "https://map.naver.com/p/search/%EA%B8%88%EC%B2%9C%EA%B5%AC%20%EB%8C%80%EC%8B%9D%EB%8B%B9/place/1998490002?c=15.00,0,0,0,dh&isCorrectAnswer=true\n",
      "결과 한 개\n",
      "\n",
      "[크롤링 시작...]\n",
      "대식당\n",
      "돼지고기구이\n",
      "서울 금천구 시흥대로153길 95 지상1층\n",
      "주문 유형 3\n",
      "대식뼈삼겹(750g)\n",
      "[대식당시그니처]삼겹,등심,가브리,등갈비 부위를 1대에 정형한 메뉴 / 초벌메뉴\n",
      "리뷰 존재\n",
      "고기 질이 좋아요\n",
      "음식이 맛있어요\n",
      "친절해요\n",
      "매장이 넓어요\n",
      "특별한 메뉴가 있어요\n",
      "['대식당'] ...완료\n",
      "[데이터 수집 완료]\n",
      "소요 시간 : 13.44627857208252 \n",
      "\n",
      "9번째 가게\n"
     ]
    },
    {
     "name": "stderr",
     "output_type": "stream",
     "text": [
      "The chromedriver version (128.0.6613.137) detected in PATH at c:\\Users\\kk21\\Desktop\\TRIPER\\chromedriver.exe might not be compatible with the detected chrome version (129.0.6668.101); currently, chromedriver 129.0.6668.100 is recommended for chrome 129.*, so it is advised to delete the driver in PATH and retry\n"
     ]
    },
    {
     "name": "stdout",
     "output_type": "stream",
     "text": [
      "https://map.naver.com/p/search/%EA%B8%88%EC%B2%9C%EA%B5%AC%20%EC%9D%B8%ED%81%AC%EC%BB%A4%ED%94%BC%20%EA%B0%80%EC%82%B0%EC%A0%90/place/1232726331?c=15.00,0,0,0,dh&isCorrectAnswer=true\n",
      "결과 한 개\n",
      "\n",
      "[크롤링 시작...]\n",
      "인크커피 가산점\n",
      "카페,디저트\n",
      "서울 금천구 가산디지털2로 127-20\n",
      "주문 유형 3\n",
      "얼 그레이 크림 라떼\n",
      "타바론 얼그레이티의 향긋함을 담아낸 커피와 티 크림이 조화를 이뤄 진한 여운을 남기는 라떼\n",
      "리뷰 존재\n",
      "커피가 맛있어요\n",
      "인테리어가 멋져요\n",
      "디저트가 맛있어요\n",
      "음료가 맛있어요\n",
      "매장이 청결해요\n",
      "['인크커피 가산점'] ...완료\n",
      "[데이터 수집 완료]\n",
      "소요 시간 : 13.413337707519531 \n",
      "\n",
      "10번째 가게\n"
     ]
    },
    {
     "name": "stderr",
     "output_type": "stream",
     "text": [
      "The chromedriver version (128.0.6613.137) detected in PATH at c:\\Users\\kk21\\Desktop\\TRIPER\\chromedriver.exe might not be compatible with the detected chrome version (129.0.6668.101); currently, chromedriver 129.0.6668.100 is recommended for chrome 129.*, so it is advised to delete the driver in PATH and retry\n"
     ]
    },
    {
     "name": "stdout",
     "output_type": "stream",
     "text": [
      "https://map.naver.com/p/search/%EA%B8%88%EC%B2%9C%EA%B5%AC%20%ED%98%B8%EC%84%B8%EA%B0%80%20%EA%B0%80%EC%82%B0%EB%B3%B8%EC%A0%90/place/1626488469?c=15.00,0,0,0,dh&isCorrectAnswer=true\n",
      "결과 한 개\n",
      "\n",
      "[크롤링 시작...]\n",
      "호세가 가산본점\n",
      "멕시코,남미음식\n",
      "서울 금천구 남부순환로108길 19 1층\n",
      "주문 유형 1\n",
      "비프 타코인기\n",
      "\n",
      "리뷰 존재\n",
      "음식이 맛있어요\n",
      "인테리어가 멋져요\n",
      "재료가 신선해요\n",
      "친절해요\n",
      "특별한 메뉴가 있어요\n",
      "['호세가 가산본점'] ...완료\n",
      "[데이터 수집 완료]\n",
      "소요 시간 : 21.470335960388184 \n",
      "\n",
      "11번째 가게\n"
     ]
    },
    {
     "name": "stderr",
     "output_type": "stream",
     "text": [
      "The chromedriver version (128.0.6613.137) detected in PATH at c:\\Users\\kk21\\Desktop\\TRIPER\\chromedriver.exe might not be compatible with the detected chrome version (129.0.6668.101); currently, chromedriver 129.0.6668.100 is recommended for chrome 129.*, so it is advised to delete the driver in PATH and retry\n"
     ]
    },
    {
     "name": "stdout",
     "output_type": "stream",
     "text": [
      "https://map.naver.com/p/search/%EA%B8%88%EC%B2%9C%EA%B5%AC%20%EB%8F%99%ED%9D%A5%EA%B4%80?c=15.00,0,0,0,dh\n",
      "결과 여러 개 존재(지점 또는 근접 지역)\n",
      "\n",
      "[크롤링 시작...]\n",
      "동흥관\n",
      "중식당\n",
      "서울 금천구 시흥대로63길 20\n",
      "주문 유형 3\n",
      "탕수육(중)\n",
      "기본 2인분\n",
      "리뷰 존재\n",
      "음식이 맛있어요\n",
      "친절해요\n",
      "매장이 넓어요\n",
      "단체모임 하기 좋아요\n",
      "양이 많아요\n",
      "['동흥관'] ...완료\n",
      "[데이터 수집 완료]\n",
      "소요 시간 : 13.417494058609009 \n",
      "\n",
      "12번째 가게\n"
     ]
    },
    {
     "name": "stderr",
     "output_type": "stream",
     "text": [
      "The chromedriver version (128.0.6613.137) detected in PATH at c:\\Users\\kk21\\Desktop\\TRIPER\\chromedriver.exe might not be compatible with the detected chrome version (129.0.6668.101); currently, chromedriver 129.0.6668.100 is recommended for chrome 129.*, so it is advised to delete the driver in PATH and retry\n"
     ]
    },
    {
     "name": "stdout",
     "output_type": "stream",
     "text": [
      "https://map.naver.com/p/search/%EA%B8%88%EC%B2%9C%EA%B5%AC%20%EA%B0%80%EC%82%B0%EB%AC%BC%EA%B0%88%EB%B9%84&%EC%A6%89%EC%84%9D%EC%86%8C%EB%B6%88%EA%B3%A0%EA%B8%B0/place/472884868?c=15.00,0,0,0,dh&isCorrectAnswer=true\n",
      "결과 한 개\n",
      "\n",
      "[크롤링 시작...]\n",
      "가산물갈비&즉석소불고기\n",
      "육류,고기요리\n",
      "서울 금천구 가산디지털1로 128 STX V TOWER 110호\n",
      "주문 유형 3\n",
      "산더미물갈비\n",
      "각종 방송에서도인정한명품맛집으로소등심을물갈비위에얹어서샤브로먹는칼칼한맛이일품인요리입니다.\n",
      "리뷰 존재\n",
      "음식이 맛있어요\n",
      "양이 많아요\n",
      "매장이 넓어요\n",
      "특별한 메뉴가 있어요\n",
      "단체모임 하기 좋아요\n",
      "['가산물갈비&즉석소불고기'] ...완료\n",
      "[데이터 수집 완료]\n",
      "소요 시간 : 13.447564840316772 \n",
      "\n",
      "13번째 가게\n"
     ]
    },
    {
     "name": "stderr",
     "output_type": "stream",
     "text": [
      "The chromedriver version (128.0.6613.137) detected in PATH at c:\\Users\\kk21\\Desktop\\TRIPER\\chromedriver.exe might not be compatible with the detected chrome version (129.0.6668.101); currently, chromedriver 129.0.6668.100 is recommended for chrome 129.*, so it is advised to delete the driver in PATH and retry\n"
     ]
    },
    {
     "name": "stdout",
     "output_type": "stream",
     "text": [
      "https://map.naver.com/p/search/%EA%B8%88%EC%B2%9C%EA%B5%AC%20%ED%8E%B8%EC%95%88%EC%A7%91%20%EA%B8%88%EC%B2%9C%EC%8B%9C%ED%9D%A5%EC%A0%90/place/1857511141?c=15.00,0,0,0,dh&isCorrectAnswer=true\n",
      "결과 한 개\n",
      "\n",
      "[크롤링 시작...]\n",
      "편안집 금천시흥점\n",
      "한식\n",
      "서울 금천구 시흥대로 167 1층\n",
      "주문 유형 3\n",
      "무한리필 할인[평일 점심]-대인\n",
      "편백찜+샤브샤브+월남쌈+소고기 무한리필\n",
      "리뷰 존재\n",
      "음식이 맛있어요\n",
      "재료가 신선해요\n",
      "양이 많아요\n",
      "가성비가 좋아요\n",
      "매장이 넓어요\n",
      "['편안집 금천시흥점'] ...완료\n",
      "[데이터 수집 완료]\n",
      "소요 시간 : 13.383213758468628 \n",
      "\n",
      "14번째 가게\n"
     ]
    },
    {
     "name": "stderr",
     "output_type": "stream",
     "text": [
      "The chromedriver version (128.0.6613.137) detected in PATH at c:\\Users\\kk21\\Desktop\\TRIPER\\chromedriver.exe might not be compatible with the detected chrome version (129.0.6668.101); currently, chromedriver 129.0.6668.100 is recommended for chrome 129.*, so it is advised to delete the driver in PATH and retry\n"
     ]
    },
    {
     "name": "stdout",
     "output_type": "stream",
     "text": [
      "https://map.naver.com/p/search/%EA%B8%88%EC%B2%9C%EA%B5%AC%20%EC%84%9C%EC%B2%9C%EC%A7%91/place/1565452201?c=15.00,0,0,0,dh&isCorrectAnswer=true\n",
      "결과 한 개\n",
      "\n",
      "[크롤링 시작...]\n",
      "서천집\n",
      "한식\n",
      "서울 금천구 가산디지털1로 168 우림라이온스밸리 A동 2층 212호\n",
      "주문 유형 1\n",
      "동태알탕(1인)대표\n",
      "\n",
      "리뷰 존재\n",
      "음식이 맛있어요\n",
      "재료가 신선해요\n",
      "양이 많아요\n",
      "가성비가 좋아요\n",
      "친절해요\n",
      "['서천집'] ...완료\n",
      "[데이터 수집 완료]\n",
      "소요 시간 : 18.759870767593384 \n",
      "\n",
      "15번째 가게\n"
     ]
    },
    {
     "name": "stderr",
     "output_type": "stream",
     "text": [
      "The chromedriver version (128.0.6613.137) detected in PATH at c:\\Users\\kk21\\Desktop\\TRIPER\\chromedriver.exe might not be compatible with the detected chrome version (129.0.6668.101); currently, chromedriver 129.0.6668.100 is recommended for chrome 129.*, so it is advised to delete the driver in PATH and retry\n"
     ]
    },
    {
     "name": "stdout",
     "output_type": "stream",
     "text": [
      "https://map.naver.com/p/search/%EA%B8%88%EC%B2%9C%EA%B5%AC%20%EB%9D%BC%EB%B3%B5%EA%B6%81%20%EC%96%91%EA%B0%88%EB%B9%84%26%EB%A7%88%EB%9D%BC%EC%83%B9%EA%B6%88?c=15.00,0,0,0,dh\n",
      "결과 여러 개 존재(지점 또는 근접 지역)\n",
      "가게 없음\n",
      "16번째 가게\n"
     ]
    },
    {
     "name": "stderr",
     "output_type": "stream",
     "text": [
      "The chromedriver version (128.0.6613.137) detected in PATH at c:\\Users\\kk21\\Desktop\\TRIPER\\chromedriver.exe might not be compatible with the detected chrome version (129.0.6668.101); currently, chromedriver 129.0.6668.100 is recommended for chrome 129.*, so it is advised to delete the driver in PATH and retry\n"
     ]
    },
    {
     "name": "stdout",
     "output_type": "stream",
     "text": [
      "https://map.naver.com/p/search/%EA%B8%88%EC%B2%9C%EA%B5%AC%20%ED%8E%98%EC%9D%B4%EC%9E%90%EC%9D%B4?c=15.00,0,0,0,dh\n",
      "결과 여러 개 존재(지점 또는 근접 지역)\n",
      "\n",
      "[크롤링 시작...]\n",
      "페이자이 가산디지털단지역점\n",
      "중식당\n",
      "서울 금천구 가산디지털1로 142 104호\n",
      "주문 유형 3\n",
      "디너) 소고기 마라전골\n",
      "직접만든 마라장과 소고기 그리고 푸짐한 재료를 곁들인 국물 안주요리\n",
      "리뷰 존재\n",
      "음식이 맛있어요\n",
      "재료가 신선해요\n",
      "인테리어가 멋져요\n",
      "양이 많아요\n",
      "친절해요\n",
      "['페이자이 가산디지털단지역점'] ...완료\n",
      "[데이터 수집 완료]\n",
      "소요 시간 : 13.42542028427124 \n",
      "\n",
      "17번째 가게\n"
     ]
    },
    {
     "name": "stderr",
     "output_type": "stream",
     "text": [
      "The chromedriver version (128.0.6613.137) detected in PATH at c:\\Users\\kk21\\Desktop\\TRIPER\\chromedriver.exe might not be compatible with the detected chrome version (129.0.6668.101); currently, chromedriver 129.0.6668.100 is recommended for chrome 129.*, so it is advised to delete the driver in PATH and retry\n"
     ]
    },
    {
     "name": "stdout",
     "output_type": "stream",
     "text": [
      "https://map.naver.com/p/search/%EA%B8%88%EC%B2%9C%EA%B5%AC%20%ED%95%9C%EC%98%A5%EC%A7%91%EC%88%AF%EB%B6%88%EA%B0%88%EB%B9%84%20%EB%8F%85%EC%82%B0%EB%B3%B8%EC%A0%90/place/1044588978?c=15.00,0,0,0,dh&isCorrectAnswer=true\n",
      "결과 한 개\n",
      "\n",
      "[크롤링 시작...]\n",
      "한옥집숯불갈비 독산본점\n",
      "육류,고기요리\n",
      "서울 금천구 시흥대로141길 71 1층\n",
      "주문 유형 3\n",
      "수제마늘소갈비\n",
      "20년경력 수제마늘소갈비\n",
      "리뷰 존재\n",
      "음식이 맛있어요\n",
      "고기 질이 좋아요\n",
      "양이 많아요\n",
      "친절해요\n",
      "가성비가 좋아요\n",
      "['한옥집숯불갈비 독산본점'] ...완료\n",
      "[데이터 수집 완료]\n",
      "소요 시간 : 13.398074626922607 \n",
      "\n",
      "18번째 가게\n"
     ]
    },
    {
     "name": "stderr",
     "output_type": "stream",
     "text": [
      "The chromedriver version (128.0.6613.137) detected in PATH at c:\\Users\\kk21\\Desktop\\TRIPER\\chromedriver.exe might not be compatible with the detected chrome version (129.0.6668.101); currently, chromedriver 129.0.6668.100 is recommended for chrome 129.*, so it is advised to delete the driver in PATH and retry\n"
     ]
    },
    {
     "name": "stdout",
     "output_type": "stream",
     "text": [
      "https://map.naver.com/p/search/%EA%B8%88%EC%B2%9C%EA%B5%AC%20%EB%A6%AC%EC%B6%98%EC%8B%9C%EC%9E%A5%20%EB%8F%85%EC%82%B0%EC%A0%90?c=15.00,0,0,0,dh\n",
      "결과 여러 개 존재(지점 또는 근접 지역)\n",
      "\n",
      "[크롤링 시작...]\n",
      "리춘시장 독산점\n",
      "요리주점\n",
      "서울 금천구 시흥대로122길 16 1층 리춘시장\n",
      "주문 유형 3\n",
      "마라샹궈\n",
      "초가성비 리춘 마라 메뉴! 취향대로 사리를 추가해 즐겨보세요!\n",
      "리뷰 존재\n",
      "음식이 맛있어요\n",
      "가성비가 좋아요\n",
      "친절해요\n",
      "기본 안주가 좋아요\n",
      "술이 다양해요\n",
      "['리춘시장 독산점'] ...완료\n",
      "[데이터 수집 완료]\n",
      "소요 시간 : 13.42077350616455 \n",
      "\n",
      "19번째 가게\n"
     ]
    },
    {
     "name": "stderr",
     "output_type": "stream",
     "text": [
      "The chromedriver version (128.0.6613.137) detected in PATH at c:\\Users\\kk21\\Desktop\\TRIPER\\chromedriver.exe might not be compatible with the detected chrome version (129.0.6668.101); currently, chromedriver 129.0.6668.100 is recommended for chrome 129.*, so it is advised to delete the driver in PATH and retry\n"
     ]
    },
    {
     "name": "stdout",
     "output_type": "stream",
     "text": [
      "https://map.naver.com/p/search/%EA%B8%88%EC%B2%9C%EA%B5%AC%20%EB%AF%B8%EC%9A%94%EB%A6%AC%ED%8F%AC%EC%B0%A8/place/1442513676?c=15.00,0,0,0,dh&isCorrectAnswer=true\n",
      "결과 한 개\n",
      "\n",
      "[크롤링 시작...]\n",
      "미요리포차\n",
      "요리주점\n",
      "서울 금천구 시흥대로123길 38 지상1층 미요리포차\n",
      "주문 유형 3\n",
      "낙지보쌈\n",
      "낙지(1마리)볶음 + 미요리 보쌈 한판\n",
      "리뷰 존재\n",
      "음식이 맛있어요\n",
      "특별한 메뉴가 있어요\n",
      "친절해요\n",
      "기본 안주가 좋아요\n",
      "술이 다양해요\n",
      "['미요리포차'] ...완료\n",
      "[데이터 수집 완료]\n",
      "소요 시간 : 13.434584617614746 \n",
      "\n",
      "20번째 가게\n"
     ]
    },
    {
     "name": "stderr",
     "output_type": "stream",
     "text": [
      "The chromedriver version (128.0.6613.137) detected in PATH at c:\\Users\\kk21\\Desktop\\TRIPER\\chromedriver.exe might not be compatible with the detected chrome version (129.0.6668.101); currently, chromedriver 129.0.6668.100 is recommended for chrome 129.*, so it is advised to delete the driver in PATH and retry\n"
     ]
    },
    {
     "name": "stdout",
     "output_type": "stream",
     "text": [
      "https://map.naver.com/p/search/%EA%B8%88%EC%B2%9C%EA%B5%AC%20%EC%84%B8%EB%9D%BC%EC%A6%88%ED%94%BC%EC%9E%90%ED%8E%8D/place/1256338829?c=15.00,0,0,0,dh&isCorrectAnswer=true\n",
      "결과 한 개\n",
      "\n",
      "[크롤링 시작...]\n",
      "세라즈피자펍\n",
      "피자\n",
      "서울 금천구 가산디지털1로 168 A동 2층 222호\n",
      "주문 유형 3\n",
      "피자 13인치\n",
      "3-4 인분. 반반(36,900원) 고르실수 있습니다\n",
      "리뷰 존재\n",
      "음식이 맛있어요\n",
      "재료가 신선해요\n",
      "양이 많아요\n",
      "특별한 메뉴가 있어요\n",
      "친절해요\n",
      "['세라즈피자펍'] ...완료\n",
      "[데이터 수집 완료]\n",
      "소요 시간 : 13.431658029556274 \n",
      "\n",
      "21번째 가게\n"
     ]
    },
    {
     "name": "stderr",
     "output_type": "stream",
     "text": [
      "The chromedriver version (128.0.6613.137) detected in PATH at c:\\Users\\kk21\\Desktop\\TRIPER\\chromedriver.exe might not be compatible with the detected chrome version (129.0.6668.101); currently, chromedriver 129.0.6668.100 is recommended for chrome 129.*, so it is advised to delete the driver in PATH and retry\n"
     ]
    },
    {
     "name": "stdout",
     "output_type": "stream",
     "text": [
      "https://map.naver.com/p/search/%EA%B8%88%EC%B2%9C%EA%B5%AC%20%EC%88%9C%EB%8C%95%EC%9D%B4%EB%84%A4%EC%96%BC%ED%81%B0%EC%88%98%EC%A0%9C%EB%B9%84/place/34332311?c=15.00,0,0,0,dh&isCorrectAnswer=true\n",
      "결과 한 개\n",
      "\n",
      "[크롤링 시작...]\n",
      "순댕이네얼큰수제비\n",
      "한식\n",
      "서울 금천구 시흥대로136길 1\n",
      "주문 유형 3\n",
      "팥칼국수\n",
      "2인이상\n",
      "리뷰 존재\n",
      "음식이 맛있어요\n",
      "양이 많아요\n",
      "친절해요\n",
      "가성비가 좋아요\n",
      "재료가 신선해요\n",
      "['순댕이네얼큰수제비'] ...완료\n",
      "[데이터 수집 완료]\n",
      "소요 시간 : 13.446774959564209 \n",
      "\n",
      "22번째 가게\n"
     ]
    },
    {
     "name": "stderr",
     "output_type": "stream",
     "text": [
      "The chromedriver version (128.0.6613.137) detected in PATH at c:\\Users\\kk21\\Desktop\\TRIPER\\chromedriver.exe might not be compatible with the detected chrome version (129.0.6668.101); currently, chromedriver 129.0.6668.100 is recommended for chrome 129.*, so it is advised to delete the driver in PATH and retry\n"
     ]
    },
    {
     "name": "stdout",
     "output_type": "stream",
     "text": [
      "https://map.naver.com/p/search/%EA%B8%88%EC%B2%9C%EA%B5%AC%20%EC%A0%80%EC%8A%A4%ED%8A%B8%EC%B9%B4%EC%B8%A0%20%EA%B0%80%EC%82%B0%EC%A0%90/place/1801800030?c=15.00,0,0,0,dh&isCorrectAnswer=true\n",
      "결과 한 개\n",
      "\n",
      "[크롤링 시작...]\n",
      "저스트카츠 가산점\n",
      "돈가스\n",
      "서울 금천구 가마산로 96 1층 107호\n",
      "주문 유형 3\n",
      "대표 메뉴 없음\n",
      "메뉴 설명 없음\n",
      "오류 예외 처리\n",
      "23번째 가게\n"
     ]
    },
    {
     "name": "stderr",
     "output_type": "stream",
     "text": [
      "The chromedriver version (128.0.6613.137) detected in PATH at c:\\Users\\kk21\\Desktop\\TRIPER\\chromedriver.exe might not be compatible with the detected chrome version (129.0.6668.101); currently, chromedriver 129.0.6668.100 is recommended for chrome 129.*, so it is advised to delete the driver in PATH and retry\n"
     ]
    },
    {
     "name": "stdout",
     "output_type": "stream",
     "text": [
      "https://map.naver.com/p/search/%EA%B8%88%EC%B2%9C%EA%B5%AC%20%EC%95%84%EB%A1%9C%EA%B0%80%20%EB%8F%85%EC%82%B0%20%EC%9A%B0%EC%8B%9C%EC%9E%A5%20%EB%B3%B8%EC%A0%90?c=15.00,0,0,0,dh\n",
      "결과 여러 개 존재(지점 또는 근접 지역)\n",
      "가게 없음\n",
      "24번째 가게\n"
     ]
    },
    {
     "name": "stderr",
     "output_type": "stream",
     "text": [
      "The chromedriver version (128.0.6613.137) detected in PATH at c:\\Users\\kk21\\Desktop\\TRIPER\\chromedriver.exe might not be compatible with the detected chrome version (129.0.6668.101); currently, chromedriver 129.0.6668.100 is recommended for chrome 129.*, so it is advised to delete the driver in PATH and retry\n"
     ]
    },
    {
     "name": "stdout",
     "output_type": "stream",
     "text": [
      "https://map.naver.com/p/search/%EA%B8%88%EC%B2%9C%EA%B5%AC%20%EB%8D%94%EC%A0%9C%EC%9D%B4%EC%BC%80%EC%9D%B4%ED%82%A4%EC%B9%9C%EB%B0%95%EC%8A%A4%20%EA%B0%80%EC%82%B0%EB%94%94%EC%A7%80%ED%84%B8%EC%A0%90?c=15.00,0,0,0,dh\n",
      "결과 여러 개 존재(지점 또는 근접 지역)\n",
      "\n",
      "[크롤링 시작...]\n",
      "더제이케이키친박스 가산디지털점\n",
      "이탈리아음식\n",
      "서울 금천구 가산디지털1로 145 에이스하이엔드타워3 1층 111호\n",
      "주문 유형 3\n",
      "파스타\n",
      "양상추, 로메인, 라디치오가 기본으로 들어간 샐러드입니다\n",
      "리뷰 존재\n",
      "음식이 맛있어요\n",
      "친절해요\n",
      "가성비가 좋아요\n",
      "매장이 넓어요\n",
      "매장이 청결해요\n",
      "['더제이케이키친박스 가산디지털점'] ...완료\n",
      "[데이터 수집 완료]\n",
      "소요 시간 : 13.43377685546875 \n",
      "\n",
      "25번째 가게\n"
     ]
    },
    {
     "name": "stderr",
     "output_type": "stream",
     "text": [
      "The chromedriver version (128.0.6613.137) detected in PATH at c:\\Users\\kk21\\Desktop\\TRIPER\\chromedriver.exe might not be compatible with the detected chrome version (129.0.6668.101); currently, chromedriver 129.0.6668.100 is recommended for chrome 129.*, so it is advised to delete the driver in PATH and retry\n"
     ]
    },
    {
     "name": "stdout",
     "output_type": "stream",
     "text": [
      "https://map.naver.com/p/search/%EA%B8%88%EC%B2%9C%EA%B5%AC%20%ED%85%90%EB%A7%88%EB%A3%A8/place/36174409?c=15.00,0,0,0,dh&isCorrectAnswer=true\n",
      "결과 한 개\n",
      "\n",
      "[크롤링 시작...]\n",
      "텐마루\n",
      "요리주점\n",
      "서울 금천구 디지털로12길 21 2층\n",
      "주문 유형 3\n",
      "1 set 창코나베 + 사시미\n",
      "맛있는 녀석들 외 공중파 3사 출연!! 창코나베 大 38,000 창코나베 小 28000\n",
      "리뷰 존재\n",
      "음식이 맛있어요\n",
      "친절해요\n",
      "특별한 메뉴가 있어요\n",
      "가성비가 좋아요\n",
      "대화하기 좋아요\n",
      "['텐마루'] ...완료\n",
      "[데이터 수집 완료]\n",
      "소요 시간 : 13.429383039474487 \n",
      "\n",
      "26번째 가게\n"
     ]
    },
    {
     "name": "stderr",
     "output_type": "stream",
     "text": [
      "The chromedriver version (128.0.6613.137) detected in PATH at c:\\Users\\kk21\\Desktop\\TRIPER\\chromedriver.exe might not be compatible with the detected chrome version (129.0.6668.101); currently, chromedriver 129.0.6668.100 is recommended for chrome 129.*, so it is advised to delete the driver in PATH and retry\n"
     ]
    },
    {
     "name": "stdout",
     "output_type": "stream",
     "text": [
      "https://map.naver.com/p/search/%EA%B8%88%EC%B2%9C%EA%B5%AC%20%EA%B0%9C%EC%84%B1%EC%86%90%EB%A7%8C%EB%91%90%EC%9A%94%EB%A6%AC%EC%A0%84%EB%AC%B8%EC%A0%90?c=13.00,0,0,0,dh\n",
      "결과 여러 개 존재(지점 또는 근접 지역)\n",
      "\n",
      "[크롤링 시작...]\n",
      "개성손만두요리전문점\n",
      "칼국수,만두\n",
      "서울 금천구 가산로9길 22 개성손만두\n",
      "주문 유형 3\n",
      "만두전골\n",
      "메뉴 설명 없음\n",
      "리뷰 존재\n",
      "음식이 맛있어요\n",
      "양이 많아요\n",
      "재료가 신선해요\n",
      "가성비가 좋아요\n",
      "친절해요\n",
      "['개성손만두요리전문점'] ...완료\n",
      "[데이터 수집 완료]\n",
      "소요 시간 : 13.418349027633667 \n",
      "\n",
      "27번째 가게\n"
     ]
    },
    {
     "name": "stderr",
     "output_type": "stream",
     "text": [
      "The chromedriver version (128.0.6613.137) detected in PATH at c:\\Users\\kk21\\Desktop\\TRIPER\\chromedriver.exe might not be compatible with the detected chrome version (129.0.6668.101); currently, chromedriver 129.0.6668.100 is recommended for chrome 129.*, so it is advised to delete the driver in PATH and retry\n"
     ]
    },
    {
     "name": "stdout",
     "output_type": "stream",
     "text": [
      "https://map.naver.com/p/search/%EA%B8%88%EC%B2%9C%EA%B5%AC%20%ED%91%B8%EB%A6%84%EC%83%81%ED%9A%8C/place/1086440697?c=15.00,0,0,0,dh&isCorrectAnswer=true\n",
      "결과 한 개\n",
      "\n",
      "[크롤링 시작...]\n",
      "푸름상회\n",
      "육류,고기요리\n",
      "서울 금천구 시흥대로52길 18 1층 푸름상회\n",
      "주문 유형 3\n",
      "336시간 숙성 제주모듬근고기\n",
      "사장님이 엄선한 고기를 336시간 이상 숙성한 꽃목살과 특삼겹살이 제공됩니다.\n",
      "리뷰 존재\n",
      "음식이 맛있어요\n",
      "고기 질이 좋아요\n",
      "친절해요\n",
      "직접 잘 구워줘요\n",
      "재료가 신선해요\n",
      "['푸름상회'] ...완료\n",
      "[데이터 수집 완료]\n",
      "소요 시간 : 13.413320779800415 \n",
      "\n",
      "28번째 가게\n"
     ]
    },
    {
     "name": "stderr",
     "output_type": "stream",
     "text": [
      "The chromedriver version (128.0.6613.137) detected in PATH at c:\\Users\\kk21\\Desktop\\TRIPER\\chromedriver.exe might not be compatible with the detected chrome version (129.0.6668.101); currently, chromedriver 129.0.6668.100 is recommended for chrome 129.*, so it is advised to delete the driver in PATH and retry\n"
     ]
    },
    {
     "name": "stdout",
     "output_type": "stream",
     "text": [
      "https://map.naver.com/p/search/%EA%B8%88%EC%B2%9C%EA%B5%AC%20%EC%98%A4%EB%8A%98%EB%8F%88%EC%B9%B4%EC%B8%A0/place/1278890046?c=15.00,0,0,0,dh&isCorrectAnswer=true\n",
      "결과 한 개\n",
      "\n",
      "[크롤링 시작...]\n",
      "오늘돈카츠\n",
      "돈가스\n",
      "서울 금천구 가산디지털1로 171 가산SKV1센터 1층 103호\n",
      "주문 유형 3\n",
      "등심돈카츠\n",
      "메뉴 설명 없음\n",
      "리뷰 존재\n",
      "음식이 맛있어요\n",
      "재료가 신선해요\n",
      "친절해요\n",
      "매장이 청결해요\n",
      "혼밥하기 좋아요\n",
      "['오늘돈카츠'] ...완료\n",
      "[데이터 수집 완료]\n",
      "소요 시간 : 13.387137174606323 \n",
      "\n",
      "29번째 가게\n"
     ]
    },
    {
     "name": "stderr",
     "output_type": "stream",
     "text": [
      "The chromedriver version (128.0.6613.137) detected in PATH at c:\\Users\\kk21\\Desktop\\TRIPER\\chromedriver.exe might not be compatible with the detected chrome version (129.0.6668.101); currently, chromedriver 129.0.6668.100 is recommended for chrome 129.*, so it is advised to delete the driver in PATH and retry\n"
     ]
    },
    {
     "name": "stdout",
     "output_type": "stream",
     "text": [
      "https://map.naver.com/p/search/%EA%B8%88%EC%B2%9C%EA%B5%AC%20%EB%8F%84%EC%9B%90%20%EC%A4%91%EC%8B%9D%EB%B7%94%ED%8E%98%20%EA%B0%80%EC%82%B0%EC%A7%81%EC%98%81%EC%A0%90/place/1631386460?c=15.00,0,0,0,dh&isCorrectAnswer=true\n",
      "결과 한 개\n",
      "\n",
      "[크롤링 시작...]\n",
      "도원중식뷔페 가산직영점\n",
      "중식당\n",
      "서울 금천구 범안로 1130 1층\n",
      "주문 유형 3\n",
      "중식뷔페\n",
      "짬뽕 한그릇 가격으로 매일 색다른 중국요리 10가지를 마음껏 즐기세요!\n",
      "리뷰 존재\n",
      "음식이 맛있어요\n",
      "가성비가 좋아요\n",
      "양이 많아요\n",
      "친절해요\n",
      "혼밥하기 좋아요\n",
      "['도원중식뷔페 가산직영점'] ...완료\n",
      "[데이터 수집 완료]\n",
      "소요 시간 : 13.389091968536377 \n",
      "\n",
      "30번째 가게\n"
     ]
    },
    {
     "name": "stderr",
     "output_type": "stream",
     "text": [
      "The chromedriver version (128.0.6613.137) detected in PATH at c:\\Users\\kk21\\Desktop\\TRIPER\\chromedriver.exe might not be compatible with the detected chrome version (129.0.6668.101); currently, chromedriver 129.0.6668.100 is recommended for chrome 129.*, so it is advised to delete the driver in PATH and retry\n"
     ]
    },
    {
     "name": "stdout",
     "output_type": "stream",
     "text": [
      "https://map.naver.com/p/search/%EA%B8%88%EC%B2%9C%EA%B5%AC%20%EA%B0%80%EC%82%B0%EB%8F%99%EB%8B%AD%ED%95%9C%EB%A7%88%EB%A6%AC?c=15.00,0,0,0,dh\n",
      "결과 여러 개 존재(지점 또는 근접 지역)\n",
      "\n",
      "[크롤링 시작...]\n",
      "가산동닭한마리\n",
      "닭요리\n",
      "서울 금천구 가산로 142\n",
      "주문 유형 3\n",
      "닭한마리\n",
      "칼국수사리 / 만두사리 / 배추사리 /떡사리 / 감자사리\n",
      "리뷰 존재\n",
      "음식이 맛있어요\n",
      "양이 많아요\n",
      "가성비가 좋아요\n",
      "친절해요\n",
      "고기 질이 좋아요\n",
      "['가산동닭한마리'] ...완료\n",
      "[데이터 수집 완료]\n",
      "소요 시간 : 13.44179391860962 \n",
      "\n",
      "31번째 가게\n"
     ]
    },
    {
     "name": "stderr",
     "output_type": "stream",
     "text": [
      "The chromedriver version (128.0.6613.137) detected in PATH at c:\\Users\\kk21\\Desktop\\TRIPER\\chromedriver.exe might not be compatible with the detected chrome version (129.0.6668.101); currently, chromedriver 129.0.6668.100 is recommended for chrome 129.*, so it is advised to delete the driver in PATH and retry\n"
     ]
    },
    {
     "name": "stdout",
     "output_type": "stream",
     "text": [
      "https://map.naver.com/p/search/%EA%B8%88%EC%B2%9C%EA%B5%AC%20%EC%98%A4%ED%86%A0%EA%B9%80%EB%B0%A5%20%EA%B0%80%EC%82%B0%EB%94%94%EC%A7%80%ED%84%B8%EC%A0%90?c=15.00,0,0,0,dh\n",
      "결과 여러 개 존재(지점 또는 근접 지역)\n",
      "\n",
      "[크롤링 시작...]\n",
      "오토김밥 가산디지털점\n",
      "분식\n",
      "서울 금천구 가산디지털2로 101 1층 102호, 오토김밥 가산디지털점\n",
      "주문 유형 3\n",
      "대표 메뉴 없음\n",
      "메뉴 설명 없음\n",
      "오류 예외 처리\n",
      "32번째 가게\n"
     ]
    },
    {
     "name": "stderr",
     "output_type": "stream",
     "text": [
      "The chromedriver version (128.0.6613.137) detected in PATH at c:\\Users\\kk21\\Desktop\\TRIPER\\chromedriver.exe might not be compatible with the detected chrome version (129.0.6668.101); currently, chromedriver 129.0.6668.100 is recommended for chrome 129.*, so it is advised to delete the driver in PATH and retry\n"
     ]
    },
    {
     "name": "stdout",
     "output_type": "stream",
     "text": [
      "https://map.naver.com/p/search/%EA%B8%88%EC%B2%9C%EA%B5%AC%20%ED%83%9C%EC%9A%B0%EB%A7%88%20%EB%B3%B8%EC%A0%90/place/1029926556?isCorrectAnswer=true&c=15.00,0,0,0,dh\n",
      "결과 한 개\n",
      "\n",
      "[크롤링 시작...]\n",
      "태우마 본점\n",
      "육류,고기요리\n",
      "서울 금천구 범안로17길 9 한아마인드아파트 1층 상가\n",
      "주문 유형 3\n",
      "우마왕 소고기 삼합 1인\n",
      "소고기 특수부위(160g), 키조개 관자, 새송이버섯이 이루는 아름다운 조합\n",
      "리뷰 존재\n",
      "음식이 맛있어요\n",
      "친절해요\n",
      "특별한 메뉴가 있어요\n",
      "재료가 신선해요\n",
      "고기 질이 좋아요\n",
      "['태우마 본점'] ...완료\n",
      "[데이터 수집 완료]\n",
      "소요 시간 : 13.422319889068604 \n",
      "\n",
      "33번째 가게\n"
     ]
    },
    {
     "name": "stderr",
     "output_type": "stream",
     "text": [
      "The chromedriver version (128.0.6613.137) detected in PATH at c:\\Users\\kk21\\Desktop\\TRIPER\\chromedriver.exe might not be compatible with the detected chrome version (129.0.6668.101); currently, chromedriver 129.0.6668.100 is recommended for chrome 129.*, so it is advised to delete the driver in PATH and retry\n"
     ]
    },
    {
     "name": "stdout",
     "output_type": "stream",
     "text": [
      "https://map.naver.com/p/search/%EA%B8%88%EC%B2%9C%EA%B5%AC%20%EC%9A%B0%EC%95%84%ED%95%9C%EC%A1%B0%EA%B0%9C?c=15.00,0,0,0,dh\n",
      "결과 여러 개 존재(지점 또는 근접 지역)\n",
      "가게 없음\n",
      "34번째 가게\n"
     ]
    },
    {
     "name": "stderr",
     "output_type": "stream",
     "text": [
      "The chromedriver version (128.0.6613.137) detected in PATH at c:\\Users\\kk21\\Desktop\\TRIPER\\chromedriver.exe might not be compatible with the detected chrome version (129.0.6668.101); currently, chromedriver 129.0.6668.100 is recommended for chrome 129.*, so it is advised to delete the driver in PATH and retry\n"
     ]
    },
    {
     "name": "stdout",
     "output_type": "stream",
     "text": [
      "https://map.naver.com/p/search/%EA%B8%88%EC%B2%9C%EA%B5%AC%20%EB%B9%A0%EC%98%A4%EC%A6%88%ED%91%B8%20%EA%B0%80%EC%82%B0%EC%A0%90/place/1083865132?c=15.00,0,0,0,dh&isCorrectAnswer=true\n",
      "결과 한 개\n",
      "\n",
      "[크롤링 시작...]\n",
      "빠오즈푸 가산점\n",
      "중식당\n",
      "서울 금천구 벚꽃로 298 대륭포스트타워6차 지하1층 139호\n",
      "주문 유형 3\n",
      "고기빠오즈\n",
      "메뉴 설명 없음\n",
      "리뷰 존재\n",
      "음식이 맛있어요\n",
      "친절해요\n",
      "특별한 메뉴가 있어요\n",
      "매장이 청결해요\n",
      "가성비가 좋아요\n",
      "['빠오즈푸 가산점'] ...완료\n",
      "[데이터 수집 완료]\n",
      "소요 시간 : 13.449768304824829 \n",
      "\n",
      "35번째 가게\n"
     ]
    },
    {
     "name": "stderr",
     "output_type": "stream",
     "text": [
      "The chromedriver version (128.0.6613.137) detected in PATH at c:\\Users\\kk21\\Desktop\\TRIPER\\chromedriver.exe might not be compatible with the detected chrome version (129.0.6668.101); currently, chromedriver 129.0.6668.100 is recommended for chrome 129.*, so it is advised to delete the driver in PATH and retry\n"
     ]
    },
    {
     "name": "stdout",
     "output_type": "stream",
     "text": [
      "https://map.naver.com/p/search/%EA%B8%88%EC%B2%9C%EA%B5%AC%20%EB%91%90%EA%BB%8D%EC%82%BC%20%EA%B0%80%EC%82%B0%EC%A7%81%EC%98%81%EC%A0%90?c=15.00,0,0,0,dh\n",
      "결과 여러 개 존재(지점 또는 근접 지역)\n",
      "\n",
      "[크롤링 시작...]\n",
      "두껍삼 가산직영점\n",
      "돼지고기구이\n",
      "서울 금천구 벚꽃로38길 43\n",
      "주문 유형 3\n",
      "숙성 삼겹살 (150g)\n",
      "메뉴 설명 없음\n",
      "리뷰 존재\n",
      "음식이 맛있어요\n",
      "고기 질이 좋아요\n",
      "직접 잘 구워줘요\n",
      "친절해요\n",
      "단체모임 하기 좋아요\n",
      "['두껍삼 가산직영점'] ...완료\n",
      "[데이터 수집 완료]\n",
      "소요 시간 : 13.414477586746216 \n",
      "\n",
      "36번째 가게\n"
     ]
    },
    {
     "name": "stderr",
     "output_type": "stream",
     "text": [
      "The chromedriver version (128.0.6613.137) detected in PATH at c:\\Users\\kk21\\Desktop\\TRIPER\\chromedriver.exe might not be compatible with the detected chrome version (129.0.6668.101); currently, chromedriver 129.0.6668.100 is recommended for chrome 129.*, so it is advised to delete the driver in PATH and retry\n"
     ]
    },
    {
     "name": "stdout",
     "output_type": "stream",
     "text": [
      "https://map.naver.com/p/search/%EA%B8%88%EC%B2%9C%EA%B5%AC%20BFF%20COFFEE/place/1374996020?c=15.00,0,0,0,dh&isCorrectAnswer=true\n",
      "결과 한 개\n",
      "\n",
      "[크롤링 시작...]\n",
      "BFF COFFEE\n",
      "카페,디저트\n",
      "서울 금천구 독산로106길 8 지상1층\n",
      "주문 유형 3\n",
      "'밀크티는 Best Friend'\n",
      "사진으로는 표현이 안되는 이 맛\n",
      "리뷰 존재\n",
      "디저트가 맛있어요\n",
      "커피가 맛있어요\n",
      "음료가 맛있어요\n",
      "특별한 메뉴가 있어요\n",
      "친절해요\n",
      "['BFF COFFEE'] ...완료\n",
      "[데이터 수집 완료]\n",
      "소요 시간 : 13.420800685882568 \n",
      "\n",
      "37번째 가게\n"
     ]
    },
    {
     "name": "stderr",
     "output_type": "stream",
     "text": [
      "The chromedriver version (128.0.6613.137) detected in PATH at c:\\Users\\kk21\\Desktop\\TRIPER\\chromedriver.exe might not be compatible with the detected chrome version (129.0.6668.101); currently, chromedriver 129.0.6668.100 is recommended for chrome 129.*, so it is advised to delete the driver in PATH and retry\n"
     ]
    },
    {
     "name": "stdout",
     "output_type": "stream",
     "text": [
      "https://map.naver.com/p/search/%EA%B8%88%EC%B2%9C%EA%B5%AC%20%EB%A7%9D%ED%96%A5%EB%B9%84%EB%B9%94%EA%B5%AD%EC%88%98%20%EA%B0%80%EC%82%B0%EB%94%94%EC%A7%80%ED%84%B8%EB%8B%A8%EC%A7%80%EC%A0%90?c=15.00,0,0,0,dh\n",
      "결과 여러 개 존재(지점 또는 근접 지역)\n",
      "\n",
      "[크롤링 시작...]\n",
      "망향비빔국수 가산디지털단지점\n",
      "국수\n",
      "서울 금천구 가산디지털1로 186 제이플라츠\n",
      "주문 유형 3\n",
      "비빔국수\n",
      "메뉴 설명 없음\n",
      "리뷰 존재\n",
      "음식이 맛있어요\n",
      "가성비가 좋아요\n",
      "혼밥하기 좋아요\n",
      "친절해요\n",
      "매장이 넓어요\n",
      "['망향비빔국수 가산디지털단지점'] ...완료\n",
      "[데이터 수집 완료]\n",
      "소요 시간 : 13.410131454467773 \n",
      "\n",
      "38번째 가게\n"
     ]
    },
    {
     "name": "stderr",
     "output_type": "stream",
     "text": [
      "The chromedriver version (128.0.6613.137) detected in PATH at c:\\Users\\kk21\\Desktop\\TRIPER\\chromedriver.exe might not be compatible with the detected chrome version (129.0.6668.101); currently, chromedriver 129.0.6668.100 is recommended for chrome 129.*, so it is advised to delete the driver in PATH and retry\n"
     ]
    },
    {
     "name": "stdout",
     "output_type": "stream",
     "text": [
      "https://map.naver.com/p/search/%EA%B8%88%EC%B2%9C%EA%B5%AC%20%EC%B0%90%ED%8D%BC/place/1028714840?c=15.00,0,0,0,dh&isCorrectAnswer=true\n",
      "결과 한 개\n",
      "\n",
      "[크롤링 시작...]\n",
      "찐퍼\n",
      "베트남음식\n",
      "서울 금천구 가산디지털1로 181 103호\n",
      "주문 유형 3\n",
      "Phở chín (양지 생면 쌀국수)\n",
      "신선한 야채 와 생면, 특제 소스로 볶아낸 소고기, 수제소스의 완벽한 결합\n",
      "리뷰 존재\n",
      "음식이 맛있어요\n",
      "재료가 신선해요\n",
      "양이 많아요\n",
      "친절해요\n",
      "현지 맛에 가까워요\n",
      "['찐퍼'] ...완료\n",
      "[데이터 수집 완료]\n",
      "소요 시간 : 13.402712345123291 \n",
      "\n",
      "39번째 가게\n"
     ]
    },
    {
     "name": "stderr",
     "output_type": "stream",
     "text": [
      "The chromedriver version (128.0.6613.137) detected in PATH at c:\\Users\\kk21\\Desktop\\TRIPER\\chromedriver.exe might not be compatible with the detected chrome version (129.0.6668.101); currently, chromedriver 129.0.6668.100 is recommended for chrome 129.*, so it is advised to delete the driver in PATH and retry\n"
     ]
    },
    {
     "name": "stdout",
     "output_type": "stream",
     "text": [
      "https://map.naver.com/p/search/%EA%B8%88%EC%B2%9C%EA%B5%AC%20%EC%B6%98%EC%B2%9C%EC%98%A5/place/187013117?c=15.00,0,0,0,dh&isCorrectAnswer=true\n",
      "결과 한 개\n",
      "\n",
      "[크롤링 시작...]\n",
      "춘천옥\n",
      "한식\n",
      "서울 금천구 디지털로12길 19 춘천옥빌딩 1, 2층\n",
      "주문 유형 3\n",
      "점심특선\n",
      "정성가득 담아낸 직장인들 위해 1인 보쌈입니다.\n",
      "리뷰 존재\n",
      "음식이 맛있어요\n",
      "재료가 신선해요\n",
      "친절해요\n",
      "매장이 넓어요\n",
      "특별한 메뉴가 있어요\n",
      "['춘천옥'] ...완료\n",
      "[데이터 수집 완료]\n",
      "소요 시간 : 13.40906548500061 \n",
      "\n",
      "40번째 가게\n"
     ]
    },
    {
     "name": "stderr",
     "output_type": "stream",
     "text": [
      "The chromedriver version (128.0.6613.137) detected in PATH at c:\\Users\\kk21\\Desktop\\TRIPER\\chromedriver.exe might not be compatible with the detected chrome version (129.0.6668.101); currently, chromedriver 129.0.6668.100 is recommended for chrome 129.*, so it is advised to delete the driver in PATH and retry\n"
     ]
    },
    {
     "name": "stdout",
     "output_type": "stream",
     "text": [
      "https://map.naver.com/p/search/%EA%B8%88%EC%B2%9C%EA%B5%AC%20%EC%88%9C%EB%82%A8%EC%8B%9C%EB%9E%98%EA%B8%B0%20%EA%B0%80%EC%82%B0%EC%97%AD%EC%A0%90?c=15.00,0,0,0,dh\n",
      "결과 여러 개 존재(지점 또는 근접 지역)\n",
      "\n",
      "[크롤링 시작...]\n",
      "순남시래기 가산역점\n",
      "백반,가정식\n",
      "서울 금천구 가산디지털1로 186 제이플라츠 A동 지하1층\n",
      "주문 유형 3\n",
      "3대 시래기국\n",
      "메뉴 설명 없음\n",
      "리뷰 존재\n",
      "음식이 맛있어요\n",
      "반찬이 잘 나와요\n",
      "가성비가 좋아요\n",
      "매장이 넓어요\n",
      "양이 많아요\n",
      "['순남시래기 가산역점'] ...완료\n",
      "[데이터 수집 완료]\n",
      "소요 시간 : 13.416254043579102 \n",
      "\n",
      "41번째 가게\n"
     ]
    },
    {
     "name": "stderr",
     "output_type": "stream",
     "text": [
      "The chromedriver version (128.0.6613.137) detected in PATH at c:\\Users\\kk21\\Desktop\\TRIPER\\chromedriver.exe might not be compatible with the detected chrome version (129.0.6668.101); currently, chromedriver 129.0.6668.100 is recommended for chrome 129.*, so it is advised to delete the driver in PATH and retry\n"
     ]
    },
    {
     "name": "stdout",
     "output_type": "stream",
     "text": [
      "https://map.naver.com/p/search/%EA%B8%88%EC%B2%9C%EA%B5%AC%20%EC%A0%95%EB%8F%88%20%EC%84%9C%EC%9A%B8%EB%B3%B8%EC%A0%90/place/1523659471?c=15.00,0,0,0,dh&isCorrectAnswer=true\n",
      "결과 한 개\n",
      "\n",
      "[크롤링 시작...]\n",
      "돼지짚단삼겹살 금천구본점\n",
      "육류,고기요리\n",
      "서울 금천구 시흥대로52길 52 102호\n",
      "주문 유형 3\n",
      "짚단생구이한판 (500g)\n",
      "제주삼겹살 제주 항정살 제주 가브리살 꼬들살 (500g)\n",
      "리뷰 존재\n",
      "음식이 맛있어요\n",
      "친절해요\n",
      "재료가 신선해요\n",
      "고기 질이 좋아요\n",
      "매장이 청결해요\n",
      "['돼지짚단삼겹살 금천구본점'] ...완료\n",
      "[데이터 수집 완료]\n",
      "소요 시간 : 13.390405178070068 \n",
      "\n",
      "42번째 가게\n"
     ]
    },
    {
     "name": "stderr",
     "output_type": "stream",
     "text": [
      "The chromedriver version (128.0.6613.137) detected in PATH at c:\\Users\\kk21\\Desktop\\TRIPER\\chromedriver.exe might not be compatible with the detected chrome version (129.0.6668.101); currently, chromedriver 129.0.6668.100 is recommended for chrome 129.*, so it is advised to delete the driver in PATH and retry\n"
     ]
    },
    {
     "name": "stdout",
     "output_type": "stream",
     "text": [
      "https://map.naver.com/p/search/%EA%B8%88%EC%B2%9C%EA%B5%AC%20%EC%9D%B4%ED%99%94%EB%A3%A1%20%EB%B6%88%EC%A7%AC%EB%BD%95/place/696622814?c=15.00,0,0,0,dh&isCorrectAnswer=true\n",
      "결과 한 개\n",
      "\n",
      "[크롤링 시작...]\n",
      "이화룡 불짬뽕\n",
      "중식당\n",
      "서울 금천구 시흥대로122길 15\n",
      "주문 유형 3\n",
      "돼지짬뽕\n",
      "메뉴 설명 없음\n",
      "리뷰 존재\n",
      "음식이 맛있어요\n",
      "재료가 신선해요\n",
      "양이 많아요\n",
      "혼밥하기 좋아요\n",
      "친절해요\n",
      "['이화룡 불짬뽕'] ...완료\n",
      "[데이터 수집 완료]\n",
      "소요 시간 : 13.436205387115479 \n",
      "\n",
      "43번째 가게\n"
     ]
    },
    {
     "name": "stderr",
     "output_type": "stream",
     "text": [
      "The chromedriver version (128.0.6613.137) detected in PATH at c:\\Users\\kk21\\Desktop\\TRIPER\\chromedriver.exe might not be compatible with the detected chrome version (129.0.6668.101); currently, chromedriver 129.0.6668.100 is recommended for chrome 129.*, so it is advised to delete the driver in PATH and retry\n"
     ]
    },
    {
     "name": "stdout",
     "output_type": "stream",
     "text": [
      "https://map.naver.com/p/search/%EA%B8%88%EC%B2%9C%EA%B5%AC%20%EC%95%BC%ED%82%A4%ED%86%A0%EB%A6%AC%EC%BF%A0%EB%AA%A8/place/1739078365?c=15.00,0,0,0,dh&isCorrectAnswer=true\n",
      "결과 한 개\n",
      "\n",
      "[크롤링 시작...]\n",
      "야키토리쿠모\n",
      "이자카야\n",
      "서울 금천구 벚꽃로38길 32-63 1층\n",
      "주문 유형 3\n",
      "추천꼬치 8개\n",
      "메뉴 설명 없음\n",
      "리뷰 존재\n",
      "음식이 맛있어요\n",
      "친절해요\n",
      "가성비가 좋아요\n",
      "기본 안주가 좋아요\n",
      "대화하기 좋아요\n",
      "['야키토리쿠모'] ...완료\n",
      "[데이터 수집 완료]\n",
      "소요 시간 : 13.412310123443604 \n",
      "\n",
      "44번째 가게\n"
     ]
    },
    {
     "name": "stderr",
     "output_type": "stream",
     "text": [
      "The chromedriver version (128.0.6613.137) detected in PATH at c:\\Users\\kk21\\Desktop\\TRIPER\\chromedriver.exe might not be compatible with the detected chrome version (129.0.6668.101); currently, chromedriver 129.0.6668.100 is recommended for chrome 129.*, so it is advised to delete the driver in PATH and retry\n"
     ]
    },
    {
     "name": "stdout",
     "output_type": "stream",
     "text": [
      "https://map.naver.com/p/search/%EA%B8%88%EC%B2%9C%EA%B5%AC%20%EC%98%A4%EB%B4%89%EC%A7%91%20%EB%8F%85%EC%82%B0%EC%A0%90?c=15.00,0,0,0,dh\n",
      "결과 여러 개 존재(지점 또는 근접 지역)\n",
      "\n",
      "[크롤링 시작...]\n",
      "오봉집 독산점\n",
      "한식\n",
      "서울 금천구 가산디지털1로 1 103-1호\n",
      "주문 유형 3\n",
      "대표 메뉴 없음\n",
      "메뉴 설명 없음\n",
      "오류 예외 처리\n",
      "45번째 가게\n"
     ]
    },
    {
     "name": "stderr",
     "output_type": "stream",
     "text": [
      "The chromedriver version (128.0.6613.137) detected in PATH at c:\\Users\\kk21\\Desktop\\TRIPER\\chromedriver.exe might not be compatible with the detected chrome version (129.0.6668.101); currently, chromedriver 129.0.6668.100 is recommended for chrome 129.*, so it is advised to delete the driver in PATH and retry\n"
     ]
    },
    {
     "name": "stdout",
     "output_type": "stream",
     "text": [
      "https://map.naver.com/p/search/%EA%B8%88%EC%B2%9C%EA%B5%AC%20%ED%8F%AC%EB%AF%B8%EA%B0%80/place/1879815027?c=15.00,0,0,0,dh&isCorrectAnswer=true\n",
      "결과 한 개\n",
      "\n",
      "[크롤링 시작...]\n",
      "포미가\n",
      "육류,고기요리\n",
      "서울 금천구 가산디지털1로 212 코오롱 애스턴 타워 110호\n",
      "주문 유형 3\n",
      "대표 메뉴 없음\n",
      "메뉴 설명 없음\n",
      "오류 예외 처리\n",
      "46번째 가게\n"
     ]
    },
    {
     "name": "stderr",
     "output_type": "stream",
     "text": [
      "The chromedriver version (128.0.6613.137) detected in PATH at c:\\Users\\kk21\\Desktop\\TRIPER\\chromedriver.exe might not be compatible with the detected chrome version (129.0.6668.101); currently, chromedriver 129.0.6668.100 is recommended for chrome 129.*, so it is advised to delete the driver in PATH and retry\n"
     ]
    },
    {
     "name": "stdout",
     "output_type": "stream",
     "text": [
      "https://map.naver.com/p/search/%EA%B8%88%EC%B2%9C%EA%B5%AC%20%EC%84%B8%EB%B8%90%ED%8C%A8%ED%8B%B0%EB%B2%84%EA%B1%B0%20%EA%B0%80%EC%82%B0%EC%A0%90/place/1694787997?c=15.00,0,0,0,dh&isCorrectAnswer=true\n",
      "결과 한 개\n",
      "\n",
      "[크롤링 시작...]\n",
      "세븐패티버거 가산점\n",
      "햄버거\n",
      "서울 금천구 가산디지털1로 142 더스카이밸리1차 201호\n",
      "주문 유형 3\n",
      "세븐 패티 버거 (패티 7장)\n",
      "참, 극악무도한 최상급 버거는 패티는 7배, 하지만 가격은 단돈 3.3배입니다.\n",
      "리뷰 존재\n",
      "음식이 맛있어요\n",
      "재료가 신선해요\n",
      "친절해요\n",
      "양이 많아요\n",
      "특별한 메뉴가 있어요\n",
      "['세븐패티버거 가산점'] ...완료\n",
      "[데이터 수집 완료]\n",
      "소요 시간 : 13.444340944290161 \n",
      "\n",
      "47번째 가게\n"
     ]
    },
    {
     "name": "stderr",
     "output_type": "stream",
     "text": [
      "The chromedriver version (128.0.6613.137) detected in PATH at c:\\Users\\kk21\\Desktop\\TRIPER\\chromedriver.exe might not be compatible with the detected chrome version (129.0.6668.101); currently, chromedriver 129.0.6668.100 is recommended for chrome 129.*, so it is advised to delete the driver in PATH and retry\n"
     ]
    },
    {
     "name": "stdout",
     "output_type": "stream",
     "text": [
      "https://map.naver.com/p/search/%EA%B8%88%EC%B2%9C%EA%B5%AC%20%EA%B6%81%EC%A0%84%EC%82%B0%EB%93%A4%EC%95%A0/place/18516128?c=15.00,0,0,0,dh&isCorrectAnswer=true\n",
      "결과 한 개\n",
      "\n",
      "[크롤링 시작...]\n",
      "궁전산들애\n",
      "한식\n",
      "서울 금천구 독산로 178-1\n",
      "주문 유형 3\n",
      "명인 간장게장 정식(2인이상주문가능)\n",
      "간장게장, 소불고기, 표고버섯탕수육, 궁중잡채, 그린샐러드, 삼색나물 포함 5찬, 가마솥밥\n",
      "리뷰 존재\n",
      "음식이 맛있어요\n",
      "재료가 신선해요\n",
      "친절해요\n",
      "특별한 메뉴가 있어요\n",
      "가성비가 좋아요\n",
      "['궁전산들애'] ...완료\n",
      "[데이터 수집 완료]\n",
      "소요 시간 : 13.434831380844116 \n",
      "\n",
      "48번째 가게\n"
     ]
    },
    {
     "name": "stderr",
     "output_type": "stream",
     "text": [
      "The chromedriver version (128.0.6613.137) detected in PATH at c:\\Users\\kk21\\Desktop\\TRIPER\\chromedriver.exe might not be compatible with the detected chrome version (129.0.6668.101); currently, chromedriver 129.0.6668.100 is recommended for chrome 129.*, so it is advised to delete the driver in PATH and retry\n"
     ]
    },
    {
     "name": "stdout",
     "output_type": "stream",
     "text": [
      "https://map.naver.com/p/search/%EA%B8%88%EC%B2%9C%EA%B5%AC%20%EC%A2%85%EB%A1%9C%EA%B3%84%EB%A6%BC%EB%8B%AD%EB%8F%84%EB%A6%AC%ED%83%95%EC%9B%90%EC%A1%B0%20%EA%B0%80%EC%82%B0%EB%94%94%EC%A7%80%ED%84%B8%EB%8B%A8%EC%A7%80%EC%A0%90/place/1812172977?isCorrectAnswer=true&c=15.00,0,0,0,dh\n",
      "결과 한 개\n",
      "\n",
      "[크롤링 시작...]\n",
      "종로계림닭도리탕원조 가산디지털단지점\n",
      "닭볶음탕\n",
      "서울 금천구 가산디지털1로 142 가산더스카이밸리1차 2층 228,229호\n",
      "주문 유형 3\n",
      "계림닭도리탕 (소) 한마리\n",
      "마늘이 듬뿍 들어간 얼큰한 국물 닭도리탕~^^ 기본사리로 떡,감자가 들어있습니다.\n",
      "리뷰 존재\n",
      "음식이 맛있어요\n",
      "친절해요\n",
      "양이 많아요\n",
      "재료가 신선해요\n",
      "가성비가 좋아요\n",
      "['종로계림닭도리탕원조 가산디지털단지점'] ...완료\n",
      "[데이터 수집 완료]\n",
      "소요 시간 : 13.449232816696167 \n",
      "\n",
      "49번째 가게\n"
     ]
    },
    {
     "name": "stderr",
     "output_type": "stream",
     "text": [
      "The chromedriver version (128.0.6613.137) detected in PATH at c:\\Users\\kk21\\Desktop\\TRIPER\\chromedriver.exe might not be compatible with the detected chrome version (129.0.6668.101); currently, chromedriver 129.0.6668.100 is recommended for chrome 129.*, so it is advised to delete the driver in PATH and retry\n"
     ]
    },
    {
     "name": "stdout",
     "output_type": "stream",
     "text": [
      "https://map.naver.com/p/search/%EA%B8%88%EC%B2%9C%EA%B5%AC%20%EC%9D%80%ED%96%89%EA%B3%A8%20%EA%B0%80%EC%82%B0%EC%A0%90?c=15.00,0,0,0,dh\n",
      "결과 여러 개 존재(지점 또는 근접 지역)\n",
      "\n",
      "[크롤링 시작...]\n",
      "은행골 가산점\n",
      "초밥,롤\n",
      "서울 금천구 가산디지털1로 171 201호\n",
      "주문 유형 3\n",
      "특진초밥\n",
      "오도로3/연어3/엔가와2/장새우2/장어2\n",
      "리뷰 존재\n",
      "음식이 맛있어요\n",
      "매장이 넓어요\n",
      "재료가 신선해요\n",
      "친절해요\n",
      "혼밥하기 좋아요\n",
      "['은행골 가산점'] ...완료\n",
      "[데이터 수집 완료]\n",
      "소요 시간 : 13.41738224029541 \n",
      "\n",
      "50번째 가게\n"
     ]
    },
    {
     "name": "stderr",
     "output_type": "stream",
     "text": [
      "The chromedriver version (128.0.6613.137) detected in PATH at c:\\Users\\kk21\\Desktop\\TRIPER\\chromedriver.exe might not be compatible with the detected chrome version (129.0.6668.101); currently, chromedriver 129.0.6668.100 is recommended for chrome 129.*, so it is advised to delete the driver in PATH and retry\n"
     ]
    },
    {
     "name": "stdout",
     "output_type": "stream",
     "text": [
      "https://map.naver.com/p/search/%EA%B8%88%EC%B2%9C%EA%B5%AC%20%EB%8F%84%EC%9D%84%20%EC%83%9D%EA%B3%A0%EA%B8%B0%EC%A7%91/place/19717575?c=15.00,0,0,0,dh&isCorrectAnswer=true\n",
      "결과 한 개\n",
      "\n",
      "[크롤링 시작...]\n",
      "도을 생고기집\n",
      "돼지고기구이\n",
      "서울 금천구 가산로9길 12-8 1층 114호 도을생고기집\n",
      "주문 유형 3\n",
      "생삼겹살(200g)\n",
      "생고기는 국내산을 사용하며 위생관리를 철저히 하고있습니다\n",
      "리뷰 존재\n",
      "음식이 맛있어요\n",
      "고기 질이 좋아요\n",
      "친절해요\n",
      "매장이 넓어요\n",
      "가성비가 좋아요\n",
      "['도을 생고기집'] ...완료\n",
      "[데이터 수집 완료]\n",
      "소요 시간 : 13.372674226760864 \n",
      "\n",
      "51번째 가게\n"
     ]
    },
    {
     "name": "stderr",
     "output_type": "stream",
     "text": [
      "The chromedriver version (128.0.6613.137) detected in PATH at c:\\Users\\kk21\\Desktop\\TRIPER\\chromedriver.exe might not be compatible with the detected chrome version (129.0.6668.101); currently, chromedriver 129.0.6668.100 is recommended for chrome 129.*, so it is advised to delete the driver in PATH and retry\n"
     ]
    },
    {
     "name": "stdout",
     "output_type": "stream",
     "text": [
      "https://map.naver.com/p/search/%EA%B8%88%EC%B2%9C%EA%B5%AC%20%EB%8D%B0%EB%AF%B8%EC%95%88?c=15.00,0,0,0,dh\n",
      "결과 여러 개 존재(지점 또는 근접 지역)\n",
      "\n",
      "[크롤링 시작...]\n",
      "데미안\n",
      "베이커리\n",
      "서울 금천구 시흥대로 291 310동 142호\n",
      "주문 유형 3\n",
      "아메리카노\n",
      "아메리카노 (전국에서 가장 맛있는 원두만 찾아서 여러분들께 추천해드립니다.)\n",
      "리뷰 존재\n",
      "빵이 맛있어요\n",
      "커피가 맛있어요\n",
      "음료가 맛있어요\n",
      "대화하기 좋아요\n",
      "친절해요\n",
      "['데미안'] ...완료\n",
      "[데이터 수집 완료]\n",
      "소요 시간 : 13.402907133102417 \n",
      "\n",
      "52번째 가게\n"
     ]
    },
    {
     "name": "stderr",
     "output_type": "stream",
     "text": [
      "The chromedriver version (128.0.6613.137) detected in PATH at c:\\Users\\kk21\\Desktop\\TRIPER\\chromedriver.exe might not be compatible with the detected chrome version (129.0.6668.101); currently, chromedriver 129.0.6668.100 is recommended for chrome 129.*, so it is advised to delete the driver in PATH and retry\n"
     ]
    },
    {
     "name": "stdout",
     "output_type": "stream",
     "text": [
      "https://map.naver.com/p/search/%EA%B8%88%EC%B2%9C%EA%B5%AC%20%EC%86%8C%EA%B3%B0%EC%A7%91%20%EA%B0%80%EC%82%B0%EB%94%94%EC%A7%80%ED%84%B8%EB%8B%A8%EC%A7%80%EC%97%AD%EC%A0%90?c=15.00,0,0,0,dh\n",
      "결과 여러 개 존재(지점 또는 근접 지역)\n",
      "\n",
      "[크롤링 시작...]\n",
      "소곰집 가산디지털단지역점\n",
      "돼지고기구이\n",
      "서울 금천구 벚꽃로36길 30 KS타워 114호, 115호 소곰집\n",
      "주문 유형 3\n",
      "한우모듬 500g\n",
      "안심/업진살/앞치마살/부챗살/제비추리\n",
      "리뷰 존재\n",
      "음식이 맛있어요\n",
      "고기 질이 좋아요\n",
      "양이 많아요\n",
      "매장이 넓어요\n",
      "특별한 메뉴가 있어요\n",
      "['소곰집 가산디지털단지역점'] ...완료\n",
      "[데이터 수집 완료]\n",
      "소요 시간 : 13.410229206085205 \n",
      "\n",
      "53번째 가게\n"
     ]
    },
    {
     "name": "stderr",
     "output_type": "stream",
     "text": [
      "The chromedriver version (128.0.6613.137) detected in PATH at c:\\Users\\kk21\\Desktop\\TRIPER\\chromedriver.exe might not be compatible with the detected chrome version (129.0.6668.101); currently, chromedriver 129.0.6668.100 is recommended for chrome 129.*, so it is advised to delete the driver in PATH and retry\n"
     ]
    },
    {
     "name": "stdout",
     "output_type": "stream",
     "text": [
      "https://map.naver.com/p/search/%EA%B8%88%EC%B2%9C%EA%B5%AC%20%EC%83%81%EC%8B%A0%EC%83%81%ED%9A%8C/place/1343310085?c=15.00,0,0,0,dh&isCorrectAnswer=true\n",
      "결과 한 개\n",
      "\n",
      "[크롤링 시작...]\n",
      "상신상회\n",
      "이자카야\n",
      "서울 금천구 시흥대로56길 22 102호\n",
      "주문 유형 3\n",
      "숙성간장 삼겹보쌈 (부타노 가쿠니)\n",
      "숙성시킨 간장과 여러 채소를 함께 오랜시간 삶아낸 부드럽고 감칠맛나는 삼겹보쌈(with무)\n",
      "리뷰 존재\n",
      "음식이 맛있어요\n",
      "인테리어가 멋져요\n",
      "친절해요\n",
      "술이 다양해요\n",
      "기본 안주가 좋아요\n",
      "['상신상회'] ...완료\n",
      "[데이터 수집 완료]\n",
      "소요 시간 : 13.403353452682495 \n",
      "\n",
      "54번째 가게\n"
     ]
    },
    {
     "name": "stderr",
     "output_type": "stream",
     "text": [
      "The chromedriver version (128.0.6613.137) detected in PATH at c:\\Users\\kk21\\Desktop\\TRIPER\\chromedriver.exe might not be compatible with the detected chrome version (129.0.6668.101); currently, chromedriver 129.0.6668.100 is recommended for chrome 129.*, so it is advised to delete the driver in PATH and retry\n"
     ]
    },
    {
     "name": "stdout",
     "output_type": "stream",
     "text": [
      "https://map.naver.com/p/search/%EA%B8%88%EC%B2%9C%EA%B5%AC%20%EC%B4%9D%EA%B0%81%EB%84%A4%EB%B6%80%EC%B6%94%EA%B3%B1%EC%B0%BD%20%EB%8F%85%EC%82%B0%EC%A0%90/place/11716522?c=15.00,0,0,0,dh&isCorrectAnswer=true\n",
      "결과 한 개\n",
      "\n",
      "[크롤링 시작...]\n",
      "총각네부추곱창 독산점\n",
      "곱창,막창,양\n",
      "서울 금천구 독산로75길 40 1층 101호\n",
      "주문 유형 3\n",
      "묵사발\n",
      "메뉴 설명 없음\n",
      "리뷰 존재\n",
      "음식이 맛있어요\n",
      "친절해요\n",
      "양이 많아요\n",
      "매장이 넓어요\n",
      "가성비가 좋아요\n",
      "['총각네부추곱창 독산점'] ...완료\n",
      "[데이터 수집 완료]\n",
      "소요 시간 : 13.369835615158081 \n",
      "\n",
      "55번째 가게\n"
     ]
    },
    {
     "name": "stderr",
     "output_type": "stream",
     "text": [
      "The chromedriver version (128.0.6613.137) detected in PATH at c:\\Users\\kk21\\Desktop\\TRIPER\\chromedriver.exe might not be compatible with the detected chrome version (129.0.6668.101); currently, chromedriver 129.0.6668.100 is recommended for chrome 129.*, so it is advised to delete the driver in PATH and retry\n"
     ]
    },
    {
     "name": "stdout",
     "output_type": "stream",
     "text": [
      "https://map.naver.com/p/search/%EA%B8%88%EC%B2%9C%EA%B5%AC%20%EA%B0%80%EC%B8%A0%EB%82%98%EB%B2%A01.186/place/1620924735?c=15.00,0,0,0,dh&isCorrectAnswer=true\n",
      "결과 한 개\n",
      "\n",
      "[크롤링 시작...]\n",
      "가츠나베1.186\n",
      "돈가스\n",
      "서울 금천구 가산디지털1로 186 제이플라츠 지하1층 가츠나베 1.186\n",
      "주문 유형 3\n",
      "김치가츠나베 (제주산고기)\n",
      "대표메뉴인 돈까스 김치찌개\n",
      "리뷰 존재\n",
      "음식이 맛있어요\n",
      "양이 많아요\n",
      "친절해요\n",
      "혼밥하기 좋아요\n",
      "재료가 신선해요\n",
      "['가츠나베1.186'] ...완료\n",
      "[데이터 수집 완료]\n",
      "소요 시간 : 13.44821810722351 \n",
      "\n",
      "56번째 가게\n"
     ]
    },
    {
     "name": "stderr",
     "output_type": "stream",
     "text": [
      "The chromedriver version (128.0.6613.137) detected in PATH at c:\\Users\\kk21\\Desktop\\TRIPER\\chromedriver.exe might not be compatible with the detected chrome version (129.0.6668.101); currently, chromedriver 129.0.6668.100 is recommended for chrome 129.*, so it is advised to delete the driver in PATH and retry\n"
     ]
    },
    {
     "name": "stdout",
     "output_type": "stream",
     "text": [
      "https://map.naver.com/p/search/%EA%B8%88%EC%B2%9C%EA%B5%AC%20%EC%B9%B4%ED%8E%98%20%ED%98%B8%EC%95%94/place/1810200734?c=15.00,0,0,0,dh&isCorrectAnswer=true\n",
      "결과 한 개\n",
      "\n",
      "[크롤링 시작...]\n",
      "카페 호암\n",
      "카페,디저트\n",
      "서울 금천구 금하로14길 6 1층\n",
      "주문 유형 3\n",
      "레몬생강차\n",
      "메뉴 설명 없음\n",
      "리뷰 존재\n",
      "커피가 맛있어요\n",
      "디저트가 맛있어요\n",
      "인테리어가 멋져요\n",
      "음료가 맛있어요\n",
      "친절해요\n",
      "['카페 호암'] ...완료\n",
      "[데이터 수집 완료]\n",
      "소요 시간 : 13.413588762283325 \n",
      "\n",
      "57번째 가게\n"
     ]
    },
    {
     "name": "stderr",
     "output_type": "stream",
     "text": [
      "The chromedriver version (128.0.6613.137) detected in PATH at c:\\Users\\kk21\\Desktop\\TRIPER\\chromedriver.exe might not be compatible with the detected chrome version (129.0.6668.101); currently, chromedriver 129.0.6668.100 is recommended for chrome 129.*, so it is advised to delete the driver in PATH and retry\n"
     ]
    },
    {
     "name": "stdout",
     "output_type": "stream",
     "text": [
      "https://map.naver.com/p/search/%EA%B8%88%EC%B2%9C%EA%B5%AC%20%EB%8F%99%EB%82%A8%EC%A7%91?c=15.00,0,0,0,dh\n",
      "결과 여러 개 존재(지점 또는 근접 지역)\n",
      "\n",
      "[크롤링 시작...]\n",
      "동남집\n",
      "갈비탕\n",
      "서울 금천구 가산디지털1로 149 신한이노플렉스 1층 102호\n",
      "주문 유형 3\n",
      "얼큰막창국밥\n",
      "갈비추가 32,000원, 튀김만두추가2,000원\n",
      "리뷰 존재\n",
      "음식이 맛있어요\n",
      "양이 많아요\n",
      "재료가 신선해요\n",
      "친절해요\n",
      "가성비가 좋아요\n",
      "['동남집'] ...완료\n",
      "[데이터 수집 완료]\n",
      "소요 시간 : 13.423238277435303 \n",
      "\n",
      "58번째 가게\n"
     ]
    },
    {
     "name": "stderr",
     "output_type": "stream",
     "text": [
      "The chromedriver version (128.0.6613.137) detected in PATH at c:\\Users\\kk21\\Desktop\\TRIPER\\chromedriver.exe might not be compatible with the detected chrome version (129.0.6668.101); currently, chromedriver 129.0.6668.100 is recommended for chrome 129.*, so it is advised to delete the driver in PATH and retry\n"
     ]
    },
    {
     "name": "stdout",
     "output_type": "stream",
     "text": [
      "https://map.naver.com/p/search/%EA%B8%88%EC%B2%9C%EA%B5%AC%20%EC%9C%BC%EB%9C%B8%EB%AA%85%EA%B0%80%20%EA%B0%80%EC%82%B0%EB%B3%B8%EC%A0%90/place/1466494440?c=15.00,0,0,0,dh&isCorrectAnswer=true\n",
      "결과 한 개\n",
      "\n",
      "[크롤링 시작...]\n",
      "으뜸명가 가산본점\n",
      "닭갈비\n",
      "서울 금천구 가산디지털2로 140 1층 으뜸명가\n",
      "주문 유형 3\n",
      "숯불더덕닭갈비2인세트(시그니쳐메뉴)\n",
      "양념닭갈비+간장닭갈비+횡성더덕구이+치즈쏘세지+모듬아채+치즈그라탕+계란찜이 제공됩니다\n",
      "리뷰 존재\n",
      "음식이 맛있어요\n",
      "고기 질이 좋아요\n",
      "특별한 메뉴가 있어요\n",
      "친절해요\n",
      "가성비가 좋아요\n",
      "['으뜸명가 가산본점'] ...완료\n",
      "[데이터 수집 완료]\n",
      "소요 시간 : 13.467060089111328 \n",
      "\n",
      "59번째 가게\n"
     ]
    },
    {
     "name": "stderr",
     "output_type": "stream",
     "text": [
      "The chromedriver version (128.0.6613.137) detected in PATH at c:\\Users\\kk21\\Desktop\\TRIPER\\chromedriver.exe might not be compatible with the detected chrome version (129.0.6668.101); currently, chromedriver 129.0.6668.100 is recommended for chrome 129.*, so it is advised to delete the driver in PATH and retry\n"
     ]
    },
    {
     "name": "stdout",
     "output_type": "stream",
     "text": [
      "https://map.naver.com/p/search/%EA%B8%88%EC%B2%9C%EA%B5%AC%20%EB%8C%80%ED%98%B8%EC%A0%95/place/18525995?c=15.00,0,0,0,dh&isCorrectAnswer=true\n",
      "결과 한 개\n",
      "\n",
      "[크롤링 시작...]\n",
      "대호정\n",
      "육류,고기요리\n",
      "서울 금천구 시흥대로52길 51\n",
      "주문 유형 3\n",
      "돼지갈비(300g)\n",
      "국내산 생돼지갈비를 사용한 진짜 돼지갈비 입니다.\n",
      "리뷰 존재\n",
      "음식이 맛있어요\n",
      "친절해요\n",
      "매장이 넓어요\n",
      "고기 질이 좋아요\n",
      "가성비가 좋아요\n",
      "['대호정'] ...완료\n",
      "[데이터 수집 완료]\n",
      "소요 시간 : 13.430826425552368 \n",
      "\n",
      "60번째 가게\n"
     ]
    },
    {
     "name": "stderr",
     "output_type": "stream",
     "text": [
      "The chromedriver version (128.0.6613.137) detected in PATH at c:\\Users\\kk21\\Desktop\\TRIPER\\chromedriver.exe might not be compatible with the detected chrome version (129.0.6668.101); currently, chromedriver 129.0.6668.100 is recommended for chrome 129.*, so it is advised to delete the driver in PATH and retry\n"
     ]
    },
    {
     "name": "stdout",
     "output_type": "stream",
     "text": [
      "https://map.naver.com/p/search/%EA%B8%88%EC%B2%9C%EA%B5%AC%20%EC%8A%A4%EC%8B%9C%ED%9E%88%EB%98%90/place/36321407?c=15.00,0,0,0,dh&isCorrectAnswer=true\n",
      "결과 한 개\n",
      "\n",
      "[크롤링 시작...]\n",
      "스시히또\n",
      "초밥,롤\n",
      "서울 금천구 벚꽃로 286 리더스타워 지하1층 114호\n",
      "주문 유형 3\n",
      "오마카세 C\n",
      "3-4인이 즐길 수 있는 숙성회\n",
      "리뷰 존재\n",
      "음식이 맛있어요\n",
      "재료가 신선해요\n",
      "친절해요\n",
      "매장이 청결해요\n",
      "특별한 날 가기 좋아요\n",
      "['스시히또'] ...완료\n",
      "[데이터 수집 완료]\n",
      "소요 시간 : 13.424932718276978 \n",
      "\n",
      "61번째 가게\n"
     ]
    },
    {
     "name": "stderr",
     "output_type": "stream",
     "text": [
      "The chromedriver version (128.0.6613.137) detected in PATH at c:\\Users\\kk21\\Desktop\\TRIPER\\chromedriver.exe might not be compatible with the detected chrome version (129.0.6668.101); currently, chromedriver 129.0.6668.100 is recommended for chrome 129.*, so it is advised to delete the driver in PATH and retry\n"
     ]
    },
    {
     "name": "stdout",
     "output_type": "stream",
     "text": [
      "https://map.naver.com/p/search/%EA%B8%88%EC%B2%9C%EA%B5%AC%20%EB%83%85%EB%8B%A4%EC%B2%AD%EC%96%91%EC%A7%91%20%EA%B0%80%EC%82%B0%EB%94%94%EC%A7%80%ED%84%B8%EB%8B%A8%EC%A7%80%EC%A7%81%EC%98%81%EC%A0%90?c=15.00,0,0,0,dh\n",
      "결과 여러 개 존재(지점 또는 근접 지역)\n",
      "\n",
      "[크롤링 시작...]\n",
      "냅다청양집 가산디지털단지직영점\n",
      "돼지고기구이\n",
      "서울 금천구 가산디지털1로 168 A동 205호\n",
      "주문 유형 3\n",
      "청양큰세트\n",
      "청양집 시그니처 메뉴 모음 <고기모둠(650g)+불안주(택1)+오봉쫄면>\n",
      "리뷰 존재\n",
      "음식이 맛있어요\n",
      "고기 질이 좋아요\n",
      "가성비가 좋아요\n",
      "양이 많아요\n",
      "친절해요\n",
      "['냅다청양집 가산디지털단지직영점'] ...완료\n",
      "[데이터 수집 완료]\n",
      "소요 시간 : 13.440128803253174 \n",
      "\n",
      "62번째 가게\n"
     ]
    },
    {
     "name": "stderr",
     "output_type": "stream",
     "text": [
      "The chromedriver version (128.0.6613.137) detected in PATH at c:\\Users\\kk21\\Desktop\\TRIPER\\chromedriver.exe might not be compatible with the detected chrome version (129.0.6668.101); currently, chromedriver 129.0.6668.100 is recommended for chrome 129.*, so it is advised to delete the driver in PATH and retry\n"
     ]
    },
    {
     "name": "stdout",
     "output_type": "stream",
     "text": [
      "https://map.naver.com/p/search/%EA%B8%88%EC%B2%9C%EA%B5%AC%20%EC%9D%80%ED%96%89%EA%B3%A8%20%EA%B8%88%EC%B2%9C%EA%B5%AC%20%EC%8B%9C%ED%9D%A5%EC%A0%90?c=15.00,0,0,0,dh\n",
      "결과 여러 개 존재(지점 또는 근접 지역)\n",
      "\n",
      "[크롤링 시작...]\n",
      "은행골 금천구 시흥점\n",
      "초밥,롤\n",
      "서울 금천구 시흥대로 198\n",
      "주문 유형 3\n",
      "도로초밥\n",
      "메뉴 설명 없음\n",
      "리뷰 존재\n",
      "음식이 맛있어요\n",
      "재료가 신선해요\n",
      "친절해요\n",
      "매장이 넓어요\n",
      "매장이 청결해요\n",
      "['은행골 금천구 시흥점'] ...완료\n",
      "[데이터 수집 완료]\n",
      "소요 시간 : 13.393946170806885 \n",
      "\n",
      "63번째 가게\n"
     ]
    },
    {
     "name": "stderr",
     "output_type": "stream",
     "text": [
      "The chromedriver version (128.0.6613.137) detected in PATH at c:\\Users\\kk21\\Desktop\\TRIPER\\chromedriver.exe might not be compatible with the detected chrome version (129.0.6668.101); currently, chromedriver 129.0.6668.100 is recommended for chrome 129.*, so it is advised to delete the driver in PATH and retry\n"
     ]
    },
    {
     "name": "stdout",
     "output_type": "stream",
     "text": [
      "https://map.naver.com/p/search/%EA%B8%88%EC%B2%9C%EA%B5%AC%20%EC%B9%B4%ED%8E%98%EC%98%A8%EC%8B%A4/place/1559522671?c=15.00,0,0,0,dh&isCorrectAnswer=true\n",
      "결과 한 개\n",
      "\n",
      "[크롤링 시작...]\n",
      "카페온실\n",
      "카페\n",
      "서울 금천구 가산디지털1로 100 에이스골드타워 1층 117호\n",
      "주문 유형 3\n",
      "생크림딸기라떼\n",
      "일본 우지지역 말차가루를 사용하여 부드럽고 말차의 풍미가 느껴집니다 :)\n",
      "리뷰 존재\n",
      "커피가 맛있어요\n",
      "디저트가 맛있어요\n",
      "음료가 맛있어요\n",
      "인테리어가 멋져요\n",
      "친절해요\n",
      "['카페온실'] ...완료\n",
      "[데이터 수집 완료]\n",
      "소요 시간 : 13.430078268051147 \n",
      "\n",
      "64번째 가게\n"
     ]
    },
    {
     "name": "stderr",
     "output_type": "stream",
     "text": [
      "The chromedriver version (128.0.6613.137) detected in PATH at c:\\Users\\kk21\\Desktop\\TRIPER\\chromedriver.exe might not be compatible with the detected chrome version (129.0.6668.101); currently, chromedriver 129.0.6668.100 is recommended for chrome 129.*, so it is advised to delete the driver in PATH and retry\n"
     ]
    },
    {
     "name": "stdout",
     "output_type": "stream",
     "text": [
      "https://map.naver.com/p/search/%EA%B8%88%EC%B2%9C%EA%B5%AC%20%EC%8A%A4%EC%8B%9C%EC%B4%88%EC%9D%B4/place/20956076?c=15.00,0,0,0,dh&isCorrectAnswer=true\n",
      "결과 한 개\n",
      "\n",
      "[크롤링 시작...]\n",
      "스시초이\n",
      "초밥,롤\n",
      "서울 금천구 가산디지털1로 171\n",
      "주문 유형 3\n",
      "모듬초밥\n",
      "메뉴 설명 없음\n",
      "리뷰 존재\n",
      "음식이 맛있어요\n",
      "재료가 신선해요\n",
      "가성비가 좋아요\n",
      "친절해요\n",
      "매장이 청결해요\n",
      "['스시초이'] ...완료\n",
      "[데이터 수집 완료]\n",
      "소요 시간 : 13.396679639816284 \n",
      "\n",
      "65번째 가게\n"
     ]
    },
    {
     "name": "stderr",
     "output_type": "stream",
     "text": [
      "The chromedriver version (128.0.6613.137) detected in PATH at c:\\Users\\kk21\\Desktop\\TRIPER\\chromedriver.exe might not be compatible with the detected chrome version (129.0.6668.101); currently, chromedriver 129.0.6668.100 is recommended for chrome 129.*, so it is advised to delete the driver in PATH and retry\n"
     ]
    },
    {
     "name": "stdout",
     "output_type": "stream",
     "text": [
      "https://map.naver.com/p/search/%EA%B8%88%EC%B2%9C%EA%B5%AC%20%ED%8F%AC36%EA%B1%B0%EB%A6%AC%20%EA%B0%80%EC%82%B0%EB%94%94%EC%A7%80%ED%84%B8%EB%8B%A8%EC%A7%80%EC%97%AD%EC%A0%90?c=15.00,0,0,0,dh\n",
      "결과 여러 개 존재(지점 또는 근접 지역)\n",
      "\n",
      "[크롤링 시작...]\n",
      "포36거리 가산디지털단지역점\n",
      "베트남음식\n",
      "서울 금천구 벚꽃로 286 삼성리더스타워 지하1층 112호\n",
      "주문 유형 3\n",
      "소고기 쌀국수\n",
      "메뉴 설명 없음\n",
      "리뷰 존재\n",
      "음식이 맛있어요\n",
      "양이 많아요\n",
      "친절해요\n",
      "재료가 신선해요\n",
      "혼밥하기 좋아요\n",
      "['포36거리 가산디지털단지역점'] ...완료\n",
      "[데이터 수집 완료]\n",
      "소요 시간 : 13.413662910461426 \n",
      "\n",
      "66번째 가게\n"
     ]
    },
    {
     "name": "stderr",
     "output_type": "stream",
     "text": [
      "The chromedriver version (128.0.6613.137) detected in PATH at c:\\Users\\kk21\\Desktop\\TRIPER\\chromedriver.exe might not be compatible with the detected chrome version (129.0.6668.101); currently, chromedriver 129.0.6668.100 is recommended for chrome 129.*, so it is advised to delete the driver in PATH and retry\n"
     ]
    },
    {
     "name": "stdout",
     "output_type": "stream",
     "text": [
      "https://map.naver.com/p/search/%EA%B8%88%EC%B2%9C%EA%B5%AC%20%EB%B6%81%ED%8B%B0%EB%94%94%EC%A0%80%ED%8A%B8%EC%B9%B4%ED%8E%98/place/1960089623?c=15.00,0,0,0,dh&isCorrectAnswer=true\n",
      "결과 한 개\n",
      "\n",
      "[크롤링 시작...]\n",
      "북티디저트카페\n",
      "카페,디저트\n",
      "서울 금천구 벚꽃로 298 118호\n",
      "주문 유형 3\n",
      "아메리카노\n",
      "88:00시~12:00시 TAKE OUT 할인 2,000\n",
      "리뷰 존재\n",
      "커피가 맛있어요\n",
      "음료가 맛있어요\n",
      "디저트가 맛있어요\n",
      "친절해요\n",
      "인테리어가 멋져요\n",
      "['북티디저트카페'] ...완료\n",
      "[데이터 수집 완료]\n",
      "소요 시간 : 13.42913031578064 \n",
      "\n",
      "67번째 가게\n"
     ]
    },
    {
     "name": "stderr",
     "output_type": "stream",
     "text": [
      "The chromedriver version (128.0.6613.137) detected in PATH at c:\\Users\\kk21\\Desktop\\TRIPER\\chromedriver.exe might not be compatible with the detected chrome version (129.0.6668.101); currently, chromedriver 129.0.6668.100 is recommended for chrome 129.*, so it is advised to delete the driver in PATH and retry\n"
     ]
    },
    {
     "name": "stdout",
     "output_type": "stream",
     "text": [
      "https://map.naver.com/p/search/%EA%B8%88%EC%B2%9C%EA%B5%AC%20%EC%97%AC%EC%8B%A0%EC%A1%B1%EB%B0%9C/place/20343730?c=15.00,0,0,0,dh&isCorrectAnswer=true\n",
      "결과 한 개\n",
      "\n",
      "[크롤링 시작...]\n",
      "여신족발\n",
      "족발,보쌈\n",
      "서울 금천구 벚꽃로38길 21\n",
      "주문 유형 3\n",
      "족발(大(앞발 3~4인))\n",
      "메뉴 설명 없음\n",
      "리뷰 존재\n",
      "음식이 맛있어요\n",
      "양이 많아요\n",
      "친절해요\n",
      "가성비가 좋아요\n",
      "고기 질이 좋아요\n",
      "['여신족발'] ...완료\n",
      "[데이터 수집 완료]\n",
      "소요 시간 : 13.465176105499268 \n",
      "\n",
      "68번째 가게\n"
     ]
    },
    {
     "name": "stderr",
     "output_type": "stream",
     "text": [
      "The chromedriver version (128.0.6613.137) detected in PATH at c:\\Users\\kk21\\Desktop\\TRIPER\\chromedriver.exe might not be compatible with the detected chrome version (129.0.6668.101); currently, chromedriver 129.0.6668.100 is recommended for chrome 129.*, so it is advised to delete the driver in PATH and retry\n"
     ]
    },
    {
     "name": "stdout",
     "output_type": "stream",
     "text": [
      "https://map.naver.com/p/search/%EA%B8%88%EC%B2%9C%EA%B5%AC%20%ED%8E%B8%EB%B0%B1%EA%B0%80%EC%9B%90%20%ED%98%84%EB%8C%80%EC%95%84%EC%9A%B8%EB%A0%9B%EA%B0%80%EC%82%B0%EC%A0%90/place/1936500478?c=15.00,0,0,0,dh&isCorrectAnswer=true\n",
      "결과 한 개\n",
      "\n",
      "[크롤링 시작...]\n",
      "편백가원 현대아울렛가산점\n",
      "샤브샤브\n",
      "서울 금천구 디지털로10길 9 가산동 6층 612호 현대시티아울렛 가산점\n",
      "주문 유형 3\n",
      "스페셜 디너\n",
      "소고기편백찜+ 샤브샤브 무한리필 + 전복 1미 + 새우 1미\n",
      "리뷰 존재\n",
      "음식이 맛있어요\n",
      "가성비가 좋아요\n",
      "재료가 신선해요\n",
      "양이 많아요\n",
      "친절해요\n",
      "['편백가원 현대아울렛가산점'] ...완료\n",
      "[데이터 수집 완료]\n",
      "소요 시간 : 13.430562019348145 \n",
      "\n",
      "69번째 가게\n"
     ]
    },
    {
     "name": "stderr",
     "output_type": "stream",
     "text": [
      "The chromedriver version (128.0.6613.137) detected in PATH at c:\\Users\\kk21\\Desktop\\TRIPER\\chromedriver.exe might not be compatible with the detected chrome version (129.0.6668.101); currently, chromedriver 129.0.6668.100 is recommended for chrome 129.*, so it is advised to delete the driver in PATH and retry\n"
     ]
    },
    {
     "name": "stdout",
     "output_type": "stream",
     "text": [
      "https://map.naver.com/p/search/%EA%B8%88%EC%B2%9C%EA%B5%AC%20%EC%95%A0%ED%8D%BC%EB%B8%94/place/1719396407?c=15.00,0,0,0,dh&isCorrectAnswer=true\n",
      "결과 한 개\n",
      "\n",
      "[크롤링 시작...]\n",
      "애퍼블\n",
      "카페,디저트\n",
      "서울 금천구 시흥대로123길 30 1층 애퍼블\n",
      "주문 유형 3\n",
      "티라미수\n",
      "이탈리아 가정집에서 만드는 전통 방식으로 재현한 촉촉하고 풍미 가득한 클래식 티라미수\n",
      "리뷰 존재\n",
      "커피가 맛있어요\n",
      "디저트가 맛있어요\n",
      "친절해요\n",
      "아늑해요\n",
      "인테리어가 멋져요\n",
      "['애퍼블'] ...완료\n",
      "[데이터 수집 완료]\n",
      "소요 시간 : 13.438515186309814 \n",
      "\n",
      "70번째 가게\n"
     ]
    },
    {
     "name": "stderr",
     "output_type": "stream",
     "text": [
      "The chromedriver version (128.0.6613.137) detected in PATH at c:\\Users\\kk21\\Desktop\\TRIPER\\chromedriver.exe might not be compatible with the detected chrome version (129.0.6668.101); currently, chromedriver 129.0.6668.100 is recommended for chrome 129.*, so it is advised to delete the driver in PATH and retry\n"
     ]
    },
    {
     "name": "stdout",
     "output_type": "stream",
     "text": [
      "https://map.naver.com/p/search/%EA%B8%88%EC%B2%9C%EA%B5%AC%20%EA%B3%A0%EC%86%8C%EB%AF%B8%EB%B6%80%EC%97%8C%20%EA%B0%80%EC%82%B0%EC%A0%90?c=15.00,0,0,0,dh\n",
      "결과 여러 개 존재(지점 또는 근접 지역)\n",
      "\n",
      "[크롤링 시작...]\n",
      "고소미부엌 가산점\n",
      "분식\n",
      "서울 금천구 가산디지털1로 171 1층 119호\n",
      "주문 유형 3\n",
      "고소미떡볶이\n",
      "메뉴 설명 없음\n",
      "리뷰 존재\n",
      "음식이 맛있어요\n",
      "재료가 신선해요\n",
      "양이 많아요\n",
      "특별한 메뉴가 있어요\n",
      "혼밥하기 좋아요\n",
      "['고소미부엌 가산점'] ...완료\n",
      "[데이터 수집 완료]\n",
      "소요 시간 : 13.399271965026855 \n",
      "\n",
      "71번째 가게\n"
     ]
    },
    {
     "name": "stderr",
     "output_type": "stream",
     "text": [
      "The chromedriver version (128.0.6613.137) detected in PATH at c:\\Users\\kk21\\Desktop\\TRIPER\\chromedriver.exe might not be compatible with the detected chrome version (129.0.6668.101); currently, chromedriver 129.0.6668.100 is recommended for chrome 129.*, so it is advised to delete the driver in PATH and retry\n"
     ]
    },
    {
     "name": "stdout",
     "output_type": "stream",
     "text": [
      "https://map.naver.com/p/search/%EA%B8%88%EC%B2%9C%EA%B5%AC%20%EB%B6%84%EC%A7%9C%ED%95%98%EB%85%B8%EC%9D%B4%20%EA%B8%88%EC%B2%9C%EB%A1%AF%EB%8D%B0%EC%BA%90%EC%8A%AC%EC%A0%90/place/1016650284?c=15.00,0,0,0,dh&isCorrectAnswer=true\n",
      "결과 한 개\n",
      "\n",
      "[크롤링 시작...]\n",
      "분짜하노이 금천롯데캐슬점\n",
      "베트남음식\n",
      "서울 금천구 시흥대로 291 상가 2층 217호\n",
      "주문 유형 3\n",
      "[자신있고 확실히 다른 쌀국수 맛집~] 하노이 쌀국수(S)\n",
      "오랜 시간 동안 한우사골과 차돌양지 & 사태를 정성 들여 끓이는 진한 육수의 전통 하노이 쌀국수\n",
      "리뷰 존재\n",
      "음식이 맛있어요\n",
      "양이 많아요\n",
      "재료가 신선해요\n",
      "매장이 넓어요\n",
      "친절해요\n",
      "['분짜하노이 금천롯데캐슬점'] ...완료\n",
      "[데이터 수집 완료]\n",
      "소요 시간 : 13.395460844039917 \n",
      "\n",
      "72번째 가게\n"
     ]
    },
    {
     "name": "stderr",
     "output_type": "stream",
     "text": [
      "The chromedriver version (128.0.6613.137) detected in PATH at c:\\Users\\kk21\\Desktop\\TRIPER\\chromedriver.exe might not be compatible with the detected chrome version (129.0.6668.101); currently, chromedriver 129.0.6668.100 is recommended for chrome 129.*, so it is advised to delete the driver in PATH and retry\n"
     ]
    },
    {
     "name": "stdout",
     "output_type": "stream",
     "text": [
      "https://map.naver.com/p/search/%EA%B8%88%EC%B2%9C%EA%B5%AC%2037.5%20%EA%B0%80%EC%82%B0%20THE%20G%20NATION%EC%A0%90?c=15.00,0,0,0,dh\n",
      "결과 여러 개 존재(지점 또는 근접 지역)\n",
      "\n",
      "[크롤링 시작...]\n",
      "37.5 가산 THE G NATION점\n",
      "브런치\n",
      "서울 금천구 범안로 1142 하우스디 더 스카이밸리2차 3층\n",
      "주문 유형 3\n",
      "푸짐한 정통 미국식 브런치\n",
      "정성스럽게 구운 팬케익과 프렌치 토스트에 각종 사이드 디쉬 그리고 샐러드를 곁들인 브런치\n",
      "리뷰 존재\n",
      "음식이 맛있어요\n",
      "인테리어가 멋져요\n",
      "친절해요\n",
      "매장이 청결해요\n",
      "재료가 신선해요\n",
      "['37.5 가산 THE G NATION점'] ...완료\n",
      "[데이터 수집 완료]\n",
      "소요 시간 : 13.409711360931396 \n",
      "\n",
      "73번째 가게\n"
     ]
    },
    {
     "name": "stderr",
     "output_type": "stream",
     "text": [
      "The chromedriver version (128.0.6613.137) detected in PATH at c:\\Users\\kk21\\Desktop\\TRIPER\\chromedriver.exe might not be compatible with the detected chrome version (129.0.6668.101); currently, chromedriver 129.0.6668.100 is recommended for chrome 129.*, so it is advised to delete the driver in PATH and retry\n"
     ]
    },
    {
     "name": "stdout",
     "output_type": "stream",
     "text": [
      "https://map.naver.com/p/search/%EA%B8%88%EC%B2%9C%EA%B5%AC%20%EB%A7%A4%EB%93%9C%ED%8B%B0%ED%8C%8C%ED%8B%B0/place/1349547643?c=15.00,0,0,0,dh&isCorrectAnswer=true\n",
      "결과 한 개\n",
      "\n",
      "[크롤링 시작...]\n",
      "매드티파티\n",
      "카페,디저트\n",
      "서울 금천구 범안로12길 44 보세쥬르 지하 109호\n",
      "주문 유형 3\n",
      "에그타르트\n",
      "포르투칼식 파이지에 속이 꽉찬 에그 필링!\n",
      "리뷰 존재\n",
      "친절해요\n",
      "인테리어가 멋져요\n",
      "빵이 맛있어요\n",
      "커피가 맛있어요\n",
      "디저트가 맛있어요\n",
      "['매드티파티'] ...완료\n",
      "[데이터 수집 완료]\n",
      "소요 시간 : 13.389735221862793 \n",
      "\n",
      "74번째 가게\n"
     ]
    },
    {
     "name": "stderr",
     "output_type": "stream",
     "text": [
      "The chromedriver version (128.0.6613.137) detected in PATH at c:\\Users\\kk21\\Desktop\\TRIPER\\chromedriver.exe might not be compatible with the detected chrome version (129.0.6668.101); currently, chromedriver 129.0.6668.100 is recommended for chrome 129.*, so it is advised to delete the driver in PATH and retry\n"
     ]
    },
    {
     "name": "stdout",
     "output_type": "stream",
     "text": [
      "https://map.naver.com/p/search/%EA%B8%88%EC%B2%9C%EA%B5%AC%20%EA%B9%80%EC%82%AC%EB%B6%80%20%EC%83%A4%EB%B8%8C%EC%83%A4%EB%B8%8C/place/1780264548?c=15.00,0,0,0,dh&isCorrectAnswer=true\n",
      "결과 한 개\n",
      "\n",
      "[크롤링 시작...]\n",
      "김사부 샤브샤브\n",
      "중식당\n",
      "서울 금천구 가산로 132\n",
      "주문 유형 3\n",
      "꿔뽀우뤄우 锅包肉\n",
      "메뉴 설명 없음\n",
      "리뷰 존재\n",
      "음식이 맛있어요\n",
      "양이 많아요\n",
      "가성비가 좋아요\n",
      "재료가 신선해요\n",
      "매장이 넓어요\n",
      "['김사부 샤브샤브'] ...완료\n",
      "[데이터 수집 완료]\n",
      "소요 시간 : 13.398649454116821 \n",
      "\n",
      "75번째 가게\n"
     ]
    },
    {
     "name": "stderr",
     "output_type": "stream",
     "text": [
      "The chromedriver version (128.0.6613.137) detected in PATH at c:\\Users\\kk21\\Desktop\\TRIPER\\chromedriver.exe might not be compatible with the detected chrome version (129.0.6668.101); currently, chromedriver 129.0.6668.100 is recommended for chrome 129.*, so it is advised to delete the driver in PATH and retry\n"
     ]
    },
    {
     "name": "stdout",
     "output_type": "stream",
     "text": [
      "https://map.naver.com/p/search/%EA%B8%88%EC%B2%9C%EA%B5%AC%20%EC%98%A4%ED%82%A4%EC%86%8C%EB%B0%94%20%EB%B3%B8%EC%A0%90/place/1659037504?c=15.00,0,0,0,dh&isCorrectAnswer=true\n",
      "결과 한 개\n",
      "\n",
      "[크롤링 시작...]\n",
      "오키소바 본점\n",
      "일식당\n",
      "서울 금천구 가산디지털1로 128 b129호\n",
      "주문 유형 3\n",
      "돈코츠라멘\n",
      "진한국물과 푸짐한토핑이 돋보이는 돈코츠라멘 입니다\n",
      "리뷰 존재\n",
      "음식이 맛있어요\n",
      "양이 많아요\n",
      "친절해요\n",
      "가성비가 좋아요\n",
      "혼밥하기 좋아요\n",
      "['오키소바 본점'] ...완료\n",
      "[데이터 수집 완료]\n",
      "소요 시간 : 13.417683124542236 \n",
      "\n",
      "76번째 가게\n"
     ]
    },
    {
     "name": "stderr",
     "output_type": "stream",
     "text": [
      "The chromedriver version (128.0.6613.137) detected in PATH at c:\\Users\\kk21\\Desktop\\TRIPER\\chromedriver.exe might not be compatible with the detected chrome version (129.0.6668.101); currently, chromedriver 129.0.6668.100 is recommended for chrome 129.*, so it is advised to delete the driver in PATH and retry\n"
     ]
    },
    {
     "name": "stdout",
     "output_type": "stream",
     "text": [
      "https://map.naver.com/p/search/%EA%B8%88%EC%B2%9C%EA%B5%AC%20%EC%97%89%ED%81%B4%EC%8A%A4%ED%82%A4%EC%B9%9C/place/1828218872?isCorrectAnswer=true&c=15.00,0,0,0,dh\n",
      "결과 한 개\n",
      "\n",
      "[크롤링 시작...]\n",
      "엉클스키친\n",
      "요리주점\n",
      "서울 금천구 시흥대로 179 103호 104호\n",
      "주문 유형 3\n",
      "동고집\n",
      "다진새우와 오징어를 채워 튀긴 표고버섯을 해물들과 불 향 나게 볶아낸 엉클스 시그니쳐메뉴\n",
      "리뷰 존재\n",
      "음식이 맛있어요\n",
      "친절해요\n",
      "특별한 메뉴가 있어요\n",
      "인테리어가 멋져요\n",
      "술이 다양해요\n",
      "['엉클스키친'] ...완료\n",
      "[데이터 수집 완료]\n",
      "소요 시간 : 13.438950300216675 \n",
      "\n",
      "77번째 가게\n"
     ]
    },
    {
     "name": "stderr",
     "output_type": "stream",
     "text": [
      "The chromedriver version (128.0.6613.137) detected in PATH at c:\\Users\\kk21\\Desktop\\TRIPER\\chromedriver.exe might not be compatible with the detected chrome version (129.0.6668.101); currently, chromedriver 129.0.6668.100 is recommended for chrome 129.*, so it is advised to delete the driver in PATH and retry\n"
     ]
    },
    {
     "name": "stdout",
     "output_type": "stream",
     "text": [
      "https://map.naver.com/p/search/%EA%B8%88%EC%B2%9C%EA%B5%AC%20%EB%8F%84%EB%84%9B%20%EC%9D%B8%EC%82%AC%EC%9D%B4%EB%93%9C%20%EB%8F%84%EB%84%9B/place/1020784895?c=15.00,0,0,0,dh&isCorrectAnswer=true\n",
      "결과 한 개\n",
      "\n",
      "[크롤링 시작...]\n",
      "도넛 인사이드 도넛\n",
      "카페,디저트\n",
      "서울 금천구 시흥대로141길 81 1층 도넛 인사이드 도넛\n",
      "주문 유형 3\n",
      "대표 메뉴 없음\n",
      "메뉴 설명 없음\n",
      "오류 예외 처리\n",
      "78번째 가게\n"
     ]
    },
    {
     "name": "stderr",
     "output_type": "stream",
     "text": [
      "The chromedriver version (128.0.6613.137) detected in PATH at c:\\Users\\kk21\\Desktop\\TRIPER\\chromedriver.exe might not be compatible with the detected chrome version (129.0.6668.101); currently, chromedriver 129.0.6668.100 is recommended for chrome 129.*, so it is advised to delete the driver in PATH and retry\n"
     ]
    },
    {
     "name": "stdout",
     "output_type": "stream",
     "text": [
      "https://map.naver.com/p/search/%EA%B8%88%EC%B2%9C%EA%B5%AC%20%EA%B5%90%EC%B4%8C%EC%B9%98%ED%82%A8%20%EA%B0%80%EC%82%B0%EB%94%94%EC%A7%80%ED%84%B8%EC%A0%90?c=15.00,0,0,0,dh\n",
      "결과 여러 개 존재(지점 또는 근접 지역)\n",
      "\n",
      "[크롤링 시작...]\n",
      "교촌치킨 가산디지털점\n",
      "치킨,닭강정\n",
      "서울 금천구 가산디지털1로 165 가산비지니스센터 2층\n",
      "주문 유형 1\n",
      "교촌옥수수통안심 떡볶이세트\n",
      "교촌옥수수통안심+국물맵떡S\"교촌옥수수와 찰떡궁합인 국물맵떡S 세트메뉴\n",
      "리뷰 존재\n",
      "음식이 맛있어요\n",
      "매장이 넓어요\n",
      "친절해요\n",
      "단체모임 하기 좋아요\n",
      "재료가 신선해요\n",
      "['교촌치킨 가산디지털점'] ...완료\n",
      "[데이터 수집 완료]\n",
      "소요 시간 : 19.00991153717041 \n",
      "\n",
      "79번째 가게\n"
     ]
    },
    {
     "name": "stderr",
     "output_type": "stream",
     "text": [
      "The chromedriver version (128.0.6613.137) detected in PATH at c:\\Users\\kk21\\Desktop\\TRIPER\\chromedriver.exe might not be compatible with the detected chrome version (129.0.6668.101); currently, chromedriver 129.0.6668.100 is recommended for chrome 129.*, so it is advised to delete the driver in PATH and retry\n"
     ]
    },
    {
     "name": "stdout",
     "output_type": "stream",
     "text": [
      "https://map.naver.com/p/search/%EA%B8%88%EC%B2%9C%EA%B5%AC%20%EB%B6%84%EC%A7%9C%EB%9D%BC%EB%B6%90%20%EA%B0%80%EC%82%B0%EB%94%94%EC%A7%80%ED%84%B8%EC%97%AD%EC%A0%90?c=15.00,0,0,0,dh\n",
      "결과 여러 개 존재(지점 또는 근접 지역)\n",
      "\n",
      "[크롤링 시작...]\n",
      "분짜라붐 가산디지털역점\n",
      "베트남음식\n",
      "서울 금천구 디지털로9길 47 1층 102호 분짜라붐\n",
      "주문 유형 3\n",
      "하노이 직화 분짜\n",
      "부드럽고 고소한 生차돌이 들어간 진한 소고기 육수의 하노이 고급 쌀국수\n",
      "리뷰 존재\n",
      "음식이 맛있어요\n",
      "친절해요\n",
      "재료가 신선해요\n",
      "매장이 넓어요\n",
      "양이 많아요\n",
      "['분짜라붐 가산디지털역점'] ...완료\n",
      "[데이터 수집 완료]\n",
      "소요 시간 : 13.41086745262146 \n",
      "\n",
      "80번째 가게\n"
     ]
    },
    {
     "name": "stderr",
     "output_type": "stream",
     "text": [
      "The chromedriver version (128.0.6613.137) detected in PATH at c:\\Users\\kk21\\Desktop\\TRIPER\\chromedriver.exe might not be compatible with the detected chrome version (129.0.6668.101); currently, chromedriver 129.0.6668.100 is recommended for chrome 129.*, so it is advised to delete the driver in PATH and retry\n"
     ]
    },
    {
     "name": "stdout",
     "output_type": "stream",
     "text": [
      "https://map.naver.com/p/search/%EA%B8%88%EC%B2%9C%EA%B5%AC%20%EC%98%A8%EC%84%BC%20%EA%B8%88%EC%B2%9C%EA%B5%AC%20%EA%B0%80%EC%82%B0%EC%A0%90?c=15.00,0,0,0,dh\n",
      "결과 여러 개 존재(지점 또는 근접 지역)\n",
      "\n",
      "[크롤링 시작...]\n",
      "온센 금천구 가산점\n",
      "일식당\n",
      "서울 금천구 가산디지털1로 205-27 1층 온센 금천구점\n",
      "주문 유형 3\n",
      "온센텐동\n",
      "새우1/온센타마고1/김1/단호박1/느타리버섯1/가지1/꽈리고추1\n",
      "리뷰 존재\n",
      "음식이 맛있어요\n",
      "재료가 신선해요\n",
      "매장이 넓어요\n",
      "매장이 청결해요\n",
      "인테리어가 멋져요\n",
      "['온센 금천구 가산점'] ...완료\n",
      "[데이터 수집 완료]\n",
      "소요 시간 : 13.418960332870483 \n",
      "\n",
      "81번째 가게\n"
     ]
    },
    {
     "name": "stderr",
     "output_type": "stream",
     "text": [
      "The chromedriver version (128.0.6613.137) detected in PATH at c:\\Users\\kk21\\Desktop\\TRIPER\\chromedriver.exe might not be compatible with the detected chrome version (129.0.6668.101); currently, chromedriver 129.0.6668.100 is recommended for chrome 129.*, so it is advised to delete the driver in PATH and retry\n"
     ]
    },
    {
     "name": "stdout",
     "output_type": "stream",
     "text": [
      "https://map.naver.com/p/search/%EA%B8%88%EC%B2%9C%EA%B5%AC%20%EA%B0%93%ED%8F%AC%EC%86%8C/place/1731579093?c=15.00,0,0,0,dh&isCorrectAnswer=true\n",
      "결과 한 개\n",
      "\n",
      "[크롤링 시작...]\n",
      "갓포소\n",
      "일식당\n",
      "서울 금천구 가산디지털2로 144 현대테라타워가산DK 1층 106호\n",
      "주문 유형 3\n",
      "런치스페셜스시19\n",
      "일본식 해산물덮밥\n",
      "리뷰 존재\n",
      "음식이 맛있어요\n",
      "재료가 신선해요\n",
      "친절해요\n",
      "특별한 메뉴가 있어요\n",
      "인테리어가 멋져요\n",
      "['갓포소'] ...완료\n",
      "[데이터 수집 완료]\n",
      "소요 시간 : 13.434004068374634 \n",
      "\n",
      "82번째 가게\n"
     ]
    },
    {
     "name": "stderr",
     "output_type": "stream",
     "text": [
      "The chromedriver version (128.0.6613.137) detected in PATH at c:\\Users\\kk21\\Desktop\\TRIPER\\chromedriver.exe might not be compatible with the detected chrome version (129.0.6668.101); currently, chromedriver 129.0.6668.100 is recommended for chrome 129.*, so it is advised to delete the driver in PATH and retry\n"
     ]
    },
    {
     "name": "stdout",
     "output_type": "stream",
     "text": [
      "https://map.naver.com/p/search/%EA%B8%88%EC%B2%9C%EA%B5%AC%20%ED%94%8C%EB%9F%AC%EB%B2%84%20%EB%B3%B8%EC%A0%90/place/1939744587?c=15.00,0,0,0,dh&isCorrectAnswer=true\n",
      "결과 한 개\n",
      "\n",
      "[크롤링 시작...]\n",
      "플러버 본점\n",
      "스파게티,파스타전문\n",
      "서울 금천구 시흥대로 291 롯데캐슬골드파크3차 WEST동 208호\n",
      "주문 유형 3\n",
      "핑키게살 로제스파게티\n",
      "메뉴 설명 없음\n",
      "리뷰 존재\n",
      "음식이 맛있어요\n",
      "친절해요\n",
      "재료가 신선해요\n",
      "매장이 청결해요\n",
      "인테리어가 멋져요\n",
      "['플러버 본점'] ...완료\n",
      "[데이터 수집 완료]\n",
      "소요 시간 : 13.397696733474731 \n",
      "\n",
      "83번째 가게\n"
     ]
    },
    {
     "name": "stderr",
     "output_type": "stream",
     "text": [
      "The chromedriver version (128.0.6613.137) detected in PATH at c:\\Users\\kk21\\Desktop\\TRIPER\\chromedriver.exe might not be compatible with the detected chrome version (129.0.6668.101); currently, chromedriver 129.0.6668.100 is recommended for chrome 129.*, so it is advised to delete the driver in PATH and retry\n"
     ]
    },
    {
     "name": "stdout",
     "output_type": "stream",
     "text": [
      "https://map.naver.com/p/search/%EA%B8%88%EC%B2%9C%EA%B5%AC%20%ED%99%A9%EC%A0%9C%EC%A7%AC%EB%BD%95%EC%96%91%EA%BC%AC%EC%B9%98%EC%A0%84%EB%AC%B8%EC%A0%90/place/31761686?isCorrectAnswer=true&c=15.00,0,0,0,dh\n",
      "결과 한 개\n",
      "\n",
      "[크롤링 시작...]\n",
      "황제짬뽕양꼬치전문점\n",
      "중식당\n",
      "서울 금천구 디지털로9길 32\n",
      "주문 유형 3\n",
      "탕수육 정식\n",
      "찹쌀탕수육 대 25000\n",
      "리뷰 존재\n",
      "음식이 맛있어요\n",
      "양이 많아요\n",
      "재료가 신선해요\n",
      "친절해요\n",
      "가성비가 좋아요\n",
      "['황제짬뽕양꼬치전문점'] ...완료\n",
      "[데이터 수집 완료]\n",
      "소요 시간 : 13.435763597488403 \n",
      "\n",
      "84번째 가게\n"
     ]
    },
    {
     "name": "stderr",
     "output_type": "stream",
     "text": [
      "The chromedriver version (128.0.6613.137) detected in PATH at c:\\Users\\kk21\\Desktop\\TRIPER\\chromedriver.exe might not be compatible with the detected chrome version (129.0.6668.101); currently, chromedriver 129.0.6668.100 is recommended for chrome 129.*, so it is advised to delete the driver in PATH and retry\n"
     ]
    },
    {
     "name": "stdout",
     "output_type": "stream",
     "text": [
      "https://map.naver.com/p/search/%EA%B8%88%EC%B2%9C%EA%B5%AC%20%EC%B1%84%EC%84%A0%EB%8B%B9%20%EC%9B%94%EB%82%A8%EC%8C%88%26%EC%83%A4%EB%B8%8C%EC%83%A4%EB%B8%8C%20%EA%B8%88%EC%B2%9C%EA%B5%AC%EC%B2%AD%EC%A0%90?c=15.00,0,0,0,dh\n",
      "결과 여러 개 존재(지점 또는 근접 지역)\n",
      "\n",
      "[크롤링 시작...]\n",
      "채선당 월남쌈&샤브샤브 금천구청점\n",
      "샤브샤브\n",
      "서울 금천구 시흥대로 277\n",
      "주문 유형 3\n",
      "월남쌈 샤브샤브 (평일점심)\n",
      "메뉴 설명 없음\n",
      "리뷰 존재\n",
      "음식이 맛있어요\n",
      "재료가 신선해요\n",
      "매장이 넓어요\n",
      "가성비가 좋아요\n",
      "친절해요\n",
      "['채선당 월남쌈&샤브샤브 금천구청점'] ...완료\n",
      "[데이터 수집 완료]\n",
      "소요 시간 : 13.390628337860107 \n",
      "\n",
      "85번째 가게\n"
     ]
    },
    {
     "name": "stderr",
     "output_type": "stream",
     "text": [
      "The chromedriver version (128.0.6613.137) detected in PATH at c:\\Users\\kk21\\Desktop\\TRIPER\\chromedriver.exe might not be compatible with the detected chrome version (129.0.6668.101); currently, chromedriver 129.0.6668.100 is recommended for chrome 129.*, so it is advised to delete the driver in PATH and retry\n"
     ]
    },
    {
     "name": "stdout",
     "output_type": "stream",
     "text": [
      "https://map.naver.com/p/search/%EA%B8%88%EC%B2%9C%EA%B5%AC%20%EB%A7%88%EC%8B%A4%EB%A7%88%EC%8B%A4?c=15.00,0,0,0,dh\n",
      "결과 여러 개 존재(지점 또는 근접 지역)\n",
      "\n",
      "[크롤링 시작...]\n",
      "마실마실\n",
      "와인\n",
      "서울 금천구 벚꽃로56길 100 1층\n",
      "주문 유형 3\n",
      "라따뚜이\n",
      "당일 만드는 신선한 채소와 미트 소스 트리플/리코타 치즈에 바게트\n",
      "리뷰 존재\n",
      "인테리어가 멋져요\n",
      "음식이 맛있어요\n",
      "친절해요\n",
      "음악이 좋아요\n",
      "대화하기 좋아요\n",
      "['마실마실'] ...완료\n",
      "[데이터 수집 완료]\n",
      "소요 시간 : 13.411896705627441 \n",
      "\n",
      "86번째 가게\n"
     ]
    },
    {
     "name": "stderr",
     "output_type": "stream",
     "text": [
      "The chromedriver version (128.0.6613.137) detected in PATH at c:\\Users\\kk21\\Desktop\\TRIPER\\chromedriver.exe might not be compatible with the detected chrome version (129.0.6668.101); currently, chromedriver 129.0.6668.100 is recommended for chrome 129.*, so it is advised to delete the driver in PATH and retry\n"
     ]
    },
    {
     "name": "stdout",
     "output_type": "stream",
     "text": [
      "https://map.naver.com/p/search/%EA%B8%88%EC%B2%9C%EA%B5%AC%20%ED%86%B5%EC%98%81%ED%95%B4%EB%AC%BC%EA%B0%80/place/37341717?c=15.00,0,0,0,dh&isCorrectAnswer=true\n",
      "결과 한 개\n",
      "\n",
      "[크롤링 시작...]\n",
      "통영해물가\n",
      "매운탕,해물탕\n",
      "서울 금천구 벚꽃로46길 1-5 통영해물가\n",
      "주문 유형 3\n",
      "생선회\n",
      "생선회+회무침+모둠튀김+생선조림+청어구이+반반매운탕(야채+면)\n",
      "리뷰 존재\n",
      "음식이 맛있어요\n",
      "재료가 신선해요\n",
      "친절해요\n",
      "가성비가 좋아요\n",
      "양이 많아요\n",
      "['통영해물가'] ...완료\n",
      "[데이터 수집 완료]\n",
      "소요 시간 : 13.371158123016357 \n",
      "\n",
      "87번째 가게\n"
     ]
    },
    {
     "name": "stderr",
     "output_type": "stream",
     "text": [
      "The chromedriver version (128.0.6613.137) detected in PATH at c:\\Users\\kk21\\Desktop\\TRIPER\\chromedriver.exe might not be compatible with the detected chrome version (129.0.6668.101); currently, chromedriver 129.0.6668.100 is recommended for chrome 129.*, so it is advised to delete the driver in PATH and retry\n"
     ]
    },
    {
     "name": "stdout",
     "output_type": "stream",
     "text": [
      "https://map.naver.com/p/search/%EA%B8%88%EC%B2%9C%EA%B5%AC%20%EB%A7%88%EB%9D%BC%ED%99%80%EB%A6%AD%20%EB%A7%88%EB%9D%BC%ED%83%95%20%EA%B0%80%EC%82%B0%EC%84%BC%ED%8A%B8%EB%9F%B4%EC%A0%90/place/1429342749?c=15.00,0,0,0,dh&isCorrectAnswer=true\n",
      "결과 한 개\n",
      "\n",
      "[크롤링 시작...]\n",
      "마라홀릭 마라탕 가산센트럴점\n",
      "중식당\n",
      "서울 금천구 디지털로10길 69 1동 G13호 마라홀릭\n",
      "주문 유형 3\n",
      "먹어도 속이 편한 일품 마라탕\n",
      "최소 주문금액 7000원 부터~\n",
      "리뷰 존재\n",
      "음식이 맛있어요\n",
      "재료가 신선해요\n",
      "친절해요\n",
      "매장이 청결해요\n",
      "가성비가 좋아요\n",
      "['마라홀릭 마라탕 가산센트럴점'] ...완료\n",
      "[데이터 수집 완료]\n",
      "소요 시간 : 13.448482751846313 \n",
      "\n",
      "88번째 가게\n"
     ]
    },
    {
     "name": "stderr",
     "output_type": "stream",
     "text": [
      "The chromedriver version (128.0.6613.137) detected in PATH at c:\\Users\\kk21\\Desktop\\TRIPER\\chromedriver.exe might not be compatible with the detected chrome version (129.0.6668.101); currently, chromedriver 129.0.6668.100 is recommended for chrome 129.*, so it is advised to delete the driver in PATH and retry\n"
     ]
    },
    {
     "name": "stdout",
     "output_type": "stream",
     "text": [
      "https://map.naver.com/p/search/%EA%B8%88%EC%B2%9C%EA%B5%AC%20%EC%8A%AC%EB%A1%9C%EC%9A%B0%EC%BA%98%EB%A6%AC%20%EA%B0%80%EC%82%B0%EB%94%94%EC%A7%80%ED%84%B8%EC%A0%90?c=15.00,0,0,0,dh\n",
      "결과 여러 개 존재(지점 또는 근접 지역)\n",
      "\n",
      "[크롤링 시작...]\n",
      "슬로우캘리 가산디지털점\n",
      "다이어트,샐러드\n",
      "서울 금천구 가산디지털1로 181 1층 105호\n",
      "주문 유형 3\n",
      "대표 메뉴 없음\n",
      "메뉴 설명 없음\n",
      "오류 예외 처리\n",
      "89번째 가게\n"
     ]
    },
    {
     "name": "stderr",
     "output_type": "stream",
     "text": [
      "The chromedriver version (128.0.6613.137) detected in PATH at c:\\Users\\kk21\\Desktop\\TRIPER\\chromedriver.exe might not be compatible with the detected chrome version (129.0.6668.101); currently, chromedriver 129.0.6668.100 is recommended for chrome 129.*, so it is advised to delete the driver in PATH and retry\n"
     ]
    },
    {
     "name": "stdout",
     "output_type": "stream",
     "text": [
      "https://map.naver.com/p/search/%EA%B8%88%EC%B2%9C%EA%B5%AC%20%EC%99%95%EB%8F%88%EA%B9%8C%EC%8A%A4%26%EC%99%95%EB%83%89%EB%A9%B4%20%EB%8F%85%EC%82%B0%EC%A0%90?c=15.00,0,0,0,dh\n",
      "결과 여러 개 존재(지점 또는 근접 지역)\n",
      "\n",
      "[크롤링 시작...]\n",
      "왕돈까스&왕냉면 독산점\n",
      "돈가스\n",
      "서울 금천구 독산로 201-1 1층\n",
      "주문 유형 3\n",
      "수제돈까스(생등심)+물냉면\n",
      "옛날 수제돈까스(생등심)한 장 ,물냉면1인분\n",
      "리뷰 존재\n",
      "음식이 맛있어요\n",
      "양이 많아요\n",
      "가성비가 좋아요\n",
      "친절해요\n",
      "혼밥하기 좋아요\n",
      "['왕돈까스&왕냉면 독산점'] ...완료\n",
      "[데이터 수집 완료]\n",
      "소요 시간 : 13.49657917022705 \n",
      "\n",
      "90번째 가게\n"
     ]
    },
    {
     "name": "stderr",
     "output_type": "stream",
     "text": [
      "The chromedriver version (128.0.6613.137) detected in PATH at c:\\Users\\kk21\\Desktop\\TRIPER\\chromedriver.exe might not be compatible with the detected chrome version (129.0.6668.101); currently, chromedriver 129.0.6668.100 is recommended for chrome 129.*, so it is advised to delete the driver in PATH and retry\n"
     ]
    },
    {
     "name": "stdout",
     "output_type": "stream",
     "text": [
      "https://map.naver.com/p/search/%EA%B8%88%EC%B2%9C%EA%B5%AC%20%EC%8A%A4%EC%8B%9C%EC%B2%9C/place/491215328?c=15.00,0,0,0,dh&isCorrectAnswer=true\n",
      "결과 한 개\n",
      "\n",
      "[크롤링 시작...]\n",
      "스시천\n",
      "초밥,롤\n",
      "서울 금천구 벚꽃로 298\n",
      "주문 유형 3\n",
      "점심특선\n",
      "메뉴 설명 없음\n",
      "리뷰 존재\n",
      "음식이 맛있어요\n",
      "재료가 신선해요\n",
      "친절해요\n",
      "가성비가 좋아요\n",
      "매장이 청결해요\n",
      "['스시천'] ...완료\n",
      "[데이터 수집 완료]\n",
      "소요 시간 : 13.39818525314331 \n",
      "\n",
      "91번째 가게\n"
     ]
    },
    {
     "name": "stderr",
     "output_type": "stream",
     "text": [
      "The chromedriver version (128.0.6613.137) detected in PATH at c:\\Users\\kk21\\Desktop\\TRIPER\\chromedriver.exe might not be compatible with the detected chrome version (129.0.6668.101); currently, chromedriver 129.0.6668.100 is recommended for chrome 129.*, so it is advised to delete the driver in PATH and retry\n"
     ]
    },
    {
     "name": "stdout",
     "output_type": "stream",
     "text": [
      "https://map.naver.com/p/search/%EA%B8%88%EC%B2%9C%EA%B5%AC%20%EC%9D%B4%ED%99%94%EC%88%9C%EB%8C%80%EA%B5%AD/place/34357394?c=15.00,0,0,0,dh&isCorrectAnswer=true\n",
      "결과 한 개\n",
      "\n",
      "[크롤링 시작...]\n",
      "이화순대국\n",
      "순대,순댓국\n",
      "서울 금천구 시흥대로 237-12 1층\n",
      "주문 유형 3\n",
      "순대국\n",
      "2인분\n",
      "리뷰 존재\n",
      "음식이 맛있어요\n",
      "양이 많아요\n",
      "가성비가 좋아요\n",
      "혼밥하기 좋아요\n",
      "친절해요\n",
      "['이화순대국'] ...완료\n",
      "[데이터 수집 완료]\n",
      "소요 시간 : 13.412977457046509 \n",
      "\n",
      "./out_food_review/out_17_food.csv완료\n",
      "0번째 가게\n"
     ]
    },
    {
     "name": "stderr",
     "output_type": "stream",
     "text": [
      "The chromedriver version (128.0.6613.137) detected in PATH at c:\\Users\\kk21\\Desktop\\TRIPER\\chromedriver.exe might not be compatible with the detected chrome version (129.0.6668.101); currently, chromedriver 129.0.6668.100 is recommended for chrome 129.*, so it is advised to delete the driver in PATH and retry\n"
     ]
    },
    {
     "name": "stdout",
     "output_type": "stream",
     "text": [
      "https://map.naver.com/p/search/%EC%98%81%EB%93%B1%ED%8F%AC%EA%B5%AC%20%EC%98%A8%EB%A6%AC%EC%9B%90%EA%B0%88%EB%B9%84%20%EC%98%81%EB%93%B1%ED%8F%AC%20%EB%B3%B8%EC%A0%90/place/31383625?c=15.00,0,0,0,dh&isCorrectAnswer=true\n",
      "결과 한 개\n",
      "\n",
      "[크롤링 시작...]\n",
      "온리원갈비 영등포 본점\n",
      "육류,고기요리\n",
      "서울 영등포구 영등포로 33 115호\n",
      "주문 유형 3\n",
      "한돈 수제 양념갈비250g\n",
      "키위, 사과, 파인애플 등 생과일로 숙성시켜 부드럽고 감칠맛 나는 갈비\n",
      "리뷰 존재\n",
      "음식이 맛있어요\n",
      "친절해요\n",
      "가성비가 좋아요\n",
      "재료가 신선해요\n",
      "양이 많아요\n",
      "['온리원갈비 영등포 본점'] ...완료\n",
      "[데이터 수집 완료]\n",
      "소요 시간 : 13.411614418029785 \n",
      "\n",
      "1번째 가게\n"
     ]
    },
    {
     "name": "stderr",
     "output_type": "stream",
     "text": [
      "The chromedriver version (128.0.6613.137) detected in PATH at c:\\Users\\kk21\\Desktop\\TRIPER\\chromedriver.exe might not be compatible with the detected chrome version (129.0.6668.101); currently, chromedriver 129.0.6668.100 is recommended for chrome 129.*, so it is advised to delete the driver in PATH and retry\n"
     ]
    },
    {
     "name": "stdout",
     "output_type": "stream",
     "text": [
      "https://map.naver.com/p/search/%EC%98%81%EB%93%B1%ED%8F%AC%EA%B5%AC%20%EC%98%A4%EB%A5%B4%EC%A1%B0%20%EB%A5%B4%EB%B8%8C%ED%85%80%20%EC%97%AC%EC%9D%98%EB%8F%84/place/1328434793?c=15.00,0,0,0,dh&isCorrectAnswer=true\n",
      "결과 한 개\n",
      "\n",
      "[크롤링 시작...]\n",
      "오르조 르브텀 여의도\n",
      "양식\n",
      "서울 영등포구 국제금융로 70 1층 109호\n",
      "주문 유형 3\n",
      "[브런치]에그베네딕트(2P)\n",
      "아보카도 살사와잠봉과 함께 제공되는 에그베네딕트\n",
      "리뷰 존재\n",
      "음식이 맛있어요\n",
      "인테리어가 멋져요\n",
      "특별한 메뉴가 있어요\n",
      "친절해요\n",
      "재료가 신선해요\n",
      "['오르조 르브텀 여의도'] ...완료\n",
      "[데이터 수집 완료]\n",
      "소요 시간 : 13.446892261505127 \n",
      "\n",
      "2번째 가게\n"
     ]
    },
    {
     "name": "stderr",
     "output_type": "stream",
     "text": [
      "The chromedriver version (128.0.6613.137) detected in PATH at c:\\Users\\kk21\\Desktop\\TRIPER\\chromedriver.exe might not be compatible with the detected chrome version (129.0.6668.101); currently, chromedriver 129.0.6668.100 is recommended for chrome 129.*, so it is advised to delete the driver in PATH and retry\n"
     ]
    },
    {
     "name": "stdout",
     "output_type": "stream",
     "text": [
      "https://map.naver.com/p/search/%EC%98%81%EB%93%B1%ED%8F%AC%EA%B5%AC%20%EC%9B%90%ED%95%B4%EC%9E%A5%EA%B5%AD?c=15.00,0,0,0,dh\n",
      "결과 여러 개 존재(지점 또는 근접 지역)\n",
      "\n",
      "[크롤링 시작...]\n",
      "원해장국\n",
      "해장국\n",
      "서울 영등포구 여의대방로65길 10 유니온타워 지하1층 104호\n",
      "주문 유형 3\n",
      "북어국\n",
      "황태가 푸짐하게 들어있어 속이 시원한 국\n",
      "리뷰 존재\n",
      "음식이 맛있어요\n",
      "가성비가 좋아요\n",
      "양이 많아요\n",
      "친절해요\n",
      "재료가 신선해요\n",
      "['원해장국'] ...완료\n",
      "[데이터 수집 완료]\n",
      "소요 시간 : 13.414928674697876 \n",
      "\n",
      "3번째 가게\n"
     ]
    },
    {
     "name": "stderr",
     "output_type": "stream",
     "text": [
      "The chromedriver version (128.0.6613.137) detected in PATH at c:\\Users\\kk21\\Desktop\\TRIPER\\chromedriver.exe might not be compatible with the detected chrome version (129.0.6668.101); currently, chromedriver 129.0.6668.100 is recommended for chrome 129.*, so it is advised to delete the driver in PATH and retry\n"
     ]
    },
    {
     "name": "stdout",
     "output_type": "stream",
     "text": [
      "https://map.naver.com/p/search/%EC%98%81%EB%93%B1%ED%8F%AC%EA%B5%AC%20%EB%8B%A5%ED%84%B0%EB%A1%9C%EB%B9%88%20%ED%8C%8C%ED%81%AC%EC%84%BC%ED%84%B0%EC%A0%90?c=15.00,0,0,0,dh\n",
      "결과 여러 개 존재(지점 또는 근접 지역)\n",
      "\n",
      "[크롤링 시작...]\n",
      "닥터로빈 파크센터점\n",
      "이탈리아음식\n",
      "서울 영등포구 여의대로 8 메리어트파크센터 1층 105호\n",
      "주문 유형 3\n",
      "통단호박크림스프(2~3인용)\n",
      "100% 국내산 콩으로 만든 크림 스프를 통단호박 속에 담아 고소함과 건강함이 가득한 스프\n",
      "리뷰 존재\n",
      "음식이 맛있어요\n",
      "재료가 신선해요\n",
      "친절해요\n",
      "특별한 메뉴가 있어요\n",
      "매장이 청결해요\n",
      "['닥터로빈 파크센터점'] ...완료\n",
      "[데이터 수집 완료]\n",
      "소요 시간 : 13.434847116470337 \n",
      "\n",
      "4번째 가게\n"
     ]
    },
    {
     "name": "stderr",
     "output_type": "stream",
     "text": [
      "The chromedriver version (128.0.6613.137) detected in PATH at c:\\Users\\kk21\\Desktop\\TRIPER\\chromedriver.exe might not be compatible with the detected chrome version (129.0.6668.101); currently, chromedriver 129.0.6668.100 is recommended for chrome 129.*, so it is advised to delete the driver in PATH and retry\n"
     ]
    },
    {
     "name": "stdout",
     "output_type": "stream",
     "text": [
      "https://map.naver.com/p/search/%EC%98%81%EB%93%B1%ED%8F%AC%EA%B5%AC%20%ED%95%AD%EC%A0%95%EC%82%AC%EC%9D%B4/place/1396447933?c=15.00,0,0,0,dh&isCorrectAnswer=true\n",
      "결과 한 개\n",
      "\n",
      "[크롤링 시작...]\n",
      "항정사이\n",
      "육류,고기요리\n",
      "서울 영등포구 영중로4길 13-2 1층일부, 2층전체\n",
      "주문 유형 3\n",
      "시그니처세트(3인분)\n",
      "항정사이살+가브리살+생삼겹살+생목살+된장술밥\n",
      "리뷰 존재\n",
      "음식이 맛있어요\n",
      "고기 질이 좋아요\n",
      "친절해요\n",
      "가성비가 좋아요\n",
      "매장이 청결해요\n",
      "['항정사이'] ...완료\n",
      "[데이터 수집 완료]\n",
      "소요 시간 : 13.475749969482422 \n",
      "\n",
      "5번째 가게\n"
     ]
    },
    {
     "name": "stderr",
     "output_type": "stream",
     "text": [
      "The chromedriver version (128.0.6613.137) detected in PATH at c:\\Users\\kk21\\Desktop\\TRIPER\\chromedriver.exe might not be compatible with the detected chrome version (129.0.6668.101); currently, chromedriver 129.0.6668.100 is recommended for chrome 129.*, so it is advised to delete the driver in PATH and retry\n"
     ]
    },
    {
     "name": "stdout",
     "output_type": "stream",
     "text": [
      "https://map.naver.com/p/search/%EC%98%81%EB%93%B1%ED%8F%AC%EA%B5%AC%20%EA%B0%93%EC%9E%87%20%EB%AC%B8%EB%9E%98%EC%A0%90?c=15.00,0,0,0,dh\n",
      "결과 여러 개 존재(지점 또는 근접 지역)\n",
      "\n",
      "[크롤링 시작...]\n",
      "갓잇 문래점\n",
      "멕시코,남미음식\n",
      "서울 영등포구 경인로77길 14 108호\n",
      "주문 유형 3\n",
      "B세트 파히타 (2인추천)\n",
      "갓파히타, 타코 2pcs, 감자튀김, 또띠아, 갓콰몰리 등으로 구성된 2인 세트 메뉴\n",
      "리뷰 존재\n",
      "음식이 맛있어요\n",
      "인테리어가 멋져요\n",
      "재료가 신선해요\n",
      "친절해요\n",
      "양이 많아요\n",
      "['갓잇 문래점'] ...완료\n",
      "[데이터 수집 완료]\n",
      "소요 시간 : 13.462198734283447 \n",
      "\n",
      "6번째 가게\n"
     ]
    },
    {
     "name": "stderr",
     "output_type": "stream",
     "text": [
      "The chromedriver version (128.0.6613.137) detected in PATH at c:\\Users\\kk21\\Desktop\\TRIPER\\chromedriver.exe might not be compatible with the detected chrome version (129.0.6668.101); currently, chromedriver 129.0.6668.100 is recommended for chrome 129.*, so it is advised to delete the driver in PATH and retry\n"
     ]
    },
    {
     "name": "stdout",
     "output_type": "stream",
     "text": [
      "https://map.naver.com/p/search/%EC%98%81%EB%93%B1%ED%8F%AC%EA%B5%AC%20%EA%B0%88%EB%B9%97/place/1600748627?c=15.00,0,0,0,dh&isCorrectAnswer=true\n",
      "결과 한 개\n",
      "\n",
      "[크롤링 시작...]\n",
      "갈빗\n",
      "육류,고기요리\n",
      "서울 영등포구 도림로125길 14\n",
      "주문 유형 3\n",
      "한우모듬(1,2등급)\n",
      "갈빗살, 등심, 안심, 안창살, 토시살, 치마살 랜덤제공\n",
      "리뷰 존재\n",
      "음식이 맛있어요\n",
      "친절해요\n",
      "가성비가 좋아요\n",
      "재료가 신선해요\n",
      "고기 질이 좋아요\n",
      "['갈빗'] ...완료\n",
      "[데이터 수집 완료]\n",
      "소요 시간 : 13.443751096725464 \n",
      "\n",
      "7번째 가게\n"
     ]
    },
    {
     "name": "stderr",
     "output_type": "stream",
     "text": [
      "The chromedriver version (128.0.6613.137) detected in PATH at c:\\Users\\kk21\\Desktop\\TRIPER\\chromedriver.exe might not be compatible with the detected chrome version (129.0.6668.101); currently, chromedriver 129.0.6668.100 is recommended for chrome 129.*, so it is advised to delete the driver in PATH and retry\n"
     ]
    },
    {
     "name": "stdout",
     "output_type": "stream",
     "text": [
      "https://map.naver.com/p/search/%EC%98%81%EB%93%B1%ED%8F%AC%EA%B5%AC%20%EA%B7%80%EB%B9%84%EC%A3%BC%EC%98%A5/place/1267133340?c=15.00,0,0,0,dh&isCorrectAnswer=true\n",
      "결과 한 개\n",
      "\n",
      "[크롤링 시작...]\n",
      "귀비주옥\n",
      "중식당\n",
      "서울 영등포구 경인로79길 19 1층\n",
      "주문 유형 3\n",
      "짬뽕\n",
      "시원하고 따뜻한 육수와 쫄깃한 면으로 만든 메뉴입니다.\n",
      "리뷰 존재\n",
      "음식이 맛있어요\n",
      "친절해요\n",
      "인테리어가 멋져요\n",
      "매장이 청결해요\n",
      "재료가 신선해요\n",
      "['귀비주옥'] ...완료\n",
      "[데이터 수집 완료]\n",
      "소요 시간 : 13.398188352584839 \n",
      "\n",
      "8번째 가게\n"
     ]
    },
    {
     "name": "stderr",
     "output_type": "stream",
     "text": [
      "The chromedriver version (128.0.6613.137) detected in PATH at c:\\Users\\kk21\\Desktop\\TRIPER\\chromedriver.exe might not be compatible with the detected chrome version (129.0.6668.101); currently, chromedriver 129.0.6668.100 is recommended for chrome 129.*, so it is advised to delete the driver in PATH and retry\n"
     ]
    },
    {
     "name": "stdout",
     "output_type": "stream",
     "text": [
      "https://map.naver.com/p/search/%EC%98%81%EB%93%B1%ED%8F%AC%EA%B5%AC%20%EB%8B%A5%ED%84%B0%EB%A1%9C%EB%B9%88%20%EC%8B%9C%EA%B7%B8%EB%8B%88%EC%B2%98%20%EC%8B%A0%EC%84%B8%EA%B3%84%ED%83%80%EC%9E%84%EC%8A%A4%ED%80%98%EC%96%B4%EC%A0%90?c=15.00,0,0,0,dh\n",
      "결과 여러 개 존재(지점 또는 근접 지역)\n",
      "가게 없음\n",
      "9번째 가게\n"
     ]
    },
    {
     "name": "stderr",
     "output_type": "stream",
     "text": [
      "The chromedriver version (128.0.6613.137) detected in PATH at c:\\Users\\kk21\\Desktop\\TRIPER\\chromedriver.exe might not be compatible with the detected chrome version (129.0.6668.101); currently, chromedriver 129.0.6668.100 is recommended for chrome 129.*, so it is advised to delete the driver in PATH and retry\n"
     ]
    },
    {
     "name": "stdout",
     "output_type": "stream",
     "text": [
      "https://map.naver.com/p/search/%EC%98%81%EB%93%B1%ED%8F%AC%EA%B5%AC%20%EC%A7%84%EC%A7%84%EB%A7%8C%EB%91%90%20%EA%B5%AD%ED%9A%8C%EC%A0%90/place/19896117?c=15.00,0,0,0,dh&isCorrectAnswer=true\n",
      "결과 한 개\n",
      "\n",
      "[크롤링 시작...]\n",
      "진진만두 국회점\n",
      "칼국수,만두\n",
      "서울 영등포구 국회대로72길 11 프린스텔\n",
      "주문 유형 3\n",
      "손만두떡국\n",
      "메뉴 설명 없음\n",
      "리뷰 존재\n",
      "음식이 맛있어요\n",
      "친절해요\n",
      "재료가 신선해요\n",
      "특별한 메뉴가 있어요\n",
      "매장이 청결해요\n",
      "['진진만두 국회점'] ...완료\n",
      "[데이터 수집 완료]\n",
      "소요 시간 : 13.39932894706726 \n",
      "\n",
      "10번째 가게\n"
     ]
    },
    {
     "name": "stderr",
     "output_type": "stream",
     "text": [
      "The chromedriver version (128.0.6613.137) detected in PATH at c:\\Users\\kk21\\Desktop\\TRIPER\\chromedriver.exe might not be compatible with the detected chrome version (129.0.6668.101); currently, chromedriver 129.0.6668.100 is recommended for chrome 129.*, so it is advised to delete the driver in PATH and retry\n"
     ]
    },
    {
     "name": "stdout",
     "output_type": "stream",
     "text": [
      "https://map.naver.com/p/search/%EC%98%81%EB%93%B1%ED%8F%AC%EA%B5%AC%20%EB%8F%88%EB%82%A8%EC%95%84/place/1067168745?c=15.00,0,0,0,dh&isCorrectAnswer=true\n",
      "결과 한 개\n",
      "\n",
      "[크롤링 시작...]\n",
      "돈남아 대패삼겹살\n",
      "육류,고기요리\n",
      "서울 영등포구 경인로78길 4 돈남아\n",
      "주문 유형 3\n",
      "생대패삼겹살\n",
      "생 삼겹살을 0.2mm 얇게 썰어 판매 하는 제품입니다.\n",
      "리뷰 존재\n",
      "음식이 맛있어요\n",
      "인테리어가 멋져요\n",
      "고기 질이 좋아요\n",
      "친절해요\n",
      "가성비가 좋아요\n",
      "['돈남아 대패삼겹살'] ...완료\n",
      "[데이터 수집 완료]\n",
      "소요 시간 : 13.422455787658691 \n",
      "\n",
      "11번째 가게\n"
     ]
    },
    {
     "name": "stderr",
     "output_type": "stream",
     "text": [
      "The chromedriver version (128.0.6613.137) detected in PATH at c:\\Users\\kk21\\Desktop\\TRIPER\\chromedriver.exe might not be compatible with the detected chrome version (129.0.6668.101); currently, chromedriver 129.0.6668.100 is recommended for chrome 129.*, so it is advised to delete the driver in PATH and retry\n"
     ]
    },
    {
     "name": "stdout",
     "output_type": "stream",
     "text": [
      "https://map.naver.com/p/search/%EC%98%81%EB%93%B1%ED%8F%AC%EA%B5%AC%20%EC%86%8C%EB%AA%BD/place/1976429500?c=15.00,0,0,0,dh&isCorrectAnswer=true\n",
      "결과 한 개\n",
      "\n",
      "[크롤링 시작...]\n",
      "소몽 여의도\n",
      "일식당\n",
      "서울 영등포구 여의나루로 113 공작상가 2층 212, 213호\n",
      "주문 유형 3\n",
      "고등어온소바\n",
      "우니가 토핑으로 올라간 소바입니다\n",
      "리뷰 존재\n",
      "음식이 맛있어요\n",
      "재료가 신선해요\n",
      "특별한 메뉴가 있어요\n",
      "친절해요\n",
      "인테리어가 멋져요\n",
      "['소몽 여의도'] ...완료\n",
      "[데이터 수집 완료]\n",
      "소요 시간 : 13.405114650726318 \n",
      "\n",
      "12번째 가게\n"
     ]
    },
    {
     "name": "stderr",
     "output_type": "stream",
     "text": [
      "The chromedriver version (128.0.6613.137) detected in PATH at c:\\Users\\kk21\\Desktop\\TRIPER\\chromedriver.exe might not be compatible with the detected chrome version (129.0.6668.101); currently, chromedriver 129.0.6668.100 is recommended for chrome 129.*, so it is advised to delete the driver in PATH and retry\n"
     ]
    },
    {
     "name": "stdout",
     "output_type": "stream",
     "text": [
      "https://map.naver.com/p/search/%EC%98%81%EB%93%B1%ED%8F%AC%EA%B5%AC%20%EC%9D%B4%EA%B0%80%EB%84%A4%EC%96%91%EA%BC%AC%EC%B9%98%20%EC%97%AC%EC%9D%98%EB%8F%84%EC%A0%90?c=15.00,0,0,0,dh\n",
      "결과 여러 개 존재(지점 또는 근접 지역)\n",
      "\n",
      "[크롤링 시작...]\n",
      "이가네양꼬치 여의도점\n",
      "양꼬치\n",
      "서울 영등포구 여의대방로65길 23 101호\n",
      "주문 유형 3\n",
      "양갈비\n",
      "메뉴 설명 없음\n",
      "리뷰 존재\n",
      "음식이 맛있어요\n",
      "고기 질이 좋아요\n",
      "친절해요\n",
      "매장이 넓어요\n",
      "단체모임 하기 좋아요\n",
      "['이가네양꼬치 여의도점'] ...완료\n",
      "[데이터 수집 완료]\n",
      "소요 시간 : 13.444909811019897 \n",
      "\n",
      "13번째 가게\n"
     ]
    },
    {
     "name": "stderr",
     "output_type": "stream",
     "text": [
      "The chromedriver version (128.0.6613.137) detected in PATH at c:\\Users\\kk21\\Desktop\\TRIPER\\chromedriver.exe might not be compatible with the detected chrome version (129.0.6668.101); currently, chromedriver 129.0.6668.100 is recommended for chrome 129.*, so it is advised to delete the driver in PATH and retry\n"
     ]
    },
    {
     "name": "stdout",
     "output_type": "stream",
     "text": [
      "https://map.naver.com/p/search/%EC%98%81%EB%93%B1%ED%8F%AC%EA%B5%AC%20%EB%8C%80%EC%84%B8%EB%B0%95%EB%AA%A9%EC%82%B4%20%EB%B3%B8%EC%A0%90/place/1450540247?c=15.00,0,0,0,dh&isCorrectAnswer=true\n",
      "결과 한 개\n",
      "\n",
      "[크롤링 시작...]\n",
      "대세박목살 본점\n",
      "돼지고기구이\n",
      "서울 영등포구 영등포로50길 9 1층\n",
      "주문 유형 3\n",
      "숙성박목살 소(450g)\n",
      "대세 박목살만의 특별한 숙성비법으로 맛있게 준비된 부드러운 숙성박목살 小자\n",
      "리뷰 존재\n",
      "음식이 맛있어요\n",
      "고기 질이 좋아요\n",
      "특별한 메뉴가 있어요\n",
      "친절해요\n",
      "양이 많아요\n",
      "['대세박목살 본점'] ...완료\n",
      "[데이터 수집 완료]\n",
      "소요 시간 : 13.419370889663696 \n",
      "\n",
      "14번째 가게\n"
     ]
    },
    {
     "name": "stderr",
     "output_type": "stream",
     "text": [
      "The chromedriver version (128.0.6613.137) detected in PATH at c:\\Users\\kk21\\Desktop\\TRIPER\\chromedriver.exe might not be compatible with the detected chrome version (129.0.6668.101); currently, chromedriver 129.0.6668.100 is recommended for chrome 129.*, so it is advised to delete the driver in PATH and retry\n"
     ]
    },
    {
     "name": "stdout",
     "output_type": "stream",
     "text": [
      "https://map.naver.com/p/search/%EC%98%81%EB%93%B1%ED%8F%AC%EA%B5%AC%20%EC%A0%9C%EC%9D%B4%EB%A0%98333/place/35927790?isCorrectAnswer=true&c=15.00,0,0,0,dh\n",
      "결과 한 개\n",
      "\n",
      "[크롤링 시작...]\n",
      "제이렘333\n",
      "이탈리아음식\n",
      "서울 영등포구 여의동로 97 대우트럼프월드2차 상가 A동 104호\n",
      "주문 유형 3\n",
      "119바운스크림파스타\n",
      "베이컨 새우 양송이버섯 들어간 매콤한 크림 파스타\n",
      "리뷰 존재\n",
      "음식이 맛있어요\n",
      "양이 많아요\n",
      "재료가 신선해요\n",
      "친절해요\n",
      "특별한 메뉴가 있어요\n",
      "['제이렘333'] ...완료\n",
      "[데이터 수집 완료]\n",
      "소요 시간 : 13.452653884887695 \n",
      "\n",
      "15번째 가게\n"
     ]
    },
    {
     "name": "stderr",
     "output_type": "stream",
     "text": [
      "The chromedriver version (128.0.6613.137) detected in PATH at c:\\Users\\kk21\\Desktop\\TRIPER\\chromedriver.exe might not be compatible with the detected chrome version (129.0.6668.101); currently, chromedriver 129.0.6668.100 is recommended for chrome 129.*, so it is advised to delete the driver in PATH and retry\n"
     ]
    },
    {
     "name": "stdout",
     "output_type": "stream",
     "text": [
      "https://map.naver.com/p/search/%EC%98%81%EB%93%B1%ED%8F%AC%EA%B5%AC%20%EA%B3%84%EC%98%A5%EC%A0%95/place/1297928048?c=15.00,0,0,0,dh&isCorrectAnswer=true\n",
      "결과 한 개\n",
      "\n",
      "[크롤링 시작...]\n",
      "계옥정\n",
      "육류,고기요리\n",
      "서울 영등포구 경인로79길 17-2 1층\n",
      "주문 유형 3\n",
      "소금+양념 (반반) 小\n",
      "닭다리살(소금), 가슴연골 (양념), 안심, 근위, 염통\n",
      "리뷰 존재\n",
      "음식이 맛있어요\n",
      "인테리어가 멋져요\n",
      "친절해요\n",
      "특별한 메뉴가 있어요\n",
      "매장이 청결해요\n",
      "['계옥정'] ...완료\n",
      "[데이터 수집 완료]\n",
      "소요 시간 : 13.422967433929443 \n",
      "\n",
      "16번째 가게\n"
     ]
    },
    {
     "name": "stderr",
     "output_type": "stream",
     "text": [
      "The chromedriver version (128.0.6613.137) detected in PATH at c:\\Users\\kk21\\Desktop\\TRIPER\\chromedriver.exe might not be compatible with the detected chrome version (129.0.6668.101); currently, chromedriver 129.0.6668.100 is recommended for chrome 129.*, so it is advised to delete the driver in PATH and retry\n"
     ]
    },
    {
     "name": "stdout",
     "output_type": "stream",
     "text": [
      "https://map.naver.com/p/search/%EC%98%81%EB%93%B1%ED%8F%AC%EA%B5%AC%20%EC%BD%98%ED%83%80%EC%9D%B4%20%ED%83%80%EC%9E%84%EC%8A%A4%ED%80%98%EC%96%B4%EC%A0%90?c=15.00,0,0,0,dh\n",
      "결과 여러 개 존재(지점 또는 근접 지역)\n",
      "\n",
      "[크롤링 시작...]\n",
      "콘타이 타임스퀘어점\n",
      "태국음식\n",
      "서울 영등포구 영중로 15 지하1층 T4호\n",
      "주문 유형 3\n",
      "랭쌥\n",
      "돼지등뼈짐\n",
      "리뷰 존재\n",
      "음식이 맛있어요\n",
      "재료가 신선해요\n",
      "현지 맛에 가까워요\n",
      "양이 많아요\n",
      "매장이 넓어요\n",
      "['콘타이 타임스퀘어점'] ...완료\n",
      "[데이터 수집 완료]\n",
      "소요 시간 : 13.439382314682007 \n",
      "\n",
      "17번째 가게\n"
     ]
    },
    {
     "name": "stderr",
     "output_type": "stream",
     "text": [
      "The chromedriver version (128.0.6613.137) detected in PATH at c:\\Users\\kk21\\Desktop\\TRIPER\\chromedriver.exe might not be compatible with the detected chrome version (129.0.6668.101); currently, chromedriver 129.0.6668.100 is recommended for chrome 129.*, so it is advised to delete the driver in PATH and retry\n"
     ]
    },
    {
     "name": "stdout",
     "output_type": "stream",
     "text": [
      "https://map.naver.com/p/search/%EC%98%81%EB%93%B1%ED%8F%AC%EA%B5%AC%20%EA%B3%B1%20%EB%AC%B8%EB%9E%98%EB%B3%B8%EC%A0%90/place/13177027?c=15.00,0,0,0,dh&isCorrectAnswer=true\n",
      "결과 한 개\n",
      "\n",
      "[크롤링 시작...]\n",
      "곱 문래본점\n",
      "곱창,막창,양\n",
      "서울 영등포구 당산로 34 1층 118호\n",
      "주문 유형 3\n",
      "대표 메뉴 없음\n",
      "메뉴 설명 없음\n",
      "오류 예외 처리\n",
      "18번째 가게\n"
     ]
    },
    {
     "name": "stderr",
     "output_type": "stream",
     "text": [
      "The chromedriver version (128.0.6613.137) detected in PATH at c:\\Users\\kk21\\Desktop\\TRIPER\\chromedriver.exe might not be compatible with the detected chrome version (129.0.6668.101); currently, chromedriver 129.0.6668.100 is recommended for chrome 129.*, so it is advised to delete the driver in PATH and retry\n"
     ]
    },
    {
     "name": "stdout",
     "output_type": "stream",
     "text": [
      "https://map.naver.com/p/search/%EC%98%81%EB%93%B1%ED%8F%AC%EA%B5%AC%20%EB%AF%B8%EB%8F%84%EC%9D%B8%20%ED%8C%8C%EC%9D%B4%EB%82%B8%EC%8A%A4%EC%97%AC%EC%9D%98%EB%8F%84/place/1891132344?c=15.00,0,0,0,dh&isCorrectAnswer=true\n",
      "결과 한 개\n",
      "\n",
      "[크롤링 시작...]\n",
      "미도인 파이낸스여의도\n",
      "양식\n",
      "서울 영등포구 국제금융로2길 32 파이낸스타워 2층 202, 203호\n",
      "주문 유형 3\n",
      "400스테이크덮밥\n",
      "400g이나 한 그릇에 담아 미도인을 일찍 찾아주신 일곱분에게 정성껏 만들어 보답하겠습니다\n",
      "리뷰 존재\n",
      "음식이 맛있어요\n",
      "친절해요\n",
      "인테리어가 멋져요\n",
      "매장이 청결해요\n",
      "재료가 신선해요\n",
      "['미도인 파이낸스여의도'] ...완료\n",
      "[데이터 수집 완료]\n",
      "소요 시간 : 13.43665361404419 \n",
      "\n",
      "19번째 가게\n"
     ]
    },
    {
     "name": "stderr",
     "output_type": "stream",
     "text": [
      "The chromedriver version (128.0.6613.137) detected in PATH at c:\\Users\\kk21\\Desktop\\TRIPER\\chromedriver.exe might not be compatible with the detected chrome version (129.0.6668.101); currently, chromedriver 129.0.6668.100 is recommended for chrome 129.*, so it is advised to delete the driver in PATH and retry\n"
     ]
    },
    {
     "name": "stdout",
     "output_type": "stream",
     "text": [
      "https://map.naver.com/p/search/%EC%98%81%EB%93%B1%ED%8F%AC%EA%B5%AC%20%EB%85%B9%EB%8F%BC%EC%95%BC%EC%A7%80%20%EC%98%81%EB%93%B1%ED%8F%AC%EC%A0%90?c=15.00,0,0,0,dh\n",
      "결과 여러 개 존재(지점 또는 근접 지역)\n",
      "가게 없음\n",
      "20번째 가게\n"
     ]
    },
    {
     "name": "stderr",
     "output_type": "stream",
     "text": [
      "The chromedriver version (128.0.6613.137) detected in PATH at c:\\Users\\kk21\\Desktop\\TRIPER\\chromedriver.exe might not be compatible with the detected chrome version (129.0.6668.101); currently, chromedriver 129.0.6668.100 is recommended for chrome 129.*, so it is advised to delete the driver in PATH and retry\n"
     ]
    },
    {
     "name": "stdout",
     "output_type": "stream",
     "text": [
      "https://map.naver.com/p/search/%EC%98%81%EB%93%B1%ED%8F%AC%EA%B5%AC%20%EC%B0%A8%EC%95%8C%20%EC%97%AC%EC%9D%98%EB%8F%84%20IFC%EB%AA%B0%EC%A0%90?c=15.00,0,0,0,dh\n",
      "결과 여러 개 존재(지점 또는 근접 지역)\n",
      "\n",
      "[크롤링 시작...]\n",
      "차알 여의도 IFC몰점\n",
      "중식당\n",
      "서울 영등포구 국제금융로 10 IFC몰 L3층\n",
      "주문 유형 3\n",
      "차알 마라탕면\n",
      "차알만의 시그니처 마라탕면\n",
      "['차알 여의도 IFC몰점'] ...완료\n",
      "[데이터 수집 완료]\n",
      "소요 시간 : 13.382453203201294 \n",
      "\n",
      "21번째 가게\n"
     ]
    },
    {
     "name": "stderr",
     "output_type": "stream",
     "text": [
      "The chromedriver version (128.0.6613.137) detected in PATH at c:\\Users\\kk21\\Desktop\\TRIPER\\chromedriver.exe might not be compatible with the detected chrome version (129.0.6668.101); currently, chromedriver 129.0.6668.100 is recommended for chrome 129.*, so it is advised to delete the driver in PATH and retry\n"
     ]
    },
    {
     "name": "stdout",
     "output_type": "stream",
     "text": [
      "https://map.naver.com/p/search/%EC%98%81%EB%93%B1%ED%8F%AC%EA%B5%AC%20%EC%9E%A0%EC%88%98%EA%B5%90%EC%A7%91%20%EB%AC%B8%EB%9E%98%20%EC%A7%81%EC%98%81%EC%A0%90?c=15.00,0,0,0,dh\n",
      "결과 여러 개 존재(지점 또는 근접 지역)\n",
      "\n",
      "[크롤링 시작...]\n",
      "잠수교집 문래 직영점\n",
      "돼지고기구이\n",
      "서울 영등포구 도림로 428-1 2층\n",
      "주문 유형 3\n",
      "급랭삼겹살 1인분(160g)\n",
      "계란후라이1개포함\n",
      "리뷰 존재\n",
      "음식이 맛있어요\n",
      "친절해요\n",
      "특별한 메뉴가 있어요\n",
      "고기 질이 좋아요\n",
      "재료가 신선해요\n",
      "['잠수교집 문래 직영점'] ...완료\n",
      "[데이터 수집 완료]\n",
      "소요 시간 : 13.41718864440918 \n",
      "\n",
      "22번째 가게\n"
     ]
    },
    {
     "name": "stderr",
     "output_type": "stream",
     "text": [
      "The chromedriver version (128.0.6613.137) detected in PATH at c:\\Users\\kk21\\Desktop\\TRIPER\\chromedriver.exe might not be compatible with the detected chrome version (129.0.6668.101); currently, chromedriver 129.0.6668.100 is recommended for chrome 129.*, so it is advised to delete the driver in PATH and retry\n"
     ]
    },
    {
     "name": "stdout",
     "output_type": "stream",
     "text": [
      "https://map.naver.com/p/search/%EC%98%81%EB%93%B1%ED%8F%AC%EA%B5%AC%20%EC%84%A0%EC%9C%A0%EC%88%98%EC%A0%9C%EB%A7%A5%EC%A3%BC/place/19010354?c=15.00,0,0,0,dh&isCorrectAnswer=true\n",
      "결과 한 개\n",
      "\n",
      "[크롤링 시작...]\n",
      "선유수제맥주\n",
      "맥주,호프\n",
      "서울 영등포구 양평로 126\n",
      "주문 유형 3\n",
      "피자메뉴(홀 메뉴)\n",
      "피자메뉴는 저희가게 대표 메뉴입니다.\n",
      "리뷰 존재\n",
      "음식이 맛있어요\n",
      "술이 다양해요\n",
      "단체모임 하기 좋아요\n",
      "친절해요\n",
      "매장이 넓어요\n",
      "['선유수제맥주'] ...완료\n",
      "[데이터 수집 완료]\n",
      "소요 시간 : 13.411890983581543 \n",
      "\n",
      "23번째 가게\n"
     ]
    },
    {
     "name": "stderr",
     "output_type": "stream",
     "text": [
      "The chromedriver version (128.0.6613.137) detected in PATH at c:\\Users\\kk21\\Desktop\\TRIPER\\chromedriver.exe might not be compatible with the detected chrome version (129.0.6668.101); currently, chromedriver 129.0.6668.100 is recommended for chrome 129.*, so it is advised to delete the driver in PATH and retry\n"
     ]
    },
    {
     "name": "stdout",
     "output_type": "stream",
     "text": [
      "https://map.naver.com/p/search/%EC%98%81%EB%93%B1%ED%8F%AC%EA%B5%AC%20%EC%A7%80%EC%A6%90%20%ED%95%9C%EC%9A%B0%EC%98%A4%EB%A7%88%EC%B9%B4%EC%84%B8%20%EC%84%A0%EC%9C%A0%EB%8F%84%EC%97%AD%EC%A0%90?c=15.00,0,0,0,dh\n",
      "결과 여러 개 존재(지점 또는 근접 지역)\n",
      "\n",
      "[크롤링 시작...]\n",
      "지즐 한우오마카세 선유도역점\n",
      "소고기구이\n",
      "서울 영등포구 양평로 133 7층\n",
      "주문 유형 3\n",
      "한우1++ 등심 코스\n",
      "메뉴 설명 없음\n",
      "리뷰 존재\n",
      "음식이 맛있어요\n",
      "고기 질이 좋아요\n",
      "인테리어가 멋져요\n",
      "친절해요\n",
      "매장이 청결해요\n",
      "['지즐 한우오마카세 선유도역점'] ...완료\n",
      "[데이터 수집 완료]\n",
      "소요 시간 : 13.441195964813232 \n",
      "\n",
      "24번째 가게\n"
     ]
    },
    {
     "name": "stderr",
     "output_type": "stream",
     "text": [
      "The chromedriver version (128.0.6613.137) detected in PATH at c:\\Users\\kk21\\Desktop\\TRIPER\\chromedriver.exe might not be compatible with the detected chrome version (129.0.6668.101); currently, chromedriver 129.0.6668.100 is recommended for chrome 129.*, so it is advised to delete the driver in PATH and retry\n"
     ]
    },
    {
     "name": "stdout",
     "output_type": "stream",
     "text": [
      "https://map.naver.com/p/search/%EC%98%81%EB%93%B1%ED%8F%AC%EA%B5%AC%20%EB%8B%B9%EC%82%B0%EC%98%A4%EB%8F%8C%20%EB%B3%B8%EC%A0%90?c=15.00,0,0,0,dh\n",
      "결과 여러 개 존재(지점 또는 근접 지역)\n",
      "\n",
      "[크롤링 시작...]\n",
      "당산오돌 본점\n",
      "육류,고기요리\n",
      "서울 영등포구 국회대로37길 6 1층\n",
      "주문 유형 3\n",
      "원조 꼬들살\n",
      "수요미식회 등 여러방송에 소개된 국내최초 원조꼬들살 꼬들살 품질에 따라 가격이 다릅니다.\n",
      "리뷰 존재\n",
      "음식이 맛있어요\n",
      "고기 질이 좋아요\n",
      "특별한 메뉴가 있어요\n",
      "친절해요\n",
      "단체모임 하기 좋아요\n",
      "['당산오돌 본점'] ...완료\n",
      "[데이터 수집 완료]\n",
      "소요 시간 : 13.503657579421997 \n",
      "\n",
      "25번째 가게\n"
     ]
    },
    {
     "name": "stderr",
     "output_type": "stream",
     "text": [
      "The chromedriver version (128.0.6613.137) detected in PATH at c:\\Users\\kk21\\Desktop\\TRIPER\\chromedriver.exe might not be compatible with the detected chrome version (129.0.6668.101); currently, chromedriver 129.0.6668.100 is recommended for chrome 129.*, so it is advised to delete the driver in PATH and retry\n"
     ]
    },
    {
     "name": "stdout",
     "output_type": "stream",
     "text": [
      "https://map.naver.com/p/search/%EC%98%81%EB%93%B1%ED%8F%AC%EA%B5%AC%20%EC%98%A4%EC%8B%9C%EC%9D%B5%EC%8A%A4%ED%94%84%EB%A0%88%EC%8A%A4%20%EB%8D%94%ED%98%84%EB%8C%80%EC%84%9C%EC%9A%B8%EC%A0%90/place/1720118394?isCorrectAnswer=true&c=15.00,0,0,0,dh\n",
      "결과 한 개\n",
      "\n",
      "[크롤링 시작...]\n",
      "오시익스프레스 더현대서울점\n",
      "일식당\n",
      "서울 영등포구 여의대로 108 B1층 오시익스프레스\n",
      "주문 유형 3\n",
      "Set A\n",
      "저렴한 가격으로 두명이서! 소보로 야끼소바 빵(택2) + 음료수(택1)\n",
      "리뷰 존재\n",
      "음식이 맛있어요\n",
      "재료가 신선해요\n",
      "특별한 메뉴가 있어요\n",
      "친절해요\n",
      "양이 많아요\n",
      "['오시익스프레스 더현대서울점'] ...완료\n",
      "[데이터 수집 완료]\n",
      "소요 시간 : 13.447091102600098 \n",
      "\n",
      "26번째 가게\n"
     ]
    },
    {
     "name": "stderr",
     "output_type": "stream",
     "text": [
      "The chromedriver version (128.0.6613.137) detected in PATH at c:\\Users\\kk21\\Desktop\\TRIPER\\chromedriver.exe might not be compatible with the detected chrome version (129.0.6668.101); currently, chromedriver 129.0.6668.100 is recommended for chrome 129.*, so it is advised to delete the driver in PATH and retry\n"
     ]
    },
    {
     "name": "stdout",
     "output_type": "stream",
     "text": [
      "https://map.naver.com/p/search/%EC%98%81%EB%93%B1%ED%8F%AC%EA%B5%AC%20%EB%98%90%EC%88%9C%EC%9D%B4%EB%84%A4%EC%A7%91?c=15.00,0,0,0,dh\n",
      "결과 여러 개 존재(지점 또는 근접 지역)\n",
      "\n",
      "[크롤링 시작...]\n",
      "또순이네집\n",
      "소고기구이\n",
      "서울 영등포구 선유로47길 16 오오1004빌딩\n",
      "주문 유형 3\n",
      "토시살\n",
      "메뉴 설명 없음\n",
      "리뷰 존재\n",
      "음식이 맛있어요\n",
      "가성비가 좋아요\n",
      "매장이 넓어요\n",
      "특별한 메뉴가 있어요\n",
      "양이 많아요\n",
      "['또순이네집'] ...완료\n",
      "[데이터 수집 완료]\n",
      "소요 시간 : 13.442215919494629 \n",
      "\n",
      "27번째 가게\n"
     ]
    },
    {
     "name": "stderr",
     "output_type": "stream",
     "text": [
      "The chromedriver version (128.0.6613.137) detected in PATH at c:\\Users\\kk21\\Desktop\\TRIPER\\chromedriver.exe might not be compatible with the detected chrome version (129.0.6668.101); currently, chromedriver 129.0.6668.100 is recommended for chrome 129.*, so it is advised to delete the driver in PATH and retry\n"
     ]
    },
    {
     "name": "stdout",
     "output_type": "stream",
     "text": [
      "https://map.naver.com/p/search/%EC%98%81%EB%93%B1%ED%8F%AC%EA%B5%AC%20%EC%B2%AD%EA%B8%B0%EC%99%80%ED%83%80%EC%9A%B4%20%EC%98%81%EB%93%B1%ED%8F%AC%EB%B3%B8%EC%A0%90?c=15.00,0,0,0,dh\n",
      "결과 여러 개 존재(지점 또는 근접 지역)\n",
      "\n",
      "[크롤링 시작...]\n",
      "청기와타운 영등포본점\n",
      "육류,고기요리\n",
      "서울 영등포구 영중로10길 32-4\n",
      "주문 유형 3\n",
      "수원왕갈비\n",
      "리뉴얼된 청기와타운 시그니처 메뉴! (3인분씩 주문 가능)\n",
      "리뷰 존재\n",
      "음식이 맛있어요\n",
      "친절해요\n",
      "매장이 청결해요\n",
      "고기 질이 좋아요\n",
      "특별한 메뉴가 있어요\n",
      "['청기와타운 영등포본점'] ...완료\n",
      "[데이터 수집 완료]\n",
      "소요 시간 : 13.41510009765625 \n",
      "\n",
      "28번째 가게\n"
     ]
    },
    {
     "name": "stderr",
     "output_type": "stream",
     "text": [
      "The chromedriver version (128.0.6613.137) detected in PATH at c:\\Users\\kk21\\Desktop\\TRIPER\\chromedriver.exe might not be compatible with the detected chrome version (129.0.6668.101); currently, chromedriver 129.0.6668.100 is recommended for chrome 129.*, so it is advised to delete the driver in PATH and retry\n"
     ]
    },
    {
     "name": "stdout",
     "output_type": "stream",
     "text": [
      "https://map.naver.com/p/search/%EC%98%81%EB%93%B1%ED%8F%AC%EA%B5%AC%20%EC%A7%84%EC%A3%BC%EC%A7%91?c=15.00,0,0,0,dh\n",
      "결과 여러 개 존재(지점 또는 근접 지역)\n",
      "\n",
      "[크롤링 시작...]\n",
      "진주집\n",
      "국수\n",
      "서울 영등포구 국제금융로6길 33 지하 1층\n",
      "주문 유형 3\n",
      "냉콩국수\n",
      "메뉴 설명 없음\n",
      "리뷰 존재\n",
      "음식이 맛있어요\n",
      "양이 많아요\n",
      "매장이 넓어요\n",
      "특별한 메뉴가 있어요\n",
      "재료가 신선해요\n",
      "['진주집'] ...완료\n",
      "[데이터 수집 완료]\n",
      "소요 시간 : 13.369757652282715 \n",
      "\n",
      "29번째 가게\n"
     ]
    },
    {
     "name": "stderr",
     "output_type": "stream",
     "text": [
      "The chromedriver version (128.0.6613.137) detected in PATH at c:\\Users\\kk21\\Desktop\\TRIPER\\chromedriver.exe might not be compatible with the detected chrome version (129.0.6668.101); currently, chromedriver 129.0.6668.100 is recommended for chrome 129.*, so it is advised to delete the driver in PATH and retry\n"
     ]
    },
    {
     "name": "stdout",
     "output_type": "stream",
     "text": [
      "https://map.naver.com/p/search/%EC%98%81%EB%93%B1%ED%8F%AC%EA%B5%AC%20%EC%97%B0%ED%83%84%EB%B6%88?c=15.00,0,0,0,dh\n",
      "결과 여러 개 존재(지점 또는 근접 지역)\n",
      "\n",
      "[크롤링 시작...]\n",
      "연탄불\n",
      "육류,고기요리\n",
      "서울 영등포구 양산로17길 17 연탄불\n",
      "주문 유형 3\n",
      "1등 돼지갈비(국내산1인분 300g)\n",
      "21가지 특제양념의 48시간 전통숙성 돼지갈비 ( 포장시 400g)\n",
      "리뷰 존재\n",
      "음식이 맛있어요\n",
      "고기 질이 좋아요\n",
      "친절해요\n",
      "양이 많아요\n",
      "매장이 넓어요\n",
      "['연탄불'] ...완료\n",
      "[데이터 수집 완료]\n",
      "소요 시간 : 13.441438674926758 \n",
      "\n",
      "30번째 가게\n"
     ]
    },
    {
     "name": "stderr",
     "output_type": "stream",
     "text": [
      "The chromedriver version (128.0.6613.137) detected in PATH at c:\\Users\\kk21\\Desktop\\TRIPER\\chromedriver.exe might not be compatible with the detected chrome version (129.0.6668.101); currently, chromedriver 129.0.6668.100 is recommended for chrome 129.*, so it is advised to delete the driver in PATH and retry\n"
     ]
    },
    {
     "name": "stdout",
     "output_type": "stream",
     "text": [
      "https://map.naver.com/p/search/%EC%98%81%EB%93%B1%ED%8F%AC%EA%B5%AC%20%EB%8F%99%EA%B2%BD%ED%99%94%EB%A1%9C%20%EB%AC%B8%EB%9E%98%EC%A0%90/place/1004530551?c=15.00,0,0,0,dh&isCorrectAnswer=true\n",
      "결과 한 개\n",
      "\n",
      "[크롤링 시작...]\n",
      "동경화로 문래점\n",
      "소고기구이\n",
      "서울 영등포구 당산로 34 108호\n",
      "주문 유형 3\n",
      "특수부위세트\n",
      "새우살,토시살,꽃살치살,안심추리,이겹등심 당일 가장 신선한 부위 세가지 제공/ 400 g 한우 중에서 극히 소량만 나오는 부위 중 가장 맛있는 동경화로의 시그니처 메뉴\n",
      "리뷰 존재\n",
      "음식이 맛있어요\n",
      "친절해요\n",
      "인테리어가 멋져요\n",
      "재료가 신선해요\n",
      "고기 질이 좋아요\n",
      "['동경화로 문래점'] ...완료\n",
      "[데이터 수집 완료]\n",
      "소요 시간 : 13.500875234603882 \n",
      "\n",
      "31번째 가게\n"
     ]
    },
    {
     "name": "stderr",
     "output_type": "stream",
     "text": [
      "The chromedriver version (128.0.6613.137) detected in PATH at c:\\Users\\kk21\\Desktop\\TRIPER\\chromedriver.exe might not be compatible with the detected chrome version (129.0.6668.101); currently, chromedriver 129.0.6668.100 is recommended for chrome 129.*, so it is advised to delete the driver in PATH and retry\n"
     ]
    },
    {
     "name": "stdout",
     "output_type": "stream",
     "text": [
      "https://map.naver.com/p/search/%EC%98%81%EB%93%B1%ED%8F%AC%EA%B5%AC%20%EC%9D%84%EC%A7%80%EB%8B%A4%EB%9D%BD%20%EC%97%AC%EC%9D%98%EB%8F%84?c=15.00,0,0,0,dh\n",
      "결과 여러 개 존재(지점 또는 근접 지역)\n",
      "\n",
      "[크롤링 시작...]\n",
      "을지다락 여의도\n",
      "양식\n",
      "서울 영등포구 여의나루로 50 지하1층 11호\n",
      "주문 유형 3\n",
      "대표 메뉴 없음\n",
      "메뉴 설명 없음\n",
      "오류 예외 처리\n",
      "32번째 가게\n"
     ]
    },
    {
     "name": "stderr",
     "output_type": "stream",
     "text": [
      "The chromedriver version (128.0.6613.137) detected in PATH at c:\\Users\\kk21\\Desktop\\TRIPER\\chromedriver.exe might not be compatible with the detected chrome version (129.0.6668.101); currently, chromedriver 129.0.6668.100 is recommended for chrome 129.*, so it is advised to delete the driver in PATH and retry\n"
     ]
    },
    {
     "name": "stdout",
     "output_type": "stream",
     "text": [
      "https://map.naver.com/p/search/%EC%98%81%EB%93%B1%ED%8F%AC%EA%B5%AC%20%ED%99%94%EB%AA%A9%EC%88%9C%EB%8C%80%EA%B5%AD/place/11725872?c=15.00,0,0,0,dh&isCorrectAnswer=true\n",
      "결과 한 개\n",
      "\n",
      "[크롤링 시작...]\n",
      "화목순대국\n",
      "순대,순댓국\n",
      "서울 영등포구 여의대방로 383 1F (경도상가 1층)\n",
      "주문 유형 3\n",
      "안주류 특\n",
      "메뉴 설명 없음\n",
      "리뷰 존재\n",
      "음식이 맛있어요\n",
      "양이 많아요\n",
      "특별한 메뉴가 있어요\n",
      "혼밥하기 좋아요\n",
      "친절해요\n",
      "['화목순대국'] ...완료\n",
      "[데이터 수집 완료]\n",
      "소요 시간 : 13.396926164627075 \n",
      "\n",
      "33번째 가게\n"
     ]
    },
    {
     "name": "stderr",
     "output_type": "stream",
     "text": [
      "The chromedriver version (128.0.6613.137) detected in PATH at c:\\Users\\kk21\\Desktop\\TRIPER\\chromedriver.exe might not be compatible with the detected chrome version (129.0.6668.101); currently, chromedriver 129.0.6668.100 is recommended for chrome 129.*, so it is advised to delete the driver in PATH and retry\n"
     ]
    },
    {
     "name": "stdout",
     "output_type": "stream",
     "text": [
      "https://map.naver.com/p/search/%EC%98%81%EB%93%B1%ED%8F%AC%EA%B5%AC%20%EC%9B%94%ED%99%94%EA%B3%A0%EA%B8%B0%20%EB%AC%B8%EB%9E%98%EC%A0%90?c=15.00,0,0,0,dh\n",
      "결과 여러 개 존재(지점 또는 근접 지역)\n",
      "\n",
      "[크롤링 시작...]\n",
      "월화고기 문래점\n",
      "육류,고기요리\n",
      "서울 영등포구 당산로 34\n",
      "주문 유형 3\n",
      "동물복지 목살\n",
      "친환경 동물복지인증 농가에서 키워 항생제를 투여하지 않고 자연 향변성으로 자란 친환경 돈육\n",
      "리뷰 존재\n",
      "음식이 맛있어요\n",
      "고기 질이 좋아요\n",
      "친절해요\n",
      "직접 잘 구워줘요\n",
      "재료가 신선해요\n",
      "['월화고기 문래점'] ...완료\n",
      "[데이터 수집 완료]\n",
      "소요 시간 : 13.446070909500122 \n",
      "\n",
      "34번째 가게\n"
     ]
    },
    {
     "name": "stderr",
     "output_type": "stream",
     "text": [
      "The chromedriver version (128.0.6613.137) detected in PATH at c:\\Users\\kk21\\Desktop\\TRIPER\\chromedriver.exe might not be compatible with the detected chrome version (129.0.6668.101); currently, chromedriver 129.0.6668.100 is recommended for chrome 129.*, so it is advised to delete the driver in PATH and retry\n"
     ]
    },
    {
     "name": "stdout",
     "output_type": "stream",
     "text": [
      "https://map.naver.com/p/search/%EC%98%81%EB%93%B1%ED%8F%AC%EA%B5%AC%20%EB%A5%B4%ED%8F%AC%EB%A5%B4%ED%85%8C/place/1312196992?c=15.00,0,0,0,dh&isCorrectAnswer=true\n",
      "결과 한 개\n",
      "\n",
      "[크롤링 시작...]\n",
      "르포르테\n",
      "양식\n",
      "서울 영등포구 양평로 68 DN빌딩 12층\n",
      "주문 유형 3\n",
      "마르게리타 피자\n",
      "모짜렐라 치즈, 바질, 토마토 페이스트 소스가 어우러진 디트로이트 스타일 피자\n",
      "리뷰 존재\n",
      "뷰가 좋아요\n",
      "음식이 맛있어요\n",
      "인테리어가 멋져요\n",
      "특별한 날 가기 좋아요\n",
      "친절해요\n",
      "['르포르테'] ...완료\n",
      "[데이터 수집 완료]\n",
      "소요 시간 : 13.434161901473999 \n",
      "\n",
      "35번째 가게\n"
     ]
    },
    {
     "name": "stderr",
     "output_type": "stream",
     "text": [
      "The chromedriver version (128.0.6613.137) detected in PATH at c:\\Users\\kk21\\Desktop\\TRIPER\\chromedriver.exe might not be compatible with the detected chrome version (129.0.6668.101); currently, chromedriver 129.0.6668.100 is recommended for chrome 129.*, so it is advised to delete the driver in PATH and retry\n"
     ]
    },
    {
     "name": "stdout",
     "output_type": "stream",
     "text": [
      "https://map.naver.com/p/search/%EC%98%81%EB%93%B1%ED%8F%AC%EA%B5%AC%20%EC%84%B8%EA%B4%91%EC%96%91%EB%8C%80%EC%B0%BD%20%EC%98%81%EB%93%B1%ED%8F%AC%EC%A0%90?c=15.00,0,0,0,dh\n",
      "결과 여러 개 존재(지점 또는 근접 지역)\n",
      "\n",
      "[크롤링 시작...]\n",
      "세광양대창 영등포점\n",
      "곱창,막창,양\n",
      "서울 영등포구 영중로4길 8\n",
      "주문 유형 3\n",
      "모듬구이(소갈비살+대창+막창+특양)\n",
      "시그니쳐 메뉴인 마늘소갈비살,대창,막창,특양을 한번에 즐길수있는 모듬구이\n",
      "리뷰 존재\n",
      "음식이 맛있어요\n",
      "친절해요\n",
      "고기 질이 좋아요\n",
      "직접 잘 구워줘요\n",
      "특별한 메뉴가 있어요\n",
      "['세광양대창 영등포점'] ...완료\n",
      "[데이터 수집 완료]\n",
      "소요 시간 : 13.444065809249878 \n",
      "\n",
      "36번째 가게\n"
     ]
    },
    {
     "name": "stderr",
     "output_type": "stream",
     "text": [
      "The chromedriver version (128.0.6613.137) detected in PATH at c:\\Users\\kk21\\Desktop\\TRIPER\\chromedriver.exe might not be compatible with the detected chrome version (129.0.6668.101); currently, chromedriver 129.0.6668.100 is recommended for chrome 129.*, so it is advised to delete the driver in PATH and retry\n"
     ]
    },
    {
     "name": "stdout",
     "output_type": "stream",
     "text": [
      "https://map.naver.com/p/search/%EC%98%81%EB%93%B1%ED%8F%AC%EA%B5%AC%20%EC%8A%A4%EB%AA%B0?c=15.00,0,0,0,dh\n",
      "결과 여러 개 존재(지점 또는 근접 지역)\n",
      "\n",
      "[크롤링 시작...]\n",
      "스몰\n",
      "요리주점\n",
      "서울 영등포구 경인로77가길 12 스몰\n",
      "주문 유형 3\n",
      "해물짬뽕탕\n",
      "메뉴 설명 없음\n",
      "리뷰 존재\n",
      "음식이 맛있어요\n",
      "인테리어가 멋져요\n",
      "술이 다양해요\n",
      "특별한 메뉴가 있어요\n",
      "기본 안주가 좋아요\n",
      "['스몰'] ...완료\n",
      "[데이터 수집 완료]\n",
      "소요 시간 : 13.391575813293457 \n",
      "\n",
      "37번째 가게\n"
     ]
    },
    {
     "name": "stderr",
     "output_type": "stream",
     "text": [
      "The chromedriver version (128.0.6613.137) detected in PATH at c:\\Users\\kk21\\Desktop\\TRIPER\\chromedriver.exe might not be compatible with the detected chrome version (129.0.6668.101); currently, chromedriver 129.0.6668.100 is recommended for chrome 129.*, so it is advised to delete the driver in PATH and retry\n"
     ]
    },
    {
     "name": "stdout",
     "output_type": "stream",
     "text": [
      "https://map.naver.com/p/search/%EC%98%81%EB%93%B1%ED%8F%AC%EA%B5%AC%20%EA%B3%A0%EC%B2%AD%EB%8B%B4%20%EC%97%AC%EC%9D%98%EB%8F%84%EC%A0%90/place/1028182076?c=15.00,0,0,0,dh&isCorrectAnswer=true\n",
      "결과 한 개\n",
      "\n",
      "[크롤링 시작...]\n",
      "고청담 여의도점\n",
      "한식\n",
      "서울 영등포구 국제금융로 39 지하1층 101호\n",
      "주문 유형 3\n",
      "[런치/디너] 프리미엄 한우\n",
      "1+,1++ 등급으로 떡심 부위를 모두 제거한 프리미엄 한우\n",
      "리뷰 존재\n",
      "음식이 맛있어요\n",
      "재료가 신선해요\n",
      "인테리어가 멋져요\n",
      "친절해요\n",
      "특별한 메뉴가 있어요\n",
      "['고청담 여의도점'] ...완료\n",
      "[데이터 수집 완료]\n",
      "소요 시간 : 13.488044500350952 \n",
      "\n",
      "38번째 가게\n"
     ]
    },
    {
     "name": "stderr",
     "output_type": "stream",
     "text": [
      "The chromedriver version (128.0.6613.137) detected in PATH at c:\\Users\\kk21\\Desktop\\TRIPER\\chromedriver.exe might not be compatible with the detected chrome version (129.0.6668.101); currently, chromedriver 129.0.6668.100 is recommended for chrome 129.*, so it is advised to delete the driver in PATH and retry\n"
     ]
    },
    {
     "name": "stdout",
     "output_type": "stream",
     "text": [
      "https://map.naver.com/p/search/%EC%98%81%EB%93%B1%ED%8F%AC%EA%B5%AC%20%EC%8A%A4%EC%8B%9C%EC%9C%A0%20%EC%97%AC%EC%9D%98%EB%8F%84%EC%A0%90/place/1891981232?c=15.00,0,0,0,dh&isCorrectAnswer=true\n",
      "결과 한 개\n",
      "\n",
      "[크롤링 시작...]\n",
      "스시유 여의도점\n",
      "일식당\n",
      "서울 영등포구 국제금융로 39 브라이튼 2층 203, 204, 205호\n",
      "주문 유형 3\n",
      "런치 코스\n",
      "다양한 사시미와 스시를 즐길 수 있는 런치 코스\n",
      "리뷰 존재\n",
      "음식이 맛있어요\n",
      "재료가 신선해요\n",
      "인테리어가 멋져요\n",
      "친절해요\n",
      "특별한 메뉴가 있어요\n",
      "['스시유 여의도점'] ...완료\n",
      "[데이터 수집 완료]\n",
      "소요 시간 : 13.435298681259155 \n",
      "\n",
      "39번째 가게\n"
     ]
    },
    {
     "name": "stderr",
     "output_type": "stream",
     "text": [
      "The chromedriver version (128.0.6613.137) detected in PATH at c:\\Users\\kk21\\Desktop\\TRIPER\\chromedriver.exe might not be compatible with the detected chrome version (129.0.6668.101); currently, chromedriver 129.0.6668.100 is recommended for chrome 129.*, so it is advised to delete the driver in PATH and retry\n"
     ]
    },
    {
     "name": "stdout",
     "output_type": "stream",
     "text": [
      "https://map.naver.com/p/search/%EC%98%81%EB%93%B1%ED%8F%AC%EA%B5%AC%20%EC%9D%B4%ED%83%80%EB%A7%88%EC%97%90/place/13391329?c=15.00,0,0,0,dh&isCorrectAnswer=true\n",
      "결과 한 개\n",
      "\n",
      "[크롤링 시작...]\n",
      "이타마에\n",
      "이자카야\n",
      "서울 영등포구 의사당대로 108 아일렉스빌딩 5층\n",
      "주문 유형 3\n",
      "점심 정식\n",
      "이타마에 점심 정식으로, 사시미와 여러 요리를 같이 맛볼 수 있는 코스요리\n",
      "리뷰 존재\n",
      "음식이 맛있어요\n",
      "친절해요\n",
      "대화하기 좋아요\n",
      "인테리어가 멋져요\n",
      "특별한 메뉴가 있어요\n",
      "['이타마에'] ...완료\n",
      "[데이터 수집 완료]\n",
      "소요 시간 : 13.46924090385437 \n",
      "\n",
      "40번째 가게\n"
     ]
    },
    {
     "name": "stderr",
     "output_type": "stream",
     "text": [
      "The chromedriver version (128.0.6613.137) detected in PATH at c:\\Users\\kk21\\Desktop\\TRIPER\\chromedriver.exe might not be compatible with the detected chrome version (129.0.6668.101); currently, chromedriver 129.0.6668.100 is recommended for chrome 129.*, so it is advised to delete the driver in PATH and retry\n"
     ]
    },
    {
     "name": "stdout",
     "output_type": "stream",
     "text": [
      "https://map.naver.com/p/search/%EC%98%81%EB%93%B1%ED%8F%AC%EA%B5%AC%20%EB%9F%AC%EC%8A%A4%ED%8A%B8%20%EB%B2%A0%EC%9D%B4%EC%BB%A4%EB%A6%AC?c=15.00,0,0,0,dh\n",
      "결과 여러 개 존재(지점 또는 근접 지역)\n",
      "\n",
      "[크롤링 시작...]\n",
      "러스트 베이커리\n",
      "베이커리\n",
      "서울 영등포구 경인로79길 15 러스트베이커리\n",
      "주문 유형 3\n",
      "퀸아망 얼그레이\n",
      "메뉴 설명 없음\n",
      "리뷰 존재\n",
      "빵이 맛있어요\n",
      "커피가 맛있어요\n",
      "인테리어가 멋져요\n",
      "특별한 메뉴가 있어요\n",
      "음료가 맛있어요\n",
      "['러스트 베이커리'] ...완료\n",
      "[데이터 수집 완료]\n",
      "소요 시간 : 13.381984233856201 \n",
      "\n",
      "41번째 가게\n"
     ]
    },
    {
     "name": "stderr",
     "output_type": "stream",
     "text": [
      "The chromedriver version (128.0.6613.137) detected in PATH at c:\\Users\\kk21\\Desktop\\TRIPER\\chromedriver.exe might not be compatible with the detected chrome version (129.0.6668.101); currently, chromedriver 129.0.6668.100 is recommended for chrome 129.*, so it is advised to delete the driver in PATH and retry\n"
     ]
    },
    {
     "name": "stdout",
     "output_type": "stream",
     "text": [
      "https://map.naver.com/p/search/%EC%98%81%EB%93%B1%ED%8F%AC%EA%B5%AC%20%EC%95%BC%ED%82%A4%ED%86%A0%EB%A6%AC%20%EC%BD%94%EC%B9%98/place/1560090866?c=15.00,0,0,0,dh&isCorrectAnswer=true\n",
      "결과 한 개\n",
      "\n",
      "[크롤링 시작...]\n",
      "야키토리 코치\n",
      "일식튀김,꼬치\n",
      "서울 영등포구 영중로10길 32-4 지하1층\n",
      "주문 유형 3\n",
      "목살\n",
      "메뉴 설명 없음\n",
      "리뷰 존재\n",
      "음식이 맛있어요\n",
      "친절해요\n",
      "특별한 메뉴가 있어요\n",
      "재료가 신선해요\n",
      "인테리어가 멋져요\n",
      "['야키토리 코치'] ...완료\n",
      "[데이터 수집 완료]\n",
      "소요 시간 : 13.424849510192871 \n",
      "\n",
      "42번째 가게\n"
     ]
    },
    {
     "name": "stderr",
     "output_type": "stream",
     "text": [
      "The chromedriver version (128.0.6613.137) detected in PATH at c:\\Users\\kk21\\Desktop\\TRIPER\\chromedriver.exe might not be compatible with the detected chrome version (129.0.6668.101); currently, chromedriver 129.0.6668.100 is recommended for chrome 129.*, so it is advised to delete the driver in PATH and retry\n"
     ]
    },
    {
     "name": "stdout",
     "output_type": "stream",
     "text": [
      "https://map.naver.com/p/search/%EC%98%81%EB%93%B1%ED%8F%AC%EA%B5%AC%20%EC%BD%94%EB%81%BC%EB%A6%AC%EB%B2%A0%EC%9D%B4%EA%B8%80/place/687104906?isCorrectAnswer=true&c=15.00,0,0,0,dh\n",
      "결과 한 개\n",
      "\n",
      "[크롤링 시작...]\n",
      "코끼리베이글 영등포\n",
      "베이글\n",
      "서울 영등포구 선유로 176 코끼리베이글\n",
      "주문 유형 3\n",
      "버터솔트\n",
      "얼그레이,캐모마일,머쉬룸 히어로,로즈 멜란지\n",
      "리뷰 존재\n",
      "빵이 맛있어요\n",
      "특별한 메뉴가 있어요\n",
      "커피가 맛있어요\n",
      "친절해요\n",
      "음료가 맛있어요\n",
      "['코끼리베이글 영등포'] ...완료\n",
      "[데이터 수집 완료]\n",
      "소요 시간 : 13.426209688186646 \n",
      "\n",
      "43번째 가게\n"
     ]
    },
    {
     "name": "stderr",
     "output_type": "stream",
     "text": [
      "The chromedriver version (128.0.6613.137) detected in PATH at c:\\Users\\kk21\\Desktop\\TRIPER\\chromedriver.exe might not be compatible with the detected chrome version (129.0.6668.101); currently, chromedriver 129.0.6668.100 is recommended for chrome 129.*, so it is advised to delete the driver in PATH and retry\n"
     ]
    },
    {
     "name": "stdout",
     "output_type": "stream",
     "text": [
      "https://map.naver.com/p/search/%EC%98%81%EB%93%B1%ED%8F%AC%EA%B5%AC%20%EC%9E%A0%EC%88%98%EA%B5%90%EC%A7%91%20%EC%97%AC%EC%9D%98%EB%8F%84%20%EC%A7%81%EC%98%81%EC%A0%90?c=15.00,0,0,0,dh\n",
      "결과 여러 개 존재(지점 또는 근접 지역)\n",
      "\n",
      "[크롤링 시작...]\n",
      "잠수교집 여의도 직영점\n",
      "돼지고기구이\n",
      "서울 영등포구 여의나루로 117 지하 제6호 잠수교집\n",
      "주문 유형 3\n",
      "급랭삼겹살\n",
      "메뉴 설명 없음\n",
      "리뷰 존재\n",
      "음식이 맛있어요\n",
      "친절해요\n",
      "특별한 메뉴가 있어요\n",
      "고기 질이 좋아요\n",
      "양이 많아요\n",
      "['잠수교집 여의도 직영점'] ...완료\n",
      "[데이터 수집 완료]\n",
      "소요 시간 : 13.396339178085327 \n",
      "\n",
      "44번째 가게\n"
     ]
    },
    {
     "name": "stderr",
     "output_type": "stream",
     "text": [
      "The chromedriver version (128.0.6613.137) detected in PATH at c:\\Users\\kk21\\Desktop\\TRIPER\\chromedriver.exe might not be compatible with the detected chrome version (129.0.6668.101); currently, chromedriver 129.0.6668.100 is recommended for chrome 129.*, so it is advised to delete the driver in PATH and retry\n"
     ]
    },
    {
     "name": "stdout",
     "output_type": "stream",
     "text": [
      "https://map.naver.com/p/search/%EC%98%81%EB%93%B1%ED%8F%AC%EA%B5%AC%20%EC%98%A5%EC%86%8C%EB%B0%98%20%EC%98%81%EB%93%B1%ED%8F%AC%EA%B5%AC%EC%B2%AD%EC%A0%90?c=15.00,0,0,0,dh\n",
      "결과 여러 개 존재(지점 또는 근접 지역)\n",
      "\n",
      "[크롤링 시작...]\n",
      "옥소반 영등포구청점\n",
      "샤브샤브\n",
      "서울 영등포구 국회대로30길 10 1층\n",
      "주문 유형 3\n",
      "새우튀김\n",
      "쇠고기(전각80g)샐러드,신선한 야채,생계란,은행,곤약,두부등,볶음밥or야끼우동\n",
      "리뷰 존재\n",
      "음식이 맛있어요\n",
      "재료가 신선해요\n",
      "인테리어가 멋져요\n",
      "친절해요\n",
      "양이 많아요\n",
      "['옥소반 영등포구청점'] ...완료\n",
      "[데이터 수집 완료]\n",
      "소요 시간 : 13.458183288574219 \n",
      "\n",
      "45번째 가게\n"
     ]
    },
    {
     "name": "stderr",
     "output_type": "stream",
     "text": [
      "The chromedriver version (128.0.6613.137) detected in PATH at c:\\Users\\kk21\\Desktop\\TRIPER\\chromedriver.exe might not be compatible with the detected chrome version (129.0.6668.101); currently, chromedriver 129.0.6668.100 is recommended for chrome 129.*, so it is advised to delete the driver in PATH and retry\n"
     ]
    },
    {
     "name": "stdout",
     "output_type": "stream",
     "text": [
      "https://map.naver.com/p/search/%EC%98%81%EB%93%B1%ED%8F%AC%EA%B5%AC%20%EB%B2%A0%EB%A5%B4%EB%8D%B0%20%EB%AC%B8%EB%9E%98?c=15.00,0,0,0,dh\n",
      "결과 여러 개 존재(지점 또는 근접 지역)\n",
      "\n",
      "[크롤링 시작...]\n",
      "베르데 문래\n",
      "브런치\n",
      "서울 영등포구 도림로139가길 5 1층\n",
      "주문 유형 3\n",
      "쉬림프 오일파스타\n",
      "엔초비로 감칠맛을 낸 오일베이스에 쥬키니,새우,마늘을 곁들여 먹는 느끼하지 않는 오일파스타\n",
      "리뷰 존재\n",
      "음식이 맛있어요\n",
      "인테리어가 멋져요\n",
      "매장이 넓어요\n",
      "친절해요\n",
      "재료가 신선해요\n",
      "['베르데 문래'] ...완료\n",
      "[데이터 수집 완료]\n",
      "소요 시간 : 13.44654893875122 \n",
      "\n",
      "46번째 가게\n"
     ]
    },
    {
     "name": "stderr",
     "output_type": "stream",
     "text": [
      "The chromedriver version (128.0.6613.137) detected in PATH at c:\\Users\\kk21\\Desktop\\TRIPER\\chromedriver.exe might not be compatible with the detected chrome version (129.0.6668.101); currently, chromedriver 129.0.6668.100 is recommended for chrome 129.*, so it is advised to delete the driver in PATH and retry\n"
     ]
    },
    {
     "name": "stdout",
     "output_type": "stream",
     "text": [
      "https://map.naver.com/p/search/%EC%98%81%EB%93%B1%ED%8F%AC%EA%B5%AC%20%EC%8B%A0%EC%B0%A8%EC%9D%B4%20%ED%83%80%EC%9E%84%EC%8A%A4%ED%80%98%EC%96%B4%EC%A0%90/place/1170118399?c=15.00,0,0,0,dh&isCorrectAnswer=true\n",
      "결과 한 개\n",
      "\n",
      "[크롤링 시작...]\n",
      "신차이 타임스퀘어점\n",
      "중식당\n",
      "서울 영등포구 영중로 15 타임스퀘어 4층 신차이\n",
      "주문 유형 3\n",
      "흑마늘 탕수육\n",
      "새콤달콤한 소스와 토핑으로 올라간 흑마늘과 마늘후레이크는 신차이만의 시그니처 탕수육\n",
      "리뷰 존재\n",
      "음식이 맛있어요\n",
      "매장이 넓어요\n",
      "친절해요\n",
      "매장이 청결해요\n",
      "재료가 신선해요\n",
      "['신차이 타임스퀘어점'] ...완료\n",
      "[데이터 수집 완료]\n",
      "소요 시간 : 13.445238828659058 \n",
      "\n",
      "47번째 가게\n"
     ]
    },
    {
     "name": "stderr",
     "output_type": "stream",
     "text": [
      "The chromedriver version (128.0.6613.137) detected in PATH at c:\\Users\\kk21\\Desktop\\TRIPER\\chromedriver.exe might not be compatible with the detected chrome version (129.0.6668.101); currently, chromedriver 129.0.6668.100 is recommended for chrome 129.*, so it is advised to delete the driver in PATH and retry\n"
     ]
    },
    {
     "name": "stdout",
     "output_type": "stream",
     "text": [
      "https://map.naver.com/p/search/%EC%98%81%EB%93%B1%ED%8F%AC%EA%B5%AC%20%ED%8C%8C%EC%9D%B4%EB%B8%8C%EA%B0%80%EC%9D%B4%EC%A6%88%20%EC%97%AC%EC%9D%98%EB%8F%84/place/1092528783?c=15.00,0,0,0,dh&isCorrectAnswer=true\n",
      "결과 한 개\n",
      "\n",
      "[크롤링 시작...]\n",
      "파이브가이즈 여의도\n",
      "햄버거\n",
      "서울 영등포구 여의대로 108\n",
      "주문 유형 3\n",
      "햄버거\n",
      "메뉴 설명 없음\n",
      "리뷰 존재\n",
      "음식이 맛있어요\n",
      "양이 많아요\n",
      "특별한 메뉴가 있어요\n",
      "재료가 신선해요\n",
      "친절해요\n",
      "['파이브가이즈 여의도'] ...완료\n",
      "[데이터 수집 완료]\n",
      "소요 시간 : 13.406461238861084 \n",
      "\n",
      "48번째 가게\n"
     ]
    },
    {
     "name": "stderr",
     "output_type": "stream",
     "text": [
      "The chromedriver version (128.0.6613.137) detected in PATH at c:\\Users\\kk21\\Desktop\\TRIPER\\chromedriver.exe might not be compatible with the detected chrome version (129.0.6668.101); currently, chromedriver 129.0.6668.100 is recommended for chrome 129.*, so it is advised to delete the driver in PATH and retry\n"
     ]
    },
    {
     "name": "stdout",
     "output_type": "stream",
     "text": [
      "https://map.naver.com/p/search/%EC%98%81%EB%93%B1%ED%8F%AC%EA%B5%AC%20%EC%9D%80%ED%98%B8%EC%8B%9D%EB%8B%B9%20%EC%97%AC%EC%9D%98%EB%8F%84%EC%A0%90/place/12035529?c=15.00,0,0,0,dh&isCorrectAnswer=true\n",
      "결과 한 개\n",
      "\n",
      "[크롤링 시작...]\n",
      "은호식당 여의도점\n",
      "한식\n",
      "서울 영등포구 여의대방로65길 6 B1 은호식당\n",
      "주문 유형 3\n",
      "꼬리토막\n",
      "소꼬리곰탕을 더 크게!!\n",
      "리뷰 존재\n",
      "음식이 맛있어요\n",
      "매장이 넓어요\n",
      "친절해요\n",
      "특별한 메뉴가 있어요\n",
      "재료가 신선해요\n",
      "['은호식당 여의도점'] ...완료\n",
      "[데이터 수집 완료]\n",
      "소요 시간 : 13.411993503570557 \n",
      "\n",
      "49번째 가게\n"
     ]
    },
    {
     "name": "stderr",
     "output_type": "stream",
     "text": [
      "The chromedriver version (128.0.6613.137) detected in PATH at c:\\Users\\kk21\\Desktop\\TRIPER\\chromedriver.exe might not be compatible with the detected chrome version (129.0.6668.101); currently, chromedriver 129.0.6668.100 is recommended for chrome 129.*, so it is advised to delete the driver in PATH and retry\n"
     ]
    },
    {
     "name": "stdout",
     "output_type": "stream",
     "text": [
      "https://map.naver.com/p/search/%EC%98%81%EB%93%B1%ED%8F%AC%EA%B5%AC%20%EC%98%81%EB%93%B1%EA%B0%88%EB%B9%84%20%EC%98%81%EB%93%B1%ED%8F%AC%EC%97%AD%EC%A0%90/place/1556718523?c=15.00,0,0,0,dh&isCorrectAnswer=true\n",
      "결과 한 개\n",
      "\n",
      "[크롤링 시작...]\n",
      "영등갈비 영등포역점\n",
      "육류,고기요리\n",
      "서울 영등포구 영신로19길 1 2층\n",
      "주문 유형 3\n",
      "영등돼지갈비\n",
      "직접 만든 특제소스로 3일간 숙성시킨 양념돼지갈비\n",
      "리뷰 존재\n",
      "음식이 맛있어요\n",
      "고기 질이 좋아요\n",
      "친절해요\n",
      "가성비가 좋아요\n",
      "매장이 넓어요\n",
      "['영등갈비 영등포역점'] ...완료\n",
      "[데이터 수집 완료]\n",
      "소요 시간 : 13.42736291885376 \n",
      "\n",
      "50번째 가게\n"
     ]
    },
    {
     "name": "stderr",
     "output_type": "stream",
     "text": [
      "The chromedriver version (128.0.6613.137) detected in PATH at c:\\Users\\kk21\\Desktop\\TRIPER\\chromedriver.exe might not be compatible with the detected chrome version (129.0.6668.101); currently, chromedriver 129.0.6668.100 is recommended for chrome 129.*, so it is advised to delete the driver in PATH and retry\n"
     ]
    },
    {
     "name": "stdout",
     "output_type": "stream",
     "text": [
      "https://map.naver.com/p/search/%EC%98%81%EB%93%B1%ED%8F%AC%EA%B5%AC%20%EC%86%8C%EA%B3%B5%EC%9B%90?c=15.00,0,0,0,dh\n",
      "결과 여러 개 존재(지점 또는 근접 지역)\n",
      "\n",
      "[크롤링 시작...]\n",
      "소공원\n",
      "요리주점\n",
      "서울 영등포구 당산로45길 1 1층 107호\n",
      "주문 유형 3\n",
      "참치연어후토마끼\n",
      "숙성연어와 생참치, 일본식 계란말이(교큐)가 들어간 마끼\n",
      "리뷰 존재\n",
      "음식이 맛있어요\n",
      "기본 안주가 좋아요\n",
      "대화하기 좋아요\n",
      "특별한 메뉴가 있어요\n",
      "친절해요\n",
      "['소공원'] ...완료\n",
      "[데이터 수집 완료]\n",
      "소요 시간 : 13.41456127166748 \n",
      "\n",
      "51번째 가게\n"
     ]
    },
    {
     "name": "stderr",
     "output_type": "stream",
     "text": [
      "The chromedriver version (128.0.6613.137) detected in PATH at c:\\Users\\kk21\\Desktop\\TRIPER\\chromedriver.exe might not be compatible with the detected chrome version (129.0.6668.101); currently, chromedriver 129.0.6668.100 is recommended for chrome 129.*, so it is advised to delete the driver in PATH and retry\n"
     ]
    },
    {
     "name": "stdout",
     "output_type": "stream",
     "text": [
      "https://map.naver.com/p/search/%EC%98%81%EB%93%B1%ED%8F%AC%EA%B5%AC%20%EC%86%A5%EB%8F%88%20%EC%98%81%EB%93%B1%ED%8F%AC%EC%A0%90?c=15.00,0,0,0,dh\n",
      "결과 여러 개 존재(지점 또는 근접 지역)\n",
      "\n",
      "[크롤링 시작...]\n",
      "솥돈 영등포점\n",
      "돼지고기구이\n",
      "서울 영등포구 영중로10길 34-1 1층\n",
      "주문 유형 3\n",
      "솥삼겹살\n",
      "메뉴 설명 없음\n",
      "리뷰 존재\n",
      "음식이 맛있어요\n",
      "고기 질이 좋아요\n",
      "친절해요\n",
      "직접 잘 구워줘요\n",
      "매장이 청결해요\n",
      "['솥돈 영등포점'] ...완료\n",
      "[데이터 수집 완료]\n",
      "소요 시간 : 13.422732591629028 \n",
      "\n",
      "52번째 가게\n"
     ]
    },
    {
     "name": "stderr",
     "output_type": "stream",
     "text": [
      "The chromedriver version (128.0.6613.137) detected in PATH at c:\\Users\\kk21\\Desktop\\TRIPER\\chromedriver.exe might not be compatible with the detected chrome version (129.0.6668.101); currently, chromedriver 129.0.6668.100 is recommended for chrome 129.*, so it is advised to delete the driver in PATH and retry\n"
     ]
    },
    {
     "name": "stdout",
     "output_type": "stream",
     "text": [
      "https://map.naver.com/p/search/%EC%98%81%EB%93%B1%ED%8F%AC%EA%B5%AC%20%EB%8F%84%EC%95%BD%20%EC%97%AC%EC%9D%98%EB%8F%84%EB%B3%B8%EC%A0%90/place/1088357571?c=15.00,0,0,0,dh&isCorrectAnswer=true\n",
      "결과 한 개\n",
      "\n",
      "[크롤링 시작...]\n",
      "도약 여의도본점\n",
      "육류,고기요리\n",
      "서울 영등포구 의사당대로 38 101동 1층 111호\n",
      "주문 유형 3\n",
      "도약모듬스페셜\n",
      "삼겹+목살+가리비해물전골\n",
      "리뷰 존재\n",
      "음식이 맛있어요\n",
      "고기 질이 좋아요\n",
      "인테리어가 멋져요\n",
      "친절해요\n",
      "재료가 신선해요\n",
      "['도약 여의도본점'] ...완료\n",
      "[데이터 수집 완료]\n",
      "소요 시간 : 13.422862529754639 \n",
      "\n",
      "53번째 가게\n"
     ]
    },
    {
     "name": "stderr",
     "output_type": "stream",
     "text": [
      "The chromedriver version (128.0.6613.137) detected in PATH at c:\\Users\\kk21\\Desktop\\TRIPER\\chromedriver.exe might not be compatible with the detected chrome version (129.0.6668.101); currently, chromedriver 129.0.6668.100 is recommended for chrome 129.*, so it is advised to delete the driver in PATH and retry\n"
     ]
    },
    {
     "name": "stdout",
     "output_type": "stream",
     "text": [
      "https://map.naver.com/p/search/%EC%98%81%EB%93%B1%ED%8F%AC%EA%B5%AC%20%EA%B3%A8%EB%93%A0%ED%94%BC%EC%8A%A4%20%EB%8D%94%ED%98%84%EB%8C%80%EC%84%9C%EC%9A%B8%20%ED%8C%9D%EC%97%85%EC%8A%A4%ED%86%A0%EC%96%B4?c=15.00,0,0,0,dh\n",
      "결과 여러 개 존재(지점 또는 근접 지역)\n",
      "가게 없음\n",
      "54번째 가게\n"
     ]
    },
    {
     "name": "stderr",
     "output_type": "stream",
     "text": [
      "The chromedriver version (128.0.6613.137) detected in PATH at c:\\Users\\kk21\\Desktop\\TRIPER\\chromedriver.exe might not be compatible with the detected chrome version (129.0.6668.101); currently, chromedriver 129.0.6668.100 is recommended for chrome 129.*, so it is advised to delete the driver in PATH and retry\n"
     ]
    },
    {
     "name": "stdout",
     "output_type": "stream",
     "text": [
      "https://map.naver.com/p/search/%EC%98%81%EB%93%B1%ED%8F%AC%EA%B5%AC%20%EC%84%9C%EA%B8%80%EB%A0%81%ED%83%95/place/11678468?c=15.00,0,0,0,dh&isCorrectAnswer=true\n",
      "결과 한 개\n",
      "\n",
      "[크롤링 시작...]\n",
      "서글렁탕\n",
      "돼지고기구이\n",
      "서울 영등포구 여의대방로 394 우정빌딩\n",
      "주문 유형 3\n",
      "삼겹살\n",
      "메뉴 설명 없음\n",
      "리뷰 존재\n",
      "음식이 맛있어요\n",
      "특별한 메뉴가 있어요\n",
      "가성비가 좋아요\n",
      "친절해요\n",
      "고기 질이 좋아요\n",
      "['서글렁탕'] ...완료\n",
      "[데이터 수집 완료]\n",
      "소요 시간 : 13.363430976867676 \n",
      "\n",
      "55번째 가게\n"
     ]
    },
    {
     "name": "stderr",
     "output_type": "stream",
     "text": [
      "The chromedriver version (128.0.6613.137) detected in PATH at c:\\Users\\kk21\\Desktop\\TRIPER\\chromedriver.exe might not be compatible with the detected chrome version (129.0.6668.101); currently, chromedriver 129.0.6668.100 is recommended for chrome 129.*, so it is advised to delete the driver in PATH and retry\n"
     ]
    },
    {
     "name": "stdout",
     "output_type": "stream",
     "text": [
      "https://map.naver.com/p/search/%EC%98%81%EB%93%B1%ED%8F%AC%EA%B5%AC%20%EC%98%A4%EB%B3%B5%EC%88%9C%EB%8C%80%EA%B5%AD?c=15.00,0,0,0,dh\n",
      "결과 여러 개 존재(지점 또는 근접 지역)\n",
      "\n",
      "[크롤링 시작...]\n",
      "오복순대국\n",
      "순대,순댓국\n",
      "서울 영등포구 도림로 465\n",
      "주문 유형 3\n",
      "아바이 순대국\n",
      "점심메뉴로 재료소진시까지 판매합니다. 인기메뉴여서 금방소진됩니다.\n",
      "리뷰 존재\n",
      "음식이 맛있어요\n",
      "양이 많아요\n",
      "가성비가 좋아요\n",
      "친절해요\n",
      "고기 질이 좋아요\n",
      "['오복순대국'] ...완료\n",
      "[데이터 수집 완료]\n",
      "소요 시간 : 13.387603521347046 \n",
      "\n",
      "56번째 가게\n"
     ]
    },
    {
     "name": "stderr",
     "output_type": "stream",
     "text": [
      "The chromedriver version (128.0.6613.137) detected in PATH at c:\\Users\\kk21\\Desktop\\TRIPER\\chromedriver.exe might not be compatible with the detected chrome version (129.0.6668.101); currently, chromedriver 129.0.6668.100 is recommended for chrome 129.*, so it is advised to delete the driver in PATH and retry\n"
     ]
    },
    {
     "name": "stdout",
     "output_type": "stream",
     "text": [
      "https://map.naver.com/p/search/%EC%98%81%EB%93%B1%ED%8F%AC%EA%B5%AC%20%ED%98%B8%EB%B0%95%EC%A7%91?c=15.00,0,0,0,dh\n",
      "결과 여러 개 존재(지점 또는 근접 지역)\n",
      "\n",
      "[크롤링 시작...]\n",
      "호박집\n",
      "한식\n",
      "서울 영등포구 영등포로 237-1 성일빌딩1층\n",
      "주문 유형 3\n",
      "순대국 특\n",
      "순대국 특 11000\n",
      "리뷰 존재\n",
      "음식이 맛있어요\n",
      "친절해요\n",
      "양이 많아요\n",
      "가성비가 좋아요\n",
      "혼밥하기 좋아요\n",
      "['호박집'] ...완료\n",
      "[데이터 수집 완료]\n",
      "소요 시간 : 13.404919385910034 \n",
      "\n",
      "57번째 가게\n"
     ]
    },
    {
     "name": "stderr",
     "output_type": "stream",
     "text": [
      "The chromedriver version (128.0.6613.137) detected in PATH at c:\\Users\\kk21\\Desktop\\TRIPER\\chromedriver.exe might not be compatible with the detected chrome version (129.0.6668.101); currently, chromedriver 129.0.6668.100 is recommended for chrome 129.*, so it is advised to delete the driver in PATH and retry\n"
     ]
    },
    {
     "name": "stdout",
     "output_type": "stream",
     "text": [
      "https://map.naver.com/p/search/%EC%98%81%EB%93%B1%ED%8F%AC%EA%B5%AC%20%EC%97%AC%EC%9D%98%EB%8F%84%20%EC%B4%88%EC%9E%A5%EC%A7%91?c=15.00,0,0,0,dh\n",
      "결과 여러 개 존재(지점 또는 근접 지역)\n",
      "\n",
      "[크롤링 시작...]\n",
      "여의도 초장집\n",
      "생선회\n",
      "서울 영등포구 국제금융로6길 33 맨하튼빌딩 지하1층 14호\n",
      "주문 유형 3\n",
      "막회 (대)\n",
      "쫄깃쫄깃한 갑오징어숙회\n",
      "리뷰 존재\n",
      "음식이 맛있어요\n",
      "재료가 신선해요\n",
      "양이 많아요\n",
      "특별한 메뉴가 있어요\n",
      "매장이 넓어요\n",
      "['여의도 초장집'] ...완료\n",
      "[데이터 수집 완료]\n",
      "소요 시간 : 13.427555084228516 \n",
      "\n",
      "58번째 가게\n"
     ]
    },
    {
     "name": "stderr",
     "output_type": "stream",
     "text": [
      "The chromedriver version (128.0.6613.137) detected in PATH at c:\\Users\\kk21\\Desktop\\TRIPER\\chromedriver.exe might not be compatible with the detected chrome version (129.0.6668.101); currently, chromedriver 129.0.6668.100 is recommended for chrome 129.*, so it is advised to delete the driver in PATH and retry\n"
     ]
    },
    {
     "name": "stdout",
     "output_type": "stream",
     "text": [
      "https://map.naver.com/p/search/%EC%98%81%EB%93%B1%ED%8F%AC%EA%B5%AC%20%EC%A3%BC%EC%A0%90%20%EC%A4%80%EB%AC%B4?c=15.00,0,0,0,dh\n",
      "결과 여러 개 존재(지점 또는 근접 지역)\n",
      "\n",
      "[크롤링 시작...]\n",
      "준무\n",
      "이자카야\n",
      "서울 영등포구 도림로 445 1층 이자카야 준무\n",
      "주문 유형 3\n",
      "13종 모듬사시미(3P)\n",
      "숙성회와 각종 신선한 해산물로 알차게 구성된 13종 사시미입니다.\n",
      "리뷰 존재\n",
      "음식이 맛있어요\n",
      "친절해요\n",
      "기본 안주가 좋아요\n",
      "특별한 메뉴가 있어요\n",
      "대화하기 좋아요\n",
      "['준무'] ...완료\n",
      "[데이터 수집 완료]\n",
      "소요 시간 : 13.415116310119629 \n",
      "\n",
      "59번째 가게\n"
     ]
    },
    {
     "name": "stderr",
     "output_type": "stream",
     "text": [
      "The chromedriver version (128.0.6613.137) detected in PATH at c:\\Users\\kk21\\Desktop\\TRIPER\\chromedriver.exe might not be compatible with the detected chrome version (129.0.6668.101); currently, chromedriver 129.0.6668.100 is recommended for chrome 129.*, so it is advised to delete the driver in PATH and retry\n"
     ]
    },
    {
     "name": "stdout",
     "output_type": "stream",
     "text": [
      "https://map.naver.com/p/search/%EC%98%81%EB%93%B1%ED%8F%AC%EA%B5%AC%20%ED%9D%98%EB%9F%AC/place/1186475677?c=15.00,0,0,0,dh&isCorrectAnswer=true\n",
      "결과 한 개\n",
      "\n",
      "[크롤링 시작...]\n",
      "흘러\n",
      "카페,디저트\n",
      "서울 영등포구 당산로35길 3 1층\n",
      "주문 유형 3\n",
      "French Toast\n",
      "아메리카노 [Flow/Wave]\n",
      "리뷰 존재\n",
      "커피가 맛있어요\n",
      "빵이 맛있어요\n",
      "디저트가 맛있어요\n",
      "인테리어가 멋져요\n",
      "친절해요\n",
      "['흘러'] ...완료\n",
      "[데이터 수집 완료]\n",
      "소요 시간 : 13.396972894668579 \n",
      "\n",
      "60번째 가게\n"
     ]
    },
    {
     "name": "stderr",
     "output_type": "stream",
     "text": [
      "The chromedriver version (128.0.6613.137) detected in PATH at c:\\Users\\kk21\\Desktop\\TRIPER\\chromedriver.exe might not be compatible with the detected chrome version (129.0.6668.101); currently, chromedriver 129.0.6668.100 is recommended for chrome 129.*, so it is advised to delete the driver in PATH and retry\n"
     ]
    },
    {
     "name": "stdout",
     "output_type": "stream",
     "text": [
      "https://map.naver.com/p/search/%EC%98%81%EB%93%B1%ED%8F%AC%EA%B5%AC%20%EC%98%A4%EB%A5%B4%EC%A1%B0%20%EB%A5%B4%EB%B8%8C%ED%85%80%20%EC%97%AC%EC%9D%98%EB%8F%84/place/1328434793?c=15.00,0,0,0,dh&isCorrectAnswer=true\n",
      "결과 한 개\n",
      "\n",
      "[크롤링 시작...]\n",
      "오르조 르브텀 여의도\n",
      "양식\n",
      "서울 영등포구 국제금융로 70 1층 109호\n",
      "주문 유형 3\n",
      "[브런치]에그베네딕트(2P)\n",
      "아보카도 살사와잠봉과 함께 제공되는 에그베네딕트\n",
      "리뷰 존재\n",
      "음식이 맛있어요\n",
      "인테리어가 멋져요\n",
      "특별한 메뉴가 있어요\n",
      "친절해요\n",
      "재료가 신선해요\n",
      "['오르조 르브텀 여의도'] ...완료\n",
      "[데이터 수집 완료]\n",
      "소요 시간 : 13.418118953704834 \n",
      "\n",
      "61번째 가게\n"
     ]
    },
    {
     "name": "stderr",
     "output_type": "stream",
     "text": [
      "The chromedriver version (128.0.6613.137) detected in PATH at c:\\Users\\kk21\\Desktop\\TRIPER\\chromedriver.exe might not be compatible with the detected chrome version (129.0.6668.101); currently, chromedriver 129.0.6668.100 is recommended for chrome 129.*, so it is advised to delete the driver in PATH and retry\n"
     ]
    },
    {
     "name": "stdout",
     "output_type": "stream",
     "text": [
      "https://map.naver.com/p/search/%EC%98%81%EB%93%B1%ED%8F%AC%EA%B5%AC%20%EB%82%A8%EC%98%81%EB%8F%99%EC%96%91%EB%AC%B8%20%EC%98%81%EB%93%B1%ED%8F%AC%EC%A0%90?c=15.00,0,0,0,dh\n",
      "결과 여러 개 존재(지점 또는 근접 지역)\n",
      "\n",
      "[크롤링 시작...]\n",
      "남영동양문 영등포점\n",
      "육류,고기요리\n",
      "서울 영등포구 영등포로 252 1층\n",
      "주문 유형 3\n",
      "생소갈비 1인분 (180g)\n",
      "한우차돌을 두툼하게 썰었습니다. 꼬들 식감과 숯불 간장 조합은 흰쌀밥을 외치게 할 것입니다\n",
      "리뷰 존재\n",
      "음식이 맛있어요\n",
      "고기 질이 좋아요\n",
      "친절해요\n",
      "특별한 메뉴가 있어요\n",
      "양이 많아요\n",
      "['남영동양문 영등포점'] ...완료\n",
      "[데이터 수집 완료]\n",
      "소요 시간 : 13.451998710632324 \n",
      "\n",
      "62번째 가게\n"
     ]
    },
    {
     "name": "stderr",
     "output_type": "stream",
     "text": [
      "The chromedriver version (128.0.6613.137) detected in PATH at c:\\Users\\kk21\\Desktop\\TRIPER\\chromedriver.exe might not be compatible with the detected chrome version (129.0.6668.101); currently, chromedriver 129.0.6668.100 is recommended for chrome 129.*, so it is advised to delete the driver in PATH and retry\n"
     ]
    },
    {
     "name": "stdout",
     "output_type": "stream",
     "text": [
      "https://map.naver.com/p/search/%EC%98%81%EB%93%B1%ED%8F%AC%EA%B5%AC%20%EA%B3%A0%EA%B8%B0%EC%97%90%EB%B0%98%ED%95%98%EB%8B%A4%20%EC%98%81%EB%93%B1%ED%8F%AC%EC%97%AD%EC%A0%90/place/1688108097?c=15.00,0,0,0,dh&isCorrectAnswer=true\n",
      "결과 한 개\n",
      "\n",
      "[크롤링 시작...]\n",
      "고기에반하다 영등포역점\n",
      "육류,고기요리\n",
      "서울 영등포구 경인로 872 진영빌딩 1층 고기에 반하다\n",
      "주문 유형 3\n",
      "얼룩 생삼겹(추천)\n",
      "국내산 얼룩돼지(무항생제) 생고기입니다.\n",
      "리뷰 존재\n",
      "음식이 맛있어요\n",
      "고기 질이 좋아요\n",
      "양이 많아요\n",
      "친절해요\n",
      "매장이 넓어요\n",
      "['고기에반하다 영등포역점'] ...완료\n",
      "[데이터 수집 완료]\n",
      "소요 시간 : 13.385223865509033 \n",
      "\n",
      "63번째 가게\n"
     ]
    },
    {
     "name": "stderr",
     "output_type": "stream",
     "text": [
      "The chromedriver version (128.0.6613.137) detected in PATH at c:\\Users\\kk21\\Desktop\\TRIPER\\chromedriver.exe might not be compatible with the detected chrome version (129.0.6668.101); currently, chromedriver 129.0.6668.100 is recommended for chrome 129.*, so it is advised to delete the driver in PATH and retry\n"
     ]
    },
    {
     "name": "stdout",
     "output_type": "stream",
     "text": [
      "https://map.naver.com/p/search/%EC%98%81%EB%93%B1%ED%8F%AC%EA%B5%AC%20%EB%8B%B9%EC%82%B0%EC%B9%9C%EC%B9%9C/place/1011042388?c=15.00,0,0,0,dh&isCorrectAnswer=true\n",
      "결과 한 개\n",
      "\n",
      "[크롤링 시작...]\n",
      "당산친친\n",
      "와인\n",
      "서울 영등포구 선유동2로 73 2층 당산친친\n",
      "주문 유형 3\n",
      "까르보나라 리조또\n",
      "대표 시그니쳐 메뉴중 하나인 까르보나라 리조또\n",
      "리뷰 존재\n",
      "음식이 맛있어요\n",
      "인테리어가 멋져요\n",
      "대화하기 좋아요\n",
      "친절해요\n",
      "술이 다양해요\n",
      "['당산친친'] ...완료\n",
      "[데이터 수집 완료]\n",
      "소요 시간 : 13.424461841583252 \n",
      "\n",
      "64번째 가게\n"
     ]
    },
    {
     "name": "stderr",
     "output_type": "stream",
     "text": [
      "The chromedriver version (128.0.6613.137) detected in PATH at c:\\Users\\kk21\\Desktop\\TRIPER\\chromedriver.exe might not be compatible with the detected chrome version (129.0.6668.101); currently, chromedriver 129.0.6668.100 is recommended for chrome 129.*, so it is advised to delete the driver in PATH and retry\n"
     ]
    },
    {
     "name": "stdout",
     "output_type": "stream",
     "text": [
      "https://map.naver.com/p/search/%EC%98%81%EB%93%B1%ED%8F%AC%EA%B5%AC%20%EB%A7%88%EC%8A%A4%ED%84%B0%EB%B9%84%EC%97%A3?c=15.00,0,0,0,dh\n",
      "결과 여러 개 존재(지점 또는 근접 지역)\n",
      "\n",
      "[크롤링 시작...]\n",
      "마스터비엣 문래역점\n",
      "베트남음식\n",
      "서울 영등포구 당산로 34 1층 106호\n",
      "주문 유형 3\n",
      "하노이 양지 쌀국수\n",
      "하노이 전통방식을 고수하여 12시간 이상 사골로 우려낸 양지, 차돌 소고기 쌀국수 (저희 식당은 대형 프렌차이즈 식당처럼 육수농축액을 쓰지않고 직접 사골을 우립니다.)\n",
      "리뷰 존재\n",
      "음식이 맛있어요\n",
      "양이 많아요\n",
      "재료가 신선해요\n",
      "친절해요\n",
      "가성비가 좋아요\n",
      "['마스터비엣 문래역점'] ...완료\n",
      "[데이터 수집 완료]\n",
      "소요 시간 : 13.404207468032837 \n",
      "\n",
      "65번째 가게\n"
     ]
    },
    {
     "name": "stderr",
     "output_type": "stream",
     "text": [
      "The chromedriver version (128.0.6613.137) detected in PATH at c:\\Users\\kk21\\Desktop\\TRIPER\\chromedriver.exe might not be compatible with the detected chrome version (129.0.6668.101); currently, chromedriver 129.0.6668.100 is recommended for chrome 129.*, so it is advised to delete the driver in PATH and retry\n"
     ]
    },
    {
     "name": "stdout",
     "output_type": "stream",
     "text": [
      "https://map.naver.com/p/search/%EC%98%81%EB%93%B1%ED%8F%AC%EA%B5%AC%20%EB%B0%A9%EC%9D%B4%ED%8E%B8%EB%B0%B1%20%EC%9C%A1%EB%B6%84%EC%82%BC%EC%8B%AD%20%EC%97%AC%EC%9D%98%EB%8F%84%20%EB%B3%B8%EC%A0%90?c=15.00,0,0,0,dh\n",
      "결과 여러 개 존재(지점 또는 근접 지역)\n",
      "\n",
      "[크롤링 시작...]\n",
      "방이편백 육분삼십 여의도 본점\n",
      "육류,고기요리\n",
      "서울 영등포구 의사당대로 108 2층 204호, 205호\n",
      "주문 유형 3\n",
      "오징어무침회소면\n",
      "편백찜\n",
      "리뷰 존재\n",
      "음식이 맛있어요\n",
      "고기 질이 좋아요\n",
      "친절해요\n",
      "매장이 넓어요\n",
      "인테리어가 멋져요\n",
      "['방이편백 육분삼십 여의도 본점'] ...완료\n",
      "[데이터 수집 완료]\n",
      "소요 시간 : 13.412922382354736 \n",
      "\n",
      "66번째 가게\n"
     ]
    },
    {
     "name": "stderr",
     "output_type": "stream",
     "text": [
      "The chromedriver version (128.0.6613.137) detected in PATH at c:\\Users\\kk21\\Desktop\\TRIPER\\chromedriver.exe might not be compatible with the detected chrome version (129.0.6668.101); currently, chromedriver 129.0.6668.100 is recommended for chrome 129.*, so it is advised to delete the driver in PATH and retry\n"
     ]
    },
    {
     "name": "stdout",
     "output_type": "stream",
     "text": [
      "https://map.naver.com/p/search/%EC%98%81%EB%93%B1%ED%8F%AC%EA%B5%AC%20%EC%89%90%ED%94%84%EC%A1%B0%20%EB%AC%B8%EB%9E%98%EB%B3%B8%EC%A0%90/place/32873364?c=15.00,0,0,0,dh&isCorrectAnswer=true\n",
      "결과 한 개\n",
      "\n",
      "[크롤링 시작...]\n",
      "쉐프조 문래본점\n",
      "케이크전문\n",
      "서울 영등포구 문래로 98 한영빌딩 104호,105호,106호\n",
      "주문 유형 3\n",
      "딸기생크림 1호\n",
      "달지 않고 단백한 우유생크림을 사용하며 촉촉한 빵으로 만든 온가족이 즐길수있는 건강한 케익\n",
      "리뷰 존재\n",
      "디저트가 맛있어요\n",
      "특별한 메뉴가 있어요\n",
      "친절해요\n",
      "재료가 신선해요\n",
      "선물하기 좋아요\n",
      "['쉐프조 문래본점'] ...완료\n",
      "[데이터 수집 완료]\n",
      "소요 시간 : 13.40968370437622 \n",
      "\n",
      "67번째 가게\n"
     ]
    },
    {
     "name": "stderr",
     "output_type": "stream",
     "text": [
      "The chromedriver version (128.0.6613.137) detected in PATH at c:\\Users\\kk21\\Desktop\\TRIPER\\chromedriver.exe might not be compatible with the detected chrome version (129.0.6668.101); currently, chromedriver 129.0.6668.100 is recommended for chrome 129.*, so it is advised to delete the driver in PATH and retry\n"
     ]
    },
    {
     "name": "stdout",
     "output_type": "stream",
     "text": [
      "https://map.naver.com/p/search/%EC%98%81%EB%93%B1%ED%8F%AC%EA%B5%AC%20%EB%A1%9C%EB%9D%BC%EB%A9%98/place/1866981775?isCorrectAnswer=true&c=15.00,0,0,0,dh\n",
      "결과 한 개\n",
      "\n",
      "[크롤링 시작...]\n",
      "로라멘\n",
      "일본식라면\n",
      "서울 영등포구 도림로131길 17\n",
      "주문 유형 3\n",
      "교카이돈코츠라멘\n",
      "돼지,닭,사골과 어패류를 블랜딩한 진한육수 라멘\n",
      "리뷰 존재\n",
      "음식이 맛있어요\n",
      "혼밥하기 좋아요\n",
      "특별한 메뉴가 있어요\n",
      "친절해요\n",
      "재료가 신선해요\n",
      "['로라멘'] ...완료\n",
      "[데이터 수집 완료]\n",
      "소요 시간 : 13.413248777389526 \n",
      "\n",
      "68번째 가게\n"
     ]
    },
    {
     "name": "stderr",
     "output_type": "stream",
     "text": [
      "The chromedriver version (128.0.6613.137) detected in PATH at c:\\Users\\kk21\\Desktop\\TRIPER\\chromedriver.exe might not be compatible with the detected chrome version (129.0.6668.101); currently, chromedriver 129.0.6668.100 is recommended for chrome 129.*, so it is advised to delete the driver in PATH and retry\n"
     ]
    },
    {
     "name": "stdout",
     "output_type": "stream",
     "text": [
      "https://map.naver.com/p/search/%EC%98%81%EB%93%B1%ED%8F%AC%EA%B5%AC%20%EC%9C%A0%EB%AF%B8%EB%B6%84%EA%B9%80%EB%B0%A5%20%EC%86%8C%EC%A0%95%EB%8B%B4%20%EB%8B%B9%EC%82%B0%EB%B3%B8%EC%A0%90/place/1736530350?c=15.00,0,0,0,dh&isCorrectAnswer=true\n",
      "결과 한 개\n",
      "\n",
      "[크롤링 시작...]\n",
      "유미분김밥 소정담 당산 본점\n",
      "김밥\n",
      "서울 영등포구 당산로40길 16 보성빌딩 1층 101호\n",
      "주문 유형 3\n",
      "대표 메뉴 없음\n",
      "메뉴 설명 없음\n",
      "오류 예외 처리\n",
      "69번째 가게\n"
     ]
    },
    {
     "name": "stderr",
     "output_type": "stream",
     "text": [
      "The chromedriver version (128.0.6613.137) detected in PATH at c:\\Users\\kk21\\Desktop\\TRIPER\\chromedriver.exe might not be compatible with the detected chrome version (129.0.6668.101); currently, chromedriver 129.0.6668.100 is recommended for chrome 129.*, so it is advised to delete the driver in PATH and retry\n"
     ]
    },
    {
     "name": "stdout",
     "output_type": "stream",
     "text": [
      "https://map.naver.com/p/search/%EC%98%81%EB%93%B1%ED%8F%AC%EA%B5%AC%20%EC%96%91%ED%82%A4%ED%86%B5%EB%8B%AD%20%EB%B3%B8%EC%A0%90/place/1642064812?c=15.00,0,0,0,dh&isCorrectAnswer=true\n",
      "결과 한 개\n",
      "\n",
      "[크롤링 시작...]\n",
      "양키통닭 본점\n",
      "맥주,호프\n",
      "서울 영등포구 도림로139길 13\n",
      "주문 유형 3\n",
      "오리지널 시금치 통닭\n",
      "여러 재료로 숙성된 통닭을 수개월간 잘말린 참나무 장작으로 바베큐해서 높은 화력에 볶아 불향을 입힌 시금치와 마늘로 조합\n",
      "리뷰 존재\n",
      "음식이 맛있어요\n",
      "특별한 메뉴가 있어요\n",
      "인테리어가 멋져요\n",
      "친절해요\n",
      "대화하기 좋아요\n",
      "['양키통닭 본점'] ...완료\n",
      "[데이터 수집 완료]\n",
      "소요 시간 : 13.423774003982544 \n",
      "\n",
      "70번째 가게\n"
     ]
    },
    {
     "name": "stderr",
     "output_type": "stream",
     "text": [
      "The chromedriver version (128.0.6613.137) detected in PATH at c:\\Users\\kk21\\Desktop\\TRIPER\\chromedriver.exe might not be compatible with the detected chrome version (129.0.6668.101); currently, chromedriver 129.0.6668.100 is recommended for chrome 129.*, so it is advised to delete the driver in PATH and retry\n"
     ]
    },
    {
     "name": "stdout",
     "output_type": "stream",
     "text": [
      "https://map.naver.com/p/search/%EC%98%81%EB%93%B1%ED%8F%AC%EA%B5%AC%20%EC%82%BC%EA%B1%B0%EB%A6%AC%EB%A8%BC%EC%A7%80%EB%A7%89%EC%88%9C%EB%8C%80%EA%B5%AD/place/13039298?c=15.00,0,0,0,dh&isCorrectAnswer=true\n",
      "결과 한 개\n",
      "\n",
      "[크롤링 시작...]\n",
      "삼거리먼지막순대국\n",
      "순대,순댓국\n",
      "서울 영등포구 시흥대로185길 11\n",
      "주문 유형 3\n",
      "순대국 보통\n",
      "메뉴 설명 없음\n",
      "리뷰 존재\n",
      "음식이 맛있어요\n",
      "가성비가 좋아요\n",
      "양이 많아요\n",
      "혼밥하기 좋아요\n",
      "친절해요\n",
      "['삼거리먼지막순대국'] ...완료\n",
      "[데이터 수집 완료]\n",
      "소요 시간 : 13.397078514099121 \n",
      "\n",
      "71번째 가게\n"
     ]
    },
    {
     "name": "stderr",
     "output_type": "stream",
     "text": [
      "The chromedriver version (128.0.6613.137) detected in PATH at c:\\Users\\kk21\\Desktop\\TRIPER\\chromedriver.exe might not be compatible with the detected chrome version (129.0.6668.101); currently, chromedriver 129.0.6668.100 is recommended for chrome 129.*, so it is advised to delete the driver in PATH and retry\n"
     ]
    },
    {
     "name": "stdout",
     "output_type": "stream",
     "text": [
      "https://map.naver.com/p/search/%EC%98%81%EB%93%B1%ED%8F%AC%EA%B5%AC%20%EB%B0%94%EC%8A%A4%EB%B2%84%EA%B1%B0%20%EC%97%AC%EC%9D%98%EB%8F%84%EC%A0%90?c=15.00,0,0,0,dh\n",
      "결과 여러 개 존재(지점 또는 근접 지역)\n",
      "\n",
      "[크롤링 시작...]\n",
      "바스버거 여의도직영점\n",
      "햄버거\n",
      "서울 영등포구 국제금융로 20 율촌빌딩 지하1층\n",
      "주문 유형 3\n",
      "치즈버거\n",
      "소고기 패티, 리얼 체다x2, 양파, 하우스 소스\n",
      "리뷰 존재\n",
      "음식이 맛있어요\n",
      "재료가 신선해요\n",
      "인테리어가 멋져요\n",
      "친절해요\n",
      "특별한 메뉴가 있어요\n",
      "['바스버거 여의도직영점'] ...완료\n",
      "[데이터 수집 완료]\n",
      "소요 시간 : 13.447258710861206 \n",
      "\n",
      "72번째 가게\n"
     ]
    },
    {
     "name": "stderr",
     "output_type": "stream",
     "text": [
      "The chromedriver version (128.0.6613.137) detected in PATH at c:\\Users\\kk21\\Desktop\\TRIPER\\chromedriver.exe might not be compatible with the detected chrome version (129.0.6668.101); currently, chromedriver 129.0.6668.100 is recommended for chrome 129.*, so it is advised to delete the driver in PATH and retry\n"
     ]
    },
    {
     "name": "stdout",
     "output_type": "stream",
     "text": [
      "https://map.naver.com/p/search/%EC%98%81%EB%93%B1%ED%8F%AC%EA%B5%AC%20%EB%8F%99%ED%95%B4%EB%8F%84%20%EC%8A%A4%EC%8B%9C/place/11887089?c=15.00,0,0,0,dh&isCorrectAnswer=true\n",
      "결과 한 개\n",
      "\n",
      "[크롤링 시작...]\n",
      "동해도 일식\n",
      "일식당\n",
      "서울 영등포구 은행로 25 안원빌딩 지하1층\n",
      "주문 유형 3\n",
      "특사시미회식코스\n",
      "자연산 생선매운탕, 지리 =대구,생태,민어,도다리쑥국등 35,000원부터 판매\n",
      "리뷰 존재\n",
      "음식이 맛있어요\n",
      "재료가 신선해요\n",
      "친절해요\n",
      "단체모임 하기 좋아요\n",
      "특별한 메뉴가 있어요\n",
      "['동해도 일식'] ...완료\n",
      "[데이터 수집 완료]\n",
      "소요 시간 : 13.418538808822632 \n",
      "\n",
      "73번째 가게\n"
     ]
    },
    {
     "name": "stderr",
     "output_type": "stream",
     "text": [
      "The chromedriver version (128.0.6613.137) detected in PATH at c:\\Users\\kk21\\Desktop\\TRIPER\\chromedriver.exe might not be compatible with the detected chrome version (129.0.6668.101); currently, chromedriver 129.0.6668.100 is recommended for chrome 129.*, so it is advised to delete the driver in PATH and retry\n"
     ]
    },
    {
     "name": "stdout",
     "output_type": "stream",
     "text": [
      "https://map.naver.com/p/search/%EC%98%81%EB%93%B1%ED%8F%AC%EA%B5%AC%20%EB%8C%80%EB%B0%95%EA%B3%B1%EC%B0%BD%EA%B5%AC%EC%9D%B4/place/13072460?c=15.00,0,0,0,dh&isCorrectAnswer=true\n",
      "결과 한 개\n",
      "\n",
      "[크롤링 시작...]\n",
      "대박곱창구이\n",
      "곱창,막창,양\n",
      "서울 영등포구 당산로30길 6-1 1층 대박곱창\n",
      "주문 유형 3\n",
      "황소곱창(국내산)\n",
      "고소한 곱으로 속이 꽉 찬 오리지널 육우곱창(국내산 육우)\n",
      "리뷰 존재\n",
      "음식이 맛있어요\n",
      "친절해요\n",
      "고기 질이 좋아요\n",
      "양이 많아요\n",
      "특별한 메뉴가 있어요\n",
      "['대박곱창구이'] ...완료\n",
      "[데이터 수집 완료]\n",
      "소요 시간 : 13.478755474090576 \n",
      "\n",
      "74번째 가게\n"
     ]
    },
    {
     "name": "stderr",
     "output_type": "stream",
     "text": [
      "The chromedriver version (128.0.6613.137) detected in PATH at c:\\Users\\kk21\\Desktop\\TRIPER\\chromedriver.exe might not be compatible with the detected chrome version (129.0.6668.101); currently, chromedriver 129.0.6668.100 is recommended for chrome 129.*, so it is advised to delete the driver in PATH and retry\n"
     ]
    },
    {
     "name": "stdout",
     "output_type": "stream",
     "text": [
      "https://map.naver.com/p/search/%EC%98%81%EB%93%B1%ED%8F%AC%EA%B5%AC%20%EC%98%81%EB%93%B1%ED%8F%AC%EA%BD%83%EC%82%BC/place/1311289417?c=15.00,0,0,0,dh&isCorrectAnswer=true\n",
      "결과 한 개\n",
      "\n",
      "[크롤링 시작...]\n",
      "영등포꽃삼\n",
      "돼지고기구이\n",
      "서울 영등포구 영중로4길 6 1층 영등포꽃삼\n",
      "주문 유형 3\n",
      "♡ 꽃삼 세트 ♡\n",
      "삼겹살, 목살, 항정살 각 1인분 + 치즈(6P)\n",
      "리뷰 존재\n",
      "음식이 맛있어요\n",
      "고기 질이 좋아요\n",
      "친절해요\n",
      "매장이 넓어요\n",
      "직접 잘 구워줘요\n",
      "['영등포꽃삼'] ...완료\n",
      "[데이터 수집 완료]\n",
      "소요 시간 : 13.427260875701904 \n",
      "\n",
      "75번째 가게\n"
     ]
    },
    {
     "name": "stderr",
     "output_type": "stream",
     "text": [
      "The chromedriver version (128.0.6613.137) detected in PATH at c:\\Users\\kk21\\Desktop\\TRIPER\\chromedriver.exe might not be compatible with the detected chrome version (129.0.6668.101); currently, chromedriver 129.0.6668.100 is recommended for chrome 129.*, so it is advised to delete the driver in PATH and retry\n"
     ]
    },
    {
     "name": "stdout",
     "output_type": "stream",
     "text": [
      "https://map.naver.com/p/search/%EC%98%81%EB%93%B1%ED%8F%AC%EA%B5%AC%20%EB%B6%80%EC%9D%BC%EC%88%AF%EB%B6%88%EA%B0%88%EB%B9%84/place/18560835?c=15.00,0,0,0,dh&isCorrectAnswer=true\n",
      "결과 한 개\n",
      "\n",
      "[크롤링 시작...]\n",
      "부일숯불갈비\n",
      "육류,고기요리\n",
      "서울 영등포구 영중로6길 23-8\n",
      "주문 유형 3\n",
      "차돌된장뚝배기\n",
      "메뉴 설명 없음\n",
      "리뷰 존재\n",
      "음식이 맛있어요\n",
      "친절해요\n",
      "가성비가 좋아요\n",
      "양이 많아요\n",
      "고기 질이 좋아요\n",
      "['부일숯불갈비'] ...완료\n",
      "[데이터 수집 완료]\n",
      "소요 시간 : 13.405743598937988 \n",
      "\n",
      "76번째 가게\n"
     ]
    },
    {
     "name": "stderr",
     "output_type": "stream",
     "text": [
      "The chromedriver version (128.0.6613.137) detected in PATH at c:\\Users\\kk21\\Desktop\\TRIPER\\chromedriver.exe might not be compatible with the detected chrome version (129.0.6668.101); currently, chromedriver 129.0.6668.100 is recommended for chrome 129.*, so it is advised to delete the driver in PATH and retry\n"
     ]
    },
    {
     "name": "stdout",
     "output_type": "stream",
     "text": [
      "https://map.naver.com/p/search/%EC%98%81%EB%93%B1%ED%8F%AC%EA%B5%AC%20%EC%82%AC%EC%9C%84%EC%8B%9D%EB%8B%B9%20%EC%97%AC%EC%9D%98%EB%8F%84%EC%A0%90?c=15.00,0,0,0,dh\n",
      "결과 여러 개 존재(지점 또는 근접 지역)\n",
      "\n",
      "[크롤링 시작...]\n",
      "사위식당 여의도점\n",
      "곱창,막창,양\n",
      "서울 영등포구 국제금융로2길 32 2층 205호\n",
      "주문 유형 3\n",
      "낙곱새\n",
      "낙지와 곱창(대창), 새우를 넣어 만드는 부산식 볶음전골 입니다.\n",
      "리뷰 존재\n",
      "음식이 맛있어요\n",
      "매장이 넓어요\n",
      "친절해요\n",
      "양이 많아요\n",
      "매장이 청결해요\n",
      "['사위식당 여의도점'] ...완료\n",
      "[데이터 수집 완료]\n",
      "소요 시간 : 13.415338039398193 \n",
      "\n",
      "77번째 가게\n"
     ]
    },
    {
     "name": "stderr",
     "output_type": "stream",
     "text": [
      "The chromedriver version (128.0.6613.137) detected in PATH at c:\\Users\\kk21\\Desktop\\TRIPER\\chromedriver.exe might not be compatible with the detected chrome version (129.0.6668.101); currently, chromedriver 129.0.6668.100 is recommended for chrome 129.*, so it is advised to delete the driver in PATH and retry\n"
     ]
    },
    {
     "name": "stdout",
     "output_type": "stream",
     "text": [
      "https://map.naver.com/p/search/%EC%98%81%EB%93%B1%ED%8F%AC%EA%B5%AC%20%EC%9A%A9%ED%98%B8%EB%8F%99%EB%82%99%EC%A7%80%20%EC%97%AC%EC%9D%98%EB%8F%84%EC%A0%90?c=15.00,0,0,0,dh\n",
      "결과 여러 개 존재(지점 또는 근접 지역)\n",
      "\n",
      "[크롤링 시작...]\n",
      "용호동낙지 여의도점\n",
      "낙지요리\n",
      "서울 영등포구 국제금융로2길 17 씨티플라자 2층\n",
      "주문 유형 3\n",
      "용호스페셜\n",
      "직화낙지볶음+보쌈+팔미낙지수제비 인기메뉴로 이루어진 세트메뉴\n",
      "리뷰 존재\n",
      "음식이 맛있어요\n",
      "친절해요\n",
      "매장이 넓어요\n",
      "재료가 신선해요\n",
      "양이 많아요\n",
      "['용호동낙지 여의도점'] ...완료\n",
      "[데이터 수집 완료]\n",
      "소요 시간 : 13.39853811264038 \n",
      "\n",
      "78번째 가게\n"
     ]
    },
    {
     "name": "stderr",
     "output_type": "stream",
     "text": [
      "The chromedriver version (128.0.6613.137) detected in PATH at c:\\Users\\kk21\\Desktop\\TRIPER\\chromedriver.exe might not be compatible with the detected chrome version (129.0.6668.101); currently, chromedriver 129.0.6668.100 is recommended for chrome 129.*, so it is advised to delete the driver in PATH and retry\n"
     ]
    },
    {
     "name": "stdout",
     "output_type": "stream",
     "text": [
      "https://map.naver.com/p/search/%EC%98%81%EB%93%B1%ED%8F%AC%EA%B5%AC%20%EB%82%A8%EB%B6%80%20%EB%AC%B8%EB%9E%98%EC%A0%90/place/1828479291?c=15.00,0,0,0,dh&isCorrectAnswer=true\n",
      "결과 한 개\n",
      "\n",
      "[크롤링 시작...]\n",
      "남부 문래점\n",
      "한식\n",
      "서울 영등포구 당산로 34 1층 147호,148호\n",
      "주문 유형 3\n",
      "남부한판 600g\n",
      "숙성삼겹살, 숙성꽃목살, 가브리살\n",
      "리뷰 존재\n",
      "음식이 맛있어요\n",
      "재료가 신선해요\n",
      "친절해요\n",
      "양이 많아요\n",
      "가성비가 좋아요\n",
      "['남부 문래점'] ...완료\n",
      "[데이터 수집 완료]\n",
      "소요 시간 : 13.459156274795532 \n",
      "\n",
      "79번째 가게\n"
     ]
    },
    {
     "name": "stderr",
     "output_type": "stream",
     "text": [
      "The chromedriver version (128.0.6613.137) detected in PATH at c:\\Users\\kk21\\Desktop\\TRIPER\\chromedriver.exe might not be compatible with the detected chrome version (129.0.6668.101); currently, chromedriver 129.0.6668.100 is recommended for chrome 129.*, so it is advised to delete the driver in PATH and retry\n"
     ]
    },
    {
     "name": "stdout",
     "output_type": "stream",
     "text": [
      "https://map.naver.com/p/search/%EC%98%81%EB%93%B1%ED%8F%AC%EA%B5%AC%20%EB%AC%B8%EB%9E%98%EB%8F%99%ED%99%94?c=15.00,0,0,0,dh\n",
      "결과 여러 개 존재(지점 또는 근접 지역)\n",
      "\n",
      "[크롤링 시작...]\n",
      "문래동화\n",
      "요리주점\n",
      "서울 영등포구 도림로139가길 4 1층\n",
      "주문 유형 3\n",
      "한우대창 닭볶음탕\n",
      "대창 200g,닭다리살500g,떡, 각종야채들이 푸짐하게 들어간 남녀노소 좋아하는 닭도리탕\n",
      "리뷰 존재\n",
      "음식이 맛있어요\n",
      "인테리어가 멋져요\n",
      "친절해요\n",
      "기본 안주가 좋아요\n",
      "특별한 메뉴가 있어요\n",
      "['문래동화'] ...완료\n",
      "[데이터 수집 완료]\n",
      "소요 시간 : 13.466390371322632 \n",
      "\n",
      "80번째 가게\n"
     ]
    },
    {
     "name": "stderr",
     "output_type": "stream",
     "text": [
      "The chromedriver version (128.0.6613.137) detected in PATH at c:\\Users\\kk21\\Desktop\\TRIPER\\chromedriver.exe might not be compatible with the detected chrome version (129.0.6668.101); currently, chromedriver 129.0.6668.100 is recommended for chrome 129.*, so it is advised to delete the driver in PATH and retry\n"
     ]
    },
    {
     "name": "stdout",
     "output_type": "stream",
     "text": [
      "https://map.naver.com/p/search/%EC%98%81%EB%93%B1%ED%8F%AC%EA%B5%AC%20%EC%9B%90%EC%A1%B0%ED%98%B8%EC%88%98%EC%82%BC%EA%B3%84%ED%83%95/place/18674644?c=15.00,0,0,0,dh&isCorrectAnswer=true\n",
      "결과 한 개\n",
      "\n",
      "[크롤링 시작...]\n",
      "원조호수삼계탕\n",
      "백숙,삼계탕\n",
      "서울 영등포구 도림로 276 원조호수삼계탕\n",
      "주문 유형 3\n",
      "원조호수삼계탕\n",
      "메뉴 설명 없음\n",
      "리뷰 존재\n",
      "음식이 맛있어요\n",
      "특별한 메뉴가 있어요\n",
      "매장이 넓어요\n",
      "재료가 신선해요\n",
      "친절해요\n",
      "['원조호수삼계탕'] ...완료\n",
      "[데이터 수집 완료]\n",
      "소요 시간 : 13.410735607147217 \n",
      "\n",
      "./out_food_review/out_18_food.csv완료\n",
      "0번째 가게\n"
     ]
    },
    {
     "name": "stderr",
     "output_type": "stream",
     "text": [
      "The chromedriver version (128.0.6613.137) detected in PATH at c:\\Users\\kk21\\Desktop\\TRIPER\\chromedriver.exe might not be compatible with the detected chrome version (129.0.6668.101); currently, chromedriver 129.0.6668.100 is recommended for chrome 129.*, so it is advised to delete the driver in PATH and retry\n"
     ]
    },
    {
     "name": "stdout",
     "output_type": "stream",
     "text": [
      "https://map.naver.com/p/search/%EB%8F%99%EC%9E%91%EA%B5%AC%20%EB%A9%9C%EB%A1%9C%EB%93%9C%20%EC%88%AD%EC%8B%A4%EB%8C%80%EC%A0%90/place/1691140664?c=15.00,0,0,0,dh&isCorrectAnswer=true\n",
      "결과 한 개\n",
      "\n",
      "[크롤링 시작...]\n",
      "멜로드 숭실대점\n",
      "카페,디저트\n",
      "서울 동작구 상도로49길 7 1층 카페멜로드\n",
      "주문 유형 3\n",
      "대표 메뉴 없음\n",
      "메뉴 설명 없음\n",
      "오류 예외 처리\n",
      "1번째 가게\n"
     ]
    },
    {
     "name": "stderr",
     "output_type": "stream",
     "text": [
      "The chromedriver version (128.0.6613.137) detected in PATH at c:\\Users\\kk21\\Desktop\\TRIPER\\chromedriver.exe might not be compatible with the detected chrome version (129.0.6668.101); currently, chromedriver 129.0.6668.100 is recommended for chrome 129.*, so it is advised to delete the driver in PATH and retry\n"
     ]
    },
    {
     "name": "stdout",
     "output_type": "stream",
     "text": [
      "https://map.naver.com/p/search/%EB%8F%99%EC%9E%91%EA%B5%AC%20%EB%8C%80%EC%8B%A0%EA%BD%83%EA%B2%8C%20%EB%85%B8%EB%9F%89%EC%A7%84%EC%88%98%EC%82%B0%EC%8B%9C%EC%9E%A5%EC%A0%90?c=15.00,0,0,0,dh\n",
      "결과 여러 개 존재(지점 또는 근접 지역)\n",
      "가게 없음\n",
      "2번째 가게\n"
     ]
    },
    {
     "name": "stderr",
     "output_type": "stream",
     "text": [
      "The chromedriver version (128.0.6613.137) detected in PATH at c:\\Users\\kk21\\Desktop\\TRIPER\\chromedriver.exe might not be compatible with the detected chrome version (129.0.6668.101); currently, chromedriver 129.0.6668.100 is recommended for chrome 129.*, so it is advised to delete the driver in PATH and retry\n"
     ]
    },
    {
     "name": "stdout",
     "output_type": "stream",
     "text": [
      "https://map.naver.com/p/search/%EB%8F%99%EC%9E%91%EA%B5%AC%20%EC%95%A0%ED%94%8C%ED%95%98%EC%9A%B0%EC%8A%A4?c=15.00,0,0,0,dh\n",
      "결과 여러 개 존재(지점 또는 근접 지역)\n",
      "\n",
      "[크롤링 시작...]\n",
      "애플하우스\n",
      "떡볶이\n",
      "서울 동작구 동작대로27다길 29 2층\n",
      "주문 유형 3\n",
      "무침 군만두(4개)\n",
      "1. 양념 따로 포장은 2인분부터 가능합니다. (요청사항에 적어주셔야 합니다.) 2. 원하시는 개별포장이 있으시다면 요청사항에 적어주세요. //따로 요청사항이 없으시면 분리 포장되어 나갈 수 있습니다. 3인분: 2+1 4인분:2+2 5인분:2+2+1\n",
      "리뷰 존재\n",
      "음식이 맛있어요\n",
      "매장이 넓어요\n",
      "가성비가 좋아요\n",
      "특별한 메뉴가 있어요\n",
      "양이 많아요\n",
      "['애플하우스'] ...완료\n",
      "[데이터 수집 완료]\n",
      "소요 시간 : 13.427451133728027 \n",
      "\n",
      "3번째 가게\n"
     ]
    },
    {
     "name": "stderr",
     "output_type": "stream",
     "text": [
      "The chromedriver version (128.0.6613.137) detected in PATH at c:\\Users\\kk21\\Desktop\\TRIPER\\chromedriver.exe might not be compatible with the detected chrome version (129.0.6668.101); currently, chromedriver 129.0.6668.100 is recommended for chrome 129.*, so it is advised to delete the driver in PATH and retry\n"
     ]
    },
    {
     "name": "stdout",
     "output_type": "stream",
     "text": [
      "https://map.naver.com/p/search/%EB%8F%99%EC%9E%91%EA%B5%AC%20%EA%B9%80%EC%A2%85%EA%B5%AC%EC%B0%B8%EC%B9%98%EB%B0%95%EC%82%AC/place/37853724?c=15.00,0,0,0,dh&isCorrectAnswer=true\n",
      "결과 한 개\n",
      "\n",
      "[크롤링 시작...]\n",
      "김종구참치박사\n",
      "생선회\n",
      "서울 동작구 동작대로 25-1\n",
      "주문 유형 3\n",
      "참치석사 (1인)\n",
      "메뉴 설명 없음\n",
      "리뷰 존재\n",
      "음식이 맛있어요\n",
      "재료가 신선해요\n",
      "친절해요\n",
      "양이 많아요\n",
      "단체모임 하기 좋아요\n",
      "['김종구참치박사'] ...완료\n",
      "[데이터 수집 완료]\n",
      "소요 시간 : 13.428419828414917 \n",
      "\n",
      "4번째 가게\n"
     ]
    },
    {
     "name": "stderr",
     "output_type": "stream",
     "text": [
      "The chromedriver version (128.0.6613.137) detected in PATH at c:\\Users\\kk21\\Desktop\\TRIPER\\chromedriver.exe might not be compatible with the detected chrome version (129.0.6668.101); currently, chromedriver 129.0.6668.100 is recommended for chrome 129.*, so it is advised to delete the driver in PATH and retry\n"
     ]
    },
    {
     "name": "stdout",
     "output_type": "stream",
     "text": [
      "https://map.naver.com/p/search/%EB%8F%99%EC%9E%91%EA%B5%AC%20%EB%86%89%EC%8A%A4%20%EC%82%AC%EB%8B%B9%EC%A0%90/place/1231594896?c=15.00,0,0,0,dh&isCorrectAnswer=true\n",
      "결과 한 개\n",
      "\n",
      "[크롤링 시작...]\n",
      "놉스 사당점\n",
      "스테이크,립\n",
      "서울 동작구 동작대로5길 8 1층\n",
      "주문 유형 3\n",
      "Tomahawk600g (100g당)\n",
      "토마호크스테이크,서브디쉬 택3\n",
      "리뷰 존재\n",
      "음식이 맛있어요\n",
      "인테리어가 멋져요\n",
      "가성비가 좋아요\n",
      "특별한 메뉴가 있어요\n",
      "친절해요\n",
      "['놉스 사당점'] ...완료\n",
      "[데이터 수집 완료]\n",
      "소요 시간 : 13.44008469581604 \n",
      "\n",
      "5번째 가게\n"
     ]
    },
    {
     "name": "stderr",
     "output_type": "stream",
     "text": [
      "The chromedriver version (128.0.6613.137) detected in PATH at c:\\Users\\kk21\\Desktop\\TRIPER\\chromedriver.exe might not be compatible with the detected chrome version (129.0.6668.101); currently, chromedriver 129.0.6668.100 is recommended for chrome 129.*, so it is advised to delete the driver in PATH and retry\n"
     ]
    },
    {
     "name": "stdout",
     "output_type": "stream",
     "text": [
      "https://map.naver.com/p/search/%EB%8F%99%EC%9E%91%EA%B5%AC%20%EC%9C%A1%ED%83%9C%EA%B8%B0%20%EC%82%AC%EB%8B%B9%EB%B3%B8%EC%A0%90/place/1449510291?c=15.00,0,0,0,dh&isCorrectAnswer=true\n",
      "결과 한 개\n",
      "\n",
      "[크롤링 시작...]\n",
      "육태기 사당본점\n",
      "육류,고기요리\n",
      "서울 동작구 사당로30길 115 1층\n",
      "주문 유형 3\n",
      "갈비살\n",
      "메뉴 설명 없음\n",
      "리뷰 존재\n",
      "음식이 맛있어요\n",
      "고기 질이 좋아요\n",
      "친절해요\n",
      "직접 잘 구워줘요\n",
      "매장이 청결해요\n",
      "['육태기 사당본점'] ...완료\n",
      "[데이터 수집 완료]\n",
      "소요 시간 : 13.436249732971191 \n",
      "\n",
      "6번째 가게\n"
     ]
    },
    {
     "name": "stderr",
     "output_type": "stream",
     "text": [
      "The chromedriver version (128.0.6613.137) detected in PATH at c:\\Users\\kk21\\Desktop\\TRIPER\\chromedriver.exe might not be compatible with the detected chrome version (129.0.6668.101); currently, chromedriver 129.0.6668.100 is recommended for chrome 129.*, so it is advised to delete the driver in PATH and retry\n"
     ]
    },
    {
     "name": "stdout",
     "output_type": "stream",
     "text": [
      "https://map.naver.com/p/search/%EB%8F%99%EC%9E%91%EA%B5%AC%20%ED%95%9C%EC%9A%B8%EA%B0%88%EB%B9%84/place/36341235?c=15.00,0,0,0,dh&isCorrectAnswer=true\n",
      "결과 한 개\n",
      "\n",
      "[크롤링 시작...]\n",
      "한울갈비\n",
      "육류,고기요리\n",
      "서울 동작구 동작대로1길 9 1층 / 2층, 1. 2호선 8번 출구로 나오신 후 좌측 골목 20m 전방 좌측에 위치2. 4호선 9번 출구로 나오신 후 롯데마트 앞 우측 골목\n",
      "주문 유형 3\n",
      "한우모듬\n",
      "메뉴 설명 없음\n",
      "리뷰 존재\n",
      "음식이 맛있어요\n",
      "친절해요\n",
      "단체모임 하기 좋아요\n",
      "매장이 넓어요\n",
      "재료가 신선해요\n",
      "['한울갈비'] ...완료\n",
      "[데이터 수집 완료]\n",
      "소요 시간 : 13.448323011398315 \n",
      "\n",
      "7번째 가게\n"
     ]
    },
    {
     "name": "stderr",
     "output_type": "stream",
     "text": [
      "The chromedriver version (128.0.6613.137) detected in PATH at c:\\Users\\kk21\\Desktop\\TRIPER\\chromedriver.exe might not be compatible with the detected chrome version (129.0.6668.101); currently, chromedriver 129.0.6668.100 is recommended for chrome 129.*, so it is advised to delete the driver in PATH and retry\n"
     ]
    },
    {
     "name": "stdout",
     "output_type": "stream",
     "text": [
      "https://map.naver.com/p/search/%EB%8F%99%EC%9E%91%EA%B5%AC%20%ED%94%BC%EC%89%AC%ED%9A%8C%ED%8F%AC%EC%B0%A8%20%EC%82%AC%EB%8B%B9%EC%A0%90/place/304489414?c=15.00,0,0,0,dh&isCorrectAnswer=true\n",
      "결과 한 개\n",
      "\n",
      "[크롤링 시작...]\n",
      "피쉬회포차 사당점\n",
      "생선회\n",
      "서울 동작구 동작대로7길 7 1층\n",
      "주문 유형 3\n",
      "광어+연어회(1~2인기준)\n",
      "살이 꽉찬 가리비을 편백나무에 쪄서 드려요 맛과당도 짱짱입니다\n",
      "리뷰 존재\n",
      "음식이 맛있어요\n",
      "재료가 신선해요\n",
      "가성비가 좋아요\n",
      "친절해요\n",
      "양이 많아요\n",
      "['피쉬회포차 사당점'] ...완료\n",
      "[데이터 수집 완료]\n",
      "소요 시간 : 13.430630683898926 \n",
      "\n",
      "8번째 가게\n"
     ]
    },
    {
     "name": "stderr",
     "output_type": "stream",
     "text": [
      "The chromedriver version (128.0.6613.137) detected in PATH at c:\\Users\\kk21\\Desktop\\TRIPER\\chromedriver.exe might not be compatible with the detected chrome version (129.0.6668.101); currently, chromedriver 129.0.6668.100 is recommended for chrome 129.*, so it is advised to delete the driver in PATH and retry\n"
     ]
    },
    {
     "name": "stdout",
     "output_type": "stream",
     "text": [
      "https://map.naver.com/p/search/%EB%8F%99%EC%9E%91%EA%B5%AC%20%EB%A9%98%EC%87%BC%EC%9A%B0%EB%9D%BC%EB%A9%98%20%EC%9D%B4%EC%88%98/place/1395304759?c=15.00,0,0,0,dh&isCorrectAnswer=true\n",
      "결과 한 개\n",
      "\n",
      "[크롤링 시작...]\n",
      "멘쇼우라멘 이수\n",
      "일본식라면\n",
      "서울 동작구 동작대로27가길 42 1층\n",
      "주문 유형 3\n",
      "돈코츠라멘\n",
      "매장에서 직접 일본전통방식으로 우려낸 국산돼지뼈와 비법타레로 정성을 다한 대표메뉴\n",
      "리뷰 존재\n",
      "음식이 맛있어요\n",
      "혼밥하기 좋아요\n",
      "인테리어가 멋져요\n",
      "친절해요\n",
      "재료가 신선해요\n",
      "['멘쇼우라멘 이수'] ...완료\n",
      "[데이터 수집 완료]\n",
      "소요 시간 : 13.436367511749268 \n",
      "\n",
      "9번째 가게\n"
     ]
    },
    {
     "name": "stderr",
     "output_type": "stream",
     "text": [
      "The chromedriver version (128.0.6613.137) detected in PATH at c:\\Users\\kk21\\Desktop\\TRIPER\\chromedriver.exe might not be compatible with the detected chrome version (129.0.6668.101); currently, chromedriver 129.0.6668.100 is recommended for chrome 129.*, so it is advised to delete the driver in PATH and retry\n"
     ]
    },
    {
     "name": "stdout",
     "output_type": "stream",
     "text": [
      "https://map.naver.com/p/search/%EB%8F%99%EC%9E%91%EA%B5%AC%20%EB%AA%A9%EA%B5%AC%EB%A9%8D%20%EC%9D%B4%EC%88%98%EC%A0%90?c=15.00,0,0,0,dh\n",
      "결과 여러 개 존재(지점 또는 근접 지역)\n",
      "\n",
      "[크롤링 시작...]\n",
      "목구멍 이수점\n",
      "육류,고기요리\n",
      "서울 동작구 동작대로27길 16-4\n",
      "주문 유형 3\n",
      "미박삼겹살(150g)\n",
      "메뉴 설명 없음\n",
      "리뷰 존재\n",
      "음식이 맛있어요\n",
      "고기 질이 좋아요\n",
      "매장이 넓어요\n",
      "친절해요\n",
      "직접 잘 구워줘요\n",
      "['목구멍 이수점'] ...완료\n",
      "[데이터 수집 완료]\n",
      "소요 시간 : 13.409111022949219 \n",
      "\n",
      "10번째 가게\n"
     ]
    },
    {
     "name": "stderr",
     "output_type": "stream",
     "text": [
      "The chromedriver version (128.0.6613.137) detected in PATH at c:\\Users\\kk21\\Desktop\\TRIPER\\chromedriver.exe might not be compatible with the detected chrome version (129.0.6668.101); currently, chromedriver 129.0.6668.100 is recommended for chrome 129.*, so it is advised to delete the driver in PATH and retry\n"
     ]
    },
    {
     "name": "stdout",
     "output_type": "stream",
     "text": [
      "https://map.naver.com/p/search/%EB%8F%99%EC%9E%91%EA%B5%AC%20%EC%86%90%EC%84%A0%EC%9E%A5/place/1849203435?c=15.00,0,0,0,dh&isCorrectAnswer=true\n",
      "결과 한 개\n",
      "\n",
      "[크롤링 시작...]\n",
      "손선장\n",
      "생선회\n",
      "서울 동작구 노들로 674 남3문 활어 17-19호/38-39호\n",
      "주문 유형 2\n",
      "숙성대방어모듬회N\n",
      "- (국산/일산) 대방어 구성, (국산) 대광어, (국산/일산)대참돔, (노르웨이산) 최상품 연어로 구성\n",
      "리뷰 존재\n",
      "음식이 맛있어요\n",
      "재료가 신선해요\n",
      "친절해요\n",
      "양이 많아요\n",
      "특별한 메뉴가 있어요\n",
      "['손선장'] ...완료\n",
      "[데이터 수집 완료]\n",
      "소요 시간 : 18.76844358444214 \n",
      "\n",
      "11번째 가게\n"
     ]
    },
    {
     "name": "stderr",
     "output_type": "stream",
     "text": [
      "The chromedriver version (128.0.6613.137) detected in PATH at c:\\Users\\kk21\\Desktop\\TRIPER\\chromedriver.exe might not be compatible with the detected chrome version (129.0.6668.101); currently, chromedriver 129.0.6668.100 is recommended for chrome 129.*, so it is advised to delete the driver in PATH and retry\n"
     ]
    },
    {
     "name": "stdout",
     "output_type": "stream",
     "text": [
      "https://map.naver.com/p/search/%EB%8F%99%EC%9E%91%EA%B5%AC%20%EB%8C%80%EB%B0%A9%EB%BC%88%EC%B9%BC%EA%B5%AD%EC%88%98/place/1847898924?c=15.00,0,0,0,dh&isCorrectAnswer=true\n",
      "결과 한 개\n",
      "\n",
      "[크롤링 시작...]\n",
      "대방뼈칼국수\n",
      "칼국수,만두\n",
      "서울 동작구 여의대방로24길 7 1층\n",
      "주문 유형 3\n",
      "만두 5알\n",
      "메뉴 설명 없음\n",
      "리뷰 존재\n",
      "음식이 맛있어요\n",
      "양이 많아요\n",
      "특별한 메뉴가 있어요\n",
      "재료가 신선해요\n",
      "가성비가 좋아요\n",
      "['대방뼈칼국수'] ...완료\n",
      "[데이터 수집 완료]\n",
      "소요 시간 : 13.415088415145874 \n",
      "\n",
      "12번째 가게\n"
     ]
    },
    {
     "name": "stderr",
     "output_type": "stream",
     "text": [
      "The chromedriver version (128.0.6613.137) detected in PATH at c:\\Users\\kk21\\Desktop\\TRIPER\\chromedriver.exe might not be compatible with the detected chrome version (129.0.6668.101); currently, chromedriver 129.0.6668.100 is recommended for chrome 129.*, so it is advised to delete the driver in PATH and retry\n"
     ]
    },
    {
     "name": "stdout",
     "output_type": "stream",
     "text": [
      "https://map.naver.com/p/search/%EB%8F%99%EC%9E%91%EA%B5%AC%20%EC%BF%A0%EC%9A%B0%EC%BF%A0%EC%9A%B0%20%EA%B3%A8%EB%93%9C%20%EB%B3%B4%EB%9D%BC%EB%A7%A4%EA%B3%B5%EC%9B%90%EC%A0%90?c=15.00,0,0,0,dh\n",
      "결과 여러 개 존재(지점 또는 근접 지역)\n",
      "\n",
      "[크롤링 시작...]\n",
      "쿠우쿠우 골드 보라매공원점\n",
      "일식,초밥뷔페\n",
      "서울 동작구 보라매로5가길 16 보라매아카데미타워 7층\n",
      "주문 유형 3\n",
      "평일점심\n",
      "평일 오전 11시부터 퇴장시간 기준 오후 5시까지 이용 가능 시간입니다.\n",
      "리뷰 존재\n",
      "음식이 맛있어요\n",
      "매장이 넓어요\n",
      "메뉴 구성이 알차요\n",
      "가성비가 좋아요\n",
      "재료가 신선해요\n",
      "['쿠우쿠우 골드 보라매공원점'] ...완료\n",
      "[데이터 수집 완료]\n",
      "소요 시간 : 13.440778493881226 \n",
      "\n",
      "13번째 가게\n"
     ]
    },
    {
     "name": "stderr",
     "output_type": "stream",
     "text": [
      "The chromedriver version (128.0.6613.137) detected in PATH at c:\\Users\\kk21\\Desktop\\TRIPER\\chromedriver.exe might not be compatible with the detected chrome version (129.0.6668.101); currently, chromedriver 129.0.6668.100 is recommended for chrome 129.*, so it is advised to delete the driver in PATH and retry\n"
     ]
    },
    {
     "name": "stdout",
     "output_type": "stream",
     "text": [
      "https://map.naver.com/p/search/%EB%8F%99%EC%9E%91%EA%B5%AC%20%EC%86%A5%EA%B3%A0%EC%A7%91%20%EC%82%AC%EB%8B%B9%EC%A0%90?c=15.00,0,0,0,dh\n",
      "결과 여러 개 존재(지점 또는 근접 지역)\n",
      "\n",
      "[크롤링 시작...]\n",
      "솥고집 사당점\n",
      "육류,고기요리\n",
      "서울 동작구 사당로 305 1, 2층\n",
      "주문 유형 3\n",
      "된장N삼겹\n",
      "특화 불판에 국내산 삼겹살을 구워서 구수한 된장찌개와 함께 먹는 환상의 조합 구이전골\n",
      "리뷰 존재\n",
      "음식이 맛있어요\n",
      "고기 질이 좋아요\n",
      "친절해요\n",
      "직접 잘 구워줘요\n",
      "특별한 메뉴가 있어요\n",
      "['솥고집 사당점'] ...완료\n",
      "[데이터 수집 완료]\n",
      "소요 시간 : 13.436508178710938 \n",
      "\n",
      "14번째 가게\n"
     ]
    },
    {
     "name": "stderr",
     "output_type": "stream",
     "text": [
      "The chromedriver version (128.0.6613.137) detected in PATH at c:\\Users\\kk21\\Desktop\\TRIPER\\chromedriver.exe might not be compatible with the detected chrome version (129.0.6668.101); currently, chromedriver 129.0.6668.100 is recommended for chrome 129.*, so it is advised to delete the driver in PATH and retry\n"
     ]
    },
    {
     "name": "stdout",
     "output_type": "stream",
     "text": [
      "https://map.naver.com/p/search/%EB%8F%99%EC%9E%91%EA%B5%AC%20%EA%B3%A0%EB%B0%98%EC%8B%9D%EB%8B%B9%20%EC%9D%B4%EC%88%98%EC%97%AD%EC%A0%90?c=15.00,0,0,0,dh\n",
      "결과 여러 개 존재(지점 또는 근접 지역)\n",
      "\n",
      "[크롤링 시작...]\n",
      "고반식당 이수역점\n",
      "돼지고기구이\n",
      "서울 동작구 동작대로27가길 15\n",
      "주문 유형 3\n",
      "숙성 생삼겹살\n",
      "숙성 생삼겹살2+숙성 생목살1\n",
      "리뷰 존재\n",
      "음식이 맛있어요\n",
      "고기 질이 좋아요\n",
      "친절해요\n",
      "직접 잘 구워줘요\n",
      "매장이 청결해요\n",
      "['고반식당 이수역점'] ...완료\n",
      "[데이터 수집 완료]\n",
      "소요 시간 : 13.43140196800232 \n",
      "\n",
      "15번째 가게\n"
     ]
    },
    {
     "name": "stderr",
     "output_type": "stream",
     "text": [
      "The chromedriver version (128.0.6613.137) detected in PATH at c:\\Users\\kk21\\Desktop\\TRIPER\\chromedriver.exe might not be compatible with the detected chrome version (129.0.6668.101); currently, chromedriver 129.0.6668.100 is recommended for chrome 129.*, so it is advised to delete the driver in PATH and retry\n"
     ]
    },
    {
     "name": "stdout",
     "output_type": "stream",
     "text": [
      "https://map.naver.com/p/search/%EB%8F%99%EC%9E%91%EA%B5%AC%20%ED%99%94%EC%84%A4%20%EC%82%AC%EB%8B%B9%EC%9D%B4%EC%88%98%EC%A7%81%EC%98%81%EC%A0%90?c=15.00,0,0,0,dh\n",
      "결과 여러 개 존재(지점 또는 근접 지역)\n",
      "가게 없음\n",
      "16번째 가게\n"
     ]
    },
    {
     "name": "stderr",
     "output_type": "stream",
     "text": [
      "The chromedriver version (128.0.6613.137) detected in PATH at c:\\Users\\kk21\\Desktop\\TRIPER\\chromedriver.exe might not be compatible with the detected chrome version (129.0.6668.101); currently, chromedriver 129.0.6668.100 is recommended for chrome 129.*, so it is advised to delete the driver in PATH and retry\n"
     ]
    },
    {
     "name": "stdout",
     "output_type": "stream",
     "text": [
      "https://map.naver.com/p/search/%EB%8F%99%EC%9E%91%EA%B5%AC%20%EC%8B%A0%EB%8F%84%EC%84%B8%EA%B8%B0%20%EB%B3%B4%EB%9D%BC%EB%A7%A4%EC%A7%81%EC%98%81%EC%A0%90?c=15.00,0,0,0,dh\n",
      "결과 여러 개 존재(지점 또는 근접 지역)\n",
      "\n",
      "[크롤링 시작...]\n",
      "신도세기 보라매직영점\n",
      "돼지고기구이\n",
      "서울 동작구 보라매로5가길 16 아카데미타워 빌딩 2층 202호, 202-3호\n",
      "주문 유형 3\n",
      "[금돼지] 숄더랙 180g/2인분기준\n",
      "신도세기금돼지 시그니처 구이 메뉴! 차별화된 품종으로 14일 숙성 에이징한 금돼지 숄더랙!\n",
      "리뷰 존재\n",
      "음식이 맛있어요\n",
      "고기 질이 좋아요\n",
      "매장이 넓어요\n",
      "인테리어가 멋져요\n",
      "직접 잘 구워줘요\n",
      "['신도세기 보라매직영점'] ...완료\n",
      "[데이터 수집 완료]\n",
      "소요 시간 : 13.428432703018188 \n",
      "\n",
      "17번째 가게\n"
     ]
    },
    {
     "name": "stderr",
     "output_type": "stream",
     "text": [
      "The chromedriver version (128.0.6613.137) detected in PATH at c:\\Users\\kk21\\Desktop\\TRIPER\\chromedriver.exe might not be compatible with the detected chrome version (129.0.6668.101); currently, chromedriver 129.0.6668.100 is recommended for chrome 129.*, so it is advised to delete the driver in PATH and retry\n"
     ]
    },
    {
     "name": "stdout",
     "output_type": "stream",
     "text": [
      "https://map.naver.com/p/search/%EB%8F%99%EC%9E%91%EA%B5%AC%20%EB%85%B8%EB%93%A4%EC%86%A5%EB%9A%9C%EA%BB%91?c=15.00,0,0,0,dh\n",
      "결과 여러 개 존재(지점 또는 근접 지역)\n",
      "\n",
      "[크롤링 시작...]\n",
      "노들솥뚜껑\n",
      "육류,고기요리\n",
      "서울 동작구 만양로18길 14 1층\n",
      "주문 유형 3\n",
      "15가지 야채쌈버섯미나리등 무한리필\n",
      "쌈야채,버섯등 푸지함게 싸먹어봐요!! 건강하게 가성비있게!! 최고의 흑돼지 맛을 느껴보세요\n",
      "리뷰 존재\n",
      "음식이 맛있어요\n",
      "고기 질이 좋아요\n",
      "가성비가 좋아요\n",
      "매장이 넓어요\n",
      "양이 많아요\n",
      "['노들솥뚜껑'] ...완료\n",
      "[데이터 수집 완료]\n",
      "소요 시간 : 13.424742698669434 \n",
      "\n",
      "18번째 가게\n"
     ]
    },
    {
     "name": "stderr",
     "output_type": "stream",
     "text": [
      "The chromedriver version (128.0.6613.137) detected in PATH at c:\\Users\\kk21\\Desktop\\TRIPER\\chromedriver.exe might not be compatible with the detected chrome version (129.0.6668.101); currently, chromedriver 129.0.6668.100 is recommended for chrome 129.*, so it is advised to delete the driver in PATH and retry\n"
     ]
    },
    {
     "name": "stdout",
     "output_type": "stream",
     "text": [
      "https://map.naver.com/p/search/%EB%8F%99%EC%9E%91%EA%B5%AC%20%EC%9B%90%EC%A1%B0%EB%B6%80%EC%95%88%EC%A7%91%20%EB%85%B8%EB%9F%89%EC%A7%84%EC%A0%90?c=15.00,0,0,0,dh\n",
      "결과 여러 개 존재(지점 또는 근접 지역)\n",
      "\n",
      "[크롤링 시작...]\n",
      "원조부안집 노량진점\n",
      "돼지고기구이\n",
      "서울 동작구 만양로 95 1층\n",
      "주문 유형 3\n",
      "원조한판\n",
      "🏆\"가성비 최강 세트 메뉴\" 📌원조한판! 인기메뉴를 종류별로 즐겨보자!\n",
      "리뷰 존재\n",
      "음식이 맛있어요\n",
      "친절해요\n",
      "고기 질이 좋아요\n",
      "특별한 메뉴가 있어요\n",
      "매장이 청결해요\n",
      "['원조부안집 노량진점'] ...완료\n",
      "[데이터 수집 완료]\n",
      "소요 시간 : 13.413944721221924 \n",
      "\n",
      "19번째 가게\n"
     ]
    },
    {
     "name": "stderr",
     "output_type": "stream",
     "text": [
      "The chromedriver version (128.0.6613.137) detected in PATH at c:\\Users\\kk21\\Desktop\\TRIPER\\chromedriver.exe might not be compatible with the detected chrome version (129.0.6668.101); currently, chromedriver 129.0.6668.100 is recommended for chrome 129.*, so it is advised to delete the driver in PATH and retry\n"
     ]
    },
    {
     "name": "stdout",
     "output_type": "stream",
     "text": [
      "https://map.naver.com/p/search/%EB%8F%99%EC%9E%91%EA%B5%AC%20%EA%B2%BD%EC%95%84%EC%8B%9D%EB%8B%B9%20%EB%85%B8%EB%9F%89%EC%A7%84%EC%A0%90/place/1120581916?c=15.00,0,0,0,dh&isCorrectAnswer=true\n",
      "결과 한 개\n",
      "\n",
      "[크롤링 시작...]\n",
      "경아식당 노량진점\n",
      "찌개,전골\n",
      "서울 동작구 만양로18길 10 2층 경아식당\n",
      "주문 유형 3\n",
      "경아생대패한판\n",
      "묵은지김치+생대패삼겹살450g+모듬버섯+미나리+된장찌개\n",
      "리뷰 존재\n",
      "음식이 맛있어요\n",
      "매장이 넓어요\n",
      "양이 많아요\n",
      "재료가 신선해요\n",
      "친절해요\n",
      "['경아식당 노량진점'] ...완료\n",
      "[데이터 수집 완료]\n",
      "소요 시간 : 13.38536548614502 \n",
      "\n",
      "20번째 가게\n"
     ]
    },
    {
     "name": "stderr",
     "output_type": "stream",
     "text": [
      "The chromedriver version (128.0.6613.137) detected in PATH at c:\\Users\\kk21\\Desktop\\TRIPER\\chromedriver.exe might not be compatible with the detected chrome version (129.0.6668.101); currently, chromedriver 129.0.6668.100 is recommended for chrome 129.*, so it is advised to delete the driver in PATH and retry\n"
     ]
    },
    {
     "name": "stdout",
     "output_type": "stream",
     "text": [
      "https://map.naver.com/p/search/%EB%8F%99%EC%9E%91%EA%B5%AC%20%EB%85%B8%EB%9F%89%EC%A7%84%EC%B9%AD%EB%94%B0%EC%98%A4%EC%96%91%EA%BC%AC%EC%B9%98%202%ED%98%B8%EC%A0%90/place/1834948380?c=15.00,0,0,0,dh&isCorrectAnswer=true\n",
      "결과 한 개\n",
      "\n",
      "[크롤링 시작...]\n",
      "노량진칭따오양꼬치 2호점\n",
      "양꼬치\n",
      "서울 동작구 노량진로12길 8 2층\n",
      "주문 유형 3\n",
      "양꼬치 1인 10꼬치\n",
      "쉐프님이 직접 손으로 수작업해서 꼬치 작업합니다.\n",
      "리뷰 존재\n",
      "음식이 맛있어요\n",
      "고기 질이 좋아요\n",
      "친절해요\n",
      "매장이 넓어요\n",
      "양이 많아요\n",
      "['노량진칭따오양꼬치 2호점'] ...완료\n",
      "[데이터 수집 완료]\n",
      "소요 시간 : 13.438713073730469 \n",
      "\n",
      "21번째 가게\n"
     ]
    },
    {
     "name": "stderr",
     "output_type": "stream",
     "text": [
      "The chromedriver version (128.0.6613.137) detected in PATH at c:\\Users\\kk21\\Desktop\\TRIPER\\chromedriver.exe might not be compatible with the detected chrome version (129.0.6668.101); currently, chromedriver 129.0.6668.100 is recommended for chrome 129.*, so it is advised to delete the driver in PATH and retry\n"
     ]
    },
    {
     "name": "stdout",
     "output_type": "stream",
     "text": [
      "https://map.naver.com/p/search/%EB%8F%99%EC%9E%91%EA%B5%AC%20%EC%98%A8%ED%81%B4%EB%9D%BC%EC%9A%B0%EB%93%9C%EB%82%98%EC%9D%B8/place/1442187704?c=15.00,0,0,0,dh&isCorrectAnswer=true\n",
      "결과 한 개\n",
      "\n",
      "[크롤링 시작...]\n",
      "온클라우드나인\n",
      "카페,디저트\n",
      "서울 동작구 사당로26길 109 1층 101호 온클라우드나인\n",
      "주문 유형 3\n",
      "대표 메뉴 없음\n",
      "메뉴 설명 없음\n",
      "오류 예외 처리\n",
      "22번째 가게\n"
     ]
    },
    {
     "name": "stderr",
     "output_type": "stream",
     "text": [
      "The chromedriver version (128.0.6613.137) detected in PATH at c:\\Users\\kk21\\Desktop\\TRIPER\\chromedriver.exe might not be compatible with the detected chrome version (129.0.6668.101); currently, chromedriver 129.0.6668.100 is recommended for chrome 129.*, so it is advised to delete the driver in PATH and retry\n"
     ]
    },
    {
     "name": "stdout",
     "output_type": "stream",
     "text": [
      "https://map.naver.com/p/search/%EB%8F%99%EC%9E%91%EA%B5%AC%20%ED%95%98%EB%B8%8C?c=15.00,0,0,0,dh\n",
      "결과 여러 개 존재(지점 또는 근접 지역)\n",
      "\n",
      "[크롤링 시작...]\n",
      "하브\n",
      "양식\n",
      "서울 동작구 흑석로8길 3 HAV\n",
      "주문 유형 3\n",
      "와인\n",
      "하브표 하이볼은 도수가 높아요!! 도수 조절 가능!!\n",
      "리뷰 존재\n",
      "음식이 맛있어요\n",
      "친절해요\n",
      "술이 다양해요\n",
      "대화하기 좋아요\n",
      "가성비가 좋아요\n",
      "['하브'] ...완료\n",
      "[데이터 수집 완료]\n",
      "소요 시간 : 13.404960632324219 \n",
      "\n",
      "23번째 가게\n"
     ]
    },
    {
     "name": "stderr",
     "output_type": "stream",
     "text": [
      "The chromedriver version (128.0.6613.137) detected in PATH at c:\\Users\\kk21\\Desktop\\TRIPER\\chromedriver.exe might not be compatible with the detected chrome version (129.0.6668.101); currently, chromedriver 129.0.6668.100 is recommended for chrome 129.*, so it is advised to delete the driver in PATH and retry\n"
     ]
    },
    {
     "name": "stdout",
     "output_type": "stream",
     "text": [
      "https://map.naver.com/p/search/%EB%8F%99%EC%9E%91%EA%B5%AC%20%EB%B0%B1%ED%98%B8%EC%96%91%EB%8C%80%EC%B0%BD/place/1573324272?c=15.00,0,0,0,dh&isCorrectAnswer=true\n",
      "결과 한 개\n",
      "\n",
      "[크롤링 시작...]\n",
      "백호양대창\n",
      "곱창,막창,양\n",
      "서울 동작구 동작대로25길 30 1층 백호양대창\n",
      "주문 유형 3\n",
      "대창구이\n",
      "메뉴 설명 없음\n",
      "리뷰 존재\n",
      "음식이 맛있어요\n",
      "고기 질이 좋아요\n",
      "친절해요\n",
      "직접 잘 구워줘요\n",
      "양이 많아요\n",
      "['백호양대창'] ...완료\n",
      "[데이터 수집 완료]\n",
      "소요 시간 : 13.418894290924072 \n",
      "\n",
      "24번째 가게\n"
     ]
    },
    {
     "name": "stderr",
     "output_type": "stream",
     "text": [
      "The chromedriver version (128.0.6613.137) detected in PATH at c:\\Users\\kk21\\Desktop\\TRIPER\\chromedriver.exe might not be compatible with the detected chrome version (129.0.6668.101); currently, chromedriver 129.0.6668.100 is recommended for chrome 129.*, so it is advised to delete the driver in PATH and retry\n"
     ]
    },
    {
     "name": "stdout",
     "output_type": "stream",
     "text": [
      "https://map.naver.com/p/search/%EB%8F%99%EC%9E%91%EA%B5%AC%20%EB%A8%B8%EC%B9%98%EC%BB%A4%ED%94%BC/place/1174637997?c=15.00,0,0,0,dh&isCorrectAnswer=true\n",
      "결과 한 개\n",
      "\n",
      "[크롤링 시작...]\n",
      "머치커피\n",
      "카페,디저트\n",
      "서울 동작구 동작대로9길 43 1층\n",
      "주문 유형 3\n",
      "너티크림모카\n",
      "고소한 아몬드와 달달한 크림이 조화를 이룬 커피\n",
      "리뷰 존재\n",
      "커피가 맛있어요\n",
      "음료가 맛있어요\n",
      "친절해요\n",
      "인테리어가 멋져요\n",
      "디저트가 맛있어요\n",
      "['머치커피'] ...완료\n",
      "[데이터 수집 완료]\n",
      "소요 시간 : 13.413009643554688 \n",
      "\n",
      "25번째 가게\n"
     ]
    },
    {
     "name": "stderr",
     "output_type": "stream",
     "text": [
      "The chromedriver version (128.0.6613.137) detected in PATH at c:\\Users\\kk21\\Desktop\\TRIPER\\chromedriver.exe might not be compatible with the detected chrome version (129.0.6668.101); currently, chromedriver 129.0.6668.100 is recommended for chrome 129.*, so it is advised to delete the driver in PATH and retry\n"
     ]
    },
    {
     "name": "stdout",
     "output_type": "stream",
     "text": [
      "https://map.naver.com/p/search/%EB%8F%99%EC%9E%91%EA%B5%AC%20%EB%82%99%EC%84%B1%EA%B3%B1%EC%B0%BD?c=15.00,0,0,0,dh\n",
      "결과 여러 개 존재(지점 또는 근접 지역)\n",
      "\n",
      "[크롤링 시작...]\n",
      "낙성곱창\n",
      "곱창,막창,양\n",
      "서울 동작구 동작대로19길 60\n",
      "주문 유형 3\n",
      "모듬\n",
      "메뉴 설명 없음\n",
      "리뷰 존재\n",
      "음식이 맛있어요\n",
      "친절해요\n",
      "재료가 신선해요\n",
      "양이 많아요\n",
      "가성비가 좋아요\n",
      "['낙성곱창'] ...완료\n",
      "[데이터 수집 완료]\n",
      "소요 시간 : 13.382986545562744 \n",
      "\n",
      "26번째 가게\n"
     ]
    },
    {
     "name": "stderr",
     "output_type": "stream",
     "text": [
      "The chromedriver version (128.0.6613.137) detected in PATH at c:\\Users\\kk21\\Desktop\\TRIPER\\chromedriver.exe might not be compatible with the detected chrome version (129.0.6668.101); currently, chromedriver 129.0.6668.100 is recommended for chrome 129.*, so it is advised to delete the driver in PATH and retry\n"
     ]
    },
    {
     "name": "stdout",
     "output_type": "stream",
     "text": [
      "https://map.naver.com/p/search/%EB%8F%99%EC%9E%91%EA%B5%AC%20%EB%93%B1%EB%82%98%EB%AC%B4%EC%A7%91?c=15.00,0,0,0,dh\n",
      "결과 여러 개 존재(지점 또는 근접 지역)\n",
      "\n",
      "[크롤링 시작...]\n",
      "등나무집\n",
      "곰탕,설렁탕\n",
      "서울 동작구 대림로 52\n",
      "주문 유형 3\n",
      "꼬리찜 (대)\n",
      "찜과수육 구이를 드시는 분께는 물/비빔냉면, 된장찌개를 5천원에 드리고 있습니다.\n",
      "리뷰 존재\n",
      "음식이 맛있어요\n",
      "친절해요\n",
      "특별한 메뉴가 있어요\n",
      "매장이 넓어요\n",
      "재료가 신선해요\n",
      "['등나무집'] ...완료\n",
      "[데이터 수집 완료]\n",
      "소요 시간 : 13.401858806610107 \n",
      "\n",
      "27번째 가게\n"
     ]
    },
    {
     "name": "stderr",
     "output_type": "stream",
     "text": [
      "The chromedriver version (128.0.6613.137) detected in PATH at c:\\Users\\kk21\\Desktop\\TRIPER\\chromedriver.exe might not be compatible with the detected chrome version (129.0.6668.101); currently, chromedriver 129.0.6668.100 is recommended for chrome 129.*, so it is advised to delete the driver in PATH and retry\n"
     ]
    },
    {
     "name": "stdout",
     "output_type": "stream",
     "text": [
      "https://map.naver.com/p/search/%EB%8F%99%EC%9E%91%EA%B5%AC%20%EB%B0%94%EB%8B%A4%ED%9A%8C%ED%96%A5%EA%B8%B0?c=15.00,0,0,0,dh\n",
      "결과 여러 개 존재(지점 또는 근접 지역)\n",
      "\n",
      "[크롤링 시작...]\n",
      "바다회향기\n",
      "생선회\n",
      "서울 동작구 장승배기로19다길 1 1층(노량진동)\n",
      "주문 유형 3\n",
      "자연산모듬회(소)\n",
      "100% 자연산활어 5종 이상\n",
      "리뷰 존재\n",
      "음식이 맛있어요\n",
      "특별한 메뉴가 있어요\n",
      "재료가 신선해요\n",
      "친절해요\n",
      "메뉴 구성이 알차요\n",
      "['바다회향기'] ...완료\n",
      "[데이터 수집 완료]\n",
      "소요 시간 : 13.440693855285645 \n",
      "\n",
      "28번째 가게\n"
     ]
    },
    {
     "name": "stderr",
     "output_type": "stream",
     "text": [
      "The chromedriver version (128.0.6613.137) detected in PATH at c:\\Users\\kk21\\Desktop\\TRIPER\\chromedriver.exe might not be compatible with the detected chrome version (129.0.6668.101); currently, chromedriver 129.0.6668.100 is recommended for chrome 129.*, so it is advised to delete the driver in PATH and retry\n"
     ]
    },
    {
     "name": "stdout",
     "output_type": "stream",
     "text": [
      "https://map.naver.com/p/search/%EB%8F%99%EC%9E%91%EA%B5%AC%20%EB%B0%94%EB%A5%B8%ED%99%A9%EC%86%8C%EA%B3%B1%EC%B0%BD?c=15.00,0,0,0,dh\n",
      "결과 여러 개 존재(지점 또는 근접 지역)\n",
      "\n",
      "[크롤링 시작...]\n",
      "바른황소곱창\n",
      "곱창,막창,양\n",
      "서울 동작구 동작대로7길 4 1층 바른황소곱창\n",
      "주문 유형 3\n",
      "모듬곱창 1인분 250g\n",
      "한우소곱창+한우대창+소막창 250g 염통은 그램수 미포함 서비스로 제공됩니다.\n",
      "리뷰 존재\n",
      "음식이 맛있어요\n",
      "고기 질이 좋아요\n",
      "친절해요\n",
      "잡내가 적어요\n",
      "직접 잘 구워줘요\n",
      "['바른황소곱창'] ...완료\n",
      "[데이터 수집 완료]\n",
      "소요 시간 : 13.414426326751709 \n",
      "\n",
      "29번째 가게\n"
     ]
    },
    {
     "name": "stderr",
     "output_type": "stream",
     "text": [
      "The chromedriver version (128.0.6613.137) detected in PATH at c:\\Users\\kk21\\Desktop\\TRIPER\\chromedriver.exe might not be compatible with the detected chrome version (129.0.6668.101); currently, chromedriver 129.0.6668.100 is recommended for chrome 129.*, so it is advised to delete the driver in PATH and retry\n"
     ]
    },
    {
     "name": "stdout",
     "output_type": "stream",
     "text": [
      "https://map.naver.com/p/search/%EB%8F%99%EC%9E%91%EA%B5%AC%20%EC%82%AC%EB%8B%B9%EB%8F%88?c=15.00,0,0,0,dh\n",
      "결과 여러 개 존재(지점 또는 근접 지역)\n",
      "\n",
      "[크롤링 시작...]\n",
      "사당돈\n",
      "돼지고기구이\n",
      "서울 동작구 사당로30길 159 1층\n",
      "주문 유형 3\n",
      "목살\n",
      "최상급 프리미엄 LYDD품종 고기를 숙성시킨 프리미엄 돼지고기.\n",
      "리뷰 존재\n",
      "음식이 맛있어요\n",
      "고기 질이 좋아요\n",
      "친절해요\n",
      "재료가 신선해요\n",
      "특별한 메뉴가 있어요\n",
      "['사당돈'] ...완료\n",
      "[데이터 수집 완료]\n",
      "소요 시간 : 13.424973964691162 \n",
      "\n",
      "30번째 가게\n"
     ]
    },
    {
     "name": "stderr",
     "output_type": "stream",
     "text": [
      "The chromedriver version (128.0.6613.137) detected in PATH at c:\\Users\\kk21\\Desktop\\TRIPER\\chromedriver.exe might not be compatible with the detected chrome version (129.0.6668.101); currently, chromedriver 129.0.6668.100 is recommended for chrome 129.*, so it is advised to delete the driver in PATH and retry\n"
     ]
    },
    {
     "name": "stdout",
     "output_type": "stream",
     "text": [
      "https://map.naver.com/p/search/%EB%8F%99%EC%9E%91%EA%B5%AC%20%EC%8A%A4%EC%8B%9C%EB%A1%9C%EB%A1%9C/place/21818239?c=15.00,0,0,0,dh&isCorrectAnswer=true\n",
      "결과 한 개\n",
      "\n",
      "[크롤링 시작...]\n",
      "스시로로\n",
      "초밥,롤\n",
      "서울 동작구 동작대로23길 29 1층\n",
      "주문 유형 3\n",
      "로로초밥 12P\n",
      "참치2 활어2 연어2 초새우2 쭈꾸미2 소라2\n",
      "리뷰 존재\n",
      "음식이 맛있어요\n",
      "재료가 신선해요\n",
      "친절해요\n",
      "양이 많아요\n",
      "특별한 메뉴가 있어요\n",
      "['스시로로'] ...완료\n",
      "[데이터 수집 완료]\n",
      "소요 시간 : 13.408874034881592 \n",
      "\n",
      "31번째 가게\n"
     ]
    },
    {
     "name": "stderr",
     "output_type": "stream",
     "text": [
      "The chromedriver version (128.0.6613.137) detected in PATH at c:\\Users\\kk21\\Desktop\\TRIPER\\chromedriver.exe might not be compatible with the detected chrome version (129.0.6668.101); currently, chromedriver 129.0.6668.100 is recommended for chrome 129.*, so it is advised to delete the driver in PATH and retry\n"
     ]
    },
    {
     "name": "stdout",
     "output_type": "stream",
     "text": [
      "https://map.naver.com/p/search/%EB%8F%99%EC%9E%91%EA%B5%AC%20%EC%B9%B5%ED%86%A0/place/1453456842?c=15.00,0,0,0,dh&isCorrectAnswer=true\n",
      "결과 한 개\n",
      "\n",
      "[크롤링 시작...]\n",
      "칵토\n",
      "양식\n",
      "서울 동작구 동작대로7길 10 2층\n",
      "주문 유형 3\n",
      "아미고스 플래터\n",
      "다양한 타코를 내 맘대로 만들어 먹는 푸짐한 플래터. 2~3인 드시기 적당한 양입니다 :)\n",
      "리뷰 존재\n",
      "음식이 맛있어요\n",
      "인테리어가 멋져요\n",
      "친절해요\n",
      "특별한 메뉴가 있어요\n",
      "재료가 신선해요\n",
      "['칵토'] ...완료\n",
      "[데이터 수집 완료]\n",
      "소요 시간 : 13.40839695930481 \n",
      "\n",
      "32번째 가게\n"
     ]
    },
    {
     "name": "stderr",
     "output_type": "stream",
     "text": [
      "The chromedriver version (128.0.6613.137) detected in PATH at c:\\Users\\kk21\\Desktop\\TRIPER\\chromedriver.exe might not be compatible with the detected chrome version (129.0.6668.101); currently, chromedriver 129.0.6668.100 is recommended for chrome 129.*, so it is advised to delete the driver in PATH and retry\n"
     ]
    },
    {
     "name": "stdout",
     "output_type": "stream",
     "text": [
      "https://map.naver.com/p/search/%EB%8F%99%EC%9E%91%EA%B5%AC%20%EC%98%A4%EB%93%9C%EB%A6%AC%EA%B3%B1%EC%B0%BD/place/1139062420?c=15.00,0,0,0,dh&isCorrectAnswer=true\n",
      "결과 한 개\n",
      "\n",
      "[크롤링 시작...]\n",
      "오드리곱창\n",
      "곱창,막창,양\n",
      "서울 동작구 동작대로7길 65 1층\n",
      "주문 유형 3\n",
      "모듬구이(1인분)\n",
      "우동사리기본 1개 포함\n",
      "리뷰 존재\n",
      "음식이 맛있어요\n",
      "고기 질이 좋아요\n",
      "친절해요\n",
      "매장이 넓어요\n",
      "양이 많아요\n",
      "['오드리곱창'] ...완료\n",
      "[데이터 수집 완료]\n",
      "소요 시간 : 13.450685739517212 \n",
      "\n",
      "33번째 가게\n"
     ]
    },
    {
     "name": "stderr",
     "output_type": "stream",
     "text": [
      "The chromedriver version (128.0.6613.137) detected in PATH at c:\\Users\\kk21\\Desktop\\TRIPER\\chromedriver.exe might not be compatible with the detected chrome version (129.0.6668.101); currently, chromedriver 129.0.6668.100 is recommended for chrome 129.*, so it is advised to delete the driver in PATH and retry\n"
     ]
    },
    {
     "name": "stdout",
     "output_type": "stream",
     "text": [
      "https://map.naver.com/p/search/%EB%8F%99%EC%9E%91%EA%B5%AC%20%ED%98%95%EC%A0%9C%EC%83%81%ED%9A%8C?c=15.00,0,0,0,dh\n",
      "결과 여러 개 존재(지점 또는 근접 지역)\n",
      "\n",
      "[크롤링 시작...]\n",
      "형제상회\n",
      "생선회\n",
      "서울 동작구 노들로 674 1층 북3문 168~172호\n",
      "주문 유형 3\n",
      "모듬회1인\n",
      "가격대가 높아질수록 특수부위, 뱃살부위 등 좋은 부위가 늘어나며, 양의 차이는 거의 없습니다.\n",
      "리뷰 존재\n",
      "음식이 맛있어요\n",
      "재료가 신선해요\n",
      "양이 많아요\n",
      "가성비가 좋아요\n",
      "친절해요\n",
      "['형제상회'] ...완료\n",
      "[데이터 수집 완료]\n",
      "소요 시간 : 13.414313077926636 \n",
      "\n",
      "34번째 가게\n"
     ]
    },
    {
     "name": "stderr",
     "output_type": "stream",
     "text": [
      "The chromedriver version (128.0.6613.137) detected in PATH at c:\\Users\\kk21\\Desktop\\TRIPER\\chromedriver.exe might not be compatible with the detected chrome version (129.0.6668.101); currently, chromedriver 129.0.6668.100 is recommended for chrome 129.*, so it is advised to delete the driver in PATH and retry\n"
     ]
    },
    {
     "name": "stdout",
     "output_type": "stream",
     "text": [
      "https://map.naver.com/p/search/%EB%8F%99%EC%9E%91%EA%B5%AC%20%EB%B2%A0%EC%9D%B4%ED%81%AC%EA%B0%80%EB%93%A0/place/1871802466?isCorrectAnswer=true&c=15.00,0,0,0,dh\n",
      "결과 한 개\n",
      "\n",
      "[크롤링 시작...]\n",
      "베이크가든\n",
      "카페,디저트\n",
      "서울 동작구 사당로28길 10-1 1층, 2층\n",
      "주문 유형 3\n",
      "아메리카노\n",
      "메뉴 설명 없음\n",
      "리뷰 존재\n",
      "디저트가 맛있어요\n",
      "인테리어가 멋져요\n",
      "친절해요\n",
      "커피가 맛있어요\n",
      "특별한 메뉴가 있어요\n",
      "['베이크가든'] ...완료\n",
      "[데이터 수집 완료]\n",
      "소요 시간 : 13.41390609741211 \n",
      "\n",
      "35번째 가게\n"
     ]
    },
    {
     "name": "stderr",
     "output_type": "stream",
     "text": [
      "The chromedriver version (128.0.6613.137) detected in PATH at c:\\Users\\kk21\\Desktop\\TRIPER\\chromedriver.exe might not be compatible with the detected chrome version (129.0.6668.101); currently, chromedriver 129.0.6668.100 is recommended for chrome 129.*, so it is advised to delete the driver in PATH and retry\n"
     ]
    },
    {
     "name": "stdout",
     "output_type": "stream",
     "text": [
      "https://map.naver.com/p/search/%EB%8F%99%EC%9E%91%EA%B5%AC%20%ED%98%B8%EC%9A%94?c=15.00,0,0,0,dh\n",
      "결과 여러 개 존재(지점 또는 근접 지역)\n",
      "\n",
      "[크롤링 시작...]\n",
      "호요\n",
      "이자카야\n",
      "서울 동작구 동작대로13길 6-7 1층 호요\n",
      "주문 유형 3\n",
      "히로시마풍 오코노미야끼\n",
      "호요 대표 오꼬노미야끼!!\n",
      "리뷰 존재\n",
      "음식이 맛있어요\n",
      "술이 다양해요\n",
      "친절해요\n",
      "특별한 메뉴가 있어요\n",
      "기본 안주가 좋아요\n",
      "['호요'] ...완료\n",
      "[데이터 수집 완료]\n",
      "소요 시간 : 13.447916746139526 \n",
      "\n",
      "36번째 가게\n"
     ]
    },
    {
     "name": "stderr",
     "output_type": "stream",
     "text": [
      "The chromedriver version (128.0.6613.137) detected in PATH at c:\\Users\\kk21\\Desktop\\TRIPER\\chromedriver.exe might not be compatible with the detected chrome version (129.0.6668.101); currently, chromedriver 129.0.6668.100 is recommended for chrome 129.*, so it is advised to delete the driver in PATH and retry\n"
     ]
    },
    {
     "name": "stdout",
     "output_type": "stream",
     "text": [
      "https://map.naver.com/p/search/%EB%8F%99%EC%9E%91%EA%B5%AC%20%EC%B4%88%EC%99%80%EB%B0%A5/place/37447037?c=15.00,0,0,0,dh&isCorrectAnswer=true\n",
      "결과 한 개\n",
      "\n",
      "[크롤링 시작...]\n",
      "초와밥\n",
      "초밥,롤\n",
      "서울 동작구 동작대로5길 8 2층\n",
      "주문 유형 3\n",
      "성게알덮밥\n",
      "성게 단새우를 감태에 싸서먹음 바다의 향을 느낄수있음\n",
      "리뷰 존재\n",
      "음식이 맛있어요\n",
      "재료가 신선해요\n",
      "가성비가 좋아요\n",
      "친절해요\n",
      "혼밥하기 좋아요\n",
      "['초와밥'] ...완료\n",
      "[데이터 수집 완료]\n",
      "소요 시간 : 13.389675855636597 \n",
      "\n",
      "37번째 가게\n"
     ]
    },
    {
     "name": "stderr",
     "output_type": "stream",
     "text": [
      "The chromedriver version (128.0.6613.137) detected in PATH at c:\\Users\\kk21\\Desktop\\TRIPER\\chromedriver.exe might not be compatible with the detected chrome version (129.0.6668.101); currently, chromedriver 129.0.6668.100 is recommended for chrome 129.*, so it is advised to delete the driver in PATH and retry\n"
     ]
    },
    {
     "name": "stdout",
     "output_type": "stream",
     "text": [
      "https://map.naver.com/p/search/%EB%8F%99%EC%9E%91%EA%B5%AC%2072420%20%EC%82%AC%EB%8B%B9%EB%B3%B8%EC%A0%90?c=15.00,0,0,0,dh\n",
      "결과 여러 개 존재(지점 또는 근접 지역)\n",
      "\n",
      "[크롤링 시작...]\n",
      "72420 사당본점\n",
      "72420\n",
      "서울 동작구 동작대로1길 50 1층\n",
      "주문 유형 3\n",
      "수제짜조(2piece)\n",
      "평일 점심만 가능 11:30~3:00 안심양지 (S)+새우볶음밥(S) 볶음밥과 쌀국수를 같이즐길수있는 평일점심 직장인분들을 위한 세트메뉴\n",
      "리뷰 존재\n",
      "음식이 맛있어요\n",
      "친절해요\n",
      "양이 많아요\n",
      "재료가 신선해요\n",
      "가성비가 좋아요\n",
      "['72420 사당본점'] ...완료\n",
      "[데이터 수집 완료]\n",
      "소요 시간 : 13.392521142959595 \n",
      "\n",
      "38번째 가게\n"
     ]
    },
    {
     "name": "stderr",
     "output_type": "stream",
     "text": [
      "The chromedriver version (128.0.6613.137) detected in PATH at c:\\Users\\kk21\\Desktop\\TRIPER\\chromedriver.exe might not be compatible with the detected chrome version (129.0.6668.101); currently, chromedriver 129.0.6668.100 is recommended for chrome 129.*, so it is advised to delete the driver in PATH and retry\n"
     ]
    },
    {
     "name": "stdout",
     "output_type": "stream",
     "text": [
      "https://map.naver.com/p/search/%EB%8F%99%EC%9E%91%EA%B5%AC%20%EC%A1%B1%EB%B0%9C%ED%8C%A9%ED%86%A0%EB%A6%AC%20%EC%9D%B4%EC%88%98%EC%97%AD%EC%A0%90?c=15.00,0,0,0,dh\n",
      "결과 여러 개 존재(지점 또는 근접 지역)\n",
      "\n",
      "[크롤링 시작...]\n",
      "족발팩토리 이수역점\n",
      "족발,보쌈\n",
      "서울 동작구 동작대로25길 22 1층 족발팩토리 이수역점\n",
      "주문 유형 1\n",
      "[포장할인] 7가지를 한번에 족팩플래터인기대표\n",
      "족팩 올인원 포장 주문시, 구운 오리지날족발(250g)+불족발(250g)+미니족(1인분)+가브리보쌈(200g)+비빔막국수+해파리냉채 or 계란찜 선택+주먹밥+감자튀김까지 한번에 제공되며 추가적으로는 + 5칸반찬[무말랭이+쌈장+새우젓+마늘 편+아삭이고추+새우칩+알배기 배추] + 감자튀김 전용 케첩 + 마늘 소스가 제공됩니다 [ONE SIZE, 3인] 족발 팩토리 야심작이자 시그니처 메뉴인 족팩 올인원에는 대표 메인 메뉴와 사이드 메뉴가 올인원으로 포함되어 있습니다 다양한 메뉴를 한번에 즐겨보세요 감사합니다\n",
      "리뷰 존재\n",
      "음식이 맛있어요\n",
      "고기 질이 좋아요\n",
      "인테리어가 멋져요\n",
      "양이 많아요\n",
      "친절해요\n",
      "['족발팩토리 이수역점'] ...완료\n",
      "[데이터 수집 완료]\n",
      "소요 시간 : 18.452333450317383 \n",
      "\n",
      "39번째 가게\n"
     ]
    },
    {
     "name": "stderr",
     "output_type": "stream",
     "text": [
      "The chromedriver version (128.0.6613.137) detected in PATH at c:\\Users\\kk21\\Desktop\\TRIPER\\chromedriver.exe might not be compatible with the detected chrome version (129.0.6668.101); currently, chromedriver 129.0.6668.100 is recommended for chrome 129.*, so it is advised to delete the driver in PATH and retry\n"
     ]
    },
    {
     "name": "stdout",
     "output_type": "stream",
     "text": [
      "https://map.naver.com/p/search/%EB%8F%99%EC%9E%91%EA%B5%AC%20%EB%8F%8C%EB%8B%B4%EC%A7%91%20%EC%83%A4%EB%B8%8C%EC%83%A4%EB%B8%8C%20&%20%EB%8F%8C%EB%8B%B4%20%ED%99%94%EB%8D%95%EC%A1%B1%EB%B0%9C/place/1085922148?c=15.00,0,0,0,dh&isCorrectAnswer=true\n",
      "결과 한 개\n",
      "\n",
      "[크롤링 시작...]\n",
      "돌담집 샤브샤브 & 돌담 화덕족발\n",
      "샤브샤브\n",
      "서울 동작구 보라매로5길 43 지하 1층 106호\n",
      "주문 유형 3\n",
      "화덕족발,튀김족발,옛날족발\n",
      "깊은맛의 건강식 화덕족발, 겉바속촉 고소한 튀김족발, 1986년부터 이어온 옛날족발\n",
      "리뷰 존재\n",
      "음식이 맛있어요\n",
      "재료가 신선해요\n",
      "가성비가 좋아요\n",
      "매장이 넓어요\n",
      "양이 많아요\n",
      "['돌담집 샤브샤브 & 돌담 화덕족발'] ...완료\n",
      "[데이터 수집 완료]\n",
      "소요 시간 : 13.39558482170105 \n",
      "\n",
      "40번째 가게\n"
     ]
    },
    {
     "name": "stderr",
     "output_type": "stream",
     "text": [
      "The chromedriver version (128.0.6613.137) detected in PATH at c:\\Users\\kk21\\Desktop\\TRIPER\\chromedriver.exe might not be compatible with the detected chrome version (129.0.6668.101); currently, chromedriver 129.0.6668.100 is recommended for chrome 129.*, so it is advised to delete the driver in PATH and retry\n"
     ]
    },
    {
     "name": "stdout",
     "output_type": "stream",
     "text": [
      "https://map.naver.com/p/search/%EB%8F%99%EC%9E%91%EA%B5%AC%20%EB%82%AF%EC%84%A0%ED%95%9C%EC%8B%9D%EB%B8%9F%EB%8B%A4/place/1971062401?c=15.00,0,0,0,dh&isCorrectAnswer=true\n",
      "결과 한 개\n",
      "\n",
      "[크롤링 시작...]\n",
      "낯선한식븟다\n",
      "요리주점\n",
      "서울 동작구 사당로30길 28 1층\n",
      "주문 유형 3\n",
      "매콤 누룽지 해물 토마토 스튜\n",
      "매콤한 짬뽕과 토마토 소스가 만나 깊은 감칠맛이 나는 스튜. (통오징어, 꽃게, 새우)\n",
      "리뷰 존재\n",
      "음식이 맛있어요\n",
      "술이 다양해요\n",
      "특별한 메뉴가 있어요\n",
      "친절해요\n",
      "기본 안주가 좋아요\n",
      "['낯선한식븟다'] ...완료\n",
      "[데이터 수집 완료]\n",
      "소요 시간 : 13.411133527755737 \n",
      "\n",
      "41번째 가게\n"
     ]
    },
    {
     "name": "stderr",
     "output_type": "stream",
     "text": [
      "The chromedriver version (128.0.6613.137) detected in PATH at c:\\Users\\kk21\\Desktop\\TRIPER\\chromedriver.exe might not be compatible with the detected chrome version (129.0.6668.101); currently, chromedriver 129.0.6668.100 is recommended for chrome 129.*, so it is advised to delete the driver in PATH and retry\n"
     ]
    },
    {
     "name": "stdout",
     "output_type": "stream",
     "text": [
      "https://map.naver.com/p/search/%EB%8F%99%EC%9E%91%EA%B5%AC%20%ED%82%B7%EC%B5%B8/place/1577085005?c=15.00,0,0,0,dh&isCorrectAnswer=true\n",
      "결과 한 개\n",
      "\n",
      "[크롤링 시작...]\n",
      "킷쵸\n",
      "이자카야\n",
      "서울 동작구 동작대로7길 98 2층 kitcho\n",
      "주문 유형 3\n",
      "kitcho's menu\n",
      "'캐치테이블'에서 최신 메뉴를 확인하실 수 있습니다.\n",
      "리뷰 존재\n",
      "음식이 맛있어요\n",
      "친절해요\n",
      "인테리어가 멋져요\n",
      "대화하기 좋아요\n",
      "특별한 메뉴가 있어요\n",
      "['킷쵸'] ...완료\n",
      "[데이터 수집 완료]\n",
      "소요 시간 : 13.41342806816101 \n",
      "\n",
      "42번째 가게\n"
     ]
    },
    {
     "name": "stderr",
     "output_type": "stream",
     "text": [
      "The chromedriver version (128.0.6613.137) detected in PATH at c:\\Users\\kk21\\Desktop\\TRIPER\\chromedriver.exe might not be compatible with the detected chrome version (129.0.6668.101); currently, chromedriver 129.0.6668.100 is recommended for chrome 129.*, so it is advised to delete the driver in PATH and retry\n"
     ]
    },
    {
     "name": "stdout",
     "output_type": "stream",
     "text": [
      "https://map.naver.com/p/search/%EB%8F%99%EC%9E%91%EA%B5%AC%20%EC%A1%B0%EC%84%A0%EB%B6%80%EB%9A%9C%EB%A7%89%20%EC%9D%B4%EC%88%98%EC%97%AD%EC%A0%90?c=15.00,0,0,0,dh\n",
      "결과 여러 개 존재(지점 또는 근접 지역)\n",
      "\n",
      "[크롤링 시작...]\n",
      "조선부뚜막 이수역점\n",
      "육류,고기요리\n",
      "서울 동작구 동작대로27길 32 1층\n",
      "주문 유형 3\n",
      "솥뚜껑삼겹살\n",
      "삼겹살 1인 + 목살 1인 + 쫀득살 1인 + 뚝배기김치찌개\n",
      "리뷰 존재\n",
      "음식이 맛있어요\n",
      "고기 질이 좋아요\n",
      "양이 많아요\n",
      "친절해요\n",
      "가성비가 좋아요\n",
      "['조선부뚜막 이수역점'] ...완료\n",
      "[데이터 수집 완료]\n",
      "소요 시간 : 13.417686223983765 \n",
      "\n",
      "43번째 가게\n"
     ]
    },
    {
     "name": "stderr",
     "output_type": "stream",
     "text": [
      "The chromedriver version (128.0.6613.137) detected in PATH at c:\\Users\\kk21\\Desktop\\TRIPER\\chromedriver.exe might not be compatible with the detected chrome version (129.0.6668.101); currently, chromedriver 129.0.6668.100 is recommended for chrome 129.*, so it is advised to delete the driver in PATH and retry\n"
     ]
    },
    {
     "name": "stdout",
     "output_type": "stream",
     "text": [
      "https://map.naver.com/p/search/%EB%8F%99%EC%9E%91%EA%B5%AC%20%ED%95%B4%EB%AC%BC%ED%8F%AC%EC%B0%A8%EA%BC%B4%ED%86%B5%201%ED%98%B8%EC%A0%90/place/1326241209?c=15.00,0,0,0,dh&isCorrectAnswer=true\n",
      "결과 한 개\n",
      "\n",
      "[크롤링 시작...]\n",
      "해물포차꼴통 1호점\n",
      "생선회\n",
      "서울 동작구 장승배기로 126 해물포차꼴통 1호점\n",
      "주문 유형 3\n",
      "모듬회 대\n",
      "메뉴 설명 없음\n",
      "리뷰 존재\n",
      "음식이 맛있어요\n",
      "가성비가 좋아요\n",
      "재료가 신선해요\n",
      "양이 많아요\n",
      "친절해요\n",
      "['해물포차꼴통 1호점'] ...완료\n",
      "[데이터 수집 완료]\n",
      "소요 시간 : 13.390420913696289 \n",
      "\n",
      "44번째 가게\n"
     ]
    },
    {
     "name": "stderr",
     "output_type": "stream",
     "text": [
      "The chromedriver version (128.0.6613.137) detected in PATH at c:\\Users\\kk21\\Desktop\\TRIPER\\chromedriver.exe might not be compatible with the detected chrome version (129.0.6668.101); currently, chromedriver 129.0.6668.100 is recommended for chrome 129.*, so it is advised to delete the driver in PATH and retry\n"
     ]
    },
    {
     "name": "stdout",
     "output_type": "stream",
     "text": [
      "https://map.naver.com/p/search/%EB%8F%99%EC%9E%91%EA%B5%AC%20%EC%82%AC%EB%A6%AC%EC%9B%90?c=15.00,0,0,0,dh\n",
      "결과 여러 개 존재(지점 또는 근접 지역)\n",
      "\n",
      "[크롤링 시작...]\n",
      "사리원\n",
      "만두\n",
      "서울 동작구 상도로50길 2-15\n",
      "주문 유형 3\n",
      "만둣국\n",
      "열두가지 고명이 들어간 열무냉면\n",
      "리뷰 존재\n",
      "음식이 맛있어요\n",
      "재료가 신선해요\n",
      "친절해요\n",
      "특별한 메뉴가 있어요\n",
      "양이 많아요\n",
      "['사리원'] ...완료\n",
      "[데이터 수집 완료]\n",
      "소요 시간 : 13.410979270935059 \n",
      "\n",
      "45번째 가게\n"
     ]
    },
    {
     "name": "stderr",
     "output_type": "stream",
     "text": [
      "The chromedriver version (128.0.6613.137) detected in PATH at c:\\Users\\kk21\\Desktop\\TRIPER\\chromedriver.exe might not be compatible with the detected chrome version (129.0.6668.101); currently, chromedriver 129.0.6668.100 is recommended for chrome 129.*, so it is advised to delete the driver in PATH and retry\n"
     ]
    },
    {
     "name": "stdout",
     "output_type": "stream",
     "text": [
      "https://map.naver.com/p/search/%EB%8F%99%EC%9E%91%EA%B5%AC%20%EA%B7%9C%EB%8F%99%EC%A7%91?c=15.00,0,0,0,dh\n",
      "결과 여러 개 존재(지점 또는 근접 지역)\n",
      "\n",
      "[크롤링 시작...]\n",
      "규동집\n",
      "일식당\n",
      "서울 동작구 만양로14가길 1 1층\n",
      "주문 유형 3\n",
      "규동한상(소고기덮밥한상)\n",
      "규동+미니모밀 or 미니우동+가라아게+샐러드+김치+젓갈+고추소스+수란+매실차\n",
      "리뷰 존재\n",
      "음식이 맛있어요\n",
      "혼밥하기 좋아요\n",
      "재료가 신선해요\n",
      "가성비가 좋아요\n",
      "양이 많아요\n",
      "['규동집'] ...완료\n",
      "[데이터 수집 완료]\n",
      "소요 시간 : 13.415091037750244 \n",
      "\n",
      "46번째 가게\n"
     ]
    },
    {
     "name": "stderr",
     "output_type": "stream",
     "text": [
      "The chromedriver version (128.0.6613.137) detected in PATH at c:\\Users\\kk21\\Desktop\\TRIPER\\chromedriver.exe might not be compatible with the detected chrome version (129.0.6668.101); currently, chromedriver 129.0.6668.100 is recommended for chrome 129.*, so it is advised to delete the driver in PATH and retry\n"
     ]
    },
    {
     "name": "stdout",
     "output_type": "stream",
     "text": [
      "https://map.naver.com/p/search/%EB%8F%99%EC%9E%91%EA%B5%AC%20%EB%B0%94%EB%8B%A4%ED%9A%8C%EC%84%B8%EA%BC%AC%EC%8B%9C/place/566080414?c=15.00,0,0,0,dh&isCorrectAnswer=true\n",
      "결과 한 개\n",
      "\n",
      "[크롤링 시작...]\n",
      "푸른바다\n",
      "생선회\n",
      "서울 동작구 노들로 674 노량진수산시장 2층 활어 2-16, 2-17호\n",
      "주문 유형 3\n",
      "명품모둠회(전어) (소(2인), 중(2~3인), 대(3~4인), 특대(4~5인))\n",
      "* 대광어 / 대농어 / 연어 / 대참돔 / 감성돔 / 강도다리(세꼬시) 또는 전어 / 황새치뱃살 구성\n",
      "리뷰 존재\n",
      "재료가 신선해요\n",
      "음식이 맛있어요\n",
      "친절해요\n",
      "가성비가 좋아요\n",
      "양이 많아요\n",
      "['푸른바다'] ...완료\n",
      "[데이터 수집 완료]\n",
      "소요 시간 : 13.45729398727417 \n",
      "\n",
      "47번째 가게\n"
     ]
    },
    {
     "name": "stderr",
     "output_type": "stream",
     "text": [
      "The chromedriver version (128.0.6613.137) detected in PATH at c:\\Users\\kk21\\Desktop\\TRIPER\\chromedriver.exe might not be compatible with the detected chrome version (129.0.6668.101); currently, chromedriver 129.0.6668.100 is recommended for chrome 129.*, so it is advised to delete the driver in PATH and retry\n"
     ]
    },
    {
     "name": "stdout",
     "output_type": "stream",
     "text": [
      "https://map.naver.com/p/search/%EB%8F%99%EC%9E%91%EA%B5%AC%20%EC%86%8C%EB%8B%B4%EC%B4%8C%20%EC%82%AC%EB%8B%B9%EC%A7%81%EC%98%81%EC%A0%90?c=15.00,0,0,0,dh\n",
      "결과 여러 개 존재(지점 또는 근접 지역)\n",
      "\n",
      "[크롤링 시작...]\n",
      "소담촌 사당직영점\n",
      "샤브샤브\n",
      "서울 동작구 동작대로 43 5층\n",
      "주문 유형 3\n",
      "월남쌈 버섯샤브정식(평일점심)\n",
      "- 월남쌈 야채+샤브고기(70g)+버섯(5종) - 노루,만가닥,황금팽이,새송이,표고\n",
      "리뷰 존재\n",
      "음식이 맛있어요\n",
      "재료가 신선해요\n",
      "가성비가 좋아요\n",
      "매장이 넓어요\n",
      "양이 많아요\n",
      "['소담촌 사당직영점'] ...완료\n",
      "[데이터 수집 완료]\n",
      "소요 시간 : 13.44835114479065 \n",
      "\n",
      "48번째 가게\n"
     ]
    },
    {
     "name": "stderr",
     "output_type": "stream",
     "text": [
      "The chromedriver version (128.0.6613.137) detected in PATH at c:\\Users\\kk21\\Desktop\\TRIPER\\chromedriver.exe might not be compatible with the detected chrome version (129.0.6668.101); currently, chromedriver 129.0.6668.100 is recommended for chrome 129.*, so it is advised to delete the driver in PATH and retry\n"
     ]
    },
    {
     "name": "stdout",
     "output_type": "stream",
     "text": [
      "https://map.naver.com/p/search/%EB%8F%99%EC%9E%91%EA%B5%AC%20%EC%B9%B4%EC%B8%A0%EB%94%94%EB%82%98%EC%9D%B8%20%EC%8B%A0%EB%8C%80%EB%B0%A9%EC%82%BC%EA%B1%B0%EB%A6%AC%20%EB%B3%B8%EC%A0%90/place/1102241191?c=15.00,0,0,0,dh&isCorrectAnswer=true\n",
      "결과 한 개\n",
      "\n",
      "[크롤링 시작...]\n",
      "카츠디나인 신대방삼거리 본점\n",
      "돈가스\n",
      "서울 동작구 국사봉1길 12-5 1층\n",
      "주문 유형 3\n",
      "대표 메뉴 없음\n",
      "메뉴 설명 없음\n",
      "오류 예외 처리\n",
      "49번째 가게\n"
     ]
    },
    {
     "name": "stderr",
     "output_type": "stream",
     "text": [
      "The chromedriver version (128.0.6613.137) detected in PATH at c:\\Users\\kk21\\Desktop\\TRIPER\\chromedriver.exe might not be compatible with the detected chrome version (129.0.6668.101); currently, chromedriver 129.0.6668.100 is recommended for chrome 129.*, so it is advised to delete the driver in PATH and retry\n"
     ]
    },
    {
     "name": "stdout",
     "output_type": "stream",
     "text": [
      "https://map.naver.com/p/search/%EB%8F%99%EC%9E%91%EA%B5%AC%20%EC%99%B8%EC%96%91%EA%B0%84?c=15.00,0,0,0,dh\n",
      "결과 여러 개 존재(지점 또는 근접 지역)\n",
      "\n",
      "[크롤링 시작...]\n",
      "외양간\n",
      "육류,고기요리\n",
      "서울 동작구 동작대로11길 16 1층\n",
      "주문 유형 3\n",
      "특수부위모듬\n",
      "메뉴 설명 없음\n",
      "리뷰 존재\n",
      "음식이 맛있어요\n",
      "친절해요\n",
      "특별한 메뉴가 있어요\n",
      "가성비가 좋아요\n",
      "고기 질이 좋아요\n",
      "['외양간'] ...완료\n",
      "[데이터 수집 완료]\n",
      "소요 시간 : 13.448286533355713 \n",
      "\n",
      "50번째 가게\n"
     ]
    },
    {
     "name": "stderr",
     "output_type": "stream",
     "text": [
      "The chromedriver version (128.0.6613.137) detected in PATH at c:\\Users\\kk21\\Desktop\\TRIPER\\chromedriver.exe might not be compatible with the detected chrome version (129.0.6668.101); currently, chromedriver 129.0.6668.100 is recommended for chrome 129.*, so it is advised to delete the driver in PATH and retry\n"
     ]
    },
    {
     "name": "stdout",
     "output_type": "stream",
     "text": [
      "https://map.naver.com/p/search/%EB%8F%99%EC%9E%91%EA%B5%AC%20%EA%BF%80%EB%95%8C%EA%B8%B0%EA%B3%B1%EC%B0%BD/place/150188619?c=15.00,0,0,0,dh&isCorrectAnswer=true\n",
      "결과 한 개\n",
      "\n",
      "[크롤링 시작...]\n",
      "꿀때기곱창\n",
      "곱창,막창,양\n",
      "서울 동작구 동작대로7길 84 1층\n",
      "주문 유형 3\n",
      "야채곱창(소)\n",
      "야채와 곱창 당면의 조합♡\n",
      "리뷰 존재\n",
      "음식이 맛있어요\n",
      "양이 많아요\n",
      "가성비가 좋아요\n",
      "친절해요\n",
      "고기 질이 좋아요\n",
      "['꿀때기곱창'] ...완료\n",
      "[데이터 수집 완료]\n",
      "소요 시간 : 13.422345638275146 \n",
      "\n",
      "51번째 가게\n"
     ]
    },
    {
     "name": "stderr",
     "output_type": "stream",
     "text": [
      "The chromedriver version (128.0.6613.137) detected in PATH at c:\\Users\\kk21\\Desktop\\TRIPER\\chromedriver.exe might not be compatible with the detected chrome version (129.0.6668.101); currently, chromedriver 129.0.6668.100 is recommended for chrome 129.*, so it is advised to delete the driver in PATH and retry\n"
     ]
    },
    {
     "name": "stdout",
     "output_type": "stream",
     "text": [
      "https://map.naver.com/p/search/%EB%8F%99%EC%9E%91%EA%B5%AC%20%EC%9D%80%ED%9D%AC%EB%84%A4%20%EC%98%A8%EC%A7%91%EB%8B%AD%EB%96%A1%EB%B3%B6%EC%9D%B4%20%EC%83%81%EB%8F%84%EB%B3%B8%EC%A0%90/place/1586077043?c=15.00,0,0,0,dh&isCorrectAnswer=true\n",
      "결과 한 개\n",
      "\n",
      "[크롤링 시작...]\n",
      "은희네 온집닭떡볶이 상도본점\n",
      "종합분식\n",
      "서울 동작구 상도로41길 35 1층\n",
      "주문 유형 3\n",
      "닭떡볶이 소\n",
      "묘하게 중독되는 닭떡볶이!!\n",
      "리뷰 존재\n",
      "음식이 맛있어요\n",
      "친절해요\n",
      "특별한 메뉴가 있어요\n",
      "가성비가 좋아요\n",
      "양이 많아요\n",
      "['은희네 온집닭떡볶이 상도본점'] ...완료\n",
      "[데이터 수집 완료]\n",
      "소요 시간 : 13.426156997680664 \n",
      "\n",
      "52번째 가게\n"
     ]
    },
    {
     "name": "stderr",
     "output_type": "stream",
     "text": [
      "The chromedriver version (128.0.6613.137) detected in PATH at c:\\Users\\kk21\\Desktop\\TRIPER\\chromedriver.exe might not be compatible with the detected chrome version (129.0.6668.101); currently, chromedriver 129.0.6668.100 is recommended for chrome 129.*, so it is advised to delete the driver in PATH and retry\n"
     ]
    },
    {
     "name": "stdout",
     "output_type": "stream",
     "text": [
      "https://map.naver.com/p/search/%EB%8F%99%EC%9E%91%EA%B5%AC%20%EA%B3%B5%EC%A7%80%EC%95%88/place/1341192493?c=15.00,0,0,0,dh&isCorrectAnswer=true\n",
      "결과 한 개\n",
      "\n",
      "[크롤링 시작...]\n",
      "공지안\n",
      "요리주점\n",
      "서울 동작구 동작대로7길 5 1층\n",
      "주문 유형 3\n",
      "닭목살유린기\n",
      "닭목살 순살만을 염지하고 숙성하여 튀겨내며 특제소스로 사용한 튀김요리\n",
      "리뷰 존재\n",
      "음식이 맛있어요\n",
      "특별한 메뉴가 있어요\n",
      "친절해요\n",
      "매장이 청결해요\n",
      "가성비가 좋아요\n",
      "['공지안'] ...완료\n",
      "[데이터 수집 완료]\n",
      "소요 시간 : 13.423550844192505 \n",
      "\n",
      "53번째 가게\n"
     ]
    },
    {
     "name": "stderr",
     "output_type": "stream",
     "text": [
      "The chromedriver version (128.0.6613.137) detected in PATH at c:\\Users\\kk21\\Desktop\\TRIPER\\chromedriver.exe might not be compatible with the detected chrome version (129.0.6668.101); currently, chromedriver 129.0.6668.100 is recommended for chrome 129.*, so it is advised to delete the driver in PATH and retry\n"
     ]
    },
    {
     "name": "stdout",
     "output_type": "stream",
     "text": [
      "https://map.naver.com/p/search/%EB%8F%99%EC%9E%91%EA%B5%AC%20%EA%B9%80%EC%9E%AC%EC%9A%B4%20%EC%B4%88%EB%B0%A5%EC%82%AC%EB%9E%91%20%EC%9D%B4%EC%88%98%EC%A0%90/place/1696439981?c=15.00,0,0,0,dh&isCorrectAnswer=true\n",
      "결과 한 개\n",
      "\n",
      "[크롤링 시작...]\n",
      "김재운 초밥사랑 이수점\n",
      "초밥,롤\n",
      "서울 동작구 동작대로 69 1층\n",
      "주문 유형 1\n",
      "싱싱회덮밥인기\n",
      "\n",
      "리뷰 존재\n",
      "음식이 맛있어요\n",
      "재료가 신선해요\n",
      "가성비가 좋아요\n",
      "친절해요\n",
      "양이 많아요\n",
      "['김재운 초밥사랑 이수점'] ...완료\n",
      "[데이터 수집 완료]\n",
      "소요 시간 : 18.99227476119995 \n",
      "\n",
      "54번째 가게\n"
     ]
    },
    {
     "name": "stderr",
     "output_type": "stream",
     "text": [
      "The chromedriver version (128.0.6613.137) detected in PATH at c:\\Users\\kk21\\Desktop\\TRIPER\\chromedriver.exe might not be compatible with the detected chrome version (129.0.6668.101); currently, chromedriver 129.0.6668.100 is recommended for chrome 129.*, so it is advised to delete the driver in PATH and retry\n"
     ]
    },
    {
     "name": "stdout",
     "output_type": "stream",
     "text": [
      "https://map.naver.com/p/search/%EB%8F%99%EC%9E%91%EA%B5%AC%20%EC%A1%B0%EA%B0%80%EB%84%A4%EA%B0%91%EC%98%A4%EC%A7%95%EC%96%B4%20%EC%82%AC%EB%8B%B9%EC%A0%90?c=15.00,0,0,0,dh\n",
      "결과 여러 개 존재(지점 또는 근접 지역)\n",
      "\n",
      "[크롤링 시작...]\n",
      "조가네갑오징어 사당점\n",
      "오징어요리\n",
      "서울 동작구 남부순환로271길 24 1층\n",
      "주문 유형 3\n",
      "갑오징어 불고기\n",
      "(2인이상 주문가능) 이용시간 11:00~15:00 (주말,공휴일 제외)\n",
      "리뷰 존재\n",
      "음식이 맛있어요\n",
      "재료가 신선해요\n",
      "특별한 메뉴가 있어요\n",
      "양이 많아요\n",
      "단체모임 하기 좋아요\n",
      "['조가네갑오징어 사당점'] ...완료\n",
      "[데이터 수집 완료]\n",
      "소요 시간 : 13.41457462310791 \n",
      "\n",
      "55번째 가게\n"
     ]
    },
    {
     "name": "stderr",
     "output_type": "stream",
     "text": [
      "The chromedriver version (128.0.6613.137) detected in PATH at c:\\Users\\kk21\\Desktop\\TRIPER\\chromedriver.exe might not be compatible with the detected chrome version (129.0.6668.101); currently, chromedriver 129.0.6668.100 is recommended for chrome 129.*, so it is advised to delete the driver in PATH and retry\n"
     ]
    },
    {
     "name": "stdout",
     "output_type": "stream",
     "text": [
      "https://map.naver.com/p/search/%EB%8F%99%EC%9E%91%EA%B5%AC%20%EA%B0%80%EC%84%B1%EB%B9%84?c=15.00,0,0,0,dh\n",
      "결과 여러 개 존재(지점 또는 근접 지역)\n",
      "\n",
      "[크롤링 시작...]\n",
      "태평양수산\n",
      "생선회\n",
      "서울 동작구 노들로 674 활어1층 119호\n",
      "주문 유형 3\n",
      "대표 메뉴 없음\n",
      "메뉴 설명 없음\n",
      "오류 예외 처리\n",
      "56번째 가게\n"
     ]
    },
    {
     "name": "stderr",
     "output_type": "stream",
     "text": [
      "The chromedriver version (128.0.6613.137) detected in PATH at c:\\Users\\kk21\\Desktop\\TRIPER\\chromedriver.exe might not be compatible with the detected chrome version (129.0.6668.101); currently, chromedriver 129.0.6668.100 is recommended for chrome 129.*, so it is advised to delete the driver in PATH and retry\n"
     ]
    },
    {
     "name": "stdout",
     "output_type": "stream",
     "text": [
      "https://map.naver.com/p/search/%EB%8F%99%EC%9E%91%EA%B5%AC%20%EB%B0%A9%EB%B0%B0%EA%B9%80%EB%B0%A5%20%EB%B3%B8%EC%A0%90?c=15.00,0,0,0,dh\n",
      "결과 여러 개 존재(지점 또는 근접 지역)\n",
      "\n",
      "[크롤링 시작...]\n",
      "방배김밥 본점\n",
      "김밥\n",
      "서울 동작구 동작대로27길 59-16\n",
      "주문 유형 3\n",
      "방배김밥 / 우엉김밥\n",
      "메뉴 설명 없음\n",
      "리뷰 존재\n",
      "음식이 맛있어요\n",
      "재료가 신선해요\n",
      "친절해요\n",
      "특별한 메뉴가 있어요\n",
      "가성비가 좋아요\n",
      "['방배김밥 본점'] ...완료\n",
      "[데이터 수집 완료]\n",
      "소요 시간 : 13.403349161148071 \n",
      "\n",
      "57번째 가게\n"
     ]
    },
    {
     "name": "stderr",
     "output_type": "stream",
     "text": [
      "The chromedriver version (128.0.6613.137) detected in PATH at c:\\Users\\kk21\\Desktop\\TRIPER\\chromedriver.exe might not be compatible with the detected chrome version (129.0.6668.101); currently, chromedriver 129.0.6668.100 is recommended for chrome 129.*, so it is advised to delete the driver in PATH and retry\n"
     ]
    },
    {
     "name": "stdout",
     "output_type": "stream",
     "text": [
      "https://map.naver.com/p/search/%EB%8F%99%EC%9E%91%EA%B5%AC%20%ED%94%84%EB%9E%91%EC%84%B8%EC%A6%88?c=15.00,0,0,0,dh\n",
      "결과 여러 개 존재(지점 또는 근접 지역)\n",
      "\n",
      "[크롤링 시작...]\n",
      "프랑세즈\n",
      "베이커리\n",
      "서울 동작구 현충로 96\n",
      "주문 유형 3\n",
      "망고생크림\n",
      "동물성 우유생크림 100% 생과일 망고를 사용합니다*\n",
      "리뷰 존재\n",
      "빵이 맛있어요\n",
      "친절해요\n",
      "커피가 맛있어요\n",
      "특별한 메뉴가 있어요\n",
      "매장이 청결해요\n",
      "['프랑세즈'] ...완료\n",
      "[데이터 수집 완료]\n",
      "소요 시간 : 13.398839473724365 \n",
      "\n",
      "58번째 가게\n"
     ]
    },
    {
     "name": "stderr",
     "output_type": "stream",
     "text": [
      "The chromedriver version (128.0.6613.137) detected in PATH at c:\\Users\\kk21\\Desktop\\TRIPER\\chromedriver.exe might not be compatible with the detected chrome version (129.0.6668.101); currently, chromedriver 129.0.6668.100 is recommended for chrome 129.*, so it is advised to delete the driver in PATH and retry\n"
     ]
    },
    {
     "name": "stdout",
     "output_type": "stream",
     "text": [
      "https://map.naver.com/p/search/%EB%8F%99%EC%9E%91%EA%B5%AC%20%EB%B9%95%EC%8A%A4%20%EB%8C%80%EB%B0%A9%EC%A0%90?c=15.00,0,0,0,dh\n",
      "결과 여러 개 존재(지점 또는 근접 지역)\n",
      "\n",
      "[크롤링 시작...]\n",
      "빕스 대방점\n",
      "패밀리레스토랑\n",
      "서울 동작구 노량진로 2\n",
      "주문 유형 3\n",
      "바비큐폭립 얌파티 3~4인 세트\n",
      "시그니처 바비큐폭립 + 파스타 선택1 + 멜팅 콰트로 치즈피자 + 얌브레드2\n",
      "리뷰 존재\n",
      "음식이 맛있어요\n",
      "매장이 넓어요\n",
      "재료가 신선해요\n",
      "친절해요\n",
      "주차하기 편해요\n",
      "['빕스 대방점'] ...완료\n",
      "[데이터 수집 완료]\n",
      "소요 시간 : 13.429613828659058 \n",
      "\n",
      "59번째 가게\n"
     ]
    },
    {
     "name": "stderr",
     "output_type": "stream",
     "text": [
      "The chromedriver version (128.0.6613.137) detected in PATH at c:\\Users\\kk21\\Desktop\\TRIPER\\chromedriver.exe might not be compatible with the detected chrome version (129.0.6668.101); currently, chromedriver 129.0.6668.100 is recommended for chrome 129.*, so it is advised to delete the driver in PATH and retry\n"
     ]
    },
    {
     "name": "stdout",
     "output_type": "stream",
     "text": [
      "https://map.naver.com/p/search/%EB%8F%99%EC%9E%91%EA%B5%AC%20%EA%B7%B8%EB%A6%B4%EC%A7%84/place/1937162180?c=15.00,0,0,0,dh&isCorrectAnswer=true\n",
      "결과 한 개\n",
      "\n",
      "[크롤링 시작...]\n",
      "그릴진\n",
      "육류,고기요리\n",
      "서울 동작구 동작대로27다길 31 세양그레이스빌 1층 그릴진\n",
      "주문 유형 3\n",
      "숯불 진삼겹(180g)\n",
      "한돈1+ 특상급 등급만을 선별하여 14일동안 저온습식숙성을 통해 부드러움과 감칠맛을 극대화\n",
      "리뷰 존재\n",
      "음식이 맛있어요\n",
      "고기 질이 좋아요\n",
      "매장이 넓어요\n",
      "친절해요\n",
      "단체모임 하기 좋아요\n",
      "['그릴진'] ...완료\n",
      "[데이터 수집 완료]\n",
      "소요 시간 : 13.420850992202759 \n",
      "\n",
      "60번째 가게\n"
     ]
    },
    {
     "name": "stderr",
     "output_type": "stream",
     "text": [
      "The chromedriver version (128.0.6613.137) detected in PATH at c:\\Users\\kk21\\Desktop\\TRIPER\\chromedriver.exe might not be compatible with the detected chrome version (129.0.6668.101); currently, chromedriver 129.0.6668.100 is recommended for chrome 129.*, so it is advised to delete the driver in PATH and retry\n"
     ]
    },
    {
     "name": "stdout",
     "output_type": "stream",
     "text": [
      "https://map.naver.com/p/search/%EB%8F%99%EC%9E%91%EA%B5%AC%20%EB%B1%83%EC%82%B4%EB%8F%84%EB%91%91%20%EC%8B%A0%EB%8C%80%EB%B0%A9%EC%82%BC%EA%B1%B0%EB%A6%AC%EC%A0%90/place/1421487317?c=15.00,0,0,0,dh&isCorrectAnswer=true\n",
      "결과 한 개\n",
      "\n",
      "[크롤링 시작...]\n",
      "뱃살도둑 신대방삼거리점\n",
      "다이어트,샐러드\n",
      "서울 동작구 여의대방로22길 121 상가동 1층 1404호 뱃살도둑 신대방삼거리점\n",
      "주문 유형 3\n",
      "대표 메뉴 없음\n",
      "메뉴 설명 없음\n",
      "오류 예외 처리\n",
      "61번째 가게\n"
     ]
    },
    {
     "name": "stderr",
     "output_type": "stream",
     "text": [
      "The chromedriver version (128.0.6613.137) detected in PATH at c:\\Users\\kk21\\Desktop\\TRIPER\\chromedriver.exe might not be compatible with the detected chrome version (129.0.6668.101); currently, chromedriver 129.0.6668.100 is recommended for chrome 129.*, so it is advised to delete the driver in PATH and retry\n"
     ]
    },
    {
     "name": "stdout",
     "output_type": "stream",
     "text": [
      "https://map.naver.com/p/search/%EB%8F%99%EC%9E%91%EA%B5%AC%20%EA%B0%80%EB%A7%88%EC%86%A5%EC%86%90%EB%91%90%EB%B6%80%20%EC%82%AC%EB%8B%B9%EB%B3%B8%EC%A0%90/place/11888078?c=15.00,0,0,0,dh&isCorrectAnswer=true\n",
      "결과 한 개\n",
      "\n",
      "[크롤링 시작...]\n",
      "가마솥손두부 사당본점\n",
      "두부요리\n",
      "서울 동작구 남부순환로271길 20\n",
      "주문 유형 3\n",
      "청국장\n",
      "저희 할머니께서 직접 만들어주시는 청국장입니다. 1인분 청국장+반찬5종과 밥이 함께 제공됩니다\n",
      "리뷰 존재\n",
      "음식이 맛있어요\n",
      "친절해요\n",
      "재료가 신선해요\n",
      "가성비가 좋아요\n",
      "매장이 넓어요\n",
      "['가마솥손두부 사당본점'] ...완료\n",
      "[데이터 수집 완료]\n",
      "소요 시간 : 13.428961753845215 \n",
      "\n",
      "62번째 가게\n"
     ]
    },
    {
     "name": "stderr",
     "output_type": "stream",
     "text": [
      "The chromedriver version (128.0.6613.137) detected in PATH at c:\\Users\\kk21\\Desktop\\TRIPER\\chromedriver.exe might not be compatible with the detected chrome version (129.0.6668.101); currently, chromedriver 129.0.6668.100 is recommended for chrome 129.*, so it is advised to delete the driver in PATH and retry\n"
     ]
    },
    {
     "name": "stdout",
     "output_type": "stream",
     "text": [
      "https://map.naver.com/p/search/%EB%8F%99%EC%9E%91%EA%B5%AC%20%EB%B3%B8%EB%94%94/place/1905499071?c=15.00,0,0,0,dh&isCorrectAnswer=true\n",
      "결과 한 개\n",
      "\n",
      "[크롤링 시작...]\n",
      "본디헤어\n",
      "미용실\n",
      "서울 금천구 시흥대로 399 시티렉스 3층 321호\n",
      "주문 유형 3\n",
      "대표 메뉴 없음\n",
      "메뉴 설명 없음\n",
      "리뷰 존재\n",
      "친절해요\n",
      "원하는 스타일로 잘해줘요\n",
      "시술이 꼼꼼해요\n",
      "스타일 추천을 잘해줘요\n",
      "트렌디해요\n",
      "['본디헤어'] ...완료\n",
      "[데이터 수집 완료]\n",
      "소요 시간 : 10.363443851470947 \n",
      "\n",
      "63번째 가게\n"
     ]
    },
    {
     "name": "stderr",
     "output_type": "stream",
     "text": [
      "The chromedriver version (128.0.6613.137) detected in PATH at c:\\Users\\kk21\\Desktop\\TRIPER\\chromedriver.exe might not be compatible with the detected chrome version (129.0.6668.101); currently, chromedriver 129.0.6668.100 is recommended for chrome 129.*, so it is advised to delete the driver in PATH and retry\n"
     ]
    },
    {
     "name": "stdout",
     "output_type": "stream",
     "text": [
      "https://map.naver.com/p/search/%EB%8F%99%EC%9E%91%EA%B5%AC%20%EC%B2%A0%EA%B8%B8%EB%B6%80%EC%82%B0%EC%A7%91%20%EB%85%B8%EB%9F%89%EC%A7%84%EC%A0%90/place/1963219272?c=15.00,0,0,0,dh&isCorrectAnswer=true\n",
      "결과 한 개\n",
      "\n",
      "[크롤링 시작...]\n",
      "철길부산집 노량진점\n",
      "요리주점\n",
      "서울 동작구 만양로14길 10 1층\n",
      "주문 유형 3\n",
      "어묵 2인\n",
      "부산어묵2개선택+(물떡+꼬불이어묵2개+어묵볼+유부모찌주머니+흑곤약)\n",
      "리뷰 존재\n",
      "음식이 맛있어요\n",
      "기본 안주가 좋아요\n",
      "인테리어가 멋져요\n",
      "친절해요\n",
      "술이 다양해요\n",
      "['철길부산집 노량진점'] ...완료\n",
      "[데이터 수집 완료]\n",
      "소요 시간 : 13.396644115447998 \n",
      "\n",
      "64번째 가게\n"
     ]
    },
    {
     "name": "stderr",
     "output_type": "stream",
     "text": [
      "The chromedriver version (128.0.6613.137) detected in PATH at c:\\Users\\kk21\\Desktop\\TRIPER\\chromedriver.exe might not be compatible with the detected chrome version (129.0.6668.101); currently, chromedriver 129.0.6668.100 is recommended for chrome 129.*, so it is advised to delete the driver in PATH and retry\n"
     ]
    },
    {
     "name": "stdout",
     "output_type": "stream",
     "text": [
      "https://map.naver.com/p/search/%EB%8F%99%EC%9E%91%EA%B5%AC%20%EC%83%81%EB%8F%84%EC%8B%A4%EB%82%B4%ED%8F%AC%EC%9E%A5%EB%A7%88%EC%B0%A8?c=15.00,0,0,0,dh\n",
      "결과 여러 개 존재(지점 또는 근접 지역)\n",
      "\n",
      "[크롤링 시작...]\n",
      "상도실내포장마차\n",
      "포장마차\n",
      "서울 동작구 상도로 288\n",
      "주문 유형 3\n",
      "오징어물회 소\n",
      "2021년 11월 이후 오징어 가격이 급인상되어 물회 가격 변동이 있습니다.\n",
      "리뷰 존재\n",
      "음식이 맛있어요\n",
      "특별한 메뉴가 있어요\n",
      "친절해요\n",
      "기본 안주가 좋아요\n",
      "가성비가 좋아요\n",
      "['상도실내포장마차'] ...완료\n",
      "[데이터 수집 완료]\n",
      "소요 시간 : 13.398144483566284 \n",
      "\n",
      "65번째 가게\n"
     ]
    },
    {
     "name": "stderr",
     "output_type": "stream",
     "text": [
      "The chromedriver version (128.0.6613.137) detected in PATH at c:\\Users\\kk21\\Desktop\\TRIPER\\chromedriver.exe might not be compatible with the detected chrome version (129.0.6668.101); currently, chromedriver 129.0.6668.100 is recommended for chrome 129.*, so it is advised to delete the driver in PATH and retry\n"
     ]
    },
    {
     "name": "stdout",
     "output_type": "stream",
     "text": [
      "https://map.naver.com/p/search/%EB%8F%99%EC%9E%91%EA%B5%AC%20%EB%8B%A4%EB%8F%85%EC%9D%B4%EB%84%A4%EC%88%AF%EB%B6%88%EA%B5%AC%EC%9D%B4%202%ED%98%B8%EC%A0%90/place/1132186906?c=15.00,0,0,0,dh&isCorrectAnswer=true\n",
      "결과 한 개\n",
      "\n",
      "[크롤링 시작...]\n",
      "다독이네숯불구이 2호점\n",
      "육류,고기요리\n",
      "서울 동작구 만양로18길 15 1층\n",
      "주문 유형 3\n",
      "뼈삼겹갈비\n",
      "두번숙성으로 풍미가득하고 부드러운 삼겹\n",
      "리뷰 존재\n",
      "음식이 맛있어요\n",
      "친절해요\n",
      "특별한 메뉴가 있어요\n",
      "고기 질이 좋아요\n",
      "재료가 신선해요\n",
      "['다독이네숯불구이 2호점'] ...완료\n",
      "[데이터 수집 완료]\n",
      "소요 시간 : 13.40846562385559 \n",
      "\n",
      "66번째 가게\n"
     ]
    },
    {
     "name": "stderr",
     "output_type": "stream",
     "text": [
      "The chromedriver version (128.0.6613.137) detected in PATH at c:\\Users\\kk21\\Desktop\\TRIPER\\chromedriver.exe might not be compatible with the detected chrome version (129.0.6668.101); currently, chromedriver 129.0.6668.100 is recommended for chrome 129.*, so it is advised to delete the driver in PATH and retry\n"
     ]
    },
    {
     "name": "stdout",
     "output_type": "stream",
     "text": [
      "https://map.naver.com/p/search/%EB%8F%99%EC%9E%91%EA%B5%AC%20%EB%B0%B1%EC%86%8C%EC%A0%95%20%EC%A4%91%EC%95%99%EB%8C%80%EC%A0%90?c=15.00,0,0,0,dh\n",
      "결과 여러 개 존재(지점 또는 근접 지역)\n",
      "\n",
      "[크롤링 시작...]\n",
      "백소정 중앙대점\n",
      "일식당\n",
      "서울 동작구 흑석로9길 2 2층\n",
      "주문 유형 3\n",
      "에비텐어묵우동+돈카츠\n",
      "우동, 새우튀김1개 , 돈카츠, 어묵, 샐러드, 연유치즈떡\n",
      "리뷰 존재\n",
      "음식이 맛있어요\n",
      "매장이 넓어요\n",
      "매장이 청결해요\n",
      "친절해요\n",
      "양이 많아요\n",
      "['백소정 중앙대점'] ...완료\n",
      "[데이터 수집 완료]\n",
      "소요 시간 : 13.440519571304321 \n",
      "\n",
      "67번째 가게\n"
     ]
    },
    {
     "name": "stderr",
     "output_type": "stream",
     "text": [
      "The chromedriver version (128.0.6613.137) detected in PATH at c:\\Users\\kk21\\Desktop\\TRIPER\\chromedriver.exe might not be compatible with the detected chrome version (129.0.6668.101); currently, chromedriver 129.0.6668.100 is recommended for chrome 129.*, so it is advised to delete the driver in PATH and retry\n"
     ]
    },
    {
     "name": "stdout",
     "output_type": "stream",
     "text": [
      "https://map.naver.com/p/search/%EB%8F%99%EC%9E%91%EA%B5%AC%20%EC%9D%B4%EC%9E%90%EC%B9%B4%EC%95%BC%20%EC%A3%BC%EC%9B%94/place/1593737571?c=15.00,0,0,0,dh&isCorrectAnswer=true\n",
      "결과 한 개\n",
      "\n",
      "[크롤링 시작...]\n",
      "주월\n",
      "이자카야\n",
      "서울 동작구 동작대로7길 62 1층\n",
      "주문 유형 3\n",
      "육회\n",
      "매콤한 고추장과 달콤한 간장을 베이스로 사용한 두가지 맛의 한우 육회\n",
      "리뷰 존재\n",
      "음식이 맛있어요\n",
      "인테리어가 멋져요\n",
      "술이 다양해요\n",
      "친절해요\n",
      "기본 안주가 좋아요\n",
      "['주월'] ...완료\n",
      "[데이터 수집 완료]\n",
      "소요 시간 : 13.444770336151123 \n",
      "\n",
      "68번째 가게\n"
     ]
    },
    {
     "name": "stderr",
     "output_type": "stream",
     "text": [
      "The chromedriver version (128.0.6613.137) detected in PATH at c:\\Users\\kk21\\Desktop\\TRIPER\\chromedriver.exe might not be compatible with the detected chrome version (129.0.6668.101); currently, chromedriver 129.0.6668.100 is recommended for chrome 129.*, so it is advised to delete the driver in PATH and retry\n"
     ]
    },
    {
     "name": "stdout",
     "output_type": "stream",
     "text": [
      "https://map.naver.com/p/search/%EB%8F%99%EC%9E%91%EA%B5%AC%20%EC%B9%B4%EB%A9%9C%EC%BB%A4%ED%94%BC%20%EC%83%81%EB%8F%84%EC%A0%90/place/1513874219?c=15.00,0,0,0,dh&isCorrectAnswer=true\n",
      "결과 한 개\n",
      "\n",
      "[크롤링 시작...]\n",
      "카멜커피 상도점\n",
      "카페,디저트\n",
      "서울 동작구 양녕로36길 12 1, 2층\n",
      "주문 유형 3\n",
      "Camel Coffee (카멜커피)\n",
      "진한 라떼(플랫화이트) 베이스에 실키한 크림이 얇게 올라간 시그니처 커피\n",
      "리뷰 존재\n",
      "커피가 맛있어요\n",
      "인테리어가 멋져요\n",
      "디저트가 맛있어요\n",
      "사진이 잘 나와요\n",
      "대화하기 좋아요\n",
      "['카멜커피 상도점'] ...완료\n",
      "[데이터 수집 완료]\n",
      "소요 시간 : 13.427783250808716 \n",
      "\n",
      "69번째 가게\n"
     ]
    },
    {
     "name": "stderr",
     "output_type": "stream",
     "text": [
      "The chromedriver version (128.0.6613.137) detected in PATH at c:\\Users\\kk21\\Desktop\\TRIPER\\chromedriver.exe might not be compatible with the detected chrome version (129.0.6668.101); currently, chromedriver 129.0.6668.100 is recommended for chrome 129.*, so it is advised to delete the driver in PATH and retry\n"
     ]
    },
    {
     "name": "stdout",
     "output_type": "stream",
     "text": [
      "https://map.naver.com/p/search/%EB%8F%99%EC%9E%91%EA%B5%AC%20%EC%95%BC%ED%82%A4%EB%8B%88%EC%BF%A0%EB%A7%88%EB%A6%AC?c=15.00,0,0,0,dh\n",
      "결과 여러 개 존재(지점 또는 근접 지역)\n",
      "\n",
      "[크롤링 시작...]\n",
      "야키니쿠마리\n",
      "육류,고기요리\n",
      "서울 동작구 동작대로7길 70 1층\n",
      "주문 유형 3\n",
      "특상네기우설\n",
      "한우우설,안창살,갈비살,양념갈비살,돈차돌 구성부위는 수급에 따라 변경될 수 있습니다\n",
      "리뷰 존재\n",
      "음식이 맛있어요\n",
      "고기 질이 좋아요\n",
      "특별한 메뉴가 있어요\n",
      "친절해요\n",
      "인테리어가 멋져요\n",
      "['야키니쿠마리'] ...완료\n",
      "[데이터 수집 완료]\n",
      "소요 시간 : 13.40426254272461 \n",
      "\n",
      "70번째 가게\n"
     ]
    },
    {
     "name": "stderr",
     "output_type": "stream",
     "text": [
      "The chromedriver version (128.0.6613.137) detected in PATH at c:\\Users\\kk21\\Desktop\\TRIPER\\chromedriver.exe might not be compatible with the detected chrome version (129.0.6668.101); currently, chromedriver 129.0.6668.100 is recommended for chrome 129.*, so it is advised to delete the driver in PATH and retry\n"
     ]
    },
    {
     "name": "stdout",
     "output_type": "stream",
     "text": [
      "https://map.naver.com/p/search/%EB%8F%99%EC%9E%91%EA%B5%AC%20%EC%9D%B4%EA%B3%B1%EC%B0%A9%ED%95%9C%EA%B3%A0%EA%B8%B0%20%EC%82%AC%EB%8B%B9%EB%B3%B8%EC%A0%90/place/1603116870?c=15.00,0,0,0,dh&isCorrectAnswer=true\n",
      "결과 한 개\n",
      "\n",
      "[크롤링 시작...]\n",
      "이곱착한고기 사당본점\n",
      "육류,고기요리\n",
      "서울 동작구 동작대로3길 6\n",
      "주문 유형 3\n",
      "이베리코 반마리(500g)\n",
      "목살, 갈비살, 항정살, 황제살로 구성한 맛있는 이베리코 돼지고기 세트\n",
      "리뷰 존재\n",
      "음식이 맛있어요\n",
      "매장이 넓어요\n",
      "가성비가 좋아요\n",
      "고기 질이 좋아요\n",
      "친절해요\n",
      "['이곱착한고기 사당본점'] ...완료\n",
      "[데이터 수집 완료]\n",
      "소요 시간 : 13.417667150497437 \n",
      "\n",
      "71번째 가게\n"
     ]
    },
    {
     "name": "stderr",
     "output_type": "stream",
     "text": [
      "The chromedriver version (128.0.6613.137) detected in PATH at c:\\Users\\kk21\\Desktop\\TRIPER\\chromedriver.exe might not be compatible with the detected chrome version (129.0.6668.101); currently, chromedriver 129.0.6668.100 is recommended for chrome 129.*, so it is advised to delete the driver in PATH and retry\n"
     ]
    },
    {
     "name": "stdout",
     "output_type": "stream",
     "text": [
      "https://map.naver.com/p/search/%EB%8F%99%EC%9E%91%EA%B5%AC%20%EB%8D%94%ED%95%9C%EA%B0%95/place/1248218724?c=15.00,0,0,0,dh&isCorrectAnswer=true\n",
      "결과 한 개\n",
      "\n",
      "[크롤링 시작...]\n",
      "더한강\n",
      "카페,디저트\n",
      "서울 동작구 노량진로32길 29-6 1, 2층\n",
      "주문 유형 3\n",
      "트와일라잇 피즈\n",
      "상큼하고 청량한 느낌을 주는 더한강 시그니처 에이드\n",
      "리뷰 존재\n",
      "뷰가 좋아요\n",
      "커피가 맛있어요\n",
      "사진이 잘 나와요\n",
      "음료가 맛있어요\n",
      "인테리어가 멋져요\n",
      "['더한강'] ...완료\n",
      "[데이터 수집 완료]\n",
      "소요 시간 : 13.442016363143921 \n",
      "\n",
      "72번째 가게\n"
     ]
    },
    {
     "name": "stderr",
     "output_type": "stream",
     "text": [
      "The chromedriver version (128.0.6613.137) detected in PATH at c:\\Users\\kk21\\Desktop\\TRIPER\\chromedriver.exe might not be compatible with the detected chrome version (129.0.6668.101); currently, chromedriver 129.0.6668.100 is recommended for chrome 129.*, so it is advised to delete the driver in PATH and retry\n"
     ]
    },
    {
     "name": "stdout",
     "output_type": "stream",
     "text": [
      "https://map.naver.com/p/search/%EB%8F%99%EC%9E%91%EA%B5%AC%20%EC%82%AC%EB%8B%B9%EC%96%91%EA%BC%AC%EC%B9%98?c=14.00,0,0,0,dh\n",
      "결과 여러 개 존재(지점 또는 근접 지역)\n",
      "\n",
      "[크롤링 시작...]\n",
      "빈빈양꼬치 본점\n",
      "양꼬치\n",
      "서울 동작구 남부순환로271길 31\n",
      "주문 유형 3\n",
      "향라오징어\n",
      "메뉴 설명 없음\n",
      "리뷰 존재\n",
      "음식이 맛있어요\n",
      "친절해요\n",
      "고기 질이 좋아요\n",
      "가성비가 좋아요\n",
      "재료가 신선해요\n",
      "['빈빈양꼬치 본점'] ...완료\n",
      "[데이터 수집 완료]\n",
      "소요 시간 : 13.397363662719727 \n",
      "\n",
      "73번째 가게\n"
     ]
    },
    {
     "name": "stderr",
     "output_type": "stream",
     "text": [
      "The chromedriver version (128.0.6613.137) detected in PATH at c:\\Users\\kk21\\Desktop\\TRIPER\\chromedriver.exe might not be compatible with the detected chrome version (129.0.6668.101); currently, chromedriver 129.0.6668.100 is recommended for chrome 129.*, so it is advised to delete the driver in PATH and retry\n"
     ]
    },
    {
     "name": "stdout",
     "output_type": "stream",
     "text": [
      "https://map.naver.com/p/search/%EB%8F%99%EC%9E%91%EA%B5%AC%20%EB%82%A8%ED%95%B4%EC%95%88?c=15.00,0,0,0,dh\n",
      "결과 여러 개 존재(지점 또는 근접 지역)\n",
      "\n",
      "[크롤링 시작...]\n",
      "남해안 횟집\n",
      "생선회\n",
      "서울 동작구 사당로30길 157\n",
      "주문 유형 3\n",
      "모듬회\n",
      "大 (4인) 85,000 中 (3인) 68,000 小 (2인) 50,000\n",
      "리뷰 존재\n",
      "음식이 맛있어요\n",
      "재료가 신선해요\n",
      "친절해요\n",
      "가성비가 좋아요\n",
      "단체모임 하기 좋아요\n",
      "['남해안 횟집'] ...완료\n",
      "[데이터 수집 완료]\n",
      "소요 시간 : 13.392314672470093 \n",
      "\n",
      "74번째 가게\n"
     ]
    },
    {
     "name": "stderr",
     "output_type": "stream",
     "text": [
      "The chromedriver version (128.0.6613.137) detected in PATH at c:\\Users\\kk21\\Desktop\\TRIPER\\chromedriver.exe might not be compatible with the detected chrome version (129.0.6668.101); currently, chromedriver 129.0.6668.100 is recommended for chrome 129.*, so it is advised to delete the driver in PATH and retry\n"
     ]
    },
    {
     "name": "stdout",
     "output_type": "stream",
     "text": [
      "https://map.naver.com/p/search/%EB%8F%99%EC%9E%91%EA%B5%AC%20%EC%9D%B4%ED%83%9C%EB%A6%AC%EB%A1%9C%20%EA%B0%84%20%EA%B3%A0%EB%93%B1%EC%96%B4/place/883455778?c=15.00,0,0,0,dh&isCorrectAnswer=true\n",
      "결과 한 개\n",
      "\n",
      "[크롤링 시작...]\n",
      "이태리로 간 고등어\n",
      "생선구이\n",
      "서울 동작구 보라매로5가길 16 보라매아카데미타워 2층\n",
      "주문 유형 3\n",
      "화덕 고등어구이\n",
      "메뉴 설명 없음\n",
      "리뷰 존재\n",
      "음식이 맛있어요\n",
      "재료가 신선해요\n",
      "가성비가 좋아요\n",
      "양이 많아요\n",
      "친절해요\n",
      "['이태리로 간 고등어'] ...완료\n",
      "[데이터 수집 완료]\n",
      "소요 시간 : 13.428890466690063 \n",
      "\n",
      "75번째 가게\n"
     ]
    },
    {
     "name": "stderr",
     "output_type": "stream",
     "text": [
      "The chromedriver version (128.0.6613.137) detected in PATH at c:\\Users\\kk21\\Desktop\\TRIPER\\chromedriver.exe might not be compatible with the detected chrome version (129.0.6668.101); currently, chromedriver 129.0.6668.100 is recommended for chrome 129.*, so it is advised to delete the driver in PATH and retry\n"
     ]
    },
    {
     "name": "stdout",
     "output_type": "stream",
     "text": [
      "https://map.naver.com/p/search/%EB%8F%99%EC%9E%91%EA%B5%AC%20%EC%99%80%EC%9A%B0%EC%8B%A0%EB%82%B4%EB%96%A1/place/12822861?c=15.00,0,0,0,dh&isCorrectAnswer=true\n",
      "결과 한 개\n",
      "\n",
      "[크롤링 시작...]\n",
      "와우신내떡\n",
      "떡볶이\n",
      "서울 동작구 만양로14가길 3 1층\n",
      "주문 유형 3\n",
      "2인 세트\n",
      "단품대비 1000원 할인! 떡볶이+트리플치즈+갈릭후라이+참치주먹밥+양동콜라\n",
      "리뷰 존재\n",
      "음식이 맛있어요\n",
      "친절해요\n",
      "가성비가 좋아요\n",
      "양이 많아요\n",
      "혼밥하기 좋아요\n",
      "['와우신내떡'] ...완료\n",
      "[데이터 수집 완료]\n",
      "소요 시간 : 13.40870451927185 \n",
      "\n",
      "76번째 가게\n"
     ]
    },
    {
     "name": "stderr",
     "output_type": "stream",
     "text": [
      "The chromedriver version (128.0.6613.137) detected in PATH at c:\\Users\\kk21\\Desktop\\TRIPER\\chromedriver.exe might not be compatible with the detected chrome version (129.0.6668.101); currently, chromedriver 129.0.6668.100 is recommended for chrome 129.*, so it is advised to delete the driver in PATH and retry\n"
     ]
    },
    {
     "name": "stdout",
     "output_type": "stream",
     "text": [
      "https://map.naver.com/p/search/%EB%8F%99%EC%9E%91%EA%B5%AC%20%EB%8F%99%EB%91%90%EC%B2%9C%EC%86%A5%EB%9A%9C%EA%BB%91%EC%82%BC%EA%B2%B9%EC%82%B4%20%EC%9D%B4%EC%88%98%EC%97%AD%EC%A0%90?c=15.00,0,0,0,dh\n",
      "결과 여러 개 존재(지점 또는 근접 지역)\n",
      "\n",
      "[크롤링 시작...]\n",
      "동두천솥뚜껑삼겹살 이수역점\n",
      "돼지고기구이\n",
      "서울 동작구 동작대로27다길 29 103호, 104호\n",
      "주문 유형 3\n",
      "生통삼겹/生생목살(한판3인분600g)\n",
      "두툼하고 육즙가득한 生삼겹과 生목살을 추억의 솥뚜껑에 마이야르 구이로 즐기는 메뉴\n",
      "리뷰 존재\n",
      "음식이 맛있어요\n",
      "고기 질이 좋아요\n",
      "양이 많아요\n",
      "가성비가 좋아요\n",
      "매장이 넓어요\n",
      "['동두천솥뚜껑삼겹살 이수역점'] ...완료\n",
      "[데이터 수집 완료]\n",
      "소요 시간 : 13.423132181167603 \n",
      "\n",
      "77번째 가게\n"
     ]
    },
    {
     "name": "stderr",
     "output_type": "stream",
     "text": [
      "The chromedriver version (128.0.6613.137) detected in PATH at c:\\Users\\kk21\\Desktop\\TRIPER\\chromedriver.exe might not be compatible with the detected chrome version (129.0.6668.101); currently, chromedriver 129.0.6668.100 is recommended for chrome 129.*, so it is advised to delete the driver in PATH and retry\n"
     ]
    },
    {
     "name": "stdout",
     "output_type": "stream",
     "text": [
      "https://map.naver.com/p/search/%EB%8F%99%EC%9E%91%EA%B5%AC%20%EC%88%AF%EB%B6%88%EC%97%90%EB%8B%AD%20%EC%82%AC%EB%8B%B9%EC%A0%90?c=15.00,0,0,0,dh\n",
      "결과 여러 개 존재(지점 또는 근접 지역)\n",
      "\n",
      "[크롤링 시작...]\n",
      "숯불에닭 사당점\n",
      "닭요리\n",
      "서울 동작구 남부순환로269길 21 1층\n",
      "주문 유형 3\n",
      "사당숯불닭갈비-양념(350g)\n",
      "사당맛집 숯불에닭 특제 양념을 즉석에서 발라 구워낸 숯불에닭의 시그니처 메뉴!!\n",
      "리뷰 존재\n",
      "음식이 맛있어요\n",
      "고기 질이 좋아요\n",
      "친절해요\n",
      "매장이 넓어요\n",
      "양이 많아요\n",
      "['숯불에닭 사당점'] ...완료\n",
      "[데이터 수집 완료]\n",
      "소요 시간 : 13.430958032608032 \n",
      "\n",
      "78번째 가게\n"
     ]
    },
    {
     "name": "stderr",
     "output_type": "stream",
     "text": [
      "The chromedriver version (128.0.6613.137) detected in PATH at c:\\Users\\kk21\\Desktop\\TRIPER\\chromedriver.exe might not be compatible with the detected chrome version (129.0.6668.101); currently, chromedriver 129.0.6668.100 is recommended for chrome 129.*, so it is advised to delete the driver in PATH and retry\n"
     ]
    },
    {
     "name": "stdout",
     "output_type": "stream",
     "text": [
      "https://map.naver.com/p/search/%EB%8F%99%EC%9E%91%EA%B5%AC%20%EB%B0%B1%EC%B1%84%EA%B9%80%EC%B9%98%EC%B0%8C%EA%B0%9C%20%EC%82%AC%EB%8B%B9%EC%A0%90?c=15.00,0,0,0,dh\n",
      "결과 여러 개 존재(지점 또는 근접 지역)\n",
      "\n",
      "[크롤링 시작...]\n",
      "백채김치찌개 사당점\n",
      "찌개,전골\n",
      "서울 동작구 동작대로7길 10 1층\n",
      "주문 유형 3\n",
      "보달라 (2~3인세트)\n",
      "가성비 끝 보통+달걀말이+라면사리+밥3\n",
      "리뷰 존재\n",
      "음식이 맛있어요\n",
      "양이 많아요\n",
      "친절해요\n",
      "가성비가 좋아요\n",
      "재료가 신선해요\n",
      "['백채김치찌개 사당점'] ...완료\n",
      "[데이터 수집 완료]\n",
      "소요 시간 : 13.416297435760498 \n",
      "\n",
      "79번째 가게\n"
     ]
    },
    {
     "name": "stderr",
     "output_type": "stream",
     "text": [
      "The chromedriver version (128.0.6613.137) detected in PATH at c:\\Users\\kk21\\Desktop\\TRIPER\\chromedriver.exe might not be compatible with the detected chrome version (129.0.6668.101); currently, chromedriver 129.0.6668.100 is recommended for chrome 129.*, so it is advised to delete the driver in PATH and retry\n"
     ]
    },
    {
     "name": "stdout",
     "output_type": "stream",
     "text": [
      "https://map.naver.com/p/search/%EB%8F%99%EC%9E%91%EA%B5%AC%20%EB%B2%A0%EB%A6%AC%EA%B5%B3%EB%B2%A0%EC%9D%B4%EA%B8%80%20%EC%9D%B4%EC%88%98%EC%A0%90/place/1878281453?c=15.00,0,0,0,dh&isCorrectAnswer=true\n",
      "결과 한 개\n",
      "\n",
      "[크롤링 시작...]\n",
      "베리굳베이글 이수점\n",
      "베이커리\n",
      "서울 동작구 동작대로 187 1층\n",
      "주문 유형 3\n",
      "카야버터 베이글\n",
      "메뉴 설명 없음\n",
      "리뷰 존재\n",
      "빵이 맛있어요\n",
      "특별한 메뉴가 있어요\n",
      "커피가 맛있어요\n",
      "친절해요\n",
      "매장이 청결해요\n",
      "['베리굳베이글 이수점'] ...완료\n",
      "[데이터 수집 완료]\n",
      "소요 시간 : 13.484927892684937 \n",
      "\n",
      "80번째 가게\n"
     ]
    },
    {
     "name": "stderr",
     "output_type": "stream",
     "text": [
      "The chromedriver version (128.0.6613.137) detected in PATH at c:\\Users\\kk21\\Desktop\\TRIPER\\chromedriver.exe might not be compatible with the detected chrome version (129.0.6668.101); currently, chromedriver 129.0.6668.100 is recommended for chrome 129.*, so it is advised to delete the driver in PATH and retry\n"
     ]
    },
    {
     "name": "stdout",
     "output_type": "stream",
     "text": [
      "https://map.naver.com/p/search/%EB%8F%99%EC%9E%91%EA%B5%AC%20%EC%98%A4%EC%BD%94%EB%85%B8%EB%AF%B8%EC%8A%A4%ED%86%A0%EB%A6%AC/place/719818520?c=15.00,0,0,0,dh&isCorrectAnswer=true\n",
      "결과 한 개\n",
      "\n",
      "[크롤링 시작...]\n",
      "오코노미스토리\n",
      "일식당\n",
      "서울 동작구 노량진로10길 27 1층 오코노미스토리\n",
      "주문 유형 3\n",
      "야끼소바\n",
      "면을 구워서 다시한번 볶아서 나가요 야끼소바 소스랑 채소랑 어우러져서 나가요 가츠오부시\n",
      "리뷰 존재\n",
      "음식이 맛있어요\n",
      "재료가 신선해요\n",
      "특별한 메뉴가 있어요\n",
      "친절해요\n",
      "양이 많아요\n",
      "['오코노미스토리'] ...완료\n",
      "[데이터 수집 완료]\n",
      "소요 시간 : 13.416569232940674 \n",
      "\n",
      "81번째 가게\n"
     ]
    },
    {
     "name": "stderr",
     "output_type": "stream",
     "text": [
      "The chromedriver version (128.0.6613.137) detected in PATH at c:\\Users\\kk21\\Desktop\\TRIPER\\chromedriver.exe might not be compatible with the detected chrome version (129.0.6668.101); currently, chromedriver 129.0.6668.100 is recommended for chrome 129.*, so it is advised to delete the driver in PATH and retry\n"
     ]
    },
    {
     "name": "stdout",
     "output_type": "stream",
     "text": [
      "https://map.naver.com/p/search/%EB%8F%99%EC%9E%91%EA%B5%AC%20%EC%8B%9C%EA%B0%84%EC%9D%84%20%EB%93%A4%EC%9D%B4%EB%8B%A4/place/633094958?c=15.00,0,0,0,dh&isCorrectAnswer=true\n",
      "결과 한 개\n",
      "\n",
      "[크롤링 시작...]\n",
      "시간을 들이다\n",
      "베이커리\n",
      "서울 동작구 보라매로 80 1층\n",
      "주문 유형 3\n",
      "대표 메뉴 없음\n",
      "메뉴 설명 없음\n",
      "오류 예외 처리\n",
      "82번째 가게\n"
     ]
    },
    {
     "name": "stderr",
     "output_type": "stream",
     "text": [
      "The chromedriver version (128.0.6613.137) detected in PATH at c:\\Users\\kk21\\Desktop\\TRIPER\\chromedriver.exe might not be compatible with the detected chrome version (129.0.6668.101); currently, chromedriver 129.0.6668.100 is recommended for chrome 129.*, so it is advised to delete the driver in PATH and retry\n"
     ]
    },
    {
     "name": "stdout",
     "output_type": "stream",
     "text": [
      "https://map.naver.com/p/search/%EB%8F%99%EC%9E%91%EA%B5%AC%20%ED%95%B4%EB%AC%BC%ED%95%9C%EC%86%8C%EB%B0%98%20%EC%82%AC%EB%8B%B9%EC%A7%81%EC%98%81%EC%A0%90/place/32839660?c=15.00,0,0,0,dh&isCorrectAnswer=true\n",
      "결과 한 개\n",
      "\n",
      "[크롤링 시작...]\n",
      "해물한소반 사당직영점\n",
      "아귀찜,해물찜\n",
      "서울 동작구 동작대로1길 18\n",
      "주문 유형 3\n",
      "왕해물탕\n",
      "해산물을 아낌없이 넣은 왕해물탕입니다.\n",
      "리뷰 존재\n",
      "음식이 맛있어요\n",
      "양이 많아요\n",
      "재료가 신선해요\n",
      "친절해요\n",
      "가성비가 좋아요\n",
      "['해물한소반 사당직영점'] ...완료\n",
      "[데이터 수집 완료]\n",
      "소요 시간 : 13.441374063491821 \n",
      "\n",
      "83번째 가게\n"
     ]
    },
    {
     "name": "stderr",
     "output_type": "stream",
     "text": [
      "The chromedriver version (128.0.6613.137) detected in PATH at c:\\Users\\kk21\\Desktop\\TRIPER\\chromedriver.exe might not be compatible with the detected chrome version (129.0.6668.101); currently, chromedriver 129.0.6668.100 is recommended for chrome 129.*, so it is advised to delete the driver in PATH and retry\n"
     ]
    },
    {
     "name": "stdout",
     "output_type": "stream",
     "text": [
      "https://map.naver.com/p/search/%EB%8F%99%EC%9E%91%EA%B5%AC%20%EC%84%B8%EB%85%B9/place/36528615?c=15.00,0,0,0,dh&isCorrectAnswer=true\n",
      "결과 한 개\n",
      "\n",
      "[크롤링 시작...]\n",
      "세녹\n",
      "홍차전문점\n",
      "서울 동작구 사당로 304\n",
      "주문 유형 3\n",
      "아메리카노\n",
      "메뉴 설명 없음\n",
      "리뷰 존재\n",
      "차가 맛있어요\n",
      "집중하기 좋아요\n",
      "음료가 맛있어요\n",
      "대화하기 좋아요\n",
      "좌석이 편해요\n",
      "['세녹'] ...완료\n",
      "[데이터 수집 완료]\n",
      "소요 시간 : 13.4233980178833 \n",
      "\n",
      "84번째 가게\n"
     ]
    },
    {
     "name": "stderr",
     "output_type": "stream",
     "text": [
      "The chromedriver version (128.0.6613.137) detected in PATH at c:\\Users\\kk21\\Desktop\\TRIPER\\chromedriver.exe might not be compatible with the detected chrome version (129.0.6668.101); currently, chromedriver 129.0.6668.100 is recommended for chrome 129.*, so it is advised to delete the driver in PATH and retry\n"
     ]
    },
    {
     "name": "stdout",
     "output_type": "stream",
     "text": [
      "https://map.naver.com/p/search/%EB%8F%99%EC%9E%91%EA%B5%AC%20%ED%81%AC%EB%9E%98%ED%94%84%ED%8A%B8%ED%95%9C%EC%8A%A4%20%EC%9D%B4%EC%88%98%EC%A0%90?c=15.00,0,0,0,dh\n",
      "결과 여러 개 존재(지점 또는 근접 지역)\n",
      "\n",
      "[크롤링 시작...]\n",
      "크래프트한스 이수점\n",
      "맥주,호프\n",
      "서울 동작구 동작대로27길 42 1층 크래프트한스\n",
      "주문 유형 3\n",
      "크리스피치킨\n",
      "크래프트한스만의 자체 레시피로 만든 매콤하고 바삭한 프라이드 치킨\n",
      "리뷰 존재\n",
      "음식이 맛있어요\n",
      "술이 다양해요\n",
      "친절해요\n",
      "인테리어가 멋져요\n",
      "기본 안주가 좋아요\n",
      "['크래프트한스 이수점'] ...완료\n",
      "[데이터 수집 완료]\n",
      "소요 시간 : 13.41233205795288 \n",
      "\n",
      "85번째 가게\n"
     ]
    },
    {
     "name": "stderr",
     "output_type": "stream",
     "text": [
      "The chromedriver version (128.0.6613.137) detected in PATH at c:\\Users\\kk21\\Desktop\\TRIPER\\chromedriver.exe might not be compatible with the detected chrome version (129.0.6668.101); currently, chromedriver 129.0.6668.100 is recommended for chrome 129.*, so it is advised to delete the driver in PATH and retry\n"
     ]
    },
    {
     "name": "stdout",
     "output_type": "stream",
     "text": [
      "https://map.naver.com/p/search/%EB%8F%99%EC%9E%91%EA%B5%AC%20%EB%94%94%ED%8D%BC%EB%8C%84%EC%99%80%EC%9D%B8/place/1602026142?c=15.00,0,0,0,dh&isCorrectAnswer=true\n",
      "결과 한 개\n",
      "\n",
      "[크롤링 시작...]\n",
      "디퍼댄와인 사당점\n",
      "요리주점\n",
      "서울 동작구 동작대로1길 8 3층\n",
      "주문 유형 3\n",
      "수비드 돼지안심 스테이크\n",
      "누룽지의 식감과 크림의 고소함을 살린 퓨전 리조또.\n",
      "리뷰 존재\n",
      "음식이 맛있어요\n",
      "인테리어가 멋져요\n",
      "술이 다양해요\n",
      "대화하기 좋아요\n",
      "친절해요\n",
      "['디퍼댄와인 사당점'] ...완료\n",
      "[데이터 수집 완료]\n",
      "소요 시간 : 13.446354866027832 \n",
      "\n",
      "86번째 가게\n"
     ]
    },
    {
     "name": "stderr",
     "output_type": "stream",
     "text": [
      "The chromedriver version (128.0.6613.137) detected in PATH at c:\\Users\\kk21\\Desktop\\TRIPER\\chromedriver.exe might not be compatible with the detected chrome version (129.0.6668.101); currently, chromedriver 129.0.6668.100 is recommended for chrome 129.*, so it is advised to delete the driver in PATH and retry\n"
     ]
    },
    {
     "name": "stdout",
     "output_type": "stream",
     "text": [
      "https://map.naver.com/p/search/%EB%8F%99%EC%9E%91%EA%B5%AC%20%EB%9E%A8%ED%83%80%EC%9A%B4%EC%96%91%EA%BC%AC%EC%B9%98%20%EC%82%AC%EB%8B%B9%EC%A0%90/place/1837728768?c=15.00,0,0,0,dh&isCorrectAnswer=true\n",
      "결과 한 개\n",
      "\n",
      "[크롤링 시작...]\n",
      "램타운양꼬치 사당점\n",
      "양꼬치\n",
      "서울 동작구 동작대로1길 28\n",
      "주문 유형 3\n",
      "고급양고기모듬세트\n",
      "최상급 호주산 숄더팩 , 등심 , 격자육 120시간의 숙성과정을거친 양고기 모듬세트\n",
      "리뷰 존재\n",
      "음식이 맛있어요\n",
      "고기 질이 좋아요\n",
      "친절해요\n",
      "매장이 넓어요\n",
      "가성비가 좋아요\n",
      "['램타운양꼬치 사당점'] ...완료\n",
      "[데이터 수집 완료]\n",
      "소요 시간 : 13.447105169296265 \n",
      "\n",
      "87번째 가게\n"
     ]
    },
    {
     "name": "stderr",
     "output_type": "stream",
     "text": [
      "The chromedriver version (128.0.6613.137) detected in PATH at c:\\Users\\kk21\\Desktop\\TRIPER\\chromedriver.exe might not be compatible with the detected chrome version (129.0.6668.101); currently, chromedriver 129.0.6668.100 is recommended for chrome 129.*, so it is advised to delete the driver in PATH and retry\n"
     ]
    },
    {
     "name": "stdout",
     "output_type": "stream",
     "text": [
      "https://map.naver.com/p/search/%EB%8F%99%EC%9E%91%EA%B5%AC%20%ED%99%94%ED%83%84%20%EC%88%AF%EB%B6%88%20%EC%9A%B0%EB%8C%80%EA%B0%88%EB%B9%84/place/1906928696?c=15.00,0,0,0,dh&isCorrectAnswer=true\n",
      "결과 한 개\n",
      "\n",
      "[크롤링 시작...]\n",
      "화탄 숯불 우대갈비\n",
      "소고기구이\n",
      "서울 동작구 상도로61가길 2 1층 화탄 숯불 우대갈비\n",
      "주문 유형 3\n",
      "대표 메뉴 없음\n",
      "메뉴 설명 없음\n",
      "오류 예외 처리\n",
      "88번째 가게\n"
     ]
    },
    {
     "name": "stderr",
     "output_type": "stream",
     "text": [
      "The chromedriver version (128.0.6613.137) detected in PATH at c:\\Users\\kk21\\Desktop\\TRIPER\\chromedriver.exe might not be compatible with the detected chrome version (129.0.6668.101); currently, chromedriver 129.0.6668.100 is recommended for chrome 129.*, so it is advised to delete the driver in PATH and retry\n"
     ]
    },
    {
     "name": "stdout",
     "output_type": "stream",
     "text": [
      "https://map.naver.com/p/search/%EB%8F%99%EC%9E%91%EA%B5%AC%20%EC%98%A4%EA%B0%90%EB%A7%8C%EC%A1%B1?c=12.00,0,0,0,dh\n",
      "결과 여러 개 존재(지점 또는 근접 지역)\n",
      "\n",
      "[크롤링 시작...]\n",
      "오감만족\n",
      "포장마차\n",
      "서울 동작구 장승배기로23길 1\n",
      "주문 유형 3\n",
      "김치삼겹\n",
      "메뉴 설명 없음\n",
      "리뷰 존재\n",
      "음식이 맛있어요\n",
      "가성비가 좋아요\n",
      "친절해요\n",
      "기본 안주가 좋아요\n",
      "특별한 메뉴가 있어요\n",
      "['오감만족'] ...완료\n",
      "[데이터 수집 완료]\n",
      "소요 시간 : 13.392857551574707 \n",
      "\n",
      "89번째 가게\n"
     ]
    },
    {
     "name": "stderr",
     "output_type": "stream",
     "text": [
      "The chromedriver version (128.0.6613.137) detected in PATH at c:\\Users\\kk21\\Desktop\\TRIPER\\chromedriver.exe might not be compatible with the detected chrome version (129.0.6668.101); currently, chromedriver 129.0.6668.100 is recommended for chrome 129.*, so it is advised to delete the driver in PATH and retry\n"
     ]
    },
    {
     "name": "stdout",
     "output_type": "stream",
     "text": [
      "https://map.naver.com/p/search/%EB%8F%99%EC%9E%91%EA%B5%AC%20%EC%83%81%EB%82%A8%EC%8A%A4%EC%8B%9C/place/37691264?c=15.00,0,0,0,dh&isCorrectAnswer=true\n",
      "결과 한 개\n",
      "\n",
      "[크롤링 시작...]\n",
      "상남스시\n",
      "초밥,롤\n",
      "서울 동작구 여의대방로24길 64 1층\n",
      "주문 유형 3\n",
      "디너스시\n",
      "디너1부 5시30분~7시30분 2부 8시00분~10시00분\n",
      "리뷰 존재\n",
      "음식이 맛있어요\n",
      "가성비가 좋아요\n",
      "재료가 신선해요\n",
      "친절해요\n",
      "특별한 메뉴가 있어요\n",
      "['상남스시'] ...완료\n",
      "[데이터 수집 완료]\n",
      "소요 시간 : 13.444873094558716 \n",
      "\n",
      "./out_food_review/out_19_food.csv완료\n",
      "0번째 가게\n"
     ]
    },
    {
     "name": "stderr",
     "output_type": "stream",
     "text": [
      "The chromedriver version (128.0.6613.137) detected in PATH at c:\\Users\\kk21\\Desktop\\TRIPER\\chromedriver.exe might not be compatible with the detected chrome version (129.0.6668.101); currently, chromedriver 129.0.6668.100 is recommended for chrome 129.*, so it is advised to delete the driver in PATH and retry\n"
     ]
    },
    {
     "name": "stdout",
     "output_type": "stream",
     "text": [
      "https://map.naver.com/p/search/%EA%B4%80%EC%95%85%EA%B5%AC%20%EC%98%A4%EB%A7%88%EC%B9%B4%EC%84%B8%20%EC%98%A4%EC%82%AC%EC%9D%B4%EC%B4%88%EB%B0%A5%20%EC%84%9C%EC%9A%B8%EB%8C%80%EC%A0%90?c=15.00,0,0,0,dh\n",
      "결과 여러 개 존재(지점 또는 근접 지역)\n",
      "가게 없음\n",
      "1번째 가게\n"
     ]
    },
    {
     "name": "stderr",
     "output_type": "stream",
     "text": [
      "The chromedriver version (128.0.6613.137) detected in PATH at c:\\Users\\kk21\\Desktop\\TRIPER\\chromedriver.exe might not be compatible with the detected chrome version (129.0.6668.101); currently, chromedriver 129.0.6668.100 is recommended for chrome 129.*, so it is advised to delete the driver in PATH and retry\n"
     ]
    },
    {
     "name": "stdout",
     "output_type": "stream",
     "text": [
      "https://map.naver.com/p/search/%EA%B4%80%EC%95%85%EA%B5%AC%20%EB%A8%B8%EC%8B%9C%EA%B8%B0%EC%AA%BD%EA%B0%88%EB%B9%84%20%EC%8B%A0%EB%A6%BC%EC%A0%90?c=15.00,0,0,0,dh\n",
      "결과 여러 개 존재(지점 또는 근접 지역)\n",
      "\n",
      "[크롤링 시작...]\n",
      "머시기쪽갈비 신림점\n",
      "육류,고기요리\n",
      "서울 관악구 신림동길 23-1 1층 101, 102호\n",
      "주문 유형 3\n",
      "쪽갈비\n",
      "국내산 생등갈비(250g)를 황토가마로 훈연해 잡내 없이 육즙 가득 부드러운 쪽갈비.\n",
      "리뷰 존재\n",
      "음식이 맛있어요\n",
      "고기 질이 좋아요\n",
      "친절해요\n",
      "매장이 넓어요\n",
      "특별한 메뉴가 있어요\n",
      "['머시기쪽갈비 신림점'] ...완료\n",
      "[데이터 수집 완료]\n",
      "소요 시간 : 13.453290224075317 \n",
      "\n",
      "2번째 가게\n"
     ]
    },
    {
     "name": "stderr",
     "output_type": "stream",
     "text": [
      "The chromedriver version (128.0.6613.137) detected in PATH at c:\\Users\\kk21\\Desktop\\TRIPER\\chromedriver.exe might not be compatible with the detected chrome version (129.0.6668.101); currently, chromedriver 129.0.6668.100 is recommended for chrome 129.*, so it is advised to delete the driver in PATH and retry\n"
     ]
    },
    {
     "name": "stdout",
     "output_type": "stream",
     "text": [
      "https://map.naver.com/p/search/%EA%B4%80%EC%95%85%EA%B5%AC%20%EC%82%AC%EB%8B%B9%EC%97%AD%20%ED%9E%98%EC%B0%AC%EC%A0%95%EC%9C%A1%EC%8B%9D%EB%8B%B9/place/1721781825?c=15.00,0,0,0,dh&isCorrectAnswer=true\n",
      "결과 한 개\n",
      "\n",
      "[크롤링 시작...]\n",
      "사당역 힘찬정육식당\n",
      "정육식당\n",
      "서울 관악구 남현1길 58 1층 힘찬정육식당\n",
      "주문 유형 3\n",
      "소한마리(800g),3~4인분\n",
      "소고기 모듬 메뉴로써, 등심, 살치살,갈비살, 우삼겹 등 고루고루 맛볼수있습니다\n",
      "리뷰 존재\n",
      "음식이 맛있어요\n",
      "가성비가 좋아요\n",
      "친절해요\n",
      "양이 많아요\n",
      "고기 질이 좋아요\n",
      "['사당역 힘찬정육식당'] ...완료\n",
      "[데이터 수집 완료]\n",
      "소요 시간 : 13.40508246421814 \n",
      "\n",
      "3번째 가게\n"
     ]
    },
    {
     "name": "stderr",
     "output_type": "stream",
     "text": [
      "The chromedriver version (128.0.6613.137) detected in PATH at c:\\Users\\kk21\\Desktop\\TRIPER\\chromedriver.exe might not be compatible with the detected chrome version (129.0.6668.101); currently, chromedriver 129.0.6668.100 is recommended for chrome 129.*, so it is advised to delete the driver in PATH and retry\n"
     ]
    },
    {
     "name": "stdout",
     "output_type": "stream",
     "text": [
      "https://map.naver.com/p/search/%EA%B4%80%EC%95%85%EA%B5%AC%20%EB%AC%B8%EB%93%9D/place/1926971458?c=15.00,0,0,0,dh&isCorrectAnswer=true\n",
      "결과 한 개\n",
      "\n",
      "[크롤링 시작...]\n",
      "문득\n",
      "이탈리아음식\n",
      "서울 관악구 관악로14길 8\n",
      "주문 유형 3\n",
      "깨크러스트 돈마호크 스테이크\n",
      "수비드한 제주돼지 돈마호크를 깨크러스트와 조화를 이룬 스테이크\n",
      "리뷰 존재\n",
      "음식이 맛있어요\n",
      "특별한 메뉴가 있어요\n",
      "친절해요\n",
      "양이 많아요\n",
      "재료가 신선해요\n",
      "['문득'] ...완료\n",
      "[데이터 수집 완료]\n",
      "소요 시간 : 13.418367862701416 \n",
      "\n",
      "4번째 가게\n"
     ]
    },
    {
     "name": "stderr",
     "output_type": "stream",
     "text": [
      "The chromedriver version (128.0.6613.137) detected in PATH at c:\\Users\\kk21\\Desktop\\TRIPER\\chromedriver.exe might not be compatible with the detected chrome version (129.0.6668.101); currently, chromedriver 129.0.6668.100 is recommended for chrome 129.*, so it is advised to delete the driver in PATH and retry\n"
     ]
    },
    {
     "name": "stdout",
     "output_type": "stream",
     "text": [
      "https://map.naver.com/p/search/%EA%B4%80%EC%95%85%EA%B5%AC%20%EC%88%98%EC%A7%80%EC%83%81%ED%9A%8C%20%EC%8B%A0%EB%A6%BC%EC%A7%81%EC%98%81%EC%A0%90/place/1060507132?c=15.00,0,0,0,dh&isCorrectAnswer=true\n",
      "결과 한 개\n",
      "\n",
      "[크롤링 시작...]\n",
      "수지상회 신림직영점\n",
      "요리주점\n",
      "서울 관악구 남부순환로 1600-9 1층\n",
      "주문 유형 3\n",
      "수지항정수육\n",
      "일반수육 과 다르다 어디서도 볼수없는 술집 유일 \"항정수육\" 말해 뭐해\n",
      "리뷰 존재\n",
      "음식이 맛있어요\n",
      "친절해요\n",
      "인테리어가 멋져요\n",
      "술이 다양해요\n",
      "음악이 좋아요\n",
      "['수지상회 신림직영점'] ...완료\n",
      "[데이터 수집 완료]\n",
      "소요 시간 : 13.395213842391968 \n",
      "\n",
      "5번째 가게\n"
     ]
    },
    {
     "name": "stderr",
     "output_type": "stream",
     "text": [
      "The chromedriver version (128.0.6613.137) detected in PATH at c:\\Users\\kk21\\Desktop\\TRIPER\\chromedriver.exe might not be compatible with the detected chrome version (129.0.6668.101); currently, chromedriver 129.0.6668.100 is recommended for chrome 129.*, so it is advised to delete the driver in PATH and retry\n"
     ]
    },
    {
     "name": "stdout",
     "output_type": "stream",
     "text": [
      "https://map.naver.com/p/search/%EA%B4%80%EC%95%85%EA%B5%AC%20%EA%B9%A1%ED%86%B5%EB%8B%AD%EA%B0%88%EB%B9%84/place/37098349?c=15.00,0,0,0,dh&isCorrectAnswer=true\n",
      "결과 한 개\n",
      "\n",
      "[크롤링 시작...]\n",
      "깡통닭갈비\n",
      "닭갈비\n",
      "서울 관악구 남부순환로 1597-14 1층\n",
      "주문 유형 3\n",
      "닭갈비\n",
      "숯불닭갈비 • 소금구이 • 매콤양념 • 데리야끼\n",
      "리뷰 존재\n",
      "음식이 맛있어요\n",
      "친절해요\n",
      "가성비가 좋아요\n",
      "고기 질이 좋아요\n",
      "직접 잘 구워줘요\n",
      "['깡통닭갈비'] ...완료\n",
      "[데이터 수집 완료]\n",
      "소요 시간 : 13.457143545150757 \n",
      "\n",
      "6번째 가게\n"
     ]
    },
    {
     "name": "stderr",
     "output_type": "stream",
     "text": [
      "The chromedriver version (128.0.6613.137) detected in PATH at c:\\Users\\kk21\\Desktop\\TRIPER\\chromedriver.exe might not be compatible with the detected chrome version (129.0.6668.101); currently, chromedriver 129.0.6668.100 is recommended for chrome 129.*, so it is advised to delete the driver in PATH and retry\n"
     ]
    },
    {
     "name": "stdout",
     "output_type": "stream",
     "text": [
      "https://map.naver.com/p/search/%EA%B4%80%EC%95%85%EA%B5%AC%20%EC%84%9C%EC%9A%B8%EA%B0%88%EB%B9%84%20%EC%8B%A0%EB%A6%BC%EC%A0%90?c=15.00,0,0,0,dh\n",
      "결과 여러 개 존재(지점 또는 근접 지역)\n",
      "\n",
      "[크롤링 시작...]\n",
      "서울갈비 신림점\n",
      "육류,고기요리\n",
      "서울 관악구 남부순환로 1645\n",
      "주문 유형 3\n",
      "공기밥\n",
      "메뉴 설명 없음\n",
      "리뷰 존재\n",
      "음식이 맛있어요\n",
      "친절해요\n",
      "특별한 메뉴가 있어요\n",
      "가성비가 좋아요\n",
      "재료가 신선해요\n",
      "['서울갈비 신림점'] ...완료\n",
      "[데이터 수집 완료]\n",
      "소요 시간 : 13.364149332046509 \n",
      "\n",
      "7번째 가게\n"
     ]
    },
    {
     "name": "stderr",
     "output_type": "stream",
     "text": [
      "The chromedriver version (128.0.6613.137) detected in PATH at c:\\Users\\kk21\\Desktop\\TRIPER\\chromedriver.exe might not be compatible with the detected chrome version (129.0.6668.101); currently, chromedriver 129.0.6668.100 is recommended for chrome 129.*, so it is advised to delete the driver in PATH and retry\n"
     ]
    },
    {
     "name": "stdout",
     "output_type": "stream",
     "text": [
      "https://map.naver.com/p/search/%EA%B4%80%EC%95%85%EA%B5%AC%20%ED%95%B5%EB%B0%A5%20%EC%8B%A0%EB%A6%BC%EC%A0%90?c=15.00,0,0,0,dh\n",
      "결과 여러 개 존재(지점 또는 근접 지역)\n",
      "\n",
      "[크롤링 시작...]\n",
      "핵밥 신림점\n",
      "덮밥\n",
      "서울 관악구 남부순환로 1596 2층\n",
      "주문 유형 3\n",
      "★ 리뉴얼 돈코츠라멘\n",
      "메뉴 설명 없음\n",
      "리뷰 존재\n",
      "음식이 맛있어요\n",
      "매장이 넓어요\n",
      "인테리어가 멋져요\n",
      "양이 많아요\n",
      "재료가 신선해요\n",
      "['핵밥 신림점'] ...완료\n",
      "[데이터 수집 완료]\n",
      "소요 시간 : 13.39663553237915 \n",
      "\n",
      "8번째 가게\n"
     ]
    },
    {
     "name": "stderr",
     "output_type": "stream",
     "text": [
      "The chromedriver version (128.0.6613.137) detected in PATH at c:\\Users\\kk21\\Desktop\\TRIPER\\chromedriver.exe might not be compatible with the detected chrome version (129.0.6668.101); currently, chromedriver 129.0.6668.100 is recommended for chrome 129.*, so it is advised to delete the driver in PATH and retry\n"
     ]
    },
    {
     "name": "stdout",
     "output_type": "stream",
     "text": [
      "https://map.naver.com/p/search/%EA%B4%80%EC%95%85%EA%B5%AC%20%EA%B1%B0%ED%95%B4%EC%B0%B8%EC%B9%98/place/1230271088?c=15.00,0,0,0,dh&isCorrectAnswer=true\n",
      "결과 한 개\n",
      "\n",
      "[크롤링 시작...]\n",
      "거해참치\n",
      "생선회\n",
      "서울 관악구 남부순환로185길 5 1층\n",
      "주문 유형 3\n",
      "실장 추천\n",
      "메뉴 설명 없음\n",
      "리뷰 존재\n",
      "음식이 맛있어요\n",
      "재료가 신선해요\n",
      "친절해요\n",
      "양이 많아요\n",
      "가성비가 좋아요\n",
      "['거해참치'] ...완료\n",
      "[데이터 수집 완료]\n",
      "소요 시간 : 13.368135452270508 \n",
      "\n",
      "9번째 가게\n"
     ]
    },
    {
     "name": "stderr",
     "output_type": "stream",
     "text": [
      "The chromedriver version (128.0.6613.137) detected in PATH at c:\\Users\\kk21\\Desktop\\TRIPER\\chromedriver.exe might not be compatible with the detected chrome version (129.0.6668.101); currently, chromedriver 129.0.6668.100 is recommended for chrome 129.*, so it is advised to delete the driver in PATH and retry\n"
     ]
    },
    {
     "name": "stdout",
     "output_type": "stream",
     "text": [
      "https://map.naver.com/p/search/%EA%B4%80%EC%95%85%EA%B5%AC%20%EA%B0%AF%EB%B2%8C%EC%9D%98%EC%A1%B0%EA%B0%9C%20%EC%82%AC%EB%8B%B9%EC%A0%90/place/1181045699?c=15.00,0,0,0,dh&isCorrectAnswer=true\n",
      "결과 한 개\n",
      "\n",
      "[크롤링 시작...]\n",
      "갯벌의조개 사당점\n",
      "조개요리\n",
      "서울 관악구 남현1길 68-6 1층 제나호\n",
      "주문 유형 3\n",
      "대왕조개전골 小 (2인)\n",
      "해물육수맛 / 얼큰해물육수맛\n",
      "리뷰 존재\n",
      "음식이 맛있어요\n",
      "재료가 신선해요\n",
      "양이 많아요\n",
      "친절해요\n",
      "매장이 청결해요\n",
      "['갯벌의조개 사당점'] ...완료\n",
      "[데이터 수집 완료]\n",
      "소요 시간 : 13.460819244384766 \n",
      "\n",
      "10번째 가게\n"
     ]
    },
    {
     "name": "stderr",
     "output_type": "stream",
     "text": [
      "The chromedriver version (128.0.6613.137) detected in PATH at c:\\Users\\kk21\\Desktop\\TRIPER\\chromedriver.exe might not be compatible with the detected chrome version (129.0.6668.101); currently, chromedriver 129.0.6668.100 is recommended for chrome 129.*, so it is advised to delete the driver in PATH and retry\n"
     ]
    },
    {
     "name": "stdout",
     "output_type": "stream",
     "text": [
      "https://map.naver.com/p/search/%EA%B4%80%EC%95%85%EA%B5%AC%20%EB%8B%AD%EC%9E%A5%EB%A7%A5%EC%A3%BC%20%EC%84%9C%EC%9A%B8%EB%8C%80%EC%9E%85%EA%B5%AC%EC%A0%90/place/1003147022?c=15.00,0,0,0,dh&isCorrectAnswer=true\n",
      "결과 한 개\n",
      "\n",
      "[크롤링 시작...]\n",
      "닭장맥주 서울대입구점\n",
      "맥주,호프\n",
      "서울 관악구 관악로14길 70 2층\n",
      "주문 유형 3\n",
      "얼음쌩맥주\n",
      "영하 45도 얼음쌩맥주\n",
      "리뷰 존재\n",
      "음식이 맛있어요\n",
      "친절해요\n",
      "기본 안주가 좋아요\n",
      "인테리어가 멋져요\n",
      "가성비가 좋아요\n",
      "['닭장맥주 서울대입구점'] ...완료\n",
      "[데이터 수집 완료]\n",
      "소요 시간 : 13.456773519515991 \n",
      "\n",
      "11번째 가게\n"
     ]
    },
    {
     "name": "stderr",
     "output_type": "stream",
     "text": [
      "The chromedriver version (128.0.6613.137) detected in PATH at c:\\Users\\kk21\\Desktop\\TRIPER\\chromedriver.exe might not be compatible with the detected chrome version (129.0.6668.101); currently, chromedriver 129.0.6668.100 is recommended for chrome 129.*, so it is advised to delete the driver in PATH and retry\n"
     ]
    },
    {
     "name": "stdout",
     "output_type": "stream",
     "text": [
      "https://map.naver.com/p/search/%EA%B4%80%EC%95%85%EA%B5%AC%20%EC%95%84%EB%A7%88%20%EC%83%A4%EB%A1%9C%EC%88%98%EA%B8%B8%EC%A0%90/place/1001180654?c=15.00,0,0,0,dh&isCorrectAnswer=true\n",
      "결과 한 개\n",
      "\n",
      "[크롤링 시작...]\n",
      "아마 샤로수길점\n",
      "인도음식\n",
      "서울 관악구 관악로14길 11 3충\n",
      "주문 유형 3\n",
      "대표 메뉴 없음\n",
      "메뉴 설명 없음\n",
      "오류 예외 처리\n",
      "12번째 가게\n"
     ]
    },
    {
     "name": "stderr",
     "output_type": "stream",
     "text": [
      "The chromedriver version (128.0.6613.137) detected in PATH at c:\\Users\\kk21\\Desktop\\TRIPER\\chromedriver.exe might not be compatible with the detected chrome version (129.0.6668.101); currently, chromedriver 129.0.6668.100 is recommended for chrome 129.*, so it is advised to delete the driver in PATH and retry\n"
     ]
    },
    {
     "name": "stdout",
     "output_type": "stream",
     "text": [
      "https://map.naver.com/p/search/%EA%B4%80%EC%95%85%EA%B5%AC%20%EB%B0%95%EC%A7%84%EC%A3%BC%ED%95%A0%EB%A8%B8%EB%8B%88%EA%B9%80%EC%B9%98%EA%B3%B1%EC%B0%BD%EC%A0%84%EA%B3%A8%20%EC%84%9C%EC%9A%B8%EB%8C%80%EC%9E%85%EA%B5%AC%EB%B3%B8%EC%A0%90/place/1730197317?c=15.00,0,0,0,dh&isCorrectAnswer=true\n",
      "결과 한 개\n",
      "\n",
      "[크롤링 시작...]\n",
      "박진주할머니김치곱창전골 서울대입구본점\n",
      "곱창,막창,양\n",
      "서울 관악구 남부순환로234길 19 1층\n",
      "주문 유형 3\n",
      "선산곱창전골\n",
      "묵은지가 아닌 겉절이를 사용하여 깔끔한 국물맛. 끓이면 끓일수록 맛있는 김치곱창전골.\n",
      "리뷰 존재\n",
      "음식이 맛있어요\n",
      "친절해요\n",
      "양이 많아요\n",
      "특별한 메뉴가 있어요\n",
      "가성비가 좋아요\n",
      "['박진주할머니김치곱창전골 서울대입구본점'] ...완료\n",
      "[데이터 수집 완료]\n",
      "소요 시간 : 13.413726091384888 \n",
      "\n",
      "13번째 가게\n"
     ]
    },
    {
     "name": "stderr",
     "output_type": "stream",
     "text": [
      "The chromedriver version (128.0.6613.137) detected in PATH at c:\\Users\\kk21\\Desktop\\TRIPER\\chromedriver.exe might not be compatible with the detected chrome version (129.0.6668.101); currently, chromedriver 129.0.6668.100 is recommended for chrome 129.*, so it is advised to delete the driver in PATH and retry\n"
     ]
    },
    {
     "name": "stdout",
     "output_type": "stream",
     "text": [
      "https://map.naver.com/p/search/%EA%B4%80%EC%95%85%EA%B5%AC%20%EC%86%8C%EB%B6%88%EB%8F%BC%EB%B6%88?c=15.00,0,0,0,dh\n",
      "결과 여러 개 존재(지점 또는 근접 지역)\n",
      "가게 없음\n",
      "14번째 가게\n"
     ]
    },
    {
     "name": "stderr",
     "output_type": "stream",
     "text": [
      "The chromedriver version (128.0.6613.137) detected in PATH at c:\\Users\\kk21\\Desktop\\TRIPER\\chromedriver.exe might not be compatible with the detected chrome version (129.0.6668.101); currently, chromedriver 129.0.6668.100 is recommended for chrome 129.*, so it is advised to delete the driver in PATH and retry\n"
     ]
    },
    {
     "name": "stdout",
     "output_type": "stream",
     "text": [
      "https://map.naver.com/p/search/%EA%B4%80%EC%95%85%EA%B5%AC%20%EC%B2%9C%EB%AF%B8%EB%AF%B8%20%EA%B5%AC%EB%A1%9C%EC%A0%90/place/1297341976?c=15.00,0,0,0,dh&isCorrectAnswer=true\n",
      "결과 한 개\n",
      "\n",
      "[크롤링 시작...]\n",
      "천미미 구로점\n",
      "중식당\n",
      "서울 관악구 시흥대로 552 석천빌딩 2층\n",
      "주문 유형 3\n",
      "해 코스요리\n",
      "사품냉채+설화게살샥스핀스프+전가복+어향동고+몽골리안비프+식사+후식\n",
      "리뷰 존재\n",
      "음식이 맛있어요\n",
      "친절해요\n",
      "매장이 넓어요\n",
      "단체모임 하기 좋아요\n",
      "재료가 신선해요\n",
      "['천미미 구로점'] ...완료\n",
      "[데이터 수집 완료]\n",
      "소요 시간 : 13.398456335067749 \n",
      "\n",
      "15번째 가게\n"
     ]
    },
    {
     "name": "stderr",
     "output_type": "stream",
     "text": [
      "The chromedriver version (128.0.6613.137) detected in PATH at c:\\Users\\kk21\\Desktop\\TRIPER\\chromedriver.exe might not be compatible with the detected chrome version (129.0.6668.101); currently, chromedriver 129.0.6668.100 is recommended for chrome 129.*, so it is advised to delete the driver in PATH and retry\n"
     ]
    },
    {
     "name": "stdout",
     "output_type": "stream",
     "text": [
      "https://map.naver.com/p/search/%EA%B4%80%EC%95%85%EA%B5%AC%20%EB%A7%89%EA%B1%B8%EB%A6%AC%EC%A0%84%EB%8B%B9/place/1044104104?c=15.00,0,0,0,dh&isCorrectAnswer=true\n",
      "결과 한 개\n",
      "\n",
      "[크롤링 시작...]\n",
      "막걸리전당\n",
      "요리주점\n",
      "서울 관악구 봉천로 461-1 1층\n",
      "주문 유형 3\n",
      "전당 모듬전 [로컬재료]\n",
      "국산재료로 직접빚은 동그랑땡이 포함된 모듬전입니다.\n",
      "리뷰 존재\n",
      "음식이 맛있어요\n",
      "술이 다양해요\n",
      "특별한 메뉴가 있어요\n",
      "친절해요\n",
      "메뉴 구성이 알차요\n",
      "['막걸리전당'] ...완료\n",
      "[데이터 수집 완료]\n",
      "소요 시간 : 13.458503723144531 \n",
      "\n",
      "16번째 가게\n"
     ]
    },
    {
     "name": "stderr",
     "output_type": "stream",
     "text": [
      "The chromedriver version (128.0.6613.137) detected in PATH at c:\\Users\\kk21\\Desktop\\TRIPER\\chromedriver.exe might not be compatible with the detected chrome version (129.0.6668.101); currently, chromedriver 129.0.6668.100 is recommended for chrome 129.*, so it is advised to delete the driver in PATH and retry\n"
     ]
    },
    {
     "name": "stdout",
     "output_type": "stream",
     "text": [
      "https://map.naver.com/p/search/%EA%B4%80%EC%95%85%EA%B5%AC%20%EC%9D%B8%EC%83%9D%EA%B3%A0%EA%B8%B0?c=15.00,0,0,0,dh\n",
      "결과 여러 개 존재(지점 또는 근접 지역)\n",
      "\n",
      "[크롤링 시작...]\n",
      "인생고기\n",
      "돼지고기구이\n",
      "서울 관악구 남부순환로 1597-2 인생고기\n",
      "주문 유형 3\n",
      "14일 숙성 정가브리살\n",
      "14일동안 저온습식숙성법으로 숙성한 선별된 원육을 제공합니다\n",
      "리뷰 존재\n",
      "음식이 맛있어요\n",
      "고기 질이 좋아요\n",
      "친절해요\n",
      "직접 잘 구워줘요\n",
      "특별한 메뉴가 있어요\n",
      "['인생고기'] ...완료\n",
      "[데이터 수집 완료]\n",
      "소요 시간 : 13.403319358825684 \n",
      "\n",
      "17번째 가게\n"
     ]
    },
    {
     "name": "stderr",
     "output_type": "stream",
     "text": [
      "The chromedriver version (128.0.6613.137) detected in PATH at c:\\Users\\kk21\\Desktop\\TRIPER\\chromedriver.exe might not be compatible with the detected chrome version (129.0.6668.101); currently, chromedriver 129.0.6668.100 is recommended for chrome 129.*, so it is advised to delete the driver in PATH and retry\n"
     ]
    },
    {
     "name": "stdout",
     "output_type": "stream",
     "text": [
      "https://map.naver.com/p/search/%EA%B4%80%EC%95%85%EA%B5%AC%20%ED%95%9C%EC%9A%B0%EC%9C%A1%ED%9A%8C%EB%A7%88%EC%9D%84%20%EC%84%9C%EC%9A%B8%EB%8C%80%EC%A0%90/place/37755038?isCorrectAnswer=true&c=15.00,0,0,0,dh\n",
      "결과 한 개\n",
      "\n",
      "[크롤링 시작...]\n",
      "한우육회마을 서울대점\n",
      "요리주점\n",
      "서울 관악구 봉천로 520-1 1층\n",
      "주문 유형 3\n",
      "대표 메뉴 없음\n",
      "메뉴 설명 없음\n",
      "오류 예외 처리\n",
      "18번째 가게\n"
     ]
    },
    {
     "name": "stderr",
     "output_type": "stream",
     "text": [
      "The chromedriver version (128.0.6613.137) detected in PATH at c:\\Users\\kk21\\Desktop\\TRIPER\\chromedriver.exe might not be compatible with the detected chrome version (129.0.6668.101); currently, chromedriver 129.0.6668.100 is recommended for chrome 129.*, so it is advised to delete the driver in PATH and retry\n"
     ]
    },
    {
     "name": "stdout",
     "output_type": "stream",
     "text": [
      "https://map.naver.com/p/search/%EA%B4%80%EC%95%85%EA%B5%AC%20%EA%B9%80%EC%B4%8C%20%EC%84%9C%EC%9A%B8%EB%8C%80%EC%9E%85%EA%B5%AC%20%EC%A7%81%EC%98%81%EC%A0%90/place/1451298096?c=15.00,0,0,0,dh&isCorrectAnswer=true\n",
      "결과 한 개\n",
      "\n",
      "[크롤링 시작...]\n",
      "김촌 서울대입구 직영점\n",
      "한식\n",
      "서울 관악구 관악로14길 6 1층\n",
      "주문 유형 3\n",
      "두루치기구이(소)\n",
      "국내산 암돼지와 김치, 엄선된 채소를 직화로 구워낸 두루치기구이 (소/중/대 선택 가능)\n",
      "리뷰 존재\n",
      "음식이 맛있어요\n",
      "재료가 신선해요\n",
      "매장이 청결해요\n",
      "양이 많아요\n",
      "친절해요\n",
      "['김촌 서울대입구 직영점'] ...완료\n",
      "[데이터 수집 완료]\n",
      "소요 시간 : 13.428495645523071 \n",
      "\n",
      "19번째 가게\n"
     ]
    },
    {
     "name": "stderr",
     "output_type": "stream",
     "text": [
      "The chromedriver version (128.0.6613.137) detected in PATH at c:\\Users\\kk21\\Desktop\\TRIPER\\chromedriver.exe might not be compatible with the detected chrome version (129.0.6668.101); currently, chromedriver 129.0.6668.100 is recommended for chrome 129.*, so it is advised to delete the driver in PATH and retry\n"
     ]
    },
    {
     "name": "stdout",
     "output_type": "stream",
     "text": [
      "https://map.naver.com/p/search/%EA%B4%80%EC%95%85%EA%B5%AC%20%EC%99%80%EC%9D%B8%EC%B0%BD%EA%B3%A0%EC%9E%A1/place/37281466?c=15.00,0,0,0,dh&isCorrectAnswer=true\n",
      "결과 한 개\n",
      "\n",
      "[크롤링 시작...]\n",
      "와인창고잡\n",
      "와인\n",
      "서울 관악구 남부순환로226길 31 1층 와인창고잡\n",
      "주문 유형 3\n",
      "프리미엄 살치살 스테이크(250g)\n",
      "프라임등급의 최상급 원육을 그릴링하여 각종 구운 야채와 푸짐하게 제공되는 스테이크입니다\n",
      "리뷰 존재\n",
      "음식이 맛있어요\n",
      "친절해요\n",
      "인테리어가 멋져요\n",
      "가성비가 좋아요\n",
      "술이 다양해요\n",
      "['와인창고잡'] ...완료\n",
      "[데이터 수집 완료]\n",
      "소요 시간 : 13.394972801208496 \n",
      "\n",
      "20번째 가게\n"
     ]
    },
    {
     "name": "stderr",
     "output_type": "stream",
     "text": [
      "The chromedriver version (128.0.6613.137) detected in PATH at c:\\Users\\kk21\\Desktop\\TRIPER\\chromedriver.exe might not be compatible with the detected chrome version (129.0.6668.101); currently, chromedriver 129.0.6668.100 is recommended for chrome 129.*, so it is advised to delete the driver in PATH and retry\n"
     ]
    },
    {
     "name": "stdout",
     "output_type": "stream",
     "text": [
      "https://map.naver.com/p/search/%EA%B4%80%EC%95%85%EA%B5%AC%20%EC%A7%80%EC%A4%91%ED%95%B4%EC%B0%B8%EC%B9%98/place/13015978?c=15.00,0,0,0,dh&isCorrectAnswer=true\n",
      "결과 한 개\n",
      "\n",
      "[크롤링 시작...]\n",
      "지중해참치\n",
      "생선회\n",
      "서울 관악구 관악로 185 2층\n",
      "주문 유형 3\n",
      "VIP 특선\n",
      "옥수수/계란탕\n",
      "리뷰 존재\n",
      "음식이 맛있어요\n",
      "재료가 신선해요\n",
      "친절해요\n",
      "특별한 메뉴가 있어요\n",
      "양이 많아요\n",
      "['지중해참치'] ...완료\n",
      "[데이터 수집 완료]\n",
      "소요 시간 : 13.450970649719238 \n",
      "\n",
      "21번째 가게\n"
     ]
    },
    {
     "name": "stderr",
     "output_type": "stream",
     "text": [
      "The chromedriver version (128.0.6613.137) detected in PATH at c:\\Users\\kk21\\Desktop\\TRIPER\\chromedriver.exe might not be compatible with the detected chrome version (129.0.6668.101); currently, chromedriver 129.0.6668.100 is recommended for chrome 129.*, so it is advised to delete the driver in PATH and retry\n"
     ]
    },
    {
     "name": "stdout",
     "output_type": "stream",
     "text": [
      "https://map.naver.com/p/search/%EA%B4%80%EC%95%85%EA%B5%AC%20%EB%B4%89%EC%B2%9C%EB%8F%99%EA%B7%B8%EC%A7%91%EB%8F%BC%EC%A7%80/place/1552305349?c=15.00,0,0,0,dh&isCorrectAnswer=true\n",
      "결과 한 개\n",
      "\n",
      "[크롤링 시작...]\n",
      "봉천동그집돼지 본점\n",
      "돼지고기구이\n",
      "서울 관악구 봉천로 467 1층 그집돼지\n",
      "주문 유형 3\n",
      "초벌숙성삼겹살(180g)\n",
      "메뉴 설명 없음\n",
      "리뷰 존재\n",
      "음식이 맛있어요\n",
      "고기 질이 좋아요\n",
      "친절해요\n",
      "양이 많아요\n",
      "매장이 넓어요\n",
      "['봉천동그집돼지 본점'] ...완료\n",
      "[데이터 수집 완료]\n",
      "소요 시간 : 13.41772985458374 \n",
      "\n",
      "22번째 가게\n"
     ]
    },
    {
     "name": "stderr",
     "output_type": "stream",
     "text": [
      "The chromedriver version (128.0.6613.137) detected in PATH at c:\\Users\\kk21\\Desktop\\TRIPER\\chromedriver.exe might not be compatible with the detected chrome version (129.0.6668.101); currently, chromedriver 129.0.6668.100 is recommended for chrome 129.*, so it is advised to delete the driver in PATH and retry\n"
     ]
    },
    {
     "name": "stdout",
     "output_type": "stream",
     "text": [
      "https://map.naver.com/p/search/%EA%B4%80%EC%95%85%EA%B5%AC%20%EC%9C%84%EB%B2%A0%EC%9D%B4%EB%B8%8C%EB%B2%A0%EC%9D%B4%ED%81%AC%EC%83%B5/place/1287392002?c=15.00,0,0,0,dh&isCorrectAnswer=true\n",
      "결과 한 개\n",
      "\n",
      "[크롤링 시작...]\n",
      "위베이브베이크샵\n",
      "카페,디저트\n",
      "서울 관악구 남부순환로233길 16 2층\n",
      "주문 유형 3\n",
      "아메리카노\n",
      "모든 커피 디카페인 변경 가능합니다.\n",
      "리뷰 존재\n",
      "디저트가 맛있어요\n",
      "커피가 맛있어요\n",
      "인테리어가 멋져요\n",
      "음료가 맛있어요\n",
      "친절해요\n",
      "['위베이브베이크샵'] ...완료\n",
      "[데이터 수집 완료]\n",
      "소요 시간 : 13.428011894226074 \n",
      "\n",
      "23번째 가게\n"
     ]
    },
    {
     "name": "stderr",
     "output_type": "stream",
     "text": [
      "The chromedriver version (128.0.6613.137) detected in PATH at c:\\Users\\kk21\\Desktop\\TRIPER\\chromedriver.exe might not be compatible with the detected chrome version (129.0.6668.101); currently, chromedriver 129.0.6668.100 is recommended for chrome 129.*, so it is advised to delete the driver in PATH and retry\n"
     ]
    },
    {
     "name": "stdout",
     "output_type": "stream",
     "text": [
      "https://map.naver.com/p/search/%EA%B4%80%EC%95%85%EA%B5%AC%20%EC%B4%88%EC%9D%B4%EB%8B%A4%EC%9D%B4%EB%8B%9D%20%EC%83%A4%EB%A1%9C%EC%88%98%EA%B8%B8%EC%A0%90?c=15.00,0,0,0,dh\n",
      "결과 여러 개 존재(지점 또는 근접 지역)\n",
      "\n",
      "[크롤링 시작...]\n",
      "초이다이닝 샤로수길점\n",
      "일식당\n",
      "서울 관악구 관악로14길 28 2층\n",
      "주문 유형 3\n",
      "평일 점심세트\n",
      "A세트 (연어5p + 돈토로동 + 마제소바) B세트 (육회5p + 오일파스타 + 마제소바)\n",
      "리뷰 존재\n",
      "음식이 맛있어요\n",
      "친절해요\n",
      "인테리어가 멋져요\n",
      "특별한 메뉴가 있어요\n",
      "매장이 청결해요\n",
      "['초이다이닝 샤로수길점'] ...완료\n",
      "[데이터 수집 완료]\n",
      "소요 시간 : 13.463827848434448 \n",
      "\n",
      "24번째 가게\n"
     ]
    },
    {
     "name": "stderr",
     "output_type": "stream",
     "text": [
      "The chromedriver version (128.0.6613.137) detected in PATH at c:\\Users\\kk21\\Desktop\\TRIPER\\chromedriver.exe might not be compatible with the detected chrome version (129.0.6668.101); currently, chromedriver 129.0.6668.100 is recommended for chrome 129.*, so it is advised to delete the driver in PATH and retry\n"
     ]
    },
    {
     "name": "stdout",
     "output_type": "stream",
     "text": [
      "https://map.naver.com/p/search/%EA%B4%80%EC%95%85%EA%B5%AC%20%ED%8B%B0%EB%9D%BC%EB%85%B8?c=15.00,0,0,0,dh\n",
      "결과 여러 개 존재(지점 또는 근접 지역)\n",
      "\n",
      "[크롤링 시작...]\n",
      "티라노\n",
      "카페,디저트\n",
      "서울 관악구 남부순환로230길 39\n",
      "주문 유형 3\n",
      "에스프레소 도피오\n",
      "메뉴 설명 없음\n",
      "리뷰 존재\n",
      "커피가 맛있어요\n",
      "디저트가 맛있어요\n",
      "친절해요\n",
      "대화하기 좋아요\n",
      "음료가 맛있어요\n",
      "['티라노'] ...완료\n",
      "[데이터 수집 완료]\n",
      "소요 시간 : 13.401739358901978 \n",
      "\n",
      "25번째 가게\n"
     ]
    },
    {
     "name": "stderr",
     "output_type": "stream",
     "text": [
      "The chromedriver version (128.0.6613.137) detected in PATH at c:\\Users\\kk21\\Desktop\\TRIPER\\chromedriver.exe might not be compatible with the detected chrome version (129.0.6668.101); currently, chromedriver 129.0.6668.100 is recommended for chrome 129.*, so it is advised to delete the driver in PATH and retry\n"
     ]
    },
    {
     "name": "stdout",
     "output_type": "stream",
     "text": [
      "https://map.naver.com/p/search/%EA%B4%80%EC%95%85%EA%B5%AC%20%EC%98%A4%EC%9B%94%EC%9D%98%EA%B9%80%EB%B0%A5/place/37778826?c=15.00,0,0,0,dh&isCorrectAnswer=true\n",
      "결과 한 개\n",
      "\n",
      "[크롤링 시작...]\n",
      "오월의김밥\n",
      "김밥\n",
      "서울 관악구 봉천로 605 102호\n",
      "주문 유형 3\n",
      "밥도둑김밥\n",
      "메뉴 설명 없음\n",
      "리뷰 존재\n",
      "음식이 맛있어요\n",
      "특별한 메뉴가 있어요\n",
      "재료가 신선해요\n",
      "양이 많아요\n",
      "친절해요\n",
      "['오월의김밥'] ...완료\n",
      "[데이터 수집 완료]\n",
      "소요 시간 : 13.419533014297485 \n",
      "\n",
      "26번째 가게\n"
     ]
    },
    {
     "name": "stderr",
     "output_type": "stream",
     "text": [
      "The chromedriver version (128.0.6613.137) detected in PATH at c:\\Users\\kk21\\Desktop\\TRIPER\\chromedriver.exe might not be compatible with the detected chrome version (129.0.6668.101); currently, chromedriver 129.0.6668.100 is recommended for chrome 129.*, so it is advised to delete the driver in PATH and retry\n"
     ]
    },
    {
     "name": "stdout",
     "output_type": "stream",
     "text": [
      "https://map.naver.com/p/search/%EA%B4%80%EC%95%85%EA%B5%AC%20%EC%B9%B4%ED%8E%98%20%ED%8C%83%EB%B9%97/place/34584833?c=15.00,0,0,0,dh&isCorrectAnswer=true\n",
      "결과 한 개\n",
      "\n",
      "[크롤링 시작...]\n",
      "카페 팃빗\n",
      "카페,디저트\n",
      "서울 관악구 관악로14가길 6 2층\n",
      "주문 유형 3\n",
      "밤 티라미수\n",
      "흑백요리사 에 나와 화제가 되었던 밤티라미수를 팃빗만의 레시피로 재해석해 만든 티라미수\n",
      "리뷰 존재\n",
      "디저트가 맛있어요\n",
      "커피가 맛있어요\n",
      "인테리어가 멋져요\n",
      "음료가 맛있어요\n",
      "친절해요\n",
      "['카페 팃빗'] ...완료\n",
      "[데이터 수집 완료]\n",
      "소요 시간 : 13.458615779876709 \n",
      "\n",
      "27번째 가게\n"
     ]
    },
    {
     "name": "stderr",
     "output_type": "stream",
     "text": [
      "The chromedriver version (128.0.6613.137) detected in PATH at c:\\Users\\kk21\\Desktop\\TRIPER\\chromedriver.exe might not be compatible with the detected chrome version (129.0.6668.101); currently, chromedriver 129.0.6668.100 is recommended for chrome 129.*, so it is advised to delete the driver in PATH and retry\n"
     ]
    },
    {
     "name": "stdout",
     "output_type": "stream",
     "text": [
      "https://map.naver.com/p/search/%EA%B4%80%EC%95%85%EA%B5%AC%20%EC%B9%98%EC%A6%88%EB%A9%94%EC%9D%B4%ED%8A%B8/place/1910675243?c=15.00,0,0,0,dh&isCorrectAnswer=true\n",
      "결과 한 개\n",
      "\n",
      "[크롤링 시작...]\n",
      "치즈메이트\n",
      "양식\n",
      "서울 관악구 봉천로 535 1층 치즈메이트\n",
      "주문 유형 3\n",
      "치즈메이트 라자냐\n",
      "오래 찐하게 끓여낸 고기의 풍미를 올린 라구소스와 치즈를 한층한층 쌓아올린 치즈반 고기반!\n",
      "리뷰 존재\n",
      "음식이 맛있어요\n",
      "인테리어가 멋져요\n",
      "친절해요\n",
      "특별한 메뉴가 있어요\n",
      "재료가 신선해요\n",
      "['치즈메이트'] ...완료\n",
      "[데이터 수집 완료]\n",
      "소요 시간 : 13.515243291854858 \n",
      "\n",
      "28번째 가게\n"
     ]
    },
    {
     "name": "stderr",
     "output_type": "stream",
     "text": [
      "The chromedriver version (128.0.6613.137) detected in PATH at c:\\Users\\kk21\\Desktop\\TRIPER\\chromedriver.exe might not be compatible with the detected chrome version (129.0.6668.101); currently, chromedriver 129.0.6668.100 is recommended for chrome 129.*, so it is advised to delete the driver in PATH and retry\n"
     ]
    },
    {
     "name": "stdout",
     "output_type": "stream",
     "text": [
      "https://map.naver.com/p/search/%EA%B4%80%EC%95%85%EA%B5%AC%20%EB%B0%B1%EC%86%8C%EC%A0%95%20%EC%84%9C%EC%9A%B8%EB%8C%80%EC%9E%85%EA%B5%AC%EC%97%AD%EC%A0%90?c=15.00,0,0,0,dh\n",
      "결과 여러 개 존재(지점 또는 근접 지역)\n",
      "\n",
      "[크롤링 시작...]\n",
      "백소정 서울대입구역점\n",
      "일식당\n",
      "서울 관악구 관악로 164 대우디오슈페리움 113호\n",
      "주문 유형 3\n",
      "에비텐어묵우동+돈카츠\n",
      "우동, 새우튀김1개 , 돈카츠, 어묵, 샐러드, 연유치즈떡\n",
      "리뷰 존재\n",
      "음식이 맛있어요\n",
      "매장이 청결해요\n",
      "친절해요\n",
      "혼밥하기 좋아요\n",
      "재료가 신선해요\n",
      "['백소정 서울대입구역점'] ...완료\n",
      "[데이터 수집 완료]\n",
      "소요 시간 : 13.398242235183716 \n",
      "\n",
      "29번째 가게\n"
     ]
    },
    {
     "name": "stderr",
     "output_type": "stream",
     "text": [
      "The chromedriver version (128.0.6613.137) detected in PATH at c:\\Users\\kk21\\Desktop\\TRIPER\\chromedriver.exe might not be compatible with the detected chrome version (129.0.6668.101); currently, chromedriver 129.0.6668.100 is recommended for chrome 129.*, so it is advised to delete the driver in PATH and retry\n"
     ]
    },
    {
     "name": "stdout",
     "output_type": "stream",
     "text": [
      "https://map.naver.com/p/search/%EA%B4%80%EC%95%85%EA%B5%AC%20%EC%B9%B4%ED%8E%98%EB%8D%94%EB%9D%A4%EB%9A%9C/place/1516065659?c=15.00,0,0,0,dh&isCorrectAnswer=true\n",
      "결과 한 개\n",
      "\n",
      "[크롤링 시작...]\n",
      "카페더띤뚜\n",
      "카페,디저트\n",
      "서울 관악구 관악로16길 41 지하1층\n",
      "주문 유형 3\n",
      "아메리카노\n",
      "원두를 끝까지 짜내지 않는 저희만의 추출방식을 사용해 쓰지않은 고급스러운 맛의 아메리카노.\n",
      "리뷰 존재\n",
      "디저트가 맛있어요\n",
      "커피가 맛있어요\n",
      "인테리어가 멋져요\n",
      "음료가 맛있어요\n",
      "집중하기 좋아요\n",
      "['카페더띤뚜'] ...완료\n",
      "[데이터 수집 완료]\n",
      "소요 시간 : 13.41136884689331 \n",
      "\n",
      "30번째 가게\n"
     ]
    },
    {
     "name": "stderr",
     "output_type": "stream",
     "text": [
      "The chromedriver version (128.0.6613.137) detected in PATH at c:\\Users\\kk21\\Desktop\\TRIPER\\chromedriver.exe might not be compatible with the detected chrome version (129.0.6668.101); currently, chromedriver 129.0.6668.100 is recommended for chrome 129.*, so it is advised to delete the driver in PATH and retry\n"
     ]
    },
    {
     "name": "stdout",
     "output_type": "stream",
     "text": [
      "https://map.naver.com/p/search/%EA%B4%80%EC%95%85%EA%B5%AC%20%EB%A7%88%EB%87%A8%EB%96%A1%EB%B3%B6%EC%9D%B4/place/37288646?c=13.00,0,0,0,dh&isCorrectAnswer=true\n",
      "결과 한 개\n",
      "\n",
      "[크롤링 시작...]\n",
      "마뇨떡볶이\n",
      "분식\n",
      "서울 관악구 신원로 35 삼모더프라임타워 2층\n",
      "주문 유형 3\n",
      "성인\n",
      "메뉴 설명 없음\n",
      "리뷰 존재\n",
      "음식이 맛있어요\n",
      "가성비가 좋아요\n",
      "양이 많아요\n",
      "친절해요\n",
      "재료가 신선해요\n",
      "['마뇨떡볶이'] ...완료\n",
      "[데이터 수집 완료]\n",
      "소요 시간 : 13.413696765899658 \n",
      "\n",
      "31번째 가게\n"
     ]
    },
    {
     "name": "stderr",
     "output_type": "stream",
     "text": [
      "The chromedriver version (128.0.6613.137) detected in PATH at c:\\Users\\kk21\\Desktop\\TRIPER\\chromedriver.exe might not be compatible with the detected chrome version (129.0.6668.101); currently, chromedriver 129.0.6668.100 is recommended for chrome 129.*, so it is advised to delete the driver in PATH and retry\n"
     ]
    },
    {
     "name": "stdout",
     "output_type": "stream",
     "text": [
      "https://map.naver.com/p/search/%EA%B4%80%EC%95%85%EA%B5%AC%20%EB%A8%B8%EC%8B%9C%EA%B8%B0%EC%AA%BD%EA%B0%88%EB%B9%84%20%EC%8B%A0%EB%A6%BC%EC%A0%90?c=15.00,0,0,0,dh\n",
      "결과 여러 개 존재(지점 또는 근접 지역)\n",
      "\n",
      "[크롤링 시작...]\n",
      "머시기쪽갈비 신림점\n",
      "육류,고기요리\n",
      "서울 관악구 신림동길 23-1 1층 101, 102호\n",
      "주문 유형 3\n",
      "쪽갈비\n",
      "국내산 생등갈비(250g)를 황토가마로 훈연해 잡내 없이 육즙 가득 부드러운 쪽갈비.\n",
      "리뷰 존재\n",
      "음식이 맛있어요\n",
      "고기 질이 좋아요\n",
      "친절해요\n",
      "매장이 넓어요\n",
      "특별한 메뉴가 있어요\n",
      "['머시기쪽갈비 신림점'] ...완료\n",
      "[데이터 수집 완료]\n",
      "소요 시간 : 13.430429935455322 \n",
      "\n",
      "32번째 가게\n"
     ]
    },
    {
     "name": "stderr",
     "output_type": "stream",
     "text": [
      "The chromedriver version (128.0.6613.137) detected in PATH at c:\\Users\\kk21\\Desktop\\TRIPER\\chromedriver.exe might not be compatible with the detected chrome version (129.0.6668.101); currently, chromedriver 129.0.6668.100 is recommended for chrome 129.*, so it is advised to delete the driver in PATH and retry\n"
     ]
    },
    {
     "name": "stdout",
     "output_type": "stream",
     "text": [
      "https://map.naver.com/p/search/%EA%B4%80%EC%95%85%EA%B5%AC%20%ED%85%90%EB%8F%99%EC%9A%94%EC%B8%A0%EC%95%BC?c=15.00,0,0,0,dh\n",
      "결과 여러 개 존재(지점 또는 근접 지역)\n",
      "\n",
      "[크롤링 시작...]\n",
      "텐동요츠야\n",
      "일식당\n",
      "서울 관악구 봉천동 1612-40\n",
      "주문 유형 3\n",
      "텐동요츠야\n",
      "메뉴 설명 없음\n",
      "리뷰 존재\n",
      "음식이 맛있어요\n",
      "재료가 신선해요\n",
      "특별한 메뉴가 있어요\n",
      "혼밥하기 좋아요\n",
      "양이 많아요\n",
      "['텐동요츠야'] ...완료\n",
      "[데이터 수집 완료]\n",
      "소요 시간 : 13.413860559463501 \n",
      "\n",
      "33번째 가게\n"
     ]
    },
    {
     "name": "stderr",
     "output_type": "stream",
     "text": [
      "The chromedriver version (128.0.6613.137) detected in PATH at c:\\Users\\kk21\\Desktop\\TRIPER\\chromedriver.exe might not be compatible with the detected chrome version (129.0.6668.101); currently, chromedriver 129.0.6668.100 is recommended for chrome 129.*, so it is advised to delete the driver in PATH and retry\n"
     ]
    },
    {
     "name": "stdout",
     "output_type": "stream",
     "text": [
      "https://map.naver.com/p/search/%EA%B4%80%EC%95%85%EA%B5%AC%20%EC%82%BC%ED%95%A9%EB%8B%B9/place/1367332916?c=15.00,0,0,0,dh&isCorrectAnswer=true\n",
      "결과 한 개\n",
      "\n",
      "[크롤링 시작...]\n",
      "삼합당\n",
      "육류,고기요리\n",
      "서울 관악구 남부순환로 1597-12\n",
      "주문 유형 3\n",
      "제주탐하리 근고기\n",
      "제주탐하리 시그니처 촉촉한 근고기 +멜젖 입니다.\n",
      "리뷰 존재\n",
      "음식이 맛있어요\n",
      "고기 질이 좋아요\n",
      "친절해요\n",
      "인테리어가 멋져요\n",
      "매장이 넓어요\n",
      "['삼합당'] ...완료\n",
      "[데이터 수집 완료]\n",
      "소요 시간 : 13.434607982635498 \n",
      "\n",
      "34번째 가게\n"
     ]
    },
    {
     "name": "stderr",
     "output_type": "stream",
     "text": [
      "The chromedriver version (128.0.6613.137) detected in PATH at c:\\Users\\kk21\\Desktop\\TRIPER\\chromedriver.exe might not be compatible with the detected chrome version (129.0.6668.101); currently, chromedriver 129.0.6668.100 is recommended for chrome 129.*, so it is advised to delete the driver in PATH and retry\n"
     ]
    },
    {
     "name": "stdout",
     "output_type": "stream",
     "text": [
      "https://map.naver.com/p/search/%EA%B4%80%EC%95%85%EA%B5%AC%20%EC%95%88%EB%85%95%20%EB%B6%80%EC%82%B0/place/1862909287?c=15.00,0,0,0,dh&isCorrectAnswer=true\n",
      "결과 한 개\n",
      "\n",
      "[크롤링 시작...]\n",
      "안녕 부산\n",
      "한식\n",
      "서울 관악구 남부순환로226길 31 2층\n",
      "주문 유형 3\n",
      "양념대창(중-450g)\n",
      "고소한 소대창에 특제 매운 양념, 우동 면과 각종 사리를 넣은 부산식 양념 대창\n",
      "리뷰 존재\n",
      "음식이 맛있어요\n",
      "특별한 메뉴가 있어요\n",
      "친절해요\n",
      "양이 많아요\n",
      "재료가 신선해요\n",
      "['안녕 부산'] ...완료\n",
      "[데이터 수집 완료]\n",
      "소요 시간 : 13.396953105926514 \n",
      "\n",
      "35번째 가게\n"
     ]
    },
    {
     "name": "stderr",
     "output_type": "stream",
     "text": [
      "The chromedriver version (128.0.6613.137) detected in PATH at c:\\Users\\kk21\\Desktop\\TRIPER\\chromedriver.exe might not be compatible with the detected chrome version (129.0.6668.101); currently, chromedriver 129.0.6668.100 is recommended for chrome 129.*, so it is advised to delete the driver in PATH and retry\n"
     ]
    },
    {
     "name": "stdout",
     "output_type": "stream",
     "text": [
      "https://map.naver.com/p/search/%EA%B4%80%EC%95%85%EA%B5%AC%20%EC%95%BC%EB%81%BC%EB%8B%88%EA%BE%B8%EC%86%8C%EB%9F%89%20%EB%B3%B4%EB%9D%BC%EB%A7%A4%EC%A7%81%EC%98%81%EC%A0%90/place/1600768120?c=15.00,0,0,0,dh&isCorrectAnswer=true\n",
      "결과 한 개\n",
      "\n",
      "[크롤링 시작...]\n",
      "야끼니꾸소량 보라매직영점\n",
      "육류,고기요리\n",
      "서울 관악구 보라매로3길 5 1층 , 2층\n",
      "주문 유형 3\n",
      "대량카세(550g)\n",
      "메뉴 설명 없음\n",
      "리뷰 존재\n",
      "음식이 맛있어요\n",
      "인테리어가 멋져요\n",
      "친절해요\n",
      "고기 질이 좋아요\n",
      "특별한 메뉴가 있어요\n",
      "['야끼니꾸소량 보라매직영점'] ...완료\n",
      "[데이터 수집 완료]\n",
      "소요 시간 : 13.422303199768066 \n",
      "\n",
      "36번째 가게\n"
     ]
    },
    {
     "name": "stderr",
     "output_type": "stream",
     "text": [
      "The chromedriver version (128.0.6613.137) detected in PATH at c:\\Users\\kk21\\Desktop\\TRIPER\\chromedriver.exe might not be compatible with the detected chrome version (129.0.6668.101); currently, chromedriver 129.0.6668.100 is recommended for chrome 129.*, so it is advised to delete the driver in PATH and retry\n"
     ]
    },
    {
     "name": "stdout",
     "output_type": "stream",
     "text": [
      "https://map.naver.com/p/search/%EA%B4%80%EC%95%85%EA%B5%AC%20%EC%91%A5%EA%B3%A0%EA%B0%9C?c=15.00,0,0,0,dh\n",
      "결과 여러 개 존재(지점 또는 근접 지역)\n",
      "\n",
      "[크롤링 시작...]\n",
      "쑥고개\n",
      "요리주점\n",
      "서울 관악구 관악로14길 16 지하1층\n",
      "주문 유형 3\n",
      "통삼겹김치찜\n",
      "쑥고개만의 부드럽고 깊은 맛의 김치찜\n",
      "리뷰 존재\n",
      "음식이 맛있어요\n",
      "친절해요\n",
      "기본 안주가 좋아요\n",
      "술이 다양해요\n",
      "특별한 메뉴가 있어요\n",
      "['쑥고개'] ...완료\n",
      "[데이터 수집 완료]\n",
      "소요 시간 : 13.38789701461792 \n",
      "\n",
      "37번째 가게\n"
     ]
    },
    {
     "name": "stderr",
     "output_type": "stream",
     "text": [
      "The chromedriver version (128.0.6613.137) detected in PATH at c:\\Users\\kk21\\Desktop\\TRIPER\\chromedriver.exe might not be compatible with the detected chrome version (129.0.6668.101); currently, chromedriver 129.0.6668.100 is recommended for chrome 129.*, so it is advised to delete the driver in PATH and retry\n"
     ]
    },
    {
     "name": "stdout",
     "output_type": "stream",
     "text": [
      "https://map.naver.com/p/search/%EA%B4%80%EC%95%85%EA%B5%AC%20%EB%A0%88%EA%B7%B8%EB%82%98%EB%82%98%ED%8F%B4%EB%A6%AC/place/1788080703?c=15.00,0,0,0,dh&isCorrectAnswer=true\n",
      "결과 한 개\n",
      "\n",
      "[크롤링 시작...]\n",
      "레그나나폴리 서울대입구본점\n",
      "피자\n",
      "서울 관악구 관악로14길 39 2층\n",
      "주문 유형 3\n",
      "디 마레\n",
      "메뉴 설명 없음\n",
      "리뷰 존재\n",
      "음식이 맛있어요\n",
      "재료가 신선해요\n",
      "인테리어가 멋져요\n",
      "친절해요\n",
      "특별한 메뉴가 있어요\n",
      "['레그나나폴리 서울대입구본점'] ...완료\n",
      "[데이터 수집 완료]\n",
      "소요 시간 : 13.442030191421509 \n",
      "\n",
      "38번째 가게\n"
     ]
    },
    {
     "name": "stderr",
     "output_type": "stream",
     "text": [
      "The chromedriver version (128.0.6613.137) detected in PATH at c:\\Users\\kk21\\Desktop\\TRIPER\\chromedriver.exe might not be compatible with the detected chrome version (129.0.6668.101); currently, chromedriver 129.0.6668.100 is recommended for chrome 129.*, so it is advised to delete the driver in PATH and retry\n"
     ]
    },
    {
     "name": "stdout",
     "output_type": "stream",
     "text": [
      "https://map.naver.com/p/search/%EA%B4%80%EC%95%85%EA%B5%AC%20%ED%94%BC%EA%B8%B0%EC%8A%A4%ED%83%80%EC%BD%94/place/1996541739?c=15.00,0,0,0,dh&isCorrectAnswer=true\n",
      "결과 한 개\n",
      "\n",
      "[크롤링 시작...]\n",
      "피기스타코\n",
      "멕시코,남미음식\n",
      "서울 관악구 봉천로 533 1층\n",
      "주문 유형 3\n",
      "비리아 타코 2piece(콘소메포함)\n",
      "멕시코 칠리에 장시간 조리한 차돌 양지, 멕시코치즈, 양파, 고수와 세가지소스\n",
      "리뷰 존재\n",
      "음식이 맛있어요\n",
      "재료가 신선해요\n",
      "특별한 메뉴가 있어요\n",
      "친절해요\n",
      "혼밥하기 좋아요\n",
      "['피기스타코'] ...완료\n",
      "[데이터 수집 완료]\n",
      "소요 시간 : 13.468990087509155 \n",
      "\n",
      "39번째 가게\n"
     ]
    },
    {
     "name": "stderr",
     "output_type": "stream",
     "text": [
      "The chromedriver version (128.0.6613.137) detected in PATH at c:\\Users\\kk21\\Desktop\\TRIPER\\chromedriver.exe might not be compatible with the detected chrome version (129.0.6668.101); currently, chromedriver 129.0.6668.100 is recommended for chrome 129.*, so it is advised to delete the driver in PATH and retry\n"
     ]
    },
    {
     "name": "stdout",
     "output_type": "stream",
     "text": [
      "https://map.naver.com/p/search/%EA%B4%80%EC%95%85%EA%B5%AC%20%EA%B3%A0%ED%96%A5%EC%88%9C%EB%8C%80%EA%B5%AD?c=15.00,0,0,0,dh\n",
      "결과 여러 개 존재(지점 또는 근접 지역)\n",
      "\n",
      "[크롤링 시작...]\n",
      "고향순대국\n",
      "순대,순댓국\n",
      "서울 관악구 신림로 275\n",
      "주문 유형 3\n",
      "두부삼합 대\n",
      "중 33000 소 28000\n",
      "리뷰 존재\n",
      "음식이 맛있어요\n",
      "양이 많아요\n",
      "가성비가 좋아요\n",
      "친절해요\n",
      "특별한 메뉴가 있어요\n",
      "['고향순대국'] ...완료\n",
      "[데이터 수집 완료]\n",
      "소요 시간 : 13.393552780151367 \n",
      "\n",
      "40번째 가게\n"
     ]
    },
    {
     "name": "stderr",
     "output_type": "stream",
     "text": [
      "The chromedriver version (128.0.6613.137) detected in PATH at c:\\Users\\kk21\\Desktop\\TRIPER\\chromedriver.exe might not be compatible with the detected chrome version (129.0.6668.101); currently, chromedriver 129.0.6668.100 is recommended for chrome 129.*, so it is advised to delete the driver in PATH and retry\n"
     ]
    },
    {
     "name": "stdout",
     "output_type": "stream",
     "text": [
      "https://map.naver.com/p/search/%EA%B4%80%EC%95%85%EA%B5%AC%20%EC%98%A4%EB%A7%88%EC%B9%B4%EC%84%B8%20%EC%98%A4%EC%82%AC%EC%9D%B4%EC%B4%88%EB%B0%A5%20%EC%84%9C%EC%9A%B8%EB%8C%80%EC%A0%90?c=15.00,0,0,0,dh\n",
      "결과 여러 개 존재(지점 또는 근접 지역)\n",
      "가게 없음\n",
      "41번째 가게\n"
     ]
    },
    {
     "name": "stderr",
     "output_type": "stream",
     "text": [
      "The chromedriver version (128.0.6613.137) detected in PATH at c:\\Users\\kk21\\Desktop\\TRIPER\\chromedriver.exe might not be compatible with the detected chrome version (129.0.6668.101); currently, chromedriver 129.0.6668.100 is recommended for chrome 129.*, so it is advised to delete the driver in PATH and retry\n"
     ]
    },
    {
     "name": "stdout",
     "output_type": "stream",
     "text": [
      "https://map.naver.com/p/search/%EA%B4%80%EC%95%85%EA%B5%AC%20%EA%B8%B0%EC%A0%88%EC%B4%88%ED%92%8D%EC%99%95%EC%88%9C%EB%8C%80/place/18709584?c=15.00,0,0,0,dh&isCorrectAnswer=true\n",
      "결과 한 개\n",
      "\n",
      "[크롤링 시작...]\n",
      "기절초풍왕순대\n",
      "순대,순댓국\n",
      "서울 관악구 봉천로62길 2\n",
      "주문 유형 3\n",
      "왕순대\n",
      "메뉴 설명 없음\n",
      "리뷰 존재\n",
      "음식이 맛있어요\n",
      "양이 많아요\n",
      "가성비가 좋아요\n",
      "친절해요\n",
      "혼밥하기 좋아요\n",
      "['기절초풍왕순대'] ...완료\n",
      "[데이터 수집 완료]\n",
      "소요 시간 : 13.423051118850708 \n",
      "\n",
      "42번째 가게\n"
     ]
    },
    {
     "name": "stderr",
     "output_type": "stream",
     "text": [
      "The chromedriver version (128.0.6613.137) detected in PATH at c:\\Users\\kk21\\Desktop\\TRIPER\\chromedriver.exe might not be compatible with the detected chrome version (129.0.6668.101); currently, chromedriver 129.0.6668.100 is recommended for chrome 129.*, so it is advised to delete the driver in PATH and retry\n"
     ]
    },
    {
     "name": "stdout",
     "output_type": "stream",
     "text": [
      "https://map.naver.com/p/search/%EA%B4%80%EC%95%85%EA%B5%AC%20%EC%AD%88%EC%95%A4%EC%AD%88%20%EC%84%9C%EC%9A%B8%EB%8C%80%EB%B3%B8%EC%A0%90/place/1999378240?isCorrectAnswer=true&c=15.00,0,0,0,dh\n",
      "결과 한 개\n",
      "\n",
      "[크롤링 시작...]\n",
      "쭈앤쭈 서울대본점\n",
      "주꾸미요리\n",
      "서울 관악구 관악로14길 11 1층 쭈앤쭈 서울대본점\n",
      "주문 유형 3\n",
      "석삼이세트\n",
      "불향가득한 매운쭈꾸미와 직화삼겹살 화덕에구운 고르곤졸라피자의 환상적인 맛 ! ! !\n",
      "리뷰 존재\n",
      "음식이 맛있어요\n",
      "친절해요\n",
      "특별한 메뉴가 있어요\n",
      "재료가 신선해요\n",
      "양이 많아요\n",
      "['쭈앤쭈 서울대본점'] ...완료\n",
      "[데이터 수집 완료]\n",
      "소요 시간 : 13.405134916305542 \n",
      "\n",
      "43번째 가게\n"
     ]
    },
    {
     "name": "stderr",
     "output_type": "stream",
     "text": [
      "The chromedriver version (128.0.6613.137) detected in PATH at c:\\Users\\kk21\\Desktop\\TRIPER\\chromedriver.exe might not be compatible with the detected chrome version (129.0.6668.101); currently, chromedriver 129.0.6668.100 is recommended for chrome 129.*, so it is advised to delete the driver in PATH and retry\n"
     ]
    },
    {
     "name": "stdout",
     "output_type": "stream",
     "text": [
      "https://map.naver.com/p/search/%EA%B4%80%EC%95%85%EA%B5%AC%20%EB%8D%B0%EC%9D%BC%EB%A6%AC%EC%98%A4%EC%95%84%EC%8B%9C%EC%8A%A4%20%EC%83%A4%EB%A1%9C%EC%88%98%EA%B8%B8%EC%A0%90?c=15.00,0,0,0,dh\n",
      "결과 여러 개 존재(지점 또는 근접 지역)\n",
      "\n",
      "[크롤링 시작...]\n",
      "데일리오아시스 샤로수길점\n",
      "카페,디저트\n",
      "서울 관악구 관악로14길 74-3 1층\n",
      "주문 유형 3\n",
      "데일리오아시스\n",
      "메뉴 설명 없음\n",
      "리뷰 존재\n",
      "디저트가 맛있어요\n",
      "음료가 맛있어요\n",
      "커피가 맛있어요\n",
      "특별한 메뉴가 있어요\n",
      "인테리어가 멋져요\n",
      "['데일리오아시스 샤로수길점'] ...완료\n",
      "[데이터 수집 완료]\n",
      "소요 시간 : 13.462921142578125 \n",
      "\n",
      "44번째 가게\n"
     ]
    },
    {
     "name": "stderr",
     "output_type": "stream",
     "text": [
      "The chromedriver version (128.0.6613.137) detected in PATH at c:\\Users\\kk21\\Desktop\\TRIPER\\chromedriver.exe might not be compatible with the detected chrome version (129.0.6668.101); currently, chromedriver 129.0.6668.100 is recommended for chrome 129.*, so it is advised to delete the driver in PATH and retry\n"
     ]
    },
    {
     "name": "stdout",
     "output_type": "stream",
     "text": [
      "https://map.naver.com/p/search/%EA%B4%80%EC%95%85%EA%B5%AC%20%EC%9C%A1%EB%AF%B8%EC%A0%9C%EB%8B%B9%20%EA%B4%80%EC%95%85%EB%B4%89%EC%B2%9C%EC%A0%90/place/1547381574?c=15.00,0,0,0,dh&isCorrectAnswer=true\n",
      "결과 한 개\n",
      "\n",
      "[크롤링 시작...]\n",
      "육미제당 관악봉천점\n",
      "육류,고기요리\n",
      "서울 관악구 양녕로 29 1층\n",
      "주문 유형 3\n",
      "육미제당 자유이용권(11세이상)\n",
      "8~10세 11,500원/ 5~7세 9,000원\n",
      "리뷰 존재\n",
      "음식이 맛있어요\n",
      "고기 질이 좋아요\n",
      "가성비가 좋아요\n",
      "양이 많아요\n",
      "매장이 넓어요\n",
      "['육미제당 관악봉천점'] ...완료\n",
      "[데이터 수집 완료]\n",
      "소요 시간 : 13.488688945770264 \n",
      "\n",
      "45번째 가게\n"
     ]
    },
    {
     "name": "stderr",
     "output_type": "stream",
     "text": [
      "The chromedriver version (128.0.6613.137) detected in PATH at c:\\Users\\kk21\\Desktop\\TRIPER\\chromedriver.exe might not be compatible with the detected chrome version (129.0.6668.101); currently, chromedriver 129.0.6668.100 is recommended for chrome 129.*, so it is advised to delete the driver in PATH and retry\n"
     ]
    },
    {
     "name": "stdout",
     "output_type": "stream",
     "text": [
      "https://map.naver.com/p/search/%EA%B4%80%EC%95%85%EA%B5%AC%20%EC%95%99%EB%BF%8C/place/1060350344?c=15.00,0,0,0,dh&isCorrectAnswer=true\n",
      "결과 한 개\n",
      "\n",
      "[크롤링 시작...]\n",
      "앙뿌\n",
      "카페,디저트\n",
      "서울 관악구 관악로14가길 6 1층\n",
      "주문 유형 3\n",
      "호텔식 케이크 (쁘띠갸또)\n",
      "한 제품당 약 7가지 이상의 구성으로 이루어진 호텔식 케이크로 모두 직접 만듭니다.\n",
      "리뷰 존재\n",
      "빵이 맛있어요\n",
      "특별한 메뉴가 있어요\n",
      "디저트가 맛있어요\n",
      "커피가 맛있어요\n",
      "친절해요\n",
      "['앙뿌'] ...완료\n",
      "[데이터 수집 완료]\n",
      "소요 시간 : 13.412131547927856 \n",
      "\n",
      "46번째 가게\n"
     ]
    },
    {
     "name": "stderr",
     "output_type": "stream",
     "text": [
      "The chromedriver version (128.0.6613.137) detected in PATH at c:\\Users\\kk21\\Desktop\\TRIPER\\chromedriver.exe might not be compatible with the detected chrome version (129.0.6668.101); currently, chromedriver 129.0.6668.100 is recommended for chrome 129.*, so it is advised to delete the driver in PATH and retry\n"
     ]
    },
    {
     "name": "stdout",
     "output_type": "stream",
     "text": [
      "https://map.naver.com/p/search/%EA%B4%80%EC%95%85%EA%B5%AC%20%EC%9D%B4%EC%A7%84%EC%B9%B8%20%EC%83%A4%EB%A1%9C%EC%88%98%EA%B8%B8%EC%A0%90/place/1185421575?c=15.00,0,0,0,dh&isCorrectAnswer=true\n",
      "결과 한 개\n",
      "\n",
      "[크롤링 시작...]\n",
      "이진칸 샤로수길점\n",
      "이자카야\n",
      "서울 관악구 남부순환로226길 9 3층\n",
      "주문 유형 3\n",
      "모리아와세\n",
      "최고의 숙성을 자부하는 모듬숙성회입니다. 11가지의 어종으로 구성되어 내어드립니다.\n",
      "리뷰 존재\n",
      "음식이 맛있어요\n",
      "친절해요\n",
      "인테리어가 멋져요\n",
      "특별한 메뉴가 있어요\n",
      "매장이 청결해요\n",
      "['이진칸 샤로수길점'] ...완료\n",
      "[데이터 수집 완료]\n",
      "소요 시간 : 13.417373657226562 \n",
      "\n",
      "47번째 가게\n"
     ]
    },
    {
     "name": "stderr",
     "output_type": "stream",
     "text": [
      "The chromedriver version (128.0.6613.137) detected in PATH at c:\\Users\\kk21\\Desktop\\TRIPER\\chromedriver.exe might not be compatible with the detected chrome version (129.0.6668.101); currently, chromedriver 129.0.6668.100 is recommended for chrome 129.*, so it is advised to delete the driver in PATH and retry\n"
     ]
    },
    {
     "name": "stdout",
     "output_type": "stream",
     "text": [
      "https://map.naver.com/p/search/%EA%B4%80%EC%95%85%EA%B5%AC%20%EC%98%B7%EC%82%B4%20%EC%84%9C%EC%9A%B8%EB%8C%80%EC%9E%85%EA%B5%AC%EB%B3%B8%EC%A0%90/place/19878517?c=15.00,0,0,0,dh&isCorrectAnswer=true\n",
      "결과 한 개\n",
      "\n",
      "[크롤링 시작...]\n",
      "옷살 서울대입구본점\n",
      "인도음식\n",
      "서울 관악구 관악로 164 대우슈페리움 지하1층 104호 ~105호\n",
      "주문 유형 3\n",
      "Butter Masala 버터마살라\n",
      "메뉴 설명 없음\n",
      "리뷰 존재\n",
      "음식이 맛있어요\n",
      "친절해요\n",
      "특별한 메뉴가 있어요\n",
      "양이 많아요\n",
      "인테리어가 멋져요\n",
      "['옷살 서울대입구본점'] ...완료\n",
      "[데이터 수집 완료]\n",
      "소요 시간 : 13.396945238113403 \n",
      "\n",
      "48번째 가게\n"
     ]
    },
    {
     "name": "stderr",
     "output_type": "stream",
     "text": [
      "The chromedriver version (128.0.6613.137) detected in PATH at c:\\Users\\kk21\\Desktop\\TRIPER\\chromedriver.exe might not be compatible with the detected chrome version (129.0.6668.101); currently, chromedriver 129.0.6668.100 is recommended for chrome 129.*, so it is advised to delete the driver in PATH and retry\n"
     ]
    },
    {
     "name": "stdout",
     "output_type": "stream",
     "text": [
      "https://map.naver.com/p/search/%EA%B4%80%EC%95%85%EA%B5%AC%20%ED%8F%BC%EC%95%A4%EB%85%B8%EB%A7%90/place/1364105775?c=15.00,0,0,0,dh&isCorrectAnswer=true\n",
      "결과 한 개\n",
      "\n",
      "[크롤링 시작...]\n",
      "폼앤노말\n",
      "카페,디저트\n",
      "서울 관악구 신림로67길 25 1층\n",
      "주문 유형 3\n",
      "아인슈페너\n",
      "핸드드립커피\n",
      "리뷰 존재\n",
      "커피가 맛있어요\n",
      "인테리어가 멋져요\n",
      "디저트가 맛있어요\n",
      "음료가 맛있어요\n",
      "친절해요\n",
      "['폼앤노말'] ...완료\n",
      "[데이터 수집 완료]\n",
      "소요 시간 : 13.439499139785767 \n",
      "\n",
      "49번째 가게\n"
     ]
    },
    {
     "name": "stderr",
     "output_type": "stream",
     "text": [
      "The chromedriver version (128.0.6613.137) detected in PATH at c:\\Users\\kk21\\Desktop\\TRIPER\\chromedriver.exe might not be compatible with the detected chrome version (129.0.6668.101); currently, chromedriver 129.0.6668.100 is recommended for chrome 129.*, so it is advised to delete the driver in PATH and retry\n"
     ]
    },
    {
     "name": "stdout",
     "output_type": "stream",
     "text": [
      "https://map.naver.com/p/search/%EA%B4%80%EC%95%85%EA%B5%AC%20%EB%B3%B5%EB%8F%88%EC%9D%B4%20%EB%B6%80%EC%B6%94%EC%82%BC%EA%B2%B9%EC%82%B4?c=15.00,0,0,0,dh\n",
      "결과 여러 개 존재(지점 또는 근접 지역)\n",
      "\n",
      "[크롤링 시작...]\n",
      "복돈이 부추삼겹살\n",
      "돼지고기구이\n",
      "서울 관악구 남현1길 68-14 남현빌딩\n",
      "주문 유형 3\n",
      "생삼겹살\n",
      "메뉴 설명 없음\n",
      "리뷰 존재\n",
      "음식이 맛있어요\n",
      "가성비가 좋아요\n",
      "특별한 메뉴가 있어요\n",
      "친절해요\n",
      "단체모임 하기 좋아요\n",
      "['복돈이 부추삼겹살'] ...완료\n",
      "[데이터 수집 완료]\n",
      "소요 시간 : 13.415165901184082 \n",
      "\n",
      "50번째 가게\n"
     ]
    },
    {
     "name": "stderr",
     "output_type": "stream",
     "text": [
      "The chromedriver version (128.0.6613.137) detected in PATH at c:\\Users\\kk21\\Desktop\\TRIPER\\chromedriver.exe might not be compatible with the detected chrome version (129.0.6668.101); currently, chromedriver 129.0.6668.100 is recommended for chrome 129.*, so it is advised to delete the driver in PATH and retry\n"
     ]
    },
    {
     "name": "stdout",
     "output_type": "stream",
     "text": [
      "https://map.naver.com/p/search/%EA%B4%80%EC%95%85%EA%B5%AC%20%ED%99%A9%ED%99%80%EA%B2%BD/place/1889988592?isCorrectAnswer=true&c=15.00,0,0,0,dh\n",
      "결과 한 개\n",
      "\n",
      "[크롤링 시작...]\n",
      "황홀경\n",
      "카페,디저트\n",
      "서울 관악구 관악로14길 37 B1 황홀경\n",
      "주문 유형 3\n",
      "크로플 베이직\n",
      "메뉴 설명 없음\n",
      "리뷰 존재\n",
      "인테리어가 멋져요\n",
      "커피가 맛있어요\n",
      "디저트가 맛있어요\n",
      "음료가 맛있어요\n",
      "친절해요\n",
      "['황홀경'] ...완료\n",
      "[데이터 수집 완료]\n",
      "소요 시간 : 13.3955659866333 \n",
      "\n",
      "51번째 가게\n"
     ]
    },
    {
     "name": "stderr",
     "output_type": "stream",
     "text": [
      "The chromedriver version (128.0.6613.137) detected in PATH at c:\\Users\\kk21\\Desktop\\TRIPER\\chromedriver.exe might not be compatible with the detected chrome version (129.0.6668.101); currently, chromedriver 129.0.6668.100 is recommended for chrome 129.*, so it is advised to delete the driver in PATH and retry\n"
     ]
    },
    {
     "name": "stdout",
     "output_type": "stream",
     "text": [
      "https://map.naver.com/p/search/%EA%B4%80%EC%95%85%EA%B5%AC%20%ED%8C%80%ED%99%80%ED%8A%BC%20%EC%84%9C%EC%9A%B8%EB%8C%80%EC%9E%85%EA%B5%AC%EC%97%AD%EC%A0%90/place/1798069806?c=15.00,0,0,0,dh&isCorrectAnswer=true\n",
      "결과 한 개\n",
      "\n",
      "[크롤링 시작...]\n",
      "팀홀튼 서울대입구역점\n",
      "카페\n",
      "서울 관악구 남부순환로 1805 1층 팀홀튼 서울대입구역점\n",
      "주문 유형 3\n",
      "콜드브루 메이플 라떼\n",
      "16시간의 시간동안 찬물에 추출한 커피와 메이플 시럽이 추가되어 달콤한 맛의 콜드브루\n",
      "리뷰 존재\n",
      "커피가 맛있어요\n",
      "디저트가 맛있어요\n",
      "음료가 맛있어요\n",
      "대화하기 좋아요\n",
      "특별한 메뉴가 있어요\n",
      "['팀홀튼 서울대입구역점'] ...완료\n",
      "[데이터 수집 완료]\n",
      "소요 시간 : 13.401829957962036 \n",
      "\n",
      "52번째 가게\n"
     ]
    },
    {
     "name": "stderr",
     "output_type": "stream",
     "text": [
      "The chromedriver version (128.0.6613.137) detected in PATH at c:\\Users\\kk21\\Desktop\\TRIPER\\chromedriver.exe might not be compatible with the detected chrome version (129.0.6668.101); currently, chromedriver 129.0.6668.100 is recommended for chrome 129.*, so it is advised to delete the driver in PATH and retry\n"
     ]
    },
    {
     "name": "stdout",
     "output_type": "stream",
     "text": [
      "https://map.naver.com/p/search/%EA%B4%80%EC%95%85%EA%B5%AC%20%ED%81%AC%EB%9E%98%ED%94%84%ED%8A%B8%EB%9D%BC%EC%9D%B8/place/37282035?c=15.00,0,0,0,dh&isCorrectAnswer=true\n",
      "결과 한 개\n",
      "\n",
      "[크롤링 시작...]\n",
      "크래프트라인\n",
      "맥주,호프\n",
      "서울 관악구 과천대로 947 사당타워 지층 크래프트 라인\n",
      "주문 유형 1\n",
      "크래프트플래터대표\n",
      "수제맥주로 48시간 염지한 시즈닝삼겹, 매콤한 버팔로봉, 지미츄리핫도그,유자드레싱 샐러드, 감자튀김, 코올슬로, 수제 살사&바베큐소스 , 버터모닝빵을 다함께! (2-3인용)\n",
      "리뷰 존재\n",
      "술이 다양해요\n",
      "음식이 맛있어요\n",
      "인테리어가 멋져요\n",
      "대화하기 좋아요\n",
      "친절해요\n",
      "['크래프트라인'] ...완료\n",
      "[데이터 수집 완료]\n",
      "소요 시간 : 18.751988410949707 \n",
      "\n",
      "53번째 가게\n"
     ]
    },
    {
     "name": "stderr",
     "output_type": "stream",
     "text": [
      "The chromedriver version (128.0.6613.137) detected in PATH at c:\\Users\\kk21\\Desktop\\TRIPER\\chromedriver.exe might not be compatible with the detected chrome version (129.0.6668.101); currently, chromedriver 129.0.6668.100 is recommended for chrome 129.*, so it is advised to delete the driver in PATH and retry\n"
     ]
    },
    {
     "name": "stdout",
     "output_type": "stream",
     "text": [
      "https://map.naver.com/p/search/%EA%B4%80%EC%95%85%EA%B5%AC%20%EB%94%94%EC%9E%90%EC%9D%B4%EB%84%88%EB%A6%AC%20%EC%B9%B4%ED%8E%98/place/1918745789?c=15.00,0,0,0,dh&isCorrectAnswer=true\n",
      "결과 한 개\n",
      "\n",
      "[크롤링 시작...]\n",
      "디자이너리 카페\n",
      "카페,디저트\n",
      "서울 관악구 관천로 71-1 4F\n",
      "주문 유형 3\n",
      "무화과 치즈케이크 & 토스트\n",
      "가을과 함께 찾아온 디자이너리의 무화과 레어치즈케이크와 토스트 입니다!\n",
      "리뷰 존재\n",
      "인테리어가 멋져요\n",
      "커피가 맛있어요\n",
      "뷰가 좋아요\n",
      "디저트가 맛있어요\n",
      "음료가 맛있어요\n",
      "['디자이너리 카페'] ...완료\n",
      "[데이터 수집 완료]\n",
      "소요 시간 : 13.415947198867798 \n",
      "\n",
      "54번째 가게\n"
     ]
    },
    {
     "name": "stderr",
     "output_type": "stream",
     "text": [
      "The chromedriver version (128.0.6613.137) detected in PATH at c:\\Users\\kk21\\Desktop\\TRIPER\\chromedriver.exe might not be compatible with the detected chrome version (129.0.6668.101); currently, chromedriver 129.0.6668.100 is recommended for chrome 129.*, so it is advised to delete the driver in PATH and retry\n"
     ]
    },
    {
     "name": "stdout",
     "output_type": "stream",
     "text": [
      "https://map.naver.com/p/search/%EA%B4%80%EC%95%85%EA%B5%AC%20%EC%8B%A0%EC%B4%8C%ED%99%A9%EC%86%8C%EA%B3%B1%EC%B0%BD%20%EC%8B%A0%EB%A6%BC%EC%A7%81%EC%98%81%EC%A0%90/place/31414224?c=15.00,0,0,0,dh&isCorrectAnswer=true\n",
      "결과 한 개\n",
      "\n",
      "[크롤링 시작...]\n",
      "신촌황소곱창 신림직영점\n",
      "곱창,막창,양\n",
      "서울 관악구 남부순환로 1597-4\n",
      "주문 유형 3\n",
      "황소곱창\n",
      "신촌황소곱창 신림직영점의 시그니처 메뉴, 통통하고 실한 곱창은 속에 곱의 양부터 남다릅니다\n",
      "리뷰 존재\n",
      "음식이 맛있어요\n",
      "친절해요\n",
      "재료가 신선해요\n",
      "양이 많아요\n",
      "가성비가 좋아요\n",
      "['신촌황소곱창 신림직영점'] ...완료\n",
      "[데이터 수집 완료]\n",
      "소요 시간 : 13.426421880722046 \n",
      "\n",
      "55번째 가게\n"
     ]
    },
    {
     "name": "stderr",
     "output_type": "stream",
     "text": [
      "The chromedriver version (128.0.6613.137) detected in PATH at c:\\Users\\kk21\\Desktop\\TRIPER\\chromedriver.exe might not be compatible with the detected chrome version (129.0.6668.101); currently, chromedriver 129.0.6668.100 is recommended for chrome 129.*, so it is advised to delete the driver in PATH and retry\n"
     ]
    },
    {
     "name": "stdout",
     "output_type": "stream",
     "text": [
      "https://map.naver.com/p/search/%EA%B4%80%EC%95%85%EA%B5%AC%20%EA%B3%A0%EA%B8%B0%EA%B5%BD%EB%8A%94%EC%82%AC%EB%9E%8C%EB%93%A4?c=15.00,0,0,0,dh\n",
      "결과 여러 개 존재(지점 또는 근접 지역)\n",
      "\n",
      "[크롤링 시작...]\n",
      "고기굽는사람들\n",
      "육류,고기요리\n",
      "서울 관악구 관악로14길 70 효림빌딩 106호\n",
      "주문 유형 3\n",
      "72 저온숙성 한방숯불양념구이[무한]\n",
      "각종 한약재를 포함한 비밀소스를 깊게 배게 한 후 72시간 저온숙성한 프리미엄한방양념구이\n",
      "리뷰 존재\n",
      "음식이 맛있어요\n",
      "가성비가 좋아요\n",
      "고기 질이 좋아요\n",
      "양이 많아요\n",
      "친절해요\n",
      "['고기굽는사람들'] ...완료\n",
      "[데이터 수집 완료]\n",
      "소요 시간 : 13.469990015029907 \n",
      "\n",
      "56번째 가게\n"
     ]
    },
    {
     "name": "stderr",
     "output_type": "stream",
     "text": [
      "The chromedriver version (128.0.6613.137) detected in PATH at c:\\Users\\kk21\\Desktop\\TRIPER\\chromedriver.exe might not be compatible with the detected chrome version (129.0.6668.101); currently, chromedriver 129.0.6668.100 is recommended for chrome 129.*, so it is advised to delete the driver in PATH and retry\n"
     ]
    },
    {
     "name": "stdout",
     "output_type": "stream",
     "text": [
      "https://map.naver.com/p/search/%EA%B4%80%EC%95%85%EA%B5%AC%20%EC%84%9C%EB%9D%BC%EB%8B%B9/place/1369970901?c=15.00,0,0,0,dh&isCorrectAnswer=true\n",
      "결과 한 개\n",
      "\n",
      "[크롤링 시작...]\n",
      "서라당\n",
      "카페,디저트\n",
      "서울 관악구 신사로 120-1 1층 서라당\n",
      "주문 유형 3\n",
      "크림쌀떠치케/크림쌀푸딩\n",
      "매일 종류가 달라지는 크림쌀떠치케(떠먹는치즈케이크)와 크림쌀푸딩(떠먹는 크림푸딩)\n",
      "리뷰 존재\n",
      "디저트가 맛있어요\n",
      "친절해요\n",
      "특별한 메뉴가 있어요\n",
      "매장이 청결해요\n",
      "커피가 맛있어요\n",
      "['서라당'] ...완료\n",
      "[데이터 수집 완료]\n",
      "소요 시간 : 13.41948914527893 \n",
      "\n",
      "57번째 가게\n"
     ]
    },
    {
     "name": "stderr",
     "output_type": "stream",
     "text": [
      "The chromedriver version (128.0.6613.137) detected in PATH at c:\\Users\\kk21\\Desktop\\TRIPER\\chromedriver.exe might not be compatible with the detected chrome version (129.0.6668.101); currently, chromedriver 129.0.6668.100 is recommended for chrome 129.*, so it is advised to delete the driver in PATH and retry\n"
     ]
    },
    {
     "name": "stdout",
     "output_type": "stream",
     "text": [
      "https://map.naver.com/p/search/%EA%B4%80%EC%95%85%EA%B5%AC%20%ED%99%8D%EB%AF%B8%EC%A7%91%20%EC%8B%A0%EB%A6%BC%EC%A0%90?c=15.00,0,0,0,dh\n",
      "결과 여러 개 존재(지점 또는 근접 지역)\n",
      "\n",
      "[크롤링 시작...]\n",
      "홍미집 신림점\n",
      "닭볶음탕\n",
      "서울 관악구 신림로 322-1 1층\n",
      "주문 유형 3\n",
      "닭볶음탕\n",
      "2인분 이상 주문 가능 (뼈,순살 선택가능)\n",
      "리뷰 존재\n",
      "음식이 맛있어요\n",
      "매장이 넓어요\n",
      "친절해요\n",
      "인테리어가 멋져요\n",
      "양이 많아요\n",
      "['홍미집 신림점'] ...완료\n",
      "[데이터 수집 완료]\n",
      "소요 시간 : 13.44894027709961 \n",
      "\n",
      "58번째 가게\n"
     ]
    },
    {
     "name": "stderr",
     "output_type": "stream",
     "text": [
      "The chromedriver version (128.0.6613.137) detected in PATH at c:\\Users\\kk21\\Desktop\\TRIPER\\chromedriver.exe might not be compatible with the detected chrome version (129.0.6668.101); currently, chromedriver 129.0.6668.100 is recommended for chrome 129.*, so it is advised to delete the driver in PATH and retry\n"
     ]
    },
    {
     "name": "stdout",
     "output_type": "stream",
     "text": [
      "https://map.naver.com/p/search/%EA%B4%80%EC%95%85%EA%B5%AC%20%ED%9E%88%EC%BD%94/place/1919896109?isCorrectAnswer=true&c=15.00,0,0,0,dh\n",
      "결과 한 개\n",
      "\n",
      "[크롤링 시작...]\n",
      "히코\n",
      "카페,디저트\n",
      "서울 관악구 남부순환로 1746-1 2층\n",
      "주문 유형 3\n",
      "히코커피\n",
      "토피넛 크림이 올라간 시그니처 커피입니다 :) 100% 스페셜티 원두만 사용합니다.\n",
      "리뷰 존재\n",
      "커피가 맛있어요\n",
      "인테리어가 멋져요\n",
      "친절해요\n",
      "사진이 잘 나와요\n",
      "디저트가 맛있어요\n",
      "['히코'] ...완료\n",
      "[데이터 수집 완료]\n",
      "소요 시간 : 13.434250593185425 \n",
      "\n",
      "59번째 가게\n"
     ]
    },
    {
     "name": "stderr",
     "output_type": "stream",
     "text": [
      "The chromedriver version (128.0.6613.137) detected in PATH at c:\\Users\\kk21\\Desktop\\TRIPER\\chromedriver.exe might not be compatible with the detected chrome version (129.0.6668.101); currently, chromedriver 129.0.6668.100 is recommended for chrome 129.*, so it is advised to delete the driver in PATH and retry\n"
     ]
    },
    {
     "name": "stdout",
     "output_type": "stream",
     "text": [
      "https://map.naver.com/p/search/%EA%B4%80%EC%95%85%EA%B5%AC%202%EB%8F%84%EC%97%90%EC%9D%B4%EC%A7%95%20%EC%8B%A0%EB%8C%80%EB%B0%A9%EC%97%AD%EC%A0%90/place/1899030628?c=15.00,0,0,0,dh&isCorrectAnswer=true\n",
      "결과 한 개\n",
      "\n",
      "[크롤링 시작...]\n",
      "2도에이징 신대방역점\n",
      "육류,고기요리\n",
      "서울 관악구 난곡로 356 1층, 2층\n",
      "주문 유형 3\n",
      "2도 숙성 눈꽃목살\n",
      "2도 숙성 눈꽃목살(180g)\n",
      "리뷰 존재\n",
      "음식이 맛있어요\n",
      "고기 질이 좋아요\n",
      "인테리어가 멋져요\n",
      "친절해요\n",
      "직접 잘 구워줘요\n",
      "['2도에이징 신대방역점'] ...완료\n",
      "[데이터 수집 완료]\n",
      "소요 시간 : 13.44544243812561 \n",
      "\n",
      "60번째 가게\n"
     ]
    },
    {
     "name": "stderr",
     "output_type": "stream",
     "text": [
      "The chromedriver version (128.0.6613.137) detected in PATH at c:\\Users\\kk21\\Desktop\\TRIPER\\chromedriver.exe might not be compatible with the detected chrome version (129.0.6668.101); currently, chromedriver 129.0.6668.100 is recommended for chrome 129.*, so it is advised to delete the driver in PATH and retry\n"
     ]
    },
    {
     "name": "stdout",
     "output_type": "stream",
     "text": [
      "https://map.naver.com/p/search/%EA%B4%80%EC%95%85%EA%B5%AC%20%EB%AA%85%EB%A5%9C%EC%A7%84%EC%82%AC%EA%B0%88%EB%B9%84%20%EC%84%9C%EC%9A%B8%EC%8B%A0%EB%A6%BC%EC%A0%90?c=15.00,0,0,0,dh\n",
      "결과 여러 개 존재(지점 또는 근접 지역)\n",
      "\n",
      "[크롤링 시작...]\n",
      "명륜진사갈비 서울신림점\n",
      "육류,고기요리\n",
      "서울 관악구 신원로 35 1층\n",
      "주문 유형 3\n",
      "명륜진사갈비 자유이용(성인)\n",
      "7~9세 (초등 1~3년) 11,000원 4~6세 (미취학) 9,000원\n",
      "리뷰 존재\n",
      "음식이 맛있어요\n",
      "고기 질이 좋아요\n",
      "가성비가 좋아요\n",
      "양이 많아요\n",
      "매장이 넓어요\n",
      "['명륜진사갈비 서울신림점'] ...완료\n",
      "[데이터 수집 완료]\n",
      "소요 시간 : 13.428802728652954 \n",
      "\n",
      "61번째 가게\n"
     ]
    },
    {
     "name": "stderr",
     "output_type": "stream",
     "text": [
      "The chromedriver version (128.0.6613.137) detected in PATH at c:\\Users\\kk21\\Desktop\\TRIPER\\chromedriver.exe might not be compatible with the detected chrome version (129.0.6668.101); currently, chromedriver 129.0.6668.100 is recommended for chrome 129.*, so it is advised to delete the driver in PATH and retry\n"
     ]
    },
    {
     "name": "stdout",
     "output_type": "stream",
     "text": [
      "https://map.naver.com/p/search/%EA%B4%80%EC%95%85%EA%B5%AC%20%EC%8B%A0%EB%A6%BC%EC%B6%98%EC%B2%9C%EC%A7%91%20%EB%B3%B8%EC%A0%90?c=15.00,0,0,0,dh\n",
      "결과 여러 개 존재(지점 또는 근접 지역)\n",
      "\n",
      "[크롤링 시작...]\n",
      "신림춘천집 본점\n",
      "닭요리\n",
      "서울 관악구 남부순환로 1600-8 1층 신림춘천집\n",
      "주문 유형 3\n",
      "🧀100% 모짜렐라치즈폭포닭갈비🧀\n",
      "국내산 생닭다리살🐓과 함께 기본맛/중간맛/매운맛 100% 치즈가 폭포처럼 흐르는 닭갈비\n",
      "리뷰 존재\n",
      "음식이 맛있어요\n",
      "매장이 넓어요\n",
      "친절해요\n",
      "양이 많아요\n",
      "가성비가 좋아요\n",
      "['신림춘천집 본점'] ...완료\n",
      "[데이터 수집 완료]\n",
      "소요 시간 : 13.437891483306885 \n",
      "\n",
      "62번째 가게\n"
     ]
    },
    {
     "name": "stderr",
     "output_type": "stream",
     "text": [
      "The chromedriver version (128.0.6613.137) detected in PATH at c:\\Users\\kk21\\Desktop\\TRIPER\\chromedriver.exe might not be compatible with the detected chrome version (129.0.6668.101); currently, chromedriver 129.0.6668.100 is recommended for chrome 129.*, so it is advised to delete the driver in PATH and retry\n"
     ]
    },
    {
     "name": "stdout",
     "output_type": "stream",
     "text": [
      "https://map.naver.com/p/search/%EA%B4%80%EC%95%85%EA%B5%AC%20%EB%B0%B1%EC%86%8C%EC%A0%95%20%EC%8B%A0%EB%A6%BC%EC%A0%90?c=15.00,0,0,0,dh\n",
      "결과 여러 개 존재(지점 또는 근접 지역)\n",
      "\n",
      "[크롤링 시작...]\n",
      "백소정 신림점\n",
      "일식당\n",
      "서울 관악구 신원로 38 2층\n",
      "주문 유형 3\n",
      "에비텐어묵우동+돈카츠\n",
      "우동, 새우튀김1개 , 돈카츠, 어묵, 샐러드, 연유치즈떡\n",
      "리뷰 존재\n",
      "음식이 맛있어요\n",
      "매장이 넓어요\n",
      "매장이 청결해요\n",
      "친절해요\n",
      "재료가 신선해요\n",
      "['백소정 신림점'] ...완료\n",
      "[데이터 수집 완료]\n",
      "소요 시간 : 13.421477794647217 \n",
      "\n",
      "63번째 가게\n"
     ]
    },
    {
     "name": "stderr",
     "output_type": "stream",
     "text": [
      "The chromedriver version (128.0.6613.137) detected in PATH at c:\\Users\\kk21\\Desktop\\TRIPER\\chromedriver.exe might not be compatible with the detected chrome version (129.0.6668.101); currently, chromedriver 129.0.6668.100 is recommended for chrome 129.*, so it is advised to delete the driver in PATH and retry\n"
     ]
    },
    {
     "name": "stdout",
     "output_type": "stream",
     "text": [
      "https://map.naver.com/p/search/%EA%B4%80%EC%95%85%EA%B5%AC%20%EC%A0%9C%EC%A3%BC%EC%83%81%ED%9A%8C/place/1660727152?c=15.00,0,0,0,dh&isCorrectAnswer=true\n",
      "결과 한 개\n",
      "\n",
      "[크롤링 시작...]\n",
      "제주상회\n",
      "한식\n",
      "서울 관악구 관악로12길 108 지하1층\n",
      "주문 유형 3\n",
      "고기국수-보통\n",
      "메뉴 설명 없음\n",
      "리뷰 존재\n",
      "음식이 맛있어요\n",
      "양이 많아요\n",
      "특별한 메뉴가 있어요\n",
      "친절해요\n",
      "재료가 신선해요\n",
      "['제주상회'] ...완료\n",
      "[데이터 수집 완료]\n",
      "소요 시간 : 13.405841827392578 \n",
      "\n",
      "64번째 가게\n"
     ]
    },
    {
     "name": "stderr",
     "output_type": "stream",
     "text": [
      "The chromedriver version (128.0.6613.137) detected in PATH at c:\\Users\\kk21\\Desktop\\TRIPER\\chromedriver.exe might not be compatible with the detected chrome version (129.0.6668.101); currently, chromedriver 129.0.6668.100 is recommended for chrome 129.*, so it is advised to delete the driver in PATH and retry\n"
     ]
    },
    {
     "name": "stdout",
     "output_type": "stream",
     "text": [
      "https://map.naver.com/p/search/%EA%B4%80%EC%95%85%EA%B5%AC%20%EC%95%BC%EB%82%98%EA%B8%B0?c=15.00,0,0,0,dh\n",
      "결과 여러 개 존재(지점 또는 근접 지역)\n",
      "\n",
      "[크롤링 시작...]\n",
      "야나기 샤로수길점\n",
      "이자카야\n",
      "서울 관악구 남부순환로230길 14 2층\n",
      "주문 유형 3\n",
      "연어한상\n",
      "신선한 연어를 세가지버전으로!\n",
      "리뷰 존재\n",
      "음식이 맛있어요\n",
      "기본 안주가 좋아요\n",
      "인테리어가 멋져요\n",
      "술이 다양해요\n",
      "대화하기 좋아요\n",
      "['야나기 샤로수길점'] ...완료\n",
      "[데이터 수집 완료]\n",
      "소요 시간 : 13.423639297485352 \n",
      "\n",
      "65번째 가게\n"
     ]
    },
    {
     "name": "stderr",
     "output_type": "stream",
     "text": [
      "The chromedriver version (128.0.6613.137) detected in PATH at c:\\Users\\kk21\\Desktop\\TRIPER\\chromedriver.exe might not be compatible with the detected chrome version (129.0.6668.101); currently, chromedriver 129.0.6668.100 is recommended for chrome 129.*, so it is advised to delete the driver in PATH and retry\n"
     ]
    },
    {
     "name": "stdout",
     "output_type": "stream",
     "text": [
      "https://map.naver.com/p/search/%EA%B4%80%EC%95%85%EA%B5%AC%20%EC%8B%A0%EC%85%B0%ED%94%84%EC%96%91%EA%BC%AC%EC%B9%98&%ED%9B%A0%EA%B6%88%20%EB%82%A8%ED%98%84%EB%8F%991%ED%98%B8%EC%A0%90/place/904840631?c=15.00,0,0,0,dh&isCorrectAnswer=true\n",
      "결과 한 개\n",
      "\n",
      "[크롤링 시작...]\n",
      "신셰프양꼬치&훠궈 남현동1호점\n",
      "양꼬치\n",
      "서울 관악구 남현3길 71 1층 신셰프 양꼬치훠꿔전문점\n",
      "주문 유형 3\n",
      "무한리필 1인당\n",
      "요리,꼬치,식사 전품목 이용가능(고급양갈비, 양깃머리, 음료, 주류 제외) 어린이 키 1m~1.3m : 10000원(어린이1m이하는 무료) 이용시간 3시간\n",
      "리뷰 존재\n",
      "음식이 맛있어요\n",
      "가성비가 좋아요\n",
      "양이 많아요\n",
      "단체모임 하기 좋아요\n",
      "고기 질이 좋아요\n",
      "['신셰프양꼬치&훠궈 남현동1호점'] ...완료\n",
      "[데이터 수집 완료]\n",
      "소요 시간 : 13.403530359268188 \n",
      "\n",
      "66번째 가게\n"
     ]
    },
    {
     "name": "stderr",
     "output_type": "stream",
     "text": [
      "The chromedriver version (128.0.6613.137) detected in PATH at c:\\Users\\kk21\\Desktop\\TRIPER\\chromedriver.exe might not be compatible with the detected chrome version (129.0.6668.101); currently, chromedriver 129.0.6668.100 is recommended for chrome 129.*, so it is advised to delete the driver in PATH and retry\n"
     ]
    },
    {
     "name": "stdout",
     "output_type": "stream",
     "text": [
      "https://map.naver.com/p/search/%EA%B4%80%EC%95%85%EA%B5%AC%20%EB%98%90%EC%88%9C%EC%9D%B4%EC%9B%90%EC%A1%B0%EC%88%9C%EB%8C%80%20%EB%B3%B8%EC%A0%90/place/11711954?c=15.00,0,0,0,dh&isCorrectAnswer=true\n",
      "결과 한 개\n",
      "\n",
      "[크롤링 시작...]\n",
      "또순이원조순대 본점\n",
      "순대,순댓국\n",
      "서울 관악구 신림로59길 14\n",
      "주문 유형 3\n",
      "순대곱창볶음\n",
      "메뉴 설명 없음\n",
      "리뷰 존재\n",
      "음식이 맛있어요\n",
      "매장이 넓어요\n",
      "양이 많아요\n",
      "가성비가 좋아요\n",
      "친절해요\n",
      "['또순이원조순대 본점'] ...완료\n",
      "[데이터 수집 완료]\n",
      "소요 시간 : 13.428934335708618 \n",
      "\n",
      "67번째 가게\n"
     ]
    },
    {
     "name": "stderr",
     "output_type": "stream",
     "text": [
      "The chromedriver version (128.0.6613.137) detected in PATH at c:\\Users\\kk21\\Desktop\\TRIPER\\chromedriver.exe might not be compatible with the detected chrome version (129.0.6668.101); currently, chromedriver 129.0.6668.100 is recommended for chrome 129.*, so it is advised to delete the driver in PATH and retry\n"
     ]
    },
    {
     "name": "stdout",
     "output_type": "stream",
     "text": [
      "https://map.naver.com/p/search/%EA%B4%80%EC%95%85%EA%B5%AC%20%EC%9E%91%EC%9D%80%EB%94%B0%EC%98%B4%ED%91%9C?c=15.00,0,0,0,dh\n",
      "결과 여러 개 존재(지점 또는 근접 지역)\n",
      "\n",
      "[크롤링 시작...]\n",
      "작은따옴표 신원점\n",
      "바(BAR)\n",
      "서울 관악구 신원로 5-1 지하 1층 몽상가들\n",
      "주문 유형 3\n",
      "감튀자김 + 윙봉\n",
      "메뉴 설명 없음\n",
      "리뷰 존재\n",
      "인테리어가 멋져요\n",
      "술이 다양해요\n",
      "음식이 맛있어요\n",
      "음악이 좋아요\n",
      "친절해요\n",
      "['작은따옴표 신원점'] ...완료\n",
      "[데이터 수집 완료]\n",
      "소요 시간 : 13.400234460830688 \n",
      "\n",
      "68번째 가게\n"
     ]
    },
    {
     "name": "stderr",
     "output_type": "stream",
     "text": [
      "The chromedriver version (128.0.6613.137) detected in PATH at c:\\Users\\kk21\\Desktop\\TRIPER\\chromedriver.exe might not be compatible with the detected chrome version (129.0.6668.101); currently, chromedriver 129.0.6668.100 is recommended for chrome 129.*, so it is advised to delete the driver in PATH and retry\n"
     ]
    },
    {
     "name": "stdout",
     "output_type": "stream",
     "text": [
      "https://map.naver.com/p/search/%EA%B4%80%EC%95%85%EA%B5%AC%20%EC%9A%B0%EB%A7%88?c=15.00,0,0,0,dh\n",
      "결과 여러 개 존재(지점 또는 근접 지역)\n",
      "\n",
      "[크롤링 시작...]\n",
      "우마\n",
      "이자카야\n",
      "서울 관악구 신원로 26 동부 아파트상가 101동 124호\n",
      "주문 유형 3\n",
      "대표 메뉴 없음\n",
      "메뉴 설명 없음\n",
      "오류 예외 처리\n",
      "69번째 가게\n"
     ]
    },
    {
     "name": "stderr",
     "output_type": "stream",
     "text": [
      "The chromedriver version (128.0.6613.137) detected in PATH at c:\\Users\\kk21\\Desktop\\TRIPER\\chromedriver.exe might not be compatible with the detected chrome version (129.0.6668.101); currently, chromedriver 129.0.6668.100 is recommended for chrome 129.*, so it is advised to delete the driver in PATH and retry\n"
     ]
    },
    {
     "name": "stdout",
     "output_type": "stream",
     "text": [
      "https://map.naver.com/p/search/%EA%B4%80%EC%95%85%EA%B5%AC%20%EC%95%84%EB%A6%AC%EC%B0%A8%EC%9D%B4/place/11704746?c=15.00,0,0,0,dh&isCorrectAnswer=true\n",
      "결과 한 개\n",
      "\n",
      "[크롤링 시작...]\n",
      "아리차이\n",
      "중식당\n",
      "서울 관악구 신림동길 4\n",
      "주문 유형 3\n",
      "아리차이 정탁\n",
      "메뉴 설명 없음\n",
      "리뷰 존재\n",
      "음식이 맛있어요\n",
      "친절해요\n",
      "매장이 넓어요\n",
      "재료가 신선해요\n",
      "특별한 메뉴가 있어요\n",
      "['아리차이'] ...완료\n",
      "[데이터 수집 완료]\n",
      "소요 시간 : 13.394977331161499 \n",
      "\n",
      "70번째 가게\n"
     ]
    },
    {
     "name": "stderr",
     "output_type": "stream",
     "text": [
      "The chromedriver version (128.0.6613.137) detected in PATH at c:\\Users\\kk21\\Desktop\\TRIPER\\chromedriver.exe might not be compatible with the detected chrome version (129.0.6668.101); currently, chromedriver 129.0.6668.100 is recommended for chrome 129.*, so it is advised to delete the driver in PATH and retry\n"
     ]
    },
    {
     "name": "stdout",
     "output_type": "stream",
     "text": [
      "https://map.naver.com/p/search/%EA%B4%80%EC%95%85%EA%B5%AC%20%EB%8D%94%EB%A9%9C%ED%8C%85%ED%8C%9F?c=15.00,0,0,0,dh\n",
      "결과 여러 개 존재(지점 또는 근접 지역)\n",
      "가게 없음\n",
      "71번째 가게\n"
     ]
    },
    {
     "name": "stderr",
     "output_type": "stream",
     "text": [
      "The chromedriver version (128.0.6613.137) detected in PATH at c:\\Users\\kk21\\Desktop\\TRIPER\\chromedriver.exe might not be compatible with the detected chrome version (129.0.6668.101); currently, chromedriver 129.0.6668.100 is recommended for chrome 129.*, so it is advised to delete the driver in PATH and retry\n"
     ]
    },
    {
     "name": "stdout",
     "output_type": "stream",
     "text": [
      "https://map.naver.com/p/search/%EA%B4%80%EC%95%85%EA%B5%AC%20%EB%AA%A8%EB%A6%AC%EB%9D%BC%EB%A9%98&%EB%8F%88%EC%B9%B4%EC%B8%A0/place/1349981646?c=15.00,0,0,0,dh&isCorrectAnswer=true\n",
      "결과 한 개\n",
      "\n",
      "[크롤링 시작...]\n",
      "모리라멘&돈카츠\n",
      "일식당\n",
      "서울 관악구 남부순환로 2068 1층 102, 103호\n",
      "주문 유형 3\n",
      "대표 메뉴 없음\n",
      "메뉴 설명 없음\n",
      "오류 예외 처리\n",
      "72번째 가게\n"
     ]
    },
    {
     "name": "stderr",
     "output_type": "stream",
     "text": [
      "The chromedriver version (128.0.6613.137) detected in PATH at c:\\Users\\kk21\\Desktop\\TRIPER\\chromedriver.exe might not be compatible with the detected chrome version (129.0.6668.101); currently, chromedriver 129.0.6668.100 is recommended for chrome 129.*, so it is advised to delete the driver in PATH and retry\n"
     ]
    },
    {
     "name": "stdout",
     "output_type": "stream",
     "text": [
      "https://map.naver.com/p/search/%EA%B4%80%EC%95%85%EA%B5%AC%20%EB%B6%81%EB%8D%95%EB%B0%A9/place/1896263200?c=15.00,0,0,0,dh&isCorrectAnswer=true\n",
      "결과 한 개\n",
      "\n",
      "[크롤링 시작...]\n",
      "북덕방\n",
      "카페,디저트\n",
      "서울 관악구 봉천로 544-1 2층 201호\n",
      "주문 유형 3\n",
      "드립커피\n",
      "시그니처 블렌드 2종, 싱글 오리진2종, 디카페인 선택 가능.\n",
      "리뷰 존재\n",
      "인테리어가 멋져요\n",
      "커피가 맛있어요\n",
      "친절해요\n",
      "집중하기 좋아요\n",
      "디저트가 맛있어요\n",
      "['북덕방'] ...완료\n",
      "[데이터 수집 완료]\n",
      "소요 시간 : 13.496764421463013 \n",
      "\n",
      "73번째 가게\n"
     ]
    },
    {
     "name": "stderr",
     "output_type": "stream",
     "text": [
      "The chromedriver version (128.0.6613.137) detected in PATH at c:\\Users\\kk21\\Desktop\\TRIPER\\chromedriver.exe might not be compatible with the detected chrome version (129.0.6668.101); currently, chromedriver 129.0.6668.100 is recommended for chrome 129.*, so it is advised to delete the driver in PATH and retry\n"
     ]
    },
    {
     "name": "stdout",
     "output_type": "stream",
     "text": [
      "https://map.naver.com/p/search/%EA%B4%80%EC%95%85%EA%B5%AC%20%EC%A0%95%EB%82%A8%EC%98%A5%20%EC%84%9C%EC%9A%B8%EB%8C%80%EC%9E%85%EA%B5%AC%EC%A0%90/place/37069580?c=15.00,0,0,0,dh&isCorrectAnswer=true\n",
      "결과 한 개\n",
      "\n",
      "[크롤링 시작...]\n",
      "정남옥 서울대입구점\n",
      "순대,순댓국\n",
      "서울 관악구 관악로 148 지층\n",
      "주문 유형 3\n",
      "순대정식\n",
      "정남옥의 시그니처 순댓국와 21가지 씨락순대, 쫄깃한 수육의 만남! 가성비 甲 순대정식!\n",
      "리뷰 존재\n",
      "음식이 맛있어요\n",
      "혼밥하기 좋아요\n",
      "양이 많아요\n",
      "친절해요\n",
      "가성비가 좋아요\n",
      "['정남옥 서울대입구점'] ...완료\n",
      "[데이터 수집 완료]\n",
      "소요 시간 : 13.430111169815063 \n",
      "\n",
      "74번째 가게\n"
     ]
    },
    {
     "name": "stderr",
     "output_type": "stream",
     "text": [
      "The chromedriver version (128.0.6613.137) detected in PATH at c:\\Users\\kk21\\Desktop\\TRIPER\\chromedriver.exe might not be compatible with the detected chrome version (129.0.6668.101); currently, chromedriver 129.0.6668.100 is recommended for chrome 129.*, so it is advised to delete the driver in PATH and retry\n"
     ]
    },
    {
     "name": "stdout",
     "output_type": "stream",
     "text": [
      "https://map.naver.com/p/search/%EA%B4%80%EC%95%85%EA%B5%AC%20%EC%94%A8%ED%81%AC%EC%8A%A4%ED%8E%98%EC%85%9C%ED%8B%B0%EC%BB%A4%ED%94%BC/place/1480987363?c=15.00,0,0,0,dh&isCorrectAnswer=true\n",
      "결과 한 개\n",
      "\n",
      "[크롤링 시작...]\n",
      "씨크스페셜티커피\n",
      "카페,디저트\n",
      "서울 관악구 관악로12길 45-12 1층 씨크스페셜티커피\n",
      "주문 유형 3\n",
      "필터커피 (핸드드립)\n",
      "스페셜티커피 핸드드립전문 매장으로 라인업은 매번 원두 소진시 변동됩니다. 고정된 커피만이 아닌 여러 커피를 즐겨보세요\n",
      "리뷰 존재\n",
      "커피가 맛있어요\n",
      "디저트가 맛있어요\n",
      "음료가 맛있어요\n",
      "특별한 메뉴가 있어요\n",
      "친절해요\n",
      "['씨크스페셜티커피'] ...완료\n",
      "[데이터 수집 완료]\n",
      "소요 시간 : 13.419092178344727 \n",
      "\n",
      "75번째 가게\n"
     ]
    },
    {
     "name": "stderr",
     "output_type": "stream",
     "text": [
      "The chromedriver version (128.0.6613.137) detected in PATH at c:\\Users\\kk21\\Desktop\\TRIPER\\chromedriver.exe might not be compatible with the detected chrome version (129.0.6668.101); currently, chromedriver 129.0.6668.100 is recommended for chrome 129.*, so it is advised to delete the driver in PATH and retry\n"
     ]
    },
    {
     "name": "stdout",
     "output_type": "stream",
     "text": [
      "https://map.naver.com/p/search/%EA%B4%80%EC%95%85%EA%B5%AC%20%EC%98%A4%EC%B2%A8%EC%A7%80/place/11592567?c=15.00,0,0,0,dh&isCorrectAnswer=true\n",
      "결과 한 개\n",
      "\n",
      "[크롤링 시작...]\n",
      "오첨지\n",
      "오징어요리\n",
      "서울 관악구 남부순환로176길 18 2층(순대타운 맞은 편)\n",
      "주문 유형 3\n",
      "오삼불고기\n",
      "메뉴 설명 없음\n",
      "리뷰 존재\n",
      "음식이 맛있어요\n",
      "친절해요\n",
      "재료가 신선해요\n",
      "양이 많아요\n",
      "특별한 메뉴가 있어요\n",
      "['오첨지'] ...완료\n",
      "[데이터 수집 완료]\n",
      "소요 시간 : 13.424227476119995 \n",
      "\n",
      "76번째 가게\n"
     ]
    },
    {
     "name": "stderr",
     "output_type": "stream",
     "text": [
      "The chromedriver version (128.0.6613.137) detected in PATH at c:\\Users\\kk21\\Desktop\\TRIPER\\chromedriver.exe might not be compatible with the detected chrome version (129.0.6668.101); currently, chromedriver 129.0.6668.100 is recommended for chrome 129.*, so it is advised to delete the driver in PATH and retry\n"
     ]
    },
    {
     "name": "stdout",
     "output_type": "stream",
     "text": [
      "https://map.naver.com/p/search/%EA%B4%80%EC%95%85%EA%B5%AC%20%EA%BC%AC%EB%A5%B4%EB%8F%99?c=15.00,0,0,0,dh\n",
      "결과 여러 개 존재(지점 또는 근접 지역)\n",
      "\n",
      "[크롤링 시작...]\n",
      "꼬르동\n",
      "이탈리아음식\n",
      "서울 관악구 관악로14길 89 1층\n",
      "주문 유형 3\n",
      "스몰샐러드\n",
      "메뉴 설명 없음\n",
      "리뷰 존재\n",
      "음식이 맛있어요\n",
      "인테리어가 멋져요\n",
      "친절해요\n",
      "재료가 신선해요\n",
      "특별한 메뉴가 있어요\n",
      "['꼬르동'] ...완료\n",
      "[데이터 수집 완료]\n",
      "소요 시간 : 13.370886325836182 \n",
      "\n",
      "77번째 가게\n"
     ]
    },
    {
     "name": "stderr",
     "output_type": "stream",
     "text": [
      "The chromedriver version (128.0.6613.137) detected in PATH at c:\\Users\\kk21\\Desktop\\TRIPER\\chromedriver.exe might not be compatible with the detected chrome version (129.0.6668.101); currently, chromedriver 129.0.6668.100 is recommended for chrome 129.*, so it is advised to delete the driver in PATH and retry\n"
     ]
    },
    {
     "name": "stdout",
     "output_type": "stream",
     "text": [
      "https://map.naver.com/p/search/%EA%B4%80%EC%95%85%EA%B5%AC%20%EB%9D%BC%EC%9D%B4%EB%9D%BC%EC%9D%B4%EC%BC%84/place/1158830420?c=15.00,0,0,0,dh&isCorrectAnswer=true\n",
      "결과 한 개\n",
      "\n",
      "[크롤링 시작...]\n",
      "라이라이켄\n",
      "일본식라면\n",
      "서울 관악구 봉천로53길 5\n",
      "주문 유형 3\n",
      "돈코츠 라멘\n",
      "돼지 머리뼈와 사골을 녹진하게 우린 육수에 특제 간장으로 맛을 낸 돼지 육수 라멘 기본토핑 (차슈, 목이버섯, 대파, 김)\n",
      "리뷰 존재\n",
      "음식이 맛있어요\n",
      "혼밥하기 좋아요\n",
      "친절해요\n",
      "특별한 메뉴가 있어요\n",
      "가성비가 좋아요\n",
      "['라이라이켄'] ...완료\n",
      "[데이터 수집 완료]\n",
      "소요 시간 : 13.402485370635986 \n",
      "\n",
      "78번째 가게\n"
     ]
    },
    {
     "name": "stderr",
     "output_type": "stream",
     "text": [
      "The chromedriver version (128.0.6613.137) detected in PATH at c:\\Users\\kk21\\Desktop\\TRIPER\\chromedriver.exe might not be compatible with the detected chrome version (129.0.6668.101); currently, chromedriver 129.0.6668.100 is recommended for chrome 129.*, so it is advised to delete the driver in PATH and retry\n"
     ]
    },
    {
     "name": "stdout",
     "output_type": "stream",
     "text": [
      "https://map.naver.com/p/search/%EA%B4%80%EC%95%85%EA%B5%AC%20%EB%B0%9C%EB%A3%A8%ED%86%A0?c=15.00,0,0,0,dh\n",
      "결과 여러 개 존재(지점 또는 근접 지역)\n",
      "\n",
      "[크롤링 시작...]\n",
      "발루토\n",
      "카페,디저트\n",
      "서울 관악구 신림로23길 28 VALUTO\n",
      "주문 유형 3\n",
      "솔티카라멜\n",
      "매장에서 직접 만든 솔티카라멜이 들어가는 음료로 발루토 시그니처에요\n",
      "리뷰 존재\n",
      "디저트가 맛있어요\n",
      "커피가 맛있어요\n",
      "음료가 맛있어요\n",
      "친절해요\n",
      "특별한 메뉴가 있어요\n",
      "['발루토'] ...완료\n",
      "[데이터 수집 완료]\n",
      "소요 시간 : 13.403806209564209 \n",
      "\n",
      "79번째 가게\n"
     ]
    },
    {
     "name": "stderr",
     "output_type": "stream",
     "text": [
      "The chromedriver version (128.0.6613.137) detected in PATH at c:\\Users\\kk21\\Desktop\\TRIPER\\chromedriver.exe might not be compatible with the detected chrome version (129.0.6668.101); currently, chromedriver 129.0.6668.100 is recommended for chrome 129.*, so it is advised to delete the driver in PATH and retry\n"
     ]
    },
    {
     "name": "stdout",
     "output_type": "stream",
     "text": [
      "https://map.naver.com/p/search/%EA%B4%80%EC%95%85%EA%B5%AC%20%EB%B9%BD%EB%8F%88%20%EB%B3%B8%EC%A0%90?c=15.00,0,0,0,dh\n",
      "결과 여러 개 존재(지점 또는 근접 지역)\n",
      "\n",
      "[크롤링 시작...]\n",
      "빽돈 본점\n",
      "돼지고기구이\n",
      "서울 관악구 관악로16길 32-2 1층\n",
      "주문 유형 3\n",
      "종합세트 2인\n",
      "가브리살+꼬들살+숙성삼겹+숙성목살 450g +흑돼지김치찌개\n",
      "리뷰 존재\n",
      "음식이 맛있어요\n",
      "고기 질이 좋아요\n",
      "친절해요\n",
      "특별한 메뉴가 있어요\n",
      "매장이 청결해요\n",
      "['빽돈 본점'] ...완료\n",
      "[데이터 수집 완료]\n",
      "소요 시간 : 13.484739780426025 \n",
      "\n",
      "80번째 가게\n"
     ]
    },
    {
     "name": "stderr",
     "output_type": "stream",
     "text": [
      "The chromedriver version (128.0.6613.137) detected in PATH at c:\\Users\\kk21\\Desktop\\TRIPER\\chromedriver.exe might not be compatible with the detected chrome version (129.0.6668.101); currently, chromedriver 129.0.6668.100 is recommended for chrome 129.*, so it is advised to delete the driver in PATH and retry\n"
     ]
    },
    {
     "name": "stdout",
     "output_type": "stream",
     "text": [
      "https://map.naver.com/p/search/%EA%B4%80%EC%95%85%EA%B5%AC%20%EC%9D%80%ED%96%89%EA%B3%A8%20%EB%B3%B8%EC%A0%90%EC%8B%A0%EA%B4%80?c=15.00,0,0,0,dh\n",
      "결과 여러 개 존재(지점 또는 근접 지역)\n",
      "\n",
      "[크롤링 시작...]\n",
      "은행골 본점신관\n",
      "초밥,롤\n",
      "서울 관악구 조원로 10-1\n",
      "주문 유형 3\n",
      "대표 메뉴 없음\n",
      "메뉴 설명 없음\n",
      "오류 예외 처리\n",
      "81번째 가게\n"
     ]
    },
    {
     "name": "stderr",
     "output_type": "stream",
     "text": [
      "The chromedriver version (128.0.6613.137) detected in PATH at c:\\Users\\kk21\\Desktop\\TRIPER\\chromedriver.exe might not be compatible with the detected chrome version (129.0.6668.101); currently, chromedriver 129.0.6668.100 is recommended for chrome 129.*, so it is advised to delete the driver in PATH and retry\n"
     ]
    },
    {
     "name": "stdout",
     "output_type": "stream",
     "text": [
      "https://map.naver.com/p/search/%EA%B4%80%EC%95%85%EA%B5%AC%20%ED%95%98%EB%A0%88%EC%B4%88%EB%B0%A5%20%EB%82%99%EC%84%B1%EB%8C%80%EB%B3%B8%EC%A0%90?c=15.00,0,0,0,dh\n",
      "결과 여러 개 존재(지점 또는 근접 지역)\n",
      "가게 없음\n",
      "82번째 가게\n"
     ]
    },
    {
     "name": "stderr",
     "output_type": "stream",
     "text": [
      "The chromedriver version (128.0.6613.137) detected in PATH at c:\\Users\\kk21\\Desktop\\TRIPER\\chromedriver.exe might not be compatible with the detected chrome version (129.0.6668.101); currently, chromedriver 129.0.6668.100 is recommended for chrome 129.*, so it is advised to delete the driver in PATH and retry\n"
     ]
    },
    {
     "name": "stdout",
     "output_type": "stream",
     "text": [
      "https://map.naver.com/p/search/%EA%B4%80%EC%95%85%EA%B5%AC%20%EB%91%90%EB%A6%AC%EB%8B%AD%EB%B0%9C?c=15.00,0,0,0,dh\n",
      "결과 여러 개 존재(지점 또는 근접 지역)\n",
      "\n",
      "[크롤링 시작...]\n",
      "두리닭발\n",
      "닭발\n",
      "서울 관악구 남현3길 78 2층\n",
      "주문 유형 3\n",
      "국물닭발 세트(국물닭발+계란찜,주먹밥)(국물닭발 세트(소))\n",
      "매운맛 1단계 매운음식 못드시는분 / 1.5단계 매운신라면맵기 / 2단계 청양고추 아주 잘 드시는분 / 3단계 매운음식 매니아(지옥)\n",
      "리뷰 존재\n",
      "음식이 맛있어요\n",
      "친절해요\n",
      "양이 많아요\n",
      "매장이 넓어요\n",
      "특별한 메뉴가 있어요\n",
      "['두리닭발'] ...완료\n",
      "[데이터 수집 완료]\n",
      "소요 시간 : 13.481770038604736 \n",
      "\n",
      "83번째 가게\n"
     ]
    },
    {
     "name": "stderr",
     "output_type": "stream",
     "text": [
      "The chromedriver version (128.0.6613.137) detected in PATH at c:\\Users\\kk21\\Desktop\\TRIPER\\chromedriver.exe might not be compatible with the detected chrome version (129.0.6668.101); currently, chromedriver 129.0.6668.100 is recommended for chrome 129.*, so it is advised to delete the driver in PATH and retry\n"
     ]
    },
    {
     "name": "stdout",
     "output_type": "stream",
     "text": [
      "https://map.naver.com/p/search/%EA%B4%80%EC%95%85%EA%B5%AC%20%EA%B0%95%EB%A6%89%ED%98%95%EC%A0%9C%EC%9E%A5%EC%B9%BC%EA%B5%AD%EC%88%98?c=15.00,0,0,0,dh\n",
      "결과 여러 개 존재(지점 또는 근접 지역)\n",
      "가게 없음\n",
      "84번째 가게\n"
     ]
    },
    {
     "name": "stderr",
     "output_type": "stream",
     "text": [
      "The chromedriver version (128.0.6613.137) detected in PATH at c:\\Users\\kk21\\Desktop\\TRIPER\\chromedriver.exe might not be compatible with the detected chrome version (129.0.6668.101); currently, chromedriver 129.0.6668.100 is recommended for chrome 129.*, so it is advised to delete the driver in PATH and retry\n"
     ]
    },
    {
     "name": "stdout",
     "output_type": "stream",
     "text": [
      "https://map.naver.com/p/search/%EA%B4%80%EC%95%85%EA%B5%AC%20%EC%A0%95%EB%8B%B4%EC%9D%80%EB%B3%B4%EC%8C%88%20%EC%8B%A0%EB%A6%BC%EC%A0%90/place/31730620?c=15.00,0,0,0,dh&isCorrectAnswer=true\n",
      "결과 한 개\n",
      "\n",
      "[크롤링 시작...]\n",
      "정담은보쌈 신림점\n",
      "족발,보쌈\n",
      "서울 관악구 남부순환로 1661 하나빌딩 2, 3, 4층\n",
      "주문 유형 3\n",
      "보쌈(소 (2인))\n",
      "보쌈고기와 김치, 무속. 하루 6번 삼겹살로 삶은 쫄깃하고 따뜻한 고기. (소)부터 (대)까지 제공됩니다.\n",
      "리뷰 존재\n",
      "음식이 맛있어요\n",
      "친절해요\n",
      "매장이 넓어요\n",
      "단체모임 하기 좋아요\n",
      "양이 많아요\n",
      "['정담은보쌈 신림점'] ...완료\n",
      "[데이터 수집 완료]\n",
      "소요 시간 : 13.409141778945923 \n",
      "\n",
      "85번째 가게\n"
     ]
    },
    {
     "name": "stderr",
     "output_type": "stream",
     "text": [
      "The chromedriver version (128.0.6613.137) detected in PATH at c:\\Users\\kk21\\Desktop\\TRIPER\\chromedriver.exe might not be compatible with the detected chrome version (129.0.6668.101); currently, chromedriver 129.0.6668.100 is recommended for chrome 129.*, so it is advised to delete the driver in PATH and retry\n"
     ]
    },
    {
     "name": "stdout",
     "output_type": "stream",
     "text": [
      "https://map.naver.com/p/search/%EA%B4%80%EC%95%85%EA%B5%AC%20%ED%8C%94%EA%B0%81%EB%8F%84%20%EC%84%9C%EC%9A%B8%EB%8C%80%EC%9E%85%EA%B5%AC%EC%97%AD%EC%A0%90?c=15.00,0,0,0,dh\n",
      "결과 여러 개 존재(지점 또는 근접 지역)\n",
      "\n",
      "[크롤링 시작...]\n",
      "팔각도 서울대입구역점\n",
      "닭갈비\n",
      "서울 관악구 남부순환로226길 12 1층\n",
      "주문 유형 3\n",
      "팔도 세트\n",
      "숯불 닭갈비 2인분 + 특수부위 270g (연골/목살/안창살) + 신선모둠야채\n",
      "리뷰 존재\n",
      "음식이 맛있어요\n",
      "고기 질이 좋아요\n",
      "친절해요\n",
      "매장이 넓어요\n",
      "특별한 메뉴가 있어요\n",
      "['팔각도 서울대입구역점'] ...완료\n",
      "[데이터 수집 완료]\n",
      "소요 시간 : 13.419200658798218 \n",
      "\n",
      "86번째 가게\n"
     ]
    },
    {
     "name": "stderr",
     "output_type": "stream",
     "text": [
      "The chromedriver version (128.0.6613.137) detected in PATH at c:\\Users\\kk21\\Desktop\\TRIPER\\chromedriver.exe might not be compatible with the detected chrome version (129.0.6668.101); currently, chromedriver 129.0.6668.100 is recommended for chrome 129.*, so it is advised to delete the driver in PATH and retry\n"
     ]
    },
    {
     "name": "stdout",
     "output_type": "stream",
     "text": [
      "https://map.naver.com/p/search/%EA%B4%80%EC%95%85%EA%B5%AC%20%EB%82%98%EC%98%A4%EB%A6%AC%EC%9E%A5%EC%9E%91%EA%B5%AC%EC%9D%B4%20%EC%82%AC%EB%8B%B9%EC%A0%90/place/1169679765?isCorrectAnswer=true&c=15.00,0,0,0,dh\n",
      "결과 한 개\n",
      "\n",
      "[크롤링 시작...]\n",
      "나오리장작구이 사당점\n",
      "오리요리\n",
      "서울 관악구 승방3길 1 지하1층 101호\n",
      "주문 유형 3\n",
      "산더미 차돌구이 한마리 (3~4인)\n",
      "센 불에 노릇하게 구운 후 차돌 소스를 곁들여 쌈무와 깻잎에 싸 드시면 맛있습니다.\n",
      "리뷰 존재\n",
      "음식이 맛있어요\n",
      "가성비가 좋아요\n",
      "양이 많아요\n",
      "친절해요\n",
      "고기 질이 좋아요\n",
      "['나오리장작구이 사당점'] ...완료\n",
      "[데이터 수집 완료]\n",
      "소요 시간 : 13.395285367965698 \n",
      "\n",
      "87번째 가게\n"
     ]
    },
    {
     "name": "stderr",
     "output_type": "stream",
     "text": [
      "The chromedriver version (128.0.6613.137) detected in PATH at c:\\Users\\kk21\\Desktop\\TRIPER\\chromedriver.exe might not be compatible with the detected chrome version (129.0.6668.101); currently, chromedriver 129.0.6668.100 is recommended for chrome 129.*, so it is advised to delete the driver in PATH and retry\n"
     ]
    },
    {
     "name": "stdout",
     "output_type": "stream",
     "text": [
      "https://map.naver.com/p/search/%EA%B4%80%EC%95%85%EA%B5%AC%20%EB%8F%99%EB%B0%B1%EC%B9%B4%EC%B8%A0%20%EC%83%A4%EB%A1%9C%EC%88%98%EA%B8%B8%EC%A0%90?c=15.00,0,0,0,dh\n",
      "결과 여러 개 존재(지점 또는 근접 지역)\n",
      "가게 없음\n",
      "88번째 가게\n"
     ]
    },
    {
     "name": "stderr",
     "output_type": "stream",
     "text": [
      "The chromedriver version (128.0.6613.137) detected in PATH at c:\\Users\\kk21\\Desktop\\TRIPER\\chromedriver.exe might not be compatible with the detected chrome version (129.0.6668.101); currently, chromedriver 129.0.6668.100 is recommended for chrome 129.*, so it is advised to delete the driver in PATH and retry\n"
     ]
    },
    {
     "name": "stdout",
     "output_type": "stream",
     "text": [
      "https://map.naver.com/p/search/%EA%B4%80%EC%95%85%EA%B5%AC%20%EC%9C%A1%EC%A0%84%EA%B5%AD%EB%B0%A5%20%EC%84%9C%EC%9A%B8%EB%8C%80%EC%9E%85%EA%B5%AC%EC%97%AD%EC%A0%90?c=15.00,0,0,0,dh\n",
      "결과 여러 개 존재(지점 또는 근접 지역)\n",
      "\n",
      "[크롤링 시작...]\n",
      "육전국밥 서울대입구역점\n",
      "국밥\n",
      "서울 관악구 관악로 163 1층 1호\n",
      "주문 유형 3\n",
      "육전국밥\n",
      "국내 최초 개발 !! 육전국밥\n",
      "리뷰 존재\n",
      "음식이 맛있어요\n",
      "재료가 신선해요\n",
      "양이 많아요\n",
      "매장이 넓어요\n",
      "혼밥하기 좋아요\n",
      "['육전국밥 서울대입구역점'] ...완료\n",
      "[데이터 수집 완료]\n",
      "소요 시간 : 13.444064140319824 \n",
      "\n",
      "./out_food_review/out_20_food.csv완료\n",
      "0번째 가게\n"
     ]
    },
    {
     "name": "stderr",
     "output_type": "stream",
     "text": [
      "The chromedriver version (128.0.6613.137) detected in PATH at c:\\Users\\kk21\\Desktop\\TRIPER\\chromedriver.exe might not be compatible with the detected chrome version (129.0.6668.101); currently, chromedriver 129.0.6668.100 is recommended for chrome 129.*, so it is advised to delete the driver in PATH and retry\n"
     ]
    },
    {
     "name": "stdout",
     "output_type": "stream",
     "text": [
      "https://map.naver.com/p/search/%EC%84%9C%EC%B4%88%EA%B5%AC%20%EB%A7%88%EB%9D%BC%EA%B3%B5%EB%B0%A9%20%EA%B5%90%EB%8C%80%EC%A0%90?c=15.00,0,0,0,dh\n",
      "결과 여러 개 존재(지점 또는 근접 지역)\n",
      "\n",
      "[크롤링 시작...]\n",
      "마라공방 교대점\n",
      "마라탕\n",
      "서울 서초구 반포대로28길 54 1층\n",
      "주문 유형 3\n",
      "마라탕 100g\n",
      "메뉴 설명 없음\n",
      "리뷰 존재\n",
      "음식이 맛있어요\n",
      "재료가 신선해요\n",
      "혼밥하기 좋아요\n",
      "친절해요\n",
      "가성비가 좋아요\n",
      "['마라공방 교대점'] ...완료\n",
      "[데이터 수집 완료]\n",
      "소요 시간 : 13.412193536758423 \n",
      "\n",
      "1번째 가게\n"
     ]
    },
    {
     "name": "stderr",
     "output_type": "stream",
     "text": [
      "The chromedriver version (128.0.6613.137) detected in PATH at c:\\Users\\kk21\\Desktop\\TRIPER\\chromedriver.exe might not be compatible with the detected chrome version (129.0.6668.101); currently, chromedriver 129.0.6668.100 is recommended for chrome 129.*, so it is advised to delete the driver in PATH and retry\n"
     ]
    },
    {
     "name": "stdout",
     "output_type": "stream",
     "text": [
      "https://map.naver.com/p/search/%EC%84%9C%EC%B4%88%EA%B5%AC%20%EB%9D%BC%ED%8C%8C%EC%8A%A4%ED%83%80%EC%95%A4%EB%AA%A8%EC%96%B4/place/1142217816?c=15.00,0,0,0,dh&isCorrectAnswer=true\n",
      "결과 한 개\n",
      "\n",
      "[크롤링 시작...]\n",
      "라파스타앤모어\n",
      "스파게티,파스타전문\n",
      "서울 서초구 사평대로57길 86 1층\n",
      "주문 유형 3\n",
      "누룽지삼계국물파스타\n",
      "닭고기,누룽지,청양오일,꽈리고추튀김 그리고 진한 국물의 환상의 조합\n",
      "리뷰 존재\n",
      "음식이 맛있어요\n",
      "가성비가 좋아요\n",
      "친절해요\n",
      "혼밥하기 좋아요\n",
      "재료가 신선해요\n",
      "['라파스타앤모어'] ...완료\n",
      "[데이터 수집 완료]\n",
      "소요 시간 : 13.42124080657959 \n",
      "\n",
      "2번째 가게\n"
     ]
    },
    {
     "name": "stderr",
     "output_type": "stream",
     "text": [
      "The chromedriver version (128.0.6613.137) detected in PATH at c:\\Users\\kk21\\Desktop\\TRIPER\\chromedriver.exe might not be compatible with the detected chrome version (129.0.6668.101); currently, chromedriver 129.0.6668.100 is recommended for chrome 129.*, so it is advised to delete the driver in PATH and retry\n"
     ]
    },
    {
     "name": "stdout",
     "output_type": "stream",
     "text": [
      "https://map.naver.com/p/search/%EC%84%9C%EC%B4%88%EA%B5%AC%20%EB%B0%B0%ED%82%A4%EC%9A%98%EB%B0%A9%20%EA%B5%90%EB%8C%80%EC%97%AD%EC%A0%90?c=15.00,0,0,0,dh\n",
      "결과 여러 개 존재(지점 또는 근접 지역)\n",
      "가게 없음\n",
      "3번째 가게\n"
     ]
    },
    {
     "name": "stderr",
     "output_type": "stream",
     "text": [
      "The chromedriver version (128.0.6613.137) detected in PATH at c:\\Users\\kk21\\Desktop\\TRIPER\\chromedriver.exe might not be compatible with the detected chrome version (129.0.6668.101); currently, chromedriver 129.0.6668.100 is recommended for chrome 129.*, so it is advised to delete the driver in PATH and retry\n"
     ]
    },
    {
     "name": "stdout",
     "output_type": "stream",
     "text": [
      "https://map.naver.com/p/search/%EC%84%9C%EC%B4%88%EA%B5%AC%20%EB%B0%A9%EC%9D%B4%EC%98%A5%20%EC%82%AC%EB%8B%B9%EC%97%AD%EC%A0%90?c=15.00,0,0,0,dh\n",
      "결과 여러 개 존재(지점 또는 근접 지역)\n",
      "\n",
      "[크롤링 시작...]\n",
      "방이옥 사당역점\n",
      "육류,고기요리\n",
      "서울 서초구 방배천로2안길 7 1층\n",
      "주문 유형 3\n",
      "황제꽃갈비살\n",
      "1인가격\n",
      "리뷰 존재\n",
      "음식이 맛있어요\n",
      "고기 질이 좋아요\n",
      "친절해요\n",
      "인테리어가 멋져요\n",
      "직접 잘 구워줘요\n",
      "['방이옥 사당역점'] ...완료\n",
      "[데이터 수집 완료]\n",
      "소요 시간 : 13.445677280426025 \n",
      "\n",
      "4번째 가게\n"
     ]
    },
    {
     "name": "stderr",
     "output_type": "stream",
     "text": [
      "The chromedriver version (128.0.6613.137) detected in PATH at c:\\Users\\kk21\\Desktop\\TRIPER\\chromedriver.exe might not be compatible with the detected chrome version (129.0.6668.101); currently, chromedriver 129.0.6668.100 is recommended for chrome 129.*, so it is advised to delete the driver in PATH and retry\n"
     ]
    },
    {
     "name": "stdout",
     "output_type": "stream",
     "text": [
      "https://map.naver.com/p/search/%EC%84%9C%EC%B4%88%EA%B5%AC%20%EC%9D%B4%EA%B0%80%EB%84%A4%EC%96%91%EA%BC%AC%EC%B9%98%20%EA%B5%90%EB%8C%801%ED%98%B8%EC%A7%81%EC%98%81%EC%A0%90?c=15.00,0,0,0,dh\n",
      "결과 여러 개 존재(지점 또는 근접 지역)\n",
      "\n",
      "[크롤링 시작...]\n",
      "이가네양꼬치 교대1호직영점\n",
      "양꼬치\n",
      "서울 서초구 반포대로22길 89 1층(서초동.서남빌딩)\n",
      "주문 유형 3\n",
      "양갈비\n",
      "메뉴 설명 없음\n",
      "리뷰 존재\n",
      "음식이 맛있어요\n",
      "친절해요\n",
      "고기 질이 좋아요\n",
      "단체모임 하기 좋아요\n",
      "특별한 메뉴가 있어요\n",
      "['이가네양꼬치 교대1호직영점'] ...완료\n",
      "[데이터 수집 완료]\n",
      "소요 시간 : 13.38622498512268 \n",
      "\n",
      "5번째 가게\n"
     ]
    },
    {
     "name": "stderr",
     "output_type": "stream",
     "text": [
      "The chromedriver version (128.0.6613.137) detected in PATH at c:\\Users\\kk21\\Desktop\\TRIPER\\chromedriver.exe might not be compatible with the detected chrome version (129.0.6668.101); currently, chromedriver 129.0.6668.100 is recommended for chrome 129.*, so it is advised to delete the driver in PATH and retry\n"
     ]
    },
    {
     "name": "stdout",
     "output_type": "stream",
     "text": [
      "https://map.naver.com/p/search/%EC%84%9C%EC%B4%88%EA%B5%AC%20%EC%98%A5%EB%90%9C%EC%9E%A5%20%EC%96%91%EC%9E%AC%EC%A0%90/place/1137666363?c=15.00,0,0,0,dh&isCorrectAnswer=true\n",
      "결과 한 개\n",
      "\n",
      "[크롤링 시작...]\n",
      "옥된장 양재점\n",
      "한식\n",
      "서울 서초구 서운로6길 29 1층\n",
      "주문 유형 3\n",
      "김치찜(넉넉한 2.4인)\n",
      "'김치찜'이라 쓰고 '고기찜'이라 읽는다 옥된장 양재점만의 '정성'과 '푸짐'이란 비법으로 단골이 많은 인기메뉴\n",
      "리뷰 존재\n",
      "음식이 맛있어요\n",
      "재료가 신선해요\n",
      "친절해요\n",
      "매장이 넓어요\n",
      "인테리어가 멋져요\n",
      "['옥된장 양재점'] ...완료\n",
      "[데이터 수집 완료]\n",
      "소요 시간 : 13.43999981880188 \n",
      "\n",
      "6번째 가게\n"
     ]
    },
    {
     "name": "stderr",
     "output_type": "stream",
     "text": [
      "The chromedriver version (128.0.6613.137) detected in PATH at c:\\Users\\kk21\\Desktop\\TRIPER\\chromedriver.exe might not be compatible with the detected chrome version (129.0.6668.101); currently, chromedriver 129.0.6668.100 is recommended for chrome 129.*, so it is advised to delete the driver in PATH and retry\n"
     ]
    },
    {
     "name": "stdout",
     "output_type": "stream",
     "text": [
      "https://map.naver.com/p/search/%EC%84%9C%EC%B4%88%EA%B5%AC%20%EC%9D%B4%EA%B0%80%EB%84%A4%EC%96%91%EA%BC%AC%EC%B9%98%20%EC%96%91%EC%9E%AC2%ED%98%B8%EC%A7%81%EC%98%81%EC%A0%90?c=15.00,0,0,0,dh\n",
      "결과 여러 개 존재(지점 또는 근접 지역)\n",
      "\n",
      "[크롤링 시작...]\n",
      "이가네양꼬치 양재2호직영점\n",
      "양꼬치\n",
      "서울 서초구 마방로2길 68\n",
      "주문 유형 3\n",
      "양등심꼬치\n",
      "메뉴 설명 없음\n",
      "리뷰 존재\n",
      "음식이 맛있어요\n",
      "고기 질이 좋아요\n",
      "친절해요\n",
      "단체모임 하기 좋아요\n",
      "재료가 신선해요\n",
      "['이가네양꼬치 양재2호직영점'] ...완료\n",
      "[데이터 수집 완료]\n",
      "소요 시간 : 13.443242073059082 \n",
      "\n",
      "7번째 가게\n"
     ]
    },
    {
     "name": "stderr",
     "output_type": "stream",
     "text": [
      "The chromedriver version (128.0.6613.137) detected in PATH at c:\\Users\\kk21\\Desktop\\TRIPER\\chromedriver.exe might not be compatible with the detected chrome version (129.0.6668.101); currently, chromedriver 129.0.6668.100 is recommended for chrome 129.*, so it is advised to delete the driver in PATH and retry\n"
     ]
    },
    {
     "name": "stdout",
     "output_type": "stream",
     "text": [
      "https://map.naver.com/p/search/%EC%84%9C%EC%B4%88%EA%B5%AC%20%EC%A7%84%EB%8C%80%EA%B0%90%20%EA%B0%95%EB%82%A8%EC%97%AD%20%EC%82%BC%EC%84%B1%ED%83%80%EC%9A%B4%EC%A0%90?c=15.00,0,0,0,dh\n",
      "결과 여러 개 존재(지점 또는 근접 지역)\n",
      "\n",
      "[크롤링 시작...]\n",
      "진대감 강남역 삼성타운점\n",
      "소고기구이\n",
      "서울 서초구 서초대로78길 50 우영빌딩\n",
      "주문 유형 3\n",
      "한우차돌삼합\n",
      "한우 1등급이상의 차돌박이와 서해안 키조개 관자, 그리고 곁들임 찬 세 가지 합\n",
      "리뷰 존재\n",
      "음식이 맛있어요\n",
      "친절해요\n",
      "매장이 넓어요\n",
      "특별한 메뉴가 있어요\n",
      "고기 질이 좋아요\n",
      "['진대감 강남역 삼성타운점'] ...완료\n",
      "[데이터 수집 완료]\n",
      "소요 시간 : 13.423029899597168 \n",
      "\n",
      "8번째 가게\n"
     ]
    },
    {
     "name": "stderr",
     "output_type": "stream",
     "text": [
      "The chromedriver version (128.0.6613.137) detected in PATH at c:\\Users\\kk21\\Desktop\\TRIPER\\chromedriver.exe might not be compatible with the detected chrome version (129.0.6668.101); currently, chromedriver 129.0.6668.100 is recommended for chrome 129.*, so it is advised to delete the driver in PATH and retry\n"
     ]
    },
    {
     "name": "stdout",
     "output_type": "stream",
     "text": [
      "https://map.naver.com/p/search/%EC%84%9C%EC%B4%88%EA%B5%AC%20%EB%82%99%EC%9B%90%ED%83%80%EC%BD%94%20%EA%B0%95%EB%82%A8%EC%97%AD%EC%A0%90?c=15.00,0,0,0,dh\n",
      "결과 여러 개 존재(지점 또는 근접 지역)\n",
      "\n",
      "[크롤링 시작...]\n",
      "낙원타코 강남역점\n",
      "멕시코,남미음식\n",
      "서울 서초구 서초대로73길 7 2층\n",
      "주문 유형 3\n",
      "낙원파히타\n",
      "메뉴 설명 없음\n",
      "리뷰 존재\n",
      "음식이 맛있어요\n",
      "매장이 넓어요\n",
      "양이 많아요\n",
      "특별한 메뉴가 있어요\n",
      "친절해요\n",
      "['낙원타코 강남역점'] ...완료\n",
      "[데이터 수집 완료]\n",
      "소요 시간 : 13.401145696640015 \n",
      "\n",
      "9번째 가게\n"
     ]
    },
    {
     "name": "stderr",
     "output_type": "stream",
     "text": [
      "The chromedriver version (128.0.6613.137) detected in PATH at c:\\Users\\kk21\\Desktop\\TRIPER\\chromedriver.exe might not be compatible with the detected chrome version (129.0.6668.101); currently, chromedriver 129.0.6668.100 is recommended for chrome 129.*, so it is advised to delete the driver in PATH and retry\n"
     ]
    },
    {
     "name": "stdout",
     "output_type": "stream",
     "text": [
      "https://map.naver.com/p/search/%EC%84%9C%EC%B4%88%EA%B5%AC%20%EA%B8%88%EB%B3%B5%EC%A3%BC%EB%A5%98%20%EA%B0%95%EB%82%A8%EC%97%AD%EC%A0%90?c=15.00,0,0,0,dh\n",
      "결과 여러 개 존재(지점 또는 근접 지역)\n",
      "\n",
      "[크롤링 시작...]\n",
      "금복주류 강남역점\n",
      "요리주점\n",
      "서울 서초구 강남대로65길 9 1층 금복주류\n",
      "주문 유형 3\n",
      "차돌순두부짬뽕탕\n",
      "메뉴 설명 없음\n",
      "리뷰 존재\n",
      "음식이 맛있어요\n",
      "술이 다양해요\n",
      "기본 안주가 좋아요\n",
      "친절해요\n",
      "음악이 좋아요\n",
      "['금복주류 강남역점'] ...완료\n",
      "[데이터 수집 완료]\n",
      "소요 시간 : 13.403575658798218 \n",
      "\n",
      "10번째 가게\n"
     ]
    },
    {
     "name": "stderr",
     "output_type": "stream",
     "text": [
      "The chromedriver version (128.0.6613.137) detected in PATH at c:\\Users\\kk21\\Desktop\\TRIPER\\chromedriver.exe might not be compatible with the detected chrome version (129.0.6668.101); currently, chromedriver 129.0.6668.100 is recommended for chrome 129.*, so it is advised to delete the driver in PATH and retry\n"
     ]
    },
    {
     "name": "stdout",
     "output_type": "stream",
     "text": [
      "https://map.naver.com/p/search/%EC%84%9C%EC%B4%88%EA%B5%AC%20%EC%84%9C%EB%B3%91%EC%9E%A5%20%EA%B5%90%EB%8C%80%EC%A0%90/place/36282951?c=15.00,0,0,0,dh&isCorrectAnswer=true\n",
      "결과 한 개\n",
      "\n",
      "[크롤링 시작...]\n",
      "서병장 교대점\n",
      "찌개,전골\n",
      "서울 서초구 서초중앙로20길 34-6 1층 서병장\n",
      "주문 유형 3\n",
      "대표 메뉴 없음\n",
      "메뉴 설명 없음\n",
      "오류 예외 처리\n",
      "11번째 가게\n"
     ]
    },
    {
     "name": "stderr",
     "output_type": "stream",
     "text": [
      "The chromedriver version (128.0.6613.137) detected in PATH at c:\\Users\\kk21\\Desktop\\TRIPER\\chromedriver.exe might not be compatible with the detected chrome version (129.0.6668.101); currently, chromedriver 129.0.6668.100 is recommended for chrome 129.*, so it is advised to delete the driver in PATH and retry\n"
     ]
    },
    {
     "name": "stdout",
     "output_type": "stream",
     "text": [
      "https://map.naver.com/p/search/%EC%84%9C%EC%B4%88%EA%B5%AC%20%EB%9E%9C%EB%8F%8C%ED%94%84%EB%B9%84%EC%96%B4%20%EA%B0%95%EB%82%A8%EC%A0%90/place/1021930345?c=15.00,0,0,0,dh&isCorrectAnswer=true\n",
      "결과 한 개\n",
      "\n",
      "[크롤링 시작...]\n",
      "랜돌프비어 강남점\n",
      "맥주,호프\n",
      "서울 서초구 강남대로65길 9 지하\n",
      "주문 유형 3\n",
      "수제 생맥주 2잔 세트메뉴 👍 👍\n",
      "수제생맥주 2잔 + 피자 반판 + 후라이드 치킨봉(6pc)+코울슬로\n",
      "리뷰 존재\n",
      "음식이 맛있어요\n",
      "술이 다양해요\n",
      "인테리어가 멋져요\n",
      "기본 안주가 좋아요\n",
      "친절해요\n",
      "['랜돌프비어 강남점'] ...완료\n",
      "[데이터 수집 완료]\n",
      "소요 시간 : 13.434993267059326 \n",
      "\n",
      "12번째 가게\n"
     ]
    },
    {
     "name": "stderr",
     "output_type": "stream",
     "text": [
      "The chromedriver version (128.0.6613.137) detected in PATH at c:\\Users\\kk21\\Desktop\\TRIPER\\chromedriver.exe might not be compatible with the detected chrome version (129.0.6668.101); currently, chromedriver 129.0.6668.100 is recommended for chrome 129.*, so it is advised to delete the driver in PATH and retry\n"
     ]
    },
    {
     "name": "stdout",
     "output_type": "stream",
     "text": [
      "https://map.naver.com/p/search/%EC%84%9C%EC%B4%88%EA%B5%AC%20%ED%8C%90%EA%B5%90%EC%A7%91%20%EC%96%91%EC%9E%AC%EC%A7%81%EC%98%81%EC%A0%90/place/1146198676?c=15.00,0,0,0,dh&isCorrectAnswer=true\n",
      "결과 한 개\n",
      "\n",
      "[크롤링 시작...]\n",
      "판교집 양재직영점\n",
      "돼지고기구이\n",
      "서울 서초구 마방로10길 58 1층\n",
      "주문 유형 3\n",
      "급냉한돈삼겹살(1인/180g)\n",
      "당일 도축된 1등급 국내산 암퇘지만을 선별,숙성 후 급속냉동한 삼겹살\n",
      "리뷰 존재\n",
      "음식이 맛있어요\n",
      "고기 질이 좋아요\n",
      "친절해요\n",
      "인테리어가 멋져요\n",
      "매장이 넓어요\n",
      "['판교집 양재직영점'] ...완료\n",
      "[데이터 수집 완료]\n",
      "소요 시간 : 13.429856300354004 \n",
      "\n",
      "13번째 가게\n"
     ]
    },
    {
     "name": "stderr",
     "output_type": "stream",
     "text": [
      "The chromedriver version (128.0.6613.137) detected in PATH at c:\\Users\\kk21\\Desktop\\TRIPER\\chromedriver.exe might not be compatible with the detected chrome version (129.0.6668.101); currently, chromedriver 129.0.6668.100 is recommended for chrome 129.*, so it is advised to delete the driver in PATH and retry\n"
     ]
    },
    {
     "name": "stdout",
     "output_type": "stream",
     "text": [
      "https://map.naver.com/p/search/%EC%84%9C%EC%B4%88%EA%B5%AC%20%EC%9D%B4%EA%B0%80%EB%84%A4%EC%96%91%EA%BC%AC%EC%B9%98%20%EA%B5%90%EB%8C%802%ED%98%B8%EC%A7%81%EC%98%81%EC%A0%90?c=15.00,0,0,0,dh\n",
      "결과 여러 개 존재(지점 또는 근접 지역)\n",
      "\n",
      "[크롤링 시작...]\n",
      "이가네양꼬치 교대2호직영점\n",
      "양꼬치\n",
      "서울 서초구 서초대로50길 105 1층\n",
      "주문 유형 3\n",
      "양갈비\n",
      "메뉴 설명 없음\n",
      "리뷰 존재\n",
      "음식이 맛있어요\n",
      "고기 질이 좋아요\n",
      "매장이 넓어요\n",
      "친절해요\n",
      "단체모임 하기 좋아요\n",
      "['이가네양꼬치 교대2호직영점'] ...완료\n",
      "[데이터 수집 완료]\n",
      "소요 시간 : 13.403074741363525 \n",
      "\n",
      "14번째 가게\n"
     ]
    },
    {
     "name": "stderr",
     "output_type": "stream",
     "text": [
      "The chromedriver version (128.0.6613.137) detected in PATH at c:\\Users\\kk21\\Desktop\\TRIPER\\chromedriver.exe might not be compatible with the detected chrome version (129.0.6668.101); currently, chromedriver 129.0.6668.100 is recommended for chrome 129.*, so it is advised to delete the driver in PATH and retry\n"
     ]
    },
    {
     "name": "stdout",
     "output_type": "stream",
     "text": [
      "https://map.naver.com/p/search/%EC%84%9C%EC%B4%88%EA%B5%AC%20%EC%8A%A4%ED%82%A4%EB%8B%B9%20%EA%B5%90%EB%8C%80%EC%A0%90/place/1611310632?c=15.00,0,0,0,dh&isCorrectAnswer=true\n",
      "결과 한 개\n",
      "\n",
      "[크롤링 시작...]\n",
      "스키당 교대점\n",
      "샤브샤브\n",
      "서울 서초구 서초중앙로22길 25 2층 202호\n",
      "주문 유형 3\n",
      "1인 스키야키(관서식)\n",
      "일본식 불고기\n",
      "리뷰 존재\n",
      "음식이 맛있어요\n",
      "재료가 신선해요\n",
      "인테리어가 멋져요\n",
      "친절해요\n",
      "매장이 넓어요\n",
      "['스키당 교대점'] ...완료\n",
      "[데이터 수집 완료]\n",
      "소요 시간 : 13.441428661346436 \n",
      "\n",
      "15번째 가게\n"
     ]
    },
    {
     "name": "stderr",
     "output_type": "stream",
     "text": [
      "The chromedriver version (128.0.6613.137) detected in PATH at c:\\Users\\kk21\\Desktop\\TRIPER\\chromedriver.exe might not be compatible with the detected chrome version (129.0.6668.101); currently, chromedriver 129.0.6668.100 is recommended for chrome 129.*, so it is advised to delete the driver in PATH and retry\n"
     ]
    },
    {
     "name": "stdout",
     "output_type": "stream",
     "text": [
      "https://map.naver.com/p/search/%EC%84%9C%EC%B4%88%EA%B5%AC%20%EC%84%A4%EB%A7%88%EC%A4%91/place/36122875?c=15.00,0,0,0,dh&isCorrectAnswer=true\n",
      "결과 한 개\n",
      "\n",
      "[크롤링 시작...]\n",
      "설마중\n",
      "육류,고기요리\n",
      "서울 서초구 남부순환로 2648\n",
      "주문 유형 3\n",
      "평일점심특선\n",
      "푸짐한상 /갈비살정식₩35. 사모님정식A한우불고기 ₩38.\n",
      "리뷰 존재\n",
      "음식이 맛있어요\n",
      "단체모임 하기 좋아요\n",
      "친절해요\n",
      "고기 질이 좋아요\n",
      "양이 많아요\n",
      "['설마중'] ...완료\n",
      "[데이터 수집 완료]\n",
      "소요 시간 : 13.409995555877686 \n",
      "\n",
      "16번째 가게\n"
     ]
    },
    {
     "name": "stderr",
     "output_type": "stream",
     "text": [
      "The chromedriver version (128.0.6613.137) detected in PATH at c:\\Users\\kk21\\Desktop\\TRIPER\\chromedriver.exe might not be compatible with the detected chrome version (129.0.6668.101); currently, chromedriver 129.0.6668.100 is recommended for chrome 129.*, so it is advised to delete the driver in PATH and retry\n"
     ]
    },
    {
     "name": "stdout",
     "output_type": "stream",
     "text": [
      "https://map.naver.com/p/search/%EC%84%9C%EC%B4%88%EA%B5%AC%20%EC%B2%AD%EB%8B%B4%EB%8F%99%EC%88%9C%EB%8F%84%EB%A6%AC%20%EC%82%AC%EB%8B%B9%EC%A0%90/place/1022907811?c=15.00,0,0,0,dh&isCorrectAnswer=true\n",
      "결과 한 개\n",
      "\n",
      "[크롤링 시작...]\n",
      "청담동순도리 사당점\n",
      "순대,순댓국\n",
      "서울 서초구 방배천로 19 1층\n",
      "주문 유형 3\n",
      "순대국밥\n",
      "*일반 10,000원 *특 12,000원\n",
      "리뷰 존재\n",
      "음식이 맛있어요\n",
      "양이 많아요\n",
      "특별한 메뉴가 있어요\n",
      "고기 질이 좋아요\n",
      "친절해요\n",
      "['청담동순도리 사당점'] ...완료\n",
      "[데이터 수집 완료]\n",
      "소요 시간 : 13.423644065856934 \n",
      "\n",
      "17번째 가게\n"
     ]
    },
    {
     "name": "stderr",
     "output_type": "stream",
     "text": [
      "The chromedriver version (128.0.6613.137) detected in PATH at c:\\Users\\kk21\\Desktop\\TRIPER\\chromedriver.exe might not be compatible with the detected chrome version (129.0.6668.101); currently, chromedriver 129.0.6668.100 is recommended for chrome 129.*, so it is advised to delete the driver in PATH and retry\n"
     ]
    },
    {
     "name": "stdout",
     "output_type": "stream",
     "text": [
      "https://map.naver.com/p/search/%EC%84%9C%EC%B4%88%EA%B5%AC%20%EB%8B%B4?c=15.00,0,0,0,dh\n",
      "결과 여러 개 존재(지점 또는 근접 지역)\n",
      "\n",
      "[크롤링 시작...]\n",
      "담\n",
      "한정식\n",
      "서울 서초구 남부순환로 2406 예술의전당 서예박물관 1층\n",
      "주문 유형 3\n",
      "담 한상차림\n",
      "통고등어구이와 바싹불고기. 쭈꾸미.보쌈. 전. 잡채등이 어울러진 한상차림\n",
      "리뷰 존재\n",
      "음식이 맛있어요\n",
      "매장이 넓어요\n",
      "친절해요\n",
      "재료가 신선해요\n",
      "매장이 청결해요\n",
      "['담'] ...완료\n",
      "[데이터 수집 완료]\n",
      "소요 시간 : 13.37634015083313 \n",
      "\n",
      "18번째 가게\n"
     ]
    },
    {
     "name": "stderr",
     "output_type": "stream",
     "text": [
      "The chromedriver version (128.0.6613.137) detected in PATH at c:\\Users\\kk21\\Desktop\\TRIPER\\chromedriver.exe might not be compatible with the detected chrome version (129.0.6668.101); currently, chromedriver 129.0.6668.100 is recommended for chrome 129.*, so it is advised to delete the driver in PATH and retry\n"
     ]
    },
    {
     "name": "stdout",
     "output_type": "stream",
     "text": [
      "https://map.naver.com/p/search/%EC%84%9C%EC%B4%88%EA%B5%AC%20%EC%A0%95%ED%86%B5%20%ED%95%9C%EC%84%B1%20%EC%96%91%EA%B0%88%EB%B9%84%20%EC%96%91%EA%BC%AC%EC%B9%98/place/35657854?c=15.00,0,0,0,dh&isCorrectAnswer=true\n",
      "결과 한 개\n",
      "\n",
      "[크롤링 시작...]\n",
      "정통 한성 양갈비 양꼬치\n",
      "양꼬치\n",
      "서울 서초구 반포대로28길 71-18\n",
      "주문 유형 3\n",
      "통갈비\n",
      "메뉴 설명 없음\n",
      "리뷰 존재\n",
      "음식이 맛있어요\n",
      "고기 질이 좋아요\n",
      "친절해요\n",
      "단체모임 하기 좋아요\n",
      "매장이 넓어요\n",
      "['정통 한성 양갈비 양꼬치'] ...완료\n",
      "[데이터 수집 완료]\n",
      "소요 시간 : 13.49302363395691 \n",
      "\n",
      "19번째 가게\n"
     ]
    },
    {
     "name": "stderr",
     "output_type": "stream",
     "text": [
      "The chromedriver version (128.0.6613.137) detected in PATH at c:\\Users\\kk21\\Desktop\\TRIPER\\chromedriver.exe might not be compatible with the detected chrome version (129.0.6668.101); currently, chromedriver 129.0.6668.100 is recommended for chrome 129.*, so it is advised to delete the driver in PATH and retry\n"
     ]
    },
    {
     "name": "stdout",
     "output_type": "stream",
     "text": [
      "https://map.naver.com/p/search/%EC%84%9C%EC%B4%88%EA%B5%AC%20%EC%88%98%EC%9E%91%EC%B9%B4%EC%B8%A0%20%EC%96%91%EC%9E%AC%EC%A0%90?c=15.00,0,0,0,dh\n",
      "결과 여러 개 존재(지점 또는 근접 지역)\n",
      "\n",
      "[크롤링 시작...]\n",
      "수작카츠 양재점\n",
      "돈가스\n",
      "서울 서초구 강남대로10길 32\n",
      "주문 유형 3\n",
      "수작카츠\n",
      "등심카츠+모짜치즈카츠+참깨샐러드+미소장국+후리카케밥\n",
      "리뷰 존재\n",
      "음식이 맛있어요\n",
      "친절해요\n",
      "혼밥하기 좋아요\n",
      "가성비가 좋아요\n",
      "재료가 신선해요\n",
      "['수작카츠 양재점'] ...완료\n",
      "[데이터 수집 완료]\n",
      "소요 시간 : 13.404776334762573 \n",
      "\n",
      "20번째 가게\n"
     ]
    },
    {
     "name": "stderr",
     "output_type": "stream",
     "text": [
      "The chromedriver version (128.0.6613.137) detected in PATH at c:\\Users\\kk21\\Desktop\\TRIPER\\chromedriver.exe might not be compatible with the detected chrome version (129.0.6668.101); currently, chromedriver 129.0.6668.100 is recommended for chrome 129.*, so it is advised to delete the driver in PATH and retry\n"
     ]
    },
    {
     "name": "stdout",
     "output_type": "stream",
     "text": [
      "https://map.naver.com/p/search/%EC%84%9C%EC%B4%88%EA%B5%AC%20%EC%9D%B4%EC%9D%91%ED%8B%B0%EC%9D%95/place/1545046193?c=15.00,0,0,0,dh&isCorrectAnswer=true\n",
      "결과 한 개\n",
      "\n",
      "[크롤링 시작...]\n",
      "이응티읕\n",
      "와인\n",
      "서울 서초구 방배천로8길 42 1층 101호\n",
      "주문 유형 3\n",
      "크림뇨끼\n",
      "수제 감자반죽을 팬에 노릇하게 구워내 크림 소스로 맛을 낸 여심자극 No.1 뇨끼\n",
      "리뷰 존재\n",
      "음식이 맛있어요\n",
      "친절해요\n",
      "대화하기 좋아요\n",
      "인테리어가 멋져요\n",
      "술이 다양해요\n",
      "['이응티읕'] ...완료\n",
      "[데이터 수집 완료]\n",
      "소요 시간 : 13.412950277328491 \n",
      "\n",
      "21번째 가게\n"
     ]
    },
    {
     "name": "stderr",
     "output_type": "stream",
     "text": [
      "The chromedriver version (128.0.6613.137) detected in PATH at c:\\Users\\kk21\\Desktop\\TRIPER\\chromedriver.exe might not be compatible with the detected chrome version (129.0.6668.101); currently, chromedriver 129.0.6668.100 is recommended for chrome 129.*, so it is advised to delete the driver in PATH and retry\n"
     ]
    },
    {
     "name": "stdout",
     "output_type": "stream",
     "text": [
      "https://map.naver.com/p/search/%EC%84%9C%EC%B4%88%EA%B5%AC%20%EB%8D%95%EC%9E%90%EB%84%A4%EB%B0%A9%EC%95%97%EA%B0%84?c=15.00,0,0,0,dh\n",
      "결과 여러 개 존재(지점 또는 근접 지역)\n",
      "\n",
      "[크롤링 시작...]\n",
      "덕자네방앗간\n",
      "떡볶이\n",
      "서울 서초구 서초대로77길 62 1층 (L1층)\n",
      "주문 유형 3\n",
      "떡볶이\n",
      "배달주문 및 포장시 감자샐러드는 변질 우려로 나가지 않는 점 양해부탁드립니다\n",
      "리뷰 존재\n",
      "음식이 맛있어요\n",
      "특별한 메뉴가 있어요\n",
      "혼밥하기 좋아요\n",
      "매장이 청결해요\n",
      "재료가 신선해요\n",
      "['덕자네방앗간'] ...완료\n",
      "[데이터 수집 완료]\n",
      "소요 시간 : 13.4508957862854 \n",
      "\n",
      "22번째 가게\n"
     ]
    },
    {
     "name": "stderr",
     "output_type": "stream",
     "text": [
      "The chromedriver version (128.0.6613.137) detected in PATH at c:\\Users\\kk21\\Desktop\\TRIPER\\chromedriver.exe might not be compatible with the detected chrome version (129.0.6668.101); currently, chromedriver 129.0.6668.100 is recommended for chrome 129.*, so it is advised to delete the driver in PATH and retry\n"
     ]
    },
    {
     "name": "stdout",
     "output_type": "stream",
     "text": [
      "https://map.naver.com/p/search/%EC%84%9C%EC%B4%88%EA%B5%AC%20%EB%B0%B1%ED%99%94%EB%84%A4%EB%B6%80%EC%97%8C%20%EA%B5%90%EB%8C%80%EC%A0%90/place/1865515894?c=15.00,0,0,0,dh&isCorrectAnswer=true\n",
      "결과 한 개\n",
      "\n",
      "[크롤링 시작...]\n",
      "백화네부엌 교대점\n",
      "요리주점\n",
      "서울 서초구 반포대로28길 76 1층, 지하1층\n",
      "주문 유형 3\n",
      "찜갈비\n",
      "자작한 국물의 소갈비찜 X 레드와인, 증류주, IPA, 흑맥주\n",
      "리뷰 존재\n",
      "음식이 맛있어요\n",
      "친절해요\n",
      "특별한 메뉴가 있어요\n",
      "인테리어가 멋져요\n",
      "술이 다양해요\n",
      "['백화네부엌 교대점'] ...완료\n",
      "[데이터 수집 완료]\n",
      "소요 시간 : 13.397799491882324 \n",
      "\n",
      "23번째 가게\n"
     ]
    },
    {
     "name": "stderr",
     "output_type": "stream",
     "text": [
      "The chromedriver version (128.0.6613.137) detected in PATH at c:\\Users\\kk21\\Desktop\\TRIPER\\chromedriver.exe might not be compatible with the detected chrome version (129.0.6668.101); currently, chromedriver 129.0.6668.100 is recommended for chrome 129.*, so it is advised to delete the driver in PATH and retry\n"
     ]
    },
    {
     "name": "stdout",
     "output_type": "stream",
     "text": [
      "https://map.naver.com/p/search/%EC%84%9C%EC%B4%88%EA%B5%AC%20%EC%9D%B4%EC%9E%90%EC%B9%B4%EC%95%BC%20%EC%97%B4/place/1891067989?c=15.00,0,0,0,dh&isCorrectAnswer=true\n",
      "결과 한 개\n",
      "\n",
      "[크롤링 시작...]\n",
      "이자카야 열\n",
      "이자카야\n",
      "서울 서초구 강남대로 345 2층\n",
      "주문 유형 3\n",
      "코스\n",
      "메뉴 설명 없음\n",
      "리뷰 존재\n",
      "음식이 맛있어요\n",
      "특별한 메뉴가 있어요\n",
      "대화하기 좋아요\n",
      "기본 안주가 좋아요\n",
      "술이 다양해요\n",
      "['이자카야 열'] ...완료\n",
      "[데이터 수집 완료]\n",
      "소요 시간 : 13.411895275115967 \n",
      "\n",
      "24번째 가게\n"
     ]
    },
    {
     "name": "stderr",
     "output_type": "stream",
     "text": [
      "The chromedriver version (128.0.6613.137) detected in PATH at c:\\Users\\kk21\\Desktop\\TRIPER\\chromedriver.exe might not be compatible with the detected chrome version (129.0.6668.101); currently, chromedriver 129.0.6668.100 is recommended for chrome 129.*, so it is advised to delete the driver in PATH and retry\n"
     ]
    },
    {
     "name": "stdout",
     "output_type": "stream",
     "text": [
      "https://map.naver.com/p/search/%EC%84%9C%EC%B4%88%EA%B5%AC%20%EC%A7%84%EB%8F%84%EC%9A%B8%EB%8F%8C%EB%AA%A9%EA%B0%80%EB%8A%94%EA%B8%B8/place/11829787?c=15.00,0,0,0,dh&isCorrectAnswer=true\n",
      "결과 한 개\n",
      "\n",
      "[크롤링 시작...]\n",
      "진도울돌목가는길\n",
      "한정식\n",
      "서울 서초구 서초대로40길 41 대호IR빌딩\n",
      "주문 유형 3\n",
      "대표 메뉴 없음\n",
      "메뉴 설명 없음\n",
      "오류 예외 처리\n",
      "25번째 가게\n"
     ]
    },
    {
     "name": "stderr",
     "output_type": "stream",
     "text": [
      "The chromedriver version (128.0.6613.137) detected in PATH at c:\\Users\\kk21\\Desktop\\TRIPER\\chromedriver.exe might not be compatible with the detected chrome version (129.0.6668.101); currently, chromedriver 129.0.6668.100 is recommended for chrome 129.*, so it is advised to delete the driver in PATH and retry\n"
     ]
    },
    {
     "name": "stdout",
     "output_type": "stream",
     "text": [
      "https://map.naver.com/p/search/%EC%84%9C%EC%B4%88%EA%B5%AC%20%EC%9D%B4%EC%9E%90%EC%B9%B4%EC%95%BC%20%EC%97%B4/place/1891067989?c=15.00,0,0,0,dh&isCorrectAnswer=true\n",
      "결과 한 개\n",
      "\n",
      "[크롤링 시작...]\n",
      "이자카야 열\n",
      "이자카야\n",
      "서울 서초구 강남대로 345 2층\n",
      "주문 유형 3\n",
      "코스\n",
      "메뉴 설명 없음\n",
      "리뷰 존재\n",
      "음식이 맛있어요\n",
      "특별한 메뉴가 있어요\n",
      "대화하기 좋아요\n",
      "기본 안주가 좋아요\n",
      "술이 다양해요\n",
      "['이자카야 열'] ...완료\n",
      "[데이터 수집 완료]\n",
      "소요 시간 : 13.408747911453247 \n",
      "\n",
      "26번째 가게\n"
     ]
    },
    {
     "name": "stderr",
     "output_type": "stream",
     "text": [
      "The chromedriver version (128.0.6613.137) detected in PATH at c:\\Users\\kk21\\Desktop\\TRIPER\\chromedriver.exe might not be compatible with the detected chrome version (129.0.6668.101); currently, chromedriver 129.0.6668.100 is recommended for chrome 129.*, so it is advised to delete the driver in PATH and retry\n"
     ]
    },
    {
     "name": "stdout",
     "output_type": "stream",
     "text": [
      "https://map.naver.com/p/search/%EC%84%9C%EC%B4%88%EA%B5%AC%20%EC%84%9C%EC%9A%B8%EC%A3%BC%EB%A7%89%20%EA%B0%95%EB%82%A8%EC%97%AD1%ED%98%B8%EC%A0%90?c=15.00,0,0,0,dh\n",
      "결과 여러 개 존재(지점 또는 근접 지역)\n",
      "가게 없음\n",
      "27번째 가게\n"
     ]
    },
    {
     "name": "stderr",
     "output_type": "stream",
     "text": [
      "The chromedriver version (128.0.6613.137) detected in PATH at c:\\Users\\kk21\\Desktop\\TRIPER\\chromedriver.exe might not be compatible with the detected chrome version (129.0.6668.101); currently, chromedriver 129.0.6668.100 is recommended for chrome 129.*, so it is advised to delete the driver in PATH and retry\n"
     ]
    },
    {
     "name": "stdout",
     "output_type": "stream",
     "text": [
      "https://map.naver.com/p/search/%EC%84%9C%EC%B4%88%EA%B5%AC%20%EC%9D%B4%EB%A1%9C?c=15.00,0,0,0,dh\n",
      "결과 여러 개 존재(지점 또는 근접 지역)\n",
      "\n",
      "[크롤링 시작...]\n",
      "카페 이로\n",
      "카페,디저트\n",
      "서울 서초구 반포대로30길 32 1층, 지하1층\n",
      "주문 유형 3\n",
      "해치의 신수림 [하]\n",
      "메뉴 설명 없음\n",
      "리뷰 존재\n",
      "인테리어가 멋져요\n",
      "커피가 맛있어요\n",
      "디저트가 맛있어요\n",
      "특별한 메뉴가 있어요\n",
      "사진이 잘 나와요\n",
      "['카페 이로'] ...완료\n",
      "[데이터 수집 완료]\n",
      "소요 시간 : 13.371567010879517 \n",
      "\n",
      "28번째 가게\n"
     ]
    },
    {
     "name": "stderr",
     "output_type": "stream",
     "text": [
      "The chromedriver version (128.0.6613.137) detected in PATH at c:\\Users\\kk21\\Desktop\\TRIPER\\chromedriver.exe might not be compatible with the detected chrome version (129.0.6668.101); currently, chromedriver 129.0.6668.100 is recommended for chrome 129.*, so it is advised to delete the driver in PATH and retry\n"
     ]
    },
    {
     "name": "stdout",
     "output_type": "stream",
     "text": [
      "https://map.naver.com/p/search/%EC%84%9C%EC%B4%88%EA%B5%AC%20%EB%B6%80%EC%95%84%ED%85%85/place/1523807831?c=15.00,0,0,0,dh&isCorrectAnswer=true\n",
      "결과 한 개\n",
      "\n",
      "[크롤링 시작...]\n",
      "부아텅\n",
      "태국음식\n",
      "서울 서초구 사임당로 80 102호\n",
      "주문 유형 3\n",
      "뿌님팟퐁커리\n",
      "소프트 크랩을 튀겨서 옐로우커리와 함께 볶아서 만든 요리\n",
      "리뷰 존재\n",
      "음식이 맛있어요\n",
      "재료가 신선해요\n",
      "현지 맛에 가까워요\n",
      "양이 많아요\n",
      "인테리어가 멋져요\n",
      "['부아텅'] ...완료\n",
      "[데이터 수집 완료]\n",
      "소요 시간 : 13.453429698944092 \n",
      "\n",
      "29번째 가게\n"
     ]
    },
    {
     "name": "stderr",
     "output_type": "stream",
     "text": [
      "The chromedriver version (128.0.6613.137) detected in PATH at c:\\Users\\kk21\\Desktop\\TRIPER\\chromedriver.exe might not be compatible with the detected chrome version (129.0.6668.101); currently, chromedriver 129.0.6668.100 is recommended for chrome 129.*, so it is advised to delete the driver in PATH and retry\n"
     ]
    },
    {
     "name": "stdout",
     "output_type": "stream",
     "text": [
      "https://map.naver.com/p/search/%EC%84%9C%EC%B4%88%EA%B5%AC%20%EC%B2%AD%EB%8F%84%EB%AF%B8%EB%82%98%EB%A6%AC%EC%8B%9D%EB%8B%B9%20%EC%8B%A0%EB%85%BC%ED%98%84%EC%A0%90/place/1138128446?c=15.00,0,0,0,dh&isCorrectAnswer=true\n",
      "결과 한 개\n",
      "\n",
      "[크롤링 시작...]\n",
      "청도미나리식당 신논현점\n",
      "샤브샤브\n",
      "서울 서초구 사평대로 362 지층\n",
      "주문 유형 3\n",
      "미나리샤브샤브 평일점심특선(2인이상)\n",
      "11:00~15:00 한정 점심특선(주말,공휴일 제외)\n",
      "리뷰 존재\n",
      "음식이 맛있어요\n",
      "재료가 신선해요\n",
      "양이 많아요\n",
      "매장이 넓어요\n",
      "친절해요\n",
      "['청도미나리식당 신논현점'] ...완료\n",
      "[데이터 수집 완료]\n",
      "소요 시간 : 13.43470025062561 \n",
      "\n",
      "30번째 가게\n"
     ]
    },
    {
     "name": "stderr",
     "output_type": "stream",
     "text": [
      "The chromedriver version (128.0.6613.137) detected in PATH at c:\\Users\\kk21\\Desktop\\TRIPER\\chromedriver.exe might not be compatible with the detected chrome version (129.0.6668.101); currently, chromedriver 129.0.6668.100 is recommended for chrome 129.*, so it is advised to delete the driver in PATH and retry\n"
     ]
    },
    {
     "name": "stdout",
     "output_type": "stream",
     "text": [
      "https://map.naver.com/p/search/%EC%84%9C%EC%B4%88%EA%B5%AC%20%EA%B3%A0%EA%B9%83%EC%A7%91%EC%97%B4?c=15.00,0,0,0,dh\n",
      "결과 여러 개 존재(지점 또는 근접 지역)\n",
      "\n",
      "[크롤링 시작...]\n",
      "고깃집열\n",
      "육류,고기요리\n",
      "서울 서초구 서초대로78길 48 2층\n",
      "주문 유형 3\n",
      "반마리 세트\n",
      "목살과 가브리살 500G 세트메뉴 (2인 추천!)\n",
      "리뷰 존재\n",
      "음식이 맛있어요\n",
      "고기 질이 좋아요\n",
      "친절해요\n",
      "특별한 메뉴가 있어요\n",
      "양이 많아요\n",
      "['고깃집열'] ...완료\n",
      "[데이터 수집 완료]\n",
      "소요 시간 : 13.458863735198975 \n",
      "\n",
      "31번째 가게\n"
     ]
    },
    {
     "name": "stderr",
     "output_type": "stream",
     "text": [
      "The chromedriver version (128.0.6613.137) detected in PATH at c:\\Users\\kk21\\Desktop\\TRIPER\\chromedriver.exe might not be compatible with the detected chrome version (129.0.6668.101); currently, chromedriver 129.0.6668.100 is recommended for chrome 129.*, so it is advised to delete the driver in PATH and retry\n"
     ]
    },
    {
     "name": "stdout",
     "output_type": "stream",
     "text": [
      "https://map.naver.com/p/search/%EC%84%9C%EC%B4%88%EA%B5%AC%20%EB%82%A8%EB%B6%80?c=15.00,0,0,0,dh\n",
      "결과 여러 개 존재(지점 또는 근접 지역)\n",
      "\n",
      "[크롤링 시작...]\n",
      "남부\n",
      "육류,고기요리\n",
      "서울 서초구 효령로52길 5 1층\n",
      "주문 유형 3\n",
      "남부한판 600g\n",
      "숙성삼겹살,숙성꽃목살,가브리살\n",
      "리뷰 존재\n",
      "음식이 맛있어요\n",
      "친절해요\n",
      "고기 질이 좋아요\n",
      "재료가 신선해요\n",
      "특별한 메뉴가 있어요\n",
      "['남부'] ...완료\n",
      "[데이터 수집 완료]\n",
      "소요 시간 : 13.452200412750244 \n",
      "\n",
      "32번째 가게\n"
     ]
    },
    {
     "name": "stderr",
     "output_type": "stream",
     "text": [
      "The chromedriver version (128.0.6613.137) detected in PATH at c:\\Users\\kk21\\Desktop\\TRIPER\\chromedriver.exe might not be compatible with the detected chrome version (129.0.6668.101); currently, chromedriver 129.0.6668.100 is recommended for chrome 129.*, so it is advised to delete the driver in PATH and retry\n"
     ]
    },
    {
     "name": "stdout",
     "output_type": "stream",
     "text": [
      "https://map.naver.com/p/search/%EC%84%9C%EC%B4%88%EA%B5%AC%20%EA%B0%95%EC%B0%BD%EA%B5%AC%EC%B0%B9%EC%8C%80%EC%A7%84%EC%88%9C%EB%8C%80%20%EB%A7%88%ED%8F%AC%EA%BB%8D%EB%8D%B0%EA%B8%B0%EC%A7%91/place/38521849?c=15.00,0,0,0,dh&isCorrectAnswer=true\n",
      "결과 한 개\n",
      "\n",
      "[크롤링 시작...]\n",
      "강창구찹쌀진순대 마포껍데기집\n",
      "한식\n",
      "서울 서초구 사평대로 362 신영빌딩 105호 106호\n",
      "주문 유형 3\n",
      "돼지껍데기 / 마포껍데기집\n",
      "신선한 국내산 돼지고기를 사용합니다.\n",
      "리뷰 존재\n",
      "음식이 맛있어요\n",
      "친절해요\n",
      "재료가 신선해요\n",
      "가성비가 좋아요\n",
      "양이 많아요\n",
      "['강창구찹쌀진순대 마포껍데기집'] ...완료\n",
      "[데이터 수집 완료]\n",
      "소요 시간 : 13.446426153182983 \n",
      "\n",
      "33번째 가게\n"
     ]
    },
    {
     "name": "stderr",
     "output_type": "stream",
     "text": [
      "The chromedriver version (128.0.6613.137) detected in PATH at c:\\Users\\kk21\\Desktop\\TRIPER\\chromedriver.exe might not be compatible with the detected chrome version (129.0.6668.101); currently, chromedriver 129.0.6668.100 is recommended for chrome 129.*, so it is advised to delete the driver in PATH and retry\n"
     ]
    },
    {
     "name": "stdout",
     "output_type": "stream",
     "text": [
      "https://map.naver.com/p/search/%EC%84%9C%EC%B4%88%EA%B5%AC%20%EA%B0%90%EA%B2%A9%EC%8B%9C%EB%8C%80/place/37128226?c=15.00,0,0,0,dh&isCorrectAnswer=true\n",
      "결과 한 개\n",
      "\n",
      "[크롤링 시작...]\n",
      "감격시대\n",
      "육류,고기요리\n",
      "서울 서초구 서초대로50길 104 코랜드빌딩\n",
      "주문 유형 3\n",
      "스페샬 무한리필\n",
      "시대+치마살+제주오겹\n",
      "리뷰 존재\n",
      "음식이 맛있어요\n",
      "가성비가 좋아요\n",
      "양이 많아요\n",
      "친절해요\n",
      "매장이 넓어요\n",
      "['감격시대'] ...완료\n",
      "[데이터 수집 완료]\n",
      "소요 시간 : 13.414031744003296 \n",
      "\n",
      "34번째 가게\n"
     ]
    },
    {
     "name": "stderr",
     "output_type": "stream",
     "text": [
      "The chromedriver version (128.0.6613.137) detected in PATH at c:\\Users\\kk21\\Desktop\\TRIPER\\chromedriver.exe might not be compatible with the detected chrome version (129.0.6668.101); currently, chromedriver 129.0.6668.100 is recommended for chrome 129.*, so it is advised to delete the driver in PATH and retry\n"
     ]
    },
    {
     "name": "stdout",
     "output_type": "stream",
     "text": [
      "https://map.naver.com/p/search/%EC%84%9C%EC%B4%88%EA%B5%AC%20%EC%8B%9C%EA%B7%B8%EB%8B%88%EC%B2%98%EB%9E%A9%20%EB%B0%98%ED%8F%AC%EC%A0%90?c=15.00,0,0,0,dh\n",
      "결과 여러 개 존재(지점 또는 근접 지역)\n",
      "\n",
      "[크롤링 시작...]\n",
      "시그니처랩 반포점\n",
      "양식\n",
      "서울 서초구 신반포로 194 서울고속버스터미널 경부영동선 1층 승차홈 1번\n",
      "주문 유형 3\n",
      "브런치플레이트\n",
      "샐러드, 소세지, 베이컨, 스크램블에그, 호밀빵\n",
      "리뷰 존재\n",
      "음식이 맛있어요\n",
      "가성비가 좋아요\n",
      "재료가 신선해요\n",
      "친절해요\n",
      "매장이 청결해요\n",
      "['시그니처랩 반포점'] ...완료\n",
      "[데이터 수집 완료]\n",
      "소요 시간 : 13.38630986213684 \n",
      "\n",
      "35번째 가게\n"
     ]
    },
    {
     "name": "stderr",
     "output_type": "stream",
     "text": [
      "The chromedriver version (128.0.6613.137) detected in PATH at c:\\Users\\kk21\\Desktop\\TRIPER\\chromedriver.exe might not be compatible with the detected chrome version (129.0.6668.101); currently, chromedriver 129.0.6668.100 is recommended for chrome 129.*, so it is advised to delete the driver in PATH and retry\n"
     ]
    },
    {
     "name": "stdout",
     "output_type": "stream",
     "text": [
      "https://map.naver.com/p/search/%EC%84%9C%EC%B4%88%EA%B5%AC%20%EB%B3%B4%EA%B8%80%EC%9D%B4%20%EC%83%9D%ED%83%9C%ED%83%95%EC%99%95%EC%BD%94%EB%8B%A4%EB%A6%AC%20%EC%96%91%EC%9E%AC%EC%97%AD%EC%A0%90/place/1932467805?c=15.00,0,0,0,dh&isCorrectAnswer=true\n",
      "결과 한 개\n",
      "\n",
      "[크롤링 시작...]\n",
      "보글이 생태탕왕코다리 양재역점\n",
      "해물,생선요리\n",
      "서울 서초구 강남대로37길 56-18 서초에메랄드빌딩 1층\n",
      "주문 유형 3\n",
      "해물철판中\n",
      "산낙지+산전복+산가리비 등 각종생물이 들어간 해물철판요리\n",
      "리뷰 존재\n",
      "음식이 맛있어요\n",
      "재료가 신선해요\n",
      "가성비가 좋아요\n",
      "친절해요\n",
      "매장이 청결해요\n",
      "['보글이 생태탕왕코다리 양재역점'] ...완료\n",
      "[데이터 수집 완료]\n",
      "소요 시간 : 13.403652906417847 \n",
      "\n",
      "36번째 가게\n"
     ]
    },
    {
     "name": "stderr",
     "output_type": "stream",
     "text": [
      "The chromedriver version (128.0.6613.137) detected in PATH at c:\\Users\\kk21\\Desktop\\TRIPER\\chromedriver.exe might not be compatible with the detected chrome version (129.0.6668.101); currently, chromedriver 129.0.6668.100 is recommended for chrome 129.*, so it is advised to delete the driver in PATH and retry\n"
     ]
    },
    {
     "name": "stdout",
     "output_type": "stream",
     "text": [
      "https://map.naver.com/p/search/%EC%84%9C%EC%B4%88%EA%B5%AC%20%ED%8A%B8%EB%9D%BC%EA%B0%80%20%EA%B0%95%EB%82%A8%EC%97%AD%EC%A0%90/place/1687684396?c=15.00,0,0,0,dh&isCorrectAnswer=true\n",
      "결과 한 개\n",
      "\n",
      "[크롤링 시작...]\n",
      "트라가 강남역점\n",
      "스페인음식\n",
      "서울 서초구 강남대로55길 24 2층 201호 트라가\n",
      "주문 유형 3\n",
      "트라가세트(2인)\n",
      "트라가미니빠에야+감바스피칸테+이베리코스테이크250g+하몽샐러드로 구성된 2인 세트\n",
      "리뷰 존재\n",
      "음식이 맛있어요\n",
      "친절해요\n",
      "특별한 메뉴가 있어요\n",
      "재료가 신선해요\n",
      "인테리어가 멋져요\n",
      "['트라가 강남역점'] ...완료\n",
      "[데이터 수집 완료]\n",
      "소요 시간 : 13.437315702438354 \n",
      "\n",
      "37번째 가게\n"
     ]
    },
    {
     "name": "stderr",
     "output_type": "stream",
     "text": [
      "The chromedriver version (128.0.6613.137) detected in PATH at c:\\Users\\kk21\\Desktop\\TRIPER\\chromedriver.exe might not be compatible with the detected chrome version (129.0.6668.101); currently, chromedriver 129.0.6668.100 is recommended for chrome 129.*, so it is advised to delete the driver in PATH and retry\n"
     ]
    },
    {
     "name": "stdout",
     "output_type": "stream",
     "text": [
      "https://map.naver.com/p/search/%EC%84%9C%EC%B4%88%EA%B5%AC%20%ED%8C%8C%EC%9D%B4%EB%B8%8C%EA%B0%80%EC%9D%B4%EC%A6%88%20%EA%B0%95%EB%82%A8?c=15.00,0,0,0,dh\n",
      "결과 여러 개 존재(지점 또는 근접 지역)\n",
      "\n",
      "[크롤링 시작...]\n",
      "파이브가이즈 강남\n",
      "햄버거\n",
      "서울 서초구 강남대로 435 주류성빌딩 1층, 2층\n",
      "주문 유형 3\n",
      "햄버거\n",
      "메뉴 설명 없음\n",
      "리뷰 존재\n",
      "음식이 맛있어요\n",
      "양이 많아요\n",
      "특별한 메뉴가 있어요\n",
      "재료가 신선해요\n",
      "매장이 넓어요\n",
      "['파이브가이즈 강남'] ...완료\n",
      "[데이터 수집 완료]\n",
      "소요 시간 : 13.386147499084473 \n",
      "\n",
      "38번째 가게\n"
     ]
    },
    {
     "name": "stderr",
     "output_type": "stream",
     "text": [
      "The chromedriver version (128.0.6613.137) detected in PATH at c:\\Users\\kk21\\Desktop\\TRIPER\\chromedriver.exe might not be compatible with the detected chrome version (129.0.6668.101); currently, chromedriver 129.0.6668.100 is recommended for chrome 129.*, so it is advised to delete the driver in PATH and retry\n"
     ]
    },
    {
     "name": "stdout",
     "output_type": "stream",
     "text": [
      "https://map.naver.com/p/search/%EC%84%9C%EC%B4%88%EA%B5%AC%20%EB%8F%84%EB%9D%BC%EC%8A%A4%EC%8B%9C%20%EB%82%A8%EB%B6%80%ED%84%B0%EB%AF%B8%EB%84%90%EC%A0%90/place/1857250368?c=15.00,0,0,0,dh&isCorrectAnswer=true\n",
      "결과 한 개\n",
      "\n",
      "[크롤링 시작...]\n",
      "도라스시 남부터미널점\n",
      "초밥,롤\n",
      "서울 서초구 효령로60길 23-4\n",
      "주문 유형 3\n",
      "도라스페셜(14p)추천\n",
      "메뉴 설명 없음\n",
      "리뷰 존재\n",
      "음식이 맛있어요\n",
      "재료가 신선해요\n",
      "친절해요\n",
      "매장이 청결해요\n",
      "매장이 넓어요\n",
      "['도라스시 남부터미널점'] ...완료\n",
      "[데이터 수집 완료]\n",
      "소요 시간 : 13.407266616821289 \n",
      "\n",
      "39번째 가게\n"
     ]
    },
    {
     "name": "stderr",
     "output_type": "stream",
     "text": [
      "The chromedriver version (128.0.6613.137) detected in PATH at c:\\Users\\kk21\\Desktop\\TRIPER\\chromedriver.exe might not be compatible with the detected chrome version (129.0.6668.101); currently, chromedriver 129.0.6668.100 is recommended for chrome 129.*, so it is advised to delete the driver in PATH and retry\n"
     ]
    },
    {
     "name": "stdout",
     "output_type": "stream",
     "text": [
      "https://map.naver.com/p/search/%EC%84%9C%EC%B4%88%EA%B5%AC%20%EB%B4%89%EA%B5%AC%EA%B0%80%EB%9E%98%EB%96%A1%EB%B3%B6%EC%9D%B4%20%EC%9D%B4%EC%88%98%EC%97%AD%EC%A0%90/place/1243180162?c=15.00,0,0,0,dh&isCorrectAnswer=true\n",
      "결과 한 개\n",
      "\n",
      "[크롤링 시작...]\n",
      "봉구가래떡볶이 이수역점\n",
      "종합분식\n",
      "서울 서초구 서초대로1길 12 1층\n",
      "주문 유형 3\n",
      "봉구가래떡볶이\n",
      "봉구가래떡볶이+찰순대+모듬튀김\n",
      "리뷰 존재\n",
      "음식이 맛있어요\n",
      "친절해요\n",
      "특별한 메뉴가 있어요\n",
      "가성비가 좋아요\n",
      "양이 많아요\n",
      "['봉구가래떡볶이 이수역점'] ...완료\n",
      "[데이터 수집 완료]\n",
      "소요 시간 : 13.428423881530762 \n",
      "\n",
      "40번째 가게\n"
     ]
    },
    {
     "name": "stderr",
     "output_type": "stream",
     "text": [
      "The chromedriver version (128.0.6613.137) detected in PATH at c:\\Users\\kk21\\Desktop\\TRIPER\\chromedriver.exe might not be compatible with the detected chrome version (129.0.6668.101); currently, chromedriver 129.0.6668.100 is recommended for chrome 129.*, so it is advised to delete the driver in PATH and retry\n"
     ]
    },
    {
     "name": "stdout",
     "output_type": "stream",
     "text": [
      "https://map.naver.com/p/search/%EC%84%9C%EC%B4%88%EA%B5%AC%207%EB%B2%88%EB%B0%A9%20%EA%B0%95%EB%82%A8%EC%A0%90/place/13015562?c=15.00,0,0,0,dh&isCorrectAnswer=true\n",
      "결과 한 개\n",
      "\n",
      "[크롤링 시작...]\n",
      "7번방 강남점\n",
      "요리주점\n",
      "서울 서초구 서초대로77길 43 경원빌딩\n",
      "주문 유형 3\n",
      "뉴욕스테이크\n",
      "스테이크와 와인 한 잔 어때요~ ?\n",
      "리뷰 존재\n",
      "음식이 맛있어요\n",
      "인테리어가 멋져요\n",
      "술이 다양해요\n",
      "대화하기 좋아요\n",
      "기본 안주가 좋아요\n",
      "['7번방 강남점'] ...완료\n",
      "[데이터 수집 완료]\n",
      "소요 시간 : 13.416387796401978 \n",
      "\n",
      "41번째 가게\n"
     ]
    },
    {
     "name": "stderr",
     "output_type": "stream",
     "text": [
      "The chromedriver version (128.0.6613.137) detected in PATH at c:\\Users\\kk21\\Desktop\\TRIPER\\chromedriver.exe might not be compatible with the detected chrome version (129.0.6668.101); currently, chromedriver 129.0.6668.100 is recommended for chrome 129.*, so it is advised to delete the driver in PATH and retry\n"
     ]
    },
    {
     "name": "stdout",
     "output_type": "stream",
     "text": [
      "https://map.naver.com/p/search/%EC%84%9C%EC%B4%88%EA%B5%AC%20%EB%A6%AC%ED%96%A5?c=15.00,0,0,0,dh\n",
      "결과 여러 개 존재(지점 또는 근접 지역)\n",
      "\n",
      "[크롤링 시작...]\n",
      "리향\n",
      "중식당\n",
      "서울 서초구 반포대로28길 15 아카디아빌딩\n",
      "주문 유형 3\n",
      "런치 코스요리\n",
      "메뉴 설명 없음\n",
      "리뷰 존재\n",
      "음식이 맛있어요\n",
      "친절해요\n",
      "단체모임 하기 좋아요\n",
      "재료가 신선해요\n",
      "가성비가 좋아요\n",
      "['리향'] ...완료\n",
      "[데이터 수집 완료]\n",
      "소요 시간 : 13.393145561218262 \n",
      "\n",
      "42번째 가게\n"
     ]
    },
    {
     "name": "stderr",
     "output_type": "stream",
     "text": [
      "The chromedriver version (128.0.6613.137) detected in PATH at c:\\Users\\kk21\\Desktop\\TRIPER\\chromedriver.exe might not be compatible with the detected chrome version (129.0.6668.101); currently, chromedriver 129.0.6668.100 is recommended for chrome 129.*, so it is advised to delete the driver in PATH and retry\n"
     ]
    },
    {
     "name": "stdout",
     "output_type": "stream",
     "text": [
      "https://map.naver.com/p/search/%EC%84%9C%EC%B4%88%EA%B5%AC%20%EC%98%A4%EA%B0%90%EC%AD%88%EA%BE%B8%EB%AF%B8?c=15.00,0,0,0,dh\n",
      "결과 여러 개 존재(지점 또는 근접 지역)\n",
      "\n",
      "[크롤링 시작...]\n",
      "오감쭈꾸미\n",
      "주꾸미요리\n",
      "서울 서초구 방배천로 12-11\n",
      "주문 유형 3\n",
      "쭈꾸미차돌백이\n",
      "메뉴 설명 없음\n",
      "리뷰 존재\n",
      "음식이 맛있어요\n",
      "친절해요\n",
      "재료가 신선해요\n",
      "가성비가 좋아요\n",
      "양이 많아요\n",
      "['오감쭈꾸미'] ...완료\n",
      "[데이터 수집 완료]\n",
      "소요 시간 : 13.415053367614746 \n",
      "\n",
      "43번째 가게\n"
     ]
    },
    {
     "name": "stderr",
     "output_type": "stream",
     "text": [
      "The chromedriver version (128.0.6613.137) detected in PATH at c:\\Users\\kk21\\Desktop\\TRIPER\\chromedriver.exe might not be compatible with the detected chrome version (129.0.6668.101); currently, chromedriver 129.0.6668.100 is recommended for chrome 129.*, so it is advised to delete the driver in PATH and retry\n"
     ]
    },
    {
     "name": "stdout",
     "output_type": "stream",
     "text": [
      "https://map.naver.com/p/search/%EC%84%9C%EC%B4%88%EA%B5%AC%20%EB%94%98%ED%83%80%EC%9D%B4%ED%8E%91%20%EA%B0%95%EB%82%A8%EC%A0%90?c=15.00,0,0,0,dh\n",
      "결과 여러 개 존재(지점 또는 근접 지역)\n",
      "\n",
      "[크롤링 시작...]\n",
      "딘타이펑 강남점\n",
      "중식당\n",
      "서울 서초구 서초대로73길 12 세계빌딩\n",
      "주문 유형 3\n",
      "샤오롱바오(4)\n",
      "꿔바로우(소) - 21,000원\n",
      "리뷰 존재\n",
      "음식이 맛있어요\n",
      "매장이 넓어요\n",
      "친절해요\n",
      "특별한 메뉴가 있어요\n",
      "매장이 청결해요\n",
      "['딘타이펑 강남점'] ...완료\n",
      "[데이터 수집 완료]\n",
      "소요 시간 : 13.393388032913208 \n",
      "\n",
      "44번째 가게\n"
     ]
    },
    {
     "name": "stderr",
     "output_type": "stream",
     "text": [
      "The chromedriver version (128.0.6613.137) detected in PATH at c:\\Users\\kk21\\Desktop\\TRIPER\\chromedriver.exe might not be compatible with the detected chrome version (129.0.6668.101); currently, chromedriver 129.0.6668.100 is recommended for chrome 129.*, so it is advised to delete the driver in PATH and retry\n"
     ]
    },
    {
     "name": "stdout",
     "output_type": "stream",
     "text": [
      "https://map.naver.com/p/search/%EC%84%9C%EC%B4%88%EA%B5%AC%20%EA%B3%A0%EC%97%90%EB%AA%AC%20%EA%B0%95%EB%82%A8%EC%A0%90/place/31413936?c=15.00,0,0,0,dh&isCorrectAnswer=true\n",
      "결과 한 개\n",
      "\n",
      "[크롤링 시작...]\n",
      "고에몬 강남점\n",
      "스파게티,파스타전문\n",
      "서울 서초구 서초대로77길 7 서초빌딩 1층\n",
      "주문 유형 3\n",
      "까르보나라 멘타이꼬(명란파스타)\n",
      "메뉴 설명 없음\n",
      "리뷰 존재\n",
      "음식이 맛있어요\n",
      "특별한 메뉴가 있어요\n",
      "친절해요\n",
      "양이 많아요\n",
      "혼밥하기 좋아요\n",
      "['고에몬 강남점'] ...완료\n",
      "[데이터 수집 완료]\n",
      "소요 시간 : 13.426820278167725 \n",
      "\n",
      "45번째 가게\n"
     ]
    },
    {
     "name": "stderr",
     "output_type": "stream",
     "text": [
      "The chromedriver version (128.0.6613.137) detected in PATH at c:\\Users\\kk21\\Desktop\\TRIPER\\chromedriver.exe might not be compatible with the detected chrome version (129.0.6668.101); currently, chromedriver 129.0.6668.100 is recommended for chrome 129.*, so it is advised to delete the driver in PATH and retry\n"
     ]
    },
    {
     "name": "stdout",
     "output_type": "stream",
     "text": [
      "https://map.naver.com/p/search/%EC%84%9C%EC%B4%88%EA%B5%AC%20%EA%B0%95%EB%82%A8%EC%97%AD%ED%8C%8C%EC%8A%A4%ED%83%80?c=15.00,0,0,0,dh\n",
      "결과 여러 개 존재(지점 또는 근접 지역)\n",
      "\n",
      "[크롤링 시작...]\n",
      "강남역파스타\n",
      "스파게티,파스타전문\n",
      "서울 서초구 서초대로73길 24\n",
      "주문 유형 3\n",
      "후레쉬모짜렐라피자\n",
      "메뉴 설명 없음\n",
      "리뷰 존재\n",
      "음식이 맛있어요\n",
      "매장이 넓어요\n",
      "가성비가 좋아요\n",
      "양이 많아요\n",
      "혼밥하기 좋아요\n",
      "['강남역파스타'] ...완료\n",
      "[데이터 수집 완료]\n",
      "소요 시간 : 13.445513725280762 \n",
      "\n",
      "46번째 가게\n"
     ]
    },
    {
     "name": "stderr",
     "output_type": "stream",
     "text": [
      "The chromedriver version (128.0.6613.137) detected in PATH at c:\\Users\\kk21\\Desktop\\TRIPER\\chromedriver.exe might not be compatible with the detected chrome version (129.0.6668.101); currently, chromedriver 129.0.6668.100 is recommended for chrome 129.*, so it is advised to delete the driver in PATH and retry\n"
     ]
    },
    {
     "name": "stdout",
     "output_type": "stream",
     "text": [
      "https://map.naver.com/p/search/%EC%84%9C%EC%B4%88%EA%B5%AC%20%EC%98%A4%EC%9A%B0%EC%95%84/place/1856863622?c=15.00,0,0,0,dh&isCorrectAnswer=true\n",
      "결과 한 개\n",
      "\n",
      "[크롤링 시작...]\n",
      "오우아\n",
      "카페,디저트\n",
      "서울 서초구 방배천로6길 3-4 1층\n",
      "주문 유형 3\n",
      "단호박케이크\n",
      "오우아의 모든 메뉴는 매장에서 직접 만들어집니다.\n",
      "리뷰 존재\n",
      "디저트가 맛있어요\n",
      "커피가 맛있어요\n",
      "음료가 맛있어요\n",
      "인테리어가 멋져요\n",
      "특별한 메뉴가 있어요\n",
      "['오우아'] ...완료\n",
      "[데이터 수집 완료]\n",
      "소요 시간 : 13.404367685317993 \n",
      "\n",
      "47번째 가게\n"
     ]
    },
    {
     "name": "stderr",
     "output_type": "stream",
     "text": [
      "The chromedriver version (128.0.6613.137) detected in PATH at c:\\Users\\kk21\\Desktop\\TRIPER\\chromedriver.exe might not be compatible with the detected chrome version (129.0.6668.101); currently, chromedriver 129.0.6668.100 is recommended for chrome 129.*, so it is advised to delete the driver in PATH and retry\n"
     ]
    },
    {
     "name": "stdout",
     "output_type": "stream",
     "text": [
      "https://map.naver.com/p/search/%EC%84%9C%EC%B4%88%EA%B5%AC%20%EB%8D%94%20%EB%A6%AC%EB%B2%84%EC%82%AC%EC%9D%B4%EB%93%9C%20%ED%98%B8%ED%85%94%20%EB%B7%94%ED%8E%98%20%EB%8D%94%EA%B0%80%EB%93%A0%ED%82%A4%EC%B9%9C/place/18282060?c=15.00,0,0,0,dh&isCorrectAnswer=true\n",
      "결과 한 개\n",
      "\n",
      "[크롤링 시작...]\n",
      "더 리버사이드 호텔 뷔페 더가든키친\n",
      "뷔페\n",
      "서울 서초구 강남대로107길 6 1층\n",
      "주문 유형 3\n",
      "[12월] 주중 런치\n",
      "성인기준 (어린이 50%)\n",
      "리뷰 존재\n",
      "음식이 맛있어요\n",
      "가성비가 좋아요\n",
      "메뉴 구성이 알차요\n",
      "친절해요\n",
      "단체모임 하기 좋아요\n",
      "['더 리버사이드 호텔 뷔페 더가든키친'] ...완료\n",
      "[데이터 수집 완료]\n",
      "소요 시간 : 13.44297480583191 \n",
      "\n",
      "48번째 가게\n"
     ]
    },
    {
     "name": "stderr",
     "output_type": "stream",
     "text": [
      "The chromedriver version (128.0.6613.137) detected in PATH at c:\\Users\\kk21\\Desktop\\TRIPER\\chromedriver.exe might not be compatible with the detected chrome version (129.0.6668.101); currently, chromedriver 129.0.6668.100 is recommended for chrome 129.*, so it is advised to delete the driver in PATH and retry\n"
     ]
    },
    {
     "name": "stdout",
     "output_type": "stream",
     "text": [
      "https://map.naver.com/p/search/%EC%84%9C%EC%B4%88%EA%B5%AC%20%EB%94%B0%EB%A1%B1%EC%9D%B4%ED%9B%A0%EA%B6%88%20%EA%B0%95%EB%82%A8%EC%A0%90/place/1604806023?c=15.00,0,0,0,dh&isCorrectAnswer=true\n",
      "결과 한 개\n",
      "\n",
      "[크롤링 시작...]\n",
      "따롱이훠궈 강남점\n",
      "중식당\n",
      "서울 서초구 서초대로73길 9 2층\n",
      "주문 유형 3\n",
      "점심 특선 세트(1~2인분)\n",
      "메뉴 설명 없음\n",
      "리뷰 존재\n",
      "음식이 맛있어요\n",
      "재료가 신선해요\n",
      "인테리어가 멋져요\n",
      "매장이 넓어요\n",
      "친절해요\n",
      "['따롱이훠궈 강남점'] ...완료\n",
      "[데이터 수집 완료]\n",
      "소요 시간 : 13.489872455596924 \n",
      "\n",
      "49번째 가게\n"
     ]
    },
    {
     "name": "stderr",
     "output_type": "stream",
     "text": [
      "The chromedriver version (128.0.6613.137) detected in PATH at c:\\Users\\kk21\\Desktop\\TRIPER\\chromedriver.exe might not be compatible with the detected chrome version (129.0.6668.101); currently, chromedriver 129.0.6668.100 is recommended for chrome 129.*, so it is advised to delete the driver in PATH and retry\n"
     ]
    },
    {
     "name": "stdout",
     "output_type": "stream",
     "text": [
      "https://map.naver.com/p/search/%EC%84%9C%EC%B4%88%EA%B5%AC%20%EB%82%9C%EB%B0%94%EC%9A%B0%EB%8F%99&%EC%9D%B4%EC%9E%90%EC%B9%B4%EC%95%BC%20%EC%82%AC%EB%8B%B9%EB%B3%B8%EC%A0%90/place/1395173053?c=15.00,0,0,0,dh&isCorrectAnswer=true\n",
      "결과 한 개\n",
      "\n",
      "[크롤링 시작...]\n",
      "난바우동&이자카야 사당본점\n",
      "이자카야\n",
      "서울 서초구 동작대로 56 1층\n",
      "주문 유형 3\n",
      "카라이 에비야끼\n",
      "우동면과 야채,새우를 매콤한 소스에 볶아낸 볶음요리\n",
      "리뷰 존재\n",
      "음식이 맛있어요\n",
      "친절해요\n",
      "인테리어가 멋져요\n",
      "대화하기 좋아요\n",
      "술이 다양해요\n",
      "['난바우동&이자카야 사당본점'] ...완료\n",
      "[데이터 수집 완료]\n",
      "소요 시간 : 13.429766654968262 \n",
      "\n",
      "50번째 가게\n"
     ]
    },
    {
     "name": "stderr",
     "output_type": "stream",
     "text": [
      "The chromedriver version (128.0.6613.137) detected in PATH at c:\\Users\\kk21\\Desktop\\TRIPER\\chromedriver.exe might not be compatible with the detected chrome version (129.0.6668.101); currently, chromedriver 129.0.6668.100 is recommended for chrome 129.*, so it is advised to delete the driver in PATH and retry\n"
     ]
    },
    {
     "name": "stdout",
     "output_type": "stream",
     "text": [
      "https://map.naver.com/p/search/%EC%84%9C%EC%B4%88%EA%B5%AC%20%ED%9A%A8%EB%8F%84%EC%B9%98%ED%82%A8%20%EA%B0%95%EB%82%A8%EA%B3%A0%EC%86%8D%EB%B2%84%EC%8A%A4%ED%84%B0%EB%AF%B8%EB%84%90%EC%A0%90/place/1858789843?c=15.00,0,0,0,dh&isCorrectAnswer=true\n",
      "결과 한 개\n",
      "\n",
      "[크롤링 시작...]\n",
      "효도치킨 강남고속버스터미널점\n",
      "치킨,닭강정\n",
      "서울 서초구 신반포로 194 1층 3호\n",
      "주문 유형 3\n",
      "대표 메뉴 없음\n",
      "메뉴 설명 없음\n",
      "오류 예외 처리\n",
      "51번째 가게\n"
     ]
    },
    {
     "name": "stderr",
     "output_type": "stream",
     "text": [
      "The chromedriver version (128.0.6613.137) detected in PATH at c:\\Users\\kk21\\Desktop\\TRIPER\\chromedriver.exe might not be compatible with the detected chrome version (129.0.6668.101); currently, chromedriver 129.0.6668.100 is recommended for chrome 129.*, so it is advised to delete the driver in PATH and retry\n"
     ]
    },
    {
     "name": "stdout",
     "output_type": "stream",
     "text": [
      "https://map.naver.com/p/search/%EC%84%9C%EC%B4%88%EA%B5%AC%20%EC%8A%A4%EC%9C%84%ED%8A%B8%ED%8C%8C%ED%81%AC%EC%8B%A0%EC%84%B8%EA%B3%84%EB%B0%B1%ED%99%94%EC%A0%90%EA%B0%95%EB%82%A8%EC%A0%90?c=15.00,0,0,0,dh\n",
      "결과 여러 개 존재(지점 또는 근접 지역)\n",
      "\n",
      "[크롤링 시작...]\n",
      "스위트파크신세계백화점강남점\n",
      "카페,디저트\n",
      "서울 서초구 신반포로 176 센트럴시티\n",
      "주문 유형 3\n",
      "대표 메뉴 없음\n",
      "메뉴 설명 없음\n",
      "리뷰 존재\n",
      "디저트가 맛있어요\n",
      "특별한 메뉴가 있어요\n",
      "친절해요\n",
      "커피가 맛있어요\n",
      "음료가 맛있어요\n",
      "['스위트파크신세계백화점강남점'] ...완료\n",
      "[데이터 수집 완료]\n",
      "소요 시간 : 10.295280456542969 \n",
      "\n",
      "52번째 가게\n"
     ]
    },
    {
     "name": "stderr",
     "output_type": "stream",
     "text": [
      "The chromedriver version (128.0.6613.137) detected in PATH at c:\\Users\\kk21\\Desktop\\TRIPER\\chromedriver.exe might not be compatible with the detected chrome version (129.0.6668.101); currently, chromedriver 129.0.6668.100 is recommended for chrome 129.*, so it is advised to delete the driver in PATH and retry\n"
     ]
    },
    {
     "name": "stdout",
     "output_type": "stream",
     "text": [
      "https://map.naver.com/p/search/%EC%84%9C%EC%B4%88%EA%B5%AC%20%EC%B9%B4%EC%B8%A0%EA%B3%B5%EB%B0%A9%20%EC%84%9C%EC%B4%88%EB%B3%B8%EC%A0%90?c=15.00,0,0,0,dh\n",
      "결과 여러 개 존재(지점 또는 근접 지역)\n",
      "\n",
      "[크롤링 시작...]\n",
      "카츠공방 서초본점\n",
      "돈가스\n",
      "서울 서초구 효령로52길 1 1층\n",
      "주문 유형 3\n",
      "모듬카츠\n",
      "메뉴 설명 없음\n",
      "리뷰 존재\n",
      "음식이 맛있어요\n",
      "친절해요\n",
      "재료가 신선해요\n",
      "혼밥하기 좋아요\n",
      "양이 많아요\n",
      "['카츠공방 서초본점'] ...완료\n",
      "[데이터 수집 완료]\n",
      "소요 시간 : 13.392544984817505 \n",
      "\n",
      "53번째 가게\n"
     ]
    },
    {
     "name": "stderr",
     "output_type": "stream",
     "text": [
      "The chromedriver version (128.0.6613.137) detected in PATH at c:\\Users\\kk21\\Desktop\\TRIPER\\chromedriver.exe might not be compatible with the detected chrome version (129.0.6668.101); currently, chromedriver 129.0.6668.100 is recommended for chrome 129.*, so it is advised to delete the driver in PATH and retry\n"
     ]
    },
    {
     "name": "stdout",
     "output_type": "stream",
     "text": [
      "https://map.naver.com/p/search/%EC%84%9C%EC%B4%88%EA%B5%AC%20%ED%99%94%EC%94%A8%EC%9D%B4%EC%9C%A1%EA%B3%B5%20%EC%82%AC%EB%8B%B9%EC%A0%90/place/1080492815?c=15.00,0,0,0,dh&isCorrectAnswer=true\n",
      "결과 한 개\n",
      "\n",
      "[크롤링 시작...]\n",
      "화씨이육공 사당점\n",
      "육류,고기요리\n",
      "서울 서초구 방배천로2길 15 1층 화씨이육공\n",
      "주문 유형 3\n",
      "몽둥이삼겹살\n",
      "180g(2인분씩 주문 가능)\n",
      "리뷰 존재\n",
      "음식이 맛있어요\n",
      "고기 질이 좋아요\n",
      "친절해요\n",
      "인테리어가 멋져요\n",
      "직접 잘 구워줘요\n",
      "['화씨이육공 사당점'] ...완료\n",
      "[데이터 수집 완료]\n",
      "소요 시간 : 13.400791645050049 \n",
      "\n",
      "54번째 가게\n"
     ]
    },
    {
     "name": "stderr",
     "output_type": "stream",
     "text": [
      "The chromedriver version (128.0.6613.137) detected in PATH at c:\\Users\\kk21\\Desktop\\TRIPER\\chromedriver.exe might not be compatible with the detected chrome version (129.0.6668.101); currently, chromedriver 129.0.6668.100 is recommended for chrome 129.*, so it is advised to delete the driver in PATH and retry\n"
     ]
    },
    {
     "name": "stdout",
     "output_type": "stream",
     "text": [
      "https://map.naver.com/p/search/%EC%84%9C%EC%B4%88%EA%B5%AC%20%EC%98%A5%EC%86%8C%EB%B0%98%20%EA%B5%90%EB%8C%80%EC%97%AD%EC%A0%90?c=15.00,0,0,0,dh\n",
      "결과 여러 개 존재(지점 또는 근접 지역)\n",
      "\n",
      "[크롤링 시작...]\n",
      "옥소반 교대역점\n",
      "샤브샤브\n",
      "서울 서초구 서초대로48길 32 1층\n",
      "주문 유형 3\n",
      "런치A세트-스키야키(미국산전각)\n",
      "쇠고기(미국산전각80g)신선한야채,생계란,은행,두부,곤약,볶음밥or야끼우동(택1)\n",
      "리뷰 존재\n",
      "음식이 맛있어요\n",
      "재료가 신선해요\n",
      "친절해요\n",
      "특별한 메뉴가 있어요\n",
      "가성비가 좋아요\n",
      "['옥소반 교대역점'] ...완료\n",
      "[데이터 수집 완료]\n",
      "소요 시간 : 13.425378322601318 \n",
      "\n",
      "55번째 가게\n"
     ]
    },
    {
     "name": "stderr",
     "output_type": "stream",
     "text": [
      "The chromedriver version (128.0.6613.137) detected in PATH at c:\\Users\\kk21\\Desktop\\TRIPER\\chromedriver.exe might not be compatible with the detected chrome version (129.0.6668.101); currently, chromedriver 129.0.6668.100 is recommended for chrome 129.*, so it is advised to delete the driver in PATH and retry\n"
     ]
    },
    {
     "name": "stdout",
     "output_type": "stream",
     "text": [
      "https://map.naver.com/p/search/%EC%84%9C%EC%B4%88%EA%B5%AC%20%EB%A6%AC%EC%97%90%EB%98%90?c=15.00,0,0,0,dh\n",
      "결과 여러 개 존재(지점 또는 근접 지역)\n",
      "\n",
      "[크롤링 시작...]\n",
      "리에또\n",
      "스파게티,파스타전문\n",
      "서울 서초구 방배천로4안길 20\n",
      "주문 유형 3\n",
      "식전빵\n",
      "음식을 주문하면 서비스로 드리는 식전빵 입니다\n",
      "리뷰 존재\n",
      "음식이 맛있어요\n",
      "가성비가 좋아요\n",
      "양이 많아요\n",
      "친절해요\n",
      "재료가 신선해요\n",
      "['리에또'] ...완료\n",
      "[데이터 수집 완료]\n",
      "소요 시간 : 13.437875747680664 \n",
      "\n",
      "56번째 가게\n"
     ]
    },
    {
     "name": "stderr",
     "output_type": "stream",
     "text": [
      "The chromedriver version (128.0.6613.137) detected in PATH at c:\\Users\\kk21\\Desktop\\TRIPER\\chromedriver.exe might not be compatible with the detected chrome version (129.0.6668.101); currently, chromedriver 129.0.6668.100 is recommended for chrome 129.*, so it is advised to delete the driver in PATH and retry\n"
     ]
    },
    {
     "name": "stdout",
     "output_type": "stream",
     "text": [
      "https://map.naver.com/p/search/%EC%84%9C%EC%B4%88%EA%B5%AC%20%EB%B0%A9%EB%B0%B0%EB%8F%99%EC%8C%80%EA%B5%AD%EC%88%98?c=15.00,0,0,0,dh\n",
      "결과 여러 개 존재(지점 또는 근접 지역)\n",
      "\n",
      "[크롤링 시작...]\n",
      "방배동쌀국수\n",
      "베트남음식\n",
      "서울 서초구 방배천로8길 34 1층 방배동쌀국수\n",
      "주문 유형 3\n",
      "양지쌀국수\n",
      "메뉴 설명 없음\n",
      "리뷰 존재\n",
      "음식이 맛있어요\n",
      "재료가 신선해요\n",
      "양이 많아요\n",
      "친절해요\n",
      "혼밥하기 좋아요\n",
      "['방배동쌀국수'] ...완료\n",
      "[데이터 수집 완료]\n",
      "소요 시간 : 13.383938789367676 \n",
      "\n",
      "57번째 가게\n"
     ]
    },
    {
     "name": "stderr",
     "output_type": "stream",
     "text": [
      "The chromedriver version (128.0.6613.137) detected in PATH at c:\\Users\\kk21\\Desktop\\TRIPER\\chromedriver.exe might not be compatible with the detected chrome version (129.0.6668.101); currently, chromedriver 129.0.6668.100 is recommended for chrome 129.*, so it is advised to delete the driver in PATH and retry\n"
     ]
    },
    {
     "name": "stdout",
     "output_type": "stream",
     "text": [
      "https://map.naver.com/p/search/%EC%84%9C%EC%B4%88%EA%B5%AC%20%EC%A7%84%EB%8C%80%EA%B0%90%20%EA%B5%90%EB%8C%80%EC%A0%90?c=15.00,0,0,0,dh\n",
      "결과 여러 개 존재(지점 또는 근접 지역)\n",
      "\n",
      "[크롤링 시작...]\n",
      "진대감 교대점\n",
      "소고기구이\n",
      "서울 서초구 서초대로50길 62-9 한림빌딩\n",
      "주문 유형 3\n",
      "한우차돌삼합\n",
      "한우 1등급이상의 차돌박이와 서해안 키조개 관자, 그리고 곁들임 찬 세 가지 합\n",
      "리뷰 존재\n",
      "음식이 맛있어요\n",
      "친절해요\n",
      "특별한 메뉴가 있어요\n",
      "재료가 신선해요\n",
      "매장이 청결해요\n",
      "['진대감 교대점'] ...완료\n",
      "[데이터 수집 완료]\n",
      "소요 시간 : 13.409843444824219 \n",
      "\n",
      "58번째 가게\n"
     ]
    },
    {
     "name": "stderr",
     "output_type": "stream",
     "text": [
      "The chromedriver version (128.0.6613.137) detected in PATH at c:\\Users\\kk21\\Desktop\\TRIPER\\chromedriver.exe might not be compatible with the detected chrome version (129.0.6668.101); currently, chromedriver 129.0.6668.100 is recommended for chrome 129.*, so it is advised to delete the driver in PATH and retry\n"
     ]
    },
    {
     "name": "stdout",
     "output_type": "stream",
     "text": [
      "https://map.naver.com/p/search/%EC%84%9C%EC%B4%88%EA%B5%AC%20%EA%B3%A0%EB%A9%94%EB%9E%A8%20%EA%B0%95%EB%82%A8%EC%A0%90/place/1299706278?isCorrectAnswer=true&c=15.00,0,0,0,dh\n",
      "결과 한 개\n",
      "\n",
      "[크롤링 시작...]\n",
      "고메램 강남점\n",
      "양갈비\n",
      "서울 서초구 강남대로 359 대우도씨에빛 2차 지하 1층,\n",
      "주문 유형 3\n",
      "모듬양갈비\n",
      "미식가의 양고기 고메램입니다. 프리미엄 양고기 비장탄 숯불구이 전문점입니다. 최고 등급의 와규 소고기도 같이 판매 하고 있습니다\n",
      "리뷰 존재\n",
      "음식이 맛있어요\n",
      "고기 질이 좋아요\n",
      "인테리어가 멋져요\n",
      "친절해요\n",
      "직접 잘 구워줘요\n",
      "['고메램 강남점'] ...완료\n",
      "[데이터 수집 완료]\n",
      "소요 시간 : 13.463372230529785 \n",
      "\n",
      "59번째 가게\n"
     ]
    },
    {
     "name": "stderr",
     "output_type": "stream",
     "text": [
      "The chromedriver version (128.0.6613.137) detected in PATH at c:\\Users\\kk21\\Desktop\\TRIPER\\chromedriver.exe might not be compatible with the detected chrome version (129.0.6668.101); currently, chromedriver 129.0.6668.100 is recommended for chrome 129.*, so it is advised to delete the driver in PATH and retry\n"
     ]
    },
    {
     "name": "stdout",
     "output_type": "stream",
     "text": [
      "https://map.naver.com/p/search/%EC%84%9C%EC%B4%88%EA%B5%AC%20%EC%86%8C%ED%98%B8%EC%A0%95%20%EB%B3%B8%EC%A0%90?c=15.00,0,0,0,dh\n",
      "결과 여러 개 존재(지점 또는 근접 지역)\n",
      "\n",
      "[크롤링 시작...]\n",
      "소호정 본점\n",
      "국수\n",
      "서울 서초구 논현로 27 소호정본관\n",
      "주문 유형 3\n",
      "안동국시\n",
      "메뉴 설명 없음\n",
      "리뷰 존재\n",
      "음식이 맛있어요\n",
      "친절해요\n",
      "재료가 신선해요\n",
      "특별한 메뉴가 있어요\n",
      "주차하기 편해요\n",
      "['소호정 본점'] ...완료\n",
      "[데이터 수집 완료]\n",
      "소요 시간 : 13.40569257736206 \n",
      "\n",
      "60번째 가게\n"
     ]
    },
    {
     "name": "stderr",
     "output_type": "stream",
     "text": [
      "The chromedriver version (128.0.6613.137) detected in PATH at c:\\Users\\kk21\\Desktop\\TRIPER\\chromedriver.exe might not be compatible with the detected chrome version (129.0.6668.101); currently, chromedriver 129.0.6668.100 is recommended for chrome 129.*, so it is advised to delete the driver in PATH and retry\n"
     ]
    },
    {
     "name": "stdout",
     "output_type": "stream",
     "text": [
      "https://map.naver.com/p/search/%EC%84%9C%EC%B4%88%EA%B5%AC%20%EB%B2%A0%EC%9D%B4%ED%81%AC%EC%83%B5%20%ED%94%BC%EB%B4%87/place/1422457758?c=15.00,0,0,0,dh&isCorrectAnswer=true\n",
      "결과 한 개\n",
      "\n",
      "[크롤링 시작...]\n",
      "베이크샵 피봇\n",
      "베이커리\n",
      "서울 서초구 방배로23길 5 1층\n",
      "주문 유형 3\n",
      "어텀 온 더 피그\n",
      "바작한 컵 타르트지 위에 가을 무화과가 와르르 ◡̈\n",
      "리뷰 존재\n",
      "디저트가 맛있어요\n",
      "특별한 메뉴가 있어요\n",
      "친절해요\n",
      "커피가 맛있어요\n",
      "매장이 청결해요\n",
      "['베이크샵 피봇'] ...완료\n",
      "[데이터 수집 완료]\n",
      "소요 시간 : 13.427844524383545 \n",
      "\n",
      "61번째 가게\n"
     ]
    },
    {
     "name": "stderr",
     "output_type": "stream",
     "text": [
      "The chromedriver version (128.0.6613.137) detected in PATH at c:\\Users\\kk21\\Desktop\\TRIPER\\chromedriver.exe might not be compatible with the detected chrome version (129.0.6668.101); currently, chromedriver 129.0.6668.100 is recommended for chrome 129.*, so it is advised to delete the driver in PATH and retry\n"
     ]
    },
    {
     "name": "stdout",
     "output_type": "stream",
     "text": [
      "https://map.naver.com/p/search/%EC%84%9C%EC%B4%88%EA%B5%AC%20%EC%9D%80%ED%96%89%EA%B3%A8%20%EA%B0%95%EB%82%A8%EC%97%AD%EC%A0%90?c=15.00,0,0,0,dh\n",
      "결과 여러 개 존재(지점 또는 근접 지역)\n",
      "\n",
      "[크롤링 시작...]\n",
      "은행골 강남역점\n",
      "초밥,롤\n",
      "서울 서초구 서초대로75길 34 3층 은행골\n",
      "주문 유형 3\n",
      "특진초밥\n",
      "도로3,장새우2,엔까와2,장어2,연어3\n",
      "리뷰 존재\n",
      "음식이 맛있어요\n",
      "재료가 신선해요\n",
      "친절해요\n",
      "매장이 넓어요\n",
      "매장이 청결해요\n",
      "['은행골 강남역점'] ...완료\n",
      "[데이터 수집 완료]\n",
      "소요 시간 : 13.431748628616333 \n",
      "\n",
      "62번째 가게\n"
     ]
    },
    {
     "name": "stderr",
     "output_type": "stream",
     "text": [
      "The chromedriver version (128.0.6613.137) detected in PATH at c:\\Users\\kk21\\Desktop\\TRIPER\\chromedriver.exe might not be compatible with the detected chrome version (129.0.6668.101); currently, chromedriver 129.0.6668.100 is recommended for chrome 129.*, so it is advised to delete the driver in PATH and retry\n"
     ]
    },
    {
     "name": "stdout",
     "output_type": "stream",
     "text": [
      "https://map.naver.com/p/search/%EC%84%9C%EC%B4%88%EA%B5%AC%20%EC%9E%84%EB%B3%91%EC%A3%BC%EC%82%B0%EB%8F%99%EC%B9%BC%EA%B5%AD%EC%88%98/place/1420055829?c=15.00,0,0,0,dh&isCorrectAnswer=true\n",
      "결과 한 개\n",
      "\n",
      "[크롤링 시작...]\n",
      "임병주산동칼국수\n",
      "칼국수,만두\n",
      "서울 서초구 강남대로37길 65\n",
      "주문 유형 3\n",
      "콩국물 1병\n",
      "메뉴 설명 없음\n",
      "['임병주산동칼국수'] ...완료\n",
      "[데이터 수집 완료]\n",
      "소요 시간 : 13.371394395828247 \n",
      "\n",
      "63번째 가게\n"
     ]
    },
    {
     "name": "stderr",
     "output_type": "stream",
     "text": [
      "The chromedriver version (128.0.6613.137) detected in PATH at c:\\Users\\kk21\\Desktop\\TRIPER\\chromedriver.exe might not be compatible with the detected chrome version (129.0.6668.101); currently, chromedriver 129.0.6668.100 is recommended for chrome 129.*, so it is advised to delete the driver in PATH and retry\n"
     ]
    },
    {
     "name": "stdout",
     "output_type": "stream",
     "text": [
      "https://map.naver.com/p/search/%EC%84%9C%EC%B4%88%EA%B5%AC%20%ED%95%B4%EB%AA%BD?c=15.00,0,0,0,dh\n",
      "결과 여러 개 존재(지점 또는 근접 지역)\n",
      "\n",
      "[크롤링 시작...]\n",
      "해몽\n",
      "육류,고기요리\n",
      "서울 서초구 사평대로56길 8 2층 해몽\n",
      "주문 유형 3\n",
      "등갈비(스페인산)\n",
      "전국no2.등갈비.. 저희가 지향하는..^^\n",
      "리뷰 존재\n",
      "음식이 맛있어요\n",
      "친절해요\n",
      "특별한 메뉴가 있어요\n",
      "고기 질이 좋아요\n",
      "직접 잘 구워줘요\n",
      "['해몽'] ...완료\n",
      "[데이터 수집 완료]\n",
      "소요 시간 : 13.424391984939575 \n",
      "\n",
      "64번째 가게\n"
     ]
    },
    {
     "name": "stderr",
     "output_type": "stream",
     "text": [
      "The chromedriver version (128.0.6613.137) detected in PATH at c:\\Users\\kk21\\Desktop\\TRIPER\\chromedriver.exe might not be compatible with the detected chrome version (129.0.6668.101); currently, chromedriver 129.0.6668.100 is recommended for chrome 129.*, so it is advised to delete the driver in PATH and retry\n"
     ]
    },
    {
     "name": "stdout",
     "output_type": "stream",
     "text": [
      "https://map.naver.com/p/search/%EC%84%9C%EC%B4%88%EA%B5%AC%20%EB%B0%94%EB%B2%A0%ED%81%90%EB%9E%A9/place/1202187934?c=15.00,0,0,0,dh&isCorrectAnswer=true\n",
      "결과 한 개\n",
      "\n",
      "[크롤링 시작...]\n",
      "바베큐랩\n",
      "육류,고기요리\n",
      "서울 서초구 마방로10길 18-13\n",
      "주문 유형 3\n",
      "이베리코목살\n",
      "메뉴 설명 없음\n",
      "리뷰 존재\n",
      "음식이 맛있어요\n",
      "친절해요\n",
      "특별한 메뉴가 있어요\n",
      "고기 질이 좋아요\n",
      "재료가 신선해요\n",
      "['바베큐랩'] ...완료\n",
      "[데이터 수집 완료]\n",
      "소요 시간 : 13.416799306869507 \n",
      "\n",
      "65번째 가게\n"
     ]
    },
    {
     "name": "stderr",
     "output_type": "stream",
     "text": [
      "The chromedriver version (128.0.6613.137) detected in PATH at c:\\Users\\kk21\\Desktop\\TRIPER\\chromedriver.exe might not be compatible with the detected chrome version (129.0.6668.101); currently, chromedriver 129.0.6668.100 is recommended for chrome 129.*, so it is advised to delete the driver in PATH and retry\n"
     ]
    },
    {
     "name": "stdout",
     "output_type": "stream",
     "text": [
      "https://map.naver.com/p/search/%EC%84%9C%EC%B4%88%EA%B5%AC%20%EC%A1%B0%EC%96%91%EA%B4%80%ED%95%9C%EC%A0%95%EC%8B%9D/place/11702941?c=15.00,0,0,0,dh&isCorrectAnswer=true\n",
      "결과 한 개\n",
      "\n",
      "[크롤링 시작...]\n",
      "조양관한정식\n",
      "한정식\n",
      "서울 서초구 서초대로74길 29 지하1층 조양관 한정식\n",
      "주문 유형 3\n",
      "코스)관\n",
      "평일점심만 가능\n",
      "리뷰 존재\n",
      "음식이 맛있어요\n",
      "재료가 신선해요\n",
      "친절해요\n",
      "차분한 분위기에요\n",
      "단체모임 하기 좋아요\n",
      "['조양관한정식'] ...완료\n",
      "[데이터 수집 완료]\n",
      "소요 시간 : 13.446345090866089 \n",
      "\n",
      "66번째 가게\n"
     ]
    },
    {
     "name": "stderr",
     "output_type": "stream",
     "text": [
      "The chromedriver version (128.0.6613.137) detected in PATH at c:\\Users\\kk21\\Desktop\\TRIPER\\chromedriver.exe might not be compatible with the detected chrome version (129.0.6668.101); currently, chromedriver 129.0.6668.100 is recommended for chrome 129.*, so it is advised to delete the driver in PATH and retry\n"
     ]
    },
    {
     "name": "stdout",
     "output_type": "stream",
     "text": [
      "https://map.naver.com/p/search/%EC%84%9C%EC%B4%88%EA%B5%AC%20%EC%98%A8%EC%9C%A0%EC%9B%94%EC%86%A5%EB%9A%9C%EA%BB%91%EC%82%BC%EA%B2%B9%EC%82%B4%20%EB%B3%B8%EC%A0%90/place/1557341198?c=15.00,0,0,0,dh&isCorrectAnswer=true\n",
      "결과 한 개\n",
      "\n",
      "[크롤링 시작...]\n",
      "온유월솥뚜껑삼겹살 본점\n",
      "돼지고기구이\n",
      "서울 서초구 신반포로 219 반포쇼핑타운 8동 지하1층 13호\n",
      "주문 유형 3\n",
      "얼룩흑돼지 오겹살\n",
      "무항생제 얼룩흑돼지 오겹살로 쫀득한 껍데기와 풍미 좋은 지방, 고소한 살코기를 느낄수 있다\n",
      "리뷰 존재\n",
      "음식이 맛있어요\n",
      "고기 질이 좋아요\n",
      "친절해요\n",
      "특별한 메뉴가 있어요\n",
      "매장이 청결해요\n",
      "['온유월솥뚜껑삼겹살 본점'] ...완료\n",
      "[데이터 수집 완료]\n",
      "소요 시간 : 13.471843481063843 \n",
      "\n",
      "67번째 가게\n"
     ]
    },
    {
     "name": "stderr",
     "output_type": "stream",
     "text": [
      "The chromedriver version (128.0.6613.137) detected in PATH at c:\\Users\\kk21\\Desktop\\TRIPER\\chromedriver.exe might not be compatible with the detected chrome version (129.0.6668.101); currently, chromedriver 129.0.6668.100 is recommended for chrome 129.*, so it is advised to delete the driver in PATH and retry\n"
     ]
    },
    {
     "name": "stdout",
     "output_type": "stream",
     "text": [
      "https://map.naver.com/p/search/%EC%84%9C%EC%B4%88%EA%B5%AC%20%EB%AF%B8%EC%86%8C%EC%9D%98%EC%A7%91/place/19877730?c=15.00,0,0,0,dh&isCorrectAnswer=true\n",
      "결과 한 개\n",
      "\n",
      "[크롤링 시작...]\n",
      "미소의집\n",
      "떡볶이\n",
      "서울 서초구 신반포로 27-6 (한신상가 지하 2층)\n",
      "주문 유형 3\n",
      "즉석떡볶이\n",
      "메뉴 설명 없음\n",
      "리뷰 존재\n",
      "음식이 맛있어요\n",
      "가성비가 좋아요\n",
      "특별한 메뉴가 있어요\n",
      "친절해요\n",
      "양이 많아요\n",
      "['미소의집'] ...완료\n",
      "[데이터 수집 완료]\n",
      "소요 시간 : 13.38963508605957 \n",
      "\n",
      "68번째 가게\n"
     ]
    },
    {
     "name": "stderr",
     "output_type": "stream",
     "text": [
      "The chromedriver version (128.0.6613.137) detected in PATH at c:\\Users\\kk21\\Desktop\\TRIPER\\chromedriver.exe might not be compatible with the detected chrome version (129.0.6668.101); currently, chromedriver 129.0.6668.100 is recommended for chrome 129.*, so it is advised to delete the driver in PATH and retry\n"
     ]
    },
    {
     "name": "stdout",
     "output_type": "stream",
     "text": [
      "https://map.naver.com/p/search/%EC%84%9C%EC%B4%88%EA%B5%AC%20%EB%B6%84%EC%BD%94%EB%8B%A4%EC%9D%B4%EB%8B%9D%20%EC%82%AC%EB%8B%B9%EC%A0%90/place/1615187452?c=15.00,0,0,0,dh&isCorrectAnswer=true\n",
      "결과 한 개\n",
      "\n",
      "[크롤링 시작...]\n",
      "분코다이닝 사당점\n",
      "이자카야\n",
      "서울 서초구 방배천로4안길 26 2층 분코다이닝\n",
      "주문 유형 3\n",
      "대표 메뉴 없음\n",
      "메뉴 설명 없음\n",
      "오류 예외 처리\n",
      "69번째 가게\n"
     ]
    },
    {
     "name": "stderr",
     "output_type": "stream",
     "text": [
      "The chromedriver version (128.0.6613.137) detected in PATH at c:\\Users\\kk21\\Desktop\\TRIPER\\chromedriver.exe might not be compatible with the detected chrome version (129.0.6668.101); currently, chromedriver 129.0.6668.100 is recommended for chrome 129.*, so it is advised to delete the driver in PATH and retry\n"
     ]
    },
    {
     "name": "stdout",
     "output_type": "stream",
     "text": [
      "https://map.naver.com/p/search/%EC%84%9C%EC%B4%88%EA%B5%AC%20%EC%BD%94%EB%A5%B4%EB%B0%94%EB%8B%88%20%EC%84%9C%EB%9E%98%EB%A7%88%EC%9D%84/place/1097930525?c=15.00,0,0,0,dh&isCorrectAnswer=true\n",
      "결과 한 개\n",
      "\n",
      "[크롤링 시작...]\n",
      "코르바니 서래마을\n",
      "양식\n",
      "서울 서초구 서래로 17 2층\n",
      "주문 유형 3\n",
      "초리조 오일파스타\n",
      "초리조와 로즈마리 라드를 이용한 오일파스타 로즈마리 향과 초리조의 매콤함이어우러지는 파스타\n",
      "리뷰 존재\n",
      "음식이 맛있어요\n",
      "인테리어가 멋져요\n",
      "특별한 메뉴가 있어요\n",
      "친절해요\n",
      "매장이 넓어요\n",
      "['코르바니 서래마을'] ...완료\n",
      "[데이터 수집 완료]\n",
      "소요 시간 : 13.401483535766602 \n",
      "\n",
      "70번째 가게\n"
     ]
    },
    {
     "name": "stderr",
     "output_type": "stream",
     "text": [
      "The chromedriver version (128.0.6613.137) detected in PATH at c:\\Users\\kk21\\Desktop\\TRIPER\\chromedriver.exe might not be compatible with the detected chrome version (129.0.6668.101); currently, chromedriver 129.0.6668.100 is recommended for chrome 129.*, so it is advised to delete the driver in PATH and retry\n"
     ]
    },
    {
     "name": "stdout",
     "output_type": "stream",
     "text": [
      "https://map.naver.com/p/search/%EC%84%9C%EC%B4%88%EA%B5%AC%20%EC%9A%B0%EB%A6%AC%ED%99%A9%EC%86%8C%EA%B3%B1%EC%B0%BD/place/1983876764?c=15.00,0,0,0,dh&isCorrectAnswer=true\n",
      "결과 한 개\n",
      "\n",
      "[크롤링 시작...]\n",
      "우리황소곱창\n",
      "곱창,막창,양\n",
      "서울 서초구 방배천로2길 41\n",
      "주문 유형 3\n",
      "더덕곱창\n",
      "한우곱창구이 & 횡성산 더덕구이의 조합 ^^v\n",
      "리뷰 존재\n",
      "음식이 맛있어요\n",
      "친절해요\n",
      "양이 많아요\n",
      "재료가 신선해요\n",
      "고기 질이 좋아요\n",
      "['우리황소곱창'] ...완료\n",
      "[데이터 수집 완료]\n",
      "소요 시간 : 13.419374227523804 \n",
      "\n",
      "71번째 가게\n"
     ]
    },
    {
     "name": "stderr",
     "output_type": "stream",
     "text": [
      "The chromedriver version (128.0.6613.137) detected in PATH at c:\\Users\\kk21\\Desktop\\TRIPER\\chromedriver.exe might not be compatible with the detected chrome version (129.0.6668.101); currently, chromedriver 129.0.6668.100 is recommended for chrome 129.*, so it is advised to delete the driver in PATH and retry\n"
     ]
    },
    {
     "name": "stdout",
     "output_type": "stream",
     "text": [
      "https://map.naver.com/p/search/%EC%84%9C%EC%B4%88%EA%B5%AC%20%ED%81%AC%EB%9E%98%EB%B2%84%EB%8C%80%EA%B2%8C%EB%82%98%EB%9D%BC%20%EC%84%9C%EC%B4%88%EC%A0%90?c=15.00,0,0,0,dh\n",
      "결과 여러 개 존재(지점 또는 근접 지역)\n",
      "\n",
      "[크롤링 시작...]\n",
      "크래버대게나라 서초점\n",
      "게요리\n",
      "서울 서초구 남부순환로339길 72 1층\n",
      "주문 유형 3\n",
      "대게코스(특A 1kg)\n",
      "1인/2인이상주문, 공휴일제외, 싯가 (가격 변동 될 수 있음)\n",
      "리뷰 존재\n",
      "음식이 맛있어요\n",
      "재료가 신선해요\n",
      "친절해요\n",
      "매장이 넓어요\n",
      "매장이 청결해요\n",
      "['크래버대게나라 서초점'] ...완료\n",
      "[데이터 수집 완료]\n",
      "소요 시간 : 13.413236141204834 \n",
      "\n",
      "72번째 가게\n"
     ]
    },
    {
     "name": "stderr",
     "output_type": "stream",
     "text": [
      "The chromedriver version (128.0.6613.137) detected in PATH at c:\\Users\\kk21\\Desktop\\TRIPER\\chromedriver.exe might not be compatible with the detected chrome version (129.0.6668.101); currently, chromedriver 129.0.6668.100 is recommended for chrome 129.*, so it is advised to delete the driver in PATH and retry\n"
     ]
    },
    {
     "name": "stdout",
     "output_type": "stream",
     "text": [
      "https://map.naver.com/p/search/%EC%84%9C%EC%B4%88%EA%B5%AC%20%EC%9B%90%EC%A1%B0%EB%A7%88%EC%82%B0%ED%95%A0%EB%A7%A4%EC%95%84%EA%B5%AC%EC%B0%9C/place/1741697928?c=15.00,0,0,0,dh&isCorrectAnswer=true\n",
      "결과 한 개\n",
      "\n",
      "[크롤링 시작...]\n",
      "원조마산할매아구찜\n",
      "아귀찜,해물찜\n",
      "서울 서초구 강남대로99길 10\n",
      "주문 유형 3\n",
      "대표 메뉴 없음\n",
      "메뉴 설명 없음\n",
      "오류 예외 처리\n",
      "73번째 가게\n"
     ]
    },
    {
     "name": "stderr",
     "output_type": "stream",
     "text": [
      "The chromedriver version (128.0.6613.137) detected in PATH at c:\\Users\\kk21\\Desktop\\TRIPER\\chromedriver.exe might not be compatible with the detected chrome version (129.0.6668.101); currently, chromedriver 129.0.6668.100 is recommended for chrome 129.*, so it is advised to delete the driver in PATH and retry\n"
     ]
    },
    {
     "name": "stdout",
     "output_type": "stream",
     "text": [
      "https://map.naver.com/p/search/%EC%84%9C%EC%B4%88%EA%B5%AC%20%EB%8D%94%EB%A7%89%EC%B0%BD%EC%8A%A4/place/37085684?c=15.00,0,0,0,dh&isCorrectAnswer=true\n",
      "결과 한 개\n",
      "\n",
      "[크롤링 시작...]\n",
      "더막창스\n",
      "곱창,막창,양\n",
      "서울 서초구 서초대로77길 37 서초동월드 106호\n",
      "주문 유형 3\n",
      "대구막창\n",
      "20년 전통 대구막창\n",
      "리뷰 존재\n",
      "음식이 맛있어요\n",
      "친절해요\n",
      "매장이 넓어요\n",
      "단체모임 하기 좋아요\n",
      "가성비가 좋아요\n",
      "['더막창스'] ...완료\n",
      "[데이터 수집 완료]\n",
      "소요 시간 : 13.4392409324646 \n",
      "\n",
      "74번째 가게\n"
     ]
    },
    {
     "name": "stderr",
     "output_type": "stream",
     "text": [
      "The chromedriver version (128.0.6613.137) detected in PATH at c:\\Users\\kk21\\Desktop\\TRIPER\\chromedriver.exe might not be compatible with the detected chrome version (129.0.6668.101); currently, chromedriver 129.0.6668.100 is recommended for chrome 129.*, so it is advised to delete the driver in PATH and retry\n"
     ]
    },
    {
     "name": "stdout",
     "output_type": "stream",
     "text": [
      "https://map.naver.com/p/search/%EC%84%9C%EC%B4%88%EA%B5%AC%20%EB%82%A8%EB%AF%B8%ED%94%8C%EB%9E%9C%ED%8A%B8%EB%9E%A9/place/1238763388?c=15.00,0,0,0,dh&isCorrectAnswer=true\n",
      "결과 한 개\n",
      "\n",
      "[크롤링 시작...]\n",
      "남미플랜트랩\n",
      "퓨전음식\n",
      "서울 서초구 방배천로4안길 55 2층\n",
      "주문 유형 3\n",
      "파스타베르데\n",
      "10가지의 버섯들을 이용하며 비건치즈와 능이버섯으로 풍미를 극대화한 버섯치즈파스타\n",
      "리뷰 존재\n",
      "음식이 맛있어요\n",
      "재료가 신선해요\n",
      "특별한 메뉴가 있어요\n",
      "친절해요\n",
      "양이 많아요\n",
      "['남미플랜트랩'] ...완료\n",
      "[데이터 수집 완료]\n",
      "소요 시간 : 13.441868305206299 \n",
      "\n",
      "75번째 가게\n"
     ]
    },
    {
     "name": "stderr",
     "output_type": "stream",
     "text": [
      "The chromedriver version (128.0.6613.137) detected in PATH at c:\\Users\\kk21\\Desktop\\TRIPER\\chromedriver.exe might not be compatible with the detected chrome version (129.0.6668.101); currently, chromedriver 129.0.6668.100 is recommended for chrome 129.*, so it is advised to delete the driver in PATH and retry\n"
     ]
    },
    {
     "name": "stdout",
     "output_type": "stream",
     "text": [
      "https://map.naver.com/p/search/%EC%84%9C%EC%B4%88%EA%B5%AC%20%EB%A6%AC%EB%91%90%EB%B6%80%EB%A1%9C/place/1568344467?c=15.00,0,0,0,dh&isCorrectAnswer=true\n",
      "결과 한 개\n",
      "\n",
      "[크롤링 시작...]\n",
      "리두부로\n",
      "두부요리\n",
      "서울 서초구 원터4길 7 리두부로\n",
      "주문 유형 3\n",
      "더블더블 짜박두부\n",
      "특제 양념장으로 맛을 낸 리두부로가 재해석한 짜박하게 졸여 먹는 짭조름 두부조림.\n",
      "리뷰 존재\n",
      "음식이 맛있어요\n",
      "재료가 신선해요\n",
      "특별한 메뉴가 있어요\n",
      "친절해요\n",
      "양이 많아요\n",
      "['리두부로'] ...완료\n",
      "[데이터 수집 완료]\n",
      "소요 시간 : 13.410078287124634 \n",
      "\n",
      "76번째 가게\n"
     ]
    },
    {
     "name": "stderr",
     "output_type": "stream",
     "text": [
      "The chromedriver version (128.0.6613.137) detected in PATH at c:\\Users\\kk21\\Desktop\\TRIPER\\chromedriver.exe might not be compatible with the detected chrome version (129.0.6668.101); currently, chromedriver 129.0.6668.100 is recommended for chrome 129.*, so it is advised to delete the driver in PATH and retry\n"
     ]
    },
    {
     "name": "stdout",
     "output_type": "stream",
     "text": [
      "https://map.naver.com/p/search/%EC%84%9C%EC%B4%88%EA%B5%AC%20%EA%B3%B5%EB%AF%B8%ED%95%99%20%EC%84%9C%EC%B4%88%EA%B5%90%EB%8C%80%EC%A0%90/place/1966463697?c=15.00,0,0,0,dh&isCorrectAnswer=true\n",
      "결과 한 개\n",
      "\n",
      "[크롤링 시작...]\n",
      "공미학 서초교대점\n",
      "카페,디저트\n",
      "서울 서초구 서초대로48길 101 그룹메가타워 1F\n",
      "주문 유형 3\n",
      "대표 메뉴 없음\n",
      "메뉴 설명 없음\n",
      "오류 예외 처리\n",
      "77번째 가게\n"
     ]
    },
    {
     "name": "stderr",
     "output_type": "stream",
     "text": [
      "The chromedriver version (128.0.6613.137) detected in PATH at c:\\Users\\kk21\\Desktop\\TRIPER\\chromedriver.exe might not be compatible with the detected chrome version (129.0.6668.101); currently, chromedriver 129.0.6668.100 is recommended for chrome 129.*, so it is advised to delete the driver in PATH and retry\n"
     ]
    },
    {
     "name": "stdout",
     "output_type": "stream",
     "text": [
      "https://map.naver.com/p/search/%EC%84%9C%EC%B4%88%EA%B5%AC%20%EC%93%B0%EB%A6%AC%EB%B2%84%EC%A6%88%20%EC%84%BC%ED%8A%B8%EB%9F%B4%EC%8B%9C%ED%8B%B0%EC%A0%90/place/1915466381?c=15.00,0,0,0,dh&isCorrectAnswer=true\n",
      "결과 한 개\n",
      "\n",
      "[크롤링 시작...]\n",
      "쓰리버즈 센트럴시티점\n",
      "브런치\n",
      "서울 서초구 사평대로 205 쓰리버즈\n",
      "주문 유형 3\n",
      "버터 밀크 와플 치킨\n",
      "부드럽고 촉촉한 벨기에식 와플, 수제 버터밀크에 묻혀 바삭하게 튀긴 치킨, 쓰리버즈 할라피뇨소스, 메이플시럽\n",
      "리뷰 존재\n",
      "음식이 맛있어요\n",
      "인테리어가 멋져요\n",
      "매장이 넓어요\n",
      "단체모임 하기 좋아요\n",
      "주차하기 편해요\n",
      "['쓰리버즈 센트럴시티점'] ...완료\n",
      "[데이터 수집 완료]\n",
      "소요 시간 : 13.466583251953125 \n",
      "\n",
      "78번째 가게\n"
     ]
    },
    {
     "name": "stderr",
     "output_type": "stream",
     "text": [
      "The chromedriver version (128.0.6613.137) detected in PATH at c:\\Users\\kk21\\Desktop\\TRIPER\\chromedriver.exe might not be compatible with the detected chrome version (129.0.6668.101); currently, chromedriver 129.0.6668.100 is recommended for chrome 129.*, so it is advised to delete the driver in PATH and retry\n"
     ]
    },
    {
     "name": "stdout",
     "output_type": "stream",
     "text": [
      "https://map.naver.com/p/search/%EC%84%9C%EC%B4%88%EA%B5%AC%20%EB%A3%A8%EC%97%98%EB%93%9C%ED%8C%8C%EB%A6%AC?c=15.00,0,0,0,dh\n",
      "결과 여러 개 존재(지점 또는 근접 지역)\n",
      "\n",
      "[크롤링 시작...]\n",
      "루엘드파리\n",
      "베이커리\n",
      "서울 서초구 서초중앙로 18 서초쌍용플래티넘 112호\n",
      "주문 유형 3\n",
      "오리지날 크루아상\n",
      "최고급 버터와 재료, 충분한 발효 시간으로 바삭하게 구워낸 깊은 맛의 프랑스 정통 크루아상\n",
      "리뷰 존재\n",
      "빵이 맛있어요\n",
      "특별한 메뉴가 있어요\n",
      "친절해요\n",
      "매장이 청결해요\n",
      "인테리어가 멋져요\n",
      "['루엘드파리'] ...완료\n",
      "[데이터 수집 완료]\n",
      "소요 시간 : 13.403304815292358 \n",
      "\n",
      "79번째 가게\n"
     ]
    },
    {
     "name": "stderr",
     "output_type": "stream",
     "text": [
      "The chromedriver version (128.0.6613.137) detected in PATH at c:\\Users\\kk21\\Desktop\\TRIPER\\chromedriver.exe might not be compatible with the detected chrome version (129.0.6668.101); currently, chromedriver 129.0.6668.100 is recommended for chrome 129.*, so it is advised to delete the driver in PATH and retry\n"
     ]
    },
    {
     "name": "stdout",
     "output_type": "stream",
     "text": [
      "https://map.naver.com/p/search/%EC%84%9C%EC%B4%88%EA%B5%AC%20%EB%B0%94%EB%A6%AC%EC%97%90%EA%B0%80%ED%83%80%20%EC%8B%A0%EB%85%BC%ED%98%84%EC%A0%90/place/1621579753?c=15.00,0,0,0,dh&isCorrectAnswer=true\n",
      "결과 한 개\n",
      "\n",
      "[크롤링 시작...]\n",
      "바리에가타 신논현\n",
      "이탈리아음식\n",
      "서울 서초구 사평대로55길 37 1층, 2층\n",
      "주문 유형 3\n",
      "초리조 아이올리 비프타르타르\n",
      "훈연향을 입힌 아이올리와 한우를 이용한 비프타르타르와 김부각\n",
      "리뷰 존재\n",
      "음식이 맛있어요\n",
      "인테리어가 멋져요\n",
      "특별한 메뉴가 있어요\n",
      "재료가 신선해요\n",
      "대화하기 좋아요\n",
      "['바리에가타 신논현'] ...완료\n",
      "[데이터 수집 완료]\n",
      "소요 시간 : 13.424356460571289 \n",
      "\n",
      "80번째 가게\n"
     ]
    },
    {
     "name": "stderr",
     "output_type": "stream",
     "text": [
      "The chromedriver version (128.0.6613.137) detected in PATH at c:\\Users\\kk21\\Desktop\\TRIPER\\chromedriver.exe might not be compatible with the detected chrome version (129.0.6668.101); currently, chromedriver 129.0.6668.100 is recommended for chrome 129.*, so it is advised to delete the driver in PATH and retry\n"
     ]
    },
    {
     "name": "stdout",
     "output_type": "stream",
     "text": [
      "https://map.naver.com/p/search/%EC%84%9C%EC%B4%88%EA%B5%AC%20%EB%AA%AC%ED%83%81/place/1045302382?c=15.00,0,0,0,dh&isCorrectAnswer=true\n",
      "결과 한 개\n",
      "\n",
      "[크롤링 시작...]\n",
      "몬탁\n",
      "베이커리\n",
      "서울 서초구 서초대로32길 8 1층\n",
      "주문 유형 3\n",
      "휘낭시에\n",
      "고급 바닐라 빈을 사용하여 바닐라 빈의 풍부한 향미와 다크럼을 사용하여 풍미를 더한 겉은 바삭하고 속은 촉촉한 프랑스 디저트, 까눌레 입니다\n",
      "리뷰 존재\n",
      "빵이 맛있어요\n",
      "커피가 맛있어요\n",
      "친절해요\n",
      "인테리어가 멋져요\n",
      "특별한 메뉴가 있어요\n",
      "['몬탁'] ...완료\n",
      "[데이터 수집 완료]\n",
      "소요 시간 : 13.425238132476807 \n",
      "\n",
      "81번째 가게\n"
     ]
    },
    {
     "name": "stderr",
     "output_type": "stream",
     "text": [
      "The chromedriver version (128.0.6613.137) detected in PATH at c:\\Users\\kk21\\Desktop\\TRIPER\\chromedriver.exe might not be compatible with the detected chrome version (129.0.6668.101); currently, chromedriver 129.0.6668.100 is recommended for chrome 129.*, so it is advised to delete the driver in PATH and retry\n"
     ]
    },
    {
     "name": "stdout",
     "output_type": "stream",
     "text": [
      "https://map.naver.com/p/search/%EC%84%9C%EC%B4%88%EA%B5%AC%20%EC%86%8C%EC%9D%B4%EC%97%B0%EB%82%A8%20%ED%8C%8C%EB%AF%B8%EC%97%90%EC%8A%A4%ED%85%8C%EC%9D%B4%EC%85%98%EC%A0%90/place/1326338352?c=15.00,0,0,0,dh&isCorrectAnswer=true\n",
      "결과 한 개\n",
      "\n",
      "[크롤링 시작...]\n",
      "소이연남 파미에스테이션점\n",
      "태국음식\n",
      "서울 서초구 사평대로 205 파미에스테이션 2층 217호\n",
      "주문 유형 3\n",
      "소고기쌀국수\n",
      "진한 육수와 부들부들한 소고기 듬뿍 시그니처 쌀국수 *국밥으로 변경 가능\n",
      "리뷰 존재\n",
      "음식이 맛있어요\n",
      "친절해요\n",
      "재료가 신선해요\n",
      "혼밥하기 좋아요\n",
      "특별한 메뉴가 있어요\n",
      "['소이연남 파미에스테이션점'] ...완료\n",
      "[데이터 수집 완료]\n",
      "소요 시간 : 13.407644510269165 \n",
      "\n",
      "82번째 가게\n"
     ]
    },
    {
     "name": "stderr",
     "output_type": "stream",
     "text": [
      "The chromedriver version (128.0.6613.137) detected in PATH at c:\\Users\\kk21\\Desktop\\TRIPER\\chromedriver.exe might not be compatible with the detected chrome version (129.0.6668.101); currently, chromedriver 129.0.6668.100 is recommended for chrome 129.*, so it is advised to delete the driver in PATH and retry\n"
     ]
    },
    {
     "name": "stdout",
     "output_type": "stream",
     "text": [
      "https://map.naver.com/p/search/%EC%84%9C%EC%B4%88%EA%B5%AC%20%EB%B9%84%EC%A7%80%EC%97%A0%EC%BB%A4%ED%94%BC/place/1361390724?c=15.00,0,0,0,dh&isCorrectAnswer=true\n",
      "결과 한 개\n",
      "\n",
      "[크롤링 시작...]\n",
      "비지엠커피\n",
      "카페,디저트\n",
      "서울 서초구 방배천로2길 51 1층\n",
      "주문 유형 3\n",
      "아메리카노\n",
      "메뉴 설명 없음\n",
      "리뷰 존재\n",
      "커피가 맛있어요\n",
      "디저트가 맛있어요\n",
      "인테리어가 멋져요\n",
      "음료가 맛있어요\n",
      "친절해요\n",
      "['비지엠커피'] ...완료\n",
      "[데이터 수집 완료]\n",
      "소요 시간 : 13.42996883392334 \n",
      "\n",
      "83번째 가게\n"
     ]
    },
    {
     "name": "stderr",
     "output_type": "stream",
     "text": [
      "The chromedriver version (128.0.6613.137) detected in PATH at c:\\Users\\kk21\\Desktop\\TRIPER\\chromedriver.exe might not be compatible with the detected chrome version (129.0.6668.101); currently, chromedriver 129.0.6668.100 is recommended for chrome 129.*, so it is advised to delete the driver in PATH and retry\n"
     ]
    },
    {
     "name": "stdout",
     "output_type": "stream",
     "text": [
      "https://map.naver.com/p/search/%EC%84%9C%EC%B4%88%EA%B5%AC%20%EB%B2%A0%ED%8A%B8%EB%82%A8%EC%9D%B4%EB%9E%91?c=15.00,0,0,0,dh\n",
      "결과 여러 개 존재(지점 또는 근접 지역)\n",
      "\n",
      "[크롤링 시작...]\n",
      "베트남이랑\n",
      "베트남음식\n",
      "서울 서초구 서초대로77길 15 대경빌딩 지하 1층\n",
      "주문 유형 3\n",
      "모듬쌀국수\n",
      "싱싱한 채소 속에 소고기 풍덩 빠진 반미샌드위치\n",
      "리뷰 존재\n",
      "음식이 맛있어요\n",
      "인테리어가 멋져요\n",
      "가성비가 좋아요\n",
      "양이 많아요\n",
      "매장이 넓어요\n",
      "['베트남이랑'] ...완료\n",
      "[데이터 수집 완료]\n",
      "소요 시간 : 13.43146014213562 \n",
      "\n",
      "84번째 가게\n"
     ]
    },
    {
     "name": "stderr",
     "output_type": "stream",
     "text": [
      "The chromedriver version (128.0.6613.137) detected in PATH at c:\\Users\\kk21\\Desktop\\TRIPER\\chromedriver.exe might not be compatible with the detected chrome version (129.0.6668.101); currently, chromedriver 129.0.6668.100 is recommended for chrome 129.*, so it is advised to delete the driver in PATH and retry\n"
     ]
    },
    {
     "name": "stdout",
     "output_type": "stream",
     "text": [
      "https://map.naver.com/p/search/%EC%84%9C%EC%B4%88%EA%B5%AC%20%EB%A7%88%EB%A3%A8%EC%8B%AC%20%EB%B0%98%ED%8F%AC%EC%A0%90/place/20206990?c=15.00,0,0,0,dh&isCorrectAnswer=true\n",
      "결과 한 개\n",
      "\n",
      "[크롤링 시작...]\n",
      "마루심 반포점\n",
      "장어,먹장어요리\n",
      "서울 서초구 고무래로10길 10 청구빌딩 1층\n",
      "주문 유형 3\n",
      "히쯔마부시\n",
      "메뉴 설명 없음\n",
      "리뷰 존재\n",
      "음식이 맛있어요\n",
      "특별한 메뉴가 있어요\n",
      "재료가 신선해요\n",
      "친절해요\n",
      "특별한 날 가기 좋아요\n",
      "['마루심 반포점'] ...완료\n",
      "[데이터 수집 완료]\n",
      "소요 시간 : 13.378512382507324 \n",
      "\n",
      "85번째 가게\n"
     ]
    },
    {
     "name": "stderr",
     "output_type": "stream",
     "text": [
      "The chromedriver version (128.0.6613.137) detected in PATH at c:\\Users\\kk21\\Desktop\\TRIPER\\chromedriver.exe might not be compatible with the detected chrome version (129.0.6668.101); currently, chromedriver 129.0.6668.100 is recommended for chrome 129.*, so it is advised to delete the driver in PATH and retry\n"
     ]
    },
    {
     "name": "stdout",
     "output_type": "stream",
     "text": [
      "https://map.naver.com/p/search/%EC%84%9C%EC%B4%88%EA%B5%AC%20%EC%A3%BC?c=15.00,0,0,0,dh\n",
      "결과 여러 개 존재(지점 또는 근접 지역)\n",
      "\n",
      "[크롤링 시작...]\n",
      "주\n",
      "중식당\n",
      "서울 서초구 동광로19길 16 복합빌딩\n",
      "주문 유형 3\n",
      "양장피잡채\n",
      "메뉴 설명 없음\n",
      "리뷰 존재\n",
      "음식이 맛있어요\n",
      "특별한 메뉴가 있어요\n",
      "재료가 신선해요\n",
      "친절해요\n",
      "양이 많아요\n",
      "['주'] ...완료\n",
      "[데이터 수집 완료]\n",
      "소요 시간 : 13.410666465759277 \n",
      "\n",
      "./out_food_review/out_21_food.csv완료\n",
      "0번째 가게\n"
     ]
    },
    {
     "name": "stderr",
     "output_type": "stream",
     "text": [
      "The chromedriver version (128.0.6613.137) detected in PATH at c:\\Users\\kk21\\Desktop\\TRIPER\\chromedriver.exe might not be compatible with the detected chrome version (129.0.6668.101); currently, chromedriver 129.0.6668.100 is recommended for chrome 129.*, so it is advised to delete the driver in PATH and retry\n"
     ]
    },
    {
     "name": "stdout",
     "output_type": "stream",
     "text": [
      "https://map.naver.com/p/search/%EA%B0%95%EB%82%A8%EA%B5%AC%20%EC%88%98%EB%A6%BC%EB%B3%B5%EA%B5%AD?c=15.00,0,0,0,dh\n",
      "결과 여러 개 존재(지점 또는 근접 지역)\n",
      "\n",
      "[크롤링 시작...]\n",
      "수림복국\n",
      "복어요리\n",
      "서울 강남구 테헤란로77길 11-13 1층\n",
      "주문 유형 3\n",
      "복불고기정식\n",
      "복지리+복불고기\n",
      "리뷰 존재\n",
      "음식이 맛있어요\n",
      "재료가 신선해요\n",
      "특별한 메뉴가 있어요\n",
      "친절해요\n",
      "가성비가 좋아요\n",
      "['수림복국'] ...완료\n",
      "[데이터 수집 완료]\n",
      "소요 시간 : 13.414316892623901 \n",
      "\n",
      "1번째 가게\n"
     ]
    },
    {
     "name": "stderr",
     "output_type": "stream",
     "text": [
      "The chromedriver version (128.0.6613.137) detected in PATH at c:\\Users\\kk21\\Desktop\\TRIPER\\chromedriver.exe might not be compatible with the detected chrome version (129.0.6668.101); currently, chromedriver 129.0.6668.100 is recommended for chrome 129.*, so it is advised to delete the driver in PATH and retry\n"
     ]
    },
    {
     "name": "stdout",
     "output_type": "stream",
     "text": [
      "https://map.naver.com/p/search/%EA%B0%95%EB%82%A8%EA%B5%AC%20%EC%96%91%EC%9E%AC%EC%A1%B1%EB%B0%9C%20%EC%B0%B8%EC%A1%B1/place/38226320?c=15.00,0,0,0,dh&isCorrectAnswer=true\n",
      "결과 한 개\n",
      "\n",
      "[크롤링 시작...]\n",
      "양재족발 참족\n",
      "족발,보쌈\n",
      "서울 강남구 도곡로2길 14 1층\n",
      "주문 유형 3\n",
      "모듬족발(대)\n",
      "명품수제참족발(기본)+매운석쇠직화 또는 갈비석쇠직화족발 두가지맛을 즐길 수 있는 인기메뉴\n",
      "리뷰 존재\n",
      "음식이 맛있어요\n",
      "고기 질이 좋아요\n",
      "양이 많아요\n",
      "친절해요\n",
      "단체모임 하기 좋아요\n",
      "['양재족발 참족'] ...완료\n",
      "[데이터 수집 완료]\n",
      "소요 시간 : 13.386582374572754 \n",
      "\n",
      "2번째 가게\n"
     ]
    },
    {
     "name": "stderr",
     "output_type": "stream",
     "text": [
      "The chromedriver version (128.0.6613.137) detected in PATH at c:\\Users\\kk21\\Desktop\\TRIPER\\chromedriver.exe might not be compatible with the detected chrome version (129.0.6668.101); currently, chromedriver 129.0.6668.100 is recommended for chrome 129.*, so it is advised to delete the driver in PATH and retry\n"
     ]
    },
    {
     "name": "stdout",
     "output_type": "stream",
     "text": [
      "https://map.naver.com/p/search/%EA%B0%95%EB%82%A8%EA%B5%AC%20%EA%B5%AC%EA%B5%AC%EB%8B%B9/place/1074002248?c=15.00,0,0,0,dh&isCorrectAnswer=true\n",
      "결과 한 개\n",
      "\n",
      "[크롤링 시작...]\n",
      "구구당\n",
      "퓨전음식\n",
      "서울 강남구 강남대로102길 35 구구당\n",
      "주문 유형 3\n",
      "홍콩 파스타\n",
      "메뉴 설명 없음\n",
      "리뷰 존재\n",
      "음식이 맛있어요\n",
      "특별한 메뉴가 있어요\n",
      "인테리어가 멋져요\n",
      "매장이 넓어요\n",
      "친절해요\n",
      "['구구당'] ...완료\n",
      "[데이터 수집 완료]\n",
      "소요 시간 : 13.430073738098145 \n",
      "\n",
      "3번째 가게\n"
     ]
    },
    {
     "name": "stderr",
     "output_type": "stream",
     "text": [
      "The chromedriver version (128.0.6613.137) detected in PATH at c:\\Users\\kk21\\Desktop\\TRIPER\\chromedriver.exe might not be compatible with the detected chrome version (129.0.6668.101); currently, chromedriver 129.0.6668.100 is recommended for chrome 129.*, so it is advised to delete the driver in PATH and retry\n"
     ]
    },
    {
     "name": "stdout",
     "output_type": "stream",
     "text": [
      "https://map.naver.com/p/search/%EA%B0%95%EB%82%A8%EA%B5%AC%20%EB%8F%84%EC%BF%84%EC%82%AC%EC%9D%B4%EC%B9%B4%EB%B3%B4%20%EC%B2%AD%EB%8B%B4%EB%B3%B8%EC%A0%90/place/13272850?c=15.00,0,0,0,dh&isCorrectAnswer=true\n",
      "결과 한 개\n",
      "\n",
      "[크롤링 시작...]\n",
      "도쿄사이카보 청담본점\n",
      "일식당\n",
      "서울 강남구 도산대로101길 9\n",
      "주문 유형 3\n",
      "스키야키 디너 코스\n",
      "전채 / 죽 or 차왕무시 / 생선회 / 구이 / 튀김 / 스시 / 한우스키야키 / 디저트\n",
      "리뷰 존재\n",
      "음식이 맛있어요\n",
      "재료가 신선해요\n",
      "친절해요\n",
      "매장이 청결해요\n",
      "특별한 메뉴가 있어요\n",
      "['도쿄사이카보 청담본점'] ...완료\n",
      "[데이터 수집 완료]\n",
      "소요 시간 : 13.41331696510315 \n",
      "\n",
      "4번째 가게\n"
     ]
    },
    {
     "name": "stderr",
     "output_type": "stream",
     "text": [
      "The chromedriver version (128.0.6613.137) detected in PATH at c:\\Users\\kk21\\Desktop\\TRIPER\\chromedriver.exe might not be compatible with the detected chrome version (129.0.6668.101); currently, chromedriver 129.0.6668.100 is recommended for chrome 129.*, so it is advised to delete the driver in PATH and retry\n"
     ]
    },
    {
     "name": "stdout",
     "output_type": "stream",
     "text": [
      "https://map.naver.com/p/search/%EA%B0%95%EB%82%A8%EA%B5%AC%20%ED%8C%90%EA%B5%90%EC%A7%91%20%ED%95%99%EB%8F%99%EC%A7%81%EC%98%81%EC%A0%90/place/1308688889?c=15.00,0,0,0,dh&isCorrectAnswer=true\n",
      "결과 한 개\n",
      "\n",
      "[크롤링 시작...]\n",
      "판교집 학동직영점\n",
      "소고기구이\n",
      "서울 강남구 학동로 158 율암빌딩 지하 1층 106호\n",
      "주문 유형 3\n",
      "냉삼 2인분 + 쫄목살 2인분\n",
      "냉삼 2인분 (360g) + 쫄목살 2인분 (400g)\n",
      "리뷰 존재\n",
      "음식이 맛있어요\n",
      "고기 질이 좋아요\n",
      "친절해요\n",
      "매장이 청결해요\n",
      "단체모임 하기 좋아요\n",
      "['판교집 학동직영점'] ...완료\n",
      "[데이터 수집 완료]\n",
      "소요 시간 : 13.430326700210571 \n",
      "\n",
      "5번째 가게\n"
     ]
    },
    {
     "name": "stderr",
     "output_type": "stream",
     "text": [
      "The chromedriver version (128.0.6613.137) detected in PATH at c:\\Users\\kk21\\Desktop\\TRIPER\\chromedriver.exe might not be compatible with the detected chrome version (129.0.6668.101); currently, chromedriver 129.0.6668.100 is recommended for chrome 129.*, so it is advised to delete the driver in PATH and retry\n"
     ]
    },
    {
     "name": "stdout",
     "output_type": "stream",
     "text": [
      "https://map.naver.com/p/search/%EA%B0%95%EB%82%A8%EA%B5%AC%20%EC%98%81%EC%B0%A8%EB%96%A1%EB%B3%B6%EC%9D%B4/place/1027439824?c=15.00,0,0,0,dh&isCorrectAnswer=true\n",
      "결과 한 개\n",
      "\n",
      "[크롤링 시작...]\n",
      "영차떡볶이\n",
      "떡볶이\n",
      "서울 강남구 봉은사로4길 36 1층 101호\n",
      "주문 유형 3\n",
      "영차실속세트M (2인)\n",
      "영차떡볶이M + 고기튀김M or 새우튀김M +날치알볶음밥\n",
      "리뷰 존재\n",
      "음식이 맛있어요\n",
      "친절해요\n",
      "인테리어가 멋져요\n",
      "재료가 신선해요\n",
      "양이 많아요\n",
      "['영차떡볶이'] ...완료\n",
      "[데이터 수집 완료]\n",
      "소요 시간 : 13.418144941329956 \n",
      "\n",
      "6번째 가게\n"
     ]
    },
    {
     "name": "stderr",
     "output_type": "stream",
     "text": [
      "The chromedriver version (128.0.6613.137) detected in PATH at c:\\Users\\kk21\\Desktop\\TRIPER\\chromedriver.exe might not be compatible with the detected chrome version (129.0.6668.101); currently, chromedriver 129.0.6668.100 is recommended for chrome 129.*, so it is advised to delete the driver in PATH and retry\n"
     ]
    },
    {
     "name": "stdout",
     "output_type": "stream",
     "text": [
      "https://map.naver.com/p/search/%EA%B0%95%EB%82%A8%EA%B5%AC%20%EB%B0%94%EB%B9%84%EB%A0%88%EB%93%9C%20%EA%B0%95%EB%82%A8%EB%B3%B8%EC%A0%90?c=15.00,0,0,0,dh\n",
      "결과 여러 개 존재(지점 또는 근접 지역)\n",
      "\n",
      "[크롤링 시작...]\n",
      "바비레드 강남본점\n",
      "이탈리아음식\n",
      "서울 강남구 봉은사로6길 39 바비레드\n",
      "주문 유형 3\n",
      "대표 메뉴 없음\n",
      "메뉴 설명 없음\n",
      "오류 예외 처리\n",
      "7번째 가게\n"
     ]
    },
    {
     "name": "stderr",
     "output_type": "stream",
     "text": [
      "The chromedriver version (128.0.6613.137) detected in PATH at c:\\Users\\kk21\\Desktop\\TRIPER\\chromedriver.exe might not be compatible with the detected chrome version (129.0.6668.101); currently, chromedriver 129.0.6668.100 is recommended for chrome 129.*, so it is advised to delete the driver in PATH and retry\n"
     ]
    },
    {
     "name": "stdout",
     "output_type": "stream",
     "text": [
      "https://map.naver.com/p/search/%EA%B0%95%EB%82%A8%EA%B5%AC%20%EC%95%95%EA%B5%AC%EC%A0%95%EB%8F%84%EB%A1%B1%EB%87%BD/place/1582783144?c=15.00,0,0,0,dh&isCorrectAnswer=true\n",
      "결과 한 개\n",
      "\n",
      "[크롤링 시작...]\n",
      "압구정도롱뇽\n",
      "요리주점\n",
      "서울 강남구 선릉로157길 27-4 2층 압구정 도롱뇽\n",
      "주문 유형 3\n",
      "꽃막(시그니처)\n",
      "'압구정도롱뇽'의 수제소스를 버무린 꼬막, 푸짐한 메밀면. 예쁜 꽃들을 만나보세요!\n",
      "리뷰 존재\n",
      "음식이 맛있어요\n",
      "인테리어가 멋져요\n",
      "친절해요\n",
      "매장이 넓어요\n",
      "특별한 메뉴가 있어요\n",
      "['압구정도롱뇽'] ...완료\n",
      "[데이터 수집 완료]\n",
      "소요 시간 : 13.408664226531982 \n",
      "\n",
      "8번째 가게\n"
     ]
    },
    {
     "name": "stderr",
     "output_type": "stream",
     "text": [
      "The chromedriver version (128.0.6613.137) detected in PATH at c:\\Users\\kk21\\Desktop\\TRIPER\\chromedriver.exe might not be compatible with the detected chrome version (129.0.6668.101); currently, chromedriver 129.0.6668.100 is recommended for chrome 129.*, so it is advised to delete the driver in PATH and retry\n"
     ]
    },
    {
     "name": "stdout",
     "output_type": "stream",
     "text": [
      "https://map.naver.com/p/search/%EA%B0%95%EB%82%A8%EA%B5%AC%20%EC%95%84%EC%AD%88?c=15.00,0,0,0,dh\n",
      "결과 여러 개 존재(지점 또는 근접 지역)\n",
      "\n",
      "[크롤링 시작...]\n",
      "아쭈\n",
      "주꾸미요리\n",
      "서울 강남구 강남대로112길 15 다다무역빌딩 2층 아쭈\n",
      "주문 유형 3\n",
      "낙지삼합\n",
      "저희 가게 신메뉴 입니다. (낙지+전복+소고기)\n",
      "리뷰 존재\n",
      "음식이 맛있어요\n",
      "친절해요\n",
      "재료가 신선해요\n",
      "매장이 넓어요\n",
      "인테리어가 멋져요\n",
      "['아쭈'] ...완료\n",
      "[데이터 수집 완료]\n",
      "소요 시간 : 13.400115728378296 \n",
      "\n",
      "9번째 가게\n"
     ]
    },
    {
     "name": "stderr",
     "output_type": "stream",
     "text": [
      "The chromedriver version (128.0.6613.137) detected in PATH at c:\\Users\\kk21\\Desktop\\TRIPER\\chromedriver.exe might not be compatible with the detected chrome version (129.0.6668.101); currently, chromedriver 129.0.6668.100 is recommended for chrome 129.*, so it is advised to delete the driver in PATH and retry\n"
     ]
    },
    {
     "name": "stdout",
     "output_type": "stream",
     "text": [
      "https://map.naver.com/p/search/%EA%B0%95%EB%82%A8%EA%B5%AC%20%EC%83%A4%EB%B8%94%EB%A6%AC%20%EC%8B%A0%EC%82%AC%EB%B3%B8%EC%A0%90/place/1417591954?c=15.00,0,0,0,dh&isCorrectAnswer=true\n",
      "결과 한 개\n",
      "\n",
      "[크롤링 시작...]\n",
      "샤블리 신사본점\n",
      "샤브샤브\n",
      "서울 강남구 강남대로152길 35 2층\n",
      "주문 유형 3\n",
      "샤블리 정식\n",
      "월남쌈(무제한) + 소고기샤브(120g) + 샤브야채 + 칼국수 + 죽\n",
      "리뷰 존재\n",
      "음식이 맛있어요\n",
      "재료가 신선해요\n",
      "친절해요\n",
      "양이 많아요\n",
      "매장이 넓어요\n",
      "['샤블리 신사본점'] ...완료\n",
      "[데이터 수집 완료]\n",
      "소요 시간 : 13.458203315734863 \n",
      "\n",
      "10번째 가게\n"
     ]
    },
    {
     "name": "stderr",
     "output_type": "stream",
     "text": [
      "The chromedriver version (128.0.6613.137) detected in PATH at c:\\Users\\kk21\\Desktop\\TRIPER\\chromedriver.exe might not be compatible with the detected chrome version (129.0.6668.101); currently, chromedriver 129.0.6668.100 is recommended for chrome 129.*, so it is advised to delete the driver in PATH and retry\n"
     ]
    },
    {
     "name": "stdout",
     "output_type": "stream",
     "text": [
      "https://map.naver.com/p/search/%EA%B0%95%EB%82%A8%EA%B5%AC%20%ED%94%8C%EB%A5%B4%EC%84%9C%EB%9D%BC%EA%B5%AC%EB%9C%A8/place/1133107813?c=15.00,0,0,0,dh&isCorrectAnswer=true\n",
      "결과 한 개\n",
      "\n",
      "[크롤링 시작...]\n",
      "플르서라구뜨\n",
      "브런치\n",
      "서울 강남구 압구정로46길 23 1층 Fleurs sur la route 플르서라구뜨\n",
      "주문 유형 3\n",
      "베이컨 크림 리가토니\n",
      "3가지이상의 치즈 와 라구뜨만의 크림, 각종야채와 베이컨이 들어간 인상적인 식감의 리가토니\n",
      "리뷰 존재\n",
      "음식이 맛있어요\n",
      "인테리어가 멋져요\n",
      "친절해요\n",
      "특별한 메뉴가 있어요\n",
      "특별한 날 가기 좋아요\n",
      "['플르서라구뜨'] ...완료\n",
      "[데이터 수집 완료]\n",
      "소요 시간 : 13.39748764038086 \n",
      "\n",
      "11번째 가게\n"
     ]
    },
    {
     "name": "stderr",
     "output_type": "stream",
     "text": [
      "The chromedriver version (128.0.6613.137) detected in PATH at c:\\Users\\kk21\\Desktop\\TRIPER\\chromedriver.exe might not be compatible with the detected chrome version (129.0.6668.101); currently, chromedriver 129.0.6668.100 is recommended for chrome 129.*, so it is advised to delete the driver in PATH and retry\n"
     ]
    },
    {
     "name": "stdout",
     "output_type": "stream",
     "text": [
      "https://map.naver.com/p/search/%EA%B0%95%EB%82%A8%EA%B5%AC%20%EC%8A%A4%EC%8B%9C%EB%A7%88%EC%9D%B4%EC%9A%B0%20%EC%84%A0%EB%A6%89%EC%97%AD%EC%A0%90?c=15.00,0,0,0,dh\n",
      "결과 여러 개 존재(지점 또는 근접 지역)\n",
      "\n",
      "[크롤링 시작...]\n",
      "스시마이우 선릉역점\n",
      "초밥,롤\n",
      "서울 강남구 선릉로93길 22\n",
      "주문 유형 3\n",
      "점심특선A정식\n",
      "인기 많은 기본메뉴 입니다\n",
      "리뷰 존재\n",
      "음식이 맛있어요\n",
      "혼밥하기 좋아요\n",
      "친절해요\n",
      "가성비가 좋아요\n",
      "재료가 신선해요\n",
      "['스시마이우 선릉역점'] ...완료\n",
      "[데이터 수집 완료]\n",
      "소요 시간 : 13.435099601745605 \n",
      "\n",
      "12번째 가게\n"
     ]
    },
    {
     "name": "stderr",
     "output_type": "stream",
     "text": [
      "The chromedriver version (128.0.6613.137) detected in PATH at c:\\Users\\kk21\\Desktop\\TRIPER\\chromedriver.exe might not be compatible with the detected chrome version (129.0.6668.101); currently, chromedriver 129.0.6668.100 is recommended for chrome 129.*, so it is advised to delete the driver in PATH and retry\n"
     ]
    },
    {
     "name": "stdout",
     "output_type": "stream",
     "text": [
      "https://map.naver.com/p/search/%EA%B0%95%EB%82%A8%EA%B5%AC%20%EC%9E%A0%EC%88%98%EA%B5%90%EC%A7%91%20%EC%95%95%EA%B5%AC%EC%A0%95%20%EC%A7%81%EC%98%81%EC%A0%90?c=15.00,0,0,0,dh\n",
      "결과 여러 개 존재(지점 또는 근접 지역)\n",
      "\n",
      "[크롤링 시작...]\n",
      "잠수교집 압구정 직영점\n",
      "돼지고기구이\n",
      "서울 강남구 언주로153길 14 잠수교집\n",
      "주문 유형 3\n",
      "생삼겹살 1인분(170g)\n",
      "쫄면사리추가 1,000원\n",
      "리뷰 존재\n",
      "음식이 맛있어요\n",
      "친절해요\n",
      "특별한 메뉴가 있어요\n",
      "고기 질이 좋아요\n",
      "가성비가 좋아요\n",
      "['잠수교집 압구정 직영점'] ...완료\n",
      "[데이터 수집 완료]\n",
      "소요 시간 : 13.407439231872559 \n",
      "\n",
      "13번째 가게\n"
     ]
    },
    {
     "name": "stderr",
     "output_type": "stream",
     "text": [
      "The chromedriver version (128.0.6613.137) detected in PATH at c:\\Users\\kk21\\Desktop\\TRIPER\\chromedriver.exe might not be compatible with the detected chrome version (129.0.6668.101); currently, chromedriver 129.0.6668.100 is recommended for chrome 129.*, so it is advised to delete the driver in PATH and retry\n"
     ]
    },
    {
     "name": "stdout",
     "output_type": "stream",
     "text": [
      "https://map.naver.com/p/search/%EA%B0%95%EB%82%A8%EA%B5%AC%20%EB%9E%A8%EB%B8%8C%EB%9D%BC%ED%8A%BC/place/35623097?c=15.00,0,0,0,dh&isCorrectAnswer=true\n",
      "결과 한 개\n",
      "\n",
      "[크롤링 시작...]\n",
      "램브라튼\n",
      "육류,고기요리\n",
      "서울 강남구 압구정로10길 30-10 지상1층 램브라튼\n",
      "주문 유형 3\n",
      "프렌치 랙\n",
      "메뉴 설명 없음\n",
      "리뷰 존재\n",
      "음식이 맛있어요\n",
      "고기 질이 좋아요\n",
      "친절해요\n",
      "인테리어가 멋져요\n",
      "특별한 메뉴가 있어요\n",
      "['램브라튼'] ...완료\n",
      "[데이터 수집 완료]\n",
      "소요 시간 : 13.45335078239441 \n",
      "\n",
      "14번째 가게\n"
     ]
    },
    {
     "name": "stderr",
     "output_type": "stream",
     "text": [
      "The chromedriver version (128.0.6613.137) detected in PATH at c:\\Users\\kk21\\Desktop\\TRIPER\\chromedriver.exe might not be compatible with the detected chrome version (129.0.6668.101); currently, chromedriver 129.0.6668.100 is recommended for chrome 129.*, so it is advised to delete the driver in PATH and retry\n"
     ]
    },
    {
     "name": "stdout",
     "output_type": "stream",
     "text": [
      "https://map.naver.com/p/search/%EA%B0%95%EB%82%A8%EA%B5%AC%20%EC%A4%91%ED%99%94%EA%B0%9D%EC%9E%94%EC%88%98%20%EC%95%95%EA%B5%AC%EC%A0%95%EC%A0%90/place/1138031910?c=15.00,0,0,0,dh&isCorrectAnswer=true\n",
      "결과 한 개\n",
      "\n",
      "[크롤링 시작...]\n",
      "중화객잔수 압구정점\n",
      "중식당\n",
      "서울 강남구 논현로175길 64 지상1층\n",
      "주문 유형 3\n",
      "중화\"수\"특짬뽕\n",
      "짬뽕에 볶음밥이 말아져서 나옵니다\n",
      "리뷰 존재\n",
      "음식이 맛있어요\n",
      "재료가 신선해요\n",
      "친절해요\n",
      "양이 많아요\n",
      "특별한 메뉴가 있어요\n",
      "['중화객잔수 압구정점'] ...완료\n",
      "[데이터 수집 완료]\n",
      "소요 시간 : 13.406182765960693 \n",
      "\n",
      "15번째 가게\n"
     ]
    },
    {
     "name": "stderr",
     "output_type": "stream",
     "text": [
      "The chromedriver version (128.0.6613.137) detected in PATH at c:\\Users\\kk21\\Desktop\\TRIPER\\chromedriver.exe might not be compatible with the detected chrome version (129.0.6668.101); currently, chromedriver 129.0.6668.100 is recommended for chrome 129.*, so it is advised to delete the driver in PATH and retry\n"
     ]
    },
    {
     "name": "stdout",
     "output_type": "stream",
     "text": [
      "https://map.naver.com/p/search/%EA%B0%95%EB%82%A8%EA%B5%AC%20%ED%9A%8C%EC%8B%9D%EC%9D%98%EB%8B%AC%EC%9D%B8%20%EC%8B%A0%EB%85%BC%ED%98%84%EC%A0%90?c=15.00,0,0,0,dh\n",
      "결과 여러 개 존재(지점 또는 근접 지역)\n",
      "\n",
      "[크롤링 시작...]\n",
      "회식의달인 신논현점\n",
      "육류,고기요리\n",
      "서울 강남구 학동로2길 39 2층\n",
      "주문 유형 3\n",
      "성인\n",
      "메뉴 설명 없음\n",
      "리뷰 존재\n",
      "음식이 맛있어요\n",
      "가성비가 좋아요\n",
      "매장이 넓어요\n",
      "재료가 신선해요\n",
      "단체모임 하기 좋아요\n",
      "['회식의달인 신논현점'] ...완료\n",
      "[데이터 수집 완료]\n",
      "소요 시간 : 13.415272235870361 \n",
      "\n",
      "16번째 가게\n"
     ]
    },
    {
     "name": "stderr",
     "output_type": "stream",
     "text": [
      "The chromedriver version (128.0.6613.137) detected in PATH at c:\\Users\\kk21\\Desktop\\TRIPER\\chromedriver.exe might not be compatible with the detected chrome version (129.0.6668.101); currently, chromedriver 129.0.6668.100 is recommended for chrome 129.*, so it is advised to delete the driver in PATH and retry\n"
     ]
    },
    {
     "name": "stdout",
     "output_type": "stream",
     "text": [
      "https://map.naver.com/p/search/%EA%B0%95%EB%82%A8%EA%B5%AC%20%EB%A3%A8%EC%95%84?c=15.00,0,0,0,dh\n",
      "결과 여러 개 존재(지점 또는 근접 지역)\n",
      "\n",
      "[크롤링 시작...]\n",
      "루아\n",
      "이자카야\n",
      "서울 강남구 삼성로100길 23-11 지하1층\n",
      "주문 유형 3\n",
      "7 course\n",
      "7가지 순서로 제공되는 코스메뉴입니다.\n",
      "리뷰 존재\n",
      "음식이 맛있어요\n",
      "인테리어가 멋져요\n",
      "대화하기 좋아요\n",
      "친절해요\n",
      "특별한 메뉴가 있어요\n",
      "['루아'] ...완료\n",
      "[데이터 수집 완료]\n",
      "소요 시간 : 13.425383806228638 \n",
      "\n",
      "17번째 가게\n"
     ]
    },
    {
     "name": "stderr",
     "output_type": "stream",
     "text": [
      "The chromedriver version (128.0.6613.137) detected in PATH at c:\\Users\\kk21\\Desktop\\TRIPER\\chromedriver.exe might not be compatible with the detected chrome version (129.0.6668.101); currently, chromedriver 129.0.6668.100 is recommended for chrome 129.*, so it is advised to delete the driver in PATH and retry\n"
     ]
    },
    {
     "name": "stdout",
     "output_type": "stream",
     "text": [
      "https://map.naver.com/p/search/%EA%B0%95%EB%82%A8%EA%B5%AC%20%EC%82%BC%EA%B2%B9%EC%82%B4%EC%A0%84%EB%AC%B8%EC%A0%90%EB%8C%80%ED%86%B5%EB%A0%B9%20%EC%97%AD%EC%82%BC%EC%A0%90/place/20563653?c=15.00,0,0,0,dh&isCorrectAnswer=true\n",
      "결과 한 개\n",
      "\n",
      "[크롤링 시작...]\n",
      "삼겹살전문점대통령 역삼점\n",
      "돼지고기구이\n",
      "서울 강남구 강남대로110길 14 1층\n",
      "주문 유형 3\n",
      "차돌박이\n",
      "풍부한 육향과 고소한 기름향이 입안가득 느껴지는 한우\n",
      "리뷰 존재\n",
      "음식이 맛있어요\n",
      "고기 질이 좋아요\n",
      "친절해요\n",
      "단체모임 하기 좋아요\n",
      "직접 잘 구워줘요\n",
      "['삼겹살전문점대통령 역삼점'] ...완료\n",
      "[데이터 수집 완료]\n",
      "소요 시간 : 13.482170820236206 \n",
      "\n",
      "18번째 가게\n"
     ]
    },
    {
     "name": "stderr",
     "output_type": "stream",
     "text": [
      "The chromedriver version (128.0.6613.137) detected in PATH at c:\\Users\\kk21\\Desktop\\TRIPER\\chromedriver.exe might not be compatible with the detected chrome version (129.0.6668.101); currently, chromedriver 129.0.6668.100 is recommended for chrome 129.*, so it is advised to delete the driver in PATH and retry\n"
     ]
    },
    {
     "name": "stdout",
     "output_type": "stream",
     "text": [
      "https://map.naver.com/p/search/%EA%B0%95%EB%82%A8%EA%B5%AC%20%EC%9E%A5%EC%9D%B8%EB%8B%AD%EA%B0%88%EB%B9%84%20%EA%B0%95%EB%82%A8%EC%A0%90?c=15.00,0,0,0,dh\n",
      "결과 여러 개 존재(지점 또는 근접 지역)\n",
      "\n",
      "[크롤링 시작...]\n",
      "장인닭갈비 강남점\n",
      "닭갈비\n",
      "서울 강남구 테헤란로1길 19\n",
      "주문 유형 3\n",
      "장인 닭갈비\n",
      "국내산 닭과 자체 제조한 특제 비법 소스의 만남! 장인닭갈비 시그니처 메뉴\n",
      "리뷰 존재\n",
      "음식이 맛있어요\n",
      "양이 많아요\n",
      "매장이 넓어요\n",
      "친절해요\n",
      "고기 질이 좋아요\n",
      "['장인닭갈비 강남점'] ...완료\n",
      "[데이터 수집 완료]\n",
      "소요 시간 : 13.381479501724243 \n",
      "\n",
      "19번째 가게\n"
     ]
    },
    {
     "name": "stderr",
     "output_type": "stream",
     "text": [
      "The chromedriver version (128.0.6613.137) detected in PATH at c:\\Users\\kk21\\Desktop\\TRIPER\\chromedriver.exe might not be compatible with the detected chrome version (129.0.6668.101); currently, chromedriver 129.0.6668.100 is recommended for chrome 129.*, so it is advised to delete the driver in PATH and retry\n"
     ]
    },
    {
     "name": "stdout",
     "output_type": "stream",
     "text": [
      "https://map.naver.com/p/search/%EA%B0%95%EB%82%A8%EA%B5%AC%20%EC%A7%84%EC%A0%84%EB%B3%B5%EC%82%BC%EA%B3%84%ED%83%95%20%EB%B3%B8%EC%A0%90/place/1610220930?c=15.00,0,0,0,dh&isCorrectAnswer=true\n",
      "결과 한 개\n",
      "\n",
      "[크롤링 시작...]\n",
      "진전복삼계탕 본점\n",
      "백숙,삼계탕\n",
      "서울 강남구 선릉로129길 21 B1층\n",
      "주문 유형 3\n",
      "대표 메뉴 없음\n",
      "메뉴 설명 없음\n",
      "오류 예외 처리\n",
      "20번째 가게\n"
     ]
    },
    {
     "name": "stderr",
     "output_type": "stream",
     "text": [
      "The chromedriver version (128.0.6613.137) detected in PATH at c:\\Users\\kk21\\Desktop\\TRIPER\\chromedriver.exe might not be compatible with the detected chrome version (129.0.6668.101); currently, chromedriver 129.0.6668.100 is recommended for chrome 129.*, so it is advised to delete the driver in PATH and retry\n"
     ]
    },
    {
     "name": "stdout",
     "output_type": "stream",
     "text": [
      "https://map.naver.com/p/search/%EA%B0%95%EB%82%A8%EA%B5%AC%20%EB%85%B8%EC%BB%A4%ED%94%BC%20%EC%84%9C%EC%9A%B8/place/1235600613?c=15.00,0,0,0,dh&isCorrectAnswer=true\n",
      "결과 한 개\n",
      "\n",
      "[크롤링 시작...]\n",
      "노커피 서울\n",
      "카페,디저트\n",
      "서울 강남구 압구정로20길 19 1층\n",
      "주문 유형 3\n",
      "블랙라떼\n",
      "에스프레소에 차콜 파우더를 더해 우유와 함께 아름다운 층을 만들어내는 라떼\n",
      "리뷰 존재\n",
      "커피가 맛있어요\n",
      "특별한 메뉴가 있어요\n",
      "인테리어가 멋져요\n",
      "매장이 청결해요\n",
      "사진이 잘 나와요\n",
      "['노커피 서울'] ...완료\n",
      "[데이터 수집 완료]\n",
      "소요 시간 : 13.56603717803955 \n",
      "\n",
      "21번째 가게\n"
     ]
    },
    {
     "name": "stderr",
     "output_type": "stream",
     "text": [
      "The chromedriver version (128.0.6613.137) detected in PATH at c:\\Users\\kk21\\Desktop\\TRIPER\\chromedriver.exe might not be compatible with the detected chrome version (129.0.6668.101); currently, chromedriver 129.0.6668.100 is recommended for chrome 129.*, so it is advised to delete the driver in PATH and retry\n"
     ]
    },
    {
     "name": "stdout",
     "output_type": "stream",
     "text": [
      "https://map.naver.com/p/search/%EA%B0%95%EB%82%A8%EA%B5%AC%20%EC%9D%BC%EC%9D%BC%ED%96%A5%20%EB%85%BC%ED%98%842%ED%98%B8%EC%A0%90?c=15.00,0,0,0,dh\n",
      "결과 여러 개 존재(지점 또는 근접 지역)\n",
      "\n",
      "[크롤링 시작...]\n",
      "일일향 논현2호점\n",
      "중식당\n",
      "서울 강남구 봉은사로 167\n",
      "주문 유형 3\n",
      "어향동고\n",
      "2~3인기준\n",
      "리뷰 존재\n",
      "음식이 맛있어요\n",
      "친절해요\n",
      "재료가 신선해요\n",
      "매장이 넓어요\n",
      "특별한 메뉴가 있어요\n",
      "['일일향 논현2호점'] ...완료\n",
      "[데이터 수집 완료]\n",
      "소요 시간 : 13.424765825271606 \n",
      "\n",
      "22번째 가게\n"
     ]
    },
    {
     "name": "stderr",
     "output_type": "stream",
     "text": [
      "The chromedriver version (128.0.6613.137) detected in PATH at c:\\Users\\kk21\\Desktop\\TRIPER\\chromedriver.exe might not be compatible with the detected chrome version (129.0.6668.101); currently, chromedriver 129.0.6668.100 is recommended for chrome 129.*, so it is advised to delete the driver in PATH and retry\n"
     ]
    },
    {
     "name": "stdout",
     "output_type": "stream",
     "text": [
      "https://map.naver.com/p/search/%EA%B0%95%EB%82%A8%EA%B5%AC%20%EB%A1%B1%ED%83%80%EC%9E%84%EB%85%B8%EC%94%A8%20%EC%8B%A0%EC%82%AC%EC%A0%90?c=15.00,0,0,0,dh\n",
      "결과 여러 개 존재(지점 또는 근접 지역)\n",
      "\n",
      "[크롤링 시작...]\n",
      "롱타임노씨 신사점\n",
      "맥주,호프\n",
      "서울 강남구 강남대로152길 15 2층\n",
      "주문 유형 3\n",
      "롱타임노씨(토마토 시금치 피자)\n",
      "토마토소스와 바질패스토, 토마토를 듬뿍 토핑하고 시금치와 랜치소스, 발사믹소스를 더한 피자\n",
      "리뷰 존재\n",
      "음식이 맛있어요\n",
      "술이 다양해요\n",
      "가성비가 좋아요\n",
      "친절해요\n",
      "대화하기 좋아요\n",
      "['롱타임노씨 신사점'] ...완료\n",
      "[데이터 수집 완료]\n",
      "소요 시간 : 13.467527627944946 \n",
      "\n",
      "23번째 가게\n"
     ]
    },
    {
     "name": "stderr",
     "output_type": "stream",
     "text": [
      "The chromedriver version (128.0.6613.137) detected in PATH at c:\\Users\\kk21\\Desktop\\TRIPER\\chromedriver.exe might not be compatible with the detected chrome version (129.0.6668.101); currently, chromedriver 129.0.6668.100 is recommended for chrome 129.*, so it is advised to delete the driver in PATH and retry\n"
     ]
    },
    {
     "name": "stdout",
     "output_type": "stream",
     "text": [
      "https://map.naver.com/p/search/%EA%B0%95%EB%82%A8%EA%B5%AC%20%EC%95%95%EA%B5%AC%EC%A0%95%EC%A0%9C%EC%A3%BC%EC%A7%91?c=15.00,0,0,0,dh\n",
      "결과 여러 개 존재(지점 또는 근접 지역)\n",
      "\n",
      "[크롤링 시작...]\n",
      "압구정제주집\n",
      "육류,고기요리\n",
      "서울 강남구 논현로152길 36 1층\n",
      "주문 유형 3\n",
      "한라산세트\n",
      "흑돼지삼겹살+꽃치마살+꼬들덜미살+관자살+뽈살+껍데기+앞다리살+뼈살+목살 (900g)\n",
      "리뷰 존재\n",
      "음식이 맛있어요\n",
      "친절해요\n",
      "특별한 메뉴가 있어요\n",
      "고기 질이 좋아요\n",
      "재료가 신선해요\n",
      "['압구정제주집'] ...완료\n",
      "[데이터 수집 완료]\n",
      "소요 시간 : 13.410911560058594 \n",
      "\n",
      "24번째 가게\n"
     ]
    },
    {
     "name": "stderr",
     "output_type": "stream",
     "text": [
      "The chromedriver version (128.0.6613.137) detected in PATH at c:\\Users\\kk21\\Desktop\\TRIPER\\chromedriver.exe might not be compatible with the detected chrome version (129.0.6668.101); currently, chromedriver 129.0.6668.100 is recommended for chrome 129.*, so it is advised to delete the driver in PATH and retry\n"
     ]
    },
    {
     "name": "stdout",
     "output_type": "stream",
     "text": [
      "https://map.naver.com/p/search/%EA%B0%95%EB%82%A8%EA%B5%AC%20%EC%9D%B4%EB%B3%B5%ED%9D%AC%ED%95%B4%EC%9E%A5%20%EC%84%A0%EB%A6%89%EC%A0%90/place/1375943999?c=15.00,0,0,0,dh&isCorrectAnswer=true\n",
      "결과 한 개\n",
      "\n",
      "[크롤링 시작...]\n",
      "이복희해장 선릉점\n",
      "한식\n",
      "서울 강남구 테헤란로70길 14-12 지상1층\n",
      "주문 유형 3\n",
      "한판수육전골\n",
      "부드러운 살코기 사태와 쫀득한 스지를 푸짐하게 즐길 수 있는 전골식 수육\n",
      "리뷰 존재\n",
      "음식이 맛있어요\n",
      "재료가 신선해요\n",
      "양이 많아요\n",
      "친절해요\n",
      "매장이 넓어요\n",
      "['이복희해장 선릉점'] ...완료\n",
      "[데이터 수집 완료]\n",
      "소요 시간 : 13.435741662979126 \n",
      "\n",
      "25번째 가게\n"
     ]
    },
    {
     "name": "stderr",
     "output_type": "stream",
     "text": [
      "The chromedriver version (128.0.6613.137) detected in PATH at c:\\Users\\kk21\\Desktop\\TRIPER\\chromedriver.exe might not be compatible with the detected chrome version (129.0.6668.101); currently, chromedriver 129.0.6668.100 is recommended for chrome 129.*, so it is advised to delete the driver in PATH and retry\n"
     ]
    },
    {
     "name": "stdout",
     "output_type": "stream",
     "text": [
      "https://map.naver.com/p/search/%EA%B0%95%EB%82%A8%EA%B5%AC%20%EC%8A%A4%EC%8B%9C%EC%9D%B4%EC%95%88%EC%95%A4%20%EA%B0%95%EB%82%A8%EC%97%AD%EC%A0%90/place/1531943958?c=15.00,0,0,0,dh&isCorrectAnswer=true\n",
      "결과 한 개\n",
      "\n",
      "[크롤링 시작...]\n",
      "스시이안앤 강남역점\n",
      "초밥,롤\n",
      "서울 강남구 테헤란로1길 25 2층\n",
      "주문 유형 3\n",
      "접시당 1990원\n",
      "모든 접시 균일가 1990원\n",
      "리뷰 존재\n",
      "음식이 맛있어요\n",
      "가성비가 좋아요\n",
      "재료가 신선해요\n",
      "친절해요\n",
      "혼밥하기 좋아요\n",
      "['스시이안앤 강남역점'] ...완료\n",
      "[데이터 수집 완료]\n",
      "소요 시간 : 13.420495748519897 \n",
      "\n",
      "26번째 가게\n"
     ]
    },
    {
     "name": "stderr",
     "output_type": "stream",
     "text": [
      "The chromedriver version (128.0.6613.137) detected in PATH at c:\\Users\\kk21\\Desktop\\TRIPER\\chromedriver.exe might not be compatible with the detected chrome version (129.0.6668.101); currently, chromedriver 129.0.6668.100 is recommended for chrome 129.*, so it is advised to delete the driver in PATH and retry\n"
     ]
    },
    {
     "name": "stdout",
     "output_type": "stream",
     "text": [
      "https://map.naver.com/p/search/%EA%B0%95%EB%82%A8%EA%B5%AC%20%EC%98%A5%EB%90%9C%EC%9E%A5%20%EC%82%BC%EC%84%B12%ED%98%B8%EC%A0%90?c=15.00,0,0,0,dh\n",
      "결과 여러 개 존재(지점 또는 근접 지역)\n",
      "\n",
      "[크롤링 시작...]\n",
      "옥된장 삼성2호점\n",
      "한식\n",
      "서울 강남구 삼성로86길 14 1층\n",
      "주문 유형 3\n",
      "(NEW❤️)뼈갈비전골大 1,200g\n",
      "한정 판매\n",
      "리뷰 존재\n",
      "음식이 맛있어요\n",
      "재료가 신선해요\n",
      "친절해요\n",
      "양이 많아요\n",
      "특별한 메뉴가 있어요\n",
      "['옥된장 삼성2호점'] ...완료\n",
      "[데이터 수집 완료]\n",
      "소요 시간 : 13.457875490188599 \n",
      "\n",
      "27번째 가게\n"
     ]
    },
    {
     "name": "stderr",
     "output_type": "stream",
     "text": [
      "The chromedriver version (128.0.6613.137) detected in PATH at c:\\Users\\kk21\\Desktop\\TRIPER\\chromedriver.exe might not be compatible with the detected chrome version (129.0.6668.101); currently, chromedriver 129.0.6668.100 is recommended for chrome 129.*, so it is advised to delete the driver in PATH and retry\n"
     ]
    },
    {
     "name": "stdout",
     "output_type": "stream",
     "text": [
      "https://map.naver.com/p/search/%EA%B0%95%EB%82%A8%EA%B5%AC%20%EB%8F%99%EC%96%B4%EB%8F%99%EB%9D%BD%20%EC%82%BC%EC%84%B1%EB%B3%B8%EC%A0%90/place/1606942616?c=15.00,0,0,0,dh&isCorrectAnswer=true\n",
      "결과 한 개\n",
      "\n",
      "[크롤링 시작...]\n",
      "동어동락 삼성본점\n",
      "생선회\n",
      "서울 강남구 삼성로96길 7 동어동락 삼성본점\n",
      "주문 유형 3\n",
      "활!고등어회+특제양념장+초대리밥\n",
      "살아있는 활고등어를 서울에서!? 특제양념장과 초대리밥과 함께 드셔보세요!\n",
      "리뷰 존재\n",
      "음식이 맛있어요\n",
      "재료가 신선해요\n",
      "친절해요\n",
      "매장이 넓어요\n",
      "단체모임 하기 좋아요\n",
      "['동어동락 삼성본점'] ...완료\n",
      "[데이터 수집 완료]\n",
      "소요 시간 : 13.430493593215942 \n",
      "\n",
      "28번째 가게\n"
     ]
    },
    {
     "name": "stderr",
     "output_type": "stream",
     "text": [
      "The chromedriver version (128.0.6613.137) detected in PATH at c:\\Users\\kk21\\Desktop\\TRIPER\\chromedriver.exe might not be compatible with the detected chrome version (129.0.6668.101); currently, chromedriver 129.0.6668.100 is recommended for chrome 129.*, so it is advised to delete the driver in PATH and retry\n"
     ]
    },
    {
     "name": "stdout",
     "output_type": "stream",
     "text": [
      "https://map.naver.com/p/search/%EA%B0%95%EB%82%A8%EA%B5%AC%20%EC%9D%B4%EB%8B%B4%20%EC%95%95%EA%B5%AC%EC%A0%95/place/1332877182?c=15.00,0,0,0,dh&isCorrectAnswer=true\n",
      "결과 한 개\n",
      "\n",
      "[크롤링 시작...]\n",
      "이담 압구정\n",
      "돼지고기구이\n",
      "서울 강남구 압구정로50길 7\n",
      "주문 유형 3\n",
      "이담 프리미엄 모듬 set\n",
      "이담의 모든 고기를 맛볼수있는 대표 set 메뉴\n",
      "리뷰 존재\n",
      "음식이 맛있어요\n",
      "고기 질이 좋아요\n",
      "친절해요\n",
      "재료가 신선해요\n",
      "직접 잘 구워줘요\n",
      "['이담 압구정'] ...완료\n",
      "[데이터 수집 완료]\n",
      "소요 시간 : 13.461849689483643 \n",
      "\n",
      "29번째 가게\n"
     ]
    },
    {
     "name": "stderr",
     "output_type": "stream",
     "text": [
      "The chromedriver version (128.0.6613.137) detected in PATH at c:\\Users\\kk21\\Desktop\\TRIPER\\chromedriver.exe might not be compatible with the detected chrome version (129.0.6668.101); currently, chromedriver 129.0.6668.100 is recommended for chrome 129.*, so it is advised to delete the driver in PATH and retry\n"
     ]
    },
    {
     "name": "stdout",
     "output_type": "stream",
     "text": [
      "https://map.naver.com/p/search/%EA%B0%95%EB%82%A8%EA%B5%AC%20%ED%95%B4%EB%AA%A9%20%EB%85%BC%ED%98%84%EC%A0%90/place/1926429712?c=15.00,0,0,0,dh&isCorrectAnswer=true\n",
      "결과 한 개\n",
      "\n",
      "[크롤링 시작...]\n",
      "해목 논현점\n",
      "일식당\n",
      "서울 강남구 선릉로145길 14\n",
      "주문 유형 3\n",
      "특 히츠마부시\n",
      "장어 한마리반\n",
      "리뷰 존재\n",
      "음식이 맛있어요\n",
      "특별한 메뉴가 있어요\n",
      "재료가 신선해요\n",
      "인테리어가 멋져요\n",
      "친절해요\n",
      "['해목 논현점'] ...완료\n",
      "[데이터 수집 완료]\n",
      "소요 시간 : 13.378930568695068 \n",
      "\n",
      "30번째 가게\n"
     ]
    },
    {
     "name": "stderr",
     "output_type": "stream",
     "text": [
      "The chromedriver version (128.0.6613.137) detected in PATH at c:\\Users\\kk21\\Desktop\\TRIPER\\chromedriver.exe might not be compatible with the detected chrome version (129.0.6668.101); currently, chromedriver 129.0.6668.100 is recommended for chrome 129.*, so it is advised to delete the driver in PATH and retry\n"
     ]
    },
    {
     "name": "stdout",
     "output_type": "stream",
     "text": [
      "https://map.naver.com/p/search/%EA%B0%95%EB%82%A8%EA%B5%AC%20%EA%B3%A8%EB%93%9C%EC%B0%B8%EC%B9%98?c=15.00,0,0,0,dh\n",
      "결과 여러 개 존재(지점 또는 근접 지역)\n",
      "\n",
      "[크롤링 시작...]\n",
      "골드참치\n",
      "생선회\n",
      "서울 강남구 압구정로10길 11 2층\n",
      "주문 유형 3\n",
      "오마카세 스페셜\n",
      "최고의 맛을 선보입니다. 진맛이 나는 가맛살이 주력으로 구성됩니다.\n",
      "리뷰 존재\n",
      "음식이 맛있어요\n",
      "재료가 신선해요\n",
      "친절해요\n",
      "메뉴 구성이 알차요\n",
      "코스요리가 알차요\n",
      "['골드참치'] ...완료\n",
      "[데이터 수집 완료]\n",
      "소요 시간 : 13.456264019012451 \n",
      "\n",
      "31번째 가게\n"
     ]
    },
    {
     "name": "stderr",
     "output_type": "stream",
     "text": [
      "The chromedriver version (128.0.6613.137) detected in PATH at c:\\Users\\kk21\\Desktop\\TRIPER\\chromedriver.exe might not be compatible with the detected chrome version (129.0.6668.101); currently, chromedriver 129.0.6668.100 is recommended for chrome 129.*, so it is advised to delete the driver in PATH and retry\n"
     ]
    },
    {
     "name": "stdout",
     "output_type": "stream",
     "text": [
      "https://map.naver.com/p/search/%EA%B0%95%EB%82%A8%EA%B5%AC%20%EC%9C%A1%EB%AF%B8%EB%8B%B9%20%EB%AA%BD%EC%82%B0/place/1049811276?c=15.00,0,0,0,dh&isCorrectAnswer=true\n",
      "결과 한 개\n",
      "\n",
      "[크롤링 시작...]\n",
      "육미당 몽산\n",
      "육류,고기요리\n",
      "서울 강남구 강남대로96길 15 2층\n",
      "주문 유형 3\n",
      "육즙 콸콸 소갈비살 세트\n",
      "육즙 가득한 지중해식 저온숙성 소갈비살 550g에 식사3개가 무료인 몽산 시그니처 메뉴\n",
      "리뷰 존재\n",
      "음식이 맛있어요\n",
      "고기 질이 좋아요\n",
      "친절해요\n",
      "가성비가 좋아요\n",
      "양이 많아요\n",
      "['육미당 몽산'] ...완료\n",
      "[데이터 수집 완료]\n",
      "소요 시간 : 13.44059944152832 \n",
      "\n",
      "32번째 가게\n"
     ]
    },
    {
     "name": "stderr",
     "output_type": "stream",
     "text": [
      "The chromedriver version (128.0.6613.137) detected in PATH at c:\\Users\\kk21\\Desktop\\TRIPER\\chromedriver.exe might not be compatible with the detected chrome version (129.0.6668.101); currently, chromedriver 129.0.6668.100 is recommended for chrome 129.*, so it is advised to delete the driver in PATH and retry\n"
     ]
    },
    {
     "name": "stdout",
     "output_type": "stream",
     "text": [
      "https://map.naver.com/p/search/%EA%B0%95%EB%82%A8%EA%B5%AC%20%EC%86%94%EC%86%A5%20%EC%B2%AD%EB%8B%B4%EC%A0%90?c=15.00,0,0,0,dh\n",
      "결과 여러 개 존재(지점 또는 근접 지역)\n",
      "\n",
      "[크롤링 시작...]\n",
      "솔솥 청담점\n",
      "한식\n",
      "서울 강남구 도산대로53길 16\n",
      "주문 유형 3\n",
      "스테이크솥밥\n",
      "직접 만든 새우튀김으로 바삭바삭한 식감과 통통한 새우살과 직접 만든 소스가 조화가 일품인 새우튀김\n",
      "리뷰 존재\n",
      "음식이 맛있어요\n",
      "재료가 신선해요\n",
      "특별한 메뉴가 있어요\n",
      "친절해요\n",
      "양이 많아요\n",
      "['솔솥 청담점'] ...완료\n",
      "[데이터 수집 완료]\n",
      "소요 시간 : 13.41990327835083 \n",
      "\n",
      "33번째 가게\n"
     ]
    },
    {
     "name": "stderr",
     "output_type": "stream",
     "text": [
      "The chromedriver version (128.0.6613.137) detected in PATH at c:\\Users\\kk21\\Desktop\\TRIPER\\chromedriver.exe might not be compatible with the detected chrome version (129.0.6668.101); currently, chromedriver 129.0.6668.100 is recommended for chrome 129.*, so it is advised to delete the driver in PATH and retry\n"
     ]
    },
    {
     "name": "stdout",
     "output_type": "stream",
     "text": [
      "https://map.naver.com/p/search/%EA%B0%95%EB%82%A8%EA%B5%AC%20%EC%9A%94%EC%B0%8C%EB%AC%B4%20%EB%8F%84%EA%B3%A1%EB%B3%B8%EC%A0%90/place/1275022466?c=15.00,0,0,0,dh&isCorrectAnswer=true\n",
      "결과 한 개\n",
      "\n",
      "[크롤링 시작...]\n",
      "요찌무 도곡본점\n",
      "일식당\n",
      "서울 강남구 논현로28길 33 1층\n",
      "주문 유형 3\n",
      "요찌무 스키야끼(관동식)\n",
      "엄선된 소고기와 신선한 야채를 수제쇼유소스에 끓여 계란에 찍어먹는 일본식샤브샤브\n",
      "리뷰 존재\n",
      "음식이 맛있어요\n",
      "인테리어가 멋져요\n",
      "재료가 신선해요\n",
      "친절해요\n",
      "매장이 넓어요\n",
      "['요찌무 도곡본점'] ...완료\n",
      "[데이터 수집 완료]\n",
      "소요 시간 : 13.417937994003296 \n",
      "\n",
      "34번째 가게\n"
     ]
    },
    {
     "name": "stderr",
     "output_type": "stream",
     "text": [
      "The chromedriver version (128.0.6613.137) detected in PATH at c:\\Users\\kk21\\Desktop\\TRIPER\\chromedriver.exe might not be compatible with the detected chrome version (129.0.6668.101); currently, chromedriver 129.0.6668.100 is recommended for chrome 129.*, so it is advised to delete the driver in PATH and retry\n"
     ]
    },
    {
     "name": "stdout",
     "output_type": "stream",
     "text": [
      "https://map.naver.com/p/search/%EA%B0%95%EB%82%A8%EA%B5%AC%20%EA%B9%8C%ED%8F%BC/place/38969614?c=15.00,0,0,0,dh&isCorrectAnswer=true\n",
      "결과 한 개\n",
      "\n",
      "[크롤링 시작...]\n",
      "까폼\n",
      "태국음식\n",
      "서울 강남구 선릉로153길 18 지하1층\n",
      "주문 유형 3\n",
      "태국 소고기 쌀국수\n",
      "메뉴 설명 없음\n",
      "리뷰 존재\n",
      "음식이 맛있어요\n",
      "특별한 메뉴가 있어요\n",
      "양이 많아요\n",
      "친절해요\n",
      "재료가 신선해요\n",
      "['까폼'] ...완료\n",
      "[데이터 수집 완료]\n",
      "소요 시간 : 13.41168761253357 \n",
      "\n",
      "35번째 가게\n"
     ]
    },
    {
     "name": "stderr",
     "output_type": "stream",
     "text": [
      "The chromedriver version (128.0.6613.137) detected in PATH at c:\\Users\\kk21\\Desktop\\TRIPER\\chromedriver.exe might not be compatible with the detected chrome version (129.0.6668.101); currently, chromedriver 129.0.6668.100 is recommended for chrome 129.*, so it is advised to delete the driver in PATH and retry\n"
     ]
    },
    {
     "name": "stdout",
     "output_type": "stream",
     "text": [
      "https://map.naver.com/p/search/%EA%B0%95%EB%82%A8%EA%B5%AC%20%EB%95%80%EB%95%80?c=11.00,0,0,0,dh\n",
      "결과 여러 개 존재(지점 또는 근접 지역)\n",
      "\n",
      "[크롤링 시작...]\n",
      "땀땀\n",
      "베트남음식\n",
      "서울 강남구 강남대로98길 12-5\n",
      "주문 유형 3\n",
      "프리미엄 보양 쌀국수\n",
      "땀땀 시그니처 보양쌀국수\n",
      "리뷰 존재\n",
      "음식이 맛있어요\n",
      "양이 많아요\n",
      "친절해요\n",
      "특별한 메뉴가 있어요\n",
      "재료가 신선해요\n",
      "['땀땀'] ...완료\n",
      "[데이터 수집 완료]\n",
      "소요 시간 : 13.408459424972534 \n",
      "\n",
      "36번째 가게\n"
     ]
    },
    {
     "name": "stderr",
     "output_type": "stream",
     "text": [
      "The chromedriver version (128.0.6613.137) detected in PATH at c:\\Users\\kk21\\Desktop\\TRIPER\\chromedriver.exe might not be compatible with the detected chrome version (129.0.6668.101); currently, chromedriver 129.0.6668.100 is recommended for chrome 129.*, so it is advised to delete the driver in PATH and retry\n"
     ]
    },
    {
     "name": "stdout",
     "output_type": "stream",
     "text": [
      "https://map.naver.com/p/search/%EA%B0%95%EB%82%A8%EA%B5%AC%20%EB%B0%98%ED%8F%AC%EC%8B%9D%EC%8A%A4%20%EC%84%A0%EB%A6%89%EC%97%AD%EC%A0%90?c=15.00,0,0,0,dh\n",
      "결과 여러 개 존재(지점 또는 근접 지역)\n",
      "\n",
      "[크롤링 시작...]\n",
      "반포식스 선릉역점\n",
      "베트남음식\n",
      "서울 강남구 선릉로 518 2,3층\n",
      "주문 유형 3\n",
      "2인 세트\n",
      "에피타이져(택1) + 쌀국수(S)2개 + 음료(2잔)\n",
      "리뷰 존재\n",
      "음식이 맛있어요\n",
      "재료가 신선해요\n",
      "매장이 넓어요\n",
      "양이 많아요\n",
      "친절해요\n",
      "['반포식스 선릉역점'] ...완료\n",
      "[데이터 수집 완료]\n",
      "소요 시간 : 13.422599077224731 \n",
      "\n",
      "37번째 가게\n"
     ]
    },
    {
     "name": "stderr",
     "output_type": "stream",
     "text": [
      "The chromedriver version (128.0.6613.137) detected in PATH at c:\\Users\\kk21\\Desktop\\TRIPER\\chromedriver.exe might not be compatible with the detected chrome version (129.0.6668.101); currently, chromedriver 129.0.6668.100 is recommended for chrome 129.*, so it is advised to delete the driver in PATH and retry\n"
     ]
    },
    {
     "name": "stdout",
     "output_type": "stream",
     "text": [
      "https://map.naver.com/p/search/%EA%B0%95%EB%82%A8%EA%B5%AC%20%EC%8B%A0%EB%8F%99%EA%B6%81%EA%B0%90%EC%9E%90%ED%83%95%20%EC%97%AD%EC%82%BC%EC%A7%81%EC%98%81%EC%A0%90/place/11832088?c=15.00,0,0,0,dh&isCorrectAnswer=true\n",
      "결과 한 개\n",
      "\n",
      "[크롤링 시작...]\n",
      "신동궁감자탕 역삼직영점\n",
      "감자탕\n",
      "서울 강남구 테헤란로10길 21 1층 신동궁감자탕뼈숯불구이\n",
      "주문 유형 3\n",
      "감자탕 소\n",
      "메뉴 설명 없음\n",
      "리뷰 존재\n",
      "음식이 맛있어요\n",
      "특별한 메뉴가 있어요\n",
      "양이 많아요\n",
      "매장이 넓어요\n",
      "친절해요\n",
      "['신동궁감자탕 역삼직영점'] ...완료\n",
      "[데이터 수집 완료]\n",
      "소요 시간 : 13.39465856552124 \n",
      "\n",
      "38번째 가게\n"
     ]
    },
    {
     "name": "stderr",
     "output_type": "stream",
     "text": [
      "The chromedriver version (128.0.6613.137) detected in PATH at c:\\Users\\kk21\\Desktop\\TRIPER\\chromedriver.exe might not be compatible with the detected chrome version (129.0.6668.101); currently, chromedriver 129.0.6668.100 is recommended for chrome 129.*, so it is advised to delete the driver in PATH and retry\n"
     ]
    },
    {
     "name": "stdout",
     "output_type": "stream",
     "text": [
      "https://map.naver.com/p/search/%EA%B0%95%EB%82%A8%EA%B5%AC%20%EB%8F%84%EC%82%B0%EB%9A%9D%EB%B0%B0%EA%B8%B0/place/1202715954?c=15.00,0,0,0,dh&isCorrectAnswer=true\n",
      "결과 한 개\n",
      "\n",
      "[크롤링 시작...]\n",
      "도산뚝배기\n",
      "한식\n",
      "서울 강남구 도산대로54길 18 1층\n",
      "주문 유형 3\n",
      "깍둑등심\n",
      "투뿔++ 등급 한우의 등심을 엄선하여 제공합니다.\n",
      "리뷰 존재\n",
      "음식이 맛있어요\n",
      "재료가 신선해요\n",
      "친절해요\n",
      "특별한 메뉴가 있어요\n",
      "매장이 청결해요\n",
      "['도산뚝배기'] ...완료\n",
      "[데이터 수집 완료]\n",
      "소요 시간 : 13.412858486175537 \n",
      "\n",
      "39번째 가게\n"
     ]
    },
    {
     "name": "stderr",
     "output_type": "stream",
     "text": [
      "The chromedriver version (128.0.6613.137) detected in PATH at c:\\Users\\kk21\\Desktop\\TRIPER\\chromedriver.exe might not be compatible with the detected chrome version (129.0.6668.101); currently, chromedriver 129.0.6668.100 is recommended for chrome 129.*, so it is advised to delete the driver in PATH and retry\n"
     ]
    },
    {
     "name": "stdout",
     "output_type": "stream",
     "text": [
      "https://map.naver.com/p/search/%EA%B0%95%EB%82%A8%EA%B5%AC%20%ED%98%B8%EB%B3%B4%EC%8B%9D%EB%8B%B9?c=15.00,0,0,0,dh\n",
      "결과 여러 개 존재(지점 또는 근접 지역)\n",
      "\n",
      "[크롤링 시작...]\n",
      "호보식당\n",
      "한식\n",
      "서울 강남구 논현로85길 43 1층\n",
      "주문 유형 3\n",
      "마늘갈비(한판)\n",
      "호보식당의 대표메뉴. 우대갈비 위에 마늘이 듬뿍 올라간 어디서도 맛보지 못한 마늘갈비.\n",
      "리뷰 존재\n",
      "음식이 맛있어요\n",
      "재료가 신선해요\n",
      "친절해요\n",
      "매장이 넓어요\n",
      "특별한 메뉴가 있어요\n",
      "['호보식당'] ...완료\n",
      "[데이터 수집 완료]\n",
      "소요 시간 : 13.431117057800293 \n",
      "\n",
      "40번째 가게\n"
     ]
    },
    {
     "name": "stderr",
     "output_type": "stream",
     "text": [
      "The chromedriver version (128.0.6613.137) detected in PATH at c:\\Users\\kk21\\Desktop\\TRIPER\\chromedriver.exe might not be compatible with the detected chrome version (129.0.6668.101); currently, chromedriver 129.0.6668.100 is recommended for chrome 129.*, so it is advised to delete the driver in PATH and retry\n"
     ]
    },
    {
     "name": "stdout",
     "output_type": "stream",
     "text": [
      "https://map.naver.com/p/search/%EA%B0%95%EB%82%A8%EA%B5%AC%20%EA%B5%AD%EB%AF%B8%EB%8B%B9/place/35155951?c=15.00,0,0,0,dh&isCorrectAnswer=true\n",
      "결과 한 개\n",
      "\n",
      "[크롤링 시작...]\n",
      "국미당\n",
      "종합분식\n",
      "서울 강남구 남부순환로359길 19\n",
      "주문 유형 3\n",
      "야채김말이\n",
      "새우, 오징어, 호박, 고구마, 김말이\n",
      "리뷰 존재\n",
      "음식이 맛있어요\n",
      "특별한 메뉴가 있어요\n",
      "친절해요\n",
      "재료가 신선해요\n",
      "가성비가 좋아요\n",
      "['국미당'] ...완료\n",
      "[데이터 수집 완료]\n",
      "소요 시간 : 13.415035724639893 \n",
      "\n",
      "41번째 가게\n"
     ]
    },
    {
     "name": "stderr",
     "output_type": "stream",
     "text": [
      "The chromedriver version (128.0.6613.137) detected in PATH at c:\\Users\\kk21\\Desktop\\TRIPER\\chromedriver.exe might not be compatible with the detected chrome version (129.0.6668.101); currently, chromedriver 129.0.6668.100 is recommended for chrome 129.*, so it is advised to delete the driver in PATH and retry\n"
     ]
    },
    {
     "name": "stdout",
     "output_type": "stream",
     "text": [
      "https://map.naver.com/p/search/%EA%B0%95%EB%82%A8%EA%B5%AC%20%EB%B1%85%EB%B1%85%EB%A7%89%EA%B5%AD%EC%88%98/place/33964233?c=15.00,0,0,0,dh&isCorrectAnswer=true\n",
      "결과 한 개\n",
      "\n",
      "[크롤링 시작...]\n",
      "뱅뱅막국수\n",
      "국수\n",
      "서울 강남구 도곡로 112 서한빌딩, 1층\n",
      "주문 유형 3\n",
      "100%국내산 참기름막국수\n",
      "국내산 변산 메밀과, 강원도 영월 곤드레나물, 방앗간에서 착즙한 신선한 참기름의 콜라보!\n",
      "리뷰 존재\n",
      "음식이 맛있어요\n",
      "재료가 신선해요\n",
      "특별한 메뉴가 있어요\n",
      "친절해요\n",
      "양이 많아요\n",
      "['뱅뱅막국수'] ...완료\n",
      "[데이터 수집 완료]\n",
      "소요 시간 : 13.431045293807983 \n",
      "\n",
      "42번째 가게\n"
     ]
    },
    {
     "name": "stderr",
     "output_type": "stream",
     "text": [
      "The chromedriver version (128.0.6613.137) detected in PATH at c:\\Users\\kk21\\Desktop\\TRIPER\\chromedriver.exe might not be compatible with the detected chrome version (129.0.6668.101); currently, chromedriver 129.0.6668.100 is recommended for chrome 129.*, so it is advised to delete the driver in PATH and retry\n"
     ]
    },
    {
     "name": "stdout",
     "output_type": "stream",
     "text": [
      "https://map.naver.com/p/search/%EA%B0%95%EB%82%A8%EA%B5%AC%20%EC%95%84%EB%94%B0%20%EC%95%95%EA%B5%AC%EC%A0%95%EC%A0%90/place/1265587082?c=15.00,0,0,0,dh&isCorrectAnswer=true\n",
      "결과 한 개\n",
      "\n",
      "[크롤링 시작...]\n",
      "아따 압구정점\n",
      "한식\n",
      "서울 강남구 언주로172길 65 1층 103호\n",
      "주문 유형 3\n",
      "양념닭목살구이 한상 2인\n",
      "닭한마리당, 딱 한점! 쫄깃숙성 닭목살\n",
      "리뷰 존재\n",
      "음식이 맛있어요\n",
      "인테리어가 멋져요\n",
      "친절해요\n",
      "재료가 신선해요\n",
      "특별한 메뉴가 있어요\n",
      "['아따 압구정점'] ...완료\n",
      "[데이터 수집 완료]\n",
      "소요 시간 : 13.409529447555542 \n",
      "\n",
      "43번째 가게\n"
     ]
    },
    {
     "name": "stderr",
     "output_type": "stream",
     "text": [
      "The chromedriver version (128.0.6613.137) detected in PATH at c:\\Users\\kk21\\Desktop\\TRIPER\\chromedriver.exe might not be compatible with the detected chrome version (129.0.6668.101); currently, chromedriver 129.0.6668.100 is recommended for chrome 129.*, so it is advised to delete the driver in PATH and retry\n"
     ]
    },
    {
     "name": "stdout",
     "output_type": "stream",
     "text": [
      "https://map.naver.com/p/search/%EA%B0%95%EB%82%A8%EA%B5%AC%20%EA%B3%A0%EB%B2%A0%EA%B7%9C%EC%B9%B4%EC%B8%A0%20%EC%84%9C%EC%9A%B8%20%EA%B0%95%EB%82%A8%EC%A0%90?c=15.00,0,0,0,dh\n",
      "결과 여러 개 존재(지점 또는 근접 지역)\n",
      "\n",
      "[크롤링 시작...]\n",
      "고베규카츠 서울 강남점\n",
      "돈가스\n",
      "서울 강남구 강남대로102길 29 예촌빌딩\n",
      "주문 유형 3\n",
      "규카츠 정식 소 (160g)\n",
      "규카츠 정식(중) 220g 24,000원 규카츠 정식(대) 300g 31,000원\n",
      "리뷰 존재\n",
      "음식이 맛있어요\n",
      "매장이 넓어요\n",
      "친절해요\n",
      "재료가 신선해요\n",
      "특별한 메뉴가 있어요\n",
      "['고베규카츠 서울 강남점'] ...완료\n",
      "[데이터 수집 완료]\n",
      "소요 시간 : 13.40693473815918 \n",
      "\n",
      "44번째 가게\n"
     ]
    },
    {
     "name": "stderr",
     "output_type": "stream",
     "text": [
      "The chromedriver version (128.0.6613.137) detected in PATH at c:\\Users\\kk21\\Desktop\\TRIPER\\chromedriver.exe might not be compatible with the detected chrome version (129.0.6668.101); currently, chromedriver 129.0.6668.100 is recommended for chrome 129.*, so it is advised to delete the driver in PATH and retry\n"
     ]
    },
    {
     "name": "stdout",
     "output_type": "stream",
     "text": [
      "https://map.naver.com/p/search/%EA%B0%95%EB%82%A8%EA%B5%AC%20%EC%84%A0%EC%9E%AC?c=15.00,0,0,0,dh\n",
      "결과 여러 개 존재(지점 또는 근접 지역)\n",
      "\n",
      "[크롤링 시작...]\n",
      "선재\n",
      "샤브샤브\n",
      "서울 강남구 언주로30길 27 지하 1층 선재\n",
      "주문 유형 3\n",
      "[평일 점심] 일품 무한리필 샤브\n",
      "[평일 점심 한정] 초등학생 : 19,500 미취학 : 9,800\n",
      "리뷰 존재\n",
      "음식이 맛있어요\n",
      "재료가 신선해요\n",
      "친절해요\n",
      "인테리어가 멋져요\n",
      "양이 많아요\n",
      "['선재'] ...완료\n",
      "[데이터 수집 완료]\n",
      "소요 시간 : 13.405914306640625 \n",
      "\n",
      "45번째 가게\n"
     ]
    },
    {
     "name": "stderr",
     "output_type": "stream",
     "text": [
      "The chromedriver version (128.0.6613.137) detected in PATH at c:\\Users\\kk21\\Desktop\\TRIPER\\chromedriver.exe might not be compatible with the detected chrome version (129.0.6668.101); currently, chromedriver 129.0.6668.100 is recommended for chrome 129.*, so it is advised to delete the driver in PATH and retry\n"
     ]
    },
    {
     "name": "stdout",
     "output_type": "stream",
     "text": [
      "https://map.naver.com/p/search/%EA%B0%95%EB%82%A8%EA%B5%AC%20Workshop%20by%20%EB%B0%B0%EC%8A%A4%ED%82%A8%EB%9D%BC%EB%B9%88%EC%8A%A4/place/1860663446?c=15.00,0,0,0,dh&isCorrectAnswer=true\n",
      "결과 한 개\n",
      "\n",
      "[크롤링 시작...]\n",
      "Workshop by 배스킨라빈스\n",
      "아이스크림\n",
      "서울 강남구 논현로 201 1층\n",
      "주문 유형 3\n",
      "대표 메뉴 없음\n",
      "메뉴 설명 없음\n",
      "리뷰 존재\n",
      "특별한 메뉴가 있어요\n",
      "디저트가 맛있어요\n",
      "인테리어가 멋져요\n",
      "매장이 넓어요\n",
      "매장이 청결해요\n",
      "['Workshop by 배스킨라빈스'] ...완료\n",
      "[데이터 수집 완료]\n",
      "소요 시간 : 10.350198745727539 \n",
      "\n",
      "46번째 가게\n"
     ]
    },
    {
     "name": "stderr",
     "output_type": "stream",
     "text": [
      "The chromedriver version (128.0.6613.137) detected in PATH at c:\\Users\\kk21\\Desktop\\TRIPER\\chromedriver.exe might not be compatible with the detected chrome version (129.0.6668.101); currently, chromedriver 129.0.6668.100 is recommended for chrome 129.*, so it is advised to delete the driver in PATH and retry\n"
     ]
    },
    {
     "name": "stdout",
     "output_type": "stream",
     "text": [
      "https://map.naver.com/p/search/%EA%B0%95%EB%82%A8%EA%B5%AC%20%EC%A0%95%EC%9B%94/place/1478381424?c=15.00,0,0,0,dh&isCorrectAnswer=true\n",
      "결과 한 개\n",
      "\n",
      "[크롤링 시작...]\n",
      "정월\n",
      "카페,디저트\n",
      "서울 강남구 강남대로102길 46 1층\n",
      "주문 유형 3\n",
      "아인슈패너(water/milk)\n",
      "모든 에스프레소 메뉴 원두 선택 가능(레드-산미/옐로우-고소함/디카페인)\n",
      "리뷰 존재\n",
      "커피가 맛있어요\n",
      "인테리어가 멋져요\n",
      "음료가 맛있어요\n",
      "디저트가 맛있어요\n",
      "대화하기 좋아요\n",
      "['정월'] ...완료\n",
      "[데이터 수집 완료]\n",
      "소요 시간 : 13.480060815811157 \n",
      "\n",
      "47번째 가게\n"
     ]
    },
    {
     "name": "stderr",
     "output_type": "stream",
     "text": [
      "The chromedriver version (128.0.6613.137) detected in PATH at c:\\Users\\kk21\\Desktop\\TRIPER\\chromedriver.exe might not be compatible with the detected chrome version (129.0.6668.101); currently, chromedriver 129.0.6668.100 is recommended for chrome 129.*, so it is advised to delete the driver in PATH and retry\n"
     ]
    },
    {
     "name": "stdout",
     "output_type": "stream",
     "text": [
      "https://map.naver.com/p/search/%EA%B0%95%EB%82%A8%EA%B5%AC%20%EC%85%80%EB%9F%AC%EB%B8%8C%EB%A6%AC%ED%8B%B0%20%EB%B2%84%EA%B1%B0/place/1708365118?c=15.00,0,0,0,dh&isCorrectAnswer=true\n",
      "결과 한 개\n",
      "\n",
      "[크롤링 시작...]\n",
      "셀러브리티 버거\n",
      "햄버거\n",
      "서울 강남구 도곡로63길 25 1층\n",
      "주문 유형 3\n",
      "더블베이컨치즈버거\n",
      "100%소고기패티 2장, 베이컨 2장, 아메리칸치즈 2장, 로메인, 토마토, 그릴드어니언, 셀럽소스\n",
      "리뷰 존재\n",
      "음식이 맛있어요\n",
      "재료가 신선해요\n",
      "특별한 메뉴가 있어요\n",
      "매장이 청결해요\n",
      "친절해요\n",
      "['셀러브리티 버거'] ...완료\n",
      "[데이터 수집 완료]\n",
      "소요 시간 : 13.412013053894043 \n",
      "\n",
      "48번째 가게\n"
     ]
    },
    {
     "name": "stderr",
     "output_type": "stream",
     "text": [
      "The chromedriver version (128.0.6613.137) detected in PATH at c:\\Users\\kk21\\Desktop\\TRIPER\\chromedriver.exe might not be compatible with the detected chrome version (129.0.6668.101); currently, chromedriver 129.0.6668.100 is recommended for chrome 129.*, so it is advised to delete the driver in PATH and retry\n"
     ]
    },
    {
     "name": "stdout",
     "output_type": "stream",
     "text": [
      "https://map.naver.com/p/search/%EA%B0%95%EB%82%A8%EA%B5%AC%20%EC%B8%84%EB%9D%BC%EC%9A%B0%EB%AF%B8%20%EC%97%AD%EC%82%BC%EB%B3%B8%EC%A0%90/place/234267045?c=15.00,0,0,0,dh&isCorrectAnswer=true\n",
      "결과 한 개\n",
      "\n",
      "[크롤링 시작...]\n",
      "츄라우미 역삼본점\n",
      "이자카야\n",
      "서울 강남구 언주로93길 21 남전타운\n",
      "주문 유형 3\n",
      "세이로무시\n",
      "매콤한 토마토 육수에 치즈, 야채, 해산물이 푸짐하게 들어 있는 나베\n",
      "리뷰 존재\n",
      "음식이 맛있어요\n",
      "인테리어가 멋져요\n",
      "술이 다양해요\n",
      "특별한 메뉴가 있어요\n",
      "기본 안주가 좋아요\n",
      "['츄라우미 역삼본점'] ...완료\n",
      "[데이터 수집 완료]\n",
      "소요 시간 : 13.51333999633789 \n",
      "\n",
      "49번째 가게\n"
     ]
    },
    {
     "name": "stderr",
     "output_type": "stream",
     "text": [
      "The chromedriver version (128.0.6613.137) detected in PATH at c:\\Users\\kk21\\Desktop\\TRIPER\\chromedriver.exe might not be compatible with the detected chrome version (129.0.6668.101); currently, chromedriver 129.0.6668.100 is recommended for chrome 129.*, so it is advised to delete the driver in PATH and retry\n"
     ]
    },
    {
     "name": "stdout",
     "output_type": "stream",
     "text": [
      "https://map.naver.com/p/search/%EA%B0%95%EB%82%A8%EA%B5%AC%20%EB%8F%84%EC%82%B0%ED%8F%AC%EC%B0%A8?c=15.00,0,0,0,dh\n",
      "결과 여러 개 존재(지점 또는 근접 지역)\n",
      "\n",
      "[크롤링 시작...]\n",
      "도산포차\n",
      "포장마차\n",
      "서울 강남구 선릉로157길 14-8 1층\n",
      "주문 유형 3\n",
      "곱도리탕\n",
      "메뉴 설명 없음\n",
      "리뷰 존재\n",
      "음식이 맛있어요\n",
      "술이 다양해요\n",
      "대화하기 좋아요\n",
      "친절해요\n",
      "가성비가 좋아요\n",
      "['도산포차'] ...완료\n",
      "[데이터 수집 완료]\n",
      "소요 시간 : 13.448763608932495 \n",
      "\n",
      "50번째 가게\n"
     ]
    },
    {
     "name": "stderr",
     "output_type": "stream",
     "text": [
      "The chromedriver version (128.0.6613.137) detected in PATH at c:\\Users\\kk21\\Desktop\\TRIPER\\chromedriver.exe might not be compatible with the detected chrome version (129.0.6668.101); currently, chromedriver 129.0.6668.100 is recommended for chrome 129.*, so it is advised to delete the driver in PATH and retry\n"
     ]
    },
    {
     "name": "stdout",
     "output_type": "stream",
     "text": [
      "https://map.naver.com/p/search/%EA%B0%95%EB%82%A8%EA%B5%AC%20%ED%8C%80%ED%98%B8%EC%99%84%20%EC%82%BC%EC%84%B1%EC%A0%90/place/1209180080?c=15.00,0,0,0,dh&isCorrectAnswer=true\n",
      "결과 한 개\n",
      "\n",
      "[크롤링 시작...]\n",
      "팀호완 삼성점\n",
      "딤섬,중식만두\n",
      "서울 강남구 봉은사로86길 30 1층\n",
      "주문 유형 3\n",
      "대표 메뉴 없음\n",
      "메뉴 설명 없음\n",
      "오류 예외 처리\n",
      "51번째 가게\n"
     ]
    },
    {
     "name": "stderr",
     "output_type": "stream",
     "text": [
      "The chromedriver version (128.0.6613.137) detected in PATH at c:\\Users\\kk21\\Desktop\\TRIPER\\chromedriver.exe might not be compatible with the detected chrome version (129.0.6668.101); currently, chromedriver 129.0.6668.100 is recommended for chrome 129.*, so it is advised to delete the driver in PATH and retry\n"
     ]
    },
    {
     "name": "stdout",
     "output_type": "stream",
     "text": [
      "https://map.naver.com/p/search/%EA%B0%95%EB%82%A8%EA%B5%AC%20%EB%B6%80%ED%83%80%EC%9D%B4%201%EB%A7%89/place/1144038812?c=15.00,0,0,0,dh&isCorrectAnswer=true\n",
      "결과 한 개\n",
      "\n",
      "[크롤링 시작...]\n",
      "부타이 1막\n",
      "일식당\n",
      "서울 강남구 테헤란로88길 22\n",
      "주문 유형 3\n",
      "마제소바\n",
      "[부타이의 대표 시그니처 메뉴] 19가지 재료의 비빔소스와 10가지 고명의 조화\n",
      "리뷰 존재\n",
      "음식이 맛있어요\n",
      "특별한 메뉴가 있어요\n",
      "양이 많아요\n",
      "재료가 신선해요\n",
      "친절해요\n",
      "['부타이 1막'] ...완료\n",
      "[데이터 수집 완료]\n",
      "소요 시간 : 13.427850484848022 \n",
      "\n",
      "52번째 가게\n"
     ]
    },
    {
     "name": "stderr",
     "output_type": "stream",
     "text": [
      "The chromedriver version (128.0.6613.137) detected in PATH at c:\\Users\\kk21\\Desktop\\TRIPER\\chromedriver.exe might not be compatible with the detected chrome version (129.0.6668.101); currently, chromedriver 129.0.6668.100 is recommended for chrome 129.*, so it is advised to delete the driver in PATH and retry\n"
     ]
    },
    {
     "name": "stdout",
     "output_type": "stream",
     "text": [
      "https://map.naver.com/p/search/%EA%B0%95%EB%82%A8%EA%B5%AC%20%EB%8F%84%ED%86%A4%EB%B3%B4%EB%A6%AC%20%EC%84%9C%EC%9A%B8?c=15.00,0,0,0,dh\n",
      "결과 여러 개 존재(지점 또는 근접 지역)\n",
      "\n",
      "[크롤링 시작...]\n",
      "도톤보리 서울\n",
      "이자카야\n",
      "서울 강남구 강남대로152길 14 지하1층\n",
      "주문 유형 3\n",
      "타코야끼\n",
      "메뉴 설명 없음\n",
      "리뷰 존재\n",
      "음식이 맛있어요\n",
      "인테리어가 멋져요\n",
      "매장이 넓어요\n",
      "가성비가 좋아요\n",
      "특별한 메뉴가 있어요\n",
      "['도톤보리 서울'] ...완료\n",
      "[데이터 수집 완료]\n",
      "소요 시간 : 13.410354375839233 \n",
      "\n",
      "53번째 가게\n"
     ]
    },
    {
     "name": "stderr",
     "output_type": "stream",
     "text": [
      "The chromedriver version (128.0.6613.137) detected in PATH at c:\\Users\\kk21\\Desktop\\TRIPER\\chromedriver.exe might not be compatible with the detected chrome version (129.0.6668.101); currently, chromedriver 129.0.6668.100 is recommended for chrome 129.*, so it is advised to delete the driver in PATH and retry\n"
     ]
    },
    {
     "name": "stdout",
     "output_type": "stream",
     "text": [
      "https://map.naver.com/p/search/%EA%B0%95%EB%82%A8%EA%B5%AC%20%EB%B0%B1%EC%95%94%EC%99%95%EC%88%9C%EB%8C%80?c=15.00,0,0,0,dh\n",
      "결과 여러 개 존재(지점 또는 근접 지역)\n",
      "\n",
      "[크롤링 시작...]\n",
      "농민백암순대 본점\n",
      "순대,순댓국\n",
      "서울 강남구 선릉로86길 40-4\n",
      "주문 유형 3\n",
      "국밥\n",
      "메뉴 설명 없음\n",
      "리뷰 존재\n",
      "음식이 맛있어요\n",
      "양이 많아요\n",
      "가성비가 좋아요\n",
      "친절해요\n",
      "혼밥하기 좋아요\n",
      "['농민백암순대 본점'] ...완료\n",
      "[데이터 수집 완료]\n",
      "소요 시간 : 13.401545286178589 \n",
      "\n",
      "54번째 가게\n"
     ]
    },
    {
     "name": "stderr",
     "output_type": "stream",
     "text": [
      "The chromedriver version (128.0.6613.137) detected in PATH at c:\\Users\\kk21\\Desktop\\TRIPER\\chromedriver.exe might not be compatible with the detected chrome version (129.0.6668.101); currently, chromedriver 129.0.6668.100 is recommended for chrome 129.*, so it is advised to delete the driver in PATH and retry\n"
     ]
    },
    {
     "name": "stdout",
     "output_type": "stream",
     "text": [
      "https://map.naver.com/p/search/%EA%B0%95%EB%82%A8%EA%B5%AC%20%ED%94%BC%EC%9E%90%EB%8D%95%ED%9B%84%20%ED%94%BC%EC%9E%90%ED%9E%99%20%EC%95%95%EA%B5%AC%EC%A0%95%EC%A0%90/place/1832771562?c=15.00,0,0,0,dh&isCorrectAnswer=true\n",
      "결과 한 개\n",
      "\n",
      "[크롤링 시작...]\n",
      "피자덕후 피자힙 압구정점\n",
      "피자\n",
      "서울 강남구 선릉로157길 23 2층 피자덕후 피자힙\n",
      "주문 유형 3\n",
      "런치 파스타 세트\n",
      "25,600원 -> 19,800원 피자힙 대표 맛도리 파스타 세트\n",
      "리뷰 존재\n",
      "음식이 맛있어요\n",
      "특별한 메뉴가 있어요\n",
      "친절해요\n",
      "인테리어가 멋져요\n",
      "재료가 신선해요\n",
      "['피자덕후 피자힙 압구정점'] ...완료\n",
      "[데이터 수집 완료]\n",
      "소요 시간 : 13.464552640914917 \n",
      "\n",
      "55번째 가게\n"
     ]
    },
    {
     "name": "stderr",
     "output_type": "stream",
     "text": [
      "The chromedriver version (128.0.6613.137) detected in PATH at c:\\Users\\kk21\\Desktop\\TRIPER\\chromedriver.exe might not be compatible with the detected chrome version (129.0.6668.101); currently, chromedriver 129.0.6668.100 is recommended for chrome 129.*, so it is advised to delete the driver in PATH and retry\n"
     ]
    },
    {
     "name": "stdout",
     "output_type": "stream",
     "text": [
      "https://map.naver.com/p/search/%EA%B0%95%EB%82%A8%EA%B5%AC%20%EB%A1%9C%ED%8C%8C%EC%B9%98%EB%85%B8%20%EC%97%90%EC%8A%A4%ED%94%84%EB%A0%88%EC%86%8C%20%EB%B0%94?c=15.00,0,0,0,dh\n",
      "결과 여러 개 존재(지점 또는 근접 지역)\n",
      "가게 없음\n",
      "56번째 가게\n"
     ]
    },
    {
     "name": "stderr",
     "output_type": "stream",
     "text": [
      "The chromedriver version (128.0.6613.137) detected in PATH at c:\\Users\\kk21\\Desktop\\TRIPER\\chromedriver.exe might not be compatible with the detected chrome version (129.0.6668.101); currently, chromedriver 129.0.6668.100 is recommended for chrome 129.*, so it is advised to delete the driver in PATH and retry\n"
     ]
    },
    {
     "name": "stdout",
     "output_type": "stream",
     "text": [
      "https://map.naver.com/p/search/%EA%B0%95%EB%82%A8%EA%B5%AC%20%EC%A7%84%EB%8C%80%EA%B0%90%20%EC%97%AD%EC%82%BC%EC%A0%90?c=15.00,0,0,0,dh\n",
      "결과 여러 개 존재(지점 또는 근접 지역)\n",
      "\n",
      "[크롤링 시작...]\n",
      "진대감 역삼점\n",
      "소고기구이\n",
      "서울 강남구 봉은사로30길 75 1층\n",
      "주문 유형 3\n",
      "한우차돌삼합\n",
      "한우 1등급이상의 차돌박이와 서해안 키조개 관자, 그리고 곁들임 찬 세 가지 합\n",
      "리뷰 존재\n",
      "음식이 맛있어요\n",
      "고기 질이 좋아요\n",
      "친절해요\n",
      "매장이 넓어요\n",
      "특별한 메뉴가 있어요\n",
      "['진대감 역삼점'] ...완료\n",
      "[데이터 수집 완료]\n",
      "소요 시간 : 13.480587244033813 \n",
      "\n",
      "57번째 가게\n"
     ]
    },
    {
     "name": "stderr",
     "output_type": "stream",
     "text": [
      "The chromedriver version (128.0.6613.137) detected in PATH at c:\\Users\\kk21\\Desktop\\TRIPER\\chromedriver.exe might not be compatible with the detected chrome version (129.0.6668.101); currently, chromedriver 129.0.6668.100 is recommended for chrome 129.*, so it is advised to delete the driver in PATH and retry\n"
     ]
    },
    {
     "name": "stdout",
     "output_type": "stream",
     "text": [
      "https://map.naver.com/p/search/%EA%B0%95%EB%82%A8%EA%B5%AC%20%EC%A7%80%EB%85%B8%EC%8A%A4%20%EB%89%B4%EC%9A%95%20%ED%94%BC%EC%9E%90%20%EC%95%95%EA%B5%AC%EC%A0%95%EC%A0%90/place/1119605388?c=15.00,0,0,0,dh&isCorrectAnswer=true\n",
      "결과 한 개\n",
      "\n",
      "[크롤링 시작...]\n",
      "지노스 뉴욕 피자 압구정점\n",
      "피자\n",
      "서울 강남구 선릉로161길 18 2층\n",
      "주문 유형 3\n",
      "반반 피자\n",
      "[수요미식회] [생방송투데이]에서 극찬받은 지노스 피자입니다 수 많은 연예인, 운동선수들의 단골 피자맛집! 두가지맛을 피자한판에 즐길 수 있는 반반피자 입니다.\n",
      "리뷰 존재\n",
      "음식이 맛있어요\n",
      "친절해요\n",
      "특별한 메뉴가 있어요\n",
      "재료가 신선해요\n",
      "인테리어가 멋져요\n",
      "['지노스 뉴욕 피자 압구정점'] ...완료\n",
      "[데이터 수집 완료]\n",
      "소요 시간 : 13.443192481994629 \n",
      "\n",
      "58번째 가게\n"
     ]
    },
    {
     "name": "stderr",
     "output_type": "stream",
     "text": [
      "The chromedriver version (128.0.6613.137) detected in PATH at c:\\Users\\kk21\\Desktop\\TRIPER\\chromedriver.exe might not be compatible with the detected chrome version (129.0.6668.101); currently, chromedriver 129.0.6668.100 is recommended for chrome 129.*, so it is advised to delete the driver in PATH and retry\n"
     ]
    },
    {
     "name": "stdout",
     "output_type": "stream",
     "text": [
      "https://map.naver.com/p/search/%EA%B0%95%EB%82%A8%EA%B5%AC%20%EB%B4%89%EC%9A%B0%EC%9D%B4%EC%B8%B5%EC%A7%91/place/37577974?c=15.00,0,0,0,dh&isCorrectAnswer=true\n",
      "결과 한 개\n",
      "\n",
      "[크롤링 시작...]\n",
      "봉우이층집\n",
      "돼지고기구이\n",
      "서울 강남구 봉은사로18길 76 스타 팰리스\n",
      "주문 유형 3\n",
      "대표 메뉴 없음\n",
      "메뉴 설명 없음\n",
      "오류 예외 처리\n",
      "59번째 가게\n"
     ]
    },
    {
     "name": "stderr",
     "output_type": "stream",
     "text": [
      "The chromedriver version (128.0.6613.137) detected in PATH at c:\\Users\\kk21\\Desktop\\TRIPER\\chromedriver.exe might not be compatible with the detected chrome version (129.0.6668.101); currently, chromedriver 129.0.6668.100 is recommended for chrome 129.*, so it is advised to delete the driver in PATH and retry\n"
     ]
    },
    {
     "name": "stdout",
     "output_type": "stream",
     "text": [
      "https://map.naver.com/p/search/%EA%B0%95%EB%82%A8%EA%B5%AC%20%EC%B2%AD%EB%8B%B4%EC%9D%B4%EC%83%81%20%EA%B0%95%EB%82%A8%EC%97%AD%EC%A0%90?c=15.00,0,0,0,dh\n",
      "결과 여러 개 존재(지점 또는 근접 지역)\n",
      "\n",
      "[크롤링 시작...]\n",
      "청담이상 강남역점\n",
      "이자카야\n",
      "서울 강남구 테헤란로1길 42 2층, 3층\n",
      "주문 유형 3\n",
      "모듬사시미\n",
      "메뉴 설명 없음\n",
      "리뷰 존재\n",
      "음식이 맛있어요\n",
      "대화하기 좋아요\n",
      "단체모임 하기 좋아요\n",
      "오래 머무르기 좋아요\n",
      "친절해요\n",
      "['청담이상 강남역점'] ...완료\n",
      "[데이터 수집 완료]\n",
      "소요 시간 : 13.415162563323975 \n",
      "\n",
      "60번째 가게\n"
     ]
    },
    {
     "name": "stderr",
     "output_type": "stream",
     "text": [
      "The chromedriver version (128.0.6613.137) detected in PATH at c:\\Users\\kk21\\Desktop\\TRIPER\\chromedriver.exe might not be compatible with the detected chrome version (129.0.6668.101); currently, chromedriver 129.0.6668.100 is recommended for chrome 129.*, so it is advised to delete the driver in PATH and retry\n"
     ]
    },
    {
     "name": "stdout",
     "output_type": "stream",
     "text": [
      "https://map.naver.com/p/search/%EA%B0%95%EB%82%A8%EA%B5%AC%20%EC%8A%A4%EB%AF%B8%EC%B9%B4%EC%B8%A0%20%EC%95%95%EA%B5%AC%EC%A0%95%20%EB%B3%B8%EC%A0%90/place/1072664780?c=15.00,0,0,0,dh&isCorrectAnswer=true\n",
      "결과 한 개\n",
      "\n",
      "[크롤링 시작...]\n",
      "스미카츠 압구정 본점\n",
      "돈가스\n",
      "서울 강남구 선릉로157길 23-3 지상 1층 101호\n",
      "주문 유형 3\n",
      "숯불 숙성등심 카츠 정식(제주돼지)\n",
      "14일 교차숙성한 최상급 국내산 등심을 덧살없이 튀겨 레스팅한후 숯불에 훈연하여 내드립니다\n",
      "리뷰 존재\n",
      "음식이 맛있어요\n",
      "재료가 신선해요\n",
      "인테리어가 멋져요\n",
      "특별한 메뉴가 있어요\n",
      "친절해요\n",
      "['스미카츠 압구정 본점'] ...완료\n",
      "[데이터 수집 완료]\n",
      "소요 시간 : 13.414200782775879 \n",
      "\n",
      "61번째 가게\n"
     ]
    },
    {
     "name": "stderr",
     "output_type": "stream",
     "text": [
      "The chromedriver version (128.0.6613.137) detected in PATH at c:\\Users\\kk21\\Desktop\\TRIPER\\chromedriver.exe might not be compatible with the detected chrome version (129.0.6668.101); currently, chromedriver 129.0.6668.100 is recommended for chrome 129.*, so it is advised to delete the driver in PATH and retry\n"
     ]
    },
    {
     "name": "stdout",
     "output_type": "stream",
     "text": [
      "https://map.naver.com/p/search/%EA%B0%95%EB%82%A8%EA%B5%AC%20%EB%B9%A8%EA%B0%84%EC%9D%98%EC%9E%90%EC%A7%91%20%EA%B0%95%EB%82%A8%EC%97%AD%EC%A0%90/place/1114913849?c=15.00,0,0,0,dh&isCorrectAnswer=true\n",
      "결과 한 개\n",
      "\n",
      "[크롤링 시작...]\n",
      "빨간의자집 강남역점\n",
      "육류,고기요리\n",
      "서울 강남구 테헤란로1길 28-13 1층 빨간의자집 강남역점\n",
      "주문 유형 3\n",
      "대표 메뉴 없음\n",
      "메뉴 설명 없음\n",
      "오류 예외 처리\n",
      "62번째 가게\n"
     ]
    },
    {
     "name": "stderr",
     "output_type": "stream",
     "text": [
      "The chromedriver version (128.0.6613.137) detected in PATH at c:\\Users\\kk21\\Desktop\\TRIPER\\chromedriver.exe might not be compatible with the detected chrome version (129.0.6668.101); currently, chromedriver 129.0.6668.100 is recommended for chrome 129.*, so it is advised to delete the driver in PATH and retry\n"
     ]
    },
    {
     "name": "stdout",
     "output_type": "stream",
     "text": [
      "https://map.naver.com/p/search/%EA%B0%95%EB%82%A8%EA%B5%AC%20%ED%8A%B8%EB%9D%BC%EA%B0%80%20%EC%97%AD%EC%82%BC%EC%A0%90/place/1239744469?c=15.00,0,0,0,dh&isCorrectAnswer=true\n",
      "결과 한 개\n",
      "\n",
      "[크롤링 시작...]\n",
      "트라가 역삼점\n",
      "스페인음식\n",
      "서울 강남구 테헤란로25길 46\n",
      "주문 유형 3\n",
      "트라가세트(2인)\n",
      "트라가미니빠에야+감바스피칸테+이베리코스테이크250g+하몽샐러드로 구성된 2인세트\n",
      "리뷰 존재\n",
      "음식이 맛있어요\n",
      "친절해요\n",
      "인테리어가 멋져요\n",
      "특별한 메뉴가 있어요\n",
      "재료가 신선해요\n",
      "['트라가 역삼점'] ...완료\n",
      "[데이터 수집 완료]\n",
      "소요 시간 : 13.446682214736938 \n",
      "\n",
      "63번째 가게\n"
     ]
    },
    {
     "name": "stderr",
     "output_type": "stream",
     "text": [
      "The chromedriver version (128.0.6613.137) detected in PATH at c:\\Users\\kk21\\Desktop\\TRIPER\\chromedriver.exe might not be compatible with the detected chrome version (129.0.6668.101); currently, chromedriver 129.0.6668.100 is recommended for chrome 129.*, so it is advised to delete the driver in PATH and retry\n"
     ]
    },
    {
     "name": "stdout",
     "output_type": "stream",
     "text": [
      "https://map.naver.com/p/search/%EA%B0%95%EB%82%A8%EA%B5%AC%20%ED%8A%B8%EB%9D%BC%EA%B0%80%20%EA%B0%80%EB%A1%9C%EC%88%98%EA%B8%B8%EC%A0%90/place/1609433684?c=15.00,0,0,0,dh&isCorrectAnswer=true\n",
      "결과 한 개\n",
      "\n",
      "[크롤링 시작...]\n",
      "트라가 가로수길점\n",
      "스페인음식\n",
      "서울 강남구 압구정로2길 18\n",
      "주문 유형 3\n",
      "트라가세트(2인)\n",
      "트라가미니빠에야+감바스피칸테+이베리코스테이크250g+하몽샐러드로 구성된 2인 세트\n",
      "리뷰 존재\n",
      "음식이 맛있어요\n",
      "친절해요\n",
      "특별한 메뉴가 있어요\n",
      "인테리어가 멋져요\n",
      "재료가 신선해요\n",
      "['트라가 가로수길점'] ...완료\n",
      "[데이터 수집 완료]\n",
      "소요 시간 : 13.414549350738525 \n",
      "\n",
      "64번째 가게\n"
     ]
    },
    {
     "name": "stderr",
     "output_type": "stream",
     "text": [
      "The chromedriver version (128.0.6613.137) detected in PATH at c:\\Users\\kk21\\Desktop\\TRIPER\\chromedriver.exe might not be compatible with the detected chrome version (129.0.6668.101); currently, chromedriver 129.0.6668.100 is recommended for chrome 129.*, so it is advised to delete the driver in PATH and retry\n"
     ]
    },
    {
     "name": "stdout",
     "output_type": "stream",
     "text": [
      "https://map.naver.com/p/search/%EA%B0%95%EB%82%A8%EA%B5%AC%20%EA%B0%93%EC%9E%87%20%EA%B0%95%EB%82%A8%EC%A0%90?c=15.00,0,0,0,dh\n",
      "결과 여러 개 존재(지점 또는 근접 지역)\n",
      "\n",
      "[크롤링 시작...]\n",
      "갓잇 강남점\n",
      "멕시코,남미음식\n",
      "서울 강남구 봉은사로4길 10 대원빌딩 1층\n",
      "주문 유형 3\n",
      "B세트 파히타 (2인추천)\n",
      "갓파히타, 타코 2pcs, 감자튀김, 또띠아, 갓콰몰리 등으로 구성된 2인 세트 메뉴\n",
      "리뷰 존재\n",
      "음식이 맛있어요\n",
      "인테리어가 멋져요\n",
      "재료가 신선해요\n",
      "매장이 넓어요\n",
      "친절해요\n",
      "['갓잇 강남점'] ...완료\n",
      "[데이터 수집 완료]\n",
      "소요 시간 : 13.418314456939697 \n",
      "\n",
      "65번째 가게\n"
     ]
    },
    {
     "name": "stderr",
     "output_type": "stream",
     "text": [
      "The chromedriver version (128.0.6613.137) detected in PATH at c:\\Users\\kk21\\Desktop\\TRIPER\\chromedriver.exe might not be compatible with the detected chrome version (129.0.6668.101); currently, chromedriver 129.0.6668.100 is recommended for chrome 129.*, so it is advised to delete the driver in PATH and retry\n"
     ]
    },
    {
     "name": "stdout",
     "output_type": "stream",
     "text": [
      "https://map.naver.com/p/search/%EA%B0%95%EB%82%A8%EA%B5%AC%20%EA%B0%95%EB%82%A8%20%EA%B3%B1?c=15.00,0,0,0,dh\n",
      "결과 여러 개 존재(지점 또는 근접 지역)\n",
      "\n",
      "[크롤링 시작...]\n",
      "강남 곱\n",
      "곱창,막창,양\n",
      "서울 강남구 역삼로3길 12\n",
      "주문 유형 3\n",
      "대표 메뉴 없음\n",
      "메뉴 설명 없음\n",
      "오류 예외 처리\n",
      "66번째 가게\n"
     ]
    },
    {
     "name": "stderr",
     "output_type": "stream",
     "text": [
      "The chromedriver version (128.0.6613.137) detected in PATH at c:\\Users\\kk21\\Desktop\\TRIPER\\chromedriver.exe might not be compatible with the detected chrome version (129.0.6668.101); currently, chromedriver 129.0.6668.100 is recommended for chrome 129.*, so it is advised to delete the driver in PATH and retry\n"
     ]
    },
    {
     "name": "stdout",
     "output_type": "stream",
     "text": [
      "https://map.naver.com/p/search/%EA%B0%95%EB%82%A8%EA%B5%AC%20%EB%AF%B8%EB%8F%84%EC%9D%B8%20%EA%B0%95%EB%82%A8/place/1427134948?c=15.00,0,0,0,dh&isCorrectAnswer=true\n",
      "결과 한 개\n",
      "\n",
      "[크롤링 시작...]\n",
      "미도인 강남\n",
      "일식당\n",
      "서울 강남구 강남대로102길 16 지상 2층\n",
      "주문 유형 3\n",
      "(런치한정)400 스테이크 덮밥\n",
      "무려 400g을 한그릇에 담았습니다. 원가 부담이 있지만 일찍 찾아주신분께 보답하겠습니다.\n",
      "리뷰 존재\n",
      "음식이 맛있어요\n",
      "친절해요\n",
      "매장이 넓어요\n",
      "인테리어가 멋져요\n",
      "매장이 청결해요\n",
      "['미도인 강남'] ...완료\n",
      "[데이터 수집 완료]\n",
      "소요 시간 : 13.473061084747314 \n",
      "\n",
      "67번째 가게\n"
     ]
    },
    {
     "name": "stderr",
     "output_type": "stream",
     "text": [
      "The chromedriver version (128.0.6613.137) detected in PATH at c:\\Users\\kk21\\Desktop\\TRIPER\\chromedriver.exe might not be compatible with the detected chrome version (129.0.6668.101); currently, chromedriver 129.0.6668.100 is recommended for chrome 129.*, so it is advised to delete the driver in PATH and retry\n"
     ]
    },
    {
     "name": "stdout",
     "output_type": "stream",
     "text": [
      "https://map.naver.com/p/search/%EA%B0%95%EB%82%A8%EA%B5%AC%20%EC%98%A5%EB%90%9C%EC%9E%A5%20%EC%97%AD%EC%82%BC%EC%A0%90/place/1490486383?c=15.00,0,0,0,dh&isCorrectAnswer=true\n",
      "결과 한 개\n",
      "\n",
      "[크롤링 시작...]\n",
      "옥된장 역삼점\n",
      "한식\n",
      "서울 강남구 논현로85길 7 지상1층\n",
      "주문 유형 3\n",
      "모둠 수육무침 250g\n",
      "수육과 야채가 함께 무쳐서 나오는 메뉴입니다\n",
      "리뷰 존재\n",
      "음식이 맛있어요\n",
      "재료가 신선해요\n",
      "친절해요\n",
      "매장이 넓어요\n",
      "양이 많아요\n",
      "['옥된장 역삼점'] ...완료\n",
      "[데이터 수집 완료]\n",
      "소요 시간 : 13.407379865646362 \n",
      "\n",
      "68번째 가게\n"
     ]
    },
    {
     "name": "stderr",
     "output_type": "stream",
     "text": [
      "The chromedriver version (128.0.6613.137) detected in PATH at c:\\Users\\kk21\\Desktop\\TRIPER\\chromedriver.exe might not be compatible with the detected chrome version (129.0.6668.101); currently, chromedriver 129.0.6668.100 is recommended for chrome 129.*, so it is advised to delete the driver in PATH and retry\n"
     ]
    },
    {
     "name": "stdout",
     "output_type": "stream",
     "text": [
      "https://map.naver.com/p/search/%EA%B0%95%EB%82%A8%EA%B5%AC%20%ED%98%B8%EC%A1%B1%EB%B0%98%20%EC%B2%AD%EB%8B%B4/place/1103092572?c=15.00,0,0,0,dh&isCorrectAnswer=true\n",
      "결과 한 개\n",
      "\n",
      "[크롤링 시작...]\n",
      "호족반 청담\n",
      "한식\n",
      "서울 강남구 언주로164길 39 1층\n",
      "주문 유형 3\n",
      "대표 메뉴 없음\n",
      "메뉴 설명 없음\n",
      "오류 예외 처리\n",
      "69번째 가게\n"
     ]
    },
    {
     "name": "stderr",
     "output_type": "stream",
     "text": [
      "The chromedriver version (128.0.6613.137) detected in PATH at c:\\Users\\kk21\\Desktop\\TRIPER\\chromedriver.exe might not be compatible with the detected chrome version (129.0.6668.101); currently, chromedriver 129.0.6668.100 is recommended for chrome 129.*, so it is advised to delete the driver in PATH and retry\n"
     ]
    },
    {
     "name": "stdout",
     "output_type": "stream",
     "text": [
      "https://map.naver.com/p/search/%EA%B0%95%EB%82%A8%EA%B5%AC%20%EC%95%84%EA%B7%B8%EB%9D%BC%20%EC%BD%94%EC%97%91%EC%8A%A4%EC%A0%90?c=15.00,0,0,0,dh\n",
      "결과 여러 개 존재(지점 또는 근접 지역)\n",
      "\n",
      "[크롤링 시작...]\n",
      "아그라 코엑스점\n",
      "인도음식\n",
      "서울 강남구 영동대로 513 코엑스 지하1층 아이102호\n",
      "주문 유형 3\n",
      "PREMIUM COUPLE SET\n",
      "아그라의 대표메뉴를 모두 맛 볼 수 있는 메뉴(난,라이스,소프트 드링크 무제한 서비스)\n",
      "리뷰 존재\n",
      "음식이 맛있어요\n",
      "친절해요\n",
      "인테리어가 멋져요\n",
      "양이 많아요\n",
      "특별한 메뉴가 있어요\n",
      "['아그라 코엑스점'] ...완료\n",
      "[데이터 수집 완료]\n",
      "소요 시간 : 13.409385681152344 \n",
      "\n",
      "70번째 가게\n"
     ]
    },
    {
     "name": "stderr",
     "output_type": "stream",
     "text": [
      "The chromedriver version (128.0.6613.137) detected in PATH at c:\\Users\\kk21\\Desktop\\TRIPER\\chromedriver.exe might not be compatible with the detected chrome version (129.0.6668.101); currently, chromedriver 129.0.6668.100 is recommended for chrome 129.*, so it is advised to delete the driver in PATH and retry\n"
     ]
    },
    {
     "name": "stdout",
     "output_type": "stream",
     "text": [
      "https://map.naver.com/p/search/%EA%B0%95%EB%82%A8%EA%B5%AC%20%EB%B0%94%EC%8A%A4%EB%B2%84%EA%B1%B0%20%EB%8F%84%EA%B3%A1%EC%A0%90?c=15.00,0,0,0,dh\n",
      "결과 여러 개 존재(지점 또는 근접 지역)\n",
      "\n",
      "[크롤링 시작...]\n",
      "바스버거 도곡점\n",
      "햄버거\n",
      "서울 강남구 논현로38길 46-3 지상1층 101호\n",
      "주문 유형 3\n",
      "치즈버거\n",
      "소고기 패티, 리얼 체다x2, 양파, 하우스 소스\n",
      "리뷰 존재\n",
      "음식이 맛있어요\n",
      "재료가 신선해요\n",
      "매장이 넓어요\n",
      "친절해요\n",
      "매장이 청결해요\n",
      "['바스버거 도곡점'] ...완료\n",
      "[데이터 수집 완료]\n",
      "소요 시간 : 13.425285577774048 \n",
      "\n",
      "71번째 가게\n"
     ]
    },
    {
     "name": "stderr",
     "output_type": "stream",
     "text": [
      "The chromedriver version (128.0.6613.137) detected in PATH at c:\\Users\\kk21\\Desktop\\TRIPER\\chromedriver.exe might not be compatible with the detected chrome version (129.0.6668.101); currently, chromedriver 129.0.6668.100 is recommended for chrome 129.*, so it is advised to delete the driver in PATH and retry\n"
     ]
    },
    {
     "name": "stdout",
     "output_type": "stream",
     "text": [
      "https://map.naver.com/p/search/%EA%B0%95%EB%82%A8%EA%B5%AC%20%EC%B2%AD%EB%8B%B4%EB%8F%99%20%EC%88%9C%EB%8F%84%EB%A6%AC/place/1691368632?c=15.00,0,0,0,dh&isCorrectAnswer=true\n",
      "결과 한 개\n",
      "\n",
      "[크롤링 시작...]\n",
      "청담동순도리 청담점\n",
      "순대,순댓국\n",
      "서울 강남구 도산대로 510 신한 오피스텔 1층\n",
      "주문 유형 3\n",
      "대표 메뉴 없음\n",
      "메뉴 설명 없음\n",
      "오류 예외 처리\n",
      "72번째 가게\n"
     ]
    },
    {
     "name": "stderr",
     "output_type": "stream",
     "text": [
      "The chromedriver version (128.0.6613.137) detected in PATH at c:\\Users\\kk21\\Desktop\\TRIPER\\chromedriver.exe might not be compatible with the detected chrome version (129.0.6668.101); currently, chromedriver 129.0.6668.100 is recommended for chrome 129.*, so it is advised to delete the driver in PATH and retry\n"
     ]
    },
    {
     "name": "stdout",
     "output_type": "stream",
     "text": [
      "https://map.naver.com/p/search/%EA%B0%95%EB%82%A8%EA%B5%AC%20%EB%AF%B8%EB%AF%B8%EB%A9%B4%EA%B0%80%20%EB%B3%B8%EC%A0%90?c=15.00,0,0,0,dh\n",
      "결과 여러 개 존재(지점 또는 근접 지역)\n",
      "가게 없음\n",
      "73번째 가게\n"
     ]
    },
    {
     "name": "stderr",
     "output_type": "stream",
     "text": [
      "The chromedriver version (128.0.6613.137) detected in PATH at c:\\Users\\kk21\\Desktop\\TRIPER\\chromedriver.exe might not be compatible with the detected chrome version (129.0.6668.101); currently, chromedriver 129.0.6668.100 is recommended for chrome 129.*, so it is advised to delete the driver in PATH and retry\n"
     ]
    },
    {
     "name": "stdout",
     "output_type": "stream",
     "text": [
      "https://map.naver.com/p/search/%EA%B0%95%EB%82%A8%EA%B5%AC%20%EA%B7%B8%EB%A1%9C%EC%96%B4%EC%8A%A4%20%EB%8F%84%EA%B3%A1/place/1994866177?c=15.00,0,0,0,dh&isCorrectAnswer=true\n",
      "결과 한 개\n",
      "\n",
      "[크롤링 시작...]\n",
      "그로어스 도곡\n",
      "양식\n",
      "서울 강남구 논현로26길 40 1층\n",
      "주문 유형 3\n",
      "우대갈비\n",
      "꽃갈비살인 6,7,8 번대 우대가립와 구운야채, 불고기 갸스트리 소스를 곁들인 스테이크\n",
      "리뷰 존재\n",
      "음식이 맛있어요\n",
      "인테리어가 멋져요\n",
      "재료가 신선해요\n",
      "특별한 메뉴가 있어요\n",
      "친절해요\n",
      "['그로어스 도곡'] ...완료\n",
      "[데이터 수집 완료]\n",
      "소요 시간 : 13.42867374420166 \n",
      "\n",
      "./out_food_review/out_22_food.csv완료\n",
      "0번째 가게\n"
     ]
    },
    {
     "name": "stderr",
     "output_type": "stream",
     "text": [
      "The chromedriver version (128.0.6613.137) detected in PATH at c:\\Users\\kk21\\Desktop\\TRIPER\\chromedriver.exe might not be compatible with the detected chrome version (129.0.6668.101); currently, chromedriver 129.0.6668.100 is recommended for chrome 129.*, so it is advised to delete the driver in PATH and retry\n"
     ]
    },
    {
     "name": "stdout",
     "output_type": "stream",
     "text": [
      "https://map.naver.com/p/search/%EC%86%A1%ED%8C%8C%EA%B5%AC%20%EB%8B%B4%EC%9D%80%EA%B0%88%EB%B9%84/place/35021883?c=15.00,0,0,0,dh&isCorrectAnswer=true\n",
      "결과 한 개\n",
      "\n",
      "[크롤링 시작...]\n",
      "담은갈비 송파잠실점\n",
      "돼지고기구이\n",
      "서울 송파구 삼전로 93 태정빌딩\n",
      "주문 유형 3\n",
      "한돈 수제돼지갈비 (250g)\n",
      "담은갈비의 천연과즙 특제양념으로 숙성한 최고 인기 메뉴입니다.\n",
      "리뷰 존재\n",
      "음식이 맛있어요\n",
      "친절해요\n",
      "매장이 청결해요\n",
      "재료가 신선해요\n",
      "매장이 넓어요\n",
      "['담은갈비 송파잠실점'] ...완료\n",
      "[데이터 수집 완료]\n",
      "소요 시간 : 13.39594292640686 \n",
      "\n",
      "1번째 가게\n"
     ]
    },
    {
     "name": "stderr",
     "output_type": "stream",
     "text": [
      "The chromedriver version (128.0.6613.137) detected in PATH at c:\\Users\\kk21\\Desktop\\TRIPER\\chromedriver.exe might not be compatible with the detected chrome version (129.0.6668.101); currently, chromedriver 129.0.6668.100 is recommended for chrome 129.*, so it is advised to delete the driver in PATH and retry\n"
     ]
    },
    {
     "name": "stdout",
     "output_type": "stream",
     "text": [
      "https://map.naver.com/p/search/%EC%86%A1%ED%8C%8C%EA%B5%AC%20%EC%B2%AD%EC%B4%88%EC%88%98%EB%AC%BC%ED%9A%8C%20%EC%86%A1%ED%8C%8C%EC%A0%90/place/1960260212?c=15.00,0,0,0,dh&isCorrectAnswer=true\n",
      "결과 한 개\n",
      "\n",
      "[크롤링 시작...]\n",
      "청초수물회 송파점\n",
      "생선회\n",
      "서울 송파구 백제고분로21길 38 1층 102호\n",
      "주문 유형 3\n",
      "해전물회 2인\n",
      "여러 가지 횟감과 활전복,해삼,멍게,날치알 등 청초수만의 사골육수가 어우러진 특허 메뉴\n",
      "리뷰 존재\n",
      "음식이 맛있어요\n",
      "재료가 신선해요\n",
      "매장이 청결해요\n",
      "특별한 메뉴가 있어요\n",
      "친절해요\n",
      "['청초수물회 송파점'] ...완료\n",
      "[데이터 수집 완료]\n",
      "소요 시간 : 13.424717903137207 \n",
      "\n",
      "2번째 가게\n"
     ]
    },
    {
     "name": "stderr",
     "output_type": "stream",
     "text": [
      "The chromedriver version (128.0.6613.137) detected in PATH at c:\\Users\\kk21\\Desktop\\TRIPER\\chromedriver.exe might not be compatible with the detected chrome version (129.0.6668.101); currently, chromedriver 129.0.6668.100 is recommended for chrome 129.*, so it is advised to delete the driver in PATH and retry\n"
     ]
    },
    {
     "name": "stdout",
     "output_type": "stream",
     "text": [
      "https://map.naver.com/p/search/%EC%86%A1%ED%8C%8C%EA%B5%AC%20%EA%B0%95%EB%82%A8%EB%A9%B4%EC%98%A5%20%EC%8B%A0%EC%B2%9C%EC%A0%90?c=15.00,0,0,0,dh\n",
      "결과 여러 개 존재(지점 또는 근접 지역)\n",
      "\n",
      "[크롤링 시작...]\n",
      "강남면옥 신천점\n",
      "냉면\n",
      "서울 송파구 올림픽로8길 21 1층, 2층\n",
      "주문 유형 3\n",
      "회냉면\n",
      "메뉴 설명 없음\n",
      "리뷰 존재\n",
      "음식이 맛있어요\n",
      "매장이 넓어요\n",
      "친절해요\n",
      "재료가 신선해요\n",
      "매장이 청결해요\n",
      "['강남면옥 신천점'] ...완료\n",
      "[데이터 수집 완료]\n",
      "소요 시간 : 13.381533861160278 \n",
      "\n",
      "3번째 가게\n"
     ]
    },
    {
     "name": "stderr",
     "output_type": "stream",
     "text": [
      "The chromedriver version (128.0.6613.137) detected in PATH at c:\\Users\\kk21\\Desktop\\TRIPER\\chromedriver.exe might not be compatible with the detected chrome version (129.0.6668.101); currently, chromedriver 129.0.6668.100 is recommended for chrome 129.*, so it is advised to delete the driver in PATH and retry\n"
     ]
    },
    {
     "name": "stdout",
     "output_type": "stream",
     "text": [
      "https://map.naver.com/p/search/%EC%86%A1%ED%8C%8C%EA%B5%AC%20%EB%AA%A9%EA%B5%AC%EB%A9%8D%20%EB%B0%A9%EC%9D%B4%EC%A0%90?c=15.00,0,0,0,dh\n",
      "결과 여러 개 존재(지점 또는 근접 지역)\n",
      "\n",
      "[크롤링 시작...]\n",
      "목구멍 방이점\n",
      "육류,고기요리\n",
      "서울 송파구 오금로11길 12 효창플라자 1층 105호\n",
      "주문 유형 3\n",
      "대표 메뉴 없음\n",
      "메뉴 설명 없음\n",
      "오류 예외 처리\n",
      "4번째 가게\n"
     ]
    },
    {
     "name": "stderr",
     "output_type": "stream",
     "text": [
      "The chromedriver version (128.0.6613.137) detected in PATH at c:\\Users\\kk21\\Desktop\\TRIPER\\chromedriver.exe might not be compatible with the detected chrome version (129.0.6668.101); currently, chromedriver 129.0.6668.100 is recommended for chrome 129.*, so it is advised to delete the driver in PATH and retry\n"
     ]
    },
    {
     "name": "stdout",
     "output_type": "stream",
     "text": [
      "https://map.naver.com/p/search/%EC%86%A1%ED%8C%8C%EA%B5%AC%20%EB%B0%B0%ED%82%A4%EC%9A%98%EB%B0%A9/place/1068089308?c=13.00,0,0,0,dh&isCorrectAnswer=true\n",
      "결과 한 개\n",
      "\n",
      "[크롤링 시작...]\n",
      "배키욘방\n",
      "일식당\n",
      "서울 송파구 올림픽로32길 22-23 1층\n",
      "주문 유형 3\n",
      "수제생맥주 2900원 이벤트\n",
      "베요타 산체스 프리미엄 이베리코 흑돼지덮밥 250g/500g\n",
      "리뷰 존재\n",
      "음식이 맛있어요\n",
      "특별한 메뉴가 있어요\n",
      "친절해요\n",
      "인테리어가 멋져요\n",
      "재료가 신선해요\n",
      "['배키욘방'] ...완료\n",
      "[데이터 수집 완료]\n",
      "소요 시간 : 13.43975043296814 \n",
      "\n",
      "5번째 가게\n"
     ]
    },
    {
     "name": "stderr",
     "output_type": "stream",
     "text": [
      "The chromedriver version (128.0.6613.137) detected in PATH at c:\\Users\\kk21\\Desktop\\TRIPER\\chromedriver.exe might not be compatible with the detected chrome version (129.0.6668.101); currently, chromedriver 129.0.6668.100 is recommended for chrome 129.*, so it is advised to delete the driver in PATH and retry\n"
     ]
    },
    {
     "name": "stdout",
     "output_type": "stream",
     "text": [
      "https://map.naver.com/p/search/%EC%86%A1%ED%8C%8C%EA%B5%AC%20%EB%8B%A4%EC%9D%B4%EB%8B%9D%EA%B0%88%EB%B9%84%20%EC%9E%A0%EC%8B%A4%EC%83%88%EB%82%B4%EC%A0%90/place/1258112645?c=15.00,0,0,0,dh&isCorrectAnswer=true\n",
      "결과 한 개\n",
      "\n",
      "[크롤링 시작...]\n",
      "다이닝갈비 잠실새내점\n",
      "육류,고기요리\n",
      "서울 송파구 백제고분로7길 32-20 1층\n",
      "주문 유형 3\n",
      "한돈 숯불돼지갈비\n",
      "72시간 숙성 한돈 돼지갈비(1인분/300g)\n",
      "리뷰 존재\n",
      "음식이 맛있어요\n",
      "고기 질이 좋아요\n",
      "양이 많아요\n",
      "인테리어가 멋져요\n",
      "특별한 메뉴가 있어요\n",
      "['다이닝갈비 잠실새내점'] ...완료\n",
      "[데이터 수집 완료]\n",
      "소요 시간 : 13.385369539260864 \n",
      "\n",
      "6번째 가게\n"
     ]
    },
    {
     "name": "stderr",
     "output_type": "stream",
     "text": [
      "The chromedriver version (128.0.6613.137) detected in PATH at c:\\Users\\kk21\\Desktop\\TRIPER\\chromedriver.exe might not be compatible with the detected chrome version (129.0.6668.101); currently, chromedriver 129.0.6668.100 is recommended for chrome 129.*, so it is advised to delete the driver in PATH and retry\n"
     ]
    },
    {
     "name": "stdout",
     "output_type": "stream",
     "text": [
      "https://map.naver.com/p/search/%EC%86%A1%ED%8C%8C%EA%B5%AC%20%EC%83%A4%EC%98%A4%EB%A1%B1%EB%B0%94%EC%98%A4%20%EC%9E%A0%EC%8B%A4%EC%83%88%EB%82%B4%EC%A0%90?c=15.00,0,0,0,dh\n",
      "결과 여러 개 존재(지점 또는 근접 지역)\n",
      "\n",
      "[크롤링 시작...]\n",
      "샤오롱바오 잠실새내점\n",
      "딤섬,중식만두\n",
      "서울 송파구 백제고분로7길 16-15 1층\n",
      "주문 유형 3\n",
      "우육면\n",
      "메뉴 설명 없음\n",
      "리뷰 존재\n",
      "음식이 맛있어요\n",
      "재료가 신선해요\n",
      "매장이 넓어요\n",
      "특별한 메뉴가 있어요\n",
      "양이 많아요\n",
      "['샤오롱바오 잠실새내점'] ...완료\n",
      "[데이터 수집 완료]\n",
      "소요 시간 : 13.454265356063843 \n",
      "\n",
      "7번째 가게\n"
     ]
    },
    {
     "name": "stderr",
     "output_type": "stream",
     "text": [
      "The chromedriver version (128.0.6613.137) detected in PATH at c:\\Users\\kk21\\Desktop\\TRIPER\\chromedriver.exe might not be compatible with the detected chrome version (129.0.6668.101); currently, chromedriver 129.0.6668.100 is recommended for chrome 129.*, so it is advised to delete the driver in PATH and retry\n"
     ]
    },
    {
     "name": "stdout",
     "output_type": "stream",
     "text": [
      "https://map.naver.com/p/search/%EC%86%A1%ED%8C%8C%EA%B5%AC%20%EA%B7%B8%EB%A1%9C%EC%96%B4%EC%8A%A4%20%EC%9E%A0%EC%8B%A4%EC%84%9D%EC%B4%8C%ED%98%B8%EC%88%98%EC%A0%90/place/1536051441?c=15.00,0,0,0,dh&isCorrectAnswer=true\n",
      "결과 한 개\n",
      "\n",
      "[크롤링 시작...]\n",
      "그로어스 잠실석촌호수점\n",
      "양식\n",
      "서울 송파구 석촌호수로 274 1, 2층\n",
      "주문 유형 3\n",
      "밤 프렌치 토스트\n",
      "밤으로 만든 크림소스와 바삭한 밤칩, 보늬밤을 곁들인 프레치 토스트\n",
      "리뷰 존재\n",
      "음식이 맛있어요\n",
      "인테리어가 멋져요\n",
      "재료가 신선해요\n",
      "뷰가 좋아요\n",
      "특별한 메뉴가 있어요\n",
      "['그로어스 잠실석촌호수점'] ...완료\n",
      "[데이터 수집 완료]\n",
      "소요 시간 : 13.40419864654541 \n",
      "\n",
      "8번째 가게\n"
     ]
    },
    {
     "name": "stderr",
     "output_type": "stream",
     "text": [
      "The chromedriver version (128.0.6613.137) detected in PATH at c:\\Users\\kk21\\Desktop\\TRIPER\\chromedriver.exe might not be compatible with the detected chrome version (129.0.6668.101); currently, chromedriver 129.0.6668.100 is recommended for chrome 129.*, so it is advised to delete the driver in PATH and retry\n"
     ]
    },
    {
     "name": "stdout",
     "output_type": "stream",
     "text": [
      "https://map.naver.com/p/search/%EC%86%A1%ED%8C%8C%EA%B5%AC%20%EB%8B%88%EC%BB%A4%EB%B2%84%EC%BB%A4%EB%B2%A0%EC%9D%B4%EA%B8%80?c=15.00,0,0,0,dh\n",
      "결과 여러 개 존재(지점 또는 근접 지역)\n",
      "\n",
      "[크롤링 시작...]\n",
      "니커버커베이글 본점\n",
      "카페,디저트\n",
      "서울 송파구 석촌호수로 268 1층 109~112호\n",
      "주문 유형 3\n",
      "대표 메뉴 없음\n",
      "메뉴 설명 없음\n",
      "오류 예외 처리\n",
      "9번째 가게\n"
     ]
    },
    {
     "name": "stderr",
     "output_type": "stream",
     "text": [
      "The chromedriver version (128.0.6613.137) detected in PATH at c:\\Users\\kk21\\Desktop\\TRIPER\\chromedriver.exe might not be compatible with the detected chrome version (129.0.6668.101); currently, chromedriver 129.0.6668.100 is recommended for chrome 129.*, so it is advised to delete the driver in PATH and retry\n"
     ]
    },
    {
     "name": "stdout",
     "output_type": "stream",
     "text": [
      "https://map.naver.com/p/search/%EC%86%A1%ED%8C%8C%EA%B5%AC%20%EB%8B%A8%EB%94%94?c=15.00,0,0,0,dh\n",
      "결과 여러 개 존재(지점 또는 근접 지역)\n",
      "\n",
      "[크롤링 시작...]\n",
      "단디 잠실본점\n",
      "덮밥\n",
      "서울 송파구 백제고분로45길 7\n",
      "주문 유형 3\n",
      "호르몬동\n",
      "직화 한우 대창 덮밥 (원조)\n",
      "리뷰 존재\n",
      "음식이 맛있어요\n",
      "재료가 신선해요\n",
      "친절해요\n",
      "특별한 메뉴가 있어요\n",
      "인테리어가 멋져요\n",
      "['단디 잠실본점'] ...완료\n",
      "[데이터 수집 완료]\n",
      "소요 시간 : 13.464418888092041 \n",
      "\n",
      "10번째 가게\n"
     ]
    },
    {
     "name": "stderr",
     "output_type": "stream",
     "text": [
      "The chromedriver version (128.0.6613.137) detected in PATH at c:\\Users\\kk21\\Desktop\\TRIPER\\chromedriver.exe might not be compatible with the detected chrome version (129.0.6668.101); currently, chromedriver 129.0.6668.100 is recommended for chrome 129.*, so it is advised to delete the driver in PATH and retry\n"
     ]
    },
    {
     "name": "stdout",
     "output_type": "stream",
     "text": [
      "https://map.naver.com/p/search/%EC%86%A1%ED%8C%8C%EA%B5%AC%20%EB%B0%A9%EC%9D%B4%EC%98%A5%20%EB%B3%B8%EC%A0%90?c=15.00,0,0,0,dh\n",
      "결과 여러 개 존재(지점 또는 근접 지역)\n",
      "\n",
      "[크롤링 시작...]\n",
      "방이옥 본점\n",
      "육류,고기요리\n",
      "서울 송파구 올림픽로32길 28 1층\n",
      "주문 유형 3\n",
      "방이옥 한판 [2~3인]\n",
      "우대갈비 + 삼겹살 + 돈마호크 + 김치삼겹찜 + 소갈비살된장찌개 <공기밥별도>\n",
      "리뷰 존재\n",
      "음식이 맛있어요\n",
      "인테리어가 멋져요\n",
      "친절해요\n",
      "특별한 메뉴가 있어요\n",
      "고기 질이 좋아요\n",
      "['방이옥 본점'] ...완료\n",
      "[데이터 수집 완료]\n",
      "소요 시간 : 13.426225185394287 \n",
      "\n",
      "11번째 가게\n"
     ]
    },
    {
     "name": "stderr",
     "output_type": "stream",
     "text": [
      "The chromedriver version (128.0.6613.137) detected in PATH at c:\\Users\\kk21\\Desktop\\TRIPER\\chromedriver.exe might not be compatible with the detected chrome version (129.0.6668.101); currently, chromedriver 129.0.6668.100 is recommended for chrome 129.*, so it is advised to delete the driver in PATH and retry\n"
     ]
    },
    {
     "name": "stdout",
     "output_type": "stream",
     "text": [
      "https://map.naver.com/p/search/%EC%86%A1%ED%8C%8C%EA%B5%AC%20%EA%B3%B5%EC%9D%B8%EC%9D%B8%EC%A6%9D%EC%86%8C%20%EC%9E%A0%EC%8B%A4%EC%83%88%EB%82%B4%EC%A0%90/place/1893769717?c=15.00,0,0,0,dh&isCorrectAnswer=true\n",
      "결과 한 개\n",
      "\n",
      "[크롤링 시작...]\n",
      "공인인증소 잠실새내점\n",
      "육류,고기요리\n",
      "서울 송파구 백제고분로7길 24-28 1층\n",
      "주문 유형 3\n",
      "삼색갈비세트(생+양념+매콤)소갈비\n",
      "세트 하나에 모두 담았다! 세 가지 갈비맛을 한번에 즐길 수 있는 대표 세트메뉴\n",
      "리뷰 존재\n",
      "음식이 맛있어요\n",
      "고기 질이 좋아요\n",
      "친절해요\n",
      "양이 많아요\n",
      "가성비가 좋아요\n",
      "['공인인증소 잠실새내점'] ...완료\n",
      "[데이터 수집 완료]\n",
      "소요 시간 : 13.46174430847168 \n",
      "\n",
      "12번째 가게\n"
     ]
    },
    {
     "name": "stderr",
     "output_type": "stream",
     "text": [
      "The chromedriver version (128.0.6613.137) detected in PATH at c:\\Users\\kk21\\Desktop\\TRIPER\\chromedriver.exe might not be compatible with the detected chrome version (129.0.6668.101); currently, chromedriver 129.0.6668.100 is recommended for chrome 129.*, so it is advised to delete the driver in PATH and retry\n"
     ]
    },
    {
     "name": "stdout",
     "output_type": "stream",
     "text": [
      "https://map.naver.com/p/search/%EC%86%A1%ED%8C%8C%EA%B5%AC%20%EB%B3%B8%EB%94%94?c=15.00,0,0,0,dh\n",
      "결과 여러 개 존재(지점 또는 근접 지역)\n",
      "\n",
      "[크롤링 시작...]\n",
      "본디 잠실본점\n",
      "육류,고기요리\n",
      "서울 송파구 백제고분로41길 18 1층 일부\n",
      "주문 유형 3\n",
      "돼지 생갈비\n",
      "갈빗대에 붙어있는 삼겹갈비살로 삼겹살 중 더욱 맛있는 부위입니다. [뼈무게포함 170g]\n",
      "리뷰 존재\n",
      "음식이 맛있어요\n",
      "고기 질이 좋아요\n",
      "직접 잘 구워줘요\n",
      "친절해요\n",
      "특별한 메뉴가 있어요\n",
      "['본디 잠실본점'] ...완료\n",
      "[데이터 수집 완료]\n",
      "소요 시간 : 13.414764642715454 \n",
      "\n",
      "13번째 가게\n"
     ]
    },
    {
     "name": "stderr",
     "output_type": "stream",
     "text": [
      "The chromedriver version (128.0.6613.137) detected in PATH at c:\\Users\\kk21\\Desktop\\TRIPER\\chromedriver.exe might not be compatible with the detected chrome version (129.0.6668.101); currently, chromedriver 129.0.6668.100 is recommended for chrome 129.*, so it is advised to delete the driver in PATH and retry\n"
     ]
    },
    {
     "name": "stdout",
     "output_type": "stream",
     "text": [
      "https://map.naver.com/p/search/%EC%86%A1%ED%8C%8C%EA%B5%AC%20%EB%A7%88%EC%8A%A4%ED%83%80%ED%95%98%EC%9D%B4%EB%B3%BC%20%EC%9E%A0%EC%8B%A4%EC%83%88%EB%82%B4%EC%A0%90/place/1548268513?c=15.00,0,0,0,dh&isCorrectAnswer=true\n",
      "결과 한 개\n",
      "\n",
      "[크롤링 시작...]\n",
      "마스타하이볼 잠실새내점\n",
      "이자카야\n",
      "서울 송파구 백제고분로7길 26 1층\n",
      "주문 유형 3\n",
      "하이볼\n",
      "딱 좋은 시원한! 하이볼 한잔 1900원!\n",
      "리뷰 존재\n",
      "음식이 맛있어요\n",
      "가성비가 좋아요\n",
      "술이 다양해요\n",
      "기본 안주가 좋아요\n",
      "인테리어가 멋져요\n",
      "['마스타하이볼 잠실새내점'] ...완료\n",
      "[데이터 수집 완료]\n",
      "소요 시간 : 13.441274642944336 \n",
      "\n",
      "14번째 가게\n"
     ]
    },
    {
     "name": "stderr",
     "output_type": "stream",
     "text": [
      "The chromedriver version (128.0.6613.137) detected in PATH at c:\\Users\\kk21\\Desktop\\TRIPER\\chromedriver.exe might not be compatible with the detected chrome version (129.0.6668.101); currently, chromedriver 129.0.6668.100 is recommended for chrome 129.*, so it is advised to delete the driver in PATH and retry\n"
     ]
    },
    {
     "name": "stdout",
     "output_type": "stream",
     "text": [
      "https://map.naver.com/p/search/%EC%86%A1%ED%8C%8C%EA%B5%AC%20%EC%9A%94%EC%B0%8C%EB%AC%B4%20%EC%86%A1%EB%A6%AC%EB%8B%A8%EA%B8%B8%EC%A0%90/place/1865871010?c=15.00,0,0,0,dh&isCorrectAnswer=true\n",
      "결과 한 개\n",
      "\n",
      "[크롤링 시작...]\n",
      "요찌무 송리단길점\n",
      "일식당\n",
      "서울 송파구 백제고분로45길 23-5 1층\n",
      "주문 유형 3\n",
      "[BEST]카라(매운)마제소바\n",
      "42가지재료가 어우러져 풍미깊고 감칠맛을 끌어올린 명품 마제소바 기본제공-삼겹차슈3ps\n",
      "리뷰 존재\n",
      "음식이 맛있어요\n",
      "친절해요\n",
      "인테리어가 멋져요\n",
      "특별한 메뉴가 있어요\n",
      "재료가 신선해요\n",
      "['요찌무 송리단길점'] ...완료\n",
      "[데이터 수집 완료]\n",
      "소요 시간 : 13.4525306224823 \n",
      "\n",
      "15번째 가게\n"
     ]
    },
    {
     "name": "stderr",
     "output_type": "stream",
     "text": [
      "The chromedriver version (128.0.6613.137) detected in PATH at c:\\Users\\kk21\\Desktop\\TRIPER\\chromedriver.exe might not be compatible with the detected chrome version (129.0.6668.101); currently, chromedriver 129.0.6668.100 is recommended for chrome 129.*, so it is advised to delete the driver in PATH and retry\n"
     ]
    },
    {
     "name": "stdout",
     "output_type": "stream",
     "text": [
      "https://map.naver.com/p/search/%EC%86%A1%ED%8C%8C%EA%B5%AC%20%EC%94%A8%EC%97%98%ED%8A%B8%EB%A6%AC/place/1997992248?c=15.00,0,0,0,dh&isCorrectAnswer=true\n",
      "결과 한 개\n",
      "\n",
      "[크롤링 시작...]\n",
      "씨엘트리\n",
      "카페,디저트\n",
      "서울 송파구 백제고분로45길 17-3 4층\n",
      "주문 유형 3\n",
      "별이 빛나는 밤에\n",
      "블랙 카카오, 흑임자, 초코의 고소하고 달콤한 음료 위 금가루로 별을 표현한 프리미엄 라떼\n",
      "리뷰 존재\n",
      "커피가 맛있어요\n",
      "인테리어가 멋져요\n",
      "디저트가 맛있어요\n",
      "음료가 맛있어요\n",
      "뷰가 좋아요\n",
      "['씨엘트리'] ...완료\n",
      "[데이터 수집 완료]\n",
      "소요 시간 : 13.460663557052612 \n",
      "\n",
      "16번째 가게\n"
     ]
    },
    {
     "name": "stderr",
     "output_type": "stream",
     "text": [
      "The chromedriver version (128.0.6613.137) detected in PATH at c:\\Users\\kk21\\Desktop\\TRIPER\\chromedriver.exe might not be compatible with the detected chrome version (129.0.6668.101); currently, chromedriver 129.0.6668.100 is recommended for chrome 129.*, so it is advised to delete the driver in PATH and retry\n"
     ]
    },
    {
     "name": "stdout",
     "output_type": "stream",
     "text": [
      "https://map.naver.com/p/search/%EC%86%A1%ED%8C%8C%EA%B5%AC%20%EC%9E%A0%EC%8B%A4%EC%9E%A5%EC%96%B4%EC%99%80%20%ED%95%9C%EC%9A%B0/place/13158918?c=15.00,0,0,0,dh&isCorrectAnswer=true\n",
      "결과 한 개\n",
      "\n",
      "[크롤링 시작...]\n",
      "잠실장어와 한우\n",
      "장어,먹장어요리\n",
      "서울 송파구 백제고분로7길 46 지하1층\n",
      "주문 유형 3\n",
      "장어,한우는 직접 보시고 선택하세요\n",
      "가격대별로 준비되어있으니 직접 선택하세요\n",
      "리뷰 존재\n",
      "음식이 맛있어요\n",
      "재료가 신선해요\n",
      "친절해요\n",
      "매장이 넓어요\n",
      "단체모임 하기 좋아요\n",
      "['잠실장어와 한우'] ...완료\n",
      "[데이터 수집 완료]\n",
      "소요 시간 : 13.43760061264038 \n",
      "\n",
      "17번째 가게\n"
     ]
    },
    {
     "name": "stderr",
     "output_type": "stream",
     "text": [
      "The chromedriver version (128.0.6613.137) detected in PATH at c:\\Users\\kk21\\Desktop\\TRIPER\\chromedriver.exe might not be compatible with the detected chrome version (129.0.6668.101); currently, chromedriver 129.0.6668.100 is recommended for chrome 129.*, so it is advised to delete the driver in PATH and retry\n"
     ]
    },
    {
     "name": "stdout",
     "output_type": "stream",
     "text": [
      "https://map.naver.com/p/search/%EC%86%A1%ED%8C%8C%EA%B5%AC%20%EC%9A%94%EB%A6%AC%ED%95%98%EB%8A%94%EB%82%A8%EC%9E%90?c=15.00,0,0,0,dh\n",
      "결과 여러 개 존재(지점 또는 근접 지역)\n",
      "\n",
      "[크롤링 시작...]\n",
      "요리하는남자\n",
      "이탈리아음식\n",
      "서울 송파구 백제고분로7길 27 반석빌딩 지하1층\n",
      "주문 유형 3\n",
      "청포도리코타치즈\n",
      "매일 매장에서 직접 만드는 신선한 리코타 치즈와 상큼한 청포도를 믹스하여 화덕에서 갓구운 도우에 싸서 먹는 요리하는남자의 시그니처 메뉴\n",
      "리뷰 존재\n",
      "음식이 맛있어요\n",
      "친절해요\n",
      "특별한 메뉴가 있어요\n",
      "재료가 신선해요\n",
      "매장이 넓어요\n",
      "['요리하는남자'] ...완료\n",
      "[데이터 수집 완료]\n",
      "소요 시간 : 13.421714544296265 \n",
      "\n",
      "18번째 가게\n"
     ]
    },
    {
     "name": "stderr",
     "output_type": "stream",
     "text": [
      "The chromedriver version (128.0.6613.137) detected in PATH at c:\\Users\\kk21\\Desktop\\TRIPER\\chromedriver.exe might not be compatible with the detected chrome version (129.0.6668.101); currently, chromedriver 129.0.6668.100 is recommended for chrome 129.*, so it is advised to delete the driver in PATH and retry\n"
     ]
    },
    {
     "name": "stdout",
     "output_type": "stream",
     "text": [
      "https://map.naver.com/p/search/%EC%86%A1%ED%8C%8C%EA%B5%AC%20%EC%B2%9C%EB%AF%B8%EB%AF%B8/place/1446978307?c=15.00,0,0,0,dh&isCorrectAnswer=true\n",
      "결과 한 개\n",
      "\n",
      "[크롤링 시작...]\n",
      "천미미\n",
      "중식당\n",
      "서울 송파구 송파대로28길 20 1층\n",
      "주문 유형 3\n",
      "통오징어 차돌짬뽕\n",
      "삼선짬뽕에 통오징어와 차돌이 들어가 있는 푸짐한 식사요리 입니다.\n",
      "리뷰 존재\n",
      "음식이 맛있어요\n",
      "친절해요\n",
      "매장이 넓어요\n",
      "재료가 신선해요\n",
      "단체모임 하기 좋아요\n",
      "['천미미'] ...완료\n",
      "[데이터 수집 완료]\n",
      "소요 시간 : 13.431571006774902 \n",
      "\n",
      "19번째 가게\n"
     ]
    },
    {
     "name": "stderr",
     "output_type": "stream",
     "text": [
      "The chromedriver version (128.0.6613.137) detected in PATH at c:\\Users\\kk21\\Desktop\\TRIPER\\chromedriver.exe might not be compatible with the detected chrome version (129.0.6668.101); currently, chromedriver 129.0.6668.100 is recommended for chrome 129.*, so it is advised to delete the driver in PATH and retry\n"
     ]
    },
    {
     "name": "stdout",
     "output_type": "stream",
     "text": [
      "https://map.naver.com/p/search/%EC%86%A1%ED%8C%8C%EA%B5%AC%20%EC%99%84%EB%8F%84%EC%82%B0%ED%9A%8C%20%ED%8A%B9%EA%B8%89%ED%8F%AC%EC%B0%A8%20%EA%B0%80%EB%9D%BD%EB%B3%B8%EC%A0%90/place/1736409692?c=15.00,0,0,0,dh&isCorrectAnswer=true\n",
      "결과 한 개\n",
      "\n",
      "[크롤링 시작...]\n",
      "완도산회 특급포차 가락본점\n",
      "생선회\n",
      "서울 송파구 중대로9길 42\n",
      "주문 유형 3\n",
      "장독대 물회 2인\n",
      "완도산회의 시그니처 메뉴인 장독대 물회! (자연산회+해삼+전복+개불+멍게+산낙지)\n",
      "리뷰 존재\n",
      "음식이 맛있어요\n",
      "재료가 신선해요\n",
      "친절해요\n",
      "양이 많아요\n",
      "특별한 메뉴가 있어요\n",
      "['완도산회 특급포차 가락본점'] ...완료\n",
      "[데이터 수집 완료]\n",
      "소요 시간 : 13.422723770141602 \n",
      "\n",
      "20번째 가게\n"
     ]
    },
    {
     "name": "stderr",
     "output_type": "stream",
     "text": [
      "The chromedriver version (128.0.6613.137) detected in PATH at c:\\Users\\kk21\\Desktop\\TRIPER\\chromedriver.exe might not be compatible with the detected chrome version (129.0.6668.101); currently, chromedriver 129.0.6668.100 is recommended for chrome 129.*, so it is advised to delete the driver in PATH and retry\n"
     ]
    },
    {
     "name": "stdout",
     "output_type": "stream",
     "text": [
      "https://map.naver.com/p/search/%EC%86%A1%ED%8C%8C%EA%B5%AC%20%EC%B0%A8%EB%A7%8C%EB%8B%A4/place/1012582293?isCorrectAnswer=true&c=15.00,0,0,0,dh\n",
      "결과 한 개\n",
      "\n",
      "[크롤링 시작...]\n",
      "차만다\n",
      "양식\n",
      "서울 송파구 오금로16길 4-15 반도빌딩 1층\n",
      "주문 유형 3\n",
      "Bloody Pumpkin할로윈뇨끼\n",
      "호박모양으로 만든 뇨끼를 비트퓨레와 먹는 할로윈 한정판매 메뉴\n",
      "리뷰 존재\n",
      "음식이 맛있어요\n",
      "인테리어가 멋져요\n",
      "특별한 메뉴가 있어요\n",
      "친절해요\n",
      "특별한 날 가기 좋아요\n",
      "['차만다'] ...완료\n",
      "[데이터 수집 완료]\n",
      "소요 시간 : 13.473355770111084 \n",
      "\n",
      "21번째 가게\n"
     ]
    },
    {
     "name": "stderr",
     "output_type": "stream",
     "text": [
      "The chromedriver version (128.0.6613.137) detected in PATH at c:\\Users\\kk21\\Desktop\\TRIPER\\chromedriver.exe might not be compatible with the detected chrome version (129.0.6668.101); currently, chromedriver 129.0.6668.100 is recommended for chrome 129.*, so it is advised to delete the driver in PATH and retry\n"
     ]
    },
    {
     "name": "stdout",
     "output_type": "stream",
     "text": [
      "https://map.naver.com/p/search/%EC%86%A1%ED%8C%8C%EA%B5%AC%20%EC%9D%BC%EC%9B%94%EA%B3%A0%EA%B8%B0?c=15.00,0,0,0,dh\n",
      "결과 여러 개 존재(지점 또는 근접 지역)\n",
      "\n",
      "[크롤링 시작...]\n",
      "일월고기\n",
      "육류,고기요리\n",
      "서울 송파구 오금로15길 7-16\n",
      "주문 유형 3\n",
      "실속세트\n",
      "삼겹살150g목살150g가리살150g항정살150g +김치찌게or된장찌게\n",
      "리뷰 존재\n",
      "음식이 맛있어요\n",
      "고기 질이 좋아요\n",
      "친절해요\n",
      "직접 잘 구워줘요\n",
      "단체모임 하기 좋아요\n",
      "['일월고기'] ...완료\n",
      "[데이터 수집 완료]\n",
      "소요 시간 : 13.431409358978271 \n",
      "\n",
      "22번째 가게\n"
     ]
    },
    {
     "name": "stderr",
     "output_type": "stream",
     "text": [
      "The chromedriver version (128.0.6613.137) detected in PATH at c:\\Users\\kk21\\Desktop\\TRIPER\\chromedriver.exe might not be compatible with the detected chrome version (129.0.6668.101); currently, chromedriver 129.0.6668.100 is recommended for chrome 129.*, so it is advised to delete the driver in PATH and retry\n"
     ]
    },
    {
     "name": "stdout",
     "output_type": "stream",
     "text": [
      "https://map.naver.com/p/search/%EC%86%A1%ED%8C%8C%EA%B5%AC%20%EC%8B%A0%EC%B2%9C%EC%83%A4%EB%B8%8C%EC%B9%BC%EA%B5%AD%EC%88%98?c=15.00,0,0,0,dh\n",
      "결과 여러 개 존재(지점 또는 근접 지역)\n",
      "\n",
      "[크롤링 시작...]\n",
      "신천샤브칼국수\n",
      "칼국수,만두\n",
      "서울 송파구 백제고분로7길 33\n",
      "주문 유형 3\n",
      "얼큰 버섯 샤브샤브\n",
      "고기,칼국수,볶음밥(셋트 메뉴)\n",
      "리뷰 존재\n",
      "음식이 맛있어요\n",
      "재료가 신선해요\n",
      "가성비가 좋아요\n",
      "친절해요\n",
      "양이 많아요\n",
      "['신천샤브칼국수'] ...완료\n",
      "[데이터 수집 완료]\n",
      "소요 시간 : 13.432084321975708 \n",
      "\n",
      "23번째 가게\n"
     ]
    },
    {
     "name": "stderr",
     "output_type": "stream",
     "text": [
      "The chromedriver version (128.0.6613.137) detected in PATH at c:\\Users\\kk21\\Desktop\\TRIPER\\chromedriver.exe might not be compatible with the detected chrome version (129.0.6668.101); currently, chromedriver 129.0.6668.100 is recommended for chrome 129.*, so it is advised to delete the driver in PATH and retry\n"
     ]
    },
    {
     "name": "stdout",
     "output_type": "stream",
     "text": [
      "https://map.naver.com/p/search/%EC%86%A1%ED%8C%8C%EA%B5%AC%20%EB%B3%84%EB%AF%B8%EA%B3%B1%EC%B0%BD?c=15.00,0,0,0,dh\n",
      "결과 여러 개 존재(지점 또는 근접 지역)\n",
      "\n",
      "[크롤링 시작...]\n",
      "별미곱창\n",
      "곱창,막창,양\n",
      "서울 송파구 오금로11길 11 1층\n",
      "주문 유형 3\n",
      "모듬곱창\n",
      "메뉴 설명 없음\n",
      "리뷰 존재\n",
      "음식이 맛있어요\n",
      "고기 질이 좋아요\n",
      "친절해요\n",
      "특별한 메뉴가 있어요\n",
      "매장이 넓어요\n",
      "['별미곱창'] ...완료\n",
      "[데이터 수집 완료]\n",
      "소요 시간 : 13.452505588531494 \n",
      "\n",
      "24번째 가게\n"
     ]
    },
    {
     "name": "stderr",
     "output_type": "stream",
     "text": [
      "The chromedriver version (128.0.6613.137) detected in PATH at c:\\Users\\kk21\\Desktop\\TRIPER\\chromedriver.exe might not be compatible with the detected chrome version (129.0.6668.101); currently, chromedriver 129.0.6668.100 is recommended for chrome 129.*, so it is advised to delete the driver in PATH and retry\n"
     ]
    },
    {
     "name": "stdout",
     "output_type": "stream",
     "text": [
      "https://map.naver.com/p/search/%EC%86%A1%ED%8C%8C%EA%B5%AC%20%EC%98%9B%EC%B4%8C%EB%A7%A4%EC%9A%B4%EA%B0%88%EB%B9%84%EC%B0%9C?c=15.00,0,0,0,dh\n",
      "결과 여러 개 존재(지점 또는 근접 지역)\n",
      "\n",
      "[크롤링 시작...]\n",
      "옛촌매운갈비찜\n",
      "한식\n",
      "서울 송파구 올림픽로32길 24\n",
      "주문 유형 3\n",
      "살얼음동동식혜\n",
      "메뉴 설명 없음\n",
      "리뷰 존재\n",
      "음식이 맛있어요\n",
      "친절해요\n",
      "양이 많아요\n",
      "가성비가 좋아요\n",
      "재료가 신선해요\n",
      "['옛촌매운갈비찜'] ...완료\n",
      "[데이터 수집 완료]\n",
      "소요 시간 : 13.413164377212524 \n",
      "\n",
      "25번째 가게\n"
     ]
    },
    {
     "name": "stderr",
     "output_type": "stream",
     "text": [
      "The chromedriver version (128.0.6613.137) detected in PATH at c:\\Users\\kk21\\Desktop\\TRIPER\\chromedriver.exe might not be compatible with the detected chrome version (129.0.6668.101); currently, chromedriver 129.0.6668.100 is recommended for chrome 129.*, so it is advised to delete the driver in PATH and retry\n"
     ]
    },
    {
     "name": "stdout",
     "output_type": "stream",
     "text": [
      "https://map.naver.com/p/search/%EC%86%A1%ED%8C%8C%EA%B5%AC%20%EC%9E%A5%EC%83%9D%EA%B4%80%20%EC%9E%A0%EC%8B%A4%EB%B0%A9%EC%9D%B4%EC%A0%90/place/1102062019?c=15.00,0,0,0,dh&isCorrectAnswer=true\n",
      "결과 한 개\n",
      "\n",
      "[크롤링 시작...]\n",
      "장생관 잠실방이점\n",
      "요리주점\n",
      "서울 송파구 올림픽로32길 9 1층\n",
      "주문 유형 3\n",
      "밀푀유나베\n",
      "직접 끓인 사골육수를 사용한 장생관 시그니처 메뉴\n",
      "리뷰 존재\n",
      "음식이 맛있어요\n",
      "인테리어가 멋져요\n",
      "친절해요\n",
      "술이 다양해요\n",
      "특별한 메뉴가 있어요\n",
      "['장생관 잠실방이점'] ...완료\n",
      "[데이터 수집 완료]\n",
      "소요 시간 : 13.396705150604248 \n",
      "\n",
      "26번째 가게\n"
     ]
    },
    {
     "name": "stderr",
     "output_type": "stream",
     "text": [
      "The chromedriver version (128.0.6613.137) detected in PATH at c:\\Users\\kk21\\Desktop\\TRIPER\\chromedriver.exe might not be compatible with the detected chrome version (129.0.6668.101); currently, chromedriver 129.0.6668.100 is recommended for chrome 129.*, so it is advised to delete the driver in PATH and retry\n"
     ]
    },
    {
     "name": "stdout",
     "output_type": "stream",
     "text": [
      "https://map.naver.com/p/search/%EC%86%A1%ED%8C%8C%EA%B5%AC%20%EC%86%A5%EA%B3%A0%EC%A7%91%20%EC%9E%A0%EC%8B%A4%EC%83%88%EB%82%B4%EC%A0%90?c=15.00,0,0,0,dh\n",
      "결과 여러 개 존재(지점 또는 근접 지역)\n",
      "가게 없음\n",
      "27번째 가게\n"
     ]
    },
    {
     "name": "stderr",
     "output_type": "stream",
     "text": [
      "The chromedriver version (128.0.6613.137) detected in PATH at c:\\Users\\kk21\\Desktop\\TRIPER\\chromedriver.exe might not be compatible with the detected chrome version (129.0.6668.101); currently, chromedriver 129.0.6668.100 is recommended for chrome 129.*, so it is advised to delete the driver in PATH and retry\n"
     ]
    },
    {
     "name": "stdout",
     "output_type": "stream",
     "text": [
      "https://map.naver.com/p/search/%EC%86%A1%ED%8C%8C%EA%B5%AC%20%ED%94%BC%EC%9E%90%EB%84%A4%EB%B2%84%EC%8A%AC%EB%A6%BD%EC%8A%A4%20%EC%86%A1%EB%A6%AC%EB%8B%A8%EA%B8%B8%EC%A0%90/place/1708493630?c=15.00,0,0,0,dh&isCorrectAnswer=true\n",
      "결과 한 개\n",
      "\n",
      "[크롤링 시작...]\n",
      "피자네버슬립스 송리단길점\n",
      "피자\n",
      "서울 송파구 백제고분로45길 6 지층\n",
      "주문 유형 3\n",
      "하프 앤 하프 피자\n",
      "피자네버슬립스 전메뉴는 반반 피자가 가능합니다.\n",
      "리뷰 존재\n",
      "음식이 맛있어요\n",
      "인테리어가 멋져요\n",
      "특별한 메뉴가 있어요\n",
      "양이 많아요\n",
      "친절해요\n",
      "['피자네버슬립스 송리단길점'] ...완료\n",
      "[데이터 수집 완료]\n",
      "소요 시간 : 13.434606075286865 \n",
      "\n",
      "28번째 가게\n"
     ]
    },
    {
     "name": "stderr",
     "output_type": "stream",
     "text": [
      "The chromedriver version (128.0.6613.137) detected in PATH at c:\\Users\\kk21\\Desktop\\TRIPER\\chromedriver.exe might not be compatible with the detected chrome version (129.0.6668.101); currently, chromedriver 129.0.6668.100 is recommended for chrome 129.*, so it is advised to delete the driver in PATH and retry\n"
     ]
    },
    {
     "name": "stdout",
     "output_type": "stream",
     "text": [
      "https://map.naver.com/p/search/%EC%86%A1%ED%8C%8C%EA%B5%AC%20%EB%94%94%EC%A0%80%ED%8B%B0%EC%8A%A4%ED%8A%B8/place/1142652654?c=15.00,0,0,0,dh&isCorrectAnswer=true\n",
      "결과 한 개\n",
      "\n",
      "[크롤링 시작...]\n",
      "디저티스트\n",
      "카페,디저트\n",
      "서울 송파구 송파대로48길 37 호수임광아파트 상가동 2층\n",
      "주문 유형 3\n",
      "파르페(시즌)\n",
      "9월 샤인머스켓 파르페 (시즌별 가격 상이)\n",
      "['디저티스트'] ...완료\n",
      "[데이터 수집 완료]\n",
      "소요 시간 : 13.385608196258545 \n",
      "\n",
      "29번째 가게\n"
     ]
    },
    {
     "name": "stderr",
     "output_type": "stream",
     "text": [
      "The chromedriver version (128.0.6613.137) detected in PATH at c:\\Users\\kk21\\Desktop\\TRIPER\\chromedriver.exe might not be compatible with the detected chrome version (129.0.6668.101); currently, chromedriver 129.0.6668.100 is recommended for chrome 129.*, so it is advised to delete the driver in PATH and retry\n"
     ]
    },
    {
     "name": "stdout",
     "output_type": "stream",
     "text": [
      "https://map.naver.com/p/search/%EC%86%A1%ED%8C%8C%EA%B5%AC%20%EC%9E%A0%EC%8B%A4%EB%B0%B1%EC%A0%95?c=15.00,0,0,0,dh\n",
      "결과 여러 개 존재(지점 또는 근접 지역)\n",
      "\n",
      "[크롤링 시작...]\n",
      "잠실백정\n",
      "육류,고기요리\n",
      "서울 송파구 백제고분로7길 28-7 1층\n",
      "주문 유형 3\n",
      "특수부위 쫀득살(대표메뉴)\n",
      "잠실백정 대표메뉴 돼지 1마리당 150g정도 나오는 특수부위 테이블당 3인분까지 주문가능\n",
      "리뷰 존재\n",
      "음식이 맛있어요\n",
      "고기 질이 좋아요\n",
      "친절해요\n",
      "매장이 청결해요\n",
      "특별한 메뉴가 있어요\n",
      "['잠실백정'] ...완료\n",
      "[데이터 수집 완료]\n",
      "소요 시간 : 13.470131635665894 \n",
      "\n",
      "30번째 가게\n"
     ]
    },
    {
     "name": "stderr",
     "output_type": "stream",
     "text": [
      "The chromedriver version (128.0.6613.137) detected in PATH at c:\\Users\\kk21\\Desktop\\TRIPER\\chromedriver.exe might not be compatible with the detected chrome version (129.0.6668.101); currently, chromedriver 129.0.6668.100 is recommended for chrome 129.*, so it is advised to delete the driver in PATH and retry\n"
     ]
    },
    {
     "name": "stdout",
     "output_type": "stream",
     "text": [
      "https://map.naver.com/p/search/%EC%86%A1%ED%8C%8C%EA%B5%AC%20%EC%B9%98%EC%A6%88%EB%A3%B8&%ED%85%8C%EC%9D%B4%EC%8A%A4%ED%8C%85%EB%A3%B8%20%EB%A1%AF%EB%8D%B0%EC%9B%94%EB%93%9C%EB%AA%B0%EC%A0%90/place/36714351?c=15.00,0,0,0,dh&isCorrectAnswer=true\n",
      "결과 한 개\n",
      "\n",
      "[크롤링 시작...]\n",
      "치즈룸&테이스팅룸 롯데월드몰점\n",
      "이탈리아음식\n",
      "서울 송파구 올림픽로 300 롯데월드몰 5층\n",
      "주문 유형 3\n",
      "대표 메뉴 없음\n",
      "메뉴 설명 없음\n",
      "오류 예외 처리\n",
      "31번째 가게\n"
     ]
    },
    {
     "name": "stderr",
     "output_type": "stream",
     "text": [
      "The chromedriver version (128.0.6613.137) detected in PATH at c:\\Users\\kk21\\Desktop\\TRIPER\\chromedriver.exe might not be compatible with the detected chrome version (129.0.6668.101); currently, chromedriver 129.0.6668.100 is recommended for chrome 129.*, so it is advised to delete the driver in PATH and retry\n"
     ]
    },
    {
     "name": "stdout",
     "output_type": "stream",
     "text": [
      "https://map.naver.com/p/search/%EC%86%A1%ED%8C%8C%EA%B5%AC%20%ED%8C%BB%EC%96%B4%EC%BC%80%EC%9D%B4%ED%81%AC/place/1540091901?c=15.00,0,0,0,dh&isCorrectAnswer=true\n",
      "결과 한 개\n",
      "\n",
      "[크롤링 시작...]\n",
      "팻어케이크\n",
      "카페,디저트\n",
      "서울 송파구 백제고분로45길 9 2층\n",
      "주문 유형 3\n",
      "당일홀케이크(미니,1호)\n",
      "매일 준비되는 당일홀케이크(미니,1호사이즈)\n",
      "리뷰 존재\n",
      "디저트가 맛있어요\n",
      "인테리어가 멋져요\n",
      "친절해요\n",
      "커피가 맛있어요\n",
      "특별한 메뉴가 있어요\n",
      "['팻어케이크'] ...완료\n",
      "[데이터 수집 완료]\n",
      "소요 시간 : 13.4128999710083 \n",
      "\n",
      "32번째 가게\n"
     ]
    },
    {
     "name": "stderr",
     "output_type": "stream",
     "text": [
      "The chromedriver version (128.0.6613.137) detected in PATH at c:\\Users\\kk21\\Desktop\\TRIPER\\chromedriver.exe might not be compatible with the detected chrome version (129.0.6668.101); currently, chromedriver 129.0.6668.100 is recommended for chrome 129.*, so it is advised to delete the driver in PATH and retry\n"
     ]
    },
    {
     "name": "stdout",
     "output_type": "stream",
     "text": [
      "https://map.naver.com/p/search/%EC%86%A1%ED%8C%8C%EA%B5%AC%20%EC%AD%88%EA%BE%B8%EB%AF%B8%EB%8F%84%EC%82%AC%20%EC%9E%A0%EC%8B%A4%EC%83%88%EB%82%B4%EC%A0%90?c=15.00,0,0,0,dh\n",
      "결과 여러 개 존재(지점 또는 근접 지역)\n",
      "\n",
      "[크롤링 시작...]\n",
      "쭈꾸미도사 잠실새내점\n",
      "주꾸미요리\n",
      "서울 송파구 백제고분로7길 30 1층\n",
      "주문 유형 3\n",
      "신메뉴)통새우쭈꾸미\n",
      "탱글탱글한 통새우와 쭈꾸미의 조합 거기에 백합과 파스타면 사리까지...\n",
      "리뷰 존재\n",
      "음식이 맛있어요\n",
      "친절해요\n",
      "재료가 신선해요\n",
      "양이 많아요\n",
      "매장이 청결해요\n",
      "['쭈꾸미도사 잠실새내점'] ...완료\n",
      "[데이터 수집 완료]\n",
      "소요 시간 : 13.43197512626648 \n",
      "\n",
      "33번째 가게\n"
     ]
    },
    {
     "name": "stderr",
     "output_type": "stream",
     "text": [
      "The chromedriver version (128.0.6613.137) detected in PATH at c:\\Users\\kk21\\Desktop\\TRIPER\\chromedriver.exe might not be compatible with the detected chrome version (129.0.6668.101); currently, chromedriver 129.0.6668.100 is recommended for chrome 129.*, so it is advised to delete the driver in PATH and retry\n"
     ]
    },
    {
     "name": "stdout",
     "output_type": "stream",
     "text": [
      "https://map.naver.com/p/search/%EC%86%A1%ED%8C%8C%EA%B5%AC%20%EB%8D%B4%ED%91%B8%EB%9D%BC%EA%B0%90%EC%B6%98/place/1775875627?c=15.00,0,0,0,dh&isCorrectAnswer=true\n",
      "결과 한 개\n",
      "\n",
      "[크롤링 시작...]\n",
      "덴푸라감춘\n",
      "일식당\n",
      "서울 송파구 잠실로 209 지하1층 B103호\n",
      "주문 유형 3\n",
      "C코스(콜키지프리)\n",
      "C코스(주말, 공휴일 점심/저녁 모두 가능합니다) 해당 코스 주문시 콜키지 프리 이벤트 중\n",
      "리뷰 존재\n",
      "음식이 맛있어요\n",
      "재료가 신선해요\n",
      "인테리어가 멋져요\n",
      "친절해요\n",
      "특별한 메뉴가 있어요\n",
      "['덴푸라감춘'] ...완료\n",
      "[데이터 수집 완료]\n",
      "소요 시간 : 13.40639853477478 \n",
      "\n",
      "34번째 가게\n"
     ]
    },
    {
     "name": "stderr",
     "output_type": "stream",
     "text": [
      "The chromedriver version (128.0.6613.137) detected in PATH at c:\\Users\\kk21\\Desktop\\TRIPER\\chromedriver.exe might not be compatible with the detected chrome version (129.0.6668.101); currently, chromedriver 129.0.6668.100 is recommended for chrome 129.*, so it is advised to delete the driver in PATH and retry\n"
     ]
    },
    {
     "name": "stdout",
     "output_type": "stream",
     "text": [
      "https://map.naver.com/p/search/%EC%86%A1%ED%8C%8C%EA%B5%AC%20%EC%A7%84%EB%8C%80%EA%B0%90%20%EB%B0%A9%EC%9D%B4%EC%A0%90?c=15.00,0,0,0,dh\n",
      "결과 여러 개 존재(지점 또는 근접 지역)\n",
      "\n",
      "[크롤링 시작...]\n",
      "진대감 방이점\n",
      "소고기구이\n",
      "서울 송파구 오금로13길 6 오선빌딩\n",
      "주문 유형 3\n",
      "한우차돌삼합\n",
      "한우 1등급이상의 차돌박이와 서해안 키조개 관자, 그리고 곁들임 찬 세 가지 합\n",
      "리뷰 존재\n",
      "음식이 맛있어요\n",
      "친절해요\n",
      "특별한 메뉴가 있어요\n",
      "재료가 신선해요\n",
      "고기 질이 좋아요\n",
      "['진대감 방이점'] ...완료\n",
      "[데이터 수집 완료]\n",
      "소요 시간 : 13.482292890548706 \n",
      "\n",
      "35번째 가게\n"
     ]
    },
    {
     "name": "stderr",
     "output_type": "stream",
     "text": [
      "The chromedriver version (128.0.6613.137) detected in PATH at c:\\Users\\kk21\\Desktop\\TRIPER\\chromedriver.exe might not be compatible with the detected chrome version (129.0.6668.101); currently, chromedriver 129.0.6668.100 is recommended for chrome 129.*, so it is advised to delete the driver in PATH and retry\n"
     ]
    },
    {
     "name": "stdout",
     "output_type": "stream",
     "text": [
      "https://map.naver.com/p/search/%EC%86%A1%ED%8C%8C%EA%B5%AC%20%EB%B9%8C%EC%A6%88%20%EC%9E%A0%EC%8B%A4/place/35751325?c=15.00,0,0,0,dh&isCorrectAnswer=true\n",
      "결과 한 개\n",
      "\n",
      "[크롤링 시작...]\n",
      "빌즈 잠실\n",
      "양식\n",
      "서울 송파구 올림픽로 300 롯데월드몰 1층\n",
      "주문 유형 3\n",
      "체리 슈럽 소다\n",
      "사과, 팬넬, 당근, 비트\n",
      "리뷰 존재\n",
      "음식이 맛있어요\n",
      "인테리어가 멋져요\n",
      "특별한 메뉴가 있어요\n",
      "친절해요\n",
      "매장이 넓어요\n",
      "['빌즈 잠실'] ...완료\n",
      "[데이터 수집 완료]\n",
      "소요 시간 : 13.40087628364563 \n",
      "\n",
      "36번째 가게\n"
     ]
    },
    {
     "name": "stderr",
     "output_type": "stream",
     "text": [
      "The chromedriver version (128.0.6613.137) detected in PATH at c:\\Users\\kk21\\Desktop\\TRIPER\\chromedriver.exe might not be compatible with the detected chrome version (129.0.6668.101); currently, chromedriver 129.0.6668.100 is recommended for chrome 129.*, so it is advised to delete the driver in PATH and retry\n"
     ]
    },
    {
     "name": "stdout",
     "output_type": "stream",
     "text": [
      "https://map.naver.com/p/search/%EC%86%A1%ED%8C%8C%EA%B5%AC%20%EC%9A%B0%EB%8C%80%ED%8F%AC%20%EB%B0%A9%EC%9D%B4%EC%A0%90/place/1092802868?c=15.00,0,0,0,dh&isCorrectAnswer=true\n",
      "결과 한 개\n",
      "\n",
      "[크롤링 시작...]\n",
      "우대포 방이점\n",
      "소고기구이\n",
      "서울 송파구 오금로13길 3-11 1층 103-1호\n",
      "주문 유형 3\n",
      "양념소갈비살\n",
      "신선한 생갈비살로 주문 즉시 버무린 즉석 양념 소갈비\n",
      "리뷰 존재\n",
      "음식이 맛있어요\n",
      "고기 질이 좋아요\n",
      "매장이 넓어요\n",
      "친절해요\n",
      "매장이 청결해요\n",
      "['우대포 방이점'] ...완료\n",
      "[데이터 수집 완료]\n",
      "소요 시간 : 13.426302194595337 \n",
      "\n",
      "37번째 가게\n"
     ]
    },
    {
     "name": "stderr",
     "output_type": "stream",
     "text": [
      "The chromedriver version (128.0.6613.137) detected in PATH at c:\\Users\\kk21\\Desktop\\TRIPER\\chromedriver.exe might not be compatible with the detected chrome version (129.0.6668.101); currently, chromedriver 129.0.6668.100 is recommended for chrome 129.*, so it is advised to delete the driver in PATH and retry\n"
     ]
    },
    {
     "name": "stdout",
     "output_type": "stream",
     "text": [
      "https://map.naver.com/p/search/%EC%86%A1%ED%8C%8C%EA%B5%AC%20%EC%9D%BC%EB%A3%A8%20%ED%93%A8%EC%A0%84%ED%95%9C%EC%8B%9D%EB%B7%94%ED%8E%98/place/1102580937?c=15.00,0,0,0,dh&isCorrectAnswer=true\n",
      "결과 한 개\n",
      "\n",
      "[크롤링 시작...]\n",
      "일루 퓨전한식뷔페\n",
      "한식뷔페\n",
      "서울 송파구 송파대로 201 테라타워2 지하1층 B동 G117~119호\n",
      "주문 유형 3\n",
      "1인 무한리필\n",
      "생맥주가 있는 한식뷔페\n",
      "리뷰 존재\n",
      "음식이 맛있어요\n",
      "가성비가 좋아요\n",
      "메뉴 구성이 알차요\n",
      "친절해요\n",
      "재료가 신선해요\n",
      "['일루 퓨전한식뷔페'] ...완료\n",
      "[데이터 수집 완료]\n",
      "소요 시간 : 13.407853603363037 \n",
      "\n",
      "38번째 가게\n"
     ]
    },
    {
     "name": "stderr",
     "output_type": "stream",
     "text": [
      "The chromedriver version (128.0.6613.137) detected in PATH at c:\\Users\\kk21\\Desktop\\TRIPER\\chromedriver.exe might not be compatible with the detected chrome version (129.0.6668.101); currently, chromedriver 129.0.6668.100 is recommended for chrome 129.*, so it is advised to delete the driver in PATH and retry\n"
     ]
    },
    {
     "name": "stdout",
     "output_type": "stream",
     "text": [
      "https://map.naver.com/p/search/%EC%86%A1%ED%8C%8C%EA%B5%AC%20%EC%9D%B4%EA%B0%80%EB%84%A4%EC%96%91%EA%BC%AC%EC%B9%98%20%EB%AC%B8%EC%A0%95%EC%A7%81%EC%98%81%EC%A0%90?c=15.00,0,0,0,dh\n",
      "결과 여러 개 존재(지점 또는 근접 지역)\n",
      "\n",
      "[크롤링 시작...]\n",
      "이가네양꼬치 문정직영점\n",
      "양꼬치\n",
      "서울 송파구 법원로11길 7 C동 114호, 115호, 116호\n",
      "주문 유형 3\n",
      "양등심꼬치\n",
      "메뉴 설명 없음\n",
      "리뷰 존재\n",
      "음식이 맛있어요\n",
      "고기 질이 좋아요\n",
      "친절해요\n",
      "양이 많아요\n",
      "재료가 신선해요\n",
      "['이가네양꼬치 문정직영점'] ...완료\n",
      "[데이터 수집 완료]\n",
      "소요 시간 : 13.450799465179443 \n",
      "\n",
      "39번째 가게\n"
     ]
    },
    {
     "name": "stderr",
     "output_type": "stream",
     "text": [
      "The chromedriver version (128.0.6613.137) detected in PATH at c:\\Users\\kk21\\Desktop\\TRIPER\\chromedriver.exe might not be compatible with the detected chrome version (129.0.6668.101); currently, chromedriver 129.0.6668.100 is recommended for chrome 129.*, so it is advised to delete the driver in PATH and retry\n"
     ]
    },
    {
     "name": "stdout",
     "output_type": "stream",
     "text": [
      "https://map.naver.com/p/search/%EC%86%A1%ED%8C%8C%EA%B5%AC%20%ED%95%84%EB%85%80%EC%9D%98%20%ED%95%9C%EC%A0%95%EC%8B%9D/place/36849228?c=15.00,0,0,0,dh&isCorrectAnswer=true\n",
      "결과 한 개\n",
      "\n",
      "[크롤링 시작...]\n",
      "필녀의 한정식\n",
      "한정식\n",
      "서울 송파구 동남로 308 KOBA빌딩\n",
      "주문 유형 3\n",
      "필정식 (1日 50人 평일점심 한정)\n",
      "영양죽,생과일드레싱샐러드,계절김치,궁중잡채,탕평채,계절전,간장게장,참숯불 불고기 외 7찬\n",
      "리뷰 존재\n",
      "음식이 맛있어요\n",
      "재료가 신선해요\n",
      "친절해요\n",
      "단체모임 하기 좋아요\n",
      "양이 많아요\n",
      "['필녀의 한정식'] ...완료\n",
      "[데이터 수집 완료]\n",
      "소요 시간 : 13.431965351104736 \n",
      "\n",
      "40번째 가게\n"
     ]
    },
    {
     "name": "stderr",
     "output_type": "stream",
     "text": [
      "The chromedriver version (128.0.6613.137) detected in PATH at c:\\Users\\kk21\\Desktop\\TRIPER\\chromedriver.exe might not be compatible with the detected chrome version (129.0.6668.101); currently, chromedriver 129.0.6668.100 is recommended for chrome 129.*, so it is advised to delete the driver in PATH and retry\n"
     ]
    },
    {
     "name": "stdout",
     "output_type": "stream",
     "text": [
      "https://map.naver.com/p/search/%EC%86%A1%ED%8C%8C%EA%B5%AC%20%EB%8F%99%EB%9E%98%EB%B3%84%EC%9E%A5?c=15.00,0,0,0,dh\n",
      "결과 여러 개 존재(지점 또는 근접 지역)\n",
      "가게 없음\n",
      "41번째 가게\n"
     ]
    },
    {
     "name": "stderr",
     "output_type": "stream",
     "text": [
      "The chromedriver version (128.0.6613.137) detected in PATH at c:\\Users\\kk21\\Desktop\\TRIPER\\chromedriver.exe might not be compatible with the detected chrome version (129.0.6668.101); currently, chromedriver 129.0.6668.100 is recommended for chrome 129.*, so it is advised to delete the driver in PATH and retry\n"
     ]
    },
    {
     "name": "stdout",
     "output_type": "stream",
     "text": [
      "https://map.naver.com/p/search/%EC%86%A1%ED%8C%8C%EA%B5%AC%20%EA%B0%93%EC%9E%87%20%EC%86%A1%EB%A6%AC%EB%8B%A8%EA%B8%B8%EC%A0%90?c=15.00,0,0,0,dh\n",
      "결과 여러 개 존재(지점 또는 근접 지역)\n",
      "\n",
      "[크롤링 시작...]\n",
      "갓잇 송리단길점\n",
      "멕시코,남미음식\n",
      "서울 송파구 오금로16길 20 1, 2F GODEAT\n",
      "주문 유형 3\n",
      "B세트 파히타 (2인추천)\n",
      "갓파히타, 타코 2pcs, 감자튀김, 또띠아, 갓콰몰리 등으로 구성된 2인 세트 메뉴\n",
      "리뷰 존재\n",
      "음식이 맛있어요\n",
      "재료가 신선해요\n",
      "친절해요\n",
      "인테리어가 멋져요\n",
      "양이 많아요\n",
      "['갓잇 송리단길점'] ...완료\n",
      "[데이터 수집 완료]\n",
      "소요 시간 : 13.40878701210022 \n",
      "\n",
      "42번째 가게\n"
     ]
    },
    {
     "name": "stderr",
     "output_type": "stream",
     "text": [
      "The chromedriver version (128.0.6613.137) detected in PATH at c:\\Users\\kk21\\Desktop\\TRIPER\\chromedriver.exe might not be compatible with the detected chrome version (129.0.6668.101); currently, chromedriver 129.0.6668.100 is recommended for chrome 129.*, so it is advised to delete the driver in PATH and retry\n"
     ]
    },
    {
     "name": "stdout",
     "output_type": "stream",
     "text": [
      "https://map.naver.com/p/search/%EC%86%A1%ED%8C%8C%EA%B5%AC%20%EB%9C%BB%ED%95%9C%EB%B0%94/place/1891297928?c=15.00,0,0,0,dh&isCorrectAnswer=true\n",
      "결과 한 개\n",
      "\n",
      "[크롤링 시작...]\n",
      "뜻한바\n",
      "요리주점\n",
      "서울 송파구 백제고분로42길 6-9 동광펠리스 101호 뜻한바\n",
      "주문 유형 3\n",
      "1부 시즌코스\n",
      "1부 총 6가지 시즌 코스메뉴 17:30~19:30 2인당 주류 1병 필수입니다.\n",
      "리뷰 존재\n",
      "음식이 맛있어요\n",
      "특별한 메뉴가 있어요\n",
      "친절해요\n",
      "술이 다양해요\n",
      "대화하기 좋아요\n",
      "['뜻한바'] ...완료\n",
      "[데이터 수집 완료]\n",
      "소요 시간 : 13.443986415863037 \n",
      "\n",
      "43번째 가게\n"
     ]
    },
    {
     "name": "stderr",
     "output_type": "stream",
     "text": [
      "The chromedriver version (128.0.6613.137) detected in PATH at c:\\Users\\kk21\\Desktop\\TRIPER\\chromedriver.exe might not be compatible with the detected chrome version (129.0.6668.101); currently, chromedriver 129.0.6668.100 is recommended for chrome 129.*, so it is advised to delete the driver in PATH and retry\n"
     ]
    },
    {
     "name": "stdout",
     "output_type": "stream",
     "text": [
      "https://map.naver.com/p/search/%EC%86%A1%ED%8C%8C%EA%B5%AC%20%EC%9A%B0%EB%8C%80%ED%8F%AC%20%EC%9C%84%EB%A1%80%EB%B3%B8%EC%A0%90/place/1149142229?isCorrectAnswer=true&c=15.00,0,0,0,dh\n",
      "결과 한 개\n",
      "\n",
      "[크롤링 시작...]\n",
      "우대포 위례본점\n",
      "육류,고기요리\n",
      "서울 송파구 위례광장로 120 155호\n",
      "주문 유형 3\n",
      "양념소갈비살\n",
      "170g 신선한 생갈비살로 주문 즉시 버무리는 즉석 양념구이.우대포 대표메뉴\n",
      "리뷰 존재\n",
      "음식이 맛있어요\n",
      "고기 질이 좋아요\n",
      "친절해요\n",
      "매장이 청결해요\n",
      "특별한 메뉴가 있어요\n",
      "['우대포 위례본점'] ...완료\n",
      "[데이터 수집 완료]\n",
      "소요 시간 : 13.406626462936401 \n",
      "\n",
      "44번째 가게\n"
     ]
    },
    {
     "name": "stderr",
     "output_type": "stream",
     "text": [
      "The chromedriver version (128.0.6613.137) detected in PATH at c:\\Users\\kk21\\Desktop\\TRIPER\\chromedriver.exe might not be compatible with the detected chrome version (129.0.6668.101); currently, chromedriver 129.0.6668.100 is recommended for chrome 129.*, so it is advised to delete the driver in PATH and retry\n"
     ]
    },
    {
     "name": "stdout",
     "output_type": "stream",
     "text": [
      "https://map.naver.com/p/search/%EC%86%A1%ED%8C%8C%EA%B5%AC%20%EB%8B%B4%EC%82%B0%20%EC%9E%A0%EC%8B%A4%EC%83%88%EB%82%B4%EC%A0%90/place/1845844417?c=15.00,0,0,0,dh&isCorrectAnswer=true\n",
      "결과 한 개\n",
      "\n",
      "[크롤링 시작...]\n",
      "담산 잠실새내점\n",
      "한식\n",
      "서울 송파구 백제고분로7길 6 1층 101호\n",
      "주문 유형 3\n",
      "등갈비찜\n",
      "특제 비법 소스를 사용하여 만든 매콤한 맛이 일품인 등갈비찜\n",
      "리뷰 존재\n",
      "음식이 맛있어요\n",
      "친절해요\n",
      "양이 많아요\n",
      "매장이 청결해요\n",
      "재료가 신선해요\n",
      "['담산 잠실새내점'] ...완료\n",
      "[데이터 수집 완료]\n",
      "소요 시간 : 13.444751262664795 \n",
      "\n",
      "45번째 가게\n"
     ]
    },
    {
     "name": "stderr",
     "output_type": "stream",
     "text": [
      "The chromedriver version (128.0.6613.137) detected in PATH at c:\\Users\\kk21\\Desktop\\TRIPER\\chromedriver.exe might not be compatible with the detected chrome version (129.0.6668.101); currently, chromedriver 129.0.6668.100 is recommended for chrome 129.*, so it is advised to delete the driver in PATH and retry\n"
     ]
    },
    {
     "name": "stdout",
     "output_type": "stream",
     "text": [
      "https://map.naver.com/p/search/%EC%86%A1%ED%8C%8C%EA%B5%AC%20%EC%A0%9C%EC%A3%BC%EA%B3%B3%EA%B0%84%20%EB%B0%A9%EC%9D%B4%EB%B3%B8%EC%A0%90?c=15.00,0,0,0,dh\n",
      "결과 여러 개 존재(지점 또는 근접 지역)\n",
      "가게 없음\n",
      "46번째 가게\n"
     ]
    },
    {
     "name": "stderr",
     "output_type": "stream",
     "text": [
      "The chromedriver version (128.0.6613.137) detected in PATH at c:\\Users\\kk21\\Desktop\\TRIPER\\chromedriver.exe might not be compatible with the detected chrome version (129.0.6668.101); currently, chromedriver 129.0.6668.100 is recommended for chrome 129.*, so it is advised to delete the driver in PATH and retry\n"
     ]
    },
    {
     "name": "stdout",
     "output_type": "stream",
     "text": [
      "https://map.naver.com/p/search/%EC%86%A1%ED%8C%8C%EA%B5%AC%20%EC%98%A4%EB%A0%88%EB%85%B8%EB%9D%BC%EB%A9%98%EC%86%A1%ED%8C%8C?c=15.00,0,0,0,dh\n",
      "결과 여러 개 존재(지점 또는 근접 지역)\n",
      "\n",
      "[크롤링 시작...]\n",
      "오레노라멘송파\n",
      "일본식라면\n",
      "서울 송파구 백제고분로45길 17-3 일층\n",
      "주문 유형 3\n",
      "토리빠이탄라멘\n",
      "메뉴 설명 없음\n",
      "리뷰 존재\n",
      "음식이 맛있어요\n",
      "혼밥하기 좋아요\n",
      "친절해요\n",
      "양이 많아요\n",
      "특별한 메뉴가 있어요\n",
      "['오레노라멘송파'] ...완료\n",
      "[데이터 수집 완료]\n",
      "소요 시간 : 13.421711444854736 \n",
      "\n",
      "47번째 가게\n"
     ]
    },
    {
     "name": "stderr",
     "output_type": "stream",
     "text": [
      "The chromedriver version (128.0.6613.137) detected in PATH at c:\\Users\\kk21\\Desktop\\TRIPER\\chromedriver.exe might not be compatible with the detected chrome version (129.0.6668.101); currently, chromedriver 129.0.6668.100 is recommended for chrome 129.*, so it is advised to delete the driver in PATH and retry\n"
     ]
    },
    {
     "name": "stdout",
     "output_type": "stream",
     "text": [
      "https://map.naver.com/p/search/%EC%86%A1%ED%8C%8C%EA%B5%AC%20%EC%B9%B4%EB%9D%BC%EC%A6%88%EC%8A%A4%ED%80%98%EC%96%B4%20%EB%B8%8C%EB%9F%B0%EC%B9%98%EC%B9%B4%ED%8E%98%20%EC%86%A1%ED%8C%8C%EB%82%98%EB%A3%A8%EC%97%AD%EC%A0%90/place/1179435157?c=15.00,0,0,0,dh&isCorrectAnswer=true\n",
      "결과 한 개\n",
      "\n",
      "[크롤링 시작...]\n",
      "카라즈스퀘어 브런치카페 송리단길점\n",
      "브런치카페\n",
      "서울 송파구 오금로 174 1층\n",
      "주문 유형 3\n",
      "빠에야\n",
      "수제간장, 해산물이 듬뿍 들어간 스페인식 볶음밥\n",
      "리뷰 존재\n",
      "커피가 맛있어요\n",
      "인테리어가 멋져요\n",
      "친절해요\n",
      "음식이 맛있어요\n",
      "매장이 청결해요\n",
      "['카라즈스퀘어 브런치카페 송리단길점'] ...완료\n",
      "[데이터 수집 완료]\n",
      "소요 시간 : 13.441611289978027 \n",
      "\n",
      "48번째 가게\n"
     ]
    },
    {
     "name": "stderr",
     "output_type": "stream",
     "text": [
      "The chromedriver version (128.0.6613.137) detected in PATH at c:\\Users\\kk21\\Desktop\\TRIPER\\chromedriver.exe might not be compatible with the detected chrome version (129.0.6668.101); currently, chromedriver 129.0.6668.100 is recommended for chrome 129.*, so it is advised to delete the driver in PATH and retry\n"
     ]
    },
    {
     "name": "stdout",
     "output_type": "stream",
     "text": [
      "https://map.naver.com/p/search/%EC%86%A1%ED%8C%8C%EA%B5%AC%20%EA%B5%AC%EC%A3%BC%20%EC%9E%A0%EC%8B%A4%EC%83%88%EB%82%B4%EC%A0%90/place/1078911965?c=15.00,0,0,0,dh&isCorrectAnswer=true\n",
      "결과 한 개\n",
      "\n",
      "[크롤링 시작...]\n",
      "구주 잠실새내점\n",
      "이자카야\n",
      "서울 송파구 백제고분로7길 28-12 1층, 2층\n",
      "주문 유형 3\n",
      "진격의 구주도넛\n",
      "[구주 시그니처 메뉴] 1차부터 식사대용 가능! *죽 & 면 사리 제공\n",
      "리뷰 존재\n",
      "음식이 맛있어요\n",
      "인테리어가 멋져요\n",
      "특별한 메뉴가 있어요\n",
      "기본 안주가 좋아요\n",
      "친절해요\n",
      "['구주 잠실새내점'] ...완료\n",
      "[데이터 수집 완료]\n",
      "소요 시간 : 13.460222005844116 \n",
      "\n",
      "49번째 가게\n"
     ]
    },
    {
     "name": "stderr",
     "output_type": "stream",
     "text": [
      "The chromedriver version (128.0.6613.137) detected in PATH at c:\\Users\\kk21\\Desktop\\TRIPER\\chromedriver.exe might not be compatible with the detected chrome version (129.0.6668.101); currently, chromedriver 129.0.6668.100 is recommended for chrome 129.*, so it is advised to delete the driver in PATH and retry\n"
     ]
    },
    {
     "name": "stdout",
     "output_type": "stream",
     "text": [
      "https://map.naver.com/p/search/%EC%86%A1%ED%8C%8C%EA%B5%AC%20%EC%88%98%EC%9E%91%EB%82%98%EB%B2%A0%20%EC%84%9D%EC%B4%8C%EC%A0%90/place/1872106859?c=15.00,0,0,0,dh&isCorrectAnswer=true\n",
      "결과 한 개\n",
      "\n",
      "[크롤링 시작...]\n",
      "수작나베 석촌점\n",
      "아시아음식\n",
      "서울 송파구 석촌호수로 234 1층\n",
      "주문 유형 3\n",
      "밀푀유나베(中(2인))\n",
      "우동1+죽1\n",
      "리뷰 존재\n",
      "음식이 맛있어요\n",
      "재료가 신선해요\n",
      "친절해요\n",
      "건강한 맛이에요\n",
      "가성비가 좋아요\n",
      "['수작나베 석촌점'] ...완료\n",
      "[데이터 수집 완료]\n",
      "소요 시간 : 13.446463584899902 \n",
      "\n",
      "50번째 가게\n"
     ]
    },
    {
     "name": "stderr",
     "output_type": "stream",
     "text": [
      "The chromedriver version (128.0.6613.137) detected in PATH at c:\\Users\\kk21\\Desktop\\TRIPER\\chromedriver.exe might not be compatible with the detected chrome version (129.0.6668.101); currently, chromedriver 129.0.6668.100 is recommended for chrome 129.*, so it is advised to delete the driver in PATH and retry\n"
     ]
    },
    {
     "name": "stdout",
     "output_type": "stream",
     "text": [
      "https://map.naver.com/p/search/%EC%86%A1%ED%8C%8C%EA%B5%AC%20%EA%B3%A0%EB%B0%98%EC%8B%9D%EB%8B%B9%20%EC%86%A1%ED%8C%8C%EB%B0%A9%EC%9D%B4%EC%A0%90?c=15.00,0,0,0,dh\n",
      "결과 여러 개 존재(지점 또는 근접 지역)\n",
      "가게 없음\n",
      "51번째 가게\n"
     ]
    },
    {
     "name": "stderr",
     "output_type": "stream",
     "text": [
      "The chromedriver version (128.0.6613.137) detected in PATH at c:\\Users\\kk21\\Desktop\\TRIPER\\chromedriver.exe might not be compatible with the detected chrome version (129.0.6668.101); currently, chromedriver 129.0.6668.100 is recommended for chrome 129.*, so it is advised to delete the driver in PATH and retry\n"
     ]
    },
    {
     "name": "stdout",
     "output_type": "stream",
     "text": [
      "https://map.naver.com/p/search/%EC%86%A1%ED%8C%8C%EA%B5%AC%20%EB%AC%B4%EC%8B%9D%EB%8B%B9%20%EB%B0%A9%EC%9D%B4%EC%A0%90?c=15.00,0,0,0,dh\n",
      "결과 여러 개 존재(지점 또는 근접 지역)\n",
      "가게 없음\n",
      "52번째 가게\n"
     ]
    },
    {
     "name": "stderr",
     "output_type": "stream",
     "text": [
      "The chromedriver version (128.0.6613.137) detected in PATH at c:\\Users\\kk21\\Desktop\\TRIPER\\chromedriver.exe might not be compatible with the detected chrome version (129.0.6668.101); currently, chromedriver 129.0.6668.100 is recommended for chrome 129.*, so it is advised to delete the driver in PATH and retry\n"
     ]
    },
    {
     "name": "stdout",
     "output_type": "stream",
     "text": [
      "https://map.naver.com/p/search/%EC%86%A1%ED%8C%8C%EA%B5%AC%20%EC%98%A4%EB%A0%88%EB%85%B8%EB%9D%BC%EB%A9%98%20%EC%9E%A0%EC%8B%A4%EB%A1%AF%EB%8D%B0%EC%9B%94%EB%93%9C%EB%AA%B0%EC%A0%90?c=15.00,0,0,0,dh\n",
      "결과 여러 개 존재(지점 또는 근접 지역)\n",
      "\n",
      "[크롤링 시작...]\n",
      "오레노라멘 잠실롯데월드몰점\n",
      "일본식라면\n",
      "서울 송파구 올림픽로 300 롯데월드몰 5층\n",
      "주문 유형 3\n",
      "토리빠이탄\n",
      "시그니처 진하고 고소한 라멘\n",
      "리뷰 존재\n",
      "음식이 맛있어요\n",
      "양이 많아요\n",
      "친절해요\n",
      "혼밥하기 좋아요\n",
      "재료가 신선해요\n",
      "['오레노라멘 잠실롯데월드몰점'] ...완료\n",
      "[데이터 수집 완료]\n",
      "소요 시간 : 13.45041298866272 \n",
      "\n",
      "53번째 가게\n"
     ]
    },
    {
     "name": "stderr",
     "output_type": "stream",
     "text": [
      "The chromedriver version (128.0.6613.137) detected in PATH at c:\\Users\\kk21\\Desktop\\TRIPER\\chromedriver.exe might not be compatible with the detected chrome version (129.0.6668.101); currently, chromedriver 129.0.6668.100 is recommended for chrome 129.*, so it is advised to delete the driver in PATH and retry\n"
     ]
    },
    {
     "name": "stdout",
     "output_type": "stream",
     "text": [
      "https://map.naver.com/p/search/%EC%86%A1%ED%8C%8C%EA%B5%AC%20%EB%8B%AC%EB%9E%98%ED%95%B4%EC%9E%A5%20%EC%9E%A0%EC%8B%A4%EC%83%88%EB%82%B4%EC%A0%90?c=15.00,0,0,0,dh\n",
      "결과 여러 개 존재(지점 또는 근접 지역)\n",
      "\n",
      "[크롤링 시작...]\n",
      "달래해장 잠실새내점\n",
      "한식\n",
      "서울 송파구 백제고분로7길 24-11 1층\n",
      "주문 유형 3\n",
      "갈비수육(250g)\n",
      "갈비살입니다. 술 한잔에 한점씩 먹기 좋습니다. 배부를 때 담백한 안주로 추천드립니다.\n",
      "리뷰 존재\n",
      "음식이 맛있어요\n",
      "매장이 넓어요\n",
      "친절해요\n",
      "재료가 신선해요\n",
      "매장이 청결해요\n",
      "['달래해장 잠실새내점'] ...완료\n",
      "[데이터 수집 완료]\n",
      "소요 시간 : 13.471501350402832 \n",
      "\n",
      "54번째 가게\n"
     ]
    },
    {
     "name": "stderr",
     "output_type": "stream",
     "text": [
      "The chromedriver version (128.0.6613.137) detected in PATH at c:\\Users\\kk21\\Desktop\\TRIPER\\chromedriver.exe might not be compatible with the detected chrome version (129.0.6668.101); currently, chromedriver 129.0.6668.100 is recommended for chrome 129.*, so it is advised to delete the driver in PATH and retry\n"
     ]
    },
    {
     "name": "stdout",
     "output_type": "stream",
     "text": [
      "https://map.naver.com/p/search/%EC%86%A1%ED%8C%8C%EA%B5%AC%20%ED%95%9C%EB%82%A8%EB%8C%80%EA%B5%90/place/1165436888?isCorrectAnswer=true&c=15.00,0,0,0,dh\n",
      "결과 한 개\n",
      "\n",
      "[크롤링 시작...]\n",
      "한남대교\n",
      "요리주점\n",
      "서울 송파구 올림픽로32길 18-11\n",
      "주문 유형 3\n",
      "미나리새우낙지전\n",
      "청도돌미나리, 통낙지한마리, 새우\n",
      "리뷰 존재\n",
      "음식이 맛있어요\n",
      "기본 안주가 좋아요\n",
      "특별한 메뉴가 있어요\n",
      "친절해요\n",
      "인테리어가 멋져요\n",
      "['한남대교'] ...완료\n",
      "[데이터 수집 완료]\n",
      "소요 시간 : 13.438722610473633 \n",
      "\n",
      "55번째 가게\n"
     ]
    },
    {
     "name": "stderr",
     "output_type": "stream",
     "text": [
      "The chromedriver version (128.0.6613.137) detected in PATH at c:\\Users\\kk21\\Desktop\\TRIPER\\chromedriver.exe might not be compatible with the detected chrome version (129.0.6668.101); currently, chromedriver 129.0.6668.100 is recommended for chrome 129.*, so it is advised to delete the driver in PATH and retry\n"
     ]
    },
    {
     "name": "stdout",
     "output_type": "stream",
     "text": [
      "https://map.naver.com/p/search/%EC%86%A1%ED%8C%8C%EA%B5%AC%20%EC%B2%AD%EB%85%84%EA%B0%90%EC%9E%90%ED%83%95%20%EC%86%A1%ED%8C%8C%20%EB%B3%B8%EC%A0%90?c=15.00,0,0,0,dh\n",
      "결과 여러 개 존재(지점 또는 근접 지역)\n",
      "\n",
      "[크롤링 시작...]\n",
      "청년감자탕 송파 본점\n",
      "감자탕\n",
      "서울 송파구 오금로19길 5 1층\n",
      "주문 유형 3\n",
      "청년 감자탕(소(2인))\n",
      "메뉴 설명 없음\n",
      "리뷰 존재\n",
      "음식이 맛있어요\n",
      "양이 많아요\n",
      "가성비가 좋아요\n",
      "친절해요\n",
      "매장이 넓어요\n",
      "['청년감자탕 송파 본점'] ...완료\n",
      "[데이터 수집 완료]\n",
      "소요 시간 : 13.41873550415039 \n",
      "\n",
      "56번째 가게\n"
     ]
    },
    {
     "name": "stderr",
     "output_type": "stream",
     "text": [
      "The chromedriver version (128.0.6613.137) detected in PATH at c:\\Users\\kk21\\Desktop\\TRIPER\\chromedriver.exe might not be compatible with the detected chrome version (129.0.6668.101); currently, chromedriver 129.0.6668.100 is recommended for chrome 129.*, so it is advised to delete the driver in PATH and retry\n"
     ]
    },
    {
     "name": "stdout",
     "output_type": "stream",
     "text": [
      "https://map.naver.com/p/search/%EC%86%A1%ED%8C%8C%EA%B5%AC%20%EC%A0%9C%EC%A3%BC%EB%8F%88%EC%8B%9C%EB%8C%80%20%ED%92%8D%EB%82%A9%EB%B3%B8%EC%A0%90?c=15.00,0,0,0,dh\n",
      "결과 여러 개 존재(지점 또는 근접 지역)\n",
      "\n",
      "[크롤링 시작...]\n",
      "제주돈시대 풍납본점\n",
      "육류,고기요리\n",
      "서울 송파구 풍성로26길 54 1층 제주돈시대 풍납본점\n",
      "주문 유형 3\n",
      "흑돼지 근고기 (600g)\n",
      "통목살+오겹살 (600g)\n",
      "리뷰 존재\n",
      "음식이 맛있어요\n",
      "고기 질이 좋아요\n",
      "친절해요\n",
      "양이 많아요\n",
      "매장이 청결해요\n",
      "['제주돈시대 풍납본점'] ...완료\n",
      "[데이터 수집 완료]\n",
      "소요 시간 : 13.452064752578735 \n",
      "\n",
      "57번째 가게\n"
     ]
    },
    {
     "name": "stderr",
     "output_type": "stream",
     "text": [
      "The chromedriver version (128.0.6613.137) detected in PATH at c:\\Users\\kk21\\Desktop\\TRIPER\\chromedriver.exe might not be compatible with the detected chrome version (129.0.6668.101); currently, chromedriver 129.0.6668.100 is recommended for chrome 129.*, so it is advised to delete the driver in PATH and retry\n"
     ]
    },
    {
     "name": "stdout",
     "output_type": "stream",
     "text": [
      "https://map.naver.com/p/search/%EC%86%A1%ED%8C%8C%EA%B5%AC%20%EC%B9%B4%ED%8E%98%EB%93%9C%EB%A1%9C%EC%9E%89%20%EC%86%A1%ED%8C%8C%EC%A0%90/place/1824352254?c=15.00,0,0,0,dh&isCorrectAnswer=true\n",
      "결과 한 개\n",
      "\n",
      "[크롤링 시작...]\n",
      "카페드로잉 송파점\n",
      "카페\n",
      "서울 송파구 송파대로 111 202동1층 166호 카페드로잉 송파점\n",
      "주문 유형 3\n",
      "드로잉프렌치토스트\n",
      "도톰한두께의 토스트빵을구워 부드럽고 촉촉한 식감, 웨지감자 쟌슨빌소시지,베이컨,샐러드제공\n",
      "리뷰 존재\n",
      "인테리어가 멋져요\n",
      "커피가 맛있어요\n",
      "디저트가 맛있어요\n",
      "대화하기 좋아요\n",
      "음료가 맛있어요\n",
      "['카페드로잉 송파점'] ...완료\n",
      "[데이터 수집 완료]\n",
      "소요 시간 : 13.413493871688843 \n",
      "\n",
      "58번째 가게\n"
     ]
    },
    {
     "name": "stderr",
     "output_type": "stream",
     "text": [
      "The chromedriver version (128.0.6613.137) detected in PATH at c:\\Users\\kk21\\Desktop\\TRIPER\\chromedriver.exe might not be compatible with the detected chrome version (129.0.6668.101); currently, chromedriver 129.0.6668.100 is recommended for chrome 129.*, so it is advised to delete the driver in PATH and retry\n"
     ]
    },
    {
     "name": "stdout",
     "output_type": "stream",
     "text": [
      "https://map.naver.com/p/search/%EC%86%A1%ED%8C%8C%EA%B5%AC%20%EA%B3%A0%EB%8F%84%EC%8B%9D/place/1257495305?c=15.00,0,0,0,dh&isCorrectAnswer=true\n",
      "결과 한 개\n",
      "\n",
      "[크롤링 시작...]\n",
      "고도식\n",
      "육류,고기요리\n",
      "서울 송파구 백제고분로45길 28\n",
      "주문 유형 3\n",
      "고도식 세트메뉴 3-4인\n",
      "고도식 시그니처 알등심과 삼겹살, 그리고 오직 세트메뉴로만 맛볼 수 있는 돈치마살까지!\n",
      "리뷰 존재\n",
      "음식이 맛있어요\n",
      "특별한 메뉴가 있어요\n",
      "친절해요\n",
      "고기 질이 좋아요\n",
      "직접 잘 구워줘요\n",
      "['고도식'] ...완료\n",
      "[데이터 수집 완료]\n",
      "소요 시간 : 13.413522481918335 \n",
      "\n",
      "59번째 가게\n"
     ]
    },
    {
     "name": "stderr",
     "output_type": "stream",
     "text": [
      "The chromedriver version (128.0.6613.137) detected in PATH at c:\\Users\\kk21\\Desktop\\TRIPER\\chromedriver.exe might not be compatible with the detected chrome version (129.0.6668.101); currently, chromedriver 129.0.6668.100 is recommended for chrome 129.*, so it is advised to delete the driver in PATH and retry\n"
     ]
    },
    {
     "name": "stdout",
     "output_type": "stream",
     "text": [
      "https://map.naver.com/p/search/%EC%86%A1%ED%8C%8C%EA%B5%AC%20%EC%9B%90%EC%A1%B0%EB%B6%80%EC%95%88%EC%A7%91%20%EC%9E%A0%EC%8B%A4%EC%83%88%EB%82%B4%EC%A0%90?c=15.00,0,0,0,dh\n",
      "결과 여러 개 존재(지점 또는 근접 지역)\n",
      "\n",
      "[크롤링 시작...]\n",
      "원조부안집 잠실새내점\n",
      "돼지고기구이\n",
      "서울 송파구 백제고분로15길 55 1층\n",
      "주문 유형 3\n",
      "육즙목살\n",
      "육즙이 터질것같은 부드러운 목살\n",
      "리뷰 존재\n",
      "음식이 맛있어요\n",
      "친절해요\n",
      "재료가 신선해요\n",
      "가성비가 좋아요\n",
      "특별한 메뉴가 있어요\n",
      "['원조부안집 잠실새내점'] ...완료\n",
      "[데이터 수집 완료]\n",
      "소요 시간 : 13.441899061203003 \n",
      "\n",
      "60번째 가게\n"
     ]
    },
    {
     "name": "stderr",
     "output_type": "stream",
     "text": [
      "The chromedriver version (128.0.6613.137) detected in PATH at c:\\Users\\kk21\\Desktop\\TRIPER\\chromedriver.exe might not be compatible with the detected chrome version (129.0.6668.101); currently, chromedriver 129.0.6668.100 is recommended for chrome 129.*, so it is advised to delete the driver in PATH and retry\n"
     ]
    },
    {
     "name": "stdout",
     "output_type": "stream",
     "text": [
      "https://map.naver.com/p/search/%EC%86%A1%ED%8C%8C%EA%B5%AC%20%EB%AF%B8%EB%8F%84%EC%9D%B8%20%EC%86%A1%EB%A6%AC%EB%8B%A8%EA%B8%B8?c=15.00,0,0,0,dh\n",
      "결과 여러 개 존재(지점 또는 근접 지역)\n",
      "\n",
      "[크롤링 시작...]\n",
      "미도인 송리단길\n",
      "양식\n",
      "서울 송파구 백제고분로45길 29 2층 201호\n",
      "주문 유형 3\n",
      "가정식 등심 스테이크\n",
      "부드러운 육즙의 숙성 스테이크와 단호박 스프, 아지다마고의 한상차림(사이즈별 가격 다름)\n",
      "리뷰 존재\n",
      "음식이 맛있어요\n",
      "인테리어가 멋져요\n",
      "친절해요\n",
      "매장이 청결해요\n",
      "매장이 넓어요\n",
      "['미도인 송리단길'] ...완료\n",
      "[데이터 수집 완료]\n",
      "소요 시간 : 13.403213024139404 \n",
      "\n",
      "61번째 가게\n"
     ]
    },
    {
     "name": "stderr",
     "output_type": "stream",
     "text": [
      "The chromedriver version (128.0.6613.137) detected in PATH at c:\\Users\\kk21\\Desktop\\TRIPER\\chromedriver.exe might not be compatible with the detected chrome version (129.0.6668.101); currently, chromedriver 129.0.6668.100 is recommended for chrome 129.*, so it is advised to delete the driver in PATH and retry\n"
     ]
    },
    {
     "name": "stdout",
     "output_type": "stream",
     "text": [
      "https://map.naver.com/p/search/%EC%86%A1%ED%8C%8C%EA%B5%AC%20%EC%95%95%EA%B5%AC%EC%A0%95%ED%99%94%EB%A1%9C%EA%B5%AC%EC%9D%B4%20%EC%9E%A0%EC%8B%A4%EB%B3%B8%EC%A0%90?c=15.00,0,0,0,dh\n",
      "결과 여러 개 존재(지점 또는 근접 지역)\n",
      "\n",
      "[크롤링 시작...]\n",
      "압구정화로구이 잠실본점\n",
      "육류,고기요리\n",
      "서울 송파구 올림픽로8길 29 1층\n",
      "주문 유형 3\n",
      "압구정한판\n",
      "메뉴 설명 없음\n",
      "리뷰 존재\n",
      "음식이 맛있어요\n",
      "고기 질이 좋아요\n",
      "친절해요\n",
      "가성비가 좋아요\n",
      "양이 많아요\n",
      "['압구정화로구이 잠실본점'] ...완료\n",
      "[데이터 수집 완료]\n",
      "소요 시간 : 13.43531847000122 \n",
      "\n",
      "62번째 가게\n"
     ]
    },
    {
     "name": "stderr",
     "output_type": "stream",
     "text": [
      "The chromedriver version (128.0.6613.137) detected in PATH at c:\\Users\\kk21\\Desktop\\TRIPER\\chromedriver.exe might not be compatible with the detected chrome version (129.0.6668.101); currently, chromedriver 129.0.6668.100 is recommended for chrome 129.*, so it is advised to delete the driver in PATH and retry\n"
     ]
    },
    {
     "name": "stdout",
     "output_type": "stream",
     "text": [
      "https://map.naver.com/p/search/%EC%86%A1%ED%8C%8C%EA%B5%AC%20%EB%8A%98%ED%91%B8%EB%A5%B8%EB%AA%A9%EC%9E%A5%20%EC%9E%A0%EC%8B%A4%EB%B3%B8%EC%A0%90/place/11679241?c=15.00,0,0,0,dh&isCorrectAnswer=true\n",
      "결과 한 개\n",
      "\n",
      "[크롤링 시작...]\n",
      "늘푸른목장 잠실본점\n",
      "소고기구이\n",
      "서울 송파구 백제고분로9길 34 1F\n",
      "주문 유형 3\n",
      "경주갈비살(100g)\n",
      "메뉴 설명 없음\n",
      "리뷰 존재\n",
      "음식이 맛있어요\n",
      "고기 질이 좋아요\n",
      "친절해요\n",
      "재료가 신선해요\n",
      "특별한 메뉴가 있어요\n",
      "['늘푸른목장 잠실본점'] ...완료\n",
      "[데이터 수집 완료]\n",
      "소요 시간 : 13.403455257415771 \n",
      "\n",
      "63번째 가게\n"
     ]
    },
    {
     "name": "stderr",
     "output_type": "stream",
     "text": [
      "The chromedriver version (128.0.6613.137) detected in PATH at c:\\Users\\kk21\\Desktop\\TRIPER\\chromedriver.exe might not be compatible with the detected chrome version (129.0.6668.101); currently, chromedriver 129.0.6668.100 is recommended for chrome 129.*, so it is advised to delete the driver in PATH and retry\n"
     ]
    },
    {
     "name": "stdout",
     "output_type": "stream",
     "text": [
      "https://map.naver.com/p/search/%EC%86%A1%ED%8C%8C%EA%B5%AC%20%EC%98%A5%EC%86%8C%EB%B0%98%20%EC%9E%A0%EC%8B%A4%EC%83%88%EB%82%B4%EC%A0%90?c=15.00,0,0,0,dh\n",
      "결과 여러 개 존재(지점 또는 근접 지역)\n",
      "\n",
      "[크롤링 시작...]\n",
      "옥소반 잠실새내점\n",
      "샤브샤브\n",
      "서울 송파구 백제고분로9길 10 1층\n",
      "주문 유형 3\n",
      "런치A세트-스키야키(전각)\n",
      "쇠고기(전각80g)샐러드,신선한 야채,생계란,은행,곤약,두부등,볶음밥or야끼우동\n",
      "리뷰 존재\n",
      "음식이 맛있어요\n",
      "재료가 신선해요\n",
      "인테리어가 멋져요\n",
      "양이 많아요\n",
      "친절해요\n",
      "['옥소반 잠실새내점'] ...완료\n",
      "[데이터 수집 완료]\n",
      "소요 시간 : 13.438358545303345 \n",
      "\n",
      "64번째 가게\n"
     ]
    },
    {
     "name": "stderr",
     "output_type": "stream",
     "text": [
      "The chromedriver version (128.0.6613.137) detected in PATH at c:\\Users\\kk21\\Desktop\\TRIPER\\chromedriver.exe might not be compatible with the detected chrome version (129.0.6668.101); currently, chromedriver 129.0.6668.100 is recommended for chrome 129.*, so it is advised to delete the driver in PATH and retry\n"
     ]
    },
    {
     "name": "stdout",
     "output_type": "stream",
     "text": [
      "https://map.naver.com/p/search/%EC%86%A1%ED%8C%8C%EA%B5%AC%20%EB%B3%B8%EA%B0%80%EC%A7%84%EB%AF%B8%EA%B0%84%EC%9E%A5%EA%B2%8C%EC%9E%A5/place/21310734?c=15.00,0,0,0,dh&isCorrectAnswer=true\n",
      "결과 한 개\n",
      "\n",
      "[크롤링 시작...]\n",
      "본가진미간장게장\n",
      "게요리\n",
      "서울 송파구 백제고분로 420 1층\n",
      "주문 유형 3\n",
      "암꽃게 간장모듬장 정식 (1인분)\n",
      "암꽃게 게장1마리(중)+새우장2마리+전복장2마리+연어장 2조각+소라장1마리\n",
      "리뷰 존재\n",
      "음식이 맛있어요\n",
      "재료가 신선해요\n",
      "친절해요\n",
      "양이 많아요\n",
      "매장이 넓어요\n",
      "['본가진미간장게장'] ...완료\n",
      "[데이터 수집 완료]\n",
      "소요 시간 : 13.423446655273438 \n",
      "\n",
      "65번째 가게\n"
     ]
    },
    {
     "name": "stderr",
     "output_type": "stream",
     "text": [
      "The chromedriver version (128.0.6613.137) detected in PATH at c:\\Users\\kk21\\Desktop\\TRIPER\\chromedriver.exe might not be compatible with the detected chrome version (129.0.6668.101); currently, chromedriver 129.0.6668.100 is recommended for chrome 129.*, so it is advised to delete the driver in PATH and retry\n"
     ]
    },
    {
     "name": "stdout",
     "output_type": "stream",
     "text": [
      "https://map.naver.com/p/search/%EC%86%A1%ED%8C%8C%EA%B5%AC%20%EC%84%B8%EC%BB%A8%EB%94%94%ED%8F%AC%EB%A0%88%EC%8A%A4%ED%8A%B8%20%EC%86%A1%EB%A6%AC%EB%8B%A8%EA%B8%B8%EC%A0%90?c=15.00,0,0,0,dh\n",
      "결과 여러 개 존재(지점 또는 근접 지역)\n",
      "\n",
      "[크롤링 시작...]\n",
      "세컨디포레스트 송리단길점\n",
      "스파게티,파스타전문\n",
      "서울 송파구 백제고분로45길 6 1층\n",
      "주문 유형 3\n",
      "오이스터 치킨 쉬림프 리조또\n",
      "매콤한 오이스터 크림에 통새우와 치킨의 넓적다리가 올라간 시그니처 리조또\n",
      "리뷰 존재\n",
      "음식이 맛있어요\n",
      "친절해요\n",
      "양이 많아요\n",
      "특별한 메뉴가 있어요\n",
      "매장이 청결해요\n",
      "['세컨디포레스트 송리단길점'] ...완료\n",
      "[데이터 수집 완료]\n",
      "소요 시간 : 13.396776914596558 \n",
      "\n",
      "66번째 가게\n"
     ]
    },
    {
     "name": "stderr",
     "output_type": "stream",
     "text": [
      "The chromedriver version (128.0.6613.137) detected in PATH at c:\\Users\\kk21\\Desktop\\TRIPER\\chromedriver.exe might not be compatible with the detected chrome version (129.0.6668.101); currently, chromedriver 129.0.6668.100 is recommended for chrome 129.*, so it is advised to delete the driver in PATH and retry\n"
     ]
    },
    {
     "name": "stdout",
     "output_type": "stream",
     "text": [
      "https://map.naver.com/p/search/%EC%86%A1%ED%8C%8C%EA%B5%AC%20%EC%98%A8%EB%9F%89/place/1256370127?c=15.00,0,0,0,dh&isCorrectAnswer=true\n",
      "결과 한 개\n",
      "\n",
      "[크롤링 시작...]\n",
      "온량\n",
      "양식\n",
      "서울 송파구 백제고분로43길 4 1층\n",
      "주문 유형 3\n",
      "토마호크 포크커틀렛\n",
      "등심과 안심이 섞인 부위를 튀겨낸 커틀렛에 뉴욕스테이크 다이엔 소스를 곁들인 시그니처 메뉴\n",
      "리뷰 존재\n",
      "음식이 맛있어요\n",
      "인테리어가 멋져요\n",
      "친절해요\n",
      "양이 많아요\n",
      "특별한 메뉴가 있어요\n",
      "['온량'] ...완료\n",
      "[데이터 수집 완료]\n",
      "소요 시간 : 13.432111978530884 \n",
      "\n",
      "67번째 가게\n"
     ]
    },
    {
     "name": "stderr",
     "output_type": "stream",
     "text": [
      "The chromedriver version (128.0.6613.137) detected in PATH at c:\\Users\\kk21\\Desktop\\TRIPER\\chromedriver.exe might not be compatible with the detected chrome version (129.0.6668.101); currently, chromedriver 129.0.6668.100 is recommended for chrome 129.*, so it is advised to delete the driver in PATH and retry\n"
     ]
    },
    {
     "name": "stdout",
     "output_type": "stream",
     "text": [
      "https://map.naver.com/p/search/%EC%86%A1%ED%8C%8C%EA%B5%AC%20%EA%B0%AF%EB%B2%8C%EC%9D%98%20%EC%A1%B0%EA%B0%9C%20%EC%9E%A0%EC%8B%A4%EC%83%88%EB%82%B4%EC%A0%90/place/1957573849?c=15.00,0,0,0,dh&isCorrectAnswer=true\n",
      "결과 한 개\n",
      "\n",
      "[크롤링 시작...]\n",
      "갯벌의 조개 잠실새내점\n",
      "조개요리\n",
      "서울 송파구 백제고분로7길 57 1층 102호\n",
      "주문 유형 3\n",
      "대표 메뉴 없음\n",
      "메뉴 설명 없음\n",
      "오류 예외 처리\n",
      "68번째 가게\n"
     ]
    },
    {
     "name": "stderr",
     "output_type": "stream",
     "text": [
      "The chromedriver version (128.0.6613.137) detected in PATH at c:\\Users\\kk21\\Desktop\\TRIPER\\chromedriver.exe might not be compatible with the detected chrome version (129.0.6668.101); currently, chromedriver 129.0.6668.100 is recommended for chrome 129.*, so it is advised to delete the driver in PATH and retry\n"
     ]
    },
    {
     "name": "stdout",
     "output_type": "stream",
     "text": [
      "https://map.naver.com/p/search/%EC%86%A1%ED%8C%8C%EA%B5%AC%20%ED%98%B8%EC%84%9D%EC%B4%8C/place/1582944365?isCorrectAnswer=true&c=15.00,0,0,0,dh\n",
      "결과 한 개\n",
      "\n",
      "[크롤링 시작...]\n",
      "호석촌\n",
      "순대,순댓국\n",
      "서울 송파구 백제고분로39길 36\n",
      "주문 유형 3\n",
      "순대국\n",
      "메뉴 설명 없음\n",
      "리뷰 존재\n",
      "음식이 맛있어요\n",
      "양이 많아요\n",
      "친절해요\n",
      "매장이 넓어요\n",
      "고기 질이 좋아요\n",
      "['호석촌'] ...완료\n",
      "[데이터 수집 완료]\n",
      "소요 시간 : 13.410634279251099 \n",
      "\n",
      "69번째 가게\n"
     ]
    },
    {
     "name": "stderr",
     "output_type": "stream",
     "text": [
      "The chromedriver version (128.0.6613.137) detected in PATH at c:\\Users\\kk21\\Desktop\\TRIPER\\chromedriver.exe might not be compatible with the detected chrome version (129.0.6668.101); currently, chromedriver 129.0.6668.100 is recommended for chrome 129.*, so it is advised to delete the driver in PATH and retry\n"
     ]
    },
    {
     "name": "stdout",
     "output_type": "stream",
     "text": [
      "https://map.naver.com/p/search/%EC%86%A1%ED%8C%8C%EA%B5%AC%20%ED%92%8D%EB%85%84%EB%BC%88%EB%8B%A4%EA%B7%80%ED%95%B4%EC%9E%A5%EA%B5%AD/place/20630935?c=15.00,0,0,0,dh&isCorrectAnswer=true\n",
      "결과 한 개\n",
      "\n",
      "[크롤링 시작...]\n",
      "풍년뼈다귀해장국\n",
      "해장국\n",
      "서울 송파구 가락로 94\n",
      "주문 유형 3\n",
      "해장국\n",
      "메뉴 설명 없음\n",
      "리뷰 존재\n",
      "음식이 맛있어요\n",
      "양이 많아요\n",
      "가성비가 좋아요\n",
      "혼밥하기 좋아요\n",
      "친절해요\n",
      "['풍년뼈다귀해장국'] ...완료\n",
      "[데이터 수집 완료]\n",
      "소요 시간 : 13.446558475494385 \n",
      "\n",
      "70번째 가게\n"
     ]
    },
    {
     "name": "stderr",
     "output_type": "stream",
     "text": [
      "The chromedriver version (128.0.6613.137) detected in PATH at c:\\Users\\kk21\\Desktop\\TRIPER\\chromedriver.exe might not be compatible with the detected chrome version (129.0.6668.101); currently, chromedriver 129.0.6668.100 is recommended for chrome 129.*, so it is advised to delete the driver in PATH and retry\n"
     ]
    },
    {
     "name": "stdout",
     "output_type": "stream",
     "text": [
      "https://map.naver.com/p/search/%EC%86%A1%ED%8C%8C%EA%B5%AC%20%EB%B0%94%EC%9D%B4%ED%82%B9%EC%8A%A4%EC%9B%8C%ED%94%84%20%EB%A1%AF%EB%8D%B0%EC%9B%94%EB%93%9C%EB%AA%B0%EC%A0%90?c=15.00,0,0,0,dh\n",
      "결과 여러 개 존재(지점 또는 근접 지역)\n",
      "\n",
      "[크롤링 시작...]\n",
      "바이킹스워프 롯데월드몰점\n",
      "바닷가재요리\n",
      "서울 송파구 올림픽로 300 롯데월드몰 4층\n",
      "주문 유형 3\n",
      "성인(110달러)\n",
      "메뉴 설명 없음\n",
      "리뷰 존재\n",
      "음식이 맛있어요\n",
      "재료가 신선해요\n",
      "특별한 메뉴가 있어요\n",
      "특별한 날 가기 좋아요\n",
      "친절해요\n",
      "['바이킹스워프 롯데월드몰점'] ...완료\n",
      "[데이터 수집 완료]\n",
      "소요 시간 : 13.41517162322998 \n",
      "\n",
      "71번째 가게\n"
     ]
    },
    {
     "name": "stderr",
     "output_type": "stream",
     "text": [
      "The chromedriver version (128.0.6613.137) detected in PATH at c:\\Users\\kk21\\Desktop\\TRIPER\\chromedriver.exe might not be compatible with the detected chrome version (129.0.6668.101); currently, chromedriver 129.0.6668.100 is recommended for chrome 129.*, so it is advised to delete the driver in PATH and retry\n"
     ]
    },
    {
     "name": "stdout",
     "output_type": "stream",
     "text": [
      "https://map.naver.com/p/search/%EC%86%A1%ED%8C%8C%EA%B5%AC%20%EB%8B%B4%EC%86%A5%20%EC%86%A1%EB%A6%AC%EB%8B%A8%EA%B8%B8%EC%A0%90?c=15.00,0,0,0,dh\n",
      "결과 여러 개 존재(지점 또는 근접 지역)\n",
      "가게 없음\n",
      "72번째 가게\n"
     ]
    },
    {
     "name": "stderr",
     "output_type": "stream",
     "text": [
      "The chromedriver version (128.0.6613.137) detected in PATH at c:\\Users\\kk21\\Desktop\\TRIPER\\chromedriver.exe might not be compatible with the detected chrome version (129.0.6668.101); currently, chromedriver 129.0.6668.100 is recommended for chrome 129.*, so it is advised to delete the driver in PATH and retry\n"
     ]
    },
    {
     "name": "stdout",
     "output_type": "stream",
     "text": [
      "https://map.naver.com/p/search/%EC%86%A1%ED%8C%8C%EA%B5%AC%20%EC%A7%84%EC%A0%80%EB%B2%A0%EC%96%B4/place/1616346596?c=15.00,0,0,0,dh&isCorrectAnswer=true\n",
      "결과 한 개\n",
      "\n",
      "[크롤링 시작...]\n",
      "진저베어\n",
      "카페,디저트\n",
      "서울 송파구 백제고분로41길 43-7 1층\n",
      "주문 유형 3\n",
      "밤크림 밀크티\n",
      "부드러운 밀크티와 묵직한 밤크림의 조합 파이\n",
      "리뷰 존재\n",
      "디저트가 맛있어요\n",
      "특별한 메뉴가 있어요\n",
      "인테리어가 멋져요\n",
      "커피가 맛있어요\n",
      "음료가 맛있어요\n",
      "['진저베어'] ...완료\n",
      "[데이터 수집 완료]\n",
      "소요 시간 : 13.40327262878418 \n",
      "\n",
      "73번째 가게\n"
     ]
    },
    {
     "name": "stderr",
     "output_type": "stream",
     "text": [
      "The chromedriver version (128.0.6613.137) detected in PATH at c:\\Users\\kk21\\Desktop\\TRIPER\\chromedriver.exe might not be compatible with the detected chrome version (129.0.6668.101); currently, chromedriver 129.0.6668.100 is recommended for chrome 129.*, so it is advised to delete the driver in PATH and retry\n"
     ]
    },
    {
     "name": "stdout",
     "output_type": "stream",
     "text": [
      "https://map.naver.com/p/search/%EC%86%A1%ED%8C%8C%EA%B5%AC%20%EC%B9%B4%ED%8E%982.7/place/1111096673?c=15.00,0,0,0,dh&isCorrectAnswer=true\n",
      "결과 한 개\n",
      "\n",
      "[크롤링 시작...]\n",
      "카페2.7\n",
      "카페,디저트\n",
      "서울 송파구 백제고분로36가길 15 201-1호\n",
      "주문 유형 3\n",
      "[ICE] 아메리카노\n",
      "메뉴 설명 없음\n",
      "리뷰 존재\n",
      "커피가 맛있어요\n",
      "인테리어가 멋져요\n",
      "디저트가 맛있어요\n",
      "사진이 잘 나와요\n",
      "음료가 맛있어요\n",
      "['카페2.7'] ...완료\n",
      "[데이터 수집 완료]\n",
      "소요 시간 : 13.427921295166016 \n",
      "\n",
      "./out_food_review/out_23_food.csv완료\n",
      "0번째 가게\n"
     ]
    },
    {
     "name": "stderr",
     "output_type": "stream",
     "text": [
      "The chromedriver version (128.0.6613.137) detected in PATH at c:\\Users\\kk21\\Desktop\\TRIPER\\chromedriver.exe might not be compatible with the detected chrome version (129.0.6668.101); currently, chromedriver 129.0.6668.100 is recommended for chrome 129.*, so it is advised to delete the driver in PATH and retry\n"
     ]
    },
    {
     "name": "stdout",
     "output_type": "stream",
     "text": [
      "https://map.naver.com/p/search/%EA%B0%95%EB%8F%99%EA%B5%AC%20%EC%99%84%EB%AF%B8%EC%A1%B1%EB%B0%9C%20%EC%84%9C%EC%9A%B8%EC%95%94%EC%82%AC%EC%A0%90?c=15.00,0,0,0,dh\n",
      "결과 여러 개 존재(지점 또는 근접 지역)\n",
      "\n",
      "[크롤링 시작...]\n",
      "완미족발 서울암사점\n",
      "족발,보쌈\n",
      "서울 강동구 상암로 12 102호\n",
      "주문 유형 3\n",
      "상다리 부러지는 한상 족발\n",
      "족발의 오마카세를 경험해보신 적 있나요? 18가지 곁들임과 함께 즐기는 남도식 한상족발\n",
      "리뷰 존재\n",
      "음식이 맛있어요\n",
      "친절해요\n",
      "양이 많아요\n",
      "가성비가 좋아요\n",
      "매장이 청결해요\n",
      "['완미족발 서울암사점'] ...완료\n",
      "[데이터 수집 완료]\n",
      "소요 시간 : 13.413385391235352 \n",
      "\n",
      "1번째 가게\n"
     ]
    },
    {
     "name": "stderr",
     "output_type": "stream",
     "text": [
      "The chromedriver version (128.0.6613.137) detected in PATH at c:\\Users\\kk21\\Desktop\\TRIPER\\chromedriver.exe might not be compatible with the detected chrome version (129.0.6668.101); currently, chromedriver 129.0.6668.100 is recommended for chrome 129.*, so it is advised to delete the driver in PATH and retry\n"
     ]
    },
    {
     "name": "stdout",
     "output_type": "stream",
     "text": [
      "https://map.naver.com/p/search/%EA%B0%95%EB%8F%99%EA%B5%AC%20%EC%B1%84%EC%8A%A4%EC%9A%B0%EB%93%9C%EC%BB%A4%ED%94%BC?c=15.00,0,0,0,dh\n",
      "결과 여러 개 존재(지점 또는 근접 지역)\n",
      "\n",
      "[크롤링 시작...]\n",
      "채스우드커피\n",
      "카페,디저트\n",
      "서울 강동구 성안로 42 1층\n",
      "주문 유형 3\n",
      "비엔나커피\n",
      "부드럽고 달콤한 크림과 롱블랙의 조화\n",
      "리뷰 존재\n",
      "커피가 맛있어요\n",
      "친절해요\n",
      "디저트가 맛있어요\n",
      "인테리어가 멋져요\n",
      "음료가 맛있어요\n",
      "['채스우드커피'] ...완료\n",
      "[데이터 수집 완료]\n",
      "소요 시간 : 13.418976783752441 \n",
      "\n",
      "2번째 가게\n"
     ]
    },
    {
     "name": "stderr",
     "output_type": "stream",
     "text": [
      "The chromedriver version (128.0.6613.137) detected in PATH at c:\\Users\\kk21\\Desktop\\TRIPER\\chromedriver.exe might not be compatible with the detected chrome version (129.0.6668.101); currently, chromedriver 129.0.6668.100 is recommended for chrome 129.*, so it is advised to delete the driver in PATH and retry\n"
     ]
    },
    {
     "name": "stdout",
     "output_type": "stream",
     "text": [
      "https://map.naver.com/p/search/%EA%B0%95%EB%8F%99%EA%B5%AC%20%EC%88%98%EC%A7%80%EC%83%81%ED%9A%8C%20%EC%B2%9C%ED%98%B8%EC%A0%90/place/1779683593?c=15.00,0,0,0,dh&isCorrectAnswer=true\n",
      "결과 한 개\n",
      "\n",
      "[크롤링 시작...]\n",
      "수지상회 천호점\n",
      "요리주점\n",
      "서울 강동구 천호대로157길 22 2층\n",
      "주문 유형 3\n",
      "소주,맥주\n",
      "우리는 소주,맥주5000원 다른 저렴한것들도 많아요\n",
      "리뷰 존재\n",
      "음식이 맛있어요\n",
      "친절해요\n",
      "인테리어가 멋져요\n",
      "술이 다양해요\n",
      "음악이 좋아요\n",
      "['수지상회 천호점'] ...완료\n",
      "[데이터 수집 완료]\n",
      "소요 시간 : 13.462625980377197 \n",
      "\n",
      "3번째 가게\n"
     ]
    },
    {
     "name": "stderr",
     "output_type": "stream",
     "text": [
      "The chromedriver version (128.0.6613.137) detected in PATH at c:\\Users\\kk21\\Desktop\\TRIPER\\chromedriver.exe might not be compatible with the detected chrome version (129.0.6668.101); currently, chromedriver 129.0.6668.100 is recommended for chrome 129.*, so it is advised to delete the driver in PATH and retry\n"
     ]
    },
    {
     "name": "stdout",
     "output_type": "stream",
     "text": [
      "https://map.naver.com/p/search/%EA%B0%95%EB%8F%99%EA%B5%AC%20%EB%8F%84%EB%A6%AC%EC%83%81%ED%9A%8C%20%EC%B2%9C%ED%98%B8%EB%B3%B8%EC%A0%90/place/1774443923?c=15.00,0,0,0,dh&isCorrectAnswer=true\n",
      "결과 한 개\n",
      "\n",
      "[크롤링 시작...]\n",
      "도리상회 천호본점\n",
      "요리주점\n",
      "서울 강동구 천호대로159길 49 1층 도리상회 천호본점\n",
      "주문 유형 3\n",
      "묵은지 곱도리탕 中\n",
      "메뉴 설명 없음\n",
      "리뷰 존재\n",
      "음식이 맛있어요\n",
      "친절해요\n",
      "인테리어가 멋져요\n",
      "매장이 청결해요\n",
      "특별한 메뉴가 있어요\n",
      "['도리상회 천호본점'] ...완료\n",
      "[데이터 수집 완료]\n",
      "소요 시간 : 13.4130539894104 \n",
      "\n",
      "4번째 가게\n"
     ]
    },
    {
     "name": "stderr",
     "output_type": "stream",
     "text": [
      "The chromedriver version (128.0.6613.137) detected in PATH at c:\\Users\\kk21\\Desktop\\TRIPER\\chromedriver.exe might not be compatible with the detected chrome version (129.0.6668.101); currently, chromedriver 129.0.6668.100 is recommended for chrome 129.*, so it is advised to delete the driver in PATH and retry\n"
     ]
    },
    {
     "name": "stdout",
     "output_type": "stream",
     "text": [
      "https://map.naver.com/p/search/%EA%B0%95%EB%8F%99%EA%B5%AC%20%EC%82%AC%EC%8B%9C%EB%AF%B8%20%EC%B2%9C%ED%98%B8%EC%A0%90?c=15.00,0,0,0,dh\n",
      "결과 여러 개 존재(지점 또는 근접 지역)\n",
      "\n",
      "[크롤링 시작...]\n",
      "사시미 천호점\n",
      "생선회\n",
      "서울 강동구 천호대로155길 22\n",
      "주문 유형 3\n",
      "혼술 세트(혼술세트)\n",
      "광어회+연어회+치킨가라아게+멍게+새우튀김+타코와사비+회무침\n",
      "리뷰 존재\n",
      "음식이 맛있어요\n",
      "재료가 신선해요\n",
      "친절해요\n",
      "가성비가 좋아요\n",
      "특별한 메뉴가 있어요\n",
      "['사시미 천호점'] ...완료\n",
      "[데이터 수집 완료]\n",
      "소요 시간 : 13.447953701019287 \n",
      "\n",
      "5번째 가게\n"
     ]
    },
    {
     "name": "stderr",
     "output_type": "stream",
     "text": [
      "The chromedriver version (128.0.6613.137) detected in PATH at c:\\Users\\kk21\\Desktop\\TRIPER\\chromedriver.exe might not be compatible with the detected chrome version (129.0.6668.101); currently, chromedriver 129.0.6668.100 is recommended for chrome 129.*, so it is advised to delete the driver in PATH and retry\n"
     ]
    },
    {
     "name": "stdout",
     "output_type": "stream",
     "text": [
      "https://map.naver.com/p/search/%EA%B0%95%EB%8F%99%EA%B5%AC%20%EB%8F%BC%EB%B4%89%EC%82%BC%EA%B2%B9%EC%82%B4%20%EC%B2%9C%ED%98%B8%EC%A0%90/place/1193339768?c=15.00,0,0,0,dh&isCorrectAnswer=true\n",
      "결과 한 개\n",
      "\n",
      "[크롤링 시작...]\n",
      "돼봉삼겹살 천호점\n",
      "돼지고기구이\n",
      "서울 강동구 천호대로157길 52 1층 돼봉삼겹살\n",
      "주문 유형 3\n",
      "돼봉 모둠한판(중)\n",
      "2~3인\n",
      "리뷰 존재\n",
      "음식이 맛있어요\n",
      "양이 많아요\n",
      "매장이 넓어요\n",
      "친절해요\n",
      "고기 질이 좋아요\n",
      "['돼봉삼겹살 천호점'] ...완료\n",
      "[데이터 수집 완료]\n",
      "소요 시간 : 13.42404556274414 \n",
      "\n",
      "6번째 가게\n"
     ]
    },
    {
     "name": "stderr",
     "output_type": "stream",
     "text": [
      "The chromedriver version (128.0.6613.137) detected in PATH at c:\\Users\\kk21\\Desktop\\TRIPER\\chromedriver.exe might not be compatible with the detected chrome version (129.0.6668.101); currently, chromedriver 129.0.6668.100 is recommended for chrome 129.*, so it is advised to delete the driver in PATH and retry\n"
     ]
    },
    {
     "name": "stdout",
     "output_type": "stream",
     "text": [
      "https://map.naver.com/p/search/%EA%B0%95%EB%8F%99%EA%B5%AC%20%EC%83%9D%EC%96%B4%EA%B1%B0%EC%8A%A4%ED%8B%B4%20%EC%84%B1%EB%82%B4%EC%A0%90/place/34699330?c=15.00,0,0,0,dh&isCorrectAnswer=true\n",
      "결과 한 개\n",
      "\n",
      "[크롤링 시작...]\n",
      "생어거스틴 성내점\n",
      "아시아음식\n",
      "서울 강동구 강동대로 143-64 스퀘어100 , 1층\n",
      "주문 유형 3\n",
      "남만호이\n",
      "메뉴 설명 없음\n",
      "리뷰 존재\n",
      "음식이 맛있어요\n",
      "친절해요\n",
      "양이 많아요\n",
      "재료가 신선해요\n",
      "매장이 넓어요\n",
      "['생어거스틴 성내점'] ...완료\n",
      "[데이터 수집 완료]\n",
      "소요 시간 : 13.4304780960083 \n",
      "\n",
      "7번째 가게\n"
     ]
    },
    {
     "name": "stderr",
     "output_type": "stream",
     "text": [
      "The chromedriver version (128.0.6613.137) detected in PATH at c:\\Users\\kk21\\Desktop\\TRIPER\\chromedriver.exe might not be compatible with the detected chrome version (129.0.6668.101); currently, chromedriver 129.0.6668.100 is recommended for chrome 129.*, so it is advised to delete the driver in PATH and retry\n"
     ]
    },
    {
     "name": "stdout",
     "output_type": "stream",
     "text": [
      "https://map.naver.com/p/search/%EA%B0%95%EB%8F%99%EA%B5%AC%20%EC%88%98%EC%9E%91%EB%82%98%EB%B2%A0%20%EC%98%AC%EB%A6%BC%ED%94%BD%EA%B3%B5%EC%9B%90%EC%A0%90/place/1996028503?c=15.00,0,0,0,dh&isCorrectAnswer=true\n",
      "결과 한 개\n",
      "\n",
      "[크롤링 시작...]\n",
      "수작나베 올림픽공원점\n",
      "아시아음식\n",
      "서울 강동구 성안로 10\n",
      "주문 유형 3\n",
      "[비조리] 밀푀유나베(中(2인))\n",
      "우동1+죽1\n",
      "리뷰 존재\n",
      "음식이 맛있어요\n",
      "재료가 신선해요\n",
      "건강한 맛이에요\n",
      "매장이 넓어요\n",
      "친절해요\n",
      "['수작나베 올림픽공원점'] ...완료\n",
      "[데이터 수집 완료]\n",
      "소요 시간 : 13.412893056869507 \n",
      "\n",
      "8번째 가게\n"
     ]
    },
    {
     "name": "stderr",
     "output_type": "stream",
     "text": [
      "The chromedriver version (128.0.6613.137) detected in PATH at c:\\Users\\kk21\\Desktop\\TRIPER\\chromedriver.exe might not be compatible with the detected chrome version (129.0.6668.101); currently, chromedriver 129.0.6668.100 is recommended for chrome 129.*, so it is advised to delete the driver in PATH and retry\n"
     ]
    },
    {
     "name": "stdout",
     "output_type": "stream",
     "text": [
      "https://map.naver.com/p/search/%EA%B0%95%EB%8F%99%EA%B5%AC%20%EB%A1%9C%EB%8B%88%EB%A1%9C%ED%8B%B0%20%EC%B2%9C%ED%98%B8%EC%A0%90?c=15.00,0,0,0,dh\n",
      "결과 여러 개 존재(지점 또는 근접 지역)\n",
      "\n",
      "[크롤링 시작...]\n",
      "로니로티 천호점\n",
      "이탈리아음식\n",
      "서울 강동구 천호대로 1027 동원천호빌딩 2층\n",
      "주문 유형 3\n",
      "목살스테이크 샐러드(하프)\n",
      "두툼한 국내산 목살 스테이크와 각종 샐러드\n",
      "리뷰 존재\n",
      "음식이 맛있어요\n",
      "양이 많아요\n",
      "가성비가 좋아요\n",
      "매장이 넓어요\n",
      "친절해요\n",
      "['로니로티 천호점'] ...완료\n",
      "[데이터 수집 완료]\n",
      "소요 시간 : 13.461073398590088 \n",
      "\n",
      "9번째 가게\n"
     ]
    },
    {
     "name": "stderr",
     "output_type": "stream",
     "text": [
      "The chromedriver version (128.0.6613.137) detected in PATH at c:\\Users\\kk21\\Desktop\\TRIPER\\chromedriver.exe might not be compatible with the detected chrome version (129.0.6668.101); currently, chromedriver 129.0.6668.100 is recommended for chrome 129.*, so it is advised to delete the driver in PATH and retry\n"
     ]
    },
    {
     "name": "stdout",
     "output_type": "stream",
     "text": [
      "https://map.naver.com/p/search/%EA%B0%95%EB%8F%99%EA%B5%AC%20%EC%BF%A0%EC%9A%B0%EC%BF%A0%EC%9A%B0%20%EA%B3%A8%EB%93%9C%20%EA%B0%95%EB%8F%99%EC%A0%90/place/1092570025?c=15.00,0,0,0,dh&isCorrectAnswer=true\n",
      "결과 한 개\n",
      "\n",
      "[크롤링 시작...]\n",
      "쿠우쿠우 골드 강동점\n",
      "일식,초밥뷔페\n",
      "서울 강동구 양재대로 1571 홈플러스 지하 1층\n",
      "주문 유형 3\n",
      "평일런치(오후5시 이전)\n",
      "런치 이용요금은 퇴장 시간 기준입니다.\n",
      "리뷰 존재\n",
      "음식이 맛있어요\n",
      "메뉴 구성이 알차요\n",
      "매장이 넓어요\n",
      "재료가 신선해요\n",
      "특별한 메뉴가 있어요\n",
      "['쿠우쿠우 골드 강동점'] ...완료\n",
      "[데이터 수집 완료]\n",
      "소요 시간 : 13.43235468864441 \n",
      "\n",
      "10번째 가게\n"
     ]
    },
    {
     "name": "stderr",
     "output_type": "stream",
     "text": [
      "The chromedriver version (128.0.6613.137) detected in PATH at c:\\Users\\kk21\\Desktop\\TRIPER\\chromedriver.exe might not be compatible with the detected chrome version (129.0.6668.101); currently, chromedriver 129.0.6668.100 is recommended for chrome 129.*, so it is advised to delete the driver in PATH and retry\n"
     ]
    },
    {
     "name": "stdout",
     "output_type": "stream",
     "text": [
      "https://map.naver.com/p/search/%EA%B0%95%EB%8F%99%EA%B5%AC%20%EB%93%B1%EA%B0%88%EB%B9%84%EB%8B%AC%EC%9D%B8%20%EB%B3%B8%EC%A0%90/place/34818249?c=15.00,0,0,0,dh&isCorrectAnswer=true\n",
      "결과 한 개\n",
      "\n",
      "[크롤링 시작...]\n",
      "등갈비달인 본점\n",
      "육류,고기요리\n",
      "서울 강동구 천호대로158길 25 1층\n",
      "주문 유형 3\n",
      "매운김치등갈비 작은넘\n",
      "(약2인분) 매운 등갈비찜이 김치와 콩나물. 당면과 함께 돌판 위에서 환상적으로 조화를 이루어낸 매력적인 달인의 등갈비.\n",
      "리뷰 존재\n",
      "음식이 맛있어요\n",
      "친절해요\n",
      "고기 질이 좋아요\n",
      "양이 많아요\n",
      "특별한 메뉴가 있어요\n",
      "['등갈비달인 본점'] ...완료\n",
      "[데이터 수집 완료]\n",
      "소요 시간 : 13.462584257125854 \n",
      "\n",
      "11번째 가게\n"
     ]
    },
    {
     "name": "stderr",
     "output_type": "stream",
     "text": [
      "The chromedriver version (128.0.6613.137) detected in PATH at c:\\Users\\kk21\\Desktop\\TRIPER\\chromedriver.exe might not be compatible with the detected chrome version (129.0.6668.101); currently, chromedriver 129.0.6668.100 is recommended for chrome 129.*, so it is advised to delete the driver in PATH and retry\n"
     ]
    },
    {
     "name": "stdout",
     "output_type": "stream",
     "text": [
      "https://map.naver.com/p/search/%EA%B0%95%EB%8F%99%EA%B5%AC%20%ED%95%A8%EA%B2%BD%EB%A9%B4%EC%98%A5%20%EB%B3%B8%EC%A0%90?c=15.00,0,0,0,dh\n",
      "결과 여러 개 존재(지점 또는 근접 지역)\n",
      "\n",
      "[크롤링 시작...]\n",
      "함경면옥 본점\n",
      "냉면\n",
      "서울 강동구 강동대로 215 삼안빌딩\n",
      "주문 유형 3\n",
      "갈비찜(小)\n",
      "갈비찜(小) + 냉면 2 = 75,000\n",
      "리뷰 존재\n",
      "음식이 맛있어요\n",
      "매장이 넓어요\n",
      "친절해요\n",
      "재료가 신선해요\n",
      "주차하기 편해요\n",
      "['함경면옥 본점'] ...완료\n",
      "[데이터 수집 완료]\n",
      "소요 시간 : 13.419678926467896 \n",
      "\n",
      "12번째 가게\n"
     ]
    },
    {
     "name": "stderr",
     "output_type": "stream",
     "text": [
      "The chromedriver version (128.0.6613.137) detected in PATH at c:\\Users\\kk21\\Desktop\\TRIPER\\chromedriver.exe might not be compatible with the detected chrome version (129.0.6668.101); currently, chromedriver 129.0.6668.100 is recommended for chrome 129.*, so it is advised to delete the driver in PATH and retry\n"
     ]
    },
    {
     "name": "stdout",
     "output_type": "stream",
     "text": [
      "https://map.naver.com/p/search/%EA%B0%95%EB%8F%99%EA%B5%AC%20%EA%B0%95%EA%B2%BD%EB%B6%88%EA%B3%A0%EA%B8%B0%20%EA%B0%95%EB%8F%99%EA%B5%AC%EC%B2%AD%EC%A0%90?c=15.00,0,0,0,dh\n",
      "결과 여러 개 존재(지점 또는 근접 지역)\n",
      "\n",
      "[크롤링 시작...]\n",
      "강경불고기 강동구청점\n",
      "육류,고기요리\n",
      "서울 강동구 성안로 7-13 1층\n",
      "주문 유형 3\n",
      "가족행사,단체모임 예약가능\n",
      "가족행사,단체모임 예약 가능합니다. ☎ 02-470-8486\n",
      "리뷰 존재\n",
      "음식이 맛있어요\n",
      "매장이 넓어요\n",
      "고기 질이 좋아요\n",
      "친절해요\n",
      "양이 많아요\n",
      "['강경불고기 강동구청점'] ...완료\n",
      "[데이터 수집 완료]\n",
      "소요 시간 : 13.451721429824829 \n",
      "\n",
      "13번째 가게\n"
     ]
    },
    {
     "name": "stderr",
     "output_type": "stream",
     "text": [
      "The chromedriver version (128.0.6613.137) detected in PATH at c:\\Users\\kk21\\Desktop\\TRIPER\\chromedriver.exe might not be compatible with the detected chrome version (129.0.6668.101); currently, chromedriver 129.0.6668.100 is recommended for chrome 129.*, so it is advised to delete the driver in PATH and retry\n"
     ]
    },
    {
     "name": "stdout",
     "output_type": "stream",
     "text": [
      "https://map.naver.com/p/search/%EA%B0%95%EB%8F%99%EA%B5%AC%20%EC%9D%B4%ED%83%9C%EB%A6%AC%ED%81%B4%EB%9D%BC%EC%8A%A4%20%EC%B2%9C%ED%98%B8%EB%B3%B8%EC%A0%90/place/1411629759?c=15.00,0,0,0,dh&isCorrectAnswer=true\n",
      "결과 한 개\n",
      "\n",
      "[크롤링 시작...]\n",
      "이태리클라스 천호본점\n",
      "퓨전음식\n",
      "서울 강동구 올림픽로70길 51 2층\n",
      "주문 유형 3\n",
      "랍스타 바질올리오\n",
      "랍스타꼬리가 통으로 올라간 맵콤바질오일 파스타, 비주얼, 맛, 착한가격, 안먹는게 손해\n",
      "리뷰 존재\n",
      "음식이 맛있어요\n",
      "인테리어가 멋져요\n",
      "특별한 메뉴가 있어요\n",
      "가성비가 좋아요\n",
      "친절해요\n",
      "['이태리클라스 천호본점'] ...완료\n",
      "[데이터 수집 완료]\n",
      "소요 시간 : 13.443942546844482 \n",
      "\n",
      "14번째 가게\n"
     ]
    },
    {
     "name": "stderr",
     "output_type": "stream",
     "text": [
      "The chromedriver version (128.0.6613.137) detected in PATH at c:\\Users\\kk21\\Desktop\\TRIPER\\chromedriver.exe might not be compatible with the detected chrome version (129.0.6668.101); currently, chromedriver 129.0.6668.100 is recommended for chrome 129.*, so it is advised to delete the driver in PATH and retry\n"
     ]
    },
    {
     "name": "stdout",
     "output_type": "stream",
     "text": [
      "https://map.naver.com/p/search/%EA%B0%95%EB%8F%99%EA%B5%AC%20%EB%AF%B8%ED%85%8C%EC%9D%B4%EB%B8%94%20%EC%98%AC%EB%A6%BC%ED%94%BD%EA%B3%B5%EC%9B%90%EC%A7%81%EC%98%81%EC%A0%90/place/1329440504?isCorrectAnswer=true&c=15.00,0,0,0,dh\n",
      "결과 한 개\n",
      "\n",
      "[크롤링 시작...]\n",
      "미테이블 올림픽공원직영점\n",
      "양식\n",
      "서울 강동구 성안로 24 1층 102호\n",
      "주문 유형 3\n",
      "랍스타 바질올리오\n",
      "먹는게 이득인 먹기좋게 손질해 구운 랍스터테일을 통으로 올려 매콤하게 조리한 바질오일파스타\n",
      "리뷰 존재\n",
      "음식이 맛있어요\n",
      "재료가 신선해요\n",
      "친절해요\n",
      "메뉴 구성이 알차요\n",
      "가성비가 좋아요\n",
      "['미테이블 올림픽공원직영점'] ...완료\n",
      "[데이터 수집 완료]\n",
      "소요 시간 : 13.40612244606018 \n",
      "\n",
      "15번째 가게\n"
     ]
    },
    {
     "name": "stderr",
     "output_type": "stream",
     "text": [
      "The chromedriver version (128.0.6613.137) detected in PATH at c:\\Users\\kk21\\Desktop\\TRIPER\\chromedriver.exe might not be compatible with the detected chrome version (129.0.6668.101); currently, chromedriver 129.0.6668.100 is recommended for chrome 129.*, so it is advised to delete the driver in PATH and retry\n"
     ]
    },
    {
     "name": "stdout",
     "output_type": "stream",
     "text": [
      "https://map.naver.com/p/search/%EA%B0%95%EB%8F%99%EA%B5%AC%20%ED%95%B5%EB%B0%A5%20%EC%B2%9C%ED%98%B8%EC%A0%90?c=15.00,0,0,0,dh\n",
      "결과 여러 개 존재(지점 또는 근접 지역)\n",
      "\n",
      "[크롤링 시작...]\n",
      "핵밥 천호점\n",
      "덮밥\n",
      "서울 강동구 올림픽로 660\n",
      "주문 유형 3\n",
      "★리뉴얼 카라이라멘\n",
      "메뉴 설명 없음\n",
      "리뷰 존재\n",
      "음식이 맛있어요\n",
      "혼밥하기 좋아요\n",
      "매장이 청결해요\n",
      "재료가 신선해요\n",
      "매장이 넓어요\n",
      "['핵밥 천호점'] ...완료\n",
      "[데이터 수집 완료]\n",
      "소요 시간 : 13.393718957901001 \n",
      "\n",
      "16번째 가게\n"
     ]
    },
    {
     "name": "stderr",
     "output_type": "stream",
     "text": [
      "The chromedriver version (128.0.6613.137) detected in PATH at c:\\Users\\kk21\\Desktop\\TRIPER\\chromedriver.exe might not be compatible with the detected chrome version (129.0.6668.101); currently, chromedriver 129.0.6668.100 is recommended for chrome 129.*, so it is advised to delete the driver in PATH and retry\n"
     ]
    },
    {
     "name": "stdout",
     "output_type": "stream",
     "text": [
      "https://map.naver.com/p/search/%EA%B0%95%EB%8F%99%EA%B5%AC%20%EC%9A%B0%EB%8C%80%ED%8F%AC%20%EA%B3%A0%EB%8D%95%EC%97%AD%EC%A0%90/place/1753136835?c=15.00,0,0,0,dh&isCorrectAnswer=true\n",
      "결과 한 개\n",
      "\n",
      "[크롤링 시작...]\n",
      "우대포 고덕역점\n",
      "육류,고기요리\n",
      "서울 강동구 동남로73길 26 1층 3호\n",
      "주문 유형 3\n",
      "양념소갈비살\n",
      "170g 신선한 생갈비살로 주문 즉시 버무리는 즉석 양념구이.우대포 대표메뉴\n",
      "리뷰 존재\n",
      "음식이 맛있어요\n",
      "고기 질이 좋아요\n",
      "친절해요\n",
      "매장이 청결해요\n",
      "특별한 메뉴가 있어요\n",
      "['우대포 고덕역점'] ...완료\n",
      "[데이터 수집 완료]\n",
      "소요 시간 : 13.457369565963745 \n",
      "\n",
      "17번째 가게\n"
     ]
    },
    {
     "name": "stderr",
     "output_type": "stream",
     "text": [
      "The chromedriver version (128.0.6613.137) detected in PATH at c:\\Users\\kk21\\Desktop\\TRIPER\\chromedriver.exe might not be compatible with the detected chrome version (129.0.6668.101); currently, chromedriver 129.0.6668.100 is recommended for chrome 129.*, so it is advised to delete the driver in PATH and retry\n"
     ]
    },
    {
     "name": "stdout",
     "output_type": "stream",
     "text": [
      "https://map.naver.com/p/search/%EA%B0%95%EB%8F%99%EA%B5%AC%20%EC%83%81%EB%AC%B4%EC%B4%88%EB%B0%A5%20%EA%B8%B8%EB%8F%99%EC%A0%90?c=15.00,0,0,0,dh\n",
      "결과 여러 개 존재(지점 또는 근접 지역)\n",
      "\n",
      "[크롤링 시작...]\n",
      "상무초밥 길동점\n",
      "초밥,롤\n",
      "서울 강동구 천호대로 1139 강동그린타워 1층\n",
      "주문 유형 3\n",
      "대표 메뉴 없음\n",
      "메뉴 설명 없음\n",
      "오류 예외 처리\n",
      "18번째 가게\n"
     ]
    },
    {
     "name": "stderr",
     "output_type": "stream",
     "text": [
      "The chromedriver version (128.0.6613.137) detected in PATH at c:\\Users\\kk21\\Desktop\\TRIPER\\chromedriver.exe might not be compatible with the detected chrome version (129.0.6668.101); currently, chromedriver 129.0.6668.100 is recommended for chrome 129.*, so it is advised to delete the driver in PATH and retry\n"
     ]
    },
    {
     "name": "stdout",
     "output_type": "stream",
     "text": [
      "https://map.naver.com/p/search/%EA%B0%95%EB%8F%99%EA%B5%AC%20%EC%97%B0%ED%92%8D%EB%AF%BC%EB%9D%BD/place/1971408303?c=15.00,0,0,0,dh&isCorrectAnswer=true\n",
      "결과 한 개\n",
      "\n",
      "[크롤링 시작...]\n",
      "연풍민락\n",
      "이자카야\n",
      "서울 강동구 천호대로157길 18 2층 연풍민락\n",
      "주문 유형 3\n",
      "7시전방문생맥,쏘맥,연맥1+1이벤트\n",
      "7시전방문시 생맥,쏘맥,연맥 1+1!!! 추가주문시에도 7시전이면 1+1계속!!\n",
      "리뷰 존재\n",
      "음식이 맛있어요\n",
      "술이 다양해요\n",
      "특별한 메뉴가 있어요\n",
      "대화하기 좋아요\n",
      "친절해요\n",
      "['연풍민락'] ...완료\n",
      "[데이터 수집 완료]\n",
      "소요 시간 : 13.493484020233154 \n",
      "\n",
      "19번째 가게\n"
     ]
    },
    {
     "name": "stderr",
     "output_type": "stream",
     "text": [
      "The chromedriver version (128.0.6613.137) detected in PATH at c:\\Users\\kk21\\Desktop\\TRIPER\\chromedriver.exe might not be compatible with the detected chrome version (129.0.6668.101); currently, chromedriver 129.0.6668.100 is recommended for chrome 129.*, so it is advised to delete the driver in PATH and retry\n"
     ]
    },
    {
     "name": "stdout",
     "output_type": "stream",
     "text": [
      "https://map.naver.com/p/search/%EA%B0%95%EB%8F%99%EA%B5%AC%20%EC%95%95%EA%B5%AC%EC%A0%95%ED%99%94%EB%A1%9C%EA%B5%AC%EC%9D%B4%20%EA%B0%95%EB%8F%99%EC%97%AD%EC%A0%90?c=15.00,0,0,0,dh\n",
      "결과 여러 개 존재(지점 또는 근접 지역)\n",
      "\n",
      "[크롤링 시작...]\n",
      "압구정화로구이 강동역점\n",
      "육류,고기요리\n",
      "서울 강동구 천호대로 1120 1층 101호\n",
      "주문 유형 3\n",
      "황제갈비살 100g\n",
      "미리 재어 놓지 않은 생갈비로 마성의 즉석양념\n",
      "리뷰 존재\n",
      "음식이 맛있어요\n",
      "고기 질이 좋아요\n",
      "가성비가 좋아요\n",
      "친절해요\n",
      "양이 많아요\n",
      "['압구정화로구이 강동역점'] ...완료\n",
      "[데이터 수집 완료]\n",
      "소요 시간 : 13.431649923324585 \n",
      "\n",
      "20번째 가게\n"
     ]
    },
    {
     "name": "stderr",
     "output_type": "stream",
     "text": [
      "The chromedriver version (128.0.6613.137) detected in PATH at c:\\Users\\kk21\\Desktop\\TRIPER\\chromedriver.exe might not be compatible with the detected chrome version (129.0.6668.101); currently, chromedriver 129.0.6668.100 is recommended for chrome 129.*, so it is advised to delete the driver in PATH and retry\n"
     ]
    },
    {
     "name": "stdout",
     "output_type": "stream",
     "text": [
      "https://map.naver.com/p/search/%EA%B0%95%EB%8F%99%EA%B5%AC%20%EC%9D%B4%EA%B0%80%EB%84%A4%EC%96%91%EA%BC%AC%EC%B9%98%20%EA%B8%B8%EB%8F%99%EC%A0%90?c=15.00,0,0,0,dh\n",
      "결과 여러 개 존재(지점 또는 근접 지역)\n",
      "\n",
      "[크롤링 시작...]\n",
      "이가네양꼬치 길동점\n",
      "양꼬치\n",
      "서울 강동구 진황도로 94 101, 102호\n",
      "주문 유형 3\n",
      "양등심꼬치\n",
      "메뉴 설명 없음\n",
      "리뷰 존재\n",
      "음식이 맛있어요\n",
      "고기 질이 좋아요\n",
      "특별한 메뉴가 있어요\n",
      "친절해요\n",
      "가성비가 좋아요\n",
      "['이가네양꼬치 길동점'] ...완료\n",
      "[데이터 수집 완료]\n",
      "소요 시간 : 13.384948253631592 \n",
      "\n",
      "21번째 가게\n"
     ]
    },
    {
     "name": "stderr",
     "output_type": "stream",
     "text": [
      "The chromedriver version (128.0.6613.137) detected in PATH at c:\\Users\\kk21\\Desktop\\TRIPER\\chromedriver.exe might not be compatible with the detected chrome version (129.0.6668.101); currently, chromedriver 129.0.6668.100 is recommended for chrome 129.*, so it is advised to delete the driver in PATH and retry\n"
     ]
    },
    {
     "name": "stdout",
     "output_type": "stream",
     "text": [
      "https://map.naver.com/p/search/%EA%B0%95%EB%8F%99%EA%B5%AC%20%EA%B2%BD%EC%86%A1?c=15.00,0,0,0,dh\n",
      "결과 여러 개 존재(지점 또는 근접 지역)\n",
      "\n",
      "[크롤링 시작...]\n",
      "경송\n",
      "육류,고기요리\n",
      "서울 강동구 천호대로159길 22 1층 경송\n",
      "주문 유형 3\n",
      "경송마늘갈비\n",
      "최상급소고기를 경송만의 마늘양념을 즉석에서 양념해서 드리는 시그니처메뉴입니다\n",
      "리뷰 존재\n",
      "음식이 맛있어요\n",
      "재료가 신선해요\n",
      "친절해요\n",
      "특별한 메뉴가 있어요\n",
      "인테리어가 멋져요\n",
      "['경송'] ...완료\n",
      "[데이터 수집 완료]\n",
      "소요 시간 : 13.414582967758179 \n",
      "\n",
      "22번째 가게\n"
     ]
    },
    {
     "name": "stderr",
     "output_type": "stream",
     "text": [
      "The chromedriver version (128.0.6613.137) detected in PATH at c:\\Users\\kk21\\Desktop\\TRIPER\\chromedriver.exe might not be compatible with the detected chrome version (129.0.6668.101); currently, chromedriver 129.0.6668.100 is recommended for chrome 129.*, so it is advised to delete the driver in PATH and retry\n"
     ]
    },
    {
     "name": "stdout",
     "output_type": "stream",
     "text": [
      "https://map.naver.com/p/search/%EA%B0%95%EB%8F%99%EA%B5%AC%20119%EB%8B%AD%EB%B0%9C%20%EC%B2%9C%ED%98%B8%EB%B3%B8%EC%A0%90/place/13528642?c=15.00,0,0,0,dh&isCorrectAnswer=true\n",
      "결과 한 개\n",
      "\n",
      "[크롤링 시작...]\n",
      "119닭발 천호본점\n",
      "닭발\n",
      "서울 강동구 천중로 73\n",
      "주문 유형 3\n",
      "대표 메뉴 없음\n",
      "메뉴 설명 없음\n",
      "오류 예외 처리\n",
      "23번째 가게\n"
     ]
    },
    {
     "name": "stderr",
     "output_type": "stream",
     "text": [
      "The chromedriver version (128.0.6613.137) detected in PATH at c:\\Users\\kk21\\Desktop\\TRIPER\\chromedriver.exe might not be compatible with the detected chrome version (129.0.6668.101); currently, chromedriver 129.0.6668.100 is recommended for chrome 129.*, so it is advised to delete the driver in PATH and retry\n"
     ]
    },
    {
     "name": "stdout",
     "output_type": "stream",
     "text": [
      "https://map.naver.com/p/search/%EA%B0%95%EB%8F%99%EA%B5%AC%20%EC%98%88%EC%88%A0%EA%B0%88%EB%B9%84?c=15.00,0,0,0,dh\n",
      "결과 여러 개 존재(지점 또는 근접 지역)\n",
      "가게 없음\n",
      "24번째 가게\n"
     ]
    },
    {
     "name": "stderr",
     "output_type": "stream",
     "text": [
      "The chromedriver version (128.0.6613.137) detected in PATH at c:\\Users\\kk21\\Desktop\\TRIPER\\chromedriver.exe might not be compatible with the detected chrome version (129.0.6668.101); currently, chromedriver 129.0.6668.100 is recommended for chrome 129.*, so it is advised to delete the driver in PATH and retry\n"
     ]
    },
    {
     "name": "stdout",
     "output_type": "stream",
     "text": [
      "https://map.naver.com/p/search/%EA%B0%95%EB%8F%99%EA%B5%AC%20%EC%8A%A4%EC%8B%9C%EC%95%BC%EB%AF%B8%20%EC%B2%9C%ED%98%B8%EC%A0%90/place/31896040?c=15.00,0,0,0,dh&isCorrectAnswer=true\n",
      "결과 한 개\n",
      "\n",
      "[크롤링 시작...]\n",
      "스시야미 천호본점\n",
      "일식당\n",
      "서울 강동구 진황도로 4-9 스시야미\n",
      "주문 유형 3\n",
      "대표 메뉴 없음\n",
      "메뉴 설명 없음\n",
      "오류 예외 처리\n",
      "25번째 가게\n"
     ]
    },
    {
     "name": "stderr",
     "output_type": "stream",
     "text": [
      "The chromedriver version (128.0.6613.137) detected in PATH at c:\\Users\\kk21\\Desktop\\TRIPER\\chromedriver.exe might not be compatible with the detected chrome version (129.0.6668.101); currently, chromedriver 129.0.6668.100 is recommended for chrome 129.*, so it is advised to delete the driver in PATH and retry\n"
     ]
    },
    {
     "name": "stdout",
     "output_type": "stream",
     "text": [
      "https://map.naver.com/p/search/%EA%B0%95%EB%8F%99%EA%B5%AC%20%EB%8D%94%EC%8B%9D%EB%8B%B9?c=15.00,0,0,0,dh\n",
      "결과 여러 개 존재(지점 또는 근접 지역)\n",
      "\n",
      "[크롤링 시작...]\n",
      "더식당\n",
      "주꾸미요리\n",
      "서울 강동구 천호대로157길 24 2층\n",
      "주문 유형 3\n",
      "직화쭈꾸미+조개칼국수+마늘김치\n",
      "직화쭈꾸미+조개 칼국수+마늘김치+공기밥 (2인부터 주문가능)\n",
      "리뷰 존재\n",
      "음식이 맛있어요\n",
      "양이 많아요\n",
      "가성비가 좋아요\n",
      "친절해요\n",
      "재료가 신선해요\n",
      "['더식당'] ...완료\n",
      "[데이터 수집 완료]\n",
      "소요 시간 : 13.435113906860352 \n",
      "\n",
      "26번째 가게\n"
     ]
    },
    {
     "name": "stderr",
     "output_type": "stream",
     "text": [
      "The chromedriver version (128.0.6613.137) detected in PATH at c:\\Users\\kk21\\Desktop\\TRIPER\\chromedriver.exe might not be compatible with the detected chrome version (129.0.6668.101); currently, chromedriver 129.0.6668.100 is recommended for chrome 129.*, so it is advised to delete the driver in PATH and retry\n"
     ]
    },
    {
     "name": "stdout",
     "output_type": "stream",
     "text": [
      "https://map.naver.com/p/search/%EA%B0%95%EB%8F%99%EA%B5%AC%20%EB%B2%84%EC%84%AF%EC%9E%94%EC%B9%98%EC%A7%91%20%EB%B3%B8%EC%A0%90/place/11719817?c=15.00,0,0,0,dh&isCorrectAnswer=true\n",
      "결과 한 개\n",
      "\n",
      "[크롤링 시작...]\n",
      "버섯잔치집 본점\n",
      "한식\n",
      "서울 강동구 성내로 52 성원빌딩(네비는 버섯잔치집)\n",
      "주문 유형 3\n",
      "대표 메뉴 없음\n",
      "메뉴 설명 없음\n",
      "오류 예외 처리\n",
      "27번째 가게\n"
     ]
    },
    {
     "name": "stderr",
     "output_type": "stream",
     "text": [
      "The chromedriver version (128.0.6613.137) detected in PATH at c:\\Users\\kk21\\Desktop\\TRIPER\\chromedriver.exe might not be compatible with the detected chrome version (129.0.6668.101); currently, chromedriver 129.0.6668.100 is recommended for chrome 129.*, so it is advised to delete the driver in PATH and retry\n"
     ]
    },
    {
     "name": "stdout",
     "output_type": "stream",
     "text": [
      "https://map.naver.com/p/search/%EA%B0%95%EB%8F%99%EA%B5%AC%20%EB%B6%80%EC%82%B0%ED%95%9C%EC%B9%98%EB%AA%A8%EB%B0%80/place/1319222148?c=15.00,0,0,0,dh&isCorrectAnswer=true\n",
      "결과 한 개\n",
      "\n",
      "[크롤링 시작...]\n",
      "부산한치모밀\n",
      "생선회\n",
      "서울 강동구 올림픽로 682-8 1층 102호\n",
      "주문 유형 3\n",
      "비빔밥\n",
      "메뉴 설명 없음\n",
      "리뷰 존재\n",
      "음식이 맛있어요\n",
      "재료가 신선해요\n",
      "친절해요\n",
      "특별한 메뉴가 있어요\n",
      "매장이 청결해요\n",
      "['부산한치모밀'] ...완료\n",
      "[데이터 수집 완료]\n",
      "소요 시간 : 13.3966805934906 \n",
      "\n",
      "28번째 가게\n"
     ]
    },
    {
     "name": "stderr",
     "output_type": "stream",
     "text": [
      "The chromedriver version (128.0.6613.137) detected in PATH at c:\\Users\\kk21\\Desktop\\TRIPER\\chromedriver.exe might not be compatible with the detected chrome version (129.0.6668.101); currently, chromedriver 129.0.6668.100 is recommended for chrome 129.*, so it is advised to delete the driver in PATH and retry\n"
     ]
    },
    {
     "name": "stdout",
     "output_type": "stream",
     "text": [
      "https://map.naver.com/p/search/%EA%B0%95%EB%8F%99%EA%B5%AC%20%EB%AF%B8%EB%93%9C%EB%8D%B0%EC%9D%B4%EC%8D%AC/place/1067105922?c=15.00,0,0,0,dh&isCorrectAnswer=true\n",
      "결과 한 개\n",
      "\n",
      "[크롤링 시작...]\n",
      "미드데이썬\n",
      "케이크전문\n",
      "서울 강동구 양재대로91나길 55\n",
      "주문 유형 3\n",
      "딸기수플레팬케이크\n",
      "수제 커스타드크림, 딸기시럽, 달콤한 생크림과 신선한 생딸기가 듬뿍 들어간 수플레\n",
      "리뷰 존재\n",
      "디저트가 맛있어요\n",
      "특별한 메뉴가 있어요\n",
      "커피가 맛있어요\n",
      "인테리어가 멋져요\n",
      "친절해요\n",
      "['미드데이썬'] ...완료\n",
      "[데이터 수집 완료]\n",
      "소요 시간 : 13.402242660522461 \n",
      "\n",
      "29번째 가게\n"
     ]
    },
    {
     "name": "stderr",
     "output_type": "stream",
     "text": [
      "The chromedriver version (128.0.6613.137) detected in PATH at c:\\Users\\kk21\\Desktop\\TRIPER\\chromedriver.exe might not be compatible with the detected chrome version (129.0.6668.101); currently, chromedriver 129.0.6668.100 is recommended for chrome 129.*, so it is advised to delete the driver in PATH and retry\n"
     ]
    },
    {
     "name": "stdout",
     "output_type": "stream",
     "text": [
      "https://map.naver.com/p/search/%EA%B0%95%EB%8F%99%EA%B5%AC%20%EC%82%BC%EC%82%B0%ED%9A%8C%EA%B4%80%20%EC%B2%9C%ED%98%B8%EC%97%AD%EC%A0%90?c=15.00,0,0,0,dh\n",
      "결과 여러 개 존재(지점 또는 근접 지역)\n",
      "\n",
      "[크롤링 시작...]\n",
      "삼산회관 천호역점\n",
      "육류,고기요리\n",
      "서울 강동구 천호대로155길 17 1층\n",
      "주문 유형 3\n",
      "찌개한상 세트(혼자)\n",
      "김치찌개(혼자)+옛날계란말이1/2+라면사리1개+공깃밥1개\n",
      "리뷰 존재\n",
      "음식이 맛있어요\n",
      "고기 질이 좋아요\n",
      "양이 많아요\n",
      "친절해요\n",
      "매장이 청결해요\n",
      "['삼산회관 천호역점'] ...완료\n",
      "[데이터 수집 완료]\n",
      "소요 시간 : 13.425450801849365 \n",
      "\n",
      "30번째 가게\n"
     ]
    },
    {
     "name": "stderr",
     "output_type": "stream",
     "text": [
      "The chromedriver version (128.0.6613.137) detected in PATH at c:\\Users\\kk21\\Desktop\\TRIPER\\chromedriver.exe might not be compatible with the detected chrome version (129.0.6668.101); currently, chromedriver 129.0.6668.100 is recommended for chrome 129.*, so it is advised to delete the driver in PATH and retry\n"
     ]
    },
    {
     "name": "stdout",
     "output_type": "stream",
     "text": [
      "https://map.naver.com/p/search/%EA%B0%95%EB%8F%99%EA%B5%AC%20%EC%8B%9C%EC%98%A4%EB%AF%B8%EC%8A%A4%EC%8B%9C/place/1613047535?c=15.00,0,0,0,dh&isCorrectAnswer=true\n",
      "결과 한 개\n",
      "\n",
      "[크롤링 시작...]\n",
      "시오미스시\n",
      "일식당\n",
      "서울 강동구 천호대로 1089 신동아파밀리에 지층18호 시오미스시\n",
      "주문 유형 3\n",
      "스시 런치오마카세\n",
      "메뉴 설명 없음\n",
      "리뷰 존재\n",
      "음식이 맛있어요\n",
      "재료가 신선해요\n",
      "가성비가 좋아요\n",
      "친절해요\n",
      "특별한 메뉴가 있어요\n",
      "['시오미스시'] ...완료\n",
      "[데이터 수집 완료]\n",
      "소요 시간 : 13.40554428100586 \n",
      "\n",
      "31번째 가게\n"
     ]
    },
    {
     "name": "stderr",
     "output_type": "stream",
     "text": [
      "The chromedriver version (128.0.6613.137) detected in PATH at c:\\Users\\kk21\\Desktop\\TRIPER\\chromedriver.exe might not be compatible with the detected chrome version (129.0.6668.101); currently, chromedriver 129.0.6668.100 is recommended for chrome 129.*, so it is advised to delete the driver in PATH and retry\n"
     ]
    },
    {
     "name": "stdout",
     "output_type": "stream",
     "text": [
      "https://map.naver.com/p/search/%EA%B0%95%EB%8F%99%EA%B5%AC%20%EB%8B%A4%EC%9D%B4%EB%8B%9D%EA%B0%88%EB%B9%84%20%EC%83%81%EC%9D%BC%EC%A0%90/place/1653606186?c=15.00,0,0,0,dh&isCorrectAnswer=true\n",
      "결과 한 개\n",
      "\n",
      "[크롤링 시작...]\n",
      "다이닝갈비 상일점\n",
      "육류,고기요리\n",
      "서울 강동구 상일로3길 19 1층\n",
      "주문 유형 3\n",
      "한돈 숯불돼지갈비\n",
      "72시간 숙성 한돈 돼지갈비(1인분/300g)\n",
      "리뷰 존재\n",
      "음식이 맛있어요\n",
      "고기 질이 좋아요\n",
      "친절해요\n",
      "직접 잘 구워줘요\n",
      "특별한 메뉴가 있어요\n",
      "['다이닝갈비 상일점'] ...완료\n",
      "[데이터 수집 완료]\n",
      "소요 시간 : 13.411825895309448 \n",
      "\n",
      "32번째 가게\n"
     ]
    },
    {
     "name": "stderr",
     "output_type": "stream",
     "text": [
      "The chromedriver version (128.0.6613.137) detected in PATH at c:\\Users\\kk21\\Desktop\\TRIPER\\chromedriver.exe might not be compatible with the detected chrome version (129.0.6668.101); currently, chromedriver 129.0.6668.100 is recommended for chrome 129.*, so it is advised to delete the driver in PATH and retry\n"
     ]
    },
    {
     "name": "stdout",
     "output_type": "stream",
     "text": [
      "https://map.naver.com/p/search/%EA%B0%95%EB%8F%99%EA%B5%AC%20%EB%A5%B4%EC%B9%B5%ED%88%AC%EC%8A%A4/place/1789233626?c=15.00,0,0,0,dh&isCorrectAnswer=true\n",
      "결과 한 개\n",
      "\n",
      "[크롤링 시작...]\n",
      "르칵투스\n",
      "양식\n",
      "서울 강동구 양재대로134길 49 1, 2층 101, 102호\n",
      "주문 유형 3\n",
      "쉬림프 매콤 크림 (링귀니)\n",
      "파스타+수제피클\n",
      "리뷰 존재\n",
      "음식이 맛있어요\n",
      "인테리어가 멋져요\n",
      "친절해요\n",
      "재료가 신선해요\n",
      "매장이 청결해요\n",
      "['르칵투스'] ...완료\n",
      "[데이터 수집 완료]\n",
      "소요 시간 : 13.419236898422241 \n",
      "\n",
      "33번째 가게\n"
     ]
    },
    {
     "name": "stderr",
     "output_type": "stream",
     "text": [
      "The chromedriver version (128.0.6613.137) detected in PATH at c:\\Users\\kk21\\Desktop\\TRIPER\\chromedriver.exe might not be compatible with the detected chrome version (129.0.6668.101); currently, chromedriver 129.0.6668.100 is recommended for chrome 129.*, so it is advised to delete the driver in PATH and retry\n"
     ]
    },
    {
     "name": "stdout",
     "output_type": "stream",
     "text": [
      "https://map.naver.com/p/search/%EA%B0%95%EB%8F%99%EA%B5%AC%20%EC%9D%B4%EB%8C%80%EC%84%B1%EC%9D%98%EC%A7%84%EB%A9%B4%EB%AA%A9%20%EA%B0%95%EB%8F%99%EC%A7%81%EC%98%81%EC%A0%90/place/1717142622?c=15.00,0,0,0,dh&isCorrectAnswer=true\n",
      "결과 한 개\n",
      "\n",
      "[크롤링 시작...]\n",
      "이대성의진면목 강동직영점\n",
      "샤브샤브\n",
      "서울 강동구 천호대로 1134 1층\n",
      "주문 유형 3\n",
      "대표 메뉴 없음\n",
      "메뉴 설명 없음\n",
      "오류 예외 처리\n",
      "34번째 가게\n"
     ]
    },
    {
     "name": "stderr",
     "output_type": "stream",
     "text": [
      "The chromedriver version (128.0.6613.137) detected in PATH at c:\\Users\\kk21\\Desktop\\TRIPER\\chromedriver.exe might not be compatible with the detected chrome version (129.0.6668.101); currently, chromedriver 129.0.6668.100 is recommended for chrome 129.*, so it is advised to delete the driver in PATH and retry\n"
     ]
    },
    {
     "name": "stdout",
     "output_type": "stream",
     "text": [
      "https://map.naver.com/p/search/%EA%B0%95%EB%8F%99%EA%B5%AC%20%EB%B8%8C%EB%A1%9C%EC%9D%BC%EB%A7%81%EC%BB%A4%ED%94%BC%20%EA%B0%95%EB%8F%99%EC%A0%90/place/1680710786?c=15.00,0,0,0,dh&isCorrectAnswer=true\n",
      "결과 한 개\n",
      "\n",
      "[크롤링 시작...]\n",
      "브로일링커피 강동점\n",
      "카페,디저트\n",
      "서울 강동구 성내로10길 9-6 1층\n",
      "주문 유형 3\n",
      "대표 메뉴 없음\n",
      "메뉴 설명 없음\n",
      "오류 예외 처리\n",
      "35번째 가게\n"
     ]
    },
    {
     "name": "stderr",
     "output_type": "stream",
     "text": [
      "The chromedriver version (128.0.6613.137) detected in PATH at c:\\Users\\kk21\\Desktop\\TRIPER\\chromedriver.exe might not be compatible with the detected chrome version (129.0.6668.101); currently, chromedriver 129.0.6668.100 is recommended for chrome 129.*, so it is advised to delete the driver in PATH and retry\n"
     ]
    },
    {
     "name": "stdout",
     "output_type": "stream",
     "text": [
      "https://map.naver.com/p/search/%EA%B0%95%EB%8F%99%EA%B5%AC%20%EC%8A%A4%EC%9C%97%EC%86%94%ED%8A%B8?c=15.00,0,0,0,dh\n",
      "결과 여러 개 존재(지점 또는 근접 지역)\n",
      "\n",
      "[크롤링 시작...]\n",
      "스윗솔트\n",
      "카페,디저트\n",
      "서울 강동구 상암로 286\n",
      "주문 유형 3\n",
      "2인 브런치 세트 (배민 스페셜)(2~3인분)\n",
      "에그베네딕트 + 갈비살 버섯리조또 + 아메리카노 2잔\n",
      "리뷰 존재\n",
      "커피가 맛있어요\n",
      "음식이 맛있어요\n",
      "주차하기 편해요\n",
      "디저트가 맛있어요\n",
      "뷰가 좋아요\n",
      "['스윗솔트'] ...완료\n",
      "[데이터 수집 완료]\n",
      "소요 시간 : 13.414575815200806 \n",
      "\n",
      "36번째 가게\n"
     ]
    },
    {
     "name": "stderr",
     "output_type": "stream",
     "text": [
      "The chromedriver version (128.0.6613.137) detected in PATH at c:\\Users\\kk21\\Desktop\\TRIPER\\chromedriver.exe might not be compatible with the detected chrome version (129.0.6668.101); currently, chromedriver 129.0.6668.100 is recommended for chrome 129.*, so it is advised to delete the driver in PATH and retry\n"
     ]
    },
    {
     "name": "stdout",
     "output_type": "stream",
     "text": [
      "https://map.naver.com/p/search/%EA%B0%95%EB%8F%99%EA%B5%AC%20%EC%AD%89%EC%82%BC%EC%9D%B4%20%EC%B2%9C%ED%98%B8%EB%B3%B8%EC%A0%90/place/12797484?c=15.00,0,0,0,dh&isCorrectAnswer=true\n",
      "결과 한 개\n",
      "\n",
      "[크롤링 시작...]\n",
      "쭉삼이 천호본점\n",
      "주꾸미요리\n",
      "서울 강동구 천호대로158길 8 1층 쭉삼이 천호 쭈꾸미전문점\n",
      "주문 유형 3\n",
      "대표 메뉴 없음\n",
      "메뉴 설명 없음\n",
      "오류 예외 처리\n",
      "37번째 가게\n"
     ]
    },
    {
     "name": "stderr",
     "output_type": "stream",
     "text": [
      "The chromedriver version (128.0.6613.137) detected in PATH at c:\\Users\\kk21\\Desktop\\TRIPER\\chromedriver.exe might not be compatible with the detected chrome version (129.0.6668.101); currently, chromedriver 129.0.6668.100 is recommended for chrome 129.*, so it is advised to delete the driver in PATH and retry\n"
     ]
    },
    {
     "name": "stdout",
     "output_type": "stream",
     "text": [
      "https://map.naver.com/p/search/%EA%B0%95%EB%8F%99%EA%B5%AC%20%EC%83%A4%EB%B8%8C%20%EC%9E%A5%EC%86%8C/place/1848488098?isCorrectAnswer=true&c=15.00,0,0,0,dh\n",
      "결과 한 개\n",
      "\n",
      "[크롤링 시작...]\n",
      "샤브 장\n",
      "샤브샤브\n",
      "서울 강동구 구천면로 140 8층\n",
      "주문 유형 3\n",
      "우삼겹\n",
      "LUNCH 대인 13900 무한리필 입니다 고기와 해산물 값은 별도입니다\n",
      "리뷰 존재\n",
      "음식이 맛있어요\n",
      "뷰가 좋아요\n",
      "재료가 신선해요\n",
      "가성비가 좋아요\n",
      "양이 많아요\n",
      "['샤브 장'] ...완료\n",
      "[데이터 수집 완료]\n",
      "소요 시간 : 13.469647884368896 \n",
      "\n",
      "38번째 가게\n"
     ]
    },
    {
     "name": "stderr",
     "output_type": "stream",
     "text": [
      "The chromedriver version (128.0.6613.137) detected in PATH at c:\\Users\\kk21\\Desktop\\TRIPER\\chromedriver.exe might not be compatible with the detected chrome version (129.0.6668.101); currently, chromedriver 129.0.6668.100 is recommended for chrome 129.*, so it is advised to delete the driver in PATH and retry\n"
     ]
    },
    {
     "name": "stdout",
     "output_type": "stream",
     "text": [
      "https://map.naver.com/p/search/%EA%B0%95%EB%8F%99%EA%B5%AC%20%ED%95%B5%EB%B0%A5%20%EA%B3%A0%EB%8D%95%EC%97%AD%EC%A0%90?c=15.00,0,0,0,dh\n",
      "결과 여러 개 존재(지점 또는 근접 지역)\n",
      "\n",
      "[크롤링 시작...]\n",
      "핵밥 고덕역점\n",
      "덮밥\n",
      "서울 강동구 동남로75길 13-10 1층 101호\n",
      "주문 유형 3\n",
      "★ 리뉴얼 돈코츠라멘\n",
      "메뉴 설명 없음\n",
      "리뷰 존재\n",
      "음식이 맛있어요\n",
      "재료가 신선해요\n",
      "혼밥하기 좋아요\n",
      "친절해요\n",
      "매장이 청결해요\n",
      "['핵밥 고덕역점'] ...완료\n",
      "[데이터 수집 완료]\n",
      "소요 시간 : 13.436524391174316 \n",
      "\n",
      "39번째 가게\n"
     ]
    },
    {
     "name": "stderr",
     "output_type": "stream",
     "text": [
      "The chromedriver version (128.0.6613.137) detected in PATH at c:\\Users\\kk21\\Desktop\\TRIPER\\chromedriver.exe might not be compatible with the detected chrome version (129.0.6668.101); currently, chromedriver 129.0.6668.100 is recommended for chrome 129.*, so it is advised to delete the driver in PATH and retry\n"
     ]
    },
    {
     "name": "stdout",
     "output_type": "stream",
     "text": [
      "https://map.naver.com/p/search/%EA%B0%95%EB%8F%99%EA%B5%AC%20%EC%9A%B0%EC%96%91%EC%9A%B0?c=15.00,0,0,0,dh\n",
      "결과 여러 개 존재(지점 또는 근접 지역)\n",
      "가게 없음\n",
      "40번째 가게\n"
     ]
    },
    {
     "name": "stderr",
     "output_type": "stream",
     "text": [
      "The chromedriver version (128.0.6613.137) detected in PATH at c:\\Users\\kk21\\Desktop\\TRIPER\\chromedriver.exe might not be compatible with the detected chrome version (129.0.6668.101); currently, chromedriver 129.0.6668.100 is recommended for chrome 129.*, so it is advised to delete the driver in PATH and retry\n"
     ]
    },
    {
     "name": "stdout",
     "output_type": "stream",
     "text": [
      "https://map.naver.com/p/search/%EA%B0%95%EB%8F%99%EA%B5%AC%20%EB%AA%BD%EB%95%85%EC%A1%B1%EB%B0%9C/place/11859729?c=15.00,0,0,0,dh&isCorrectAnswer=true\n",
      "결과 한 개\n",
      "\n",
      "[크롤링 시작...]\n",
      "몽땅족발\n",
      "족발,보쌈\n",
      "서울 강동구 구천면로24길 20-16 몽땅족발\n",
      "주문 유형 3\n",
      "족발 大\n",
      "메뉴 설명 없음\n",
      "리뷰 존재\n",
      "음식이 맛있어요\n",
      "친절해요\n",
      "양이 많아요\n",
      "매장이 청결해요\n",
      "고기 질이 좋아요\n",
      "['몽땅족발'] ...완료\n",
      "[데이터 수집 완료]\n",
      "소요 시간 : 13.420782566070557 \n",
      "\n",
      "41번째 가게\n"
     ]
    },
    {
     "name": "stderr",
     "output_type": "stream",
     "text": [
      "The chromedriver version (128.0.6613.137) detected in PATH at c:\\Users\\kk21\\Desktop\\TRIPER\\chromedriver.exe might not be compatible with the detected chrome version (129.0.6668.101); currently, chromedriver 129.0.6668.100 is recommended for chrome 129.*, so it is advised to delete the driver in PATH and retry\n"
     ]
    },
    {
     "name": "stdout",
     "output_type": "stream",
     "text": [
      "https://map.naver.com/p/search/%EA%B0%95%EB%8F%99%EA%B5%AC%20%EC%8A%A4%EC%8B%9C%EA%B3%B5%EA%B0%84/place/1949600620?c=15.00,0,0,0,dh&isCorrectAnswer=true\n",
      "결과 한 개\n",
      "\n",
      "[크롤링 시작...]\n",
      "스시공간\n",
      "일식당\n",
      "서울 강동구 올림픽로70길 51-2 1층 스시공간\n",
      "주문 유형 3\n",
      "공간후토마끼\n",
      "한입 넣으면 숙성회와 신선한 재료의 풍미와 다양한 식감을 느낄수 있는 일본식 김밥+샐러드\n",
      "리뷰 존재\n",
      "음식이 맛있어요\n",
      "재료가 신선해요\n",
      "친절해요\n",
      "특별한 메뉴가 있어요\n",
      "매장이 청결해요\n",
      "['스시공간'] ...완료\n",
      "[데이터 수집 완료]\n",
      "소요 시간 : 13.521434545516968 \n",
      "\n",
      "42번째 가게\n"
     ]
    },
    {
     "name": "stderr",
     "output_type": "stream",
     "text": [
      "The chromedriver version (128.0.6613.137) detected in PATH at c:\\Users\\kk21\\Desktop\\TRIPER\\chromedriver.exe might not be compatible with the detected chrome version (129.0.6668.101); currently, chromedriver 129.0.6668.100 is recommended for chrome 129.*, so it is advised to delete the driver in PATH and retry\n"
     ]
    },
    {
     "name": "stdout",
     "output_type": "stream",
     "text": [
      "https://map.naver.com/p/search/%EA%B0%95%EB%8F%99%EA%B5%AC%20%EC%97%84%EB%A7%88%EC%86%90%EB%A7%8C%EB%91%90/place/12048143?c=15.00,0,0,0,dh&isCorrectAnswer=true\n",
      "결과 한 개\n",
      "\n",
      "[크롤링 시작...]\n",
      "엄마손만두\n",
      "만두\n",
      "서울 강동구 올림픽로 683\n",
      "주문 유형 3\n",
      "떡만두국\n",
      "만두 5알 떡 조금 들었어요. 시원 칼칼한 국물\n",
      "리뷰 존재\n",
      "음식이 맛있어요\n",
      "혼밥하기 좋아요\n",
      "재료가 신선해요\n",
      "친절해요\n",
      "가성비가 좋아요\n",
      "['엄마손만두'] ...완료\n",
      "[데이터 수집 완료]\n",
      "소요 시간 : 13.46062970161438 \n",
      "\n",
      "43번째 가게\n"
     ]
    },
    {
     "name": "stderr",
     "output_type": "stream",
     "text": [
      "The chromedriver version (128.0.6613.137) detected in PATH at c:\\Users\\kk21\\Desktop\\TRIPER\\chromedriver.exe might not be compatible with the detected chrome version (129.0.6668.101); currently, chromedriver 129.0.6668.100 is recommended for chrome 129.*, so it is advised to delete the driver in PATH and retry\n"
     ]
    },
    {
     "name": "stdout",
     "output_type": "stream",
     "text": [
      "https://map.naver.com/p/search/%EA%B0%95%EB%8F%99%EA%B5%AC%20%EB%8B%A4%EB%9E%8C?c=15.00,0,0,0,dh\n",
      "결과 여러 개 존재(지점 또는 근접 지역)\n",
      "\n",
      "[크롤링 시작...]\n",
      "다람\n",
      "육류,고기요리\n",
      "서울 강동구 양재대로85길 29 1층\n",
      "주문 유형 3\n",
      "쪽파차돌\n",
      "쪽파김치와 투뿔차돌\n",
      "리뷰 존재\n",
      "음식이 맛있어요\n",
      "친절해요\n",
      "특별한 메뉴가 있어요\n",
      "재료가 신선해요\n",
      "고기 질이 좋아요\n",
      "['다람'] ...완료\n",
      "[데이터 수집 완료]\n",
      "소요 시간 : 13.414427995681763 \n",
      "\n",
      "44번째 가게\n"
     ]
    },
    {
     "name": "stderr",
     "output_type": "stream",
     "text": [
      "The chromedriver version (128.0.6613.137) detected in PATH at c:\\Users\\kk21\\Desktop\\TRIPER\\chromedriver.exe might not be compatible with the detected chrome version (129.0.6668.101); currently, chromedriver 129.0.6668.100 is recommended for chrome 129.*, so it is advised to delete the driver in PATH and retry\n"
     ]
    },
    {
     "name": "stdout",
     "output_type": "stream",
     "text": [
      "https://map.naver.com/p/search/%EA%B0%95%EB%8F%99%EA%B5%AC%20%EC%9D%B4%ED%95%9C%EC%A7%84%EC%88%99%EC%84%B1%ED%9A%8C/place/1093811473?c=15.00,0,0,0,dh&isCorrectAnswer=true\n",
      "결과 한 개\n",
      "\n",
      "[크롤링 시작...]\n",
      "이한진숙성회\n",
      "생선회\n",
      "서울 강동구 구천면로 247-1\n",
      "주문 유형 3\n",
      "숙성회 대\n",
      "메뉴 설명 없음\n",
      "리뷰 존재\n",
      "음식이 맛있어요\n",
      "재료가 신선해요\n",
      "특별한 메뉴가 있어요\n",
      "친절해요\n",
      "양이 많아요\n",
      "['이한진숙성회'] ...완료\n",
      "[데이터 수집 완료]\n",
      "소요 시간 : 13.442382335662842 \n",
      "\n",
      "45번째 가게\n"
     ]
    },
    {
     "name": "stderr",
     "output_type": "stream",
     "text": [
      "The chromedriver version (128.0.6613.137) detected in PATH at c:\\Users\\kk21\\Desktop\\TRIPER\\chromedriver.exe might not be compatible with the detected chrome version (129.0.6668.101); currently, chromedriver 129.0.6668.100 is recommended for chrome 129.*, so it is advised to delete the driver in PATH and retry\n"
     ]
    },
    {
     "name": "stdout",
     "output_type": "stream",
     "text": [
      "https://map.naver.com/p/search/%EA%B0%95%EB%8F%99%EA%B5%AC%20%EC%95%88%EB%85%95%EC%8B%9D%EB%8B%B9/place/36262813?c=15.00,0,0,0,dh&isCorrectAnswer=true\n",
      "결과 한 개\n",
      "\n",
      "[크롤링 시작...]\n",
      "안녕식당\n",
      "일식당\n",
      "서울 강동구 천호대로159길 53\n",
      "주문 유형 3\n",
      "가츠동\n",
      "메뉴 설명 없음\n",
      "리뷰 존재\n",
      "음식이 맛있어요\n",
      "양이 많아요\n",
      "특별한 메뉴가 있어요\n",
      "친절해요\n",
      "재료가 신선해요\n",
      "['안녕식당'] ...완료\n",
      "[데이터 수집 완료]\n",
      "소요 시간 : 13.421469688415527 \n",
      "\n",
      "46번째 가게\n"
     ]
    },
    {
     "name": "stderr",
     "output_type": "stream",
     "text": [
      "The chromedriver version (128.0.6613.137) detected in PATH at c:\\Users\\kk21\\Desktop\\TRIPER\\chromedriver.exe might not be compatible with the detected chrome version (129.0.6668.101); currently, chromedriver 129.0.6668.100 is recommended for chrome 129.*, so it is advised to delete the driver in PATH and retry\n"
     ]
    },
    {
     "name": "stdout",
     "output_type": "stream",
     "text": [
      "https://map.naver.com/p/search/%EA%B0%95%EB%8F%99%EA%B5%AC%20%EA%B8%B4%EC%9E%90%20%EC%98%AC%EB%A6%BC%ED%94%BD%EC%A0%90/place/20366062?c=15.00,0,0,0,dh&isCorrectAnswer=true\n",
      "결과 한 개\n",
      "\n",
      "[크롤링 시작...]\n",
      "긴자 올림픽점\n",
      "일식당\n",
      "서울 강동구 강동대로 223\n",
      "주문 유형 3\n",
      "[점심] 점심 정식\n",
      "돈까스 + 주먹밥 + 샐러드\n",
      "리뷰 존재\n",
      "음식이 맛있어요\n",
      "친절해요\n",
      "재료가 신선해요\n",
      "단체모임 하기 좋아요\n",
      "주차하기 편해요\n",
      "['긴자 올림픽점'] ...완료\n",
      "[데이터 수집 완료]\n",
      "소요 시간 : 13.468638896942139 \n",
      "\n",
      "47번째 가게\n"
     ]
    },
    {
     "name": "stderr",
     "output_type": "stream",
     "text": [
      "The chromedriver version (128.0.6613.137) detected in PATH at c:\\Users\\kk21\\Desktop\\TRIPER\\chromedriver.exe might not be compatible with the detected chrome version (129.0.6668.101); currently, chromedriver 129.0.6668.100 is recommended for chrome 129.*, so it is advised to delete the driver in PATH and retry\n"
     ]
    },
    {
     "name": "stdout",
     "output_type": "stream",
     "text": [
      "https://map.naver.com/p/search/%EA%B0%95%EB%8F%99%EA%B5%AC%20%EB%8B%AC%ED%94%BC%EC%9E%90/place/1988239483?c=15.00,0,0,0,dh&isCorrectAnswer=true\n",
      "결과 한 개\n",
      "\n",
      "[크롤링 시작...]\n",
      "달피자\n",
      "양식\n",
      "서울 강동구 양재대로89길 53 1층\n",
      "주문 유형 3\n",
      "Pink Moon Highball🍷\n",
      "메뉴 설명 없음\n",
      "리뷰 존재\n",
      "음식이 맛있어요\n",
      "재료가 신선해요\n",
      "인테리어가 멋져요\n",
      "친절해요\n",
      "특별한 메뉴가 있어요\n",
      "['달피자'] ...완료\n",
      "[데이터 수집 완료]\n",
      "소요 시간 : 13.40454363822937 \n",
      "\n",
      "48번째 가게\n"
     ]
    },
    {
     "name": "stderr",
     "output_type": "stream",
     "text": [
      "The chromedriver version (128.0.6613.137) detected in PATH at c:\\Users\\kk21\\Desktop\\TRIPER\\chromedriver.exe might not be compatible with the detected chrome version (129.0.6668.101); currently, chromedriver 129.0.6668.100 is recommended for chrome 129.*, so it is advised to delete the driver in PATH and retry\n"
     ]
    },
    {
     "name": "stdout",
     "output_type": "stream",
     "text": [
      "https://map.naver.com/p/search/%EA%B0%95%EB%8F%99%EA%B5%AC%20%EB%B0%B0%EB%82%98%EB%AC%B4%EC%A7%91/place/12811173?c=15.00,0,0,0,dh&isCorrectAnswer=true\n",
      "결과 한 개\n",
      "\n",
      "[크롤링 시작...]\n",
      "배나무집\n",
      "오리요리\n",
      "서울 강동구 동남로 585\n",
      "주문 유형 3\n",
      "오리양념철판구이\n",
      "오리+새우+오징어\n",
      "리뷰 존재\n",
      "음식이 맛있어요\n",
      "매장이 넓어요\n",
      "친절해요\n",
      "고기 질이 좋아요\n",
      "단체모임 하기 좋아요\n",
      "['배나무집'] ...완료\n",
      "[데이터 수집 완료]\n",
      "소요 시간 : 13.431519269943237 \n",
      "\n",
      "49번째 가게\n"
     ]
    },
    {
     "name": "stderr",
     "output_type": "stream",
     "text": [
      "The chromedriver version (128.0.6613.137) detected in PATH at c:\\Users\\kk21\\Desktop\\TRIPER\\chromedriver.exe might not be compatible with the detected chrome version (129.0.6668.101); currently, chromedriver 129.0.6668.100 is recommended for chrome 129.*, so it is advised to delete the driver in PATH and retry\n"
     ]
    },
    {
     "name": "stdout",
     "output_type": "stream",
     "text": [
      "https://map.naver.com/p/search/%EA%B0%95%EB%8F%99%EA%B5%AC%20%EC%B2%9C%ED%98%B8%EB%88%84%EB%A3%BD%EC%A7%80%ED%86%B5%EB%8B%AD%EA%B5%AC%EC%9D%B4%20%EC%84%B1%EB%82%B4%EB%B3%B8%EC%A0%90/place/38654169?isCorrectAnswer=true&c=15.00,0,0,0,dh\n",
      "결과 한 개\n",
      "\n",
      "[크롤링 시작...]\n",
      "천호누룽지통닭구이 성내본점\n",
      "치킨,닭강정\n",
      "서울 강동구 천호옛14길 35 1층\n",
      "주문 유형 3\n",
      "누룽지 통닭\n",
      "파/치즈콘/매운소스\n",
      "리뷰 존재\n",
      "음식이 맛있어요\n",
      "친절해요\n",
      "특별한 메뉴가 있어요\n",
      "양이 많아요\n",
      "재료가 신선해요\n",
      "['천호누룽지통닭구이 성내본점'] ...완료\n",
      "[데이터 수집 완료]\n",
      "소요 시간 : 13.450764179229736 \n",
      "\n",
      "50번째 가게\n"
     ]
    },
    {
     "name": "stderr",
     "output_type": "stream",
     "text": [
      "The chromedriver version (128.0.6613.137) detected in PATH at c:\\Users\\kk21\\Desktop\\TRIPER\\chromedriver.exe might not be compatible with the detected chrome version (129.0.6668.101); currently, chromedriver 129.0.6668.100 is recommended for chrome 129.*, so it is advised to delete the driver in PATH and retry\n"
     ]
    },
    {
     "name": "stdout",
     "output_type": "stream",
     "text": [
      "https://map.naver.com/p/search/%EA%B0%95%EB%8F%99%EA%B5%AC%20%EC%BB%A4%ED%94%BC%EB%AA%BD%ED%83%80%EC%A3%BC/place/31905764?c=15.00,0,0,0,dh&isCorrectAnswer=true\n",
      "결과 한 개\n",
      "\n",
      "[크롤링 시작...]\n",
      "커피몽타주\n",
      "카페\n",
      "서울 강동구 올림픽로48길 23-12 1층\n",
      "주문 유형 3\n",
      "카페라떼\n",
      "메뉴 설명 없음\n",
      "리뷰 존재\n",
      "커피가 맛있어요\n",
      "친절해요\n",
      "매장이 청결해요\n",
      "음료가 맛있어요\n",
      "인테리어가 멋져요\n",
      "['커피몽타주'] ...완료\n",
      "[데이터 수집 완료]\n",
      "소요 시간 : 13.406463861465454 \n",
      "\n",
      "51번째 가게\n"
     ]
    },
    {
     "name": "stderr",
     "output_type": "stream",
     "text": [
      "The chromedriver version (128.0.6613.137) detected in PATH at c:\\Users\\kk21\\Desktop\\TRIPER\\chromedriver.exe might not be compatible with the detected chrome version (129.0.6668.101); currently, chromedriver 129.0.6668.100 is recommended for chrome 129.*, so it is advised to delete the driver in PATH and retry\n"
     ]
    },
    {
     "name": "stdout",
     "output_type": "stream",
     "text": [
      "https://map.naver.com/p/search/%EA%B0%95%EB%8F%99%EA%B5%AC%20%EB%AF%B8%EB%93%9C%ED%83%80%EC%9E%84%EC%BB%A4%ED%94%BC/place/1423414776?c=15.00,0,0,0,dh&isCorrectAnswer=true\n",
      "결과 한 개\n",
      "\n",
      "[크롤링 시작...]\n",
      "미드타임커피\n",
      "카페,디저트\n",
      "서울 강동구 올림픽로72길 19-3 1층\n",
      "주문 유형 3\n",
      "미드타임크림라떼\n",
      "진한 커피 크림과 달콤한 라떼\n",
      "리뷰 존재\n",
      "커피가 맛있어요\n",
      "디저트가 맛있어요\n",
      "인테리어가 멋져요\n",
      "음료가 맛있어요\n",
      "친절해요\n",
      "['미드타임커피'] ...완료\n",
      "[데이터 수집 완료]\n",
      "소요 시간 : 13.393232345581055 \n",
      "\n",
      "52번째 가게\n"
     ]
    },
    {
     "name": "stderr",
     "output_type": "stream",
     "text": [
      "The chromedriver version (128.0.6613.137) detected in PATH at c:\\Users\\kk21\\Desktop\\TRIPER\\chromedriver.exe might not be compatible with the detected chrome version (129.0.6668.101); currently, chromedriver 129.0.6668.100 is recommended for chrome 129.*, so it is advised to delete the driver in PATH and retry\n"
     ]
    },
    {
     "name": "stdout",
     "output_type": "stream",
     "text": [
      "https://map.naver.com/p/search/%EA%B0%95%EB%8F%99%EA%B5%AC%20%EC%96%91%EC%82%B0%EB%8F%84%20%EC%98%AC%EB%A6%BC%ED%94%BD%EA%B3%B5%EC%9B%90%EC%A0%90/place/1442563359?c=15.00,0,0,0,dh&isCorrectAnswer=true\n",
      "결과 한 개\n",
      "\n",
      "[크롤링 시작...]\n",
      "양산도 올림픽공원점\n",
      "일식당\n",
      "서울 강동구 강동대로 187 1층 101호\n",
      "주문 유형 3\n",
      "히츠마부시\n",
      "나고야식 민물장어덮밥\n",
      "리뷰 존재\n",
      "음식이 맛있어요\n",
      "재료가 신선해요\n",
      "매장이 청결해요\n",
      "친절해요\n",
      "특별한 메뉴가 있어요\n",
      "['양산도 올림픽공원점'] ...완료\n",
      "[데이터 수집 완료]\n",
      "소요 시간 : 13.417655229568481 \n",
      "\n",
      "53번째 가게\n"
     ]
    },
    {
     "name": "stderr",
     "output_type": "stream",
     "text": [
      "The chromedriver version (128.0.6613.137) detected in PATH at c:\\Users\\kk21\\Desktop\\TRIPER\\chromedriver.exe might not be compatible with the detected chrome version (129.0.6668.101); currently, chromedriver 129.0.6668.100 is recommended for chrome 129.*, so it is advised to delete the driver in PATH and retry\n"
     ]
    },
    {
     "name": "stdout",
     "output_type": "stream",
     "text": [
      "https://map.naver.com/p/search/%EA%B0%95%EB%8F%99%EA%B5%AC%20%EC%9B%94%EC%9A%94%EC%9D%BC/place/1177899827?c=15.00,0,0,0,dh&isCorrectAnswer=true\n",
      "결과 한 개\n",
      "\n",
      "[크롤링 시작...]\n",
      "월요일\n",
      "요리주점\n",
      "서울 강동구 천호대로158길 36-6 1층\n",
      "주문 유형 3\n",
      "광어&묵은지 사시미\n",
      "메뉴 설명 없음\n",
      "리뷰 존재\n",
      "음식이 맛있어요\n",
      "인테리어가 멋져요\n",
      "특별한 메뉴가 있어요\n",
      "친절해요\n",
      "대화하기 좋아요\n",
      "['월요일'] ...완료\n",
      "[데이터 수집 완료]\n",
      "소요 시간 : 13.401813745498657 \n",
      "\n",
      "54번째 가게\n"
     ]
    },
    {
     "name": "stderr",
     "output_type": "stream",
     "text": [
      "The chromedriver version (128.0.6613.137) detected in PATH at c:\\Users\\kk21\\Desktop\\TRIPER\\chromedriver.exe might not be compatible with the detected chrome version (129.0.6668.101); currently, chromedriver 129.0.6668.100 is recommended for chrome 129.*, so it is advised to delete the driver in PATH and retry\n"
     ]
    },
    {
     "name": "stdout",
     "output_type": "stream",
     "text": [
      "https://map.naver.com/p/search/%EA%B0%95%EB%8F%99%EA%B5%AC%20%ED%86%B5%EB%A1%9C/place/1709746216?c=15.00,0,0,0,dh&isCorrectAnswer=true\n",
      "결과 한 개\n",
      "\n",
      "[크롤링 시작...]\n",
      "통로\n",
      "태국음식\n",
      "서울 강동구 강동대로55길 25 1층 101호\n",
      "주문 유형 3\n",
      "팟타이꿍\n",
      "새콤달콤한 홈메이드 팟타이 소스와 새우 숙주 등을 넣고 볶은 태국 대표 요리\n",
      "리뷰 존재\n",
      "음식이 맛있어요\n",
      "친절해요\n",
      "특별한 메뉴가 있어요\n",
      "인테리어가 멋져요\n",
      "현지 맛에 가까워요\n",
      "['통로'] ...완료\n",
      "[데이터 수집 완료]\n",
      "소요 시간 : 13.429560422897339 \n",
      "\n",
      "55번째 가게\n"
     ]
    },
    {
     "name": "stderr",
     "output_type": "stream",
     "text": [
      "The chromedriver version (128.0.6613.137) detected in PATH at c:\\Users\\kk21\\Desktop\\TRIPER\\chromedriver.exe might not be compatible with the detected chrome version (129.0.6668.101); currently, chromedriver 129.0.6668.100 is recommended for chrome 129.*, so it is advised to delete the driver in PATH and retry\n"
     ]
    },
    {
     "name": "stdout",
     "output_type": "stream",
     "text": [
      "https://map.naver.com/p/search/%EA%B0%95%EB%8F%99%EA%B5%AC%20%ED%92%80%ED%8C%AC/place/34714455?c=15.00,0,0,0,dh&isCorrectAnswer=true\n",
      "결과 한 개\n",
      "\n",
      "[크롤링 시작...]\n",
      "풀팬\n",
      "이탈리아음식\n",
      "서울 강동구 올림픽로 660 엘크루 상가 104호\n",
      "주문 유형 3\n",
      "시금치 플랫브레드\n",
      "메뉴 설명 없음\n",
      "리뷰 존재\n",
      "음식이 맛있어요\n",
      "재료가 신선해요\n",
      "특별한 메뉴가 있어요\n",
      "양이 많아요\n",
      "친절해요\n",
      "['풀팬'] ...완료\n",
      "[데이터 수집 완료]\n",
      "소요 시간 : 13.406457901000977 \n",
      "\n",
      "56번째 가게\n"
     ]
    },
    {
     "name": "stderr",
     "output_type": "stream",
     "text": [
      "The chromedriver version (128.0.6613.137) detected in PATH at c:\\Users\\kk21\\Desktop\\TRIPER\\chromedriver.exe might not be compatible with the detected chrome version (129.0.6668.101); currently, chromedriver 129.0.6668.100 is recommended for chrome 129.*, so it is advised to delete the driver in PATH and retry\n"
     ]
    },
    {
     "name": "stdout",
     "output_type": "stream",
     "text": [
      "https://map.naver.com/p/search/%EA%B0%95%EB%8F%99%EA%B5%AC%20%EA%B0%90%EB%8F%99%EB%8B%A4%EC%9D%B4%EB%8B%9D/place/1300006204?c=15.00,0,0,0,dh&isCorrectAnswer=true\n",
      "결과 한 개\n",
      "\n",
      "[크롤링 시작...]\n",
      "감동다이닝\n",
      "이자카야\n",
      "서울 강동구 천중로53길 13 1층\n",
      "주문 유형 3\n",
      "감동 숙성회S\n",
      "당일 공수한 신선한 회를 저온 숙성하여 제공\n",
      "리뷰 존재\n",
      "음식이 맛있어요\n",
      "특별한 메뉴가 있어요\n",
      "인테리어가 멋져요\n",
      "친절해요\n",
      "대화하기 좋아요\n",
      "['감동다이닝'] ...완료\n",
      "[데이터 수집 완료]\n",
      "소요 시간 : 13.440805196762085 \n",
      "\n",
      "57번째 가게\n"
     ]
    },
    {
     "name": "stderr",
     "output_type": "stream",
     "text": [
      "The chromedriver version (128.0.6613.137) detected in PATH at c:\\Users\\kk21\\Desktop\\TRIPER\\chromedriver.exe might not be compatible with the detected chrome version (129.0.6668.101); currently, chromedriver 129.0.6668.100 is recommended for chrome 129.*, so it is advised to delete the driver in PATH and retry\n"
     ]
    },
    {
     "name": "stdout",
     "output_type": "stream",
     "text": [
      "https://map.naver.com/p/search/%EA%B0%95%EB%8F%99%EA%B5%AC%20%EC%85%80%ED%94%84%ED%95%98%EC%9A%B0%EC%8A%A4/place/20601679?c=15.00,0,0,0,dh&isCorrectAnswer=true\n",
      "결과 한 개\n",
      "\n",
      "[크롤링 시작...]\n",
      "셀프하우스\n",
      "종합분식\n",
      "서울 강동구 올림픽로 572 코오롱 2차 아파트 101동 107호\n",
      "주문 유형 3\n",
      "마늘떡볶이\n",
      "메뉴 설명 없음\n",
      "리뷰 존재\n",
      "음식이 맛있어요\n",
      "특별한 메뉴가 있어요\n",
      "가성비가 좋아요\n",
      "친절해요\n",
      "혼밥하기 좋아요\n",
      "['셀프하우스'] ...완료\n",
      "[데이터 수집 완료]\n",
      "소요 시간 : 13.38901424407959 \n",
      "\n",
      "58번째 가게\n"
     ]
    },
    {
     "name": "stderr",
     "output_type": "stream",
     "text": [
      "The chromedriver version (128.0.6613.137) detected in PATH at c:\\Users\\kk21\\Desktop\\TRIPER\\chromedriver.exe might not be compatible with the detected chrome version (129.0.6668.101); currently, chromedriver 129.0.6668.100 is recommended for chrome 129.*, so it is advised to delete the driver in PATH and retry\n"
     ]
    },
    {
     "name": "stdout",
     "output_type": "stream",
     "text": [
      "https://map.naver.com/p/search/%EA%B0%95%EB%8F%99%EA%B5%AC%20%EC%AD%88%EA%BE%B8%EC%AD%88%EA%BE%B8%EC%AD%88%EA%BE%B8%EB%AF%B8%20%EB%B3%B8%EC%A0%90/place/35561251?c=15.00,0,0,0,dh&isCorrectAnswer=true\n",
      "결과 한 개\n",
      "\n",
      "[크롤링 시작...]\n",
      "쭈꾸쭈꾸쭈꾸미 본점\n",
      "주꾸미요리\n",
      "서울 강동구 천호옛길 98\n",
      "주문 유형 3\n",
      "쭈꾸미\n",
      "메뉴 설명 없음\n",
      "리뷰 존재\n",
      "음식이 맛있어요\n",
      "재료가 신선해요\n",
      "친절해요\n",
      "특별한 메뉴가 있어요\n",
      "양이 많아요\n",
      "['쭈꾸쭈꾸쭈꾸미 본점'] ...완료\n",
      "[데이터 수집 완료]\n",
      "소요 시간 : 13.444538116455078 \n",
      "\n",
      "59번째 가게\n"
     ]
    },
    {
     "name": "stderr",
     "output_type": "stream",
     "text": [
      "The chromedriver version (128.0.6613.137) detected in PATH at c:\\Users\\kk21\\Desktop\\TRIPER\\chromedriver.exe might not be compatible with the detected chrome version (129.0.6668.101); currently, chromedriver 129.0.6668.100 is recommended for chrome 129.*, so it is advised to delete the driver in PATH and retry\n"
     ]
    },
    {
     "name": "stdout",
     "output_type": "stream",
     "text": [
      "https://map.naver.com/p/search/%EA%B0%95%EB%8F%99%EA%B5%AC%20%EC%97%AC%EB%B4%89%EB%8B%AD%EB%B0%9C%20%EA%B8%B8%EB%8F%99%EC%A0%90/place/1773975550?c=16.00,0,0,0,dh&isCorrectAnswer=true\n",
      "결과 한 개\n",
      "\n",
      "[크롤링 시작...]\n",
      "여봉닭발 길동점\n",
      "닭발\n",
      "서울 강동구 진황도로47길 55 1층 여봉닭발 길동점\n",
      "주문 유형 3\n",
      "일품 뼈있는국물닭발\n",
      "재주문율98.7%+9000원 추가시 닭발곱빼기 변경가능(닭발양+50%이상 증가)배달가격상이\n",
      "리뷰 존재\n",
      "음식이 맛있어요\n",
      "친절해요\n",
      "매장이 청결해요\n",
      "매장이 넓어요\n",
      "양이 많아요\n",
      "['여봉닭발 길동점'] ...완료\n",
      "[데이터 수집 완료]\n",
      "소요 시간 : 13.403975486755371 \n",
      "\n",
      "60번째 가게\n"
     ]
    },
    {
     "name": "stderr",
     "output_type": "stream",
     "text": [
      "The chromedriver version (128.0.6613.137) detected in PATH at c:\\Users\\kk21\\Desktop\\TRIPER\\chromedriver.exe might not be compatible with the detected chrome version (129.0.6668.101); currently, chromedriver 129.0.6668.100 is recommended for chrome 129.*, so it is advised to delete the driver in PATH and retry\n"
     ]
    },
    {
     "name": "stdout",
     "output_type": "stream",
     "text": [
      "https://map.naver.com/p/search/%EA%B0%95%EB%8F%99%EA%B5%AC%20%EC%83%81%EB%A1%9D%EC%88%98%20%EC%B2%9C%ED%98%B8%EC%A0%90/place/1116046604?isCorrectAnswer=true&c=15.00,0,0,0,dh\n",
      "결과 한 개\n",
      "\n",
      "[크롤링 시작...]\n",
      "상록수 천호점\n",
      "육류,고기요리\n",
      "서울 강동구 진황도로 5 105, 106, 107호\n",
      "주문 유형 3\n",
      "황지살\n",
      "불필요한 지방을 제거한 진또배기 항정살 엑기스! 아삭한 식감이 일품입니다.\n",
      "리뷰 존재\n",
      "음식이 맛있어요\n",
      "고기 질이 좋아요\n",
      "특별한 메뉴가 있어요\n",
      "친절해요\n",
      "인테리어가 멋져요\n",
      "['상록수 천호점'] ...완료\n",
      "[데이터 수집 완료]\n",
      "소요 시간 : 13.418341875076294 \n",
      "\n",
      "61번째 가게\n"
     ]
    },
    {
     "name": "stderr",
     "output_type": "stream",
     "text": [
      "The chromedriver version (128.0.6613.137) detected in PATH at c:\\Users\\kk21\\Desktop\\TRIPER\\chromedriver.exe might not be compatible with the detected chrome version (129.0.6668.101); currently, chromedriver 129.0.6668.100 is recommended for chrome 129.*, so it is advised to delete the driver in PATH and retry\n"
     ]
    },
    {
     "name": "stdout",
     "output_type": "stream",
     "text": [
      "https://map.naver.com/p/search/%EA%B0%95%EB%8F%99%EA%B5%AC%20%ED%92%8D%EC%B4%8C%EC%BD%94%EB%8B%A4%EB%A6%AC%EB%84%A4%20%EB%B3%B8%EC%A0%90/place/38309857?c=15.00,0,0,0,dh&isCorrectAnswer=true\n",
      "결과 한 개\n",
      "\n",
      "[크롤링 시작...]\n",
      "풍촌코다리네 본점\n",
      "백반,가정식\n",
      "서울 강동구 올림픽로 763 대명빌딩 1층 풍촌코다리네 본점\n",
      "주문 유형 3\n",
      "대표 메뉴 없음\n",
      "메뉴 설명 없음\n",
      "오류 예외 처리\n",
      "62번째 가게\n"
     ]
    },
    {
     "name": "stderr",
     "output_type": "stream",
     "text": [
      "The chromedriver version (128.0.6613.137) detected in PATH at c:\\Users\\kk21\\Desktop\\TRIPER\\chromedriver.exe might not be compatible with the detected chrome version (129.0.6668.101); currently, chromedriver 129.0.6668.100 is recommended for chrome 129.*, so it is advised to delete the driver in PATH and retry\n"
     ]
    },
    {
     "name": "stdout",
     "output_type": "stream",
     "text": [
      "https://map.naver.com/p/search/%EA%B0%95%EB%8F%99%EA%B5%AC%20%EA%BC%BC%EB%96%BC%20%EB%91%94%EC%B4%8C%EB%B3%B8%EC%A0%90/place/37249333?c=15.00,0,0,0,dh&isCorrectAnswer=true\n",
      "결과 한 개\n",
      "\n",
      "[크롤링 시작...]\n",
      "꼼떼 둔촌본점\n",
      "양식\n",
      "서울 강동구 동남로51길 9 1층\n",
      "주문 유형 3\n",
      "자이언트 바베큐 플래터\n",
      "시그니처 스테이크, 베이비 백 립, 돼지갈비 바베큐, 로스트 치킨 바베큐 구성의 플래터!\n",
      "리뷰 존재\n",
      "음식이 맛있어요\n",
      "매장이 넓어요\n",
      "단체모임 하기 좋아요\n",
      "주차하기 편해요\n",
      "친절해요\n",
      "['꼼떼 둔촌본점'] ...완료\n",
      "[데이터 수집 완료]\n",
      "소요 시간 : 13.40911054611206 \n",
      "\n",
      "63번째 가게\n"
     ]
    },
    {
     "name": "stderr",
     "output_type": "stream",
     "text": [
      "The chromedriver version (128.0.6613.137) detected in PATH at c:\\Users\\kk21\\Desktop\\TRIPER\\chromedriver.exe might not be compatible with the detected chrome version (129.0.6668.101); currently, chromedriver 129.0.6668.100 is recommended for chrome 129.*, so it is advised to delete the driver in PATH and retry\n"
     ]
    },
    {
     "name": "stdout",
     "output_type": "stream",
     "text": [
      "https://map.naver.com/p/search/%EA%B0%95%EB%8F%99%EA%B5%AC%20%ED%95%B4%EC%99%80%EA%B3%B1/place/1123735318?c=15.00,0,0,0,dh&isCorrectAnswer=true\n",
      "결과 한 개\n",
      "\n",
      "[크롤링 시작...]\n",
      "해와곱\n",
      "곱창,막창,양\n",
      "서울 강동구 천호대로159길 25 1층 해와곱\n",
      "주문 유형 3\n",
      "한우곱창모듬\n",
      "풍성한 한우 프리미엄소곱창과 대창,막창,양깃머리,염통,우삼겹을 함께 가성비 있게!!\n",
      "리뷰 존재\n",
      "음식이 맛있어요\n",
      "고기 질이 좋아요\n",
      "친절해요\n",
      "매장이 청결해요\n",
      "인테리어가 멋져요\n",
      "['해와곱'] ...완료\n",
      "[데이터 수집 완료]\n",
      "소요 시간 : 13.432121515274048 \n",
      "\n",
      "64번째 가게\n"
     ]
    },
    {
     "name": "stderr",
     "output_type": "stream",
     "text": [
      "The chromedriver version (128.0.6613.137) detected in PATH at c:\\Users\\kk21\\Desktop\\TRIPER\\chromedriver.exe might not be compatible with the detected chrome version (129.0.6668.101); currently, chromedriver 129.0.6668.100 is recommended for chrome 129.*, so it is advised to delete the driver in PATH and retry\n"
     ]
    },
    {
     "name": "stdout",
     "output_type": "stream",
     "text": [
      "https://map.naver.com/p/search/%EA%B0%95%EB%8F%99%EA%B5%AC%20%EC%9C%A0%ED%83%80%EB%A1%9C%20%EC%B2%9C%ED%98%B8/place/20058863?c=15.00,0,0,0,dh&isCorrectAnswer=true\n",
      "결과 한 개\n",
      "\n",
      "[크롤링 시작...]\n",
      "유타로 천호\n",
      "일본식라면\n",
      "서울 강동구 올림픽로70길 56-6\n",
      "주문 유형 3\n",
      "대표 메뉴 없음\n",
      "메뉴 설명 없음\n",
      "오류 예외 처리\n",
      "65번째 가게\n"
     ]
    },
    {
     "name": "stderr",
     "output_type": "stream",
     "text": [
      "The chromedriver version (128.0.6613.137) detected in PATH at c:\\Users\\kk21\\Desktop\\TRIPER\\chromedriver.exe might not be compatible with the detected chrome version (129.0.6668.101); currently, chromedriver 129.0.6668.100 is recommended for chrome 129.*, so it is advised to delete the driver in PATH and retry\n"
     ]
    },
    {
     "name": "stdout",
     "output_type": "stream",
     "text": [
      "https://map.naver.com/p/search/%EA%B0%95%EB%8F%99%EA%B5%AC%20%EC%8A%A4%EC%8B%9C%EC%A7%84/place/37676448?c=15.00,0,0,0,dh&isCorrectAnswer=true\n",
      "결과 한 개\n",
      "\n",
      "[크롤링 시작...]\n",
      "스시진\n",
      "초밥,롤\n",
      "서울 강동구 천호대로 997\n",
      "주문 유형 3\n",
      "커플세트 2인 B 24pcs\n",
      "광어4 연어4 장어2 생새우2 한치2 새우2 문어2 타코와사비2 소고기4 서비스우동2\n",
      "리뷰 존재\n",
      "음식이 맛있어요\n",
      "재료가 신선해요\n",
      "친절해요\n",
      "가성비가 좋아요\n",
      "양이 많아요\n",
      "['스시진'] ...완료\n",
      "[데이터 수집 완료]\n",
      "소요 시간 : 13.410530090332031 \n",
      "\n",
      "66번째 가게\n"
     ]
    },
    {
     "name": "stderr",
     "output_type": "stream",
     "text": [
      "The chromedriver version (128.0.6613.137) detected in PATH at c:\\Users\\kk21\\Desktop\\TRIPER\\chromedriver.exe might not be compatible with the detected chrome version (129.0.6668.101); currently, chromedriver 129.0.6668.100 is recommended for chrome 129.*, so it is advised to delete the driver in PATH and retry\n"
     ]
    },
    {
     "name": "stdout",
     "output_type": "stream",
     "text": [
      "https://map.naver.com/p/search/%EA%B0%95%EB%8F%99%EA%B5%AC%20%EB%B4%89%EB%A9%94%EB%B0%80/place/1118239487?c=15.00,0,0,0,dh&isCorrectAnswer=true\n",
      "결과 한 개\n",
      "\n",
      "[크롤링 시작...]\n",
      "봉메밀\n",
      "막국수\n",
      "서울 강동구 천호대로203길 10\n",
      "주문 유형 3\n",
      "화덕장어구이(소금/양념)\n",
      "비빔막국수와 찰떡인 겉바속촉 신메뉴 화덕장어구이를 드셔보세요!\n",
      "리뷰 존재\n",
      "음식이 맛있어요\n",
      "재료가 신선해요\n",
      "양이 많아요\n",
      "친절해요\n",
      "매장이 넓어요\n",
      "['봉메밀'] ...완료\n",
      "[데이터 수집 완료]\n",
      "소요 시간 : 13.399717330932617 \n",
      "\n",
      "67번째 가게\n"
     ]
    },
    {
     "name": "stderr",
     "output_type": "stream",
     "text": [
      "The chromedriver version (128.0.6613.137) detected in PATH at c:\\Users\\kk21\\Desktop\\TRIPER\\chromedriver.exe might not be compatible with the detected chrome version (129.0.6668.101); currently, chromedriver 129.0.6668.100 is recommended for chrome 129.*, so it is advised to delete the driver in PATH and retry\n"
     ]
    },
    {
     "name": "stdout",
     "output_type": "stream",
     "text": [
      "https://map.naver.com/p/search/%EA%B0%95%EB%8F%99%EA%B5%AC%20%EB%B2%84%ED%84%B0%EC%98%A8/place/1453469282?c=15.00,0,0,0,dh&isCorrectAnswer=true\n",
      "결과 한 개\n",
      "\n",
      "[크롤링 시작...]\n",
      "버터온\n",
      "카페,디저트\n",
      "서울 강동구 천중로 39 1층 4호\n",
      "주문 유형 3\n",
      "대표 메뉴 없음\n",
      "메뉴 설명 없음\n",
      "오류 예외 처리\n",
      "68번째 가게\n"
     ]
    },
    {
     "name": "stderr",
     "output_type": "stream",
     "text": [
      "The chromedriver version (128.0.6613.137) detected in PATH at c:\\Users\\kk21\\Desktop\\TRIPER\\chromedriver.exe might not be compatible with the detected chrome version (129.0.6668.101); currently, chromedriver 129.0.6668.100 is recommended for chrome 129.*, so it is advised to delete the driver in PATH and retry\n"
     ]
    },
    {
     "name": "stdout",
     "output_type": "stream",
     "text": [
      "https://map.naver.com/p/search/%EA%B0%95%EB%8F%99%EA%B5%AC%20%ED%9D%A5%EB%8F%84%EC%8B%9D%EB%8B%B9?c=15.00,0,0,0,dh\n",
      "결과 여러 개 존재(지점 또는 근접 지역)\n",
      "\n",
      "[크롤링 시작...]\n",
      "흥도식당\n",
      "돈가스\n",
      "서울 강동구 진황도로 123 광남캐스빌아파트201 1층 103호\n",
      "주문 유형 3\n",
      "흑카츠정식(특수부위)\n",
      "100시간이상 숙성시킨 특수부위 돈카츠(등심 + 가브리 살) 소량 한정메뉴\n",
      "리뷰 존재\n",
      "음식이 맛있어요\n",
      "혼밥하기 좋아요\n",
      "재료가 신선해요\n",
      "양이 많아요\n",
      "특별한 메뉴가 있어요\n",
      "['흥도식당'] ...완료\n",
      "[데이터 수집 완료]\n",
      "소요 시간 : 13.411201000213623 \n",
      "\n",
      "69번째 가게\n"
     ]
    },
    {
     "name": "stderr",
     "output_type": "stream",
     "text": [
      "The chromedriver version (128.0.6613.137) detected in PATH at c:\\Users\\kk21\\Desktop\\TRIPER\\chromedriver.exe might not be compatible with the detected chrome version (129.0.6668.101); currently, chromedriver 129.0.6668.100 is recommended for chrome 129.*, so it is advised to delete the driver in PATH and retry\n"
     ]
    },
    {
     "name": "stdout",
     "output_type": "stream",
     "text": [
      "https://map.naver.com/p/search/%EA%B0%95%EB%8F%99%EA%B5%AC%20%EC%9A%A9%EB%AC%B8%EC%B9%BC%EA%B5%AD%EC%88%98?c=15.00,0,0,0,dh\n",
      "결과 여러 개 존재(지점 또는 근접 지역)\n",
      "\n",
      "[크롤링 시작...]\n",
      "용문칼국수\n",
      "칼국수,만두\n",
      "서울 강동구 상일로5길 10 1층 용문칼국수\n",
      "주문 유형 3\n",
      "칼국수\n",
      "메뉴 설명 없음\n",
      "리뷰 존재\n",
      "음식이 맛있어요\n",
      "양이 많아요\n",
      "친절해요\n",
      "재료가 신선해요\n",
      "매장이 청결해요\n",
      "['용문칼국수'] ...완료\n",
      "[데이터 수집 완료]\n",
      "소요 시간 : 13.422276735305786 \n",
      "\n",
      "70번째 가게\n"
     ]
    },
    {
     "name": "stderr",
     "output_type": "stream",
     "text": [
      "The chromedriver version (128.0.6613.137) detected in PATH at c:\\Users\\kk21\\Desktop\\TRIPER\\chromedriver.exe might not be compatible with the detected chrome version (129.0.6668.101); currently, chromedriver 129.0.6668.100 is recommended for chrome 129.*, so it is advised to delete the driver in PATH and retry\n"
     ]
    },
    {
     "name": "stdout",
     "output_type": "stream",
     "text": [
      "https://map.naver.com/p/search/%EA%B0%95%EB%8F%99%EA%B5%AC%20%EC%AD%88%EA%BE%B8%EB%AF%B8%EB%8F%84%EC%82%AC%20%EC%B2%9C%ED%98%B8%EB%B3%B8%EC%A0%90?c=15.00,0,0,0,dh\n",
      "결과 여러 개 존재(지점 또는 근접 지역)\n",
      "\n",
      "[크롤링 시작...]\n",
      "쭈꾸미도사 천호본점\n",
      "주꾸미요리\n",
      "서울 강동구 천호대로158길 9 1층\n",
      "주문 유형 3\n",
      "쭈곱새\n",
      "이제는 낙곱새 말고 쭈곱새~ 맛있는 양념쭈꾸미+대창+새우 구성\n",
      "리뷰 존재\n",
      "음식이 맛있어요\n",
      "친절해요\n",
      "재료가 신선해요\n",
      "매장이 청결해요\n",
      "특별한 메뉴가 있어요\n",
      "['쭈꾸미도사 천호본점'] ...완료\n",
      "[데이터 수집 완료]\n",
      "소요 시간 : 13.431241273880005 \n",
      "\n",
      "71번째 가게\n"
     ]
    },
    {
     "name": "stderr",
     "output_type": "stream",
     "text": [
      "The chromedriver version (128.0.6613.137) detected in PATH at c:\\Users\\kk21\\Desktop\\TRIPER\\chromedriver.exe might not be compatible with the detected chrome version (129.0.6668.101); currently, chromedriver 129.0.6668.100 is recommended for chrome 129.*, so it is advised to delete the driver in PATH and retry\n"
     ]
    },
    {
     "name": "stdout",
     "output_type": "stream",
     "text": [
      "https://map.naver.com/p/search/%EA%B0%95%EB%8F%99%EA%B5%AC%20%EB%8B%AC%EC%9D%B8%ED%95%B4%EC%9E%A5%EA%B5%AD?c=15.00,0,0,0,dh\n",
      "결과 여러 개 존재(지점 또는 근접 지역)\n",
      "가게 없음\n",
      "72번째 가게\n"
     ]
    },
    {
     "name": "stderr",
     "output_type": "stream",
     "text": [
      "The chromedriver version (128.0.6613.137) detected in PATH at c:\\Users\\kk21\\Desktop\\TRIPER\\chromedriver.exe might not be compatible with the detected chrome version (129.0.6668.101); currently, chromedriver 129.0.6668.100 is recommended for chrome 129.*, so it is advised to delete the driver in PATH and retry\n"
     ]
    },
    {
     "name": "stdout",
     "output_type": "stream",
     "text": [
      "https://map.naver.com/p/search/%EA%B0%95%EB%8F%99%EA%B5%AC%20%EC%B9%B4%ED%8E%98%EC%A0%9C%EC%9D%B4?c=15.00,0,0,0,dh\n",
      "결과 여러 개 존재(지점 또는 근접 지역)\n",
      "\n",
      "[크롤링 시작...]\n",
      "카페제이\n",
      "카페,디저트\n",
      "서울 강동구 동남로82길 19\n",
      "주문 유형 3\n",
      "맛보면 재주문100%) 프렌치 잠봉뵈르\n",
      "정통사워도우바게트+소금집 잠봉+프랑스AOP고메버터+할라피뇨\n",
      "리뷰 존재\n",
      "음료가 맛있어요\n",
      "디저트가 맛있어요\n",
      "특별한 메뉴가 있어요\n",
      "친절해요\n",
      "커피가 맛있어요\n",
      "['카페제이'] ...완료\n",
      "[데이터 수집 완료]\n",
      "소요 시간 : 13.417549133300781 \n",
      "\n",
      "73번째 가게\n"
     ]
    },
    {
     "name": "stderr",
     "output_type": "stream",
     "text": [
      "The chromedriver version (128.0.6613.137) detected in PATH at c:\\Users\\kk21\\Desktop\\TRIPER\\chromedriver.exe might not be compatible with the detected chrome version (129.0.6668.101); currently, chromedriver 129.0.6668.100 is recommended for chrome 129.*, so it is advised to delete the driver in PATH and retry\n"
     ]
    },
    {
     "name": "stdout",
     "output_type": "stream",
     "text": [
      "https://map.naver.com/p/search/%EA%B0%95%EB%8F%99%EA%B5%AC%20%EC%83%A4%EB%B8%8C%EB%A1%9C21%20%EC%B2%9C%ED%98%B8?c=15.00,0,0,0,dh\n",
      "결과 여러 개 존재(지점 또는 근접 지역)\n",
      "\n",
      "[크롤링 시작...]\n",
      "샤브로21 천호\n",
      "샤브샤브\n",
      "서울 강동구 올림픽로70길 29 2층\n",
      "주문 유형 3\n",
      "샤브로21 샤브샤브\n",
      "가쓰오부시 베이스의 담백하고 개운한 샤브로21의 대표 샤브샤브\n",
      "리뷰 존재\n",
      "음식이 맛있어요\n",
      "재료가 신선해요\n",
      "친절해요\n",
      "가성비가 좋아요\n",
      "혼밥하기 좋아요\n",
      "['샤브로21 천호'] ...완료\n",
      "[데이터 수집 완료]\n",
      "소요 시간 : 13.42220950126648 \n",
      "\n",
      "74번째 가게\n"
     ]
    },
    {
     "name": "stderr",
     "output_type": "stream",
     "text": [
      "The chromedriver version (128.0.6613.137) detected in PATH at c:\\Users\\kk21\\Desktop\\TRIPER\\chromedriver.exe might not be compatible with the detected chrome version (129.0.6668.101); currently, chromedriver 129.0.6668.100 is recommended for chrome 129.*, so it is advised to delete the driver in PATH and retry\n"
     ]
    },
    {
     "name": "stdout",
     "output_type": "stream",
     "text": [
      "https://map.naver.com/p/search/%EA%B0%95%EB%8F%99%EA%B5%AC%20%ED%9B%84%EB%91%A5%EA%BC%AC%EC%B9%98%EA%B5%AC%EC%9D%B4/place/1409635447?c=15.00,0,0,0,dh&isCorrectAnswer=true\n",
      "결과 한 개\n",
      "\n",
      "[크롤링 시작...]\n",
      "오리총재 후둥꼬치구이\n",
      "양꼬치\n",
      "서울 강동구 천호대로158길 9 2층\n",
      "주문 유형 3\n",
      "오리총재 오리머리구이\n",
      "양꼬치-양어깨살 굽기전 이미지입니다.\n",
      "리뷰 존재\n",
      "음식이 맛있어요\n",
      "고기 질이 좋아요\n",
      "친절해요\n",
      "양이 많아요\n",
      "인테리어가 멋져요\n",
      "['오리총재 후둥꼬치구이'] ...완료\n",
      "[데이터 수집 완료]\n",
      "소요 시간 : 13.471522808074951 \n",
      "\n",
      "75번째 가게\n"
     ]
    },
    {
     "name": "stderr",
     "output_type": "stream",
     "text": [
      "The chromedriver version (128.0.6613.137) detected in PATH at c:\\Users\\kk21\\Desktop\\TRIPER\\chromedriver.exe might not be compatible with the detected chrome version (129.0.6668.101); currently, chromedriver 129.0.6668.100 is recommended for chrome 129.*, so it is advised to delete the driver in PATH and retry\n"
     ]
    },
    {
     "name": "stdout",
     "output_type": "stream",
     "text": [
      "https://map.naver.com/p/search/%EA%B0%95%EB%8F%99%EA%B5%AC%20%EC%88%98%EB%9D%BC%EC%97%B0?c=15.00,0,0,0,dh\n",
      "결과 여러 개 존재(지점 또는 근접 지역)\n",
      "가게 없음\n",
      "76번째 가게\n"
     ]
    },
    {
     "name": "stderr",
     "output_type": "stream",
     "text": [
      "The chromedriver version (128.0.6613.137) detected in PATH at c:\\Users\\kk21\\Desktop\\TRIPER\\chromedriver.exe might not be compatible with the detected chrome version (129.0.6668.101); currently, chromedriver 129.0.6668.100 is recommended for chrome 129.*, so it is advised to delete the driver in PATH and retry\n"
     ]
    },
    {
     "name": "stdout",
     "output_type": "stream",
     "text": [
      "https://map.naver.com/p/search/%EA%B0%95%EB%8F%99%EA%B5%AC%20119%EB%8B%AD%EB%B0%9C%20%EC%B2%9C%ED%98%B8%EB%B3%B8%EC%A0%90/place/13528642?c=15.00,0,0,0,dh&isCorrectAnswer=true\n",
      "결과 한 개\n",
      "\n",
      "[크롤링 시작...]\n",
      "119닭발 천호본점\n",
      "닭발\n",
      "서울 강동구 천중로 73\n",
      "주문 유형 3\n",
      "대표 메뉴 없음\n",
      "메뉴 설명 없음\n",
      "오류 예외 처리\n",
      "77번째 가게\n"
     ]
    },
    {
     "name": "stderr",
     "output_type": "stream",
     "text": [
      "The chromedriver version (128.0.6613.137) detected in PATH at c:\\Users\\kk21\\Desktop\\TRIPER\\chromedriver.exe might not be compatible with the detected chrome version (129.0.6668.101); currently, chromedriver 129.0.6668.100 is recommended for chrome 129.*, so it is advised to delete the driver in PATH and retry\n"
     ]
    },
    {
     "name": "stdout",
     "output_type": "stream",
     "text": [
      "https://map.naver.com/p/search/%EA%B0%95%EB%8F%99%EA%B5%AC%20%EC%88%9F%EA%B0%80%EB%9D%BD%EB%B0%98%EC%83%81%20%EB%A7%88%EC%8B%A4%20%EA%B0%95%EB%8F%99%EC%A0%90/place/36547066?c=15.00,0,0,0,dh&isCorrectAnswer=true\n",
      "결과 한 개\n",
      "\n",
      "[크롤링 시작...]\n",
      "숟가락반상 마실 강동점\n",
      "한정식\n",
      "서울 강동구 동남로73길 31 한국4H회관 2층 마실한정식\n",
      "주문 유형 3\n",
      "기본정식\n",
      "계절 상차림을 즐길 수 있는 메뉴입니다. #주요리 - 약선보쌈\n",
      "리뷰 존재\n",
      "음식이 맛있어요\n",
      "단체모임 하기 좋아요\n",
      "재료가 신선해요\n",
      "가성비가 좋아요\n",
      "친절해요\n",
      "['숟가락반상 마실 강동점'] ...완료\n",
      "[데이터 수집 완료]\n",
      "소요 시간 : 13.411766290664673 \n",
      "\n",
      "78번째 가게\n"
     ]
    },
    {
     "name": "stderr",
     "output_type": "stream",
     "text": [
      "The chromedriver version (128.0.6613.137) detected in PATH at c:\\Users\\kk21\\Desktop\\TRIPER\\chromedriver.exe might not be compatible with the detected chrome version (129.0.6668.101); currently, chromedriver 129.0.6668.100 is recommended for chrome 129.*, so it is advised to delete the driver in PATH and retry\n"
     ]
    },
    {
     "name": "stdout",
     "output_type": "stream",
     "text": [
      "https://map.naver.com/p/search/%EA%B0%95%EB%8F%99%EA%B5%AC%20%EB%AA%85%EC%9D%BC%EC%9B%90%EC%A1%B0%EB%8B%AD%EB%B0%9C/place/11711086?c=15.00,0,0,0,dh&isCorrectAnswer=true\n",
      "결과 한 개\n",
      "\n",
      "[크롤링 시작...]\n",
      "명일원조닭발\n",
      "닭발\n",
      "서울 강동구 상암로47길 86\n",
      "주문 유형 3\n",
      "원조닭발 큰거\n",
      "3-4인분이 먹기적당한 양. 45년 전통의 명일닭발 대표메뉴. 적당히 맵고 달콤\n",
      "리뷰 존재\n",
      "음식이 맛있어요\n",
      "친절해요\n",
      "가성비가 좋아요\n",
      "특별한 메뉴가 있어요\n",
      "양이 많아요\n",
      "['명일원조닭발'] ...완료\n",
      "[데이터 수집 완료]\n",
      "소요 시간 : 13.463351726531982 \n",
      "\n",
      "79번째 가게\n"
     ]
    },
    {
     "name": "stderr",
     "output_type": "stream",
     "text": [
      "The chromedriver version (128.0.6613.137) detected in PATH at c:\\Users\\kk21\\Desktop\\TRIPER\\chromedriver.exe might not be compatible with the detected chrome version (129.0.6668.101); currently, chromedriver 129.0.6668.100 is recommended for chrome 129.*, so it is advised to delete the driver in PATH and retry\n"
     ]
    },
    {
     "name": "stdout",
     "output_type": "stream",
     "text": [
      "https://map.naver.com/p/search/%EA%B0%95%EB%8F%99%EA%B5%AC%20%EC%9E%87%EC%B8%A0?c=15.00,0,0,0,dh\n",
      "결과 여러 개 존재(지점 또는 근접 지역)\n",
      "\n",
      "[크롤링 시작...]\n",
      "잇츠\n",
      "양식\n",
      "서울 강동구 고덕로 52 대원아파트\n",
      "주문 유형 3\n",
      "날치알새우로제(매콤)\n",
      "블루치즈의 공급이 원활치않아 당분간 다른치즈로 대체합니다.\n",
      "리뷰 존재\n",
      "음식이 맛있어요\n",
      "친절해요\n",
      "가성비가 좋아요\n",
      "재료가 신선해요\n",
      "매장이 청결해요\n",
      "['잇츠'] ...완료\n",
      "[데이터 수집 완료]\n",
      "소요 시간 : 13.458137512207031 \n",
      "\n",
      "80번째 가게\n"
     ]
    },
    {
     "name": "stderr",
     "output_type": "stream",
     "text": [
      "The chromedriver version (128.0.6613.137) detected in PATH at c:\\Users\\kk21\\Desktop\\TRIPER\\chromedriver.exe might not be compatible with the detected chrome version (129.0.6668.101); currently, chromedriver 129.0.6668.100 is recommended for chrome 129.*, so it is advised to delete the driver in PATH and retry\n"
     ]
    },
    {
     "name": "stdout",
     "output_type": "stream",
     "text": [
      "https://map.naver.com/p/search/%EA%B0%95%EB%8F%99%EA%B5%AC%208%EB%B2%88%EA%B0%80?c=15.00,0,0,0,dh\n",
      "결과 여러 개 존재(지점 또는 근접 지역)\n",
      "\n",
      "[크롤링 시작...]\n",
      "8번가\n",
      "맥주,호프\n",
      "서울 강동구 천호대로157길 18 원방빌딩 3층\n",
      "주문 유형 3\n",
      "8번가빠네치킨\n",
      "8번가의 대표메뉴, 로제소스와 치킨의 조화와 치즈가 듬뿍 들어있는 빵을 함께 드실 수 있는 메뉴\n",
      "리뷰 존재\n",
      "음식이 맛있어요\n",
      "대화하기 좋아요\n",
      "기본 안주가 좋아요\n",
      "술이 다양해요\n",
      "인테리어가 멋져요\n",
      "['8번가'] ...완료\n",
      "[데이터 수집 완료]\n",
      "소요 시간 : 13.40165638923645 \n",
      "\n",
      "81번째 가게\n"
     ]
    },
    {
     "name": "stderr",
     "output_type": "stream",
     "text": [
      "The chromedriver version (128.0.6613.137) detected in PATH at c:\\Users\\kk21\\Desktop\\TRIPER\\chromedriver.exe might not be compatible with the detected chrome version (129.0.6668.101); currently, chromedriver 129.0.6668.100 is recommended for chrome 129.*, so it is advised to delete the driver in PATH and retry\n"
     ]
    },
    {
     "name": "stdout",
     "output_type": "stream",
     "text": [
      "https://map.naver.com/p/search/%EA%B0%95%EB%8F%99%EA%B5%AC%20%ED%97%A4%EB%A5%B4%EC%B8%A0%EB%A1%9C%EA%B7%B8/place/1976143426?c=15.00,0,0,0,dh&isCorrectAnswer=true\n",
      "결과 한 개\n",
      "\n",
      "[크롤링 시작...]\n",
      "헤르츠로그\n",
      "카페\n",
      "서울 강동구 천호옛길 57 연재빌딩 1층 101호\n",
      "주문 유형 3\n",
      "헤르츠 에이드\n",
      "향긋한 캐모마일티와 수제 레몬청, 허브로 이루어진 헤르츠 로그만의 음료입니다^^\n",
      "리뷰 존재\n",
      "디저트가 맛있어요\n",
      "친절해요\n",
      "특별한 메뉴가 있어요\n",
      "커피가 맛있어요\n",
      "음료가 맛있어요\n",
      "['헤르츠로그'] ...완료\n",
      "[데이터 수집 완료]\n",
      "소요 시간 : 13.393106460571289 \n",
      "\n",
      "82번째 가게\n"
     ]
    },
    {
     "name": "stderr",
     "output_type": "stream",
     "text": [
      "The chromedriver version (128.0.6613.137) detected in PATH at c:\\Users\\kk21\\Desktop\\TRIPER\\chromedriver.exe might not be compatible with the detected chrome version (129.0.6668.101); currently, chromedriver 129.0.6668.100 is recommended for chrome 129.*, so it is advised to delete the driver in PATH and retry\n"
     ]
    },
    {
     "name": "stdout",
     "output_type": "stream",
     "text": [
      "https://map.naver.com/p/search/%EA%B0%95%EB%8F%99%EA%B5%AC%20%EC%95%94%EC%82%AC%20%ED%95%B4%EC%9E%A5%EA%B5%AD?c=14.00,0,0,0,dh\n",
      "결과 여러 개 존재(지점 또는 근접 지역)\n",
      "\n",
      "[크롤링 시작...]\n",
      "암사고바우감자탕\n",
      "감자탕\n",
      "서울 강동구 올림픽로 812\n",
      "주문 유형 3\n",
      "뼈다귀탕\n",
      "장시간 물어 담거 핏물을빼고 푹끓여 부드러운 살고기와 구수한 들깨로 맛 칼칼한맛과 구수한맛이 일품은 해장국\n",
      "리뷰 존재\n",
      "음식이 맛있어요\n",
      "양이 많아요\n",
      "친절해요\n",
      "가성비가 좋아요\n",
      "재료가 신선해요\n",
      "['암사고바우감자탕'] ...완료\n",
      "[데이터 수집 완료]\n",
      "소요 시간 : 13.41345500946045 \n",
      "\n",
      "./out_food_review/out_24_food.csv완료\n"
     ]
    }
   ],
   "source": [
    "\n",
    "regions = [\"종로구\", \"중구\", \"용산구\", \"성동구\", \"광진구\", \"동대문구\", \"중랑구\", \"성북구\", \"강북구\", \"도봉구\", \"노원구\", \"은평구\", \"서대문구\", \"마포구\", \"양천구\", \n",
    "           \"강서구\", \"구로구\", \"금천구\", \"영등포구\", \"동작구\", \"관악구\", \"서초구\", \"강남구\", \"송파구\", \"강동구\"]\n",
    "\n",
    "#len(regions)\n",
    "for i in range(15, len(regions)):\n",
    "    tmp = DataFrame(columns = ['가게명', '가게 유형', '가게 주소', '메뉴 이름', '메뉴 설명', '리뷰1', '리뷰2', '리뷰3', '리뷰4', '리뷰5'])\n",
    "    filename = \"./out_food/out_\" + str(i) + \"_food.csv\"\n",
    "    df = read_csv(filename, header = None)\n",
    "    df.columns = ['가게명', '별점']\n",
    "    \n",
    "    #43, len(df)\n",
    "    for j in range( len(df)):\n",
    "        tp = df.loc[j]['가게명']\n",
    "        key = regions[i] + \" \" + tp\n",
    "        print(str(j) + \"번째 가게\")\n",
    "        \n",
    "        data = search_food(key)\n",
    "        \n",
    "        result2 = concat([tmp, data], ignore_index = True)\n",
    "        tmp = result2\n",
    "\n",
    "    #파일 저장\n",
    "    filename = \"./out_food_review/out_\" + str(i) + \"_food.csv\"\n",
    "    tmp.to_csv(filename, header = None, index = False)\n",
    "    print(filename + \"완료\")\n"
   ]
  },
  {
   "cell_type": "code",
   "execution_count": 77,
   "metadata": {},
   "outputs": [
    {
     "name": "stdout",
     "output_type": "stream",
     "text": [
      "15\n",
      "19\n"
     ]
    }
   ],
   "source": [
    "#지금 번호 확인\n",
    "print(i)\n",
    "print(j)"
   ]
  },
  {
   "cell_type": "code",
   "execution_count": 67,
   "metadata": {},
   "outputs": [
    {
     "data": {
      "text/plain": [
       "22"
      ]
     },
     "execution_count": 67,
     "metadata": {},
     "output_type": "execute_result"
    }
   ],
   "source": [
    "# # 합쳐야 할 때 맨 처음 한 번만 실행 \n",
    "# 지역 4 건너 뜀\n",
    "ex = tmp.copy()\n",
    "len(ex)\n",
    "#ex"
   ]
  },
  {
   "cell_type": "code",
   "execution_count": 69,
   "metadata": {},
   "outputs": [
    {
     "data": {
      "text/plain": [
       "71"
      ]
     },
     "execution_count": 69,
     "metadata": {},
     "output_type": "execute_result"
    }
   ],
   "source": [
    "ex2 = tmp.copy()\n",
    "len(ex2)"
   ]
  },
  {
   "cell_type": "code",
   "execution_count": 70,
   "metadata": {},
   "outputs": [
    {
     "data": {
      "text/plain": [
       "93"
      ]
     },
     "execution_count": 70,
     "metadata": {},
     "output_type": "execute_result"
    }
   ],
   "source": [
    "import pandas as pd\n",
    "tmp_df = pd.concat([ex,ex2], axis=0, ignore_index=True)\n",
    "#tmp_df[-3:]\n",
    "len(tmp_df)"
   ]
  },
  {
   "cell_type": "code",
   "execution_count": 72,
   "metadata": {},
   "outputs": [
    {
     "data": {
      "text/plain": [
       "93"
      ]
     },
     "execution_count": 72,
     "metadata": {},
     "output_type": "execute_result"
    }
   ],
   "source": [
    "ex = tmp_df.copy()\n",
    "len(ex)"
   ]
  },
  {
   "cell_type": "code",
   "execution_count": 73,
   "metadata": {},
   "outputs": [
    {
     "name": "stdout",
     "output_type": "stream",
     "text": [
      "./out_food_review/out_8_food.csv완료\n"
     ]
    }
   ],
   "source": [
    "filename = \"./out_food_review/out_\" + str(8) + \"_food.csv\"\n",
    "ex.to_csv(filename, header = None, index = False)\n",
    "print(filename + \"완료\")"
   ]
  },
  {
   "cell_type": "code",
   "execution_count": null,
   "metadata": {},
   "outputs": [],
   "source": []
  }
 ],
 "metadata": {
  "kernelspec": {
   "display_name": "Python 3",
   "language": "python",
   "name": "python3"
  },
  "language_info": {
   "codemirror_mode": {
    "name": "ipython",
    "version": 3
   },
   "file_extension": ".py",
   "mimetype": "text/x-python",
   "name": "python",
   "nbconvert_exporter": "python",
   "pygments_lexer": "ipython3",
   "version": "3.8.6"
  }
 },
 "nbformat": 4,
 "nbformat_minor": 2
}
