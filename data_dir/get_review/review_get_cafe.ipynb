{
 "cells": [
  {
   "cell_type": "code",
   "execution_count": 2,
   "metadata": {},
   "outputs": [],
   "source": [
    "import json\n",
    "import time\n",
    "from time import sleep\n",
    "import csv\n",
    "from selenium import webdriver\n",
    "from selenium.webdriver.common.by import By\n",
    "from selenium.webdriver.common.keys import Keys\n",
    "from selenium.webdriver.support import expected_conditions as EC\n",
    "from selenium.webdriver.support.ui import WebDriverWait\n",
    "from pandas import *"
   ]
  },
  {
   "cell_type": "code",
   "execution_count": 3,
   "metadata": {},
   "outputs": [],
   "source": [
    "#가게 이름, 가게 유형, 주소, 대표 메뉴 1개, 메뉴 설명, 리뷰 5개\n",
    "def search_food(key):\n",
    "    \n",
    "    food_list = []\n",
    "    \n",
    "    url = 'https://map.naver.com/v5/search'\n",
    "    driver = webdriver.Chrome()  # 드라이버 경로\n",
    "    # driver = webdriver.Chrome('./chromedriver',chrome_options=options) # 크롬창 숨기기\n",
    "    driver.get(url)\n",
    "    key_word = key  # 검색어\n",
    "\n",
    "    # css 찾을때 까지 10초대기\n",
    "    def time_wait(num, code):\n",
    "        try:\n",
    "            wait = WebDriverWait(driver, num).until(\n",
    "                EC.presence_of_element_located((By.CSS_SELECTOR, code)))\n",
    "        except:\n",
    "            print(code, '태그를 찾지 못하였습니다.')\n",
    "            driver.quit()\n",
    "        return wait\n",
    "\n",
    "    # frame 변경 메소드\n",
    "    def switch_frame(frame):\n",
    "        driver.switch_to.default_content()  # frame 초기화\"\n",
    "        driver.switch_to.frame(frame)  # frame 변경\n",
    "\n",
    "    # 페이지 다운\n",
    "    def page_down(num):\n",
    "        body = driver.find_element(By.CSS_SELECTOR, 'body')\n",
    "        body.click()\n",
    "        for i in range(num):\n",
    "            body.send_keys(Keys.PAGE_DOWN)\n",
    "\n",
    "    # css를 찾을때 까지 10초 대기\n",
    "    time_wait(10, 'div.input_box > input.input_search')\n",
    "\n",
    "    # (1) 검색창 찾기\n",
    "    search = driver.find_element(By.CSS_SELECTOR, 'div.input_box > input.input_search')\n",
    "    search.send_keys(key_word)  # 검색어 입력\n",
    "    search.send_keys(Keys.ENTER)  # 엔터버튼 누르기\n",
    "\n",
    "    sleep(5)\n",
    "    \n",
    "    url_str = driver.current_url\n",
    "    if url_str.find(\"isCorrectAnswer\") == -1:\n",
    "        print(url_str)\n",
    "        print(\"결과 여러 개 존재(지점 또는 근접 지역)\")\n",
    "        \n",
    "        search = driver.find_elements(By.ID, \"searchIframe\")\n",
    "        # frame 변경\n",
    "        switch_frame('searchIframe')\n",
    "        sleep(2)\n",
    "    \n",
    "        #검색 결과 없음\n",
    "        place_none = driver.find_elements(By.CSS_SELECTOR, '.FYvSc')\n",
    "        \n",
    "        for i in range(len(place_none)):\n",
    "            if place_none[i].text == \"조건에 맞는 업체가 없습니다.\":\n",
    "                tmp = DataFrame({'가게명': \"-\", '가게 유형' :\"-\", '가게 주소': \"-\",\n",
    "                        '메뉴 이름':\"-\", '메뉴 설명' : \"-\", \"리뷰1\": \"-\", \"리뷰2\": \"-\", \"리뷰3\": \"-\", \"리뷰4\": \"-\",\"리뷰5\": \"-\"}, index = [0])\n",
    "                print(\"가게 없음\")\n",
    "                return tmp\n",
    "        \n",
    "        tmp_shop = driver.find_elements(By.CSS_SELECTOR, '.YwYLL')\n",
    "        if tmp_shop == []:\n",
    "            tmp_shop = driver.find_elements(By.CSS_SELECTOR, '.place_bluelink')\n",
    "        tmp_shop[0].click()\n",
    "        \n",
    "        sleep(5)\n",
    "    \n",
    "    else:\n",
    "        print(url_str)\n",
    "        print(\"결과 한 개\")\n",
    "    \n",
    "    # (2) frame 변경\n",
    "    switch_frame('entryIframe')\n",
    "    #page_down(40)\n",
    "    sleep(2)\n",
    "\n",
    "    # 시작시간\n",
    "    start = time.time()\n",
    "    print('\\n[크롤링 시작...]')\n",
    "    \n",
    "    shop_name = []\n",
    "    shop_type = []\n",
    "    shop_address = []\n",
    "    menu_name = []\n",
    "    menu_story = []\n",
    "    review_1 = []\n",
    "    review_2 = []\n",
    "    review_3 = []\n",
    "    review_4 = []\n",
    "    review_5 = []\n",
    "    \n",
    "\n",
    "    #가게 이름\n",
    "    names = driver.find_elements(By.CSS_SELECTOR, '.GHAhO')  # (3) 장소명\n",
    "    shop_name.append(names[0].text)\n",
    "    print(names[0].text)\n",
    "    \n",
    "    #가게 타입\n",
    "    types = driver.find_elements(By.CSS_SELECTOR, '.lnJFt')  # (4) 장소 유형\n",
    "    shop_type.append(types[0].text)\n",
    "    print(types[0].text)\n",
    "    \n",
    "    #가게 주소\n",
    "    address = driver.find_elements(By.CSS_SELECTOR, '.LDgIH') # (5) 주소\n",
    "    shop_address.append(address[0].text)\n",
    "    print(address[0].text)\n",
    "    \n",
    "    #버튼 정의\n",
    "    home_list = driver.find_elements(By.CSS_SELECTOR, \".veBoZ\") # (6) 리뷰\n",
    "    \n",
    "    #잠시 대기\n",
    "    sleep(3)\n",
    "    \n",
    "    #배달 포장 여부\n",
    "    order = driver.find_elements(By.XPATH, '/html/body/div[3]/div/div/div/div[2]/div[4]/div')\n",
    "    order2 = driver.find_elements(By.XPATH, '//*[@id=\"app-root\"]/div/div/div/div[2]/div[4]/div/span/a')\n",
    "    \n",
    "    #print(order2)\n",
    "    #print(order[0].text)\n",
    "    if order[0].text == \"주문준비중\" or order[0].text == \"주문\\n배달\" or order[0].text == \"예약\\n주문준비중\" or order[0].text == \"예약\\n주문\":\n",
    "        order_result = 1 #배달 포장 가능\n",
    "        print(\"주문 유형 1\")\n",
    "        \n",
    "    elif (len(order2) != 0) and (order2[0].text == \"주문\"):\n",
    "        order_result = 1 #배달 포장 가능\n",
    "        print(\"주문 유형 2\")\n",
    "        \n",
    "    else:\n",
    "        order_result = 0 #배달 포장 불가능\n",
    "        print(\"주문 유형 3\")\n",
    "    \n",
    "    #메뉴 버튼 클릭\n",
    "    for k in range(len(home_list)):\n",
    "        if home_list[k].text == \"메뉴\":\n",
    "            #print(home_list[k].text)\n",
    "            home_list[k].click()\n",
    "            sleep(3)\n",
    "            break\n",
    "        else:\n",
    "            continue\n",
    "    \n",
    "    #배달 불가\n",
    "    if order_result == 0:\n",
    "        #상위 메뉴 1개 이름\n",
    "        #print(menu_name)\n",
    "        \n",
    "        menu_btn_1 = driver.find_elements(By.CSS_SELECTOR, \".lPzHi\") # (6-1) 메뉴\n",
    "        \n",
    "        if menu_btn_1 == []:\n",
    "            menu_name.append(\"\")\n",
    "            print(\"대표 메뉴 없음\")\n",
    "        else: \n",
    "            menu_name.append(menu_btn_1[0].text)\n",
    "            print(menu_btn_1[0].text)\n",
    "\n",
    "        #메뉴 설명\n",
    "        menu_btn_2 = driver.find_elements(By.CSS_SELECTOR, \".kPogF\") # (6-2) 메뉴 설명\n",
    "        if menu_btn_2 == []:\n",
    "            menu_story.append(\"\")\n",
    "            print(\"메뉴 설명 없음\")\n",
    "            \n",
    "        else:\n",
    "            menu_story.append(menu_btn_2[0].text)\n",
    "            print(menu_btn_2[0].text)\n",
    "        \n",
    "        sleep(3)\n",
    "        \n",
    "        \n",
    "        #리뷰 버튼 클릭\n",
    "        #메뉴 버튼 클릭\n",
    "        for k in range(len(home_list)):\n",
    "            if home_list[k].text == \"리뷰\":\n",
    "                home_list[k].click()\n",
    "                sleep(3)\n",
    "                break\n",
    "            else:\n",
    "                continue\n",
    "        \n",
    "    #배달 가능\n",
    "    else:\n",
    "        sleep(3)\n",
    "        #상위 메뉴 1개 이름\n",
    "        #box = driver.find_elements(By.CSS_SELECTOR, \".info_detail\")\n",
    "        \n",
    "        menu_btn_1 = driver.find_elements(By.CSS_SELECTOR, \".tit\") # (6-1) 메뉴\n",
    "        #print(menu_btn_1)\n",
    "        menu_name.append(menu_btn_1[0].text)\n",
    "        print(menu_btn_1[0].text)\n",
    "        \n",
    "        #메뉴 설명\n",
    "        menu_btn_2 = driver.find_elements(By.CSS_SELECTOR, \".detail_txt\") # (6-2) 메뉴 설명\n",
    "        if menu_btn_2 == []:\n",
    "            menu_story.append(\"\")\n",
    "            print(\"메뉴 설명 없음\")\n",
    "            \n",
    "        else:\n",
    "            menu_story.append(menu_btn_2[0].text)\n",
    "            print(menu_btn_2[0].text)\n",
    "        \n",
    "        sleep(3)\n",
    "        \n",
    "        #리뷰 버튼 클릭\n",
    "        #메뉴 버튼 클릭\n",
    "        home_review_list = driver.find_elements(By.CSS_SELECTOR, '.txt')\n",
    "        for k in range(len(home_review_list)):\n",
    "            if home_review_list[k].text == \"리뷰\":\n",
    "                home_review_list[k].click()\n",
    "                sleep(3)\n",
    "                break\n",
    "            else:\n",
    "                continue\n",
    "    \n",
    "    #리뷰 찾기\n",
    "    review_btn = driver.find_elements(By.CSS_SELECTOR, \".t3JSf\") # (7) 리뷰\n",
    "    \n",
    "    #이런 점이 좋았어요\n",
    "    review_love = driver.find_elements(By.CSS_SELECTOR, \".place_section_header_title\")\n",
    "\n",
    "\n",
    "    \n",
    "    review_love_yes = 0\n",
    "    for i in range(len(review_love)):\n",
    "        if review_love[i].text == \"이런 점이 좋았어요\\n안내\":\n",
    "            review_love_yes = 1\n",
    "            print(\"리뷰 존재\")\n",
    "            break\n",
    "        else:\n",
    "             continue\n",
    "             \n",
    "    \n",
    "    if review_love_yes == 0:\n",
    "        tmp = DataFrame({'가게명': \"-\", '가게 유형' :\"-\", '가게 주소': \"-\",\n",
    "                    '메뉴 이름':\"-\", '메뉴 설명' : \"-\", \"리뷰1\": \"-\", \"리뷰2\": \"-\", \"리뷰3\": \"-\", \"리뷰4\": \"-\",\"리뷰5\": \"-\"}, index = [0])\n",
    "    \n",
    "    else:\n",
    "        \n",
    "        num_10_none = driver.find_elements(By.CSS_SELECTOR, \".zXXsw\")\n",
    "        \n",
    "        if num_10_none != []:\n",
    "            if num_10_none[0].text == \"10명 이상 참여하면\\n방문 키워드 통계가 공개됩니다!\":\n",
    "                print(\"리뷰 10명 이하 참여\")\n",
    "                tmp = DataFrame({'가게명': \"-\", '가게 유형' :\"-\", '가게 주소': \"-\",\n",
    "                        '메뉴 이름':\"-\", '메뉴 설명' : \"-\", \"리뷰1\": \"-\", \"리뷰2\": \"-\", \"리뷰3\": \"-\", \"리뷰4\": \"-\",\"리뷰5\": \"-\"}, index = [0])\n",
    "            \n",
    "        #리뷰 10명 이하 참여\n",
    "        #if num_10_none[0].text == \"10명 이상 참여하면\\n방문 키워드 통계가 공개됩니다!\":\n",
    "        #    tmp = DataFrame({'가게명': \"-\", '가게 유형' :\"-\", '가게 주소': \"-\",\n",
    "        #            '메뉴 이름':\"-\", '메뉴 설명' : \"-\", \"리뷰1\": \"-\", \"리뷰2\": \"-\", \"리뷰3\": \"-\", \"리뷰4\": \"-\",\"리뷰5\": \"-\"}, index = [0])\n",
    "        \n",
    "        #리뷰 10명 이상 참여\n",
    "        else:\n",
    "            #리뷰 1\n",
    "            real_review = review_btn[0].text.split('\"')\n",
    "            review_1.append(real_review[1])\n",
    "            print(real_review[1])\n",
    "            #리뷰 2\n",
    "            real_review = review_btn[1].text.split('\"')\n",
    "            review_2.append(real_review[1])\n",
    "            print(real_review[1])\n",
    "            #리뷰 3\n",
    "            real_review = review_btn[2].text.split('\"')\n",
    "            review_3.append(real_review[1])\n",
    "            print(real_review[1])\n",
    "            #리뷰 4\n",
    "            real_review = review_btn[3].text.split('\"')\n",
    "            review_4.append(real_review[1])\n",
    "            print(real_review[1])\n",
    "            #리뷰 5\n",
    "            real_review = review_btn[4].text.split('\"')\n",
    "            review_5.append(real_review[1])\n",
    "            print(real_review[1])\n",
    "        \n",
    "            tmp = DataFrame({'가게명': shop_name, '가게 유형' :shop_type, '가게 주소': shop_address,\n",
    "                            '메뉴 이름':menu_name, '메뉴 설명' : menu_story, \"리뷰1\": review_1, \"리뷰2\": review_2, \"리뷰3\": review_3, \"리뷰4\": review_4,\"리뷰5\": review_5})\n",
    "\n",
    "    print(f'{shop_name} ...완료')\n",
    "\n",
    "    sleep(1)\n",
    "\n",
    "    print('[데이터 수집 완료]\\n소요 시간 :', time.time() - start, \"\\n\")\n",
    "    driver.quit()  # 작업이 끝나면 창을 닫는다.\n",
    "    \n",
    "    return tmp"
   ]
  },
  {
   "cell_type": "code",
   "execution_count": 260,
   "metadata": {},
   "outputs": [
    {
     "name": "stdout",
     "output_type": "stream",
     "text": [
      "62번째 가게\n"
     ]
    },
    {
     "name": "stderr",
     "output_type": "stream",
     "text": [
      "The chromedriver version (128.0.6613.137) detected in PATH at c:\\Users\\kk21\\Desktop\\TRIPER\\chromedriver.exe might not be compatible with the detected chrome version (129.0.6668.101); currently, chromedriver 129.0.6668.100 is recommended for chrome 129.*, so it is advised to delete the driver in PATH and retry\n"
     ]
    },
    {
     "name": "stdout",
     "output_type": "stream",
     "text": [
      "https://map.naver.com/p/search/%EA%B0%95%EB%8F%99%EA%B5%AC%20%EC%BC%80%ED%82%A4%EB%8F%84%EB%A6%AC/place/1925928850?c=15.00,0,0,0,dh&isCorrectAnswer=true\n",
      "결과 한 개\n",
      "\n",
      "[크롤링 시작...]\n",
      "케키도리\n",
      "케이크전문\n",
      "서울 강동구 구천면로18길 28 1층\n",
      "주문 유형 2\n",
      "도시락 케이크대표\n",
      "속크림:생크림 겉크림:생크림&크림치즈\n",
      "리뷰 존재\n",
      "리뷰 10명 이하 참여\n",
      "['케키도리'] ...완료\n",
      "[데이터 수집 완료]\n",
      "소요 시간 : 19.71349811553955 \n",
      "\n",
      "63번째 가게\n"
     ]
    },
    {
     "name": "stderr",
     "output_type": "stream",
     "text": [
      "The chromedriver version (128.0.6613.137) detected in PATH at c:\\Users\\kk21\\Desktop\\TRIPER\\chromedriver.exe might not be compatible with the detected chrome version (129.0.6668.101); currently, chromedriver 129.0.6668.100 is recommended for chrome 129.*, so it is advised to delete the driver in PATH and retry\n"
     ]
    },
    {
     "name": "stdout",
     "output_type": "stream",
     "text": [
      "https://map.naver.com/p/search/%EA%B0%95%EB%8F%99%EA%B5%AC%20%EC%BB%A4%ED%94%BC%EB%B9%88%20%ED%98%84%EB%8C%80%EC%9E%90%EB%8F%99%EC%B0%A8%EC%84%B1%EB%82%B4%EC%A0%90?c=15.00,0,0,0,dh\n",
      "결과 여러 개 존재(지점 또는 근접 지역)\n",
      "\n",
      "[크롤링 시작...]\n",
      "커피빈 현대자동차성내점\n",
      "카페\n",
      "서울 강동구 천호대로 1096\n",
      "주문 유형 2\n",
      "얼그레이 크림 초콜릿 라떼 (S)N\n",
      "얼그레이의 향긋한 베르가못 향과 네덜란드 코코아의 깊고 진한 초콜릿의 풍미가 조화로운 음료. 얼그레이가 콕콕 박혀있는 크림이 포인트!\n",
      "리뷰 존재\n",
      "커피가 맛있어요\n",
      "음료가 맛있어요\n",
      "대화하기 좋아요\n",
      "친절해요\n",
      "매장이 청결해요\n",
      "['커피빈 현대자동차성내점'] ...완료\n",
      "[데이터 수집 완료]\n",
      "소요 시간 : 19.24469780921936 \n",
      "\n",
      "64번째 가게\n"
     ]
    },
    {
     "name": "stderr",
     "output_type": "stream",
     "text": [
      "The chromedriver version (128.0.6613.137) detected in PATH at c:\\Users\\kk21\\Desktop\\TRIPER\\chromedriver.exe might not be compatible with the detected chrome version (129.0.6668.101); currently, chromedriver 129.0.6668.100 is recommended for chrome 129.*, so it is advised to delete the driver in PATH and retry\n"
     ]
    },
    {
     "name": "stdout",
     "output_type": "stream",
     "text": [
      "https://map.naver.com/p/search/%EA%B0%95%EB%8F%99%EA%B5%AC%20%ED%95%98%EB%A3%A8%EB%85%B8%EC%9C%A0%ED%82%A4/place/30811760?c=15.00,0,0,0,dh&isCorrectAnswer=true\n",
      "결과 한 개\n",
      "\n",
      "[크롤링 시작...]\n",
      "하루노유키\n",
      "베이커리\n",
      "서울 강동구 강동대로53길 31 1층\n",
      "주문 유형 3\n",
      "멜론 크림 소다\n",
      "아이스크림이 듬뿍 올라간 상큼한 멜론소다\n",
      "리뷰 존재\n",
      "빵이 맛있어요\n",
      "친절해요\n",
      "특별한 메뉴가 있어요\n",
      "커피가 맛있어요\n",
      "음료가 맛있어요\n",
      "['하루노유키'] ...완료\n",
      "[데이터 수집 완료]\n",
      "소요 시간 : 13.402703523635864 \n",
      "\n",
      "65번째 가게\n"
     ]
    },
    {
     "name": "stderr",
     "output_type": "stream",
     "text": [
      "The chromedriver version (128.0.6613.137) detected in PATH at c:\\Users\\kk21\\Desktop\\TRIPER\\chromedriver.exe might not be compatible with the detected chrome version (129.0.6668.101); currently, chromedriver 129.0.6668.100 is recommended for chrome 129.*, so it is advised to delete the driver in PATH and retry\n"
     ]
    },
    {
     "name": "stdout",
     "output_type": "stream",
     "text": [
      "https://map.naver.com/p/search/%EA%B0%95%EB%8F%99%EA%B5%AC%20%EB%9F%AC%EB%B8%8C%EC%98%AC%EB%94%94%EC%A0%80%ED%8A%B8?c=15.00,0,0,0,dh\n",
      "결과 여러 개 존재(지점 또는 근접 지역)\n",
      "가게 없음\n",
      "66번째 가게\n"
     ]
    },
    {
     "name": "stderr",
     "output_type": "stream",
     "text": [
      "The chromedriver version (128.0.6613.137) detected in PATH at c:\\Users\\kk21\\Desktop\\TRIPER\\chromedriver.exe might not be compatible with the detected chrome version (129.0.6668.101); currently, chromedriver 129.0.6668.100 is recommended for chrome 129.*, so it is advised to delete the driver in PATH and retry\n"
     ]
    },
    {
     "name": "stdout",
     "output_type": "stream",
     "text": [
      "https://map.naver.com/p/search/%EA%B0%95%EB%8F%99%EA%B5%AC%20%EC%8C%80%EB%A1%9C%EC%83%81%ED%9A%8C/place/1105178894?c=15.00,0,0,0,dh&isCorrectAnswer=true\n",
      "결과 한 개\n",
      "\n",
      "[크롤링 시작...]\n",
      "쌀로상회\n",
      "카페,디저트\n",
      "서울 강동구 동남로81길 92 1층 102호\n",
      "주문 유형 3\n",
      "쌀베이글_허니버터\n",
      "현미쌀 _베이글\n",
      "리뷰 존재\n",
      "리뷰 10명 이하 참여\n",
      "['쌀로상회'] ...완료\n",
      "[데이터 수집 완료]\n",
      "소요 시간 : 13.404775381088257 \n",
      "\n",
      "67번째 가게\n"
     ]
    },
    {
     "name": "stderr",
     "output_type": "stream",
     "text": [
      "The chromedriver version (128.0.6613.137) detected in PATH at c:\\Users\\kk21\\Desktop\\TRIPER\\chromedriver.exe might not be compatible with the detected chrome version (129.0.6668.101); currently, chromedriver 129.0.6668.100 is recommended for chrome 129.*, so it is advised to delete the driver in PATH and retry\n"
     ]
    },
    {
     "name": "stdout",
     "output_type": "stream",
     "text": [
      "https://map.naver.com/p/search/%EA%B0%95%EB%8F%99%EA%B5%AC%20%ED%85%8C%EB%A5%B4%ED%85%8C%EB%A5%B4?c=15.00,0,0,0,dh\n",
      "결과 여러 개 존재(지점 또는 근접 지역)\n",
      "\n",
      "[크롤링 시작...]\n",
      "테르테르\n",
      "카페,디저트\n",
      "서울 강동구 동남로85길 76 1층\n",
      "주문 유형 3\n",
      "테르라떼(only ice)\n",
      "고소한 아몬드 밀크와 에스프레소 위 부드러운 크림이 올라간 시그니처 메뉴\n",
      "리뷰 존재\n",
      "커피가 맛있어요\n",
      "인테리어가 멋져요\n",
      "디저트가 맛있어요\n",
      "친절해요\n",
      "음료가 맛있어요\n",
      "['테르테르'] ...완료\n",
      "[데이터 수집 완료]\n",
      "소요 시간 : 13.480956554412842 \n",
      "\n",
      "68번째 가게\n"
     ]
    },
    {
     "name": "stderr",
     "output_type": "stream",
     "text": [
      "The chromedriver version (128.0.6613.137) detected in PATH at c:\\Users\\kk21\\Desktop\\TRIPER\\chromedriver.exe might not be compatible with the detected chrome version (129.0.6668.101); currently, chromedriver 129.0.6668.100 is recommended for chrome 129.*, so it is advised to delete the driver in PATH and retry\n"
     ]
    },
    {
     "name": "stdout",
     "output_type": "stream",
     "text": [
      "https://map.naver.com/p/search/%EA%B0%95%EB%8F%99%EA%B5%AC%20%EC%9D%B4%EB%94%94%EC%95%BC%EC%BB%A4%ED%94%BC%20%EC%98%AC%EB%A6%BC%ED%94%BD%EB%B6%81%EB%AC%B8%EC%A0%90?c=15.00,0,0,0,dh\n",
      "결과 여러 개 존재(지점 또는 근접 지역)\n",
      "\n",
      "[크롤링 시작...]\n",
      "이디야커피 올림픽북문점\n",
      "카페\n",
      "서울 강동구 성안로 7 강림빌딩\n",
      "주문 유형 2\n",
      "(L)ICED 미니펄 밀크티N\n",
      "홍차의 향긋한 풍미를 느낄 수 있는 밀크티와 쫀득한 식감의 미니펄을 함께 즐길 수 있는 음료\n",
      "리뷰 존재\n",
      "커피가 맛있어요\n",
      "음료가 맛있어요\n",
      "친절해요\n",
      "가성비가 좋아요\n",
      "디저트가 맛있어요\n",
      "['이디야커피 올림픽북문점'] ...완료\n",
      "[데이터 수집 완료]\n",
      "소요 시간 : 20.03066658973694 \n",
      "\n",
      "69번째 가게\n"
     ]
    },
    {
     "name": "stderr",
     "output_type": "stream",
     "text": [
      "The chromedriver version (128.0.6613.137) detected in PATH at c:\\Users\\kk21\\Desktop\\TRIPER\\chromedriver.exe might not be compatible with the detected chrome version (129.0.6668.101); currently, chromedriver 129.0.6668.100 is recommended for chrome 129.*, so it is advised to delete the driver in PATH and retry\n"
     ]
    },
    {
     "name": "stdout",
     "output_type": "stream",
     "text": [
      "https://map.naver.com/p/search/%EA%B0%95%EB%8F%99%EA%B5%AC%20%EB%A7%A4%EB%93%9C%EB%B2%A0%EC%9D%B4%EC%BB%A4%EB%A6%AC/place/1717558745?isCorrectAnswer=true&c=15.00,0,0,0,dh\n",
      "결과 한 개\n",
      "\n",
      "[크롤링 시작...]\n",
      "매드베이커리\n",
      "베이커리\n",
      "서울 강동구 강동대로55길 10 1층\n",
      "주문 유형 3\n",
      "소금빵\n",
      "소금빵\n",
      "리뷰 존재\n",
      "빵이 맛있어요\n",
      "커피가 맛있어요\n",
      "인테리어가 멋져요\n",
      "매장이 청결해요\n",
      "음료가 맛있어요\n",
      "['매드베이커리'] ...완료\n",
      "[데이터 수집 완료]\n",
      "소요 시간 : 13.438031435012817 \n",
      "\n",
      "70번째 가게\n"
     ]
    },
    {
     "name": "stderr",
     "output_type": "stream",
     "text": [
      "The chromedriver version (128.0.6613.137) detected in PATH at c:\\Users\\kk21\\Desktop\\TRIPER\\chromedriver.exe might not be compatible with the detected chrome version (129.0.6668.101); currently, chromedriver 129.0.6668.100 is recommended for chrome 129.*, so it is advised to delete the driver in PATH and retry\n"
     ]
    },
    {
     "name": "stdout",
     "output_type": "stream",
     "text": [
      "https://map.naver.com/p/search/%EA%B0%95%EB%8F%99%EA%B5%AC%20%EB%B0%94%EB%B9%88%EC%8A%A4%EC%BB%A4%ED%94%BC%20%EC%95%94%EC%82%AC%EC%A0%90?c=15.00,0,0,0,dh\n",
      "결과 여러 개 존재(지점 또는 근접 지역)\n",
      "\n",
      "[크롤링 시작...]\n",
      "바빈스커피 암사점\n",
      "카페\n",
      "서울 강동구 고덕로 89 1층\n",
      "주문 유형 3\n",
      "아메리카노 HOT\n",
      "스페셜티 블랜딩, 2샷의 깊고 진한 아메리카노를 맛보세요!\n",
      "리뷰 존재\n",
      "커피가 맛있어요\n",
      "가성비가 좋아요\n",
      "디저트가 맛있어요\n",
      "음료가 맛있어요\n",
      "친절해요\n",
      "['바빈스커피 암사점'] ...완료\n",
      "[데이터 수집 완료]\n",
      "소요 시간 : 13.41420602798462 \n",
      "\n",
      "71번째 가게\n"
     ]
    },
    {
     "name": "stderr",
     "output_type": "stream",
     "text": [
      "The chromedriver version (128.0.6613.137) detected in PATH at c:\\Users\\kk21\\Desktop\\TRIPER\\chromedriver.exe might not be compatible with the detected chrome version (129.0.6668.101); currently, chromedriver 129.0.6668.100 is recommended for chrome 129.*, so it is advised to delete the driver in PATH and retry\n"
     ]
    },
    {
     "name": "stdout",
     "output_type": "stream",
     "text": [
      "https://map.naver.com/p/search/%EA%B0%95%EB%8F%99%EA%B5%AC%20%ED%88%AC%EC%8D%B8%ED%94%8C%EB%A0%88%EC%9D%B4%EC%8A%A4%20%EC%95%94%EC%82%AC%EC%97%AD%EC%A0%90?c=15.00,0,0,0,dh\n",
      "결과 여러 개 존재(지점 또는 근접 지역)\n",
      "\n",
      "[크롤링 시작...]\n",
      "투썸플레이스 암사역점\n",
      "카페\n",
      "서울 강동구 올림픽로 778 2층\n",
      "주문 유형 3\n",
      "아메리카노\n",
      "메뉴 설명 없음\n",
      "리뷰 존재\n",
      "커피가 맛있어요\n",
      "디저트가 맛있어요\n",
      "음료가 맛있어요\n",
      "친절해요\n",
      "매장이 청결해요\n",
      "['투썸플레이스 암사역점'] ...완료\n",
      "[데이터 수집 완료]\n",
      "소요 시간 : 13.414905548095703 \n",
      "\n",
      "72번째 가게\n"
     ]
    },
    {
     "name": "stderr",
     "output_type": "stream",
     "text": [
      "The chromedriver version (128.0.6613.137) detected in PATH at c:\\Users\\kk21\\Desktop\\TRIPER\\chromedriver.exe might not be compatible with the detected chrome version (129.0.6668.101); currently, chromedriver 129.0.6668.100 is recommended for chrome 129.*, so it is advised to delete the driver in PATH and retry\n"
     ]
    },
    {
     "name": "stdout",
     "output_type": "stream",
     "text": [
      "https://map.naver.com/p/search/%EA%B0%95%EB%8F%99%EA%B5%AC%20%EB%B0%B0%EC%8A%A4%ED%82%A8%EB%9D%BC%EB%B9%88%EC%8A%A4%20%EC%B2%9C%ED%98%B8%EB%A1%9C%EB%8D%B0%EC%98%A4%EC%A0%90?c=15.00,0,0,0,dh\n",
      "결과 여러 개 존재(지점 또는 근접 지역)\n",
      "\n",
      "[크롤링 시작...]\n",
      "배스킨라빈스 천호로데오점\n",
      "아이스크림\n",
      "서울 강동구 천호대로 1027\n",
      "주문 유형 1\n",
      "패밀리\n",
      "5가지 맛의 아이스크림이 선택 가능한 패밀리 사이즈!\n",
      "리뷰 존재\n",
      "디저트가 맛있어요\n",
      "친절해요\n",
      "매장이 청결해요\n",
      "특별한 메뉴가 있어요\n",
      "음료가 맛있어요\n",
      "['배스킨라빈스 천호로데오점'] ...완료\n",
      "[데이터 수집 완료]\n",
      "소요 시간 : 19.55471134185791 \n",
      "\n",
      "73번째 가게\n"
     ]
    },
    {
     "name": "stderr",
     "output_type": "stream",
     "text": [
      "The chromedriver version (128.0.6613.137) detected in PATH at c:\\Users\\kk21\\Desktop\\TRIPER\\chromedriver.exe might not be compatible with the detected chrome version (129.0.6668.101); currently, chromedriver 129.0.6668.100 is recommended for chrome 129.*, so it is advised to delete the driver in PATH and retry\n"
     ]
    },
    {
     "name": "stdout",
     "output_type": "stream",
     "text": [
      "https://map.naver.com/p/search/%EA%B0%95%EB%8F%99%EA%B5%AC%20%ED%8B%B0%EC%95%A4%EB%B8%94%EB%9D%BC%EC%8D%B8/place/1465075670?c=15.00,0,0,0,dh&isCorrectAnswer=true\n",
      "결과 한 개\n",
      "\n",
      "[크롤링 시작...]\n",
      "티앤블라썸\n",
      "카페,디저트\n",
      "서울 강동구 올림픽로 624 7층 티앤블라썸\n",
      "주문 유형 3\n",
      "장미에이드\n",
      "국내산 유기농 식용장미로 만든 에이드\n",
      "리뷰 존재\n",
      "디저트가 맛있어요\n",
      "뷰가 좋아요\n",
      "인테리어가 멋져요\n",
      "음료가 맛있어요\n",
      "친절해요\n",
      "['티앤블라썸'] ...완료\n",
      "[데이터 수집 완료]\n",
      "소요 시간 : 13.444978713989258 \n",
      "\n",
      "74번째 가게\n"
     ]
    },
    {
     "name": "stderr",
     "output_type": "stream",
     "text": [
      "The chromedriver version (128.0.6613.137) detected in PATH at c:\\Users\\kk21\\Desktop\\TRIPER\\chromedriver.exe might not be compatible with the detected chrome version (129.0.6668.101); currently, chromedriver 129.0.6668.100 is recommended for chrome 129.*, so it is advised to delete the driver in PATH and retry\n"
     ]
    },
    {
     "name": "stdout",
     "output_type": "stream",
     "text": [
      "https://map.naver.com/p/search/%EA%B0%95%EB%8F%99%EA%B5%AC%20%EA%B2%BD%EC%84%B1%EB%B9%B5%EA%B3%B5%EC%9E%A5%20%EC%98%AC%EB%A6%BC%ED%94%BD%EA%B3%B5%EC%9B%90%EC%A0%90/place/1474969007?c=15.00,0,0,0,dh&isCorrectAnswer=true\n",
      "결과 한 개\n",
      "\n",
      "[크롤링 시작...]\n",
      "경성빵공장 올림픽공원점\n",
      "베이커리\n",
      "서울 강동구 강동대로53길 18 1층 경성빵공장 올림픽공원점\n",
      "주문 유형 3\n",
      "경성 밀크티\n",
      "SIGNATURE TEA\n",
      "리뷰 존재\n",
      "빵이 맛있어요\n",
      "친절해요\n",
      "매장이 청결해요\n",
      "커피가 맛있어요\n",
      "특별한 메뉴가 있어요\n",
      "['경성빵공장 올림픽공원점'] ...완료\n",
      "[데이터 수집 완료]\n",
      "소요 시간 : 13.387125492095947 \n",
      "\n",
      "75번째 가게\n"
     ]
    },
    {
     "name": "stderr",
     "output_type": "stream",
     "text": [
      "The chromedriver version (128.0.6613.137) detected in PATH at c:\\Users\\kk21\\Desktop\\TRIPER\\chromedriver.exe might not be compatible with the detected chrome version (129.0.6668.101); currently, chromedriver 129.0.6668.100 is recommended for chrome 129.*, so it is advised to delete the driver in PATH and retry\n"
     ]
    },
    {
     "name": "stdout",
     "output_type": "stream",
     "text": [
      "https://map.naver.com/p/search/%EA%B0%95%EB%8F%99%EA%B5%AC%20%EC%8A%A4%EC%9C%97%ED%8B%B0%ED%81%B4%EC%8A%A4%20%EB%B0%80%ED%81%AC%ED%8B%B0&%EB%A7%88%EC%B9%B4%EB%A1%B1/place/1749623360?c=15.00,0,0,0,dh&isCorrectAnswer=true\n",
      "결과 한 개\n",
      "\n",
      "[크롤링 시작...]\n",
      "스윗티클스 밀크티&마카롱\n",
      "카페,디저트\n",
      "서울 강동구 성내로3길 36 스윗티클스\n",
      "주문 유형 1\n",
      "(이*윤 님)개인결제창\n",
      "12구 X 100세트\n",
      "리뷰 존재\n",
      "디저트가 맛있어요\n",
      "친절해요\n",
      "특별한 메뉴가 있어요\n",
      "매장이 청결해요\n",
      "커피가 맛있어요\n",
      "['스윗티클스 밀크티&마카롱'] ...완료\n",
      "[데이터 수집 완료]\n",
      "소요 시간 : 18.30885338783264 \n",
      "\n",
      "76번째 가게\n"
     ]
    },
    {
     "name": "stderr",
     "output_type": "stream",
     "text": [
      "The chromedriver version (128.0.6613.137) detected in PATH at c:\\Users\\kk21\\Desktop\\TRIPER\\chromedriver.exe might not be compatible with the detected chrome version (129.0.6668.101); currently, chromedriver 129.0.6668.100 is recommended for chrome 129.*, so it is advised to delete the driver in PATH and retry\n"
     ]
    },
    {
     "name": "stdout",
     "output_type": "stream",
     "text": [
      "https://map.naver.com/p/search/%EA%B0%95%EB%8F%99%EA%B5%AC%20%EC%95%88%EB%8B%A4%EB%AF%B8%EB%A1%9C%20%ED%8C%AC%EC%BC%80%EC%9D%B4%ED%81%AC%20%EC%B2%9C%ED%98%B8%EC%A0%90/place/1268106213?c=15.00,0,0,0,dh&isCorrectAnswer=true\n",
      "결과 한 개\n",
      "\n",
      "[크롤링 시작...]\n",
      "안다미로 팬케이크 천호\n",
      "카페,디저트\n",
      "서울 강동구 천호옛14길 40 2층\n",
      "주문 유형 3\n",
      "안다미로 수플레\n",
      "제철과일과 함께 즐기는 안다미로의 시그니쳐 수플레 팬케이크\n",
      "리뷰 존재\n",
      "디저트가 맛있어요\n",
      "인테리어가 멋져요\n",
      "커피가 맛있어요\n",
      "음료가 맛있어요\n",
      "대화하기 좋아요\n",
      "['안다미로 팬케이크 천호'] ...완료\n",
      "[데이터 수집 완료]\n",
      "소요 시간 : 13.424135446548462 \n",
      "\n",
      "77번째 가게\n"
     ]
    },
    {
     "name": "stderr",
     "output_type": "stream",
     "text": [
      "The chromedriver version (128.0.6613.137) detected in PATH at c:\\Users\\kk21\\Desktop\\TRIPER\\chromedriver.exe might not be compatible with the detected chrome version (129.0.6668.101); currently, chromedriver 129.0.6668.100 is recommended for chrome 129.*, so it is advised to delete the driver in PATH and retry\n"
     ]
    },
    {
     "name": "stdout",
     "output_type": "stream",
     "text": [
      "https://map.naver.com/p/search/%EA%B0%95%EB%8F%99%EA%B5%AC%20%EC%B9%B4%ED%8E%98%20%EB%A7%A5%EA%B7%B8%EB%A0%88%EA%B3%A0%EB%A5%B4?c=15.00,0,0,0,dh\n",
      "결과 여러 개 존재(지점 또는 근접 지역)\n",
      "가게 없음\n",
      "./out_cafe_review/out_24_cafe.csv완료\n"
     ]
    }
   ],
   "source": [
    "\n",
    "regions = [\"종로구\", \"중구\", \"용산구\", \"성동구\", \"광진구\", \"동대문구\", \"중랑구\", \"성북구\", \"강북구\", \"도봉구\", \"노원구\", \"은평구\", \"서대문구\", \"마포구\", \"양천구\", \n",
    "           \"강서구\", \"구로구\", \"금천구\", \"영등포구\", \"동작구\", \"관악구\", \"서초구\", \"강남구\", \"송파구\", \"강동구\"]\n",
    "\n",
    "#len(regions)\n",
    "for i in range(24, len(regions)):\n",
    "    tmp = DataFrame(columns = ['가게명', '가게 유형', '가게 주소', '메뉴 이름', '메뉴 설명', '리뷰1', '리뷰2', '리뷰3', '리뷰4', '리뷰5'])\n",
    "    filename = \"./out_cafe/out_\" + str(i) + \"_cafe.csv\"\n",
    "    df = read_csv(filename, header = None)\n",
    "    df.columns = ['가게명', '별점']\n",
    "    \n",
    "    #43, len(df)\n",
    "    for j in range(62, len(df)):\n",
    "        tp = df.loc[j]['가게명']\n",
    "        key = regions[i] + \" \" + tp\n",
    "        print(str(j) + \"번째 가게\")\n",
    "        \n",
    "        data = search_food(key)\n",
    "        \n",
    "        result2 = concat([tmp, data], ignore_index = True)\n",
    "        tmp = result2\n",
    "\n",
    "    #파일 저장\n",
    "    filename = \"./out_cafe_review/out_\" + str(i) + \"_cafe.csv\"\n",
    "    tmp.to_csv(filename, header = None, index = False)\n",
    "    print(filename + \"완료\")\n"
   ]
  },
  {
   "cell_type": "code",
   "execution_count": 256,
   "metadata": {},
   "outputs": [
    {
     "name": "stdout",
     "output_type": "stream",
     "text": [
      "24\n",
      "61\n"
     ]
    }
   ],
   "source": [
    "#지금 번호 확인\n",
    "print(i)\n",
    "print(j)"
   ]
  },
  {
   "cell_type": "code",
   "execution_count": 247,
   "metadata": {},
   "outputs": [
    {
     "data": {
      "text/plain": [
       "18"
      ]
     },
     "execution_count": 247,
     "metadata": {},
     "output_type": "execute_result"
    }
   ],
   "source": [
    "# # 합쳐야 할 때 맨 처음 한 번만 실행 \n",
    "# 지역 4 건너 뜀\n",
    "ex = tmp.copy()\n",
    "len(ex)\n",
    "#ex"
   ]
  },
  {
   "cell_type": "code",
   "execution_count": 261,
   "metadata": {},
   "outputs": [
    {
     "data": {
      "text/plain": [
       "16"
      ]
     },
     "execution_count": 261,
     "metadata": {},
     "output_type": "execute_result"
    }
   ],
   "source": [
    "ex2 = tmp.copy()\n",
    "len(ex2)"
   ]
  },
  {
   "cell_type": "code",
   "execution_count": 262,
   "metadata": {},
   "outputs": [
    {
     "data": {
      "text/plain": [
       "74"
      ]
     },
     "execution_count": 262,
     "metadata": {},
     "output_type": "execute_result"
    }
   ],
   "source": [
    "import pandas as pd\n",
    "tmp_df = pd.concat([ex,ex2], axis=0, ignore_index=True)\n",
    "#tmp_df[-3:]\n",
    "len(tmp_df)"
   ]
  },
  {
   "cell_type": "code",
   "execution_count": 263,
   "metadata": {},
   "outputs": [
    {
     "data": {
      "text/plain": [
       "74"
      ]
     },
     "execution_count": 263,
     "metadata": {},
     "output_type": "execute_result"
    }
   ],
   "source": [
    "ex = tmp_df.copy()\n",
    "len(ex)"
   ]
  },
  {
   "cell_type": "code",
   "execution_count": 264,
   "metadata": {},
   "outputs": [
    {
     "name": "stdout",
     "output_type": "stream",
     "text": [
      "./out_cafe_review/out_24_cafe.csv완료\n"
     ]
    }
   ],
   "source": [
    "#파일 저장\n",
    "filename = \"./out_cafe_review/out_\" + str(24) + \"_cafe.csv\"\n",
    "ex.to_csv(filename, header = None, index = False)\n",
    "print(filename + \"완료\")"
   ]
  },
  {
   "cell_type": "code",
   "execution_count": null,
   "metadata": {},
   "outputs": [],
   "source": []
  }
 ],
 "metadata": {
  "kernelspec": {
   "display_name": "Python 3",
   "language": "python",
   "name": "python3"
  },
  "language_info": {
   "codemirror_mode": {
    "name": "ipython",
    "version": 3
   },
   "file_extension": ".py",
   "mimetype": "text/x-python",
   "name": "python",
   "nbconvert_exporter": "python",
   "pygments_lexer": "ipython3",
   "version": "3.8.6"
  }
 },
 "nbformat": 4,
 "nbformat_minor": 2
}
